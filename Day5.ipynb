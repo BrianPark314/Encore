{
 "cells": [
  {
   "cell_type": "code",
   "execution_count": 1,
   "id": "615b0def-ee2c-4114-b011-c10fd3032c26",
   "metadata": {},
   "outputs": [
    {
     "name": "stdin",
     "output_type": "stream",
     "text": [
      "자연수를 하나 입려하세요. 10\n"
     ]
    },
    {
     "name": "stdout",
     "output_type": "stream",
     "text": [
      "1 2 3 4 5 6 7 8 9 10 1 2 3 4 5 6 7 8 9 10 "
     ]
    }
   ],
   "source": [
    "n = int(input(\"자연수를 하나 입려하세요.\"))\n",
    "\n",
    "for i in range(n):\n",
    "    print(i+1, end=' ')\n",
    "k = 0\n",
    "while(k<n):\n",
    "    print(k+1, end=' ')\n",
    "    k += 1\n"
   ]
  },
  {
   "cell_type": "code",
   "execution_count": 3,
   "id": "6841db91-9129-4fa5-b4e8-c9e0aabbb5cf",
   "metadata": {},
   "outputs": [
    {
     "name": "stdout",
     "output_type": "stream",
     "text": [
      "79.0\n"
     ]
    }
   ],
   "source": [
    "class_a = (70, 60, 55, 75, 95, 90, 80, 80, 85, 100)\n",
    "\n",
    "i = 0\n",
    "ans = 0\n",
    "while(i<len(class_a)):\n",
    "    ans += class_a[i]\n",
    "    i += 1\n",
    "print(ans/len(class_a))"
   ]
  },
  {
   "cell_type": "code",
   "execution_count": 6,
   "id": "609c8b6f-3bec-4d07-96cd-03a109692b3c",
   "metadata": {},
   "outputs": [
    {
     "name": "stdin",
     "output_type": "stream",
     "text": [
      "자연수를 하나 입려하세요. 12\n"
     ]
    },
    {
     "name": "stdout",
     "output_type": "stream",
     "text": [
      "78\n"
     ]
    }
   ],
   "source": [
    "n = int(input(\"자연수를 하나 입려하세요.\"))\n",
    "\n",
    "i = 1\n",
    "ans = 0\n",
    "while True:\n",
    "    if i>n:\n",
    "        break;\n",
    "    ans += i\n",
    "    i += 1\n",
    "\n",
    "print(ans)"
   ]
  },
  {
   "cell_type": "code",
   "execution_count": 8,
   "id": "63156de3-da25-4502-a5c4-be902466babb",
   "metadata": {},
   "outputs": [
    {
     "name": "stdin",
     "output_type": "stream",
     "text": [
      "시작과 끝 정수를 입력하세요. 10, 12\n"
     ]
    },
    {
     "name": "stdout",
     "output_type": "stream",
     "text": [
      "33\n"
     ]
    }
   ],
   "source": [
    "n, m = map(int, input('시작과 끝 정수를 입력하세요.').split(','))\n",
    "sum1 = 0\n",
    "for i in range(n, m+1):\n",
    "    sum1 += i\n",
    "print(sum1)"
   ]
  },
  {
   "cell_type": "code",
   "execution_count": 10,
   "id": "53d249f8-5e59-4021-b2c7-a417fb3f5ad8",
   "metadata": {},
   "outputs": [
    {
     "name": "stdout",
     "output_type": "stream",
     "text": [
      "<class 'dict'>\n",
      "{'key': 'value'}\n"
     ]
    }
   ],
   "source": [
    "#Dictionary type은 비 시퀀스 자료형이다. 인덱스를 갖지 않는 대신 고유한 key-value pairing을 통해 정보를 저장한다.\n",
    "#{}중괄호를 사용해서 생성할 수 있다.\n",
    "\n",
    "dic = {\"key\" : \"value\"}\n",
    "\n",
    "print(type(dic))\n",
    "print(dic)"
   ]
  },
  {
   "cell_type": "code",
   "execution_count": 13,
   "id": "e775b79c-518d-46a0-b532-e423de4a420f",
   "metadata": {},
   "outputs": [
    {
     "name": "stdout",
     "output_type": "stream",
     "text": [
      "{'key': 'value2'}\n"
     ]
    }
   ],
   "source": [
    "#dictionary에서 key는 중복해서 존재할 수 없다. 중복해서 넣게 되면 가장 최신 value만 저장된다.\n",
    "\n",
    "dic = {\"key\":\"value\", \"key\":\"value2\"}\n",
    "print(dic)"
   ]
  },
  {
   "cell_type": "code",
   "execution_count": 14,
   "id": "f62f155c-3995-4276-89d0-7f2a9fc77335",
   "metadata": {},
   "outputs": [],
   "source": [
    "#key에는 str, int, float, bool , tuple(hashable)을 사용할 수 있다. 또한 여러 자료형을 동시에 사용해도 된다.\n",
    "#단 list, dictionary, set은 key로 사용할 수 없다."
   ]
  },
  {
   "cell_type": "code",
   "execution_count": 15,
   "id": "55eb34bd-ed2b-4c5d-9d3e-1a4e0eddc312",
   "metadata": {},
   "outputs": [],
   "source": [
    "#value에는 모든 자료형을 사용할 수 있다."
   ]
  },
  {
   "cell_type": "code",
   "execution_count": 16,
   "id": "f4c5cbb8-7cc2-4302-aa37-bc44e1ee24e3",
   "metadata": {},
   "outputs": [],
   "source": [
    "#키와 값 한 쌍을 갖는 시퀀스 객체를 요소로 갖는 객체를 생성하여 딕셔너리로 만들 수 있다.\n",
    "dic = dict([(\"key\", \"value\"),(\"key2\", \"value2\")])"
   ]
  },
  {
   "cell_type": "code",
   "execution_count": 18,
   "id": "ac4cdb60-e7af-4cf2-a3e6-7b31f947231d",
   "metadata": {},
   "outputs": [
    {
     "name": "stdout",
     "output_type": "stream",
     "text": [
      "{'a': 1, 'b': 2, 'c': 3}\n"
     ]
    }
   ],
   "source": [
    "#그러므로 zip()을 이용해 키와 값 한 쌍을 갖는 튜플을 요소로 갖는 객체로 딕셔너리 자료형을 생성할 수 있다.\n",
    "dic = dict(zip([\"a\", \"b\", \"c\"],[1, 2, 3]))\n",
    "print(dic)"
   ]
  },
  {
   "cell_type": "code",
   "execution_count": 19,
   "id": "d5b264ac-d75b-41b1-a678-8dc5a3b8cf6c",
   "metadata": {},
   "outputs": [],
   "source": [
    "#.values()로 dictionary의 value 값을 시퀀스로 액세스할 수 있다."
   ]
  },
  {
   "cell_type": "code",
   "execution_count": 23,
   "id": "eacb13cb-ad7f-44de-a5a5-7b00beb530dc",
   "metadata": {},
   "outputs": [
    {
     "name": "stdin",
     "output_type": "stream",
     "text": [
      "과일 이름을 입력하세요. 바나나\n"
     ]
    },
    {
     "name": "stdout",
     "output_type": "stream",
     "text": [
      "바나나의 가격은 700원입니다.\n"
     ]
    }
   ],
   "source": [
    "r  = input(\"과일 이름을 입력하세요.\")\n",
    "\n",
    "dic = dict(zip([\"사과\", \"바나나\", \"오렌지\", \"파인애플\"],[1000, 700, 1500, 2000]))\n",
    "\n",
    "print(f\"{r}의 가격은 {dic[r]}원입니다.\")"
   ]
  },
  {
   "cell_type": "code",
   "execution_count": 27,
   "id": "f362ce46-423c-40be-9a79-289fa4767c28",
   "metadata": {},
   "outputs": [
    {
     "name": "stdin",
     "output_type": "stream",
     "text": [
      "이름을 기입해주세요. 음 오 아 예\n",
      "몸무게를 입력해주세요. 10 20 30 40\n"
     ]
    },
    {
     "name": "stdout",
     "output_type": "stream",
     "text": [
      "{'음': 10.0, '오': 20.0, '아': 30.0, '예': 40.0}\n"
     ]
    }
   ],
   "source": [
    "name = input(\"이름을 기입해주세요.\").split(' ')\n",
    "w = map(float, input(\"몸무게를 입력해주세요.\").split(' '))\n",
    "\n",
    "dic = dict(zip(name, w)) #list로 map을 변환할 필요 없이 iterable이므로 dict안에 활용 가능\n",
    "print(dic)"
   ]
  },
  {
   "cell_type": "code",
   "execution_count": 31,
   "id": "6defd4b0-f9bc-4589-935a-24cdf8ead536",
   "metadata": {},
   "outputs": [
    {
     "name": "stdin",
     "output_type": "stream",
     "text": [
      "숫자를 입력해주세요 10\n"
     ]
    },
    {
     "name": "stdout",
     "output_type": "stream",
     "text": [
      "[1, 4, 9, 16, 25, 36, 49, 64, 81, 100]\n"
     ]
    }
   ],
   "source": [
    "#list comprehension은 대괄호 안에 표현식과 for문을 작성해서 사용할 수 있다.\n",
    "n = int(input(\"숫자를 입력해주세요\"))\n",
    "\n",
    "n = [i**2 for i in range(1,n+1)]\n",
    "print(n)"
   ]
  },
  {
   "cell_type": "code",
   "execution_count": 40,
   "id": "fde2e532-0d3a-47ec-97df-d670cd6b7f81",
   "metadata": {},
   "outputs": [
    {
     "name": "stdin",
     "output_type": "stream",
     "text": [
      "숫자를 입력해주세요 10\n"
     ]
    },
    {
     "name": "stdout",
     "output_type": "stream",
     "text": [
      "[1, 3, 5, 7, 9]\n"
     ]
    }
   ],
   "source": [
    "n = int(input(\"숫자를 입력해주세요\"))\n",
    "\n",
    "n = [i for i in range(1,n+1) if i%2!=0]\n",
    "print(n)"
   ]
  },
  {
   "cell_type": "code",
   "execution_count": 43,
   "id": "0b3c8da5-dd5f-42ac-817d-12abcf83eced",
   "metadata": {},
   "outputs": [
    {
     "name": "stdout",
     "output_type": "stream",
     "text": [
      "['a', 'b', 'c', 'd', 'e', 'f', 'g', 'h', 'i', 'g', 'k', 'l', 'm', 'o', 'p', 'q', 'r', 's', 't', 'u', 'v', 'w', 'x', 'y', 'z']\n"
     ]
    }
   ],
   "source": [
    "k = 'abcdefghigklmopqrstuvwxyz'\n",
    "r = [x for x in k]\n",
    "print(r)"
   ]
  },
  {
   "cell_type": "code",
   "execution_count": 46,
   "id": "c00b68a7-433c-43b0-a4aa-fa51a262a467",
   "metadata": {},
   "outputs": [
    {
     "name": "stdout",
     "output_type": "stream",
     "text": [
      "['2', '3', '4', '5', '6', '7', '8', '9', '10', 'J', 'Q', 'K', 'A']\n"
     ]
    }
   ],
   "source": [
    "k = 'JQKA'\n",
    "\n",
    "r = [str(i) for i in range(2,11)]+[x for x in k]\n",
    "print(r)"
   ]
  },
  {
   "cell_type": "code",
   "execution_count": 48,
   "id": "56707224-287e-4720-bd37-c5e19213f4ad",
   "metadata": {},
   "outputs": [
    {
     "name": "stdout",
     "output_type": "stream",
     "text": [
      "[['2', '3', '4', '5', '6', '7', '8', '9', '10', 'J', 'Q', 'K', 'A'], ['2', '3', '4', '5', '6', '7', '8', '9', '10', 'J', 'Q', 'K', 'A'], ['2', '3', '4', '5', '6', '7', '8', '9', '10', 'J', 'Q', 'K', 'A'], ['2', '3', '4', '5', '6', '7', '8', '9', '10', 'J', 'Q', 'K', 'A']]\n"
     ]
    }
   ],
   "source": [
    "print([r for x in range(4)])"
   ]
  },
  {
   "cell_type": "code",
   "execution_count": 50,
   "id": "d11daecd-aa0f-4179-9321-35966ec45d11",
   "metadata": {},
   "outputs": [
    {
     "name": "stdout",
     "output_type": "stream",
     "text": [
      "140470045088256\n",
      "140470045155968\n",
      "False\n",
      "True\n"
     ]
    }
   ],
   "source": [
    "#파이썬은 완전한 객체지향 프로그램 언어로, 위와 같이 하나의 객체를 4번 복사하는 경우 메모리 주소를 참조하기 때문에\n",
    "#원본 객체를 변경할 경우 복사 객체 또한 변경된다.\n",
    "#이 때문에 원하지 않는 값이 변경되는 경우가 생길 수 있으므로 전체 범위를 슬라이싱하면 새로운 메모리 주소를 할당할 수 있다.\n",
    "\n",
    "old = list(range(10))\n",
    "new = old[:]\n",
    "\n",
    "print(id(old))\n",
    "print(id(new))\n",
    "print(old is new)\n",
    "print(old == new)"
   ]
  },
  {
   "cell_type": "code",
   "execution_count": 52,
   "id": "495044c2-3fdc-4613-bbb2-1dc76c706cc4",
   "metadata": {},
   "outputs": [],
   "source": [
    "#tuple, str은 immutable이기 때문에 is 연산자의 결과가 다를 수 있다. \n",
    "#copy()를 = 대신 사용하면 새로운 객체로 만들 수 있다."
   ]
  },
  {
   "cell_type": "code",
   "execution_count": 53,
   "id": "9a263463-ca75-4a0a-b90b-7d49044b7520",
   "metadata": {},
   "outputs": [],
   "source": [
    "#shallow copy는 리스트 요소 중 메모리 주소를 담고 있는 참조 변수가 있으면 객체 주소만 복사해온다.\n",
    "#asterisk로 실행할 수 있다."
   ]
  },
  {
   "cell_type": "code",
   "execution_count": null,
   "id": "94f4c6d6-8763-41dd-95c9-f7cb77f0f6ba",
   "metadata": {},
   "outputs": [],
   "source": [
    "#슬라이싱과 copy() 메서드를 활용한 복사도 안의 객체가 주소가 같아진다.\n",
    "#완전한 복사를 하고 싶다면 copy lib 안의 deepcopy를 사용해야 한다."
   ]
  }
 ],
 "metadata": {
  "kernelspec": {
   "display_name": "Python 3 (ipykernel)",
   "language": "python",
   "name": "python3"
  },
  "language_info": {
   "codemirror_mode": {
    "name": "ipython",
    "version": 3
   },
   "file_extension": ".py",
   "mimetype": "text/x-python",
   "name": "python",
   "nbconvert_exporter": "python",
   "pygments_lexer": "ipython3",
   "version": "3.9.16"
  }
 },
 "nbformat": 4,
 "nbformat_minor": 5
}
