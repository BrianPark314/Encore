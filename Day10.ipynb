{
 "cells": [
  {
   "cell_type": "raw",
   "id": "373f0b21-4991-48cd-9619-a641ed9b9efe",
   "metadata": {},
   "source": [
    "예외 처리\n",
    "에러가 발생하는 예외가 발생했을 떄도 프로그램의 중단 없이 계속 실행되도록 처리하는 것을 예외 처리라고 한다.\n",
    "이때 실행할 코드를 try의 코드 블록에 적고 에러가 발생되어 에외 처리 되는 부분을 except 코드 블록에 적는다."
   ]
  },
  {
   "cell_type": "code",
   "execution_count": 1,
   "id": "fb13218a-cded-421b-9ff8-6f8398a71eaa",
   "metadata": {},
   "outputs": [],
   "source": [
    "try:\n",
    "    pass #실행할 코드\n",
    "except:\n",
    "    pass #에러가 났을 경우 코드"
   ]
  },
  {
   "cell_type": "code",
   "execution_count": 4,
   "id": "7dd45ca1-19ee-4287-90b7-9f4cd24f65e6",
   "metadata": {},
   "outputs": [
    {
     "name": "stdout",
     "output_type": "stream",
     "text": [
      "0으로 나눌 수 없습니다.\n"
     ]
    }
   ],
   "source": [
    "try:\n",
    "    result = 123451/0 #여기서 zerodivision 에러가 나므로 except절로 이동하게 된다.\n",
    "    print(f'연산의 결과는 {result}입니다.')\n",
    "except:\n",
    "    print('0으로 나눌 수 없습니다.')"
   ]
  },
  {
   "cell_type": "raw",
   "id": "2bb6dd11-76c9-4b32-8d8e-415e17862372",
   "metadata": {},
   "source": [
    "연습문제\n",
    "사용자로부터 숫자 2개를 입력받는다. 입력받은 값을 split()을 활용하여 언패킹한다.\n",
    "이때 사용자가 잘못된 값을 입력받는다 하더라도 중단되지 않고 오류 메시지를 출력하라.\n",
    "%%time을 맨 앞에 삽입하면 코드를 실행하는데 걸리는 시간을 출력해준다."
   ]
  },
  {
   "cell_type": "code",
   "execution_count": 10,
   "id": "393cb7c0-9a10-423d-8ba4-e01d148ed5b5",
   "metadata": {},
   "outputs": [
    {
     "name": "stdin",
     "output_type": "stream",
     "text": [
      "숫자 두 개를 입력하세요. 12 0\n"
     ]
    },
    {
     "name": "stdout",
     "output_type": "stream",
     "text": [
      "CPU times: user 345 ms, sys: 115 ms, total: 460 ms\n",
      "Wall time: 24.6 s\n"
     ]
    }
   ],
   "source": [
    "%%time\n",
    "try:\n",
    "    x, y = input('숫자 두 개를 입력하세요.').split(' ')\n",
    "except:\n",
    "    print('값을 잘못 입력하셨습니다.')"
   ]
  },
  {
   "cell_type": "raw",
   "id": "4471bc10-3309-455a-805c-a5719ffc9600",
   "metadata": {},
   "source": [
    "except 옆에 에러의 종류를 사용하면 에러마다 분기해서 처리할 수 있다. else를 사용하면 에러가 없을때 출력할 수 있다."
   ]
  },
  {
   "cell_type": "code",
   "execution_count": 12,
   "id": "64b534f3-a303-4d7d-be5f-9b422a08c782",
   "metadata": {},
   "outputs": [
    {
     "name": "stdout",
     "output_type": "stream",
     "text": [
      "에러 없이 실행되었습니다.\n"
     ]
    }
   ],
   "source": [
    "x = range(1,5)\n",
    "try:\n",
    "    for i in range(4):\n",
    "        y = 10/x[i]\n",
    "except ZeroDivisionError as e:\n",
    "    print('0으로 나눌 수 없습니다.')\n",
    "    print(e)\n",
    "except IndexError as e:\n",
    "    print('인덱스 에러 발생')\n",
    "    print(e)\n",
    "else:\n",
    "    print('에러 없이 실행되었습니다.')"
   ]
  },
  {
   "cell_type": "raw",
   "id": "ca5baf53-dc7c-4340-ab3b-c9206e0d707e",
   "metadata": {},
   "source": [
    "연습문제\n",
    "사용자로부터 정수 2개를 띄어쓰기로 구분해서 값을 받고 이를 언패킹해 x/y를 리턴한다. 이때 예외는 다음과 같이 작성한다.\n",
    "- ValueError일때는 '값을 잘못 입력하셨습니다.'를 출력\n",
    "- ZeroDivisionError일때는 '0으로 나눌 수 없습니다' 출력\n",
    "- Error 없는 경우 result 출력"
   ]
  },
  {
   "cell_type": "code",
   "execution_count": 15,
   "id": "c3d563c0-f398-40b9-9594-1fe6dc2d93a4",
   "metadata": {},
   "outputs": [
    {
     "name": "stdin",
     "output_type": "stream",
     "text": [
      "정수를 띄어쓰기로 구분하여 두 개 입력해 주세요. 10 20\n"
     ]
    },
    {
     "name": "stdout",
     "output_type": "stream",
     "text": [
      "0.5\n"
     ]
    }
   ],
   "source": [
    "try:\n",
    "    x, y = map(int, (input(\"정수를 띄어쓰기로 구분하여 두 개 입력해 주세요.\").split(' ')))\n",
    "    result = x/y\n",
    "except ValueError:\n",
    "    print('값을 잘못 입력하셨습니다.')\n",
    "except ZeroDivisionError:\n",
    "    print('0으로 나눌 수 없습니다.')\n",
    "else:\n",
    "    print(result)"
   ]
  },
  {
   "cell_type": "raw",
   "id": "f3d21fbf-d0ae-4bb3-9866-759b63a88a4c",
   "metadata": {},
   "source": [
    "finally를 사용하면 무조건 실행되는 부분을 작성할 수 있다."
   ]
  },
  {
   "cell_type": "code",
   "execution_count": 16,
   "id": "d6a0d3a6-22c6-4d09-bac5-f98316f63f2c",
   "metadata": {},
   "outputs": [
    {
     "name": "stdout",
     "output_type": "stream",
     "text": [
      "무조건 실행됩니다.\n"
     ]
    },
    {
     "ename": "KeyError",
     "evalue": "",
     "output_type": "error",
     "traceback": [
      "\u001b[0;31m---------------------------------------------------------------------------\u001b[0m",
      "\u001b[0;31mKeyError\u001b[0m                                  Traceback (most recent call last)",
      "Cell \u001b[0;32mIn[16], line 2\u001b[0m\n\u001b[1;32m      1\u001b[0m \u001b[38;5;28;01mtry\u001b[39;00m:\n\u001b[0;32m----> 2\u001b[0m     \u001b[38;5;28;01mraise\u001b[39;00m \u001b[38;5;167;01mKeyError\u001b[39;00m\n\u001b[1;32m      3\u001b[0m \u001b[38;5;28;01mfinally\u001b[39;00m:\n\u001b[1;32m      4\u001b[0m     \u001b[38;5;28mprint\u001b[39m(\u001b[38;5;124m'\u001b[39m\u001b[38;5;124m무조건 실행됩니다.\u001b[39m\u001b[38;5;124m'\u001b[39m)\n",
      "\u001b[0;31mKeyError\u001b[0m: "
     ]
    }
   ],
   "source": [
    "try:\n",
    "    raise KeyError\n",
    "finally:\n",
    "    print('무조건 실행됩니다.')"
   ]
  },
  {
   "cell_type": "raw",
   "id": "ecac0081-d6f3-4177-b9b6-dee9337658f9",
   "metadata": {},
   "source": [
    "연습문제\n",
    "사용자로부터 정수 2개를 띄어쓰기로 구분해서 값을 받고 이를 언패킹해 x/y를 리턴한다. 이때 예외는 다음과 같이 작성한다.\n",
    "- ValueError일때는 '값을 잘못 입력하셨습니다.'를 출력\n",
    "- ZeroDivisionError일때는 '0으로 나눌 수 없습니다' 출력\n",
    "- Error 없는 경우 result 출력\n",
    "- 처리 과정에 관계없이 마지막에 '프로그램을 종료합니다' 라고 출력"
   ]
  },
  {
   "cell_type": "code",
   "execution_count": 18,
   "id": "e9883c7b-621d-4882-a238-73113905419c",
   "metadata": {},
   "outputs": [
    {
     "name": "stdin",
     "output_type": "stream",
     "text": [
      "정수를 띄어쓰기로 구분하여 두 개 입력해 주세요. 10 0\n"
     ]
    },
    {
     "name": "stdout",
     "output_type": "stream",
     "text": [
      "0으로 나눌 수 없습니다.\n",
      "프로그램을 종료합니다\n"
     ]
    }
   ],
   "source": [
    "try:\n",
    "    x, y = map(int, (input(\"정수를 띄어쓰기로 구분하여 두 개 입력해 주세요.\").split(' ')))\n",
    "    result = x/y\n",
    "except ValueError:\n",
    "    print('값을 잘못 입력하셨습니다.')\n",
    "except ZeroDivisionError:\n",
    "    print('0으로 나눌 수 없습니다.')\n",
    "else:\n",
    "    print(result)\n",
    "finally:\n",
    "    print('프로그램을 종료합니다')"
   ]
  },
  {
   "cell_type": "raw",
   "id": "266d660f-0bd7-4f3d-99af-62c3ea66af81",
   "metadata": {},
   "source": [
    "데이터 수집 기초\n",
    "API로 데이터 수집하기\n",
    "Application Programming Interface(API)는 프로그래밍을 통해 자동화된 방식으로 데이터를 추출하는 방법 중 하나이다.\n",
    "\n",
    "API는 사용자가 소프트웨어의 디테일을 모르더라도 통신할 수 있도록 하는 인터페이스의 일종이다. API는 사용할 수 있는 request의 종류, 사용되는 데이터 형식, 예상 응답을 포함하는 일련의 정의 및 프로토콜을 제공한다. API는 웹사이트, 앱 서비스를 구축하는 동안 개발자가 일반적으로 사용하는 소프트웨어 인터페이스 집합이다.\n",
    "\n",
    "서버는 단순히 성능이 좋고 용량도 큰 빠른 컴퓨터라고 생각하면 된다. 일반적으로 서버는 원격으로 접속해서 작업하게 된다. 소프트웨어 개발자가 프로그램을 작성하고 서버에 복사해 실행하면 서버로서 동작하게 된다.\n",
    "\n",
    "API는 컴퓨터가 사용하기 쉽게 만든 인터페이스의 종류 중 하나이다. 웹사이트가 사람에게 초점을 맞춘 것과 반대된다고 볼 수 있다. 웹사이트 스크랩보다 좋은데, 규격화된 호출 가능한 함수로 설계되어 있으며 구조가 명확하고 사용하기 쉬우며 자동화가 편리하기 때문이다. 데이터의 업데이트가 잦고 시간 경과에 따른 최신 데이터가 필요한 경우에도 API가 좋다.\n",
    "\n",
    "사전에 알아야 할 것들로는 HTTP 통신, 사용되는 콘텐츠 타입, 예상 응답을 포함하는 일련의 정의 및 프로토콜이 있다."
   ]
  },
  {
   "cell_type": "raw",
   "id": "9539508f-4a56-4510-9ec9-02356853bfec",
   "metadata": {},
   "source": [
    "HTTP 통신에서는 get, post, delete 등을 사용하는데 API는 주로 get을 활용한다. Query String은 URI에서 물음표를 붙이고 사용되는 부분으로 attribute=value 형태로 작성된다. 여러 개의 parameter를 사용할 땐 &로 작성한다. URI란 uniform resource identifier의 약자로 인터넷에 있는 자원을 나타내는 유일한 주소이다. 다음과 같은 형식을 가진다.\n",
    "scheme:[//[user[:password]@]host[:port][/path][?query][#fragment]]\n",
    "이때 port가 80(http)또는 443(https)인 경우 생략 가능하다.\n",
    "\n",
    "응답 컨텐츠 형식으로는 json(javascript object notaion)과 xml(extensible markup language)이 있다.\n",
    "직렬화(serialization)와 역직렬화(deserialization)는 전송을 위해 객체를 연속된 바이트로 변경하고 되돌리는 과정이다. 네트워크에서 데이터는 packet으로 분할되어 전달되며 단순히 바이트, 문자열, 비트를 독립적으로 연속해서 데이터를 전송한다. Parsing이란 일련의 문자열은 의미있는 token으로 분해하고 이들로 이루어진 parse tree를 만드는 과정을 말한다. \n",
    "\n",
    "무료 API--\n",
    "공공데이터포털: https://www.data.go.kr\n",
    "문화데이터 광장: https://www.culture.go.kr/data/main/main.do#main\n",
    "공간정보 오픈플랫폼: https://www.vworld.kr/dev/v4api.do\n",
    "금융감독원 오픈 API: https://opendart.fss.or.kr/\n",
    "네이버 오픈 API: https://developers.naver.com/products/intro/plan/plan.md\n",
    "카카오 디벨로퍼: https://developers.kakao.com/tool\n",
    "서울 열린데이터 광장: https://data.seoul.go.kr/together/guide/useGuide.do\n",
    "한국은행 Open API: https://ecos.bok.or.kr/api/#/"
   ]
  },
  {
   "cell_type": "raw",
   "id": "f89a1e2a-644a-4262-aa1e-db245b93258c",
   "metadata": {},
   "source": [
    "python에는 requests를 통해 HTTP 통신에 접근할 수 있다. query string을 직접 URI에 쓰지 않고 arguments로 처리할 수 있다.\n",
    "1. API 제공 문서 읽고 이해\n",
    "2. requests\n",
    "3. 수신 데이터 활용"
   ]
  },
  {
   "cell_type": "code",
   "execution_count": 22,
   "id": "3d364482-1bd5-448c-8afd-351cc8d4b949",
   "metadata": {},
   "outputs": [
    {
     "name": "stdout",
     "output_type": "stream",
     "text": [
      "200\n"
     ]
    }
   ],
   "source": [
    "import requests as rq #http 통신을 위한 requests import\n",
    "\n",
    "response = rq.get('https://api.github.com/repositories', headers={'Accept':'application/vnd.github.v3+json'})\n",
    "\n",
    "print(response.status_code) #status code 반환"
   ]
  },
  {
   "cell_type": "raw",
   "id": "e378fc8d-d4f6-4810-a508-806ecb934076",
   "metadata": {
    "jp-MarkdownHeadingCollapsed": true,
    "tags": []
   },
   "source": [
    "http 통신에 대한 response로 200을 받았다. status code가 200이라는 것은 request가 성공적으로 처리됐다는 것을 의미한다.\n",
    "또한 응답 객체의 인코딩을 평가해 올바르게 처리하는지 확인할 수도 있다. "
   ]
  },
  {
   "cell_type": "code",
   "execution_count": 30,
   "id": "e780bbeb-f396-48a3-9f64-854437f7c2c3",
   "metadata": {},
   "outputs": [
    {
     "name": "stdout",
     "output_type": "stream",
     "text": [
      "encoding: utf-8\n",
      "content type : application/json; charset=utf-8\n",
      "server : GitHub.com\n"
     ]
    }
   ],
   "source": [
    "#response에 대한 요소 확인\n",
    "print(f'encoding: {response.encoding}')\n",
    "print(f\"content type : {response.headers['Content-Type']}\")\n",
    "print(f\"server : {response.headers['server']}\")"
   ]
  },
  {
   "cell_type": "raw",
   "id": "edadc4ca-b4cf-4d84-bcc9-56e8a27ca26b",
   "metadata": {},
   "source": [
    "요청으로 받아온 타입이 application/json이기 때문에 json으로 변환 가능한 객체임을 알 수 있다."
   ]
  },
  {
   "cell_type": "code",
   "execution_count": 34,
   "id": "d12bb639-134f-4224-a309-2d312daef4d1",
   "metadata": {},
   "outputs": [
    {
     "name": "stdout",
     "output_type": "stream",
     "text": [
      "{\n",
      "  \"id\": 1,\n",
      "  \"node_id\": \"MDEwOlJlcG9zaXRvcnkx\",\n",
      "  \"name\": \"grit\",\n",
      "  \"full_name\": \"mojombo/grit\",\n",
      "  \"private\": false,\n",
      "  \"owner\": {\n",
      "    \"login\": \"mojombo\",\n",
      "    \"id\": 1,\n",
      "    \"node_id\": \"MDQ6VXNlcjE=\",\n",
      "\n"
     ]
    }
   ],
   "source": [
    "import json\n",
    "print(json.dumps(response.json()[0], indent=2)[:200])"
   ]
  },
  {
   "cell_type": "raw",
   "id": "29b2b03b-515b-4730-9858-b406e1b20fb2",
   "metadata": {},
   "source": [
    "요청 시 parameter api 활용하기\n",
    "검색 API는 다음과 같다. 이때 query parameters가 없기 때문에 422 상태 코드를 응답한다. 문법에는 맞지만 서버가 처리하지 못했을 경우이다."
   ]
  },
  {
   "cell_type": "code",
   "execution_count": 37,
   "id": "e621d8c7-c8cd-4530-bbce-b6c65d2f82f7",
   "metadata": {},
   "outputs": [
    {
     "name": "stdout",
     "output_type": "stream",
     "text": [
      "422\n"
     ]
    }
   ],
   "source": [
    "response = rq.get('https://api.github.com/search/repositories')\n",
    "print(response.status_code)"
   ]
  },
  {
   "cell_type": "code",
   "execution_count": 61,
   "id": "013742b3-51e5-4879-aa4a-4db67d1d2be3",
   "metadata": {},
   "outputs": [
    {
     "name": "stdout",
     "output_type": "stream",
     "text": [
      "200\n"
     ]
    }
   ],
   "source": [
    "response = rq.get('https://api.github.com/search/repositories',\n",
    "                 params={'q': 'data_science+language:python'},\n",
    "                 headers={'Accept':'application/vnd.github.v3.text_match+json'})\n",
    "print(response.status_code)"
   ]
  },
  {
   "cell_type": "raw",
   "id": "ac330939-eef8-4dbe-8c26-f2f31f59cdbf",
   "metadata": {},
   "source": [
    "q param을 추가해주면 위와 같이 정상적인 반응이 나온다."
   ]
  },
  {
   "cell_type": "code",
   "execution_count": 62,
   "id": "19a75d05-1878-4cd4-a1a5-8d69dceac3b9",
   "metadata": {
    "tags": []
   },
   "outputs": [],
   "source": [
    "r = response.json()"
   ]
  },
  {
   "cell_type": "code",
   "execution_count": 69,
   "id": "e7351944-cc0d-43b5-bd52-a7ee819ed819",
   "metadata": {
    "tags": []
   },
   "outputs": [
    {
     "name": "stdout",
     "output_type": "stream",
     "text": [
      "['data-science-from-scratch', 'PySyft', 'data-science-blogs', 'galaxy', 'DataCamp', 'data-scientist-roadmap', 'dsp', 'cookiecutter-data-science', 'Kaggler', 'kedro', 'book_sample', 'PDA_Book', 'metaflow', 'data-science-template', 'intro_ds', 'lale', 'heamy', 'datajoint-python', 'python-data-science-workshop', 'd6tflow', 'nebari', 'data-science-ipython-notebooks', 'Building-Data-Science-Applications-with-FastAPI', 'Uber-DS-Challenge', 'the_data_science_handbook', 'dsb-2017', 'DSB2018', 'ufora', 'xam', 'exercises']\n"
     ]
    }
   ],
   "source": [
    "print([r['items'][i]['name'] for i in range(len(r['items']))])"
   ]
  },
  {
   "cell_type": "raw",
   "id": "466567f2-94f2-44f4-b424-cb0b22a92d43",
   "metadata": {},
   "source": [
    "연습문제\n",
    "response를 dict로 변경하고 items의 속성 중 어떤 부분에서 텍스트가 매치된 결과인지 알 수 있는 속성으로 text_matches가 존재한다.\n",
    "items중 첫 번째 값에 대한 text_matches의 값을 조회하는 코드가 다음과 같을 때 각 아이템마다 text_match가 출력되도록 코드를 작성하시오.\n"
   ]
  },
  {
   "cell_type": "raw",
   "id": "4684818b-7a59-4c2c-b393-c0d1ae7d1def",
   "metadata": {},
   "source": [
    "저장소의 댓글 데이터 가져오기\n",
    "Document를 보면 repository의 owner와 repo라는 값이 필수 값인 것을 확인할 수있다.\n",
    "작성은 ‘/repos/{owner}/{repo}/issues’와 같이 한다.\n",
    "지금부터 딥러닝 프레임워크인 파이토치 저장소에 대해서 예제를 작성해보도록 하겠다. owner : pytorch, reop : pytorch"
   ]
  },
  {
   "cell_type": "code",
   "execution_count": 70,
   "id": "d68741fa-a473-42f4-9c7f-2ac11e995b98",
   "metadata": {},
   "outputs": [
    {
     "name": "stdout",
     "output_type": "stream",
     "text": [
      "Response Code 200\n",
      "Number of Contents 30\n"
     ]
    }
   ],
   "source": [
    "response = rq.get('https://api.github.com/repos/pytorch/pytorch/issues',\n",
    "                 headers={'Accept':'application/vnd.github.v3.text-match+json'})\n",
    "print('Response Code', response.status_code)\n",
    "print('Number of Contents', len(response.json()))"
   ]
  },
  {
   "cell_type": "raw",
   "id": "9c20772a-187b-4f3f-a060-3c0092e0f66a",
   "metadata": {},
   "source": [
    "Pagination은 응답 개수를 제한해서 서버의 과부하를 방지하기 위한 기술로 많은 API에 적용되어 있다. \n",
    "우리가 요청한 Github API endpoint인 Issues에 대한 부분에도 Pagination이 적용되었고 한 번에 30개 결과를 응답해주고 있다.\n",
    "response에 links를 제공하고 있는데, 응답 페이지 수에 대한 세부 정보를 제공한다. 다음 링크가 있다면 계속 API를 recursion을 이용해 호출하게 할 수 있다."
   ]
  },
  {
   "cell_type": "code",
   "execution_count": 75,
   "id": "5448d1ec-fa38-40aa-acbd-fb570f239eb0",
   "metadata": {},
   "outputs": [],
   "source": [
    "import sys\n",
    "sys.setrecursionlimit(10**5)\n",
    "\n",
    "def get_all_pages(url, params=None, headers=None):\n",
    "    output_json=[]\n",
    "    response = rq.get(url, params=params, headers=headers)\n",
    "    if response.status_code == 200:\n",
    "        output_json = response.json()\n",
    "        if 'next' in response.links:\n",
    "            next_url = response.links['next']['url']\n",
    "            if next_url is not None:\n",
    "                output_json += get_all_pages(next_url, params, headers)\n",
    "    return output_json"
   ]
  },
  {
   "cell_type": "raw",
   "id": "f04e7a93-4a87-4c7f-ba84-2cdb933549e2",
   "metadata": {},
   "source": [
    "since에 값을 넣어서 가져오는 데이터의 범위를 한정할 수 있다."
   ]
  },
  {
   "cell_type": "code",
   "execution_count": 76,
   "id": "ed728914-1e12-4b4f-9a34-14554d735585",
   "metadata": {},
   "outputs": [
    {
     "name": "stdout",
     "output_type": "stream",
     "text": [
      "240\n"
     ]
    },
    {
     "data": {
      "text/html": [
       "<div>\n",
       "<style scoped>\n",
       "    .dataframe tbody tr th:only-of-type {\n",
       "        vertical-align: middle;\n",
       "    }\n",
       "\n",
       "    .dataframe tbody tr th {\n",
       "        vertical-align: top;\n",
       "    }\n",
       "\n",
       "    .dataframe thead th {\n",
       "        text-align: right;\n",
       "    }\n",
       "</style>\n",
       "<table border=\"1\" class=\"dataframe\">\n",
       "  <thead>\n",
       "    <tr style=\"text-align: right;\">\n",
       "      <th></th>\n",
       "      <th>id</th>\n",
       "      <th>created_at</th>\n",
       "      <th>body</th>\n",
       "    </tr>\n",
       "  </thead>\n",
       "  <tbody>\n",
       "    <tr>\n",
       "      <th>134</th>\n",
       "      <td>1445368927</td>\n",
       "      <td>2023-02-26T13:59:47Z</td>\n",
       "      <td>### Merge started\\nYour change will be merged ...</td>\n",
       "    </tr>\n",
       "  </tbody>\n",
       "</table>\n",
       "</div>"
      ],
      "text/plain": [
       "             id            created_at  \\\n",
       "134  1445368927  2023-02-26T13:59:47Z   \n",
       "\n",
       "                                                  body  \n",
       "134  ### Merge started\\nYour change will be merged ...  "
      ]
     },
     "execution_count": 76,
     "metadata": {},
     "output_type": "execute_result"
    }
   ],
   "source": [
    "import pandas as pd\n",
    "\n",
    "out = get_all_pages(\n",
    "    \"https://api.github.com/repos/pytorch/pytorch/issues/comments\",\n",
    "    params={\n",
    "        'since': '2022-01-01T10:00:01Z',\n",
    "        'sorted': 'created',\n",
    "        'direction': 'desc'\n",
    "    },\n",
    "    headers={'Accept' : 'application/vnd.github.v3+json'}\n",
    ")\n",
    "\n",
    "df = pd.DataFrame(out)\n",
    "print(df['body'].count())\n",
    "df[['id', 'created_at','body']].sample(1)"
   ]
  },
  {
   "cell_type": "raw",
   "id": "c67ec4d4-b191-40ac-8342-28e0ffc7762b",
   "metadata": {},
   "source": [
    "서버 부하를 방지하기 위해 속도 제한을 걸어서 240개밖에 리턴이 되지 않는다. 응답 헤더에 사용량을 조회할 수 있는 기능이 있다."
   ]
  },
  {
   "cell_type": "code",
   "execution_count": 78,
   "id": "d107ddb9-0e5c-4e7e-b137-b85bee91a697",
   "metadata": {},
   "outputs": [
    {
     "name": "stdout",
     "output_type": "stream",
     "text": [
      "X-Ratelimit-Limit 60\n",
      "X-Ratelimit-Remaining 58\n",
      "Rate limit reset at Mon Feb 27 17:52:24 2023\n"
     ]
    }
   ],
   "source": [
    "response = rq.head('https://api.github.com/repos/pytorch/pytorch/issues/comments')\n",
    "print('X-Ratelimit-Limit', response.headers['X-Ratelimit-Limit'])\n",
    "print('X-Ratelimit-Remaining', response.headers['X-Ratelimit-Remaining'])\n",
    "\n",
    "import datetime as dt\n",
    "print('Rate limit reset at', dt.datetime.fromtimestamp(int(response.headers['X-RateLimit-Reset'])).strftime('%c'))"
   ]
  },
  {
   "cell_type": "raw",
   "id": "46d64164-ccba-42bf-9913-f4f71953c1f2",
   "metadata": {},
   "source": [
    "time 라이브러리의 sleep() 메서드를 활용하여 특정 시간동안 대기하도록 할 수 있다. 앞서 이야기한 X-RateLimit-Reset과 X-Ratelimit-Remaining의 값을 활용하여 대기시간을 구한다. 아래의 코드는 그 대기시간동안 기다렸다가 API 호출을 하는 handle_rate_limits 함수를 구현했다."
   ]
  },
  {
   "cell_type": "code",
   "execution_count": 82,
   "id": "8139ae6e-0fa1-475a-b078-10c79be1eac3",
   "metadata": {},
   "outputs": [],
   "source": [
    "from datetime import datetime as dt\n",
    "import time\n",
    "\n",
    "def handle_rate_limits(response):\n",
    "    now = dt.now()\n",
    "    reset_time = dt.fromtimestamp(int(response.headers['X-RateLimit-Reset']))\n",
    "    remaining_requests = response.headers['X-Ratelimit-Remaining']\n",
    "    remaining_time =(reset_time-now).total_seconds()\n",
    "    intervals = remaining_time / (1.0 +int(remaining_requests))\n",
    "    \n",
    "    print('Sleeping for', intervals)\n",
    "    time.sleep(intervals)\n",
    "    return True"
   ]
  },
  {
   "cell_type": "code",
   "execution_count": 83,
   "id": "a23e6cac-429c-4c3e-80e9-b928f283f844",
   "metadata": {},
   "outputs": [],
   "source": [
    "import sys\n",
    "sys.setrecursionlimit(10**5)\n",
    "\n",
    "def get_all_pages(url, params=None, headers=None):\n",
    "    output_json=[]\n",
    "    response = rq.get(url, params=params, headers=headers)\n",
    "    if response.status_code == 200:\n",
    "        output_json = response.json()\n",
    "        if 'next' in response.links:\n",
    "            next_url = response.links['next']['url']\n",
    "            if next_url is not None and handle_rate_limits(response):\n",
    "                output_json += get_all_pages(next_url, params, headers)\n",
    "    return output_json"
   ]
  },
  {
   "cell_type": "code",
   "execution_count": null,
   "id": "1b9b3c61-0640-4100-ba4b-718ca42e655e",
   "metadata": {},
   "outputs": [],
   "source": [
    "import pandas as pd\n",
    "\n",
    "out = get_all_pages(\n",
    "    \"https://api.github.com/repos/pytorch/pytorch/issues/comments\",\n",
    "    params={\n",
    "        'since': '2022-01-01T10:00:01Z',\n",
    "        'sorted': 'created',\n",
    "        'direction': 'desc'\n",
    "    },\n",
    "    headers={'Accept' : 'application/vnd.github.v3+json'}\n",
    ")\n",
    "\n",
    "df = pd.DataFrame(out)\n",
    "print(df['body'].count())\n",
    "df[['id', 'created_at','body']].sample(1)"
   ]
  },
  {
   "cell_type": "code",
   "execution_count": null,
   "id": "7c0d9a82-9c7c-473b-aff8-31f1200ae70f",
   "metadata": {},
   "outputs": [],
   "source": [
    "#올인언 코드\n",
    "\n",
    "from datetime import datetime as dt\n",
    "import time\n",
    "import sys\n",
    "import pandas as pd\n",
    "\n",
    "sys.setrecursionlimit(10**5)\n",
    "\n",
    "def handle_rate_limits(response):\n",
    "    now = dt.now()\n",
    "    reset_time = dt.fromtimestamp(int(response.headers['X-RateLimit-Reset']))\n",
    "    remaining_requests = response.headers['X-Ratelimit-Remaining']\n",
    "    remaining_time =(reset_time-now).total_seconds()\n",
    "    intervals = remaining_time / (1.0 +int(remaining_requests))\n",
    "    \n",
    "    print('Sleeping for', intervals)\n",
    "    time.sleep(intervals)\n",
    "    return True\n",
    "\n",
    "def get_all_pages(url, params=None, headers=None):\n",
    "    output_json=[]\n",
    "    response = rq.get(url, params=params, headers=headers)\n",
    "    if response.status_code == 200:\n",
    "        output_json = response.json()\n",
    "        if 'next' in response.links:\n",
    "            next_url = response.links['next']['url']\n",
    "            if next_url is not None and handle_rate_limits(response):\n",
    "                output_json += get_all_pages(next_url, params, headers)\n",
    "    return output_json\n",
    "\n",
    "out = get_all_pages(\n",
    "    \"https://api.github.com/repos/pytorch/pytorch/issues/comments\",\n",
    "    params={\n",
    "        'since': '2022-01-01T10:00:01Z',\n",
    "        'sorted': 'created',\n",
    "        'direction': 'desc'\n",
    "    },\n",
    "    headers={'Accept' : 'application/vnd.github.v3+json'}\n",
    ")\n",
    "\n",
    "df = pd.DataFrame(out)\n",
    "print(df['body'].count())\n",
    "df[['id', 'created_at','body']].sample(1)"
   ]
  },
  {
   "cell_type": "raw",
   "id": "8e046aa5-2e89-4273-8bc3-23b5b2107226",
   "metadata": {},
   "source": [
    "API 호출에는 여러가지 변수가 존재합니다. 연결 중단, DNS 조회 실패, 연결 시간 초과 등이 있다. 호출 실패에 대한 재시도를 할 수 있도록 HTTPAdapter를 사용하는데, Retry 객체를 통해 초기화한다. total은 재시도 횟수, status_forcelist는 재시도할 상태 코드 목록을, backoff_factor는 각 시도마다 간격을 늘려주는 수치다."
   ]
  },
  {
   "cell_type": "code",
   "execution_count": 92,
   "id": "2992fab7-8edb-4443-90d9-2248aa130e4e",
   "metadata": {},
   "outputs": [
    {
     "name": "stdout",
     "output_type": "stream",
     "text": [
      "data-science-from-scratch\n",
      "PySyft\n",
      "data-science-blogs\n",
      "galaxy\n",
      "DataCamp\n"
     ]
    }
   ],
   "source": [
    "import requests\n",
    "from requests.adapters import HTTPAdapter\n",
    "from requests.packages.urllib3.util.retry import Retry\n",
    "\n",
    "retry_strategy = Retry(\n",
    "    total = 5,\n",
    "    status_forcelist=[500, 503, 504],\n",
    "    backoff_factor=1\n",
    ")\n",
    "\n",
    "retry_adapter = HTTPAdapter(max_retries=retry_strategy)\n",
    "\n",
    "http = requests.Session()\n",
    "http.mount(\"https://\", retry_adapter)\n",
    "\n",
    "response = http.get('https://api.github.com/search/repositories', \n",
    "                   params = {'q': 'data_science+language:python'})\n",
    "\n",
    "for item in response.json()['items'][:5]:\n",
    "    print(item['name'])"
   ]
  },
  {
   "cell_type": "raw",
   "id": "f218e3ff-f0a9-46d7-89e7-82db93c230d5",
   "metadata": {},
   "source": [
    "연결 동작에 재시도를 추가하려면 재시도를 사용할 수 있는 사용자 지정 어댑터를 지정해야 한다.\n",
    "그럴 때는 아래와 같이 새로운 http Session 객체를 생성해서 사용하면 된다."
   ]
  },
  {
   "cell_type": "raw",
   "id": "f10d20bd-a71d-4224-adba-bab4eacaffd6",
   "metadata": {},
   "source": [
    "http = requests.Session()\n",
    "http.mount(\"https://\", retry_adapter)"
   ]
  },
  {
   "cell_type": "code",
   "execution_count": null,
   "id": "67e7c6a8-f372-4770-9362-0bb2687ee482",
   "metadata": {},
   "outputs": [],
   "source": [
    "from datetime import datetime as dt\n",
    "import time\n",
    "import sys\n",
    "import pandas as pd\n",
    "import requests\n",
    "from requests.adapters import HTTPAdapter\n",
    "from requests.packages.urllib3.util.retry import Retry\n",
    "\n",
    "sys.setrecursionlimit(10**5)\n",
    "\n",
    "def handle_rate_limits(response):\n",
    "    now = dt.now()\n",
    "    reset_time = dt.fromtimestamp(int(response.headers['X-RateLimit-Reset']))\n",
    "    remaining_requests = response.headers['X-Ratelimit-Remaining']\n",
    "    remaining_time =(reset_time-now).total_seconds()\n",
    "    intervals = remaining_time / (1.0 +int(remaining_requests))\n",
    "    \n",
    "    print('Sleeping for', int(intervals))\n",
    "    time.sleep(intervals)\n",
    "    return True\n",
    "\n",
    "def get_all_pages(url, params=None, headers=None):\n",
    "    output_json=[]\n",
    "    retry_strategy = Retry(\n",
    "        total = 5,\n",
    "        status_forcelist=[500, 503, 504],\n",
    "        backoff_factor=1\n",
    "    )\n",
    "\n",
    "    retry_adapter = HTTPAdapter(max_retries=retry_strategy)\n",
    "\n",
    "    http = requests.Session()\n",
    "    http.mount(\"https://\", retry_adapter)\n",
    "    \n",
    "    response = http.get(url, params=params, headers=headers)\n",
    "    if response.status_code == 200:\n",
    "        output_json = response.json()\n",
    "        if 'next' in response.links:\n",
    "            next_url = response.links['next']['url']\n",
    "            if next_url is not None and handle_rate_limits(response):\n",
    "                output_json += get_all_pages(next_url, params, headers)\n",
    "    return output_json\n",
    "\n",
    "out = get_all_pages(\n",
    "    \"https://api.github.com/repos/pytorch/pytorch/issues/comments\",\n",
    "    params={\n",
    "        'since': '2022-01-01T10:00:01Z',\n",
    "        'sorted': 'created',\n",
    "        'direction': 'desc'\n",
    "    },\n",
    "    headers={'Accept' : 'application/vnd.github.v3+json'}\n",
    ")\n",
    "\n",
    "df = pd.DataFrame(out)\n",
    "print(df['body'].count())\n",
    "df[['id', 'created_at','body']].sample(1)"
   ]
  },
  {
   "cell_type": "raw",
   "id": "3427a402-e912-4bc3-b56f-20144dcacb87",
   "metadata": {},
   "source": [
    "이제 배운 것을 활용하여 금융감독원 openapi의 공시검색 접근해 보자. get 메서드로 https://opendart.fss.or.kr/api/list.json에 접속한다."
   ]
  },
  {
   "cell_type": "code",
   "execution_count": 96,
   "id": "1f1f2c22-be90-4463-b80f-97419b4bd447",
   "metadata": {},
   "outputs": [
    {
     "name": "stdout",
     "output_type": "stream",
     "text": [
      "Response Code 200\n"
     ]
    }
   ],
   "source": [
    "odart = rq.get('https://opendart.fss.or.kr/api/list.json')\n",
    "print('Response Code', response.status_code)"
   ]
  },
  {
   "cell_type": "code",
   "execution_count": 97,
   "id": "4f41d400-8b55-4f9a-acb0-6fd8186f9456",
   "metadata": {},
   "outputs": [
    {
     "name": "stdout",
     "output_type": "stream",
     "text": [
      "{'message': '정의되지 않은 오류가 발생하였습니다.', 'status': '900'}\n"
     ]
    }
   ],
   "source": [
    "print(odart.json())"
   ]
  },
  {
   "cell_type": "raw",
   "id": "93c24db1-c1ea-48be-a9ed-9b3853d9ba80",
   "metadata": {},
   "source": [
    "json()을 사용하려 하면 에러가 뜬다. 왜일까??"
   ]
  },
  {
   "cell_type": "code",
   "execution_count": 98,
   "id": "e1dddd8d-3a6e-4e7a-a98f-011408ee858a",
   "metadata": {},
   "outputs": [
    {
     "data": {
      "text/plain": [
       "{'Connection': 'keep-alive', 'Set-Cookie': 'WMONID=5vgYaeq1fbv; Expires=Tue, 27-Feb-2024 17:22:55 GMT; Path=/', 'Date': 'Mon, 27 Feb 2023 08:22:55 GMT', 'Content-Type': 'application/json;charset=UTF-8', 'Transfer-Encoding': 'chunked'}"
      ]
     },
     "execution_count": 98,
     "metadata": {},
     "output_type": "execute_result"
    }
   ],
   "source": [
    "odart.headers"
   ]
  },
  {
   "cell_type": "raw",
   "id": "e7172753-47fb-472e-848e-6e8f936580c2",
   "metadata": {},
   "source": [
    "openDART를 읽을 수 있는 api를 역시 누군가가 만들어놓았다. https://github.com/FinanceData/OpenDartReader \n",
    "와! 정말 데단해\n",
    "일단 내일 더 알아보자.."
   ]
  },
  {
   "cell_type": "code",
   "execution_count": null,
   "id": "f87614fe-98be-4cf6-a623-91aac3963acc",
   "metadata": {},
   "outputs": [],
   "source": []
  }
 ],
 "metadata": {
  "kernelspec": {
   "display_name": "Python 3 (ipykernel)",
   "language": "python",
   "name": "python3"
  },
  "language_info": {
   "codemirror_mode": {
    "name": "ipython",
    "version": 3
   },
   "file_extension": ".py",
   "mimetype": "text/x-python",
   "name": "python",
   "nbconvert_exporter": "python",
   "pygments_lexer": "ipython3",
   "version": "3.9.16"
  }
 },
 "nbformat": 4,
 "nbformat_minor": 5
}
