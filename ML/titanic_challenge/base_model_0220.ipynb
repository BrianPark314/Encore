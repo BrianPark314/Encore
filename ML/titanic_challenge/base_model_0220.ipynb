{
 "cells": [
  {
   "cell_type": "markdown",
   "metadata": {
    "id": "vpsOAPWLUTnq"
   },
   "source": [
    "# Connect to google account"
   ]
  },
  {
   "cell_type": "code",
   "execution_count": null,
   "metadata": {
    "id": "kse6YZgdRp-B"
   },
   "outputs": [],
   "source": [
    "from google.colab import drive\n",
    "drive.mount('/content/data')"
   ]
  },
  {
   "cell_type": "code",
   "execution_count": null,
   "metadata": {
    "colab": {
     "base_uri": "https://localhost:8080/"
    },
    "executionInfo": {
     "elapsed": 7514,
     "status": "ok",
     "timestamp": 1676895845639,
     "user": {
      "displayName": "조경원",
      "userId": "10205523497785796707"
     },
     "user_tz": -540
    },
    "id": "iaBj_icIUeBC",
    "outputId": "2108e3fb-99d2-466b-aa7d-7f26d2ec2961"
   },
   "outputs": [
    {
     "name": "stdout",
     "output_type": "stream",
     "text": [
      "\n",
      "WARNING: apt does not have a stable CLI interface. Use with caution in scripts.\n",
      "\n"
     ]
    }
   ],
   "source": [
    "# 코렙 한글깨짐 방지\n",
    "!apt -qq -y install fonts-nanum > /dev/null\n",
    "\n",
    "# 데이터 시각화에 사용할 라이브러리\n",
    "import matplotlib.pyplot as plt\n",
    "import matplotlib.font_manager as fm\n",
    "import seaborn as sns\n",
    "\n",
    "fontpath = '/usr/share/fonts/truetype/nanum/NanumBarunGothic.ttf'\n",
    "font_name = fm.FontProperties(fname=fontpath).get_name() \n",
    "fm._rebuild()  \n",
    "\n",
    "\n",
    "%config InlineBackend.figure_format = 'retina'\n",
    "\n",
    "plt.rc('font', family=font_name)  \n",
    "plt.rcParams['axes.unicode_minus'] = False "
   ]
  },
  {
   "cell_type": "markdown",
   "metadata": {
    "id": "fZzXY9Z9UtEq"
   },
   "source": [
    "# Global Variables"
   ]
  },
  {
   "cell_type": "code",
   "execution_count": null,
   "metadata": {
    "id": "QmedNTnmUo8H"
   },
   "outputs": [],
   "source": [
    "import easydict\n",
    "args = easydict.EasyDict()\n",
    "\n",
    "# path 정보\n",
    "args.default_path = '/content/data/MyDrive/lecture/data/titanic/kaggle_competition/'\n",
    "args.train_csv = args.default_path+'train.csv'\n",
    "args.test_csv = args.default_path+'test.csv'\n",
    "args.default_submission_csv = args.default_path+'submission.csv'\n",
    "\n",
    "args.submission_csv = args.default_path+'result/submission_0220.csv'\n",
    "args.save_results = args.default_path+\"result/model_results.json\"\n",
    "\n",
    "# 데이터 분석을 위한 변수들\n",
    "args.random_state = 21\n",
    "args.results = []"
   ]
  },
  {
   "cell_type": "markdown",
   "metadata": {
    "id": "lnWjgSKSU_v6"
   },
   "source": [
    "# Load Tritanic"
   ]
  },
  {
   "cell_type": "markdown",
   "metadata": {
    "id": "Nzq3WC3XVFYJ"
   },
   "source": [
    "- Surived:0=사망, 1=생존\n",
    "- Pclass: 1=1등석, 2=2등석, 3=3등석\n",
    "- gender:male=남성, female=여성\n",
    "- Age: 나이\n",
    "- SibSp: 타이타닉 호에 동승한 자매/배우자의 수\n",
    "- Parch: 타이타닉 호에 동승한 부모/자식의 수\n",
    "- Ticket: 티켓 번호\n",
    "- Fare: 승객 요금\n",
    "- Cabin: 방 호수\n",
    "- Embarked: 탑승지; C=셰르부르, Q=퀴즈타운, S=사우샘프턴"
   ]
  },
  {
   "cell_type": "code",
   "execution_count": null,
   "metadata": {
    "id": "uVs7ZAJOU9yp"
   },
   "outputs": [],
   "source": [
    "import numpy as np \n",
    "import pandas as pd\n",
    "\n",
    "import matplotlib.pyplot as plt\n",
    "import seaborn as sns\n",
    "\n",
    "plt.style.use('fivethirtyeight')\n",
    "plt.ion()\n",
    "\n",
    "import warnings\n",
    "warnings.filterwarnings('ignore')"
   ]
  },
  {
   "cell_type": "code",
   "execution_count": null,
   "metadata": {
    "colab": {
     "base_uri": "https://localhost:8080/"
    },
    "executionInfo": {
     "elapsed": 6,
     "status": "ok",
     "timestamp": 1676895845639,
     "user": {
      "displayName": "조경원",
      "userId": "10205523497785796707"
     },
     "user_tz": -540
    },
    "id": "lvgiIYX3VVc_",
    "outputId": "af9615d2-73b2-48c3-98bd-82de146773a9"
   },
   "outputs": [
    {
     "data": {
      "text/plain": [
       "((916, 12), (393, 11))"
      ]
     },
     "execution_count": 5,
     "metadata": {},
     "output_type": "execute_result"
    }
   ],
   "source": [
    "ori_train = pd.read_csv(args.train_csv)\n",
    "ori_test = pd.read_csv(args.test_csv)\n",
    "\n",
    "ori_train.shape, ori_test.shape"
   ]
  },
  {
   "cell_type": "code",
   "execution_count": null,
   "metadata": {
    "colab": {
     "base_uri": "https://localhost:8080/"
    },
    "executionInfo": {
     "elapsed": 4,
     "status": "ok",
     "timestamp": 1676895845639,
     "user": {
      "displayName": "조경원",
      "userId": "10205523497785796707"
     },
     "user_tz": -540
    },
    "id": "cIUfEFrnVfHg",
    "outputId": "a0c8acb0-ca74-4402-a264-8ca89871bfe2"
   },
   "outputs": [
    {
     "data": {
      "text/plain": [
       "Index(['passengerid', 'survived', 'pclass', 'name', 'gender', 'age', 'sibsp',\n",
       "       'parch', 'ticket', 'fare', 'cabin', 'embarked'],\n",
       "      dtype='object')"
      ]
     },
     "execution_count": 6,
     "metadata": {},
     "output_type": "execute_result"
    }
   ],
   "source": [
    "ori_train.columns"
   ]
  },
  {
   "cell_type": "code",
   "execution_count": null,
   "metadata": {
    "colab": {
     "base_uri": "https://localhost:8080/",
     "height": 206
    },
    "executionInfo": {
     "elapsed": 691,
     "status": "ok",
     "timestamp": 1676895846328,
     "user": {
      "displayName": "조경원",
      "userId": "10205523497785796707"
     },
     "user_tz": -540
    },
    "id": "M7YA99udy6bW",
    "outputId": "09eef42a-97f5-4f49-c3fb-c9618ba3c5a8"
   },
   "outputs": [
    {
     "data": {
      "text/html": [
       "\n",
       "  <div id=\"df-d163b22c-89ae-42da-a864-1318243e317a\">\n",
       "    <div class=\"colab-df-container\">\n",
       "      <div>\n",
       "<style scoped>\n",
       "    .dataframe tbody tr th:only-of-type {\n",
       "        vertical-align: middle;\n",
       "    }\n",
       "\n",
       "    .dataframe tbody tr th {\n",
       "        vertical-align: top;\n",
       "    }\n",
       "\n",
       "    .dataframe thead th {\n",
       "        text-align: right;\n",
       "    }\n",
       "</style>\n",
       "<table border=\"1\" class=\"dataframe\">\n",
       "  <thead>\n",
       "    <tr style=\"text-align: right;\">\n",
       "      <th></th>\n",
       "      <th>passengerid</th>\n",
       "      <th>survived</th>\n",
       "      <th>pclass</th>\n",
       "      <th>name</th>\n",
       "      <th>gender</th>\n",
       "      <th>age</th>\n",
       "      <th>sibsp</th>\n",
       "      <th>parch</th>\n",
       "      <th>ticket</th>\n",
       "      <th>fare</th>\n",
       "      <th>cabin</th>\n",
       "      <th>embarked</th>\n",
       "    </tr>\n",
       "  </thead>\n",
       "  <tbody>\n",
       "    <tr>\n",
       "      <th>0</th>\n",
       "      <td>0</td>\n",
       "      <td>0</td>\n",
       "      <td>2</td>\n",
       "      <td>Wheeler, Mr. Edwin Frederick\"\"</td>\n",
       "      <td>male</td>\n",
       "      <td>NaN</td>\n",
       "      <td>0</td>\n",
       "      <td>0</td>\n",
       "      <td>SC/PARIS 2159</td>\n",
       "      <td>12.8750</td>\n",
       "      <td>NaN</td>\n",
       "      <td>S</td>\n",
       "    </tr>\n",
       "    <tr>\n",
       "      <th>1</th>\n",
       "      <td>1</td>\n",
       "      <td>0</td>\n",
       "      <td>3</td>\n",
       "      <td>Henry, Miss. Delia</td>\n",
       "      <td>female</td>\n",
       "      <td>NaN</td>\n",
       "      <td>0</td>\n",
       "      <td>0</td>\n",
       "      <td>382649</td>\n",
       "      <td>7.7500</td>\n",
       "      <td>NaN</td>\n",
       "      <td>Q</td>\n",
       "    </tr>\n",
       "    <tr>\n",
       "      <th>2</th>\n",
       "      <td>2</td>\n",
       "      <td>1</td>\n",
       "      <td>1</td>\n",
       "      <td>Hays, Mrs. Charles Melville (Clara Jennings Gr...</td>\n",
       "      <td>female</td>\n",
       "      <td>52.0</td>\n",
       "      <td>1</td>\n",
       "      <td>1</td>\n",
       "      <td>12749</td>\n",
       "      <td>93.5000</td>\n",
       "      <td>B69</td>\n",
       "      <td>S</td>\n",
       "    </tr>\n",
       "    <tr>\n",
       "      <th>3</th>\n",
       "      <td>3</td>\n",
       "      <td>1</td>\n",
       "      <td>3</td>\n",
       "      <td>Andersson, Mr. August Edvard (\"Wennerstrom\")</td>\n",
       "      <td>male</td>\n",
       "      <td>27.0</td>\n",
       "      <td>0</td>\n",
       "      <td>0</td>\n",
       "      <td>350043</td>\n",
       "      <td>7.7958</td>\n",
       "      <td>NaN</td>\n",
       "      <td>S</td>\n",
       "    </tr>\n",
       "    <tr>\n",
       "      <th>4</th>\n",
       "      <td>4</td>\n",
       "      <td>0</td>\n",
       "      <td>2</td>\n",
       "      <td>Hold, Mr. Stephen</td>\n",
       "      <td>male</td>\n",
       "      <td>44.0</td>\n",
       "      <td>1</td>\n",
       "      <td>0</td>\n",
       "      <td>26707</td>\n",
       "      <td>26.0000</td>\n",
       "      <td>NaN</td>\n",
       "      <td>S</td>\n",
       "    </tr>\n",
       "  </tbody>\n",
       "</table>\n",
       "</div>\n",
       "      <button class=\"colab-df-convert\" onclick=\"convertToInteractive('df-d163b22c-89ae-42da-a864-1318243e317a')\"\n",
       "              title=\"Convert this dataframe to an interactive table.\"\n",
       "              style=\"display:none;\">\n",
       "        \n",
       "  <svg xmlns=\"http://www.w3.org/2000/svg\" height=\"24px\"viewBox=\"0 0 24 24\"\n",
       "       width=\"24px\">\n",
       "    <path d=\"M0 0h24v24H0V0z\" fill=\"none\"/>\n",
       "    <path d=\"M18.56 5.44l.94 2.06.94-2.06 2.06-.94-2.06-.94-.94-2.06-.94 2.06-2.06.94zm-11 1L8.5 8.5l.94-2.06 2.06-.94-2.06-.94L8.5 2.5l-.94 2.06-2.06.94zm10 10l.94 2.06.94-2.06 2.06-.94-2.06-.94-.94-2.06-.94 2.06-2.06.94z\"/><path d=\"M17.41 7.96l-1.37-1.37c-.4-.4-.92-.59-1.43-.59-.52 0-1.04.2-1.43.59L10.3 9.45l-7.72 7.72c-.78.78-.78 2.05 0 2.83L4 21.41c.39.39.9.59 1.41.59.51 0 1.02-.2 1.41-.59l7.78-7.78 2.81-2.81c.8-.78.8-2.07 0-2.86zM5.41 20L4 18.59l7.72-7.72 1.47 1.35L5.41 20z\"/>\n",
       "  </svg>\n",
       "      </button>\n",
       "      \n",
       "  <style>\n",
       "    .colab-df-container {\n",
       "      display:flex;\n",
       "      flex-wrap:wrap;\n",
       "      gap: 12px;\n",
       "    }\n",
       "\n",
       "    .colab-df-convert {\n",
       "      background-color: #E8F0FE;\n",
       "      border: none;\n",
       "      border-radius: 50%;\n",
       "      cursor: pointer;\n",
       "      display: none;\n",
       "      fill: #1967D2;\n",
       "      height: 32px;\n",
       "      padding: 0 0 0 0;\n",
       "      width: 32px;\n",
       "    }\n",
       "\n",
       "    .colab-df-convert:hover {\n",
       "      background-color: #E2EBFA;\n",
       "      box-shadow: 0px 1px 2px rgba(60, 64, 67, 0.3), 0px 1px 3px 1px rgba(60, 64, 67, 0.15);\n",
       "      fill: #174EA6;\n",
       "    }\n",
       "\n",
       "    [theme=dark] .colab-df-convert {\n",
       "      background-color: #3B4455;\n",
       "      fill: #D2E3FC;\n",
       "    }\n",
       "\n",
       "    [theme=dark] .colab-df-convert:hover {\n",
       "      background-color: #434B5C;\n",
       "      box-shadow: 0px 1px 3px 1px rgba(0, 0, 0, 0.15);\n",
       "      filter: drop-shadow(0px 1px 2px rgba(0, 0, 0, 0.3));\n",
       "      fill: #FFFFFF;\n",
       "    }\n",
       "  </style>\n",
       "\n",
       "      <script>\n",
       "        const buttonEl =\n",
       "          document.querySelector('#df-d163b22c-89ae-42da-a864-1318243e317a button.colab-df-convert');\n",
       "        buttonEl.style.display =\n",
       "          google.colab.kernel.accessAllowed ? 'block' : 'none';\n",
       "\n",
       "        async function convertToInteractive(key) {\n",
       "          const element = document.querySelector('#df-d163b22c-89ae-42da-a864-1318243e317a');\n",
       "          const dataTable =\n",
       "            await google.colab.kernel.invokeFunction('convertToInteractive',\n",
       "                                                     [key], {});\n",
       "          if (!dataTable) return;\n",
       "\n",
       "          const docLinkHtml = 'Like what you see? Visit the ' +\n",
       "            '<a target=\"_blank\" href=https://colab.research.google.com/notebooks/data_table.ipynb>data table notebook</a>'\n",
       "            + ' to learn more about interactive tables.';\n",
       "          element.innerHTML = '';\n",
       "          dataTable['output_type'] = 'display_data';\n",
       "          await google.colab.output.renderOutput(dataTable, element);\n",
       "          const docLink = document.createElement('div');\n",
       "          docLink.innerHTML = docLinkHtml;\n",
       "          element.appendChild(docLink);\n",
       "        }\n",
       "      </script>\n",
       "    </div>\n",
       "  </div>\n",
       "  "
      ],
      "text/plain": [
       "   passengerid  survived  pclass  \\\n",
       "0            0         0       2   \n",
       "1            1         0       3   \n",
       "2            2         1       1   \n",
       "3            3         1       3   \n",
       "4            4         0       2   \n",
       "\n",
       "                                                name  gender   age  sibsp  \\\n",
       "0                     Wheeler, Mr. Edwin Frederick\"\"    male   NaN      0   \n",
       "1                                 Henry, Miss. Delia  female   NaN      0   \n",
       "2  Hays, Mrs. Charles Melville (Clara Jennings Gr...  female  52.0      1   \n",
       "3       Andersson, Mr. August Edvard (\"Wennerstrom\")    male  27.0      0   \n",
       "4                                  Hold, Mr. Stephen    male  44.0      1   \n",
       "\n",
       "   parch         ticket     fare cabin embarked  \n",
       "0      0  SC/PARIS 2159  12.8750   NaN        S  \n",
       "1      0         382649   7.7500   NaN        Q  \n",
       "2      1          12749  93.5000   B69        S  \n",
       "3      0         350043   7.7958   NaN        S  \n",
       "4      0          26707  26.0000   NaN        S  "
      ]
     },
     "execution_count": 7,
     "metadata": {},
     "output_type": "execute_result"
    }
   ],
   "source": [
    "ori_train.head()"
   ]
  },
  {
   "cell_type": "code",
   "execution_count": null,
   "metadata": {
    "colab": {
     "base_uri": "https://localhost:8080/"
    },
    "executionInfo": {
     "elapsed": 19,
     "status": "ok",
     "timestamp": 1676895846328,
     "user": {
      "displayName": "조경원",
      "userId": "10205523497785796707"
     },
     "user_tz": -540
    },
    "id": "ySaIXiswVlMR",
    "outputId": "cb3a9efb-b925-42a7-e58d-e3296a63876a"
   },
   "outputs": [
    {
     "data": {
      "text/plain": [
       "(916, 916)"
      ]
     },
     "execution_count": 8,
     "metadata": {},
     "output_type": "execute_result"
    }
   ],
   "source": [
    "ori_train['passengerid'].nunique(), ori_train.shape[0]"
   ]
  },
  {
   "cell_type": "code",
   "execution_count": null,
   "metadata": {
    "colab": {
     "base_uri": "https://localhost:8080/",
     "height": 206
    },
    "executionInfo": {
     "elapsed": 13,
     "status": "ok",
     "timestamp": 1676895846328,
     "user": {
      "displayName": "조경원",
      "userId": "10205523497785796707"
     },
     "user_tz": -540
    },
    "id": "No3vTz4AVuFo",
    "outputId": "8a41e1fb-b996-4981-b5b8-af168d1f2fd7"
   },
   "outputs": [
    {
     "data": {
      "text/html": [
       "\n",
       "  <div id=\"df-78a51ab3-dfd9-4bd9-a8cf-66e5669575cc\">\n",
       "    <div class=\"colab-df-container\">\n",
       "      <div>\n",
       "<style scoped>\n",
       "    .dataframe tbody tr th:only-of-type {\n",
       "        vertical-align: middle;\n",
       "    }\n",
       "\n",
       "    .dataframe tbody tr th {\n",
       "        vertical-align: top;\n",
       "    }\n",
       "\n",
       "    .dataframe thead th {\n",
       "        text-align: right;\n",
       "    }\n",
       "</style>\n",
       "<table border=\"1\" class=\"dataframe\">\n",
       "  <thead>\n",
       "    <tr style=\"text-align: right;\">\n",
       "      <th></th>\n",
       "      <th>survived</th>\n",
       "      <th>pclass</th>\n",
       "      <th>name</th>\n",
       "      <th>gender</th>\n",
       "      <th>age</th>\n",
       "      <th>sibsp</th>\n",
       "      <th>parch</th>\n",
       "      <th>ticket</th>\n",
       "      <th>fare</th>\n",
       "      <th>cabin</th>\n",
       "      <th>embarked</th>\n",
       "    </tr>\n",
       "  </thead>\n",
       "  <tbody>\n",
       "    <tr>\n",
       "      <th>0</th>\n",
       "      <td>0</td>\n",
       "      <td>2</td>\n",
       "      <td>Wheeler, Mr. Edwin Frederick\"\"</td>\n",
       "      <td>male</td>\n",
       "      <td>NaN</td>\n",
       "      <td>0</td>\n",
       "      <td>0</td>\n",
       "      <td>SC/PARIS 2159</td>\n",
       "      <td>12.8750</td>\n",
       "      <td>NaN</td>\n",
       "      <td>S</td>\n",
       "    </tr>\n",
       "    <tr>\n",
       "      <th>1</th>\n",
       "      <td>0</td>\n",
       "      <td>3</td>\n",
       "      <td>Henry, Miss. Delia</td>\n",
       "      <td>female</td>\n",
       "      <td>NaN</td>\n",
       "      <td>0</td>\n",
       "      <td>0</td>\n",
       "      <td>382649</td>\n",
       "      <td>7.7500</td>\n",
       "      <td>NaN</td>\n",
       "      <td>Q</td>\n",
       "    </tr>\n",
       "    <tr>\n",
       "      <th>2</th>\n",
       "      <td>1</td>\n",
       "      <td>1</td>\n",
       "      <td>Hays, Mrs. Charles Melville (Clara Jennings Gr...</td>\n",
       "      <td>female</td>\n",
       "      <td>52.0</td>\n",
       "      <td>1</td>\n",
       "      <td>1</td>\n",
       "      <td>12749</td>\n",
       "      <td>93.5000</td>\n",
       "      <td>B69</td>\n",
       "      <td>S</td>\n",
       "    </tr>\n",
       "    <tr>\n",
       "      <th>3</th>\n",
       "      <td>1</td>\n",
       "      <td>3</td>\n",
       "      <td>Andersson, Mr. August Edvard (\"Wennerstrom\")</td>\n",
       "      <td>male</td>\n",
       "      <td>27.0</td>\n",
       "      <td>0</td>\n",
       "      <td>0</td>\n",
       "      <td>350043</td>\n",
       "      <td>7.7958</td>\n",
       "      <td>NaN</td>\n",
       "      <td>S</td>\n",
       "    </tr>\n",
       "    <tr>\n",
       "      <th>4</th>\n",
       "      <td>0</td>\n",
       "      <td>2</td>\n",
       "      <td>Hold, Mr. Stephen</td>\n",
       "      <td>male</td>\n",
       "      <td>44.0</td>\n",
       "      <td>1</td>\n",
       "      <td>0</td>\n",
       "      <td>26707</td>\n",
       "      <td>26.0000</td>\n",
       "      <td>NaN</td>\n",
       "      <td>S</td>\n",
       "    </tr>\n",
       "  </tbody>\n",
       "</table>\n",
       "</div>\n",
       "      <button class=\"colab-df-convert\" onclick=\"convertToInteractive('df-78a51ab3-dfd9-4bd9-a8cf-66e5669575cc')\"\n",
       "              title=\"Convert this dataframe to an interactive table.\"\n",
       "              style=\"display:none;\">\n",
       "        \n",
       "  <svg xmlns=\"http://www.w3.org/2000/svg\" height=\"24px\"viewBox=\"0 0 24 24\"\n",
       "       width=\"24px\">\n",
       "    <path d=\"M0 0h24v24H0V0z\" fill=\"none\"/>\n",
       "    <path d=\"M18.56 5.44l.94 2.06.94-2.06 2.06-.94-2.06-.94-.94-2.06-.94 2.06-2.06.94zm-11 1L8.5 8.5l.94-2.06 2.06-.94-2.06-.94L8.5 2.5l-.94 2.06-2.06.94zm10 10l.94 2.06.94-2.06 2.06-.94-2.06-.94-.94-2.06-.94 2.06-2.06.94z\"/><path d=\"M17.41 7.96l-1.37-1.37c-.4-.4-.92-.59-1.43-.59-.52 0-1.04.2-1.43.59L10.3 9.45l-7.72 7.72c-.78.78-.78 2.05 0 2.83L4 21.41c.39.39.9.59 1.41.59.51 0 1.02-.2 1.41-.59l7.78-7.78 2.81-2.81c.8-.78.8-2.07 0-2.86zM5.41 20L4 18.59l7.72-7.72 1.47 1.35L5.41 20z\"/>\n",
       "  </svg>\n",
       "      </button>\n",
       "      \n",
       "  <style>\n",
       "    .colab-df-container {\n",
       "      display:flex;\n",
       "      flex-wrap:wrap;\n",
       "      gap: 12px;\n",
       "    }\n",
       "\n",
       "    .colab-df-convert {\n",
       "      background-color: #E8F0FE;\n",
       "      border: none;\n",
       "      border-radius: 50%;\n",
       "      cursor: pointer;\n",
       "      display: none;\n",
       "      fill: #1967D2;\n",
       "      height: 32px;\n",
       "      padding: 0 0 0 0;\n",
       "      width: 32px;\n",
       "    }\n",
       "\n",
       "    .colab-df-convert:hover {\n",
       "      background-color: #E2EBFA;\n",
       "      box-shadow: 0px 1px 2px rgba(60, 64, 67, 0.3), 0px 1px 3px 1px rgba(60, 64, 67, 0.15);\n",
       "      fill: #174EA6;\n",
       "    }\n",
       "\n",
       "    [theme=dark] .colab-df-convert {\n",
       "      background-color: #3B4455;\n",
       "      fill: #D2E3FC;\n",
       "    }\n",
       "\n",
       "    [theme=dark] .colab-df-convert:hover {\n",
       "      background-color: #434B5C;\n",
       "      box-shadow: 0px 1px 3px 1px rgba(0, 0, 0, 0.15);\n",
       "      filter: drop-shadow(0px 1px 2px rgba(0, 0, 0, 0.3));\n",
       "      fill: #FFFFFF;\n",
       "    }\n",
       "  </style>\n",
       "\n",
       "      <script>\n",
       "        const buttonEl =\n",
       "          document.querySelector('#df-78a51ab3-dfd9-4bd9-a8cf-66e5669575cc button.colab-df-convert');\n",
       "        buttonEl.style.display =\n",
       "          google.colab.kernel.accessAllowed ? 'block' : 'none';\n",
       "\n",
       "        async function convertToInteractive(key) {\n",
       "          const element = document.querySelector('#df-78a51ab3-dfd9-4bd9-a8cf-66e5669575cc');\n",
       "          const dataTable =\n",
       "            await google.colab.kernel.invokeFunction('convertToInteractive',\n",
       "                                                     [key], {});\n",
       "          if (!dataTable) return;\n",
       "\n",
       "          const docLinkHtml = 'Like what you see? Visit the ' +\n",
       "            '<a target=\"_blank\" href=https://colab.research.google.com/notebooks/data_table.ipynb>data table notebook</a>'\n",
       "            + ' to learn more about interactive tables.';\n",
       "          element.innerHTML = '';\n",
       "          dataTable['output_type'] = 'display_data';\n",
       "          await google.colab.output.renderOutput(dataTable, element);\n",
       "          const docLink = document.createElement('div');\n",
       "          docLink.innerHTML = docLinkHtml;\n",
       "          element.appendChild(docLink);\n",
       "        }\n",
       "      </script>\n",
       "    </div>\n",
       "  </div>\n",
       "  "
      ],
      "text/plain": [
       "   survived  pclass                                               name  \\\n",
       "0         0       2                     Wheeler, Mr. Edwin Frederick\"\"   \n",
       "1         0       3                                 Henry, Miss. Delia   \n",
       "2         1       1  Hays, Mrs. Charles Melville (Clara Jennings Gr...   \n",
       "3         1       3       Andersson, Mr. August Edvard (\"Wennerstrom\")   \n",
       "4         0       2                                  Hold, Mr. Stephen   \n",
       "\n",
       "   gender   age  sibsp  parch         ticket     fare cabin embarked  \n",
       "0    male   NaN      0      0  SC/PARIS 2159  12.8750   NaN        S  \n",
       "1  female   NaN      0      0         382649   7.7500   NaN        Q  \n",
       "2  female  52.0      1      1          12749  93.5000   B69        S  \n",
       "3    male  27.0      0      0         350043   7.7958   NaN        S  \n",
       "4    male  44.0      1      0          26707  26.0000   NaN        S  "
      ]
     },
     "execution_count": 9,
     "metadata": {},
     "output_type": "execute_result"
    }
   ],
   "source": [
    "ori_train.drop('passengerid', axis=1, inplace=True)\n",
    "ori_train.head()"
   ]
  },
  {
   "cell_type": "code",
   "execution_count": null,
   "metadata": {
    "colab": {
     "base_uri": "https://localhost:8080/",
     "height": 255
    },
    "executionInfo": {
     "elapsed": 13,
     "status": "ok",
     "timestamp": 1676895846329,
     "user": {
      "displayName": "조경원",
      "userId": "10205523497785796707"
     },
     "user_tz": -540
    },
    "id": "xFmCng-XEKi7",
    "outputId": "edc2d174-be07-44f7-e134-b532cb09b61a"
   },
   "outputs": [
    {
     "name": "stdout",
     "output_type": "stream",
     "text": [
      "(393, 10)\n"
     ]
    },
    {
     "data": {
      "text/html": [
       "\n",
       "  <div id=\"df-23aa21b4-0214-40a1-a988-eb954f4869e8\">\n",
       "    <div class=\"colab-df-container\">\n",
       "      <div>\n",
       "<style scoped>\n",
       "    .dataframe tbody tr th:only-of-type {\n",
       "        vertical-align: middle;\n",
       "    }\n",
       "\n",
       "    .dataframe tbody tr th {\n",
       "        vertical-align: top;\n",
       "    }\n",
       "\n",
       "    .dataframe thead th {\n",
       "        text-align: right;\n",
       "    }\n",
       "</style>\n",
       "<table border=\"1\" class=\"dataframe\">\n",
       "  <thead>\n",
       "    <tr style=\"text-align: right;\">\n",
       "      <th></th>\n",
       "      <th>pclass</th>\n",
       "      <th>name</th>\n",
       "      <th>gender</th>\n",
       "      <th>age</th>\n",
       "      <th>sibsp</th>\n",
       "      <th>parch</th>\n",
       "      <th>ticket</th>\n",
       "      <th>fare</th>\n",
       "      <th>cabin</th>\n",
       "      <th>embarked</th>\n",
       "    </tr>\n",
       "    <tr>\n",
       "      <th>passengerid</th>\n",
       "      <th></th>\n",
       "      <th></th>\n",
       "      <th></th>\n",
       "      <th></th>\n",
       "      <th></th>\n",
       "      <th></th>\n",
       "      <th></th>\n",
       "      <th></th>\n",
       "      <th></th>\n",
       "      <th></th>\n",
       "    </tr>\n",
       "  </thead>\n",
       "  <tbody>\n",
       "    <tr>\n",
       "      <th>916</th>\n",
       "      <td>3</td>\n",
       "      <td>McGowan, Miss. Anna \"Annie\"</td>\n",
       "      <td>female</td>\n",
       "      <td>15.0</td>\n",
       "      <td>0</td>\n",
       "      <td>0</td>\n",
       "      <td>330923</td>\n",
       "      <td>8.0292</td>\n",
       "      <td>NaN</td>\n",
       "      <td>Q</td>\n",
       "    </tr>\n",
       "    <tr>\n",
       "      <th>917</th>\n",
       "      <td>2</td>\n",
       "      <td>Pinsky, Mrs. (Rosa)</td>\n",
       "      <td>female</td>\n",
       "      <td>32.0</td>\n",
       "      <td>0</td>\n",
       "      <td>0</td>\n",
       "      <td>234604</td>\n",
       "      <td>13.0000</td>\n",
       "      <td>NaN</td>\n",
       "      <td>S</td>\n",
       "    </tr>\n",
       "    <tr>\n",
       "      <th>918</th>\n",
       "      <td>3</td>\n",
       "      <td>McCarthy, Miss. Catherine Katie\"\"</td>\n",
       "      <td>female</td>\n",
       "      <td>NaN</td>\n",
       "      <td>0</td>\n",
       "      <td>0</td>\n",
       "      <td>383123</td>\n",
       "      <td>7.7500</td>\n",
       "      <td>NaN</td>\n",
       "      <td>Q</td>\n",
       "    </tr>\n",
       "    <tr>\n",
       "      <th>919</th>\n",
       "      <td>3</td>\n",
       "      <td>Franklin, Mr. Charles (Charles Fardon)</td>\n",
       "      <td>male</td>\n",
       "      <td>NaN</td>\n",
       "      <td>0</td>\n",
       "      <td>0</td>\n",
       "      <td>SOTON/O.Q. 3101314</td>\n",
       "      <td>7.2500</td>\n",
       "      <td>NaN</td>\n",
       "      <td>S</td>\n",
       "    </tr>\n",
       "    <tr>\n",
       "      <th>920</th>\n",
       "      <td>1</td>\n",
       "      <td>Wick, Mrs. George Dennick (Mary Hitchcock)</td>\n",
       "      <td>female</td>\n",
       "      <td>45.0</td>\n",
       "      <td>1</td>\n",
       "      <td>1</td>\n",
       "      <td>36928</td>\n",
       "      <td>164.8667</td>\n",
       "      <td>NaN</td>\n",
       "      <td>S</td>\n",
       "    </tr>\n",
       "  </tbody>\n",
       "</table>\n",
       "</div>\n",
       "      <button class=\"colab-df-convert\" onclick=\"convertToInteractive('df-23aa21b4-0214-40a1-a988-eb954f4869e8')\"\n",
       "              title=\"Convert this dataframe to an interactive table.\"\n",
       "              style=\"display:none;\">\n",
       "        \n",
       "  <svg xmlns=\"http://www.w3.org/2000/svg\" height=\"24px\"viewBox=\"0 0 24 24\"\n",
       "       width=\"24px\">\n",
       "    <path d=\"M0 0h24v24H0V0z\" fill=\"none\"/>\n",
       "    <path d=\"M18.56 5.44l.94 2.06.94-2.06 2.06-.94-2.06-.94-.94-2.06-.94 2.06-2.06.94zm-11 1L8.5 8.5l.94-2.06 2.06-.94-2.06-.94L8.5 2.5l-.94 2.06-2.06.94zm10 10l.94 2.06.94-2.06 2.06-.94-2.06-.94-.94-2.06-.94 2.06-2.06.94z\"/><path d=\"M17.41 7.96l-1.37-1.37c-.4-.4-.92-.59-1.43-.59-.52 0-1.04.2-1.43.59L10.3 9.45l-7.72 7.72c-.78.78-.78 2.05 0 2.83L4 21.41c.39.39.9.59 1.41.59.51 0 1.02-.2 1.41-.59l7.78-7.78 2.81-2.81c.8-.78.8-2.07 0-2.86zM5.41 20L4 18.59l7.72-7.72 1.47 1.35L5.41 20z\"/>\n",
       "  </svg>\n",
       "      </button>\n",
       "      \n",
       "  <style>\n",
       "    .colab-df-container {\n",
       "      display:flex;\n",
       "      flex-wrap:wrap;\n",
       "      gap: 12px;\n",
       "    }\n",
       "\n",
       "    .colab-df-convert {\n",
       "      background-color: #E8F0FE;\n",
       "      border: none;\n",
       "      border-radius: 50%;\n",
       "      cursor: pointer;\n",
       "      display: none;\n",
       "      fill: #1967D2;\n",
       "      height: 32px;\n",
       "      padding: 0 0 0 0;\n",
       "      width: 32px;\n",
       "    }\n",
       "\n",
       "    .colab-df-convert:hover {\n",
       "      background-color: #E2EBFA;\n",
       "      box-shadow: 0px 1px 2px rgba(60, 64, 67, 0.3), 0px 1px 3px 1px rgba(60, 64, 67, 0.15);\n",
       "      fill: #174EA6;\n",
       "    }\n",
       "\n",
       "    [theme=dark] .colab-df-convert {\n",
       "      background-color: #3B4455;\n",
       "      fill: #D2E3FC;\n",
       "    }\n",
       "\n",
       "    [theme=dark] .colab-df-convert:hover {\n",
       "      background-color: #434B5C;\n",
       "      box-shadow: 0px 1px 3px 1px rgba(0, 0, 0, 0.15);\n",
       "      filter: drop-shadow(0px 1px 2px rgba(0, 0, 0, 0.3));\n",
       "      fill: #FFFFFF;\n",
       "    }\n",
       "  </style>\n",
       "\n",
       "      <script>\n",
       "        const buttonEl =\n",
       "          document.querySelector('#df-23aa21b4-0214-40a1-a988-eb954f4869e8 button.colab-df-convert');\n",
       "        buttonEl.style.display =\n",
       "          google.colab.kernel.accessAllowed ? 'block' : 'none';\n",
       "\n",
       "        async function convertToInteractive(key) {\n",
       "          const element = document.querySelector('#df-23aa21b4-0214-40a1-a988-eb954f4869e8');\n",
       "          const dataTable =\n",
       "            await google.colab.kernel.invokeFunction('convertToInteractive',\n",
       "                                                     [key], {});\n",
       "          if (!dataTable) return;\n",
       "\n",
       "          const docLinkHtml = 'Like what you see? Visit the ' +\n",
       "            '<a target=\"_blank\" href=https://colab.research.google.com/notebooks/data_table.ipynb>data table notebook</a>'\n",
       "            + ' to learn more about interactive tables.';\n",
       "          element.innerHTML = '';\n",
       "          dataTable['output_type'] = 'display_data';\n",
       "          await google.colab.output.renderOutput(dataTable, element);\n",
       "          const docLink = document.createElement('div');\n",
       "          docLink.innerHTML = docLinkHtml;\n",
       "          element.appendChild(docLink);\n",
       "        }\n",
       "      </script>\n",
       "    </div>\n",
       "  </div>\n",
       "  "
      ],
      "text/plain": [
       "             pclass                                        name  gender   age  \\\n",
       "passengerid                                                                     \n",
       "916               3                 McGowan, Miss. Anna \"Annie\"  female  15.0   \n",
       "917               2                         Pinsky, Mrs. (Rosa)  female  32.0   \n",
       "918               3           McCarthy, Miss. Catherine Katie\"\"  female   NaN   \n",
       "919               3      Franklin, Mr. Charles (Charles Fardon)    male   NaN   \n",
       "920               1  Wick, Mrs. George Dennick (Mary Hitchcock)  female  45.0   \n",
       "\n",
       "             sibsp  parch              ticket      fare cabin embarked  \n",
       "passengerid                                                             \n",
       "916              0      0              330923    8.0292   NaN        Q  \n",
       "917              0      0              234604   13.0000   NaN        S  \n",
       "918              0      0              383123    7.7500   NaN        Q  \n",
       "919              0      0  SOTON/O.Q. 3101314    7.2500   NaN        S  \n",
       "920              1      1               36928  164.8667   NaN        S  "
      ]
     },
     "execution_count": 10,
     "metadata": {},
     "output_type": "execute_result"
    }
   ],
   "source": [
    "ori_test.set_index(['passengerid'], inplace=True) \n",
    "print(f'{ori_test.shape}')\n",
    "ori_test.head()"
   ]
  },
  {
   "cell_type": "markdown",
   "metadata": {
    "id": "A6vblT6FV9AL"
   },
   "source": [
    "# train_test_split"
   ]
  },
  {
   "cell_type": "code",
   "execution_count": null,
   "metadata": {
    "colab": {
     "base_uri": "https://localhost:8080/",
     "height": 143
    },
    "executionInfo": {
     "elapsed": 7,
     "status": "ok",
     "timestamp": 1676895846329,
     "user": {
      "displayName": "조경원",
      "userId": "10205523497785796707"
     },
     "user_tz": -540
    },
    "id": "JjOQ9IMMWPj0",
    "outputId": "040e984f-c058-4875-8893-f3b172eb4651"
   },
   "outputs": [
    {
     "data": {
      "text/html": [
       "\n",
       "  <div id=\"df-1acf8917-397e-401e-be60-9c27f8670aca\">\n",
       "    <div class=\"colab-df-container\">\n",
       "      <div>\n",
       "<style scoped>\n",
       "    .dataframe tbody tr th:only-of-type {\n",
       "        vertical-align: middle;\n",
       "    }\n",
       "\n",
       "    .dataframe tbody tr th {\n",
       "        vertical-align: top;\n",
       "    }\n",
       "\n",
       "    .dataframe thead th {\n",
       "        text-align: right;\n",
       "    }\n",
       "</style>\n",
       "<table border=\"1\" class=\"dataframe\">\n",
       "  <thead>\n",
       "    <tr style=\"text-align: right;\">\n",
       "      <th></th>\n",
       "      <th>counts</th>\n",
       "      <th>freqs</th>\n",
       "    </tr>\n",
       "    <tr>\n",
       "      <th>categories</th>\n",
       "      <th></th>\n",
       "      <th></th>\n",
       "    </tr>\n",
       "  </thead>\n",
       "  <tbody>\n",
       "    <tr>\n",
       "      <th>Died</th>\n",
       "      <td>570</td>\n",
       "      <td>0.622271</td>\n",
       "    </tr>\n",
       "    <tr>\n",
       "      <th>Survived</th>\n",
       "      <td>346</td>\n",
       "      <td>0.377729</td>\n",
       "    </tr>\n",
       "  </tbody>\n",
       "</table>\n",
       "</div>\n",
       "      <button class=\"colab-df-convert\" onclick=\"convertToInteractive('df-1acf8917-397e-401e-be60-9c27f8670aca')\"\n",
       "              title=\"Convert this dataframe to an interactive table.\"\n",
       "              style=\"display:none;\">\n",
       "        \n",
       "  <svg xmlns=\"http://www.w3.org/2000/svg\" height=\"24px\"viewBox=\"0 0 24 24\"\n",
       "       width=\"24px\">\n",
       "    <path d=\"M0 0h24v24H0V0z\" fill=\"none\"/>\n",
       "    <path d=\"M18.56 5.44l.94 2.06.94-2.06 2.06-.94-2.06-.94-.94-2.06-.94 2.06-2.06.94zm-11 1L8.5 8.5l.94-2.06 2.06-.94-2.06-.94L8.5 2.5l-.94 2.06-2.06.94zm10 10l.94 2.06.94-2.06 2.06-.94-2.06-.94-.94-2.06-.94 2.06-2.06.94z\"/><path d=\"M17.41 7.96l-1.37-1.37c-.4-.4-.92-.59-1.43-.59-.52 0-1.04.2-1.43.59L10.3 9.45l-7.72 7.72c-.78.78-.78 2.05 0 2.83L4 21.41c.39.39.9.59 1.41.59.51 0 1.02-.2 1.41-.59l7.78-7.78 2.81-2.81c.8-.78.8-2.07 0-2.86zM5.41 20L4 18.59l7.72-7.72 1.47 1.35L5.41 20z\"/>\n",
       "  </svg>\n",
       "      </button>\n",
       "      \n",
       "  <style>\n",
       "    .colab-df-container {\n",
       "      display:flex;\n",
       "      flex-wrap:wrap;\n",
       "      gap: 12px;\n",
       "    }\n",
       "\n",
       "    .colab-df-convert {\n",
       "      background-color: #E8F0FE;\n",
       "      border: none;\n",
       "      border-radius: 50%;\n",
       "      cursor: pointer;\n",
       "      display: none;\n",
       "      fill: #1967D2;\n",
       "      height: 32px;\n",
       "      padding: 0 0 0 0;\n",
       "      width: 32px;\n",
       "    }\n",
       "\n",
       "    .colab-df-convert:hover {\n",
       "      background-color: #E2EBFA;\n",
       "      box-shadow: 0px 1px 2px rgba(60, 64, 67, 0.3), 0px 1px 3px 1px rgba(60, 64, 67, 0.15);\n",
       "      fill: #174EA6;\n",
       "    }\n",
       "\n",
       "    [theme=dark] .colab-df-convert {\n",
       "      background-color: #3B4455;\n",
       "      fill: #D2E3FC;\n",
       "    }\n",
       "\n",
       "    [theme=dark] .colab-df-convert:hover {\n",
       "      background-color: #434B5C;\n",
       "      box-shadow: 0px 1px 3px 1px rgba(0, 0, 0, 0.15);\n",
       "      filter: drop-shadow(0px 1px 2px rgba(0, 0, 0, 0.3));\n",
       "      fill: #FFFFFF;\n",
       "    }\n",
       "  </style>\n",
       "\n",
       "      <script>\n",
       "        const buttonEl =\n",
       "          document.querySelector('#df-1acf8917-397e-401e-be60-9c27f8670aca button.colab-df-convert');\n",
       "        buttonEl.style.display =\n",
       "          google.colab.kernel.accessAllowed ? 'block' : 'none';\n",
       "\n",
       "        async function convertToInteractive(key) {\n",
       "          const element = document.querySelector('#df-1acf8917-397e-401e-be60-9c27f8670aca');\n",
       "          const dataTable =\n",
       "            await google.colab.kernel.invokeFunction('convertToInteractive',\n",
       "                                                     [key], {});\n",
       "          if (!dataTable) return;\n",
       "\n",
       "          const docLinkHtml = 'Like what you see? Visit the ' +\n",
       "            '<a target=\"_blank\" href=https://colab.research.google.com/notebooks/data_table.ipynb>data table notebook</a>'\n",
       "            + ' to learn more about interactive tables.';\n",
       "          element.innerHTML = '';\n",
       "          dataTable['output_type'] = 'display_data';\n",
       "          await google.colab.output.renderOutput(dataTable, element);\n",
       "          const docLink = document.createElement('div');\n",
       "          docLink.innerHTML = docLinkHtml;\n",
       "          element.appendChild(docLink);\n",
       "        }\n",
       "      </script>\n",
       "    </div>\n",
       "  </div>\n",
       "  "
      ],
      "text/plain": [
       "            counts     freqs\n",
       "categories                  \n",
       "Died           570  0.622271\n",
       "Survived       346  0.377729"
      ]
     },
     "execution_count": 11,
     "metadata": {},
     "output_type": "execute_result"
    }
   ],
   "source": [
    "new_survived = pd.Categorical(ori_train[\"survived\"])\n",
    "new_survived = new_survived.rename_categories([\"Died\",\"Survived\"])              \n",
    "\n",
    "new_survived.describe()"
   ]
  },
  {
   "cell_type": "code",
   "execution_count": null,
   "metadata": {
    "id": "koeYL3h2V2Ks"
   },
   "outputs": [],
   "source": [
    "from sklearn.model_selection import train_test_split"
   ]
  },
  {
   "cell_type": "code",
   "execution_count": null,
   "metadata": {
    "id": "7PbKWXGgDQ3w"
   },
   "outputs": [],
   "source": [
    "y = ori_train['survived']\n",
    "X = ori_train.drop(['survived'], axis=1)"
   ]
  },
  {
   "cell_type": "code",
   "execution_count": null,
   "metadata": {
    "colab": {
     "base_uri": "https://localhost:8080/"
    },
    "executionInfo": {
     "elapsed": 6,
     "status": "ok",
     "timestamp": 1676895847213,
     "user": {
      "displayName": "조경원",
      "userId": "10205523497785796707"
     },
     "user_tz": -540
    },
    "id": "PKVlYZkjWCWC",
    "outputId": "b3e5edad-34ac-455c-8906-abd74b00f04a"
   },
   "outputs": [
    {
     "data": {
      "text/plain": [
       "((641, 10), (275, 10), (641,), (275,))"
      ]
     },
     "execution_count": 14,
     "metadata": {},
     "output_type": "execute_result"
    }
   ],
   "source": [
    "X_tr, X_te, y_tr, y_te = train_test_split(X, y, test_size=0.3, stratify=ori_train['survived'], random_state=args.random_state)\n",
    "\n",
    "X_tr.shape, X_te.shape, y_tr.shape, y_te.shape"
   ]
  },
  {
   "cell_type": "markdown",
   "metadata": {
    "id": "rLL_5f3yW1w6"
   },
   "source": [
    "# Base ModelV0"
   ]
  },
  {
   "cell_type": "code",
   "execution_count": null,
   "metadata": {
    "colab": {
     "base_uri": "https://localhost:8080/"
    },
    "executionInfo": {
     "elapsed": 4,
     "status": "ok",
     "timestamp": 1676895847213,
     "user": {
      "displayName": "조경원",
      "userId": "10205523497785796707"
     },
     "user_tz": -540
    },
    "id": "gk5uK32pWxw5",
    "outputId": "31affd2a-7224-4618-a513-f7dc4b0f9191"
   },
   "outputs": [
    {
     "data": {
      "text/plain": [
       "((641, 10), (275, 10), (393, 10))"
      ]
     },
     "execution_count": 15,
     "metadata": {},
     "output_type": "execute_result"
    }
   ],
   "source": [
    "train = X_tr.copy() \n",
    "test = X_te.copy()\n",
    "ori_te = ori_test.copy()\n",
    "\n",
    "train.shape, test.shape, ori_te.shape"
   ]
  },
  {
   "cell_type": "markdown",
   "metadata": {
    "id": "if2WMXAMXC9h"
   },
   "source": [
    "## Data Preprocessing"
   ]
  },
  {
   "cell_type": "code",
   "execution_count": null,
   "metadata": {
    "colab": {
     "base_uri": "https://localhost:8080/"
    },
    "executionInfo": {
     "elapsed": 711,
     "status": "ok",
     "timestamp": 1676895847922,
     "user": {
      "displayName": "조경원",
      "userId": "10205523497785796707"
     },
     "user_tz": -540
    },
    "id": "VAaFr2cnXA1E",
    "outputId": "02871832-a78a-47d4-a4b3-4d104d859b29"
   },
   "outputs": [
    {
     "name": "stdout",
     "output_type": "stream",
     "text": [
      "<class 'pandas.core.frame.DataFrame'>\n",
      "Int64Index: 641 entries, 812 to 277\n",
      "Data columns (total 10 columns):\n",
      " #   Column    Non-Null Count  Dtype  \n",
      "---  ------    --------------  -----  \n",
      " 0   pclass    641 non-null    int64  \n",
      " 1   name      641 non-null    object \n",
      " 2   gender    641 non-null    object \n",
      " 3   age       512 non-null    float64\n",
      " 4   sibsp     641 non-null    int64  \n",
      " 5   parch     641 non-null    int64  \n",
      " 6   ticket    641 non-null    object \n",
      " 7   fare      641 non-null    float64\n",
      " 8   cabin     135 non-null    object \n",
      " 9   embarked  641 non-null    object \n",
      "dtypes: float64(2), int64(3), object(5)\n",
      "memory usage: 55.1+ KB\n"
     ]
    }
   ],
   "source": [
    "train.info()"
   ]
  },
  {
   "cell_type": "markdown",
   "metadata": {
    "id": "vxYO1NrXXMtx"
   },
   "source": [
    "drop columns"
   ]
  },
  {
   "cell_type": "code",
   "execution_count": null,
   "metadata": {
    "colab": {
     "base_uri": "https://localhost:8080/"
    },
    "executionInfo": {
     "elapsed": 18,
     "status": "ok",
     "timestamp": 1676895847922,
     "user": {
      "displayName": "조경원",
      "userId": "10205523497785796707"
     },
     "user_tz": -540
    },
    "id": "BMAMzgzhXKEM",
    "outputId": "980b661c-0ceb-4943-aba1-249c5c2b30f5"
   },
   "outputs": [
    {
     "name": "stdout",
     "output_type": "stream",
     "text": [
      "before: (641, 10) / (275, 10)\n",
      "after: (641, 7) / (275, 7)\n",
      "<class 'pandas.core.frame.DataFrame'>\n",
      "Int64Index: 641 entries, 812 to 277\n",
      "Data columns (total 7 columns):\n",
      " #   Column    Non-Null Count  Dtype  \n",
      "---  ------    --------------  -----  \n",
      " 0   pclass    641 non-null    int64  \n",
      " 1   gender    641 non-null    object \n",
      " 2   age       512 non-null    float64\n",
      " 3   sibsp     641 non-null    int64  \n",
      " 4   parch     641 non-null    int64  \n",
      " 5   fare      641 non-null    float64\n",
      " 6   embarked  641 non-null    object \n",
      "dtypes: float64(2), int64(3), object(2)\n",
      "memory usage: 40.1+ KB\n"
     ]
    }
   ],
   "source": [
    "print(f'before: {train.shape} / {test.shape}')\n",
    "drop_cols = ['name', 'ticket', 'cabin']\n",
    "\n",
    "train.drop(drop_cols, axis=1, inplace=True)\n",
    "test.drop(drop_cols, axis=1, inplace=True)\n",
    "ori_te.drop(drop_cols, axis=1, inplace=True)\n",
    "\n",
    "print(f'after: {train.shape} / {test.shape}')\n",
    "train.info()"
   ]
  },
  {
   "cell_type": "markdown",
   "metadata": {
    "id": "-MC0A5GjXZex"
   },
   "source": [
    "missing value"
   ]
  },
  {
   "cell_type": "code",
   "execution_count": null,
   "metadata": {
    "colab": {
     "base_uri": "https://localhost:8080/"
    },
    "executionInfo": {
     "elapsed": 15,
     "status": "ok",
     "timestamp": 1676895847922,
     "user": {
      "displayName": "조경원",
      "userId": "10205523497785796707"
     },
     "user_tz": -540
    },
    "id": "7Sz-hgEuXV8_",
    "outputId": "2ab2a69b-12b7-4fec-c451-e9f1ace78dc6"
   },
   "outputs": [
    {
     "data": {
      "text/plain": [
       "pclass        0\n",
       "gender        0\n",
       "age         129\n",
       "sibsp         0\n",
       "parch         0\n",
       "fare          0\n",
       "embarked      0\n",
       "dtype: int64"
      ]
     },
     "execution_count": 18,
     "metadata": {},
     "output_type": "execute_result"
    }
   ],
   "source": [
    "train.isnull().sum()"
   ]
  },
  {
   "cell_type": "code",
   "execution_count": null,
   "metadata": {
    "colab": {
     "base_uri": "https://localhost:8080/"
    },
    "executionInfo": {
     "elapsed": 13,
     "status": "ok",
     "timestamp": 1676895847922,
     "user": {
      "displayName": "조경원",
      "userId": "10205523497785796707"
     },
     "user_tz": -540
    },
    "id": "vczgi273XfAU",
    "outputId": "603ea9bb-d8f3-433c-f892-cc576da929e8"
   },
   "outputs": [
    {
     "data": {
      "text/plain": [
       "pclass       0\n",
       "gender       0\n",
       "age         51\n",
       "sibsp        0\n",
       "parch        0\n",
       "fare         0\n",
       "embarked     1\n",
       "dtype: int64"
      ]
     },
     "execution_count": 19,
     "metadata": {},
     "output_type": "execute_result"
    }
   ],
   "source": [
    "test.isnull().sum()"
   ]
  },
  {
   "cell_type": "code",
   "execution_count": null,
   "metadata": {
    "colab": {
     "base_uri": "https://localhost:8080/"
    },
    "executionInfo": {
     "elapsed": 12,
     "status": "ok",
     "timestamp": 1676895847922,
     "user": {
      "displayName": "조경원",
      "userId": "10205523497785796707"
     },
     "user_tz": -540
    },
    "id": "zlp5VXiLCLrR",
    "outputId": "4cbf6c1f-2a80-4330-fb9e-0cfe90787b05"
   },
   "outputs": [
    {
     "data": {
      "text/plain": [
       "pclass       0\n",
       "gender       0\n",
       "age         83\n",
       "sibsp        0\n",
       "parch        0\n",
       "fare         1\n",
       "embarked     1\n",
       "dtype: int64"
      ]
     },
     "execution_count": 20,
     "metadata": {},
     "output_type": "execute_result"
    }
   ],
   "source": [
    "ori_te.isnull().sum()"
   ]
  },
  {
   "cell_type": "code",
   "execution_count": null,
   "metadata": {
    "colab": {
     "base_uri": "https://localhost:8080/"
    },
    "executionInfo": {
     "elapsed": 12,
     "status": "ok",
     "timestamp": 1676895847923,
     "user": {
      "displayName": "조경원",
      "userId": "10205523497785796707"
     },
     "user_tz": -540
    },
    "id": "Xzm5OVHLXhAv",
    "outputId": "8dc14893-3c83-411a-e8db-060efbaf0384"
   },
   "outputs": [
    {
     "data": {
      "text/plain": [
       "(28.0, 14.4, 'S')"
      ]
     },
     "execution_count": 21,
     "metadata": {},
     "output_type": "execute_result"
    }
   ],
   "source": [
    "age_median = train['age'].median()\n",
    "fare_median = train['fare'].median()\n",
    "embarked_mode = train['embarked'].mode().values[0]\n",
    "\n",
    "age_median, fare_median, embarked_mode"
   ]
  },
  {
   "cell_type": "code",
   "execution_count": null,
   "metadata": {
    "colab": {
     "base_uri": "https://localhost:8080/"
    },
    "executionInfo": {
     "elapsed": 10,
     "status": "ok",
     "timestamp": 1676895847923,
     "user": {
      "displayName": "조경원",
      "userId": "10205523497785796707"
     },
     "user_tz": -540
    },
    "id": "zr6q6vb1XqrG",
    "outputId": "f9eb8db3-d831-4b95-a68f-16c3314db817"
   },
   "outputs": [
    {
     "data": {
      "text/plain": [
       "(0, 0, 0)"
      ]
     },
     "execution_count": 22,
     "metadata": {},
     "output_type": "execute_result"
    }
   ],
   "source": [
    "train['age'].fillna(age_median, inplace=True)\n",
    "test['age'].fillna(age_median, inplace=True)\n",
    "ori_te['age'].fillna(age_median, inplace=True)\n",
    "\n",
    "train['fare'].fillna(fare_median, inplace=True)\n",
    "test['fare'].fillna(fare_median, inplace=True)\n",
    "ori_te['fare'].fillna(fare_median, inplace=True)\n",
    "\n",
    "train['embarked'].fillna(embarked_mode, inplace=True)\n",
    "test['embarked'].fillna(embarked_mode, inplace=True)\n",
    "ori_te['embarked'].fillna(embarked_mode, inplace=True)\n",
    "\n",
    "train.isnull().sum().sum(), test.isnull().sum().sum(), ori_te.isnull().sum().sum()"
   ]
  },
  {
   "cell_type": "markdown",
   "metadata": {
    "id": "eUYyVFT4YOLY"
   },
   "source": [
    "data encoding"
   ]
  },
  {
   "cell_type": "code",
   "execution_count": null,
   "metadata": {
    "id": "vxsmYuiZYJ3i"
   },
   "outputs": [],
   "source": [
    "from sklearn.preprocessing import OneHotEncoder"
   ]
  },
  {
   "cell_type": "code",
   "execution_count": null,
   "metadata": {
    "colab": {
     "base_uri": "https://localhost:8080/"
    },
    "executionInfo": {
     "elapsed": 9,
     "status": "ok",
     "timestamp": 1676895847923,
     "user": {
      "displayName": "조경원",
      "userId": "10205523497785796707"
     },
     "user_tz": -540
    },
    "id": "fKxuPwvGz69n",
    "outputId": "d5e9a036-d3b8-418e-8588-d85a8d683dba"
   },
   "outputs": [
    {
     "data": {
      "text/plain": [
       "Index(['pclass', 'gender', 'age', 'sibsp', 'parch', 'fare', 'embarked'], dtype='object')"
      ]
     },
     "execution_count": 24,
     "metadata": {},
     "output_type": "execute_result"
    }
   ],
   "source": [
    "train.columns"
   ]
  },
  {
   "cell_type": "code",
   "execution_count": null,
   "metadata": {
    "colab": {
     "base_uri": "https://localhost:8080/"
    },
    "executionInfo": {
     "elapsed": 8,
     "status": "ok",
     "timestamp": 1676895847923,
     "user": {
      "displayName": "조경원",
      "userId": "10205523497785796707"
     },
     "user_tz": -540
    },
    "id": "ijwMCjMbYTFE",
    "outputId": "e269a32f-f2e1-4eea-ce8c-cdc688924d78"
   },
   "outputs": [
    {
     "data": {
      "text/plain": [
       "['parch', 'pclass', 'age', 'fare', 'sibsp']"
      ]
     },
     "execution_count": 25,
     "metadata": {},
     "output_type": "execute_result"
    }
   ],
   "source": [
    "enc_cols = ['gender', 'embarked']\n",
    "normal_cols = list(set(train.columns) - set(enc_cols))\n",
    "normal_cols"
   ]
  },
  {
   "cell_type": "code",
   "execution_count": null,
   "metadata": {
    "colab": {
     "base_uri": "https://localhost:8080/",
     "height": 241
    },
    "executionInfo": {
     "elapsed": 7,
     "status": "ok",
     "timestamp": 1676895847923,
     "user": {
      "displayName": "조경원",
      "userId": "10205523497785796707"
     },
     "user_tz": -540
    },
    "id": "973B2IbhYdWK",
    "outputId": "c1c08e5b-9a9b-45f9-a445-109f857fd195"
   },
   "outputs": [
    {
     "name": "stdout",
     "output_type": "stream",
     "text": [
      "before: (641, 7) / (275, 7)\n",
      "after: (641, 10) / (275, 10)\n"
     ]
    },
    {
     "data": {
      "text/html": [
       "\n",
       "  <div id=\"df-9fe012b9-7659-4ea1-8b3e-558e91c0a050\">\n",
       "    <div class=\"colab-df-container\">\n",
       "      <div>\n",
       "<style scoped>\n",
       "    .dataframe tbody tr th:only-of-type {\n",
       "        vertical-align: middle;\n",
       "    }\n",
       "\n",
       "    .dataframe tbody tr th {\n",
       "        vertical-align: top;\n",
       "    }\n",
       "\n",
       "    .dataframe thead th {\n",
       "        text-align: right;\n",
       "    }\n",
       "</style>\n",
       "<table border=\"1\" class=\"dataframe\">\n",
       "  <thead>\n",
       "    <tr style=\"text-align: right;\">\n",
       "      <th></th>\n",
       "      <th>parch</th>\n",
       "      <th>pclass</th>\n",
       "      <th>age</th>\n",
       "      <th>fare</th>\n",
       "      <th>sibsp</th>\n",
       "      <th>gender_female</th>\n",
       "      <th>gender_male</th>\n",
       "      <th>embarked_C</th>\n",
       "      <th>embarked_Q</th>\n",
       "      <th>embarked_S</th>\n",
       "    </tr>\n",
       "  </thead>\n",
       "  <tbody>\n",
       "    <tr>\n",
       "      <th>0</th>\n",
       "      <td>0</td>\n",
       "      <td>3</td>\n",
       "      <td>22.0</td>\n",
       "      <td>7.7750</td>\n",
       "      <td>0</td>\n",
       "      <td>1.0</td>\n",
       "      <td>0.0</td>\n",
       "      <td>0.0</td>\n",
       "      <td>0.0</td>\n",
       "      <td>1.0</td>\n",
       "    </tr>\n",
       "    <tr>\n",
       "      <th>1</th>\n",
       "      <td>0</td>\n",
       "      <td>3</td>\n",
       "      <td>21.0</td>\n",
       "      <td>7.8208</td>\n",
       "      <td>0</td>\n",
       "      <td>0.0</td>\n",
       "      <td>1.0</td>\n",
       "      <td>0.0</td>\n",
       "      <td>1.0</td>\n",
       "      <td>0.0</td>\n",
       "    </tr>\n",
       "    <tr>\n",
       "      <th>2</th>\n",
       "      <td>0</td>\n",
       "      <td>3</td>\n",
       "      <td>32.0</td>\n",
       "      <td>7.8542</td>\n",
       "      <td>0</td>\n",
       "      <td>0.0</td>\n",
       "      <td>1.0</td>\n",
       "      <td>0.0</td>\n",
       "      <td>0.0</td>\n",
       "      <td>1.0</td>\n",
       "    </tr>\n",
       "    <tr>\n",
       "      <th>3</th>\n",
       "      <td>0</td>\n",
       "      <td>3</td>\n",
       "      <td>11.0</td>\n",
       "      <td>18.7875</td>\n",
       "      <td>0</td>\n",
       "      <td>0.0</td>\n",
       "      <td>1.0</td>\n",
       "      <td>1.0</td>\n",
       "      <td>0.0</td>\n",
       "      <td>0.0</td>\n",
       "    </tr>\n",
       "    <tr>\n",
       "      <th>4</th>\n",
       "      <td>0</td>\n",
       "      <td>3</td>\n",
       "      <td>30.0</td>\n",
       "      <td>8.0500</td>\n",
       "      <td>0</td>\n",
       "      <td>0.0</td>\n",
       "      <td>1.0</td>\n",
       "      <td>0.0</td>\n",
       "      <td>0.0</td>\n",
       "      <td>1.0</td>\n",
       "    </tr>\n",
       "  </tbody>\n",
       "</table>\n",
       "</div>\n",
       "      <button class=\"colab-df-convert\" onclick=\"convertToInteractive('df-9fe012b9-7659-4ea1-8b3e-558e91c0a050')\"\n",
       "              title=\"Convert this dataframe to an interactive table.\"\n",
       "              style=\"display:none;\">\n",
       "        \n",
       "  <svg xmlns=\"http://www.w3.org/2000/svg\" height=\"24px\"viewBox=\"0 0 24 24\"\n",
       "       width=\"24px\">\n",
       "    <path d=\"M0 0h24v24H0V0z\" fill=\"none\"/>\n",
       "    <path d=\"M18.56 5.44l.94 2.06.94-2.06 2.06-.94-2.06-.94-.94-2.06-.94 2.06-2.06.94zm-11 1L8.5 8.5l.94-2.06 2.06-.94-2.06-.94L8.5 2.5l-.94 2.06-2.06.94zm10 10l.94 2.06.94-2.06 2.06-.94-2.06-.94-.94-2.06-.94 2.06-2.06.94z\"/><path d=\"M17.41 7.96l-1.37-1.37c-.4-.4-.92-.59-1.43-.59-.52 0-1.04.2-1.43.59L10.3 9.45l-7.72 7.72c-.78.78-.78 2.05 0 2.83L4 21.41c.39.39.9.59 1.41.59.51 0 1.02-.2 1.41-.59l7.78-7.78 2.81-2.81c.8-.78.8-2.07 0-2.86zM5.41 20L4 18.59l7.72-7.72 1.47 1.35L5.41 20z\"/>\n",
       "  </svg>\n",
       "      </button>\n",
       "      \n",
       "  <style>\n",
       "    .colab-df-container {\n",
       "      display:flex;\n",
       "      flex-wrap:wrap;\n",
       "      gap: 12px;\n",
       "    }\n",
       "\n",
       "    .colab-df-convert {\n",
       "      background-color: #E8F0FE;\n",
       "      border: none;\n",
       "      border-radius: 50%;\n",
       "      cursor: pointer;\n",
       "      display: none;\n",
       "      fill: #1967D2;\n",
       "      height: 32px;\n",
       "      padding: 0 0 0 0;\n",
       "      width: 32px;\n",
       "    }\n",
       "\n",
       "    .colab-df-convert:hover {\n",
       "      background-color: #E2EBFA;\n",
       "      box-shadow: 0px 1px 2px rgba(60, 64, 67, 0.3), 0px 1px 3px 1px rgba(60, 64, 67, 0.15);\n",
       "      fill: #174EA6;\n",
       "    }\n",
       "\n",
       "    [theme=dark] .colab-df-convert {\n",
       "      background-color: #3B4455;\n",
       "      fill: #D2E3FC;\n",
       "    }\n",
       "\n",
       "    [theme=dark] .colab-df-convert:hover {\n",
       "      background-color: #434B5C;\n",
       "      box-shadow: 0px 1px 3px 1px rgba(0, 0, 0, 0.15);\n",
       "      filter: drop-shadow(0px 1px 2px rgba(0, 0, 0, 0.3));\n",
       "      fill: #FFFFFF;\n",
       "    }\n",
       "  </style>\n",
       "\n",
       "      <script>\n",
       "        const buttonEl =\n",
       "          document.querySelector('#df-9fe012b9-7659-4ea1-8b3e-558e91c0a050 button.colab-df-convert');\n",
       "        buttonEl.style.display =\n",
       "          google.colab.kernel.accessAllowed ? 'block' : 'none';\n",
       "\n",
       "        async function convertToInteractive(key) {\n",
       "          const element = document.querySelector('#df-9fe012b9-7659-4ea1-8b3e-558e91c0a050');\n",
       "          const dataTable =\n",
       "            await google.colab.kernel.invokeFunction('convertToInteractive',\n",
       "                                                     [key], {});\n",
       "          if (!dataTable) return;\n",
       "\n",
       "          const docLinkHtml = 'Like what you see? Visit the ' +\n",
       "            '<a target=\"_blank\" href=https://colab.research.google.com/notebooks/data_table.ipynb>data table notebook</a>'\n",
       "            + ' to learn more about interactive tables.';\n",
       "          element.innerHTML = '';\n",
       "          dataTable['output_type'] = 'display_data';\n",
       "          await google.colab.output.renderOutput(dataTable, element);\n",
       "          const docLink = document.createElement('div');\n",
       "          docLink.innerHTML = docLinkHtml;\n",
       "          element.appendChild(docLink);\n",
       "        }\n",
       "      </script>\n",
       "    </div>\n",
       "  </div>\n",
       "  "
      ],
      "text/plain": [
       "   parch  pclass   age     fare  sibsp  gender_female  gender_male  \\\n",
       "0      0       3  22.0   7.7750      0            1.0          0.0   \n",
       "1      0       3  21.0   7.8208      0            0.0          1.0   \n",
       "2      0       3  32.0   7.8542      0            0.0          1.0   \n",
       "3      0       3  11.0  18.7875      0            0.0          1.0   \n",
       "4      0       3  30.0   8.0500      0            0.0          1.0   \n",
       "\n",
       "   embarked_C  embarked_Q  embarked_S  \n",
       "0         0.0         0.0         1.0  \n",
       "1         0.0         1.0         0.0  \n",
       "2         0.0         0.0         1.0  \n",
       "3         1.0         0.0         0.0  \n",
       "4         0.0         0.0         1.0  "
      ]
     },
     "execution_count": 26,
     "metadata": {},
     "output_type": "execute_result"
    }
   ],
   "source": [
    "print(f'before: {train.shape} / {test.shape}')\n",
    "\n",
    "enc = OneHotEncoder()\n",
    "# train\n",
    "tmp_tr = pd.DataFrame(\n",
    "    enc.fit_transform(train[enc_cols]).toarray(), \n",
    "    columns = enc.get_feature_names_out()\n",
    ")\n",
    "enc_tr = pd.concat(\n",
    "    [train[normal_cols].reset_index(drop=True), tmp_tr.reset_index(drop=True)]\n",
    "    , axis=1\n",
    ")\n",
    "# test\n",
    "tmp_te = pd.DataFrame(\n",
    "    enc.transform(test[enc_cols]).toarray(), \n",
    "    columns = enc.get_feature_names_out()\n",
    ")\n",
    "enc_te = pd.concat(\n",
    "    [test[normal_cols].reset_index(drop=True), tmp_te.reset_index(drop=True)]\n",
    "    , axis=1\n",
    ")\n",
    "# ori_test\n",
    "tmp_te = pd.DataFrame(\n",
    "    enc.transform(ori_te[enc_cols]).toarray(), \n",
    "    columns = enc.get_feature_names_out()\n",
    ")\n",
    "enc_ori_te = pd.concat(\n",
    "    [ori_te[normal_cols].reset_index(drop=True), tmp_te.reset_index(drop=True)]\n",
    "    , axis=1\n",
    ")\n",
    "\n",
    "print(f'after: {enc_tr.shape} / {enc_te.shape}')\n",
    "enc_tr.head()"
   ]
  },
  {
   "cell_type": "markdown",
   "metadata": {
    "id": "X-EAHwGMae1r"
   },
   "source": [
    "## Training"
   ]
  },
  {
   "cell_type": "code",
   "execution_count": null,
   "metadata": {
    "colab": {
     "base_uri": "https://localhost:8080/"
    },
    "executionInfo": {
     "elapsed": 6,
     "status": "ok",
     "timestamp": 1676895847923,
     "user": {
      "displayName": "조경원",
      "userId": "10205523497785796707"
     },
     "user_tz": -540
    },
    "id": "TtAqy9dTaMzr",
    "outputId": "27d04486-051f-461f-c48c-f077cfa247b6"
   },
   "outputs": [
    {
     "data": {
      "text/plain": [
       "(0, 0, 0)"
      ]
     },
     "execution_count": 27,
     "metadata": {},
     "output_type": "execute_result"
    }
   ],
   "source": [
    "enc_tr.isnull().sum().sum(), enc_te.isnull().sum().sum(), enc_ori_te.isnull().sum().sum()"
   ]
  },
  {
   "cell_type": "code",
   "execution_count": null,
   "metadata": {
    "colab": {
     "base_uri": "https://localhost:8080/"
    },
    "executionInfo": {
     "elapsed": 5,
     "status": "ok",
     "timestamp": 1676895847923,
     "user": {
      "displayName": "조경원",
      "userId": "10205523497785796707"
     },
     "user_tz": -540
    },
    "id": "lyM1TD6fEz-8",
    "outputId": "098544c3-b941-4a9b-cfe1-221d8465b8da"
   },
   "outputs": [
    {
     "data": {
      "text/plain": [
       "((641, 10), (275, 10), (393, 10))"
      ]
     },
     "execution_count": 28,
     "metadata": {},
     "output_type": "execute_result"
    }
   ],
   "source": [
    "enc_tr.shape, enc_te.shape, enc_ori_te.shape"
   ]
  },
  {
   "cell_type": "code",
   "execution_count": null,
   "metadata": {
    "id": "-G1JIMZra-r9"
   },
   "outputs": [],
   "source": [
    "from sklearn.tree import DecisionTreeClassifier"
   ]
  },
  {
   "cell_type": "code",
   "execution_count": null,
   "metadata": {
    "colab": {
     "base_uri": "https://localhost:8080/"
    },
    "executionInfo": {
     "elapsed": 4,
     "status": "ok",
     "timestamp": 1676895848508,
     "user": {
      "displayName": "조경원",
      "userId": "10205523497785796707"
     },
     "user_tz": -540
    },
    "id": "w_GJBgHNbFWB",
    "outputId": "fa71c62a-1a44-4554-e65f-0cf661a4d9f6"
   },
   "outputs": [
    {
     "name": "stdout",
     "output_type": "stream",
     "text": [
      "(641, 10) / (641,)\n"
     ]
    },
    {
     "data": {
      "text/plain": [
       "DecisionTreeClassifier(random_state=21)"
      ]
     },
     "execution_count": 30,
     "metadata": {},
     "output_type": "execute_result"
    }
   ],
   "source": [
    "modelV0 = DecisionTreeClassifier(random_state=args.random_state)\n",
    "\n",
    "print(f'{enc_tr.shape} / {y_tr.shape}')\n",
    "modelV0.fit(enc_tr, y_tr)"
   ]
  },
  {
   "cell_type": "markdown",
   "metadata": {
    "id": "RviCGGxH1kHt"
   },
   "source": [
    "## Evaluation"
   ]
  },
  {
   "cell_type": "code",
   "execution_count": null,
   "metadata": {
    "colab": {
     "base_uri": "https://localhost:8080/"
    },
    "executionInfo": {
     "elapsed": 1221,
     "status": "ok",
     "timestamp": 1676895849726,
     "user": {
      "displayName": "조경원",
      "userId": "10205523497785796707"
     },
     "user_tz": -540
    },
    "id": "lZ9bsXu2bMSL",
    "outputId": "dad570cb-b288-4db0-9cc6-4f42f4b6d024"
   },
   "outputs": [
    {
     "data": {
      "text/plain": [
       "(0.982839313572543, 0.7745454545454545)"
      ]
     },
     "execution_count": 31,
     "metadata": {},
     "output_type": "execute_result"
    }
   ],
   "source": [
    "score_tr = modelV0.score(enc_tr, y_tr)\n",
    "score_te = modelV0.score(enc_te, y_te) \n",
    "\n",
    "score_tr, score_te  "
   ]
  },
  {
   "cell_type": "code",
   "execution_count": null,
   "metadata": {
    "colab": {
     "base_uri": "https://localhost:8080/"
    },
    "executionInfo": {
     "elapsed": 31,
     "status": "ok",
     "timestamp": 1676895849726,
     "user": {
      "displayName": "조경원",
      "userId": "10205523497785796707"
     },
     "user_tz": -540
    },
    "id": "dZMghR8J1tPn",
    "outputId": "ed10f05f-b807-4128-9f3c-6d711241391d"
   },
   "outputs": [
    {
     "name": "stdout",
     "output_type": "stream",
     "text": [
      "model: 0.7635796221322538\n"
     ]
    }
   ],
   "source": [
    "from sklearn.metrics import roc_curve, auc \n",
    "\n",
    "y_pred = modelV0.predict_proba(enc_te)[:,1]\n",
    "fpr, tpr, thresholds = roc_curve(y_te,y_pred)\n",
    "auc_te = auc(fpr, tpr)\n",
    "print(f'model: {auc_te}')"
   ]
  },
  {
   "cell_type": "code",
   "execution_count": null,
   "metadata": {
    "colab": {
     "base_uri": "https://localhost:8080/"
    },
    "executionInfo": {
     "elapsed": 30,
     "status": "ok",
     "timestamp": 1676895849726,
     "user": {
      "displayName": "조경원",
      "userId": "10205523497785796707"
     },
     "user_tz": -540
    },
    "id": "3VJFOdP4FjWw",
    "outputId": "ca3aa503-fc4d-4050-c5fd-b46676dd5a94"
   },
   "outputs": [
    {
     "data": {
      "text/plain": [
       "(393,)"
      ]
     },
     "execution_count": 33,
     "metadata": {},
     "output_type": "execute_result"
    }
   ],
   "source": [
    "ori_te_pred = modelV0.predict_proba(enc_ori_te)[:,1]\n",
    "ori_te_pred.shape"
   ]
  },
  {
   "cell_type": "code",
   "execution_count": null,
   "metadata": {
    "colab": {
     "base_uri": "https://localhost:8080/"
    },
    "executionInfo": {
     "elapsed": 29,
     "status": "ok",
     "timestamp": 1676895849726,
     "user": {
      "displayName": "조경원",
      "userId": "10205523497785796707"
     },
     "user_tz": -540
    },
    "id": "jVx8YVxVmivj",
    "outputId": "bec53be7-e235-47c0-ed13-72bbad7800c8"
   },
   "outputs": [
    {
     "data": {
      "text/plain": [
       "array([0.00739608, 0.0638137 , 0.17352864, 0.19797566, 0.0388822 ,\n",
       "       0.49297873, 0.        , 0.01113587, 0.        , 0.01428912])"
      ]
     },
     "execution_count": 34,
     "metadata": {},
     "output_type": "execute_result"
    }
   ],
   "source": [
    "modelV0.feature_importances_"
   ]
  },
  {
   "cell_type": "code",
   "execution_count": null,
   "metadata": {
    "colab": {
     "base_uri": "https://localhost:8080/",
     "height": 380
    },
    "executionInfo": {
     "elapsed": 27,
     "status": "ok",
     "timestamp": 1676895849726,
     "user": {
      "displayName": "조경원",
      "userId": "10205523497785796707"
     },
     "user_tz": -540
    },
    "id": "SeKchpr_nZFX",
    "outputId": "38eb519c-7271-4273-b4c9-171f541881b0"
   },
   "outputs": [
    {
     "name": "stdout",
     "output_type": "stream",
     "text": [
      "(10, 2)\n"
     ]
    },
    {
     "data": {
      "text/html": [
       "\n",
       "  <div id=\"df-4f7f0bb6-b9be-4715-ac17-bd84d4dbb1ce\">\n",
       "    <div class=\"colab-df-container\">\n",
       "      <div>\n",
       "<style scoped>\n",
       "    .dataframe tbody tr th:only-of-type {\n",
       "        vertical-align: middle;\n",
       "    }\n",
       "\n",
       "    .dataframe tbody tr th {\n",
       "        vertical-align: top;\n",
       "    }\n",
       "\n",
       "    .dataframe thead th {\n",
       "        text-align: right;\n",
       "    }\n",
       "</style>\n",
       "<table border=\"1\" class=\"dataframe\">\n",
       "  <thead>\n",
       "    <tr style=\"text-align: right;\">\n",
       "      <th></th>\n",
       "      <th>index</th>\n",
       "      <th>0</th>\n",
       "    </tr>\n",
       "  </thead>\n",
       "  <tbody>\n",
       "    <tr>\n",
       "      <th>0</th>\n",
       "      <td>gender_female</td>\n",
       "      <td>0.492979</td>\n",
       "    </tr>\n",
       "    <tr>\n",
       "      <th>1</th>\n",
       "      <td>fare</td>\n",
       "      <td>0.197976</td>\n",
       "    </tr>\n",
       "    <tr>\n",
       "      <th>2</th>\n",
       "      <td>age</td>\n",
       "      <td>0.173529</td>\n",
       "    </tr>\n",
       "    <tr>\n",
       "      <th>3</th>\n",
       "      <td>pclass</td>\n",
       "      <td>0.063814</td>\n",
       "    </tr>\n",
       "    <tr>\n",
       "      <th>4</th>\n",
       "      <td>sibsp</td>\n",
       "      <td>0.038882</td>\n",
       "    </tr>\n",
       "    <tr>\n",
       "      <th>5</th>\n",
       "      <td>embarked_S</td>\n",
       "      <td>0.014289</td>\n",
       "    </tr>\n",
       "    <tr>\n",
       "      <th>6</th>\n",
       "      <td>embarked_C</td>\n",
       "      <td>0.011136</td>\n",
       "    </tr>\n",
       "    <tr>\n",
       "      <th>7</th>\n",
       "      <td>parch</td>\n",
       "      <td>0.007396</td>\n",
       "    </tr>\n",
       "    <tr>\n",
       "      <th>8</th>\n",
       "      <td>gender_male</td>\n",
       "      <td>0.000000</td>\n",
       "    </tr>\n",
       "    <tr>\n",
       "      <th>9</th>\n",
       "      <td>embarked_Q</td>\n",
       "      <td>0.000000</td>\n",
       "    </tr>\n",
       "  </tbody>\n",
       "</table>\n",
       "</div>\n",
       "      <button class=\"colab-df-convert\" onclick=\"convertToInteractive('df-4f7f0bb6-b9be-4715-ac17-bd84d4dbb1ce')\"\n",
       "              title=\"Convert this dataframe to an interactive table.\"\n",
       "              style=\"display:none;\">\n",
       "        \n",
       "  <svg xmlns=\"http://www.w3.org/2000/svg\" height=\"24px\"viewBox=\"0 0 24 24\"\n",
       "       width=\"24px\">\n",
       "    <path d=\"M0 0h24v24H0V0z\" fill=\"none\"/>\n",
       "    <path d=\"M18.56 5.44l.94 2.06.94-2.06 2.06-.94-2.06-.94-.94-2.06-.94 2.06-2.06.94zm-11 1L8.5 8.5l.94-2.06 2.06-.94-2.06-.94L8.5 2.5l-.94 2.06-2.06.94zm10 10l.94 2.06.94-2.06 2.06-.94-2.06-.94-.94-2.06-.94 2.06-2.06.94z\"/><path d=\"M17.41 7.96l-1.37-1.37c-.4-.4-.92-.59-1.43-.59-.52 0-1.04.2-1.43.59L10.3 9.45l-7.72 7.72c-.78.78-.78 2.05 0 2.83L4 21.41c.39.39.9.59 1.41.59.51 0 1.02-.2 1.41-.59l7.78-7.78 2.81-2.81c.8-.78.8-2.07 0-2.86zM5.41 20L4 18.59l7.72-7.72 1.47 1.35L5.41 20z\"/>\n",
       "  </svg>\n",
       "      </button>\n",
       "      \n",
       "  <style>\n",
       "    .colab-df-container {\n",
       "      display:flex;\n",
       "      flex-wrap:wrap;\n",
       "      gap: 12px;\n",
       "    }\n",
       "\n",
       "    .colab-df-convert {\n",
       "      background-color: #E8F0FE;\n",
       "      border: none;\n",
       "      border-radius: 50%;\n",
       "      cursor: pointer;\n",
       "      display: none;\n",
       "      fill: #1967D2;\n",
       "      height: 32px;\n",
       "      padding: 0 0 0 0;\n",
       "      width: 32px;\n",
       "    }\n",
       "\n",
       "    .colab-df-convert:hover {\n",
       "      background-color: #E2EBFA;\n",
       "      box-shadow: 0px 1px 2px rgba(60, 64, 67, 0.3), 0px 1px 3px 1px rgba(60, 64, 67, 0.15);\n",
       "      fill: #174EA6;\n",
       "    }\n",
       "\n",
       "    [theme=dark] .colab-df-convert {\n",
       "      background-color: #3B4455;\n",
       "      fill: #D2E3FC;\n",
       "    }\n",
       "\n",
       "    [theme=dark] .colab-df-convert:hover {\n",
       "      background-color: #434B5C;\n",
       "      box-shadow: 0px 1px 3px 1px rgba(0, 0, 0, 0.15);\n",
       "      filter: drop-shadow(0px 1px 2px rgba(0, 0, 0, 0.3));\n",
       "      fill: #FFFFFF;\n",
       "    }\n",
       "  </style>\n",
       "\n",
       "      <script>\n",
       "        const buttonEl =\n",
       "          document.querySelector('#df-4f7f0bb6-b9be-4715-ac17-bd84d4dbb1ce button.colab-df-convert');\n",
       "        buttonEl.style.display =\n",
       "          google.colab.kernel.accessAllowed ? 'block' : 'none';\n",
       "\n",
       "        async function convertToInteractive(key) {\n",
       "          const element = document.querySelector('#df-4f7f0bb6-b9be-4715-ac17-bd84d4dbb1ce');\n",
       "          const dataTable =\n",
       "            await google.colab.kernel.invokeFunction('convertToInteractive',\n",
       "                                                     [key], {});\n",
       "          if (!dataTable) return;\n",
       "\n",
       "          const docLinkHtml = 'Like what you see? Visit the ' +\n",
       "            '<a target=\"_blank\" href=https://colab.research.google.com/notebooks/data_table.ipynb>data table notebook</a>'\n",
       "            + ' to learn more about interactive tables.';\n",
       "          element.innerHTML = '';\n",
       "          dataTable['output_type'] = 'display_data';\n",
       "          await google.colab.output.renderOutput(dataTable, element);\n",
       "          const docLink = document.createElement('div');\n",
       "          docLink.innerHTML = docLinkHtml;\n",
       "          element.appendChild(docLink);\n",
       "        }\n",
       "      </script>\n",
       "    </div>\n",
       "  </div>\n",
       "  "
      ],
      "text/plain": [
       "           index         0\n",
       "0  gender_female  0.492979\n",
       "1           fare  0.197976\n",
       "2            age  0.173529\n",
       "3         pclass  0.063814\n",
       "4          sibsp  0.038882\n",
       "5     embarked_S  0.014289\n",
       "6     embarked_C  0.011136\n",
       "7          parch  0.007396\n",
       "8    gender_male  0.000000\n",
       "9     embarked_Q  0.000000"
      ]
     },
     "execution_count": 35,
     "metadata": {},
     "output_type": "execute_result"
    }
   ],
   "source": [
    "df_feature_importances = pd.DataFrame(modelV0.feature_importances_, enc_tr.columns).sort_values(by=[0], ascending=False).reset_index()\n",
    "\n",
    "print(f'{df_feature_importances.shape}')\n",
    "df_feature_importances"
   ]
  },
  {
   "cell_type": "code",
   "execution_count": null,
   "metadata": {
    "colab": {
     "base_uri": "https://localhost:8080/"
    },
    "executionInfo": {
     "elapsed": 27,
     "status": "ok",
     "timestamp": 1676895849727,
     "user": {
      "displayName": "조경원",
      "userId": "10205523497785796707"
     },
     "user_tz": -540
    },
    "id": "DRLnSYPXbiSt",
    "outputId": "40832c13-2e81-4b1c-cfc2-b06aea4d114f"
   },
   "outputs": [
    {
     "data": {
      "text/plain": [
       "[{'model': 'modelV0',\n",
       "  'score_tr': 0.982839313572543,\n",
       "  'score_te': 0.7745454545454545,\n",
       "  'auc_te': 0.7635796221322538,\n",
       "  'ori_te_pred': array([1.        , 1.        , 1.        , 0.        , 1.        ,\n",
       "         1.        , 0.        , 0.125     , 1.        , 0.        ,\n",
       "         0.        , 0.        , 1.        , 0.        , 1.        ,\n",
       "         0.        , 1.        , 0.        , 0.        , 0.125     ,\n",
       "         0.        , 0.        , 0.        , 0.        , 0.125     ,\n",
       "         0.        , 0.        , 1.        , 0.        , 0.        ,\n",
       "         1.        , 0.        , 0.        , 0.        , 0.        ,\n",
       "         0.5       , 1.        , 0.        , 0.        , 0.        ,\n",
       "         0.        , 1.        , 0.        , 1.        , 0.        ,\n",
       "         0.        , 0.        , 0.        , 0.        , 0.        ,\n",
       "         1.        , 0.        , 1.        , 0.        , 1.        ,\n",
       "         1.        , 0.        , 0.        , 0.        , 0.        ,\n",
       "         1.        , 1.        , 1.        , 0.        , 0.        ,\n",
       "         0.        , 0.        , 1.        , 0.        , 1.        ,\n",
       "         0.2       , 1.        , 1.        , 1.        , 0.        ,\n",
       "         0.        , 0.        , 1.        , 0.        , 0.        ,\n",
       "         0.        , 0.        , 0.        , 1.        , 1.        ,\n",
       "         1.        , 1.        , 1.        , 0.        , 1.        ,\n",
       "         0.        , 1.        , 1.        , 0.        , 0.        ,\n",
       "         0.        , 0.        , 1.        , 0.        , 0.        ,\n",
       "         1.        , 1.        , 0.        , 1.        , 0.125     ,\n",
       "         0.        , 0.        , 1.        , 0.        , 1.        ,\n",
       "         0.        , 0.        , 1.        , 0.        , 0.        ,\n",
       "         0.        , 0.        , 1.        , 1.        , 1.        ,\n",
       "         1.        , 0.        , 0.        , 1.        , 0.33333333,\n",
       "         0.        , 1.        , 0.        , 0.        , 1.        ,\n",
       "         0.        , 0.        , 1.        , 1.        , 0.        ,\n",
       "         1.        , 1.        , 0.        , 1.        , 1.        ,\n",
       "         0.        , 0.125     , 0.        , 0.        , 0.        ,\n",
       "         0.        , 1.        , 1.        , 0.        , 0.        ,\n",
       "         0.5       , 0.        , 0.        , 0.        , 1.        ,\n",
       "         1.        , 1.        , 0.2       , 0.5       , 1.        ,\n",
       "         0.        , 0.        , 1.        , 1.        , 0.        ,\n",
       "         1.        , 1.        , 0.        , 1.        , 0.        ,\n",
       "         0.        , 0.        , 0.        , 0.        , 0.        ,\n",
       "         0.        , 1.        , 1.        , 1.        , 1.        ,\n",
       "         0.        , 0.        , 0.        , 1.        , 1.        ,\n",
       "         0.        , 1.        , 0.5       , 0.        , 0.        ,\n",
       "         0.        , 1.        , 1.        , 1.        , 0.        ,\n",
       "         0.        , 0.        , 0.        , 0.        , 0.        ,\n",
       "         0.        , 0.125     , 0.        , 1.        , 0.        ,\n",
       "         0.        , 1.        , 0.        , 1.        , 0.        ,\n",
       "         0.        , 0.        , 0.        , 0.        , 1.        ,\n",
       "         1.        , 0.        , 0.        , 1.        , 0.        ,\n",
       "         0.        , 1.        , 0.        , 0.        , 0.125     ,\n",
       "         0.        , 0.        , 1.        , 1.        , 1.        ,\n",
       "         1.        , 1.        , 1.        , 0.        , 1.        ,\n",
       "         0.        , 0.        , 0.        , 0.        , 0.        ,\n",
       "         0.        , 0.        , 0.        , 0.        , 0.        ,\n",
       "         0.        , 0.        , 0.        , 1.        , 1.        ,\n",
       "         1.        , 0.        , 1.        , 0.        , 1.        ,\n",
       "         0.        , 0.        , 0.        , 1.        , 1.        ,\n",
       "         0.        , 1.        , 0.        , 0.        , 1.        ,\n",
       "         0.        , 0.        , 0.33333333, 1.        , 1.        ,\n",
       "         1.        , 0.        , 0.        , 0.2       , 1.        ,\n",
       "         0.125     , 0.        , 1.        , 0.        , 1.        ,\n",
       "         0.125     , 0.        , 1.        , 1.        , 1.        ,\n",
       "         0.        , 0.        , 0.        , 1.        , 0.5       ,\n",
       "         0.        , 0.        , 0.        , 0.        , 0.        ,\n",
       "         0.        , 0.        , 0.125     , 1.        , 0.        ,\n",
       "         0.        , 1.        , 1.        , 1.        , 1.        ,\n",
       "         0.        , 0.        , 0.        , 0.        , 0.        ,\n",
       "         1.        , 0.        , 1.        , 0.        , 1.        ,\n",
       "         1.        , 0.        , 0.        , 0.        , 0.        ,\n",
       "         1.        , 0.        , 0.        , 1.        , 1.        ,\n",
       "         0.        , 0.        , 1.        , 0.        , 0.        ,\n",
       "         0.        , 0.        , 0.125     , 0.        , 1.        ,\n",
       "         1.        , 0.        , 0.        , 1.        , 0.        ,\n",
       "         1.        , 0.        , 1.        , 0.        , 0.        ,\n",
       "         0.        , 1.        , 1.        , 1.        , 1.        ,\n",
       "         1.        , 1.        , 0.        , 0.        , 1.        ,\n",
       "         1.        , 0.        , 0.        , 1.        , 1.        ,\n",
       "         0.        , 1.        , 1.        , 0.        , 1.        ,\n",
       "         0.        , 1.        , 0.        , 1.        , 0.        ,\n",
       "         0.        , 0.        , 0.        , 1.        , 0.        ,\n",
       "         1.        , 0.        , 1.        , 0.        , 1.        ,\n",
       "         0.        , 0.        , 0.        , 0.        , 0.        ,\n",
       "         0.        , 0.        , 1.        , 1.        , 1.        ,\n",
       "         1.        , 0.        , 1.        ]),\n",
       "  'len_features': 10,\n",
       "  'feaute_importances': ['gender_female',\n",
       "   'fare',\n",
       "   'age',\n",
       "   'pclass',\n",
       "   'sibsp',\n",
       "   'embarked_S',\n",
       "   'embarked_C',\n",
       "   'parch',\n",
       "   'gender_male',\n",
       "   'embarked_Q'],\n",
       "  'create_dt': '0217'}]"
      ]
     },
     "execution_count": 36,
     "metadata": {},
     "output_type": "execute_result"
    }
   ],
   "source": [
    "args.results.append(\n",
    "    {\n",
    "        'model': 'modelV0',\n",
    "        'score_tr': score_tr,\n",
    "        'score_te': score_te,\n",
    "        'auc_te': auc_te,\n",
    "        'ori_te_pred': ori_te_pred,\n",
    "        'len_features': X_tr.shape[1],\n",
    "        'feaute_importances': list(df_feature_importances['index'].values[:X_tr.shape[1]]),\n",
    "        'create_dt': '0217'\n",
    "    }\n",
    ")\n",
    "\n",
    "args.results"
   ]
  },
  {
   "cell_type": "markdown",
   "metadata": {
    "id": "Nes3O7BtceEe"
   },
   "source": [
    "# Base ModelV1"
   ]
  },
  {
   "cell_type": "code",
   "execution_count": null,
   "metadata": {
    "colab": {
     "base_uri": "https://localhost:8080/"
    },
    "executionInfo": {
     "elapsed": 26,
     "status": "ok",
     "timestamp": 1676895849727,
     "user": {
      "displayName": "조경원",
      "userId": "10205523497785796707"
     },
     "user_tz": -540
    },
    "id": "nmDP9jICc520",
    "outputId": "cab1fe09-eb6f-4def-a6f3-b7ec053d5112"
   },
   "outputs": [
    {
     "data": {
      "text/plain": [
       "((641, 10), (275, 10), (393, 10))"
      ]
     },
     "execution_count": 37,
     "metadata": {},
     "output_type": "execute_result"
    }
   ],
   "source": [
    "train = X_tr.copy() \n",
    "test = X_te.copy()\n",
    "ori_te = ori_test.copy()\n",
    "\n",
    "train.shape, test.shape, ori_te.shape"
   ]
  },
  {
   "cell_type": "markdown",
   "metadata": {
    "id": "dFZgVQKTcrsO"
   },
   "source": [
    "## Data Preprocessing"
   ]
  },
  {
   "cell_type": "code",
   "execution_count": null,
   "metadata": {
    "colab": {
     "base_uri": "https://localhost:8080/"
    },
    "executionInfo": {
     "elapsed": 23,
     "status": "ok",
     "timestamp": 1676895849727,
     "user": {
      "displayName": "조경원",
      "userId": "10205523497785796707"
     },
     "user_tz": -540
    },
    "id": "e74SYjm5cLRc",
    "outputId": "4a68d700-8228-492f-e558-89124730518a"
   },
   "outputs": [
    {
     "name": "stdout",
     "output_type": "stream",
     "text": [
      "before: (641, 10) / (275, 10)\n",
      "after: (641, 7) / (275, 7)\n",
      "<class 'pandas.core.frame.DataFrame'>\n",
      "Int64Index: 641 entries, 812 to 277\n",
      "Data columns (total 7 columns):\n",
      " #   Column    Non-Null Count  Dtype  \n",
      "---  ------    --------------  -----  \n",
      " 0   pclass    641 non-null    int64  \n",
      " 1   gender    641 non-null    object \n",
      " 2   age       512 non-null    float64\n",
      " 3   sibsp     641 non-null    int64  \n",
      " 4   parch     641 non-null    int64  \n",
      " 5   fare      641 non-null    float64\n",
      " 6   embarked  641 non-null    object \n",
      "dtypes: float64(2), int64(3), object(2)\n",
      "memory usage: 40.1+ KB\n"
     ]
    }
   ],
   "source": [
    "print(f'before: {train.shape} / {test.shape}')\n",
    "drop_cols = ['name', 'ticket', 'cabin']\n",
    "\n",
    "train.drop(drop_cols, axis=1, inplace=True)\n",
    "test.drop(drop_cols, axis=1, inplace=True)\n",
    "ori_te.drop(drop_cols, axis=1, inplace=True)\n",
    "\n",
    "print(f'after: {train.shape} / {test.shape}')\n",
    "train.info()"
   ]
  },
  {
   "cell_type": "code",
   "execution_count": null,
   "metadata": {
    "colab": {
     "base_uri": "https://localhost:8080/"
    },
    "executionInfo": {
     "elapsed": 22,
     "status": "ok",
     "timestamp": 1676895849727,
     "user": {
      "displayName": "조경원",
      "userId": "10205523497785796707"
     },
     "user_tz": -540
    },
    "id": "Vz0-9XZZczxQ",
    "outputId": "e011cd02-de9b-4c39-fddd-5d1f0ab81987"
   },
   "outputs": [
    {
     "data": {
      "text/plain": [
       "(28.0, 14.4, 'S')"
      ]
     },
     "execution_count": 39,
     "metadata": {},
     "output_type": "execute_result"
    }
   ],
   "source": [
    "age_median = train['age'].median()\n",
    "fare_median = train['fare'].median()\n",
    "embarked_mode = train['embarked'].mode().values[0]\n",
    "\n",
    "age_median, fare_median, embarked_mode"
   ]
  },
  {
   "cell_type": "code",
   "execution_count": null,
   "metadata": {
    "colab": {
     "base_uri": "https://localhost:8080/"
    },
    "executionInfo": {
     "elapsed": 21,
     "status": "ok",
     "timestamp": 1676895849727,
     "user": {
      "displayName": "조경원",
      "userId": "10205523497785796707"
     },
     "user_tz": -540
    },
    "id": "AlfcXQCkdD3P",
    "outputId": "a5dc1c1b-0a2d-4140-a2ce-8962f96a4005"
   },
   "outputs": [
    {
     "data": {
      "text/plain": [
       "(0, 0, 0)"
      ]
     },
     "execution_count": 40,
     "metadata": {},
     "output_type": "execute_result"
    }
   ],
   "source": [
    "train['age'].fillna(age_median, inplace=True)\n",
    "test['age'].fillna(age_median, inplace=True)\n",
    "ori_te['age'].fillna(age_median, inplace=True)\n",
    "\n",
    "train['fare'].fillna(fare_median, inplace=True)\n",
    "test['fare'].fillna(fare_median, inplace=True)\n",
    "ori_te['fare'].fillna(fare_median, inplace=True)\n",
    "\n",
    "train['embarked'].fillna(embarked_mode, inplace=True)\n",
    "test['embarked'].fillna(embarked_mode, inplace=True)\n",
    "ori_te['embarked'].fillna(embarked_mode, inplace=True)\n",
    "\n",
    "train.isnull().sum().sum(), test.isnull().sum().sum(), ori_te.isnull().sum().sum()"
   ]
  },
  {
   "cell_type": "code",
   "execution_count": null,
   "metadata": {
    "id": "r_ZrIHiPdIew"
   },
   "outputs": [],
   "source": [
    "from sklearn.preprocessing import OneHotEncoder"
   ]
  },
  {
   "cell_type": "code",
   "execution_count": null,
   "metadata": {
    "colab": {
     "base_uri": "https://localhost:8080/"
    },
    "executionInfo": {
     "elapsed": 19,
     "status": "ok",
     "timestamp": 1676895849727,
     "user": {
      "displayName": "조경원",
      "userId": "10205523497785796707"
     },
     "user_tz": -540
    },
    "id": "5G7dRHHydMmf",
    "outputId": "760ff4f1-886f-4ce1-b05f-beb7e6c6b4a8"
   },
   "outputs": [
    {
     "data": {
      "text/plain": [
       "['parch', 'pclass', 'age', 'fare', 'sibsp']"
      ]
     },
     "execution_count": 42,
     "metadata": {},
     "output_type": "execute_result"
    }
   ],
   "source": [
    "enc_cols = ['gender', 'embarked']\n",
    "normal_cols = list(set(train.columns) - set(enc_cols))\n",
    "normal_cols"
   ]
  },
  {
   "cell_type": "code",
   "execution_count": null,
   "metadata": {
    "colab": {
     "base_uri": "https://localhost:8080/"
    },
    "executionInfo": {
     "elapsed": 19,
     "status": "ok",
     "timestamp": 1676895849728,
     "user": {
      "displayName": "조경원",
      "userId": "10205523497785796707"
     },
     "user_tz": -540
    },
    "id": "mwqF9mcBdQqe",
    "outputId": "41e60f2d-ed92-432e-8f7c-428fdd453252"
   },
   "outputs": [
    {
     "name": "stdout",
     "output_type": "stream",
     "text": [
      "before: (641, 7) / (275, 7)\n",
      "after: (641, 10) / (275, 10)\n"
     ]
    }
   ],
   "source": [
    "print(f'before: {train.shape} / {test.shape}')\n",
    "\n",
    "enc = OneHotEncoder()\n",
    "# train\n",
    "tmp_tr = pd.DataFrame(\n",
    "    enc.fit_transform(train[enc_cols]).toarray(), \n",
    "    columns = enc.get_feature_names_out()\n",
    ")\n",
    "enc_tr = pd.concat(\n",
    "    [train[normal_cols].reset_index(drop=True), tmp_tr.reset_index(drop=True)]\n",
    "    , axis=1\n",
    ")\n",
    "# test\n",
    "tmp_te = pd.DataFrame(\n",
    "    enc.transform(test[enc_cols]).toarray(), \n",
    "    columns = enc.get_feature_names_out()\n",
    ")\n",
    "enc_te = pd.concat(\n",
    "    [test[normal_cols].reset_index(drop=True), tmp_te.reset_index(drop=True)]\n",
    "    , axis=1\n",
    ")\n",
    "# ori_test\n",
    "tmp_te = pd.DataFrame(\n",
    "    enc.transform(ori_te[enc_cols]).toarray(), \n",
    "    columns = enc.get_feature_names_out()\n",
    ")\n",
    "enc_ori_te = pd.concat(\n",
    "    [ori_te[normal_cols].reset_index(drop=True), tmp_te.reset_index(drop=True)]\n",
    "    , axis=1\n",
    ")\n",
    "\n",
    "print(f'after: {enc_tr.shape} / {enc_te.shape}')"
   ]
  },
  {
   "cell_type": "markdown",
   "metadata": {
    "id": "AYLn47Szdju-"
   },
   "source": [
    "Scaler"
   ]
  },
  {
   "cell_type": "code",
   "execution_count": null,
   "metadata": {
    "colab": {
     "base_uri": "https://localhost:8080/"
    },
    "executionInfo": {
     "elapsed": 19,
     "status": "ok",
     "timestamp": 1676895849728,
     "user": {
      "displayName": "조경원",
      "userId": "10205523497785796707"
     },
     "user_tz": -540
    },
    "id": "Fu3HopKMedC3",
    "outputId": "4ff48086-7771-4c07-c2b0-0f8370be757c"
   },
   "outputs": [
    {
     "data": {
      "text/plain": [
       "(0, 0, 0)"
      ]
     },
     "execution_count": 44,
     "metadata": {},
     "output_type": "execute_result"
    }
   ],
   "source": [
    "enc_tr.isnull().sum().sum(), enc_te.isnull().sum().sum(), enc_ori_te.isnull().sum().sum()"
   ]
  },
  {
   "cell_type": "code",
   "execution_count": null,
   "metadata": {
    "colab": {
     "base_uri": "https://localhost:8080/"
    },
    "executionInfo": {
     "elapsed": 18,
     "status": "ok",
     "timestamp": 1676895849728,
     "user": {
      "displayName": "조경원",
      "userId": "10205523497785796707"
     },
     "user_tz": -540
    },
    "id": "-eH39qPje9Pu",
    "outputId": "e1987834-76f2-4e46-f474-dff83ec8a842"
   },
   "outputs": [
    {
     "data": {
      "text/plain": [
       "Index(['parch', 'pclass', 'age', 'fare', 'sibsp', 'gender_female',\n",
       "       'gender_male', 'embarked_C', 'embarked_Q', 'embarked_S'],\n",
       "      dtype='object')"
      ]
     },
     "execution_count": 45,
     "metadata": {},
     "output_type": "execute_result"
    }
   ],
   "source": [
    "enc_tr.columns"
   ]
  },
  {
   "cell_type": "code",
   "execution_count": null,
   "metadata": {
    "colab": {
     "base_uri": "https://localhost:8080/"
    },
    "executionInfo": {
     "elapsed": 17,
     "status": "ok",
     "timestamp": 1676895849728,
     "user": {
      "displayName": "조경원",
      "userId": "10205523497785796707"
     },
     "user_tz": -540
    },
    "id": "d-iYewzqfEBa",
    "outputId": "258c1142-d4ca-421a-8364-fa49a9f90f36"
   },
   "outputs": [
    {
     "data": {
      "text/plain": [
       "['embarked_C',\n",
       " 'parch',\n",
       " 'pclass',\n",
       " 'embarked_Q',\n",
       " 'embarked_S',\n",
       " 'gender_female',\n",
       " 'sibsp',\n",
       " 'gender_male']"
      ]
     },
     "execution_count": 46,
     "metadata": {},
     "output_type": "execute_result"
    }
   ],
   "source": [
    "scaling_cols = ['age', 'fare']\n",
    "not_scaling_cols = list(set(enc_tr.columns) - set(scaling_cols))\n",
    "not_scaling_cols "
   ]
  },
  {
   "cell_type": "code",
   "execution_count": null,
   "metadata": {
    "id": "V4Y9-DRFdVeE"
   },
   "outputs": [],
   "source": [
    "from sklearn.preprocessing import StandardScaler"
   ]
  },
  {
   "cell_type": "code",
   "execution_count": null,
   "metadata": {
    "id": "zG7Eq7cEdsav"
   },
   "outputs": [],
   "source": [
    "std = StandardScaler()\n",
    "\n",
    "_scaled_tr = std.fit_transform(enc_tr[scaling_cols])\n",
    "_scaled_te = std.transform(enc_te[scaling_cols])\n",
    "_scaled_ori_te = std.transform(enc_ori_te[scaling_cols])"
   ]
  },
  {
   "cell_type": "code",
   "execution_count": null,
   "metadata": {
    "colab": {
     "base_uri": "https://localhost:8080/",
     "height": 241
    },
    "executionInfo": {
     "elapsed": 16,
     "status": "ok",
     "timestamp": 1676895849728,
     "user": {
      "displayName": "조경원",
      "userId": "10205523497785796707"
     },
     "user_tz": -540
    },
    "id": "iNAwhGn2fkY3",
    "outputId": "b9914102-6bb2-4977-ead5-25baa381af4f"
   },
   "outputs": [
    {
     "name": "stdout",
     "output_type": "stream",
     "text": [
      "before: (641, 10) / (275, 10)\n",
      "after: (641, 10) / (275, 10)\n"
     ]
    },
    {
     "data": {
      "text/html": [
       "\n",
       "  <div id=\"df-07d9b1d8-7be8-4283-a6e6-367cc8a9a175\">\n",
       "    <div class=\"colab-df-container\">\n",
       "      <div>\n",
       "<style scoped>\n",
       "    .dataframe tbody tr th:only-of-type {\n",
       "        vertical-align: middle;\n",
       "    }\n",
       "\n",
       "    .dataframe tbody tr th {\n",
       "        vertical-align: top;\n",
       "    }\n",
       "\n",
       "    .dataframe thead th {\n",
       "        text-align: right;\n",
       "    }\n",
       "</style>\n",
       "<table border=\"1\" class=\"dataframe\">\n",
       "  <thead>\n",
       "    <tr style=\"text-align: right;\">\n",
       "      <th></th>\n",
       "      <th>embarked_C</th>\n",
       "      <th>parch</th>\n",
       "      <th>pclass</th>\n",
       "      <th>embarked_Q</th>\n",
       "      <th>embarked_S</th>\n",
       "      <th>gender_female</th>\n",
       "      <th>sibsp</th>\n",
       "      <th>gender_male</th>\n",
       "      <th>age</th>\n",
       "      <th>fare</th>\n",
       "    </tr>\n",
       "  </thead>\n",
       "  <tbody>\n",
       "    <tr>\n",
       "      <th>0</th>\n",
       "      <td>0.0</td>\n",
       "      <td>0</td>\n",
       "      <td>3</td>\n",
       "      <td>0.0</td>\n",
       "      <td>1.0</td>\n",
       "      <td>1.0</td>\n",
       "      <td>0</td>\n",
       "      <td>0.0</td>\n",
       "      <td>-0.606781</td>\n",
       "      <td>-0.479616</td>\n",
       "    </tr>\n",
       "    <tr>\n",
       "      <th>1</th>\n",
       "      <td>0.0</td>\n",
       "      <td>0</td>\n",
       "      <td>3</td>\n",
       "      <td>1.0</td>\n",
       "      <td>0.0</td>\n",
       "      <td>0.0</td>\n",
       "      <td>0</td>\n",
       "      <td>1.0</td>\n",
       "      <td>-0.683858</td>\n",
       "      <td>-0.478696</td>\n",
       "    </tr>\n",
       "    <tr>\n",
       "      <th>2</th>\n",
       "      <td>0.0</td>\n",
       "      <td>0</td>\n",
       "      <td>3</td>\n",
       "      <td>0.0</td>\n",
       "      <td>1.0</td>\n",
       "      <td>0.0</td>\n",
       "      <td>0</td>\n",
       "      <td>1.0</td>\n",
       "      <td>0.163995</td>\n",
       "      <td>-0.478025</td>\n",
       "    </tr>\n",
       "    <tr>\n",
       "      <th>3</th>\n",
       "      <td>1.0</td>\n",
       "      <td>0</td>\n",
       "      <td>3</td>\n",
       "      <td>0.0</td>\n",
       "      <td>0.0</td>\n",
       "      <td>0.0</td>\n",
       "      <td>0</td>\n",
       "      <td>1.0</td>\n",
       "      <td>-1.454634</td>\n",
       "      <td>-0.258431</td>\n",
       "    </tr>\n",
       "    <tr>\n",
       "      <th>4</th>\n",
       "      <td>0.0</td>\n",
       "      <td>0</td>\n",
       "      <td>3</td>\n",
       "      <td>0.0</td>\n",
       "      <td>1.0</td>\n",
       "      <td>0.0</td>\n",
       "      <td>0</td>\n",
       "      <td>1.0</td>\n",
       "      <td>0.009840</td>\n",
       "      <td>-0.474092</td>\n",
       "    </tr>\n",
       "  </tbody>\n",
       "</table>\n",
       "</div>\n",
       "      <button class=\"colab-df-convert\" onclick=\"convertToInteractive('df-07d9b1d8-7be8-4283-a6e6-367cc8a9a175')\"\n",
       "              title=\"Convert this dataframe to an interactive table.\"\n",
       "              style=\"display:none;\">\n",
       "        \n",
       "  <svg xmlns=\"http://www.w3.org/2000/svg\" height=\"24px\"viewBox=\"0 0 24 24\"\n",
       "       width=\"24px\">\n",
       "    <path d=\"M0 0h24v24H0V0z\" fill=\"none\"/>\n",
       "    <path d=\"M18.56 5.44l.94 2.06.94-2.06 2.06-.94-2.06-.94-.94-2.06-.94 2.06-2.06.94zm-11 1L8.5 8.5l.94-2.06 2.06-.94-2.06-.94L8.5 2.5l-.94 2.06-2.06.94zm10 10l.94 2.06.94-2.06 2.06-.94-2.06-.94-.94-2.06-.94 2.06-2.06.94z\"/><path d=\"M17.41 7.96l-1.37-1.37c-.4-.4-.92-.59-1.43-.59-.52 0-1.04.2-1.43.59L10.3 9.45l-7.72 7.72c-.78.78-.78 2.05 0 2.83L4 21.41c.39.39.9.59 1.41.59.51 0 1.02-.2 1.41-.59l7.78-7.78 2.81-2.81c.8-.78.8-2.07 0-2.86zM5.41 20L4 18.59l7.72-7.72 1.47 1.35L5.41 20z\"/>\n",
       "  </svg>\n",
       "      </button>\n",
       "      \n",
       "  <style>\n",
       "    .colab-df-container {\n",
       "      display:flex;\n",
       "      flex-wrap:wrap;\n",
       "      gap: 12px;\n",
       "    }\n",
       "\n",
       "    .colab-df-convert {\n",
       "      background-color: #E8F0FE;\n",
       "      border: none;\n",
       "      border-radius: 50%;\n",
       "      cursor: pointer;\n",
       "      display: none;\n",
       "      fill: #1967D2;\n",
       "      height: 32px;\n",
       "      padding: 0 0 0 0;\n",
       "      width: 32px;\n",
       "    }\n",
       "\n",
       "    .colab-df-convert:hover {\n",
       "      background-color: #E2EBFA;\n",
       "      box-shadow: 0px 1px 2px rgba(60, 64, 67, 0.3), 0px 1px 3px 1px rgba(60, 64, 67, 0.15);\n",
       "      fill: #174EA6;\n",
       "    }\n",
       "\n",
       "    [theme=dark] .colab-df-convert {\n",
       "      background-color: #3B4455;\n",
       "      fill: #D2E3FC;\n",
       "    }\n",
       "\n",
       "    [theme=dark] .colab-df-convert:hover {\n",
       "      background-color: #434B5C;\n",
       "      box-shadow: 0px 1px 3px 1px rgba(0, 0, 0, 0.15);\n",
       "      filter: drop-shadow(0px 1px 2px rgba(0, 0, 0, 0.3));\n",
       "      fill: #FFFFFF;\n",
       "    }\n",
       "  </style>\n",
       "\n",
       "      <script>\n",
       "        const buttonEl =\n",
       "          document.querySelector('#df-07d9b1d8-7be8-4283-a6e6-367cc8a9a175 button.colab-df-convert');\n",
       "        buttonEl.style.display =\n",
       "          google.colab.kernel.accessAllowed ? 'block' : 'none';\n",
       "\n",
       "        async function convertToInteractive(key) {\n",
       "          const element = document.querySelector('#df-07d9b1d8-7be8-4283-a6e6-367cc8a9a175');\n",
       "          const dataTable =\n",
       "            await google.colab.kernel.invokeFunction('convertToInteractive',\n",
       "                                                     [key], {});\n",
       "          if (!dataTable) return;\n",
       "\n",
       "          const docLinkHtml = 'Like what you see? Visit the ' +\n",
       "            '<a target=\"_blank\" href=https://colab.research.google.com/notebooks/data_table.ipynb>data table notebook</a>'\n",
       "            + ' to learn more about interactive tables.';\n",
       "          element.innerHTML = '';\n",
       "          dataTable['output_type'] = 'display_data';\n",
       "          await google.colab.output.renderOutput(dataTable, element);\n",
       "          const docLink = document.createElement('div');\n",
       "          docLink.innerHTML = docLinkHtml;\n",
       "          element.appendChild(docLink);\n",
       "        }\n",
       "      </script>\n",
       "    </div>\n",
       "  </div>\n",
       "  "
      ],
      "text/plain": [
       "   embarked_C  parch  pclass  embarked_Q  embarked_S  gender_female  sibsp  \\\n",
       "0         0.0      0       3         0.0         1.0            1.0      0   \n",
       "1         0.0      0       3         1.0         0.0            0.0      0   \n",
       "2         0.0      0       3         0.0         1.0            0.0      0   \n",
       "3         1.0      0       3         0.0         0.0            0.0      0   \n",
       "4         0.0      0       3         0.0         1.0            0.0      0   \n",
       "\n",
       "   gender_male       age      fare  \n",
       "0          0.0 -0.606781 -0.479616  \n",
       "1          1.0 -0.683858 -0.478696  \n",
       "2          1.0  0.163995 -0.478025  \n",
       "3          1.0 -1.454634 -0.258431  \n",
       "4          1.0  0.009840 -0.474092  "
      ]
     },
     "execution_count": 49,
     "metadata": {},
     "output_type": "execute_result"
    }
   ],
   "source": [
    "print(f'before: {enc_tr.shape} / {enc_te.shape}')\n",
    "# train\n",
    "tmp_tr = pd.DataFrame(\n",
    "    _scaled_tr, \n",
    "    columns = scaling_cols\n",
    ")\n",
    "scaled_tr = pd.concat(\n",
    "    [enc_tr[not_scaling_cols].reset_index(drop=True), tmp_tr.reset_index(drop=True)]\n",
    "    , axis=1\n",
    ").reset_index(drop=True)\n",
    "# test\n",
    "tmp_te = pd.DataFrame(\n",
    "    _scaled_te, \n",
    "    columns = scaling_cols\n",
    ")\n",
    "scaled_te = pd.concat(\n",
    "    [enc_te[not_scaling_cols].reset_index(drop=True), tmp_te.reset_index(drop=True)]\n",
    "    , axis=1\n",
    ").reset_index(drop=True)\n",
    "# ori_test\n",
    "tmp_te = pd.DataFrame(\n",
    "    _scaled_ori_te, \n",
    "    columns = scaling_cols\n",
    ")\n",
    "scaled_ori_te = pd.concat(\n",
    "    [enc_ori_te[not_scaling_cols].reset_index(drop=True), tmp_te.reset_index(drop=True)]\n",
    "    , axis=1\n",
    ").reset_index(drop=True)\n",
    "\n",
    "print(f'after: {scaled_tr.shape} / {scaled_te.shape}')\n",
    "scaled_tr.head()"
   ]
  },
  {
   "cell_type": "markdown",
   "metadata": {
    "id": "MknFiFhmeCUu"
   },
   "source": [
    "## Training"
   ]
  },
  {
   "cell_type": "code",
   "execution_count": null,
   "metadata": {
    "colab": {
     "base_uri": "https://localhost:8080/"
    },
    "executionInfo": {
     "elapsed": 15,
     "status": "ok",
     "timestamp": 1676895849728,
     "user": {
      "displayName": "조경원",
      "userId": "10205523497785796707"
     },
     "user_tz": -540
    },
    "id": "doGgMe52eRm-",
    "outputId": "08543069-2e6e-4bab-b1f7-874cd7c70ff1"
   },
   "outputs": [
    {
     "data": {
      "text/plain": [
       "(0, 0, 0)"
      ]
     },
     "execution_count": 50,
     "metadata": {},
     "output_type": "execute_result"
    }
   ],
   "source": [
    "scaled_tr.isnull().sum().sum(), scaled_te.isnull().sum().sum(), scaled_ori_te.isnull().sum().sum()"
   ]
  },
  {
   "cell_type": "code",
   "execution_count": null,
   "metadata": {
    "colab": {
     "base_uri": "https://localhost:8080/"
    },
    "executionInfo": {
     "elapsed": 14,
     "status": "ok",
     "timestamp": 1676895849728,
     "user": {
      "displayName": "조경원",
      "userId": "10205523497785796707"
     },
     "user_tz": -540
    },
    "id": "HMfygbUJeLjn",
    "outputId": "43815b4f-66ff-4704-ad0f-cca066c1a238"
   },
   "outputs": [
    {
     "data": {
      "text/plain": [
       "((641, 10), (275, 10), (393, 10))"
      ]
     },
     "execution_count": 51,
     "metadata": {},
     "output_type": "execute_result"
    }
   ],
   "source": [
    "scaled_tr.shape, scaled_te.shape, scaled_ori_te.shape"
   ]
  },
  {
   "cell_type": "code",
   "execution_count": null,
   "metadata": {
    "id": "KWhTupibgwqj"
   },
   "outputs": [],
   "source": [
    "from sklearn.tree import DecisionTreeClassifier"
   ]
  },
  {
   "cell_type": "code",
   "execution_count": null,
   "metadata": {
    "colab": {
     "base_uri": "https://localhost:8080/"
    },
    "executionInfo": {
     "elapsed": 14,
     "status": "ok",
     "timestamp": 1676895849729,
     "user": {
      "displayName": "조경원",
      "userId": "10205523497785796707"
     },
     "user_tz": -540
    },
    "id": "kbvOvsMog2Me",
    "outputId": "687d7578-f7c0-40db-d6a1-cd41d6816950"
   },
   "outputs": [
    {
     "data": {
      "text/plain": [
       "DecisionTreeClassifier(random_state=21)"
      ]
     },
     "execution_count": 53,
     "metadata": {},
     "output_type": "execute_result"
    }
   ],
   "source": [
    "modelV1 = DecisionTreeClassifier(random_state=args.random_state)\n",
    "\n",
    "modelV1.fit(scaled_tr, y_tr)"
   ]
  },
  {
   "cell_type": "markdown",
   "metadata": {
    "id": "DfOfGfgh3UUU"
   },
   "source": [
    "## Evaluation"
   ]
  },
  {
   "cell_type": "code",
   "execution_count": null,
   "metadata": {
    "colab": {
     "base_uri": "https://localhost:8080/"
    },
    "executionInfo": {
     "elapsed": 13,
     "status": "ok",
     "timestamp": 1676895849729,
     "user": {
      "displayName": "조경원",
      "userId": "10205523497785796707"
     },
     "user_tz": -540
    },
    "id": "G7pZ0ni-g5gt",
    "outputId": "24332e53-2a5c-4f0c-8686-853bf259a0d5"
   },
   "outputs": [
    {
     "data": {
      "text/plain": [
       "(0.982839313572543, 0.7854545454545454)"
      ]
     },
     "execution_count": 54,
     "metadata": {},
     "output_type": "execute_result"
    }
   ],
   "source": [
    "score_tr = modelV1.score(scaled_tr, y_tr)\n",
    "score_te = modelV1.score(scaled_te, y_te) \n",
    "\n",
    "score_tr, score_te  "
   ]
  },
  {
   "cell_type": "code",
   "execution_count": null,
   "metadata": {
    "colab": {
     "base_uri": "https://localhost:8080/"
    },
    "executionInfo": {
     "elapsed": 12,
     "status": "ok",
     "timestamp": 1676895849729,
     "user": {
      "displayName": "조경원",
      "userId": "10205523497785796707"
     },
     "user_tz": -540
    },
    "id": "wp1uxoe13aYF",
    "outputId": "d0d90838-1f70-4713-a848-3c985d046b87"
   },
   "outputs": [
    {
     "name": "stdout",
     "output_type": "stream",
     "text": [
      "model: 0.8572593342330183\n"
     ]
    }
   ],
   "source": [
    "from sklearn.metrics import roc_curve, auc \n",
    "\n",
    "y_pred = modelV0.predict_proba(scaled_te)[:,1]\n",
    "fpr, tpr, thresholds = roc_curve(y_te,y_pred)\n",
    "auc_te = auc(fpr, tpr)\n",
    "print(f'model: {auc_te}')"
   ]
  },
  {
   "cell_type": "code",
   "execution_count": null,
   "metadata": {
    "colab": {
     "base_uri": "https://localhost:8080/"
    },
    "executionInfo": {
     "elapsed": 12,
     "status": "ok",
     "timestamp": 1676895849729,
     "user": {
      "displayName": "조경원",
      "userId": "10205523497785796707"
     },
     "user_tz": -540
    },
    "id": "0StZy2waJqW0",
    "outputId": "e92e21a0-b16a-4e8b-bd1a-78bb30252796"
   },
   "outputs": [
    {
     "data": {
      "text/plain": [
       "(393,)"
      ]
     },
     "execution_count": 56,
     "metadata": {},
     "output_type": "execute_result"
    }
   ],
   "source": [
    "ori_te_pred = modelV0.predict_proba(scaled_ori_te)[:,1]\n",
    "ori_te_pred.shape"
   ]
  },
  {
   "cell_type": "code",
   "execution_count": null,
   "metadata": {
    "colab": {
     "base_uri": "https://localhost:8080/"
    },
    "executionInfo": {
     "elapsed": 11,
     "status": "ok",
     "timestamp": 1676895849729,
     "user": {
      "displayName": "조경원",
      "userId": "10205523497785796707"
     },
     "user_tz": -540
    },
    "id": "AqLajRBzoz70",
    "outputId": "8c62ace7-f507-49ed-b0a4-456fe527fb52"
   },
   "outputs": [
    {
     "name": "stdout",
     "output_type": "stream",
     "text": [
      "(10, 2)\n"
     ]
    }
   ],
   "source": [
    "df_feature_importances = pd.DataFrame(modelV1.feature_importances_, scaled_tr.columns).sort_values(by=[0], ascending=False).reset_index()\n",
    "print(f'{df_feature_importances.shape}')"
   ]
  },
  {
   "cell_type": "code",
   "execution_count": null,
   "metadata": {
    "colab": {
     "base_uri": "https://localhost:8080/"
    },
    "executionInfo": {
     "elapsed": 11,
     "status": "ok",
     "timestamp": 1676895849729,
     "user": {
      "displayName": "조경원",
      "userId": "10205523497785796707"
     },
     "user_tz": -540
    },
    "id": "4M_1dx2vhDWx",
    "outputId": "9e2543e4-ecb7-41a3-99ed-efd546565c7c"
   },
   "outputs": [
    {
     "data": {
      "text/plain": [
       "2"
      ]
     },
     "execution_count": 58,
     "metadata": {},
     "output_type": "execute_result"
    }
   ],
   "source": [
    "args.results.append(\n",
    "    {\n",
    "        'model': 'modelV1',\n",
    "        'score_tr': score_tr,\n",
    "        'score_te': score_te,\n",
    "        'auc_te': auc_te,\n",
    "        'ori_te_pred': ori_te_pred,\n",
    "        'len_features': X_tr.shape[1],\n",
    "        'feaute_importances': list(df_feature_importances['index'].values[:X_tr.shape[1]]),\n",
    "        'create_dt': '0217'\n",
    "    }\n",
    ")\n",
    "\n",
    "len(args.results)"
   ]
  },
  {
   "cell_type": "markdown",
   "metadata": {
    "id": "tr7fPuGow9g0"
   },
   "source": [
    "# Base ModelV2"
   ]
  },
  {
   "cell_type": "code",
   "execution_count": null,
   "metadata": {
    "colab": {
     "base_uri": "https://localhost:8080/"
    },
    "executionInfo": {
     "elapsed": 10,
     "status": "ok",
     "timestamp": 1676895849729,
     "user": {
      "displayName": "조경원",
      "userId": "10205523497785796707"
     },
     "user_tz": -540
    },
    "id": "hqA2NXKuhLb_",
    "outputId": "c4fdac96-b490-4ca4-82b0-c905195c24f8"
   },
   "outputs": [
    {
     "data": {
      "text/plain": [
       "((641, 10), (275, 10), (393, 10))"
      ]
     },
     "execution_count": 59,
     "metadata": {},
     "output_type": "execute_result"
    }
   ],
   "source": [
    "train = X_tr.copy() \n",
    "test = X_te.copy()\n",
    "ori_te = ori_test.copy()\n",
    "\n",
    "train.shape, test.shape, ori_te.shape"
   ]
  },
  {
   "cell_type": "markdown",
   "metadata": {
    "id": "alVvIM72xLwd"
   },
   "source": [
    "## Data Preprocessing"
   ]
  },
  {
   "cell_type": "code",
   "execution_count": null,
   "metadata": {
    "colab": {
     "base_uri": "https://localhost:8080/"
    },
    "executionInfo": {
     "elapsed": 9,
     "status": "ok",
     "timestamp": 1676895849729,
     "user": {
      "displayName": "조경원",
      "userId": "10205523497785796707"
     },
     "user_tz": -540
    },
    "id": "pCpIpflvxHax",
    "outputId": "b407ad3d-ecba-4303-edbb-90f7449b144c"
   },
   "outputs": [
    {
     "name": "stdout",
     "output_type": "stream",
     "text": [
      "before: (641, 10) / (275, 10)\n",
      "after: (641, 7) / (275, 7)\n"
     ]
    }
   ],
   "source": [
    "print(f'before: {train.shape} / {test.shape}')\n",
    "drop_cols = ['name', 'ticket', 'cabin']\n",
    "\n",
    "train.drop(drop_cols, axis=1, inplace=True)\n",
    "test.drop(drop_cols, axis=1, inplace=True)\n",
    "ori_te.drop(drop_cols, axis=1, inplace=True)\n",
    "\n",
    "print(f'after: {train.shape} / {test.shape}')"
   ]
  },
  {
   "cell_type": "code",
   "execution_count": null,
   "metadata": {
    "colab": {
     "base_uri": "https://localhost:8080/"
    },
    "executionInfo": {
     "elapsed": 589,
     "status": "ok",
     "timestamp": 1676895850309,
     "user": {
      "displayName": "조경원",
      "userId": "10205523497785796707"
     },
     "user_tz": -540
    },
    "id": "3Ta7FeTexQak",
    "outputId": "9677b037-5710-46f4-daf3-e2c3b00a57ee"
   },
   "outputs": [
    {
     "data": {
      "text/plain": [
       "(0, 0, 0)"
      ]
     },
     "execution_count": 61,
     "metadata": {},
     "output_type": "execute_result"
    }
   ],
   "source": [
    "age_median = train['age'].median()\n",
    "fare_median = train['fare'].median()\n",
    "embarked_mode = train['embarked'].mode().values[0]\n",
    "\n",
    "train['age'].fillna(age_median, inplace=True)\n",
    "test['age'].fillna(age_median, inplace=True)\n",
    "ori_te['age'].fillna(age_median, inplace=True)\n",
    "\n",
    "train['fare'].fillna(fare_median, inplace=True)\n",
    "test['fare'].fillna(fare_median, inplace=True)\n",
    "ori_te['fare'].fillna(fare_median, inplace=True)\n",
    "\n",
    "train['embarked'].fillna(embarked_mode, inplace=True)\n",
    "test['embarked'].fillna(embarked_mode, inplace=True)\n",
    "ori_te['embarked'].fillna(embarked_mode, inplace=True)\n",
    "\n",
    "train.isnull().sum().sum(), test.isnull().sum().sum(), ori_te.isnull().sum().sum()"
   ]
  },
  {
   "cell_type": "code",
   "execution_count": null,
   "metadata": {
    "colab": {
     "base_uri": "https://localhost:8080/"
    },
    "executionInfo": {
     "elapsed": 15,
     "status": "ok",
     "timestamp": 1676895850310,
     "user": {
      "displayName": "조경원",
      "userId": "10205523497785796707"
     },
     "user_tz": -540
    },
    "id": "D9gAHwQoxY3v",
    "outputId": "a5538aa3-3965-431a-8568-6c57046e4317"
   },
   "outputs": [
    {
     "name": "stdout",
     "output_type": "stream",
     "text": [
      "before: (641, 7) / (275, 7)\n",
      "after: (641, 10) / (275, 10)\n"
     ]
    }
   ],
   "source": [
    "from sklearn.preprocessing import OneHotEncoder\n",
    "\n",
    "enc_cols = ['gender', 'embarked']\n",
    "normal_cols = list(set(train.columns) - set(enc_cols))\n",
    "\n",
    "print(f'before: {train.shape} / {test.shape}')\n",
    "\n",
    "enc = OneHotEncoder()\n",
    "# train\n",
    "tmp_tr = pd.DataFrame(\n",
    "    enc.fit_transform(train[enc_cols]).toarray(), \n",
    "    columns = enc.get_feature_names_out()\n",
    ")\n",
    "enc_tr = pd.concat(\n",
    "    [train[normal_cols].reset_index(drop=True), tmp_tr.reset_index(drop=True)]\n",
    "    , axis=1\n",
    ")\n",
    "# test\n",
    "tmp_te = pd.DataFrame(\n",
    "    enc.transform(test[enc_cols]).toarray(), \n",
    "    columns = enc.get_feature_names_out()\n",
    ")\n",
    "enc_te = pd.concat(\n",
    "    [test[normal_cols].reset_index(drop=True), tmp_te.reset_index(drop=True)]\n",
    "    , axis=1\n",
    ")\n",
    "# ori_test\n",
    "tmp_te = pd.DataFrame(\n",
    "    enc.transform(ori_te[enc_cols]).toarray(), \n",
    "    columns = enc.get_feature_names_out()\n",
    ")\n",
    "enc_ori_te = pd.concat(\n",
    "    [ori_te[normal_cols].reset_index(drop=True), tmp_te.reset_index(drop=True)]\n",
    "    , axis=1\n",
    ")\n",
    "\n",
    "print(f'after: {enc_tr.shape} / {enc_te.shape}')"
   ]
  },
  {
   "cell_type": "code",
   "execution_count": null,
   "metadata": {
    "colab": {
     "base_uri": "https://localhost:8080/"
    },
    "executionInfo": {
     "elapsed": 10,
     "status": "ok",
     "timestamp": 1676895850310,
     "user": {
      "displayName": "조경원",
      "userId": "10205523497785796707"
     },
     "user_tz": -540
    },
    "id": "Nq10Gh7BxmWL",
    "outputId": "1aa00d26-8662-4846-e113-f4a5b8b3fbef"
   },
   "outputs": [
    {
     "name": "stdout",
     "output_type": "stream",
     "text": [
      "before: (641, 10) / (275, 10)\n",
      "after: (641, 10) / (275, 10)\n"
     ]
    }
   ],
   "source": [
    "scaling_cols = ['age', 'fare']\n",
    "not_scaling_cols = list(set(enc_tr.columns) - set(scaling_cols))\n",
    "\n",
    "from sklearn.preprocessing import RobustScaler\n",
    "\n",
    "rbs = RobustScaler()\n",
    "_scaled_tr = rbs.fit_transform(enc_tr[scaling_cols])\n",
    "_scaled_te = rbs.transform(enc_te[scaling_cols])\n",
    "_scaled_ori_te = rbs.transform(enc_ori_te[scaling_cols])\n",
    "\n",
    "print(f'before: {enc_tr.shape} / {enc_te.shape}')\n",
    "# train\n",
    "tmp_tr = pd.DataFrame(\n",
    "    _scaled_tr, \n",
    "    columns = scaling_cols\n",
    ")\n",
    "scaled_tr = pd.concat(\n",
    "    [enc_tr[not_scaling_cols].reset_index(drop=True), tmp_tr.reset_index(drop=True)]\n",
    "    , axis=1\n",
    ").reset_index(drop=True)\n",
    "# test\n",
    "tmp_te = pd.DataFrame(\n",
    "    _scaled_te, \n",
    "    columns = scaling_cols\n",
    ")\n",
    "scaled_te = pd.concat(\n",
    "    [enc_te[not_scaling_cols].reset_index(drop=True), tmp_te.reset_index(drop=True)]\n",
    "    , axis=1\n",
    ").reset_index(drop=True)\n",
    "# ori_test\n",
    "tmp_te = pd.DataFrame(\n",
    "    _scaled_ori_te, \n",
    "    columns = scaling_cols\n",
    ")\n",
    "scaled_ori_te = pd.concat(\n",
    "    [enc_ori_te[not_scaling_cols].reset_index(drop=True), tmp_te.reset_index(drop=True)]\n",
    "    , axis=1\n",
    ").reset_index(drop=True)\n",
    "\n",
    "print(f'after: {scaled_tr.shape} / {scaled_te.shape}')"
   ]
  },
  {
   "cell_type": "markdown",
   "metadata": {
    "id": "lB21kriKzrMn"
   },
   "source": [
    "## Training"
   ]
  },
  {
   "cell_type": "code",
   "execution_count": null,
   "metadata": {
    "colab": {
     "base_uri": "https://localhost:8080/"
    },
    "executionInfo": {
     "elapsed": 8,
     "status": "ok",
     "timestamp": 1676895850310,
     "user": {
      "displayName": "조경원",
      "userId": "10205523497785796707"
     },
     "user_tz": -540
    },
    "id": "3o-zfxPSziJg",
    "outputId": "a3637cf3-8ab6-446a-aaca-9961008a7a45"
   },
   "outputs": [
    {
     "data": {
      "text/plain": [
       "(0, 0, 0)"
      ]
     },
     "execution_count": 64,
     "metadata": {},
     "output_type": "execute_result"
    }
   ],
   "source": [
    "scaled_tr.isnull().sum().sum(), scaled_te.isnull().sum().sum(), scaled_ori_te.isnull().sum().sum()"
   ]
  },
  {
   "cell_type": "code",
   "execution_count": null,
   "metadata": {
    "colab": {
     "base_uri": "https://localhost:8080/"
    },
    "executionInfo": {
     "elapsed": 7,
     "status": "ok",
     "timestamp": 1676895850310,
     "user": {
      "displayName": "조경원",
      "userId": "10205523497785796707"
     },
     "user_tz": -540
    },
    "id": "MN85bvLqz0Gm",
    "outputId": "7902142f-4a4f-4008-b543-1a02a8bb1b0a"
   },
   "outputs": [
    {
     "data": {
      "text/plain": [
       "((641, 10), (275, 10), (393, 10))"
      ]
     },
     "execution_count": 65,
     "metadata": {},
     "output_type": "execute_result"
    }
   ],
   "source": [
    "scaled_tr.shape, scaled_te.shape, scaled_ori_te.shape"
   ]
  },
  {
   "cell_type": "code",
   "execution_count": null,
   "metadata": {
    "colab": {
     "base_uri": "https://localhost:8080/"
    },
    "executionInfo": {
     "elapsed": 5,
     "status": "ok",
     "timestamp": 1676895850310,
     "user": {
      "displayName": "조경원",
      "userId": "10205523497785796707"
     },
     "user_tz": -540
    },
    "id": "fxZaEcFzz74B",
    "outputId": "fc1ef0ab-9d30-45fb-ffdf-e83f38d5ffd3"
   },
   "outputs": [
    {
     "data": {
      "text/plain": [
       "DecisionTreeClassifier(random_state=21)"
      ]
     },
     "execution_count": 66,
     "metadata": {},
     "output_type": "execute_result"
    }
   ],
   "source": [
    "from sklearn.tree import DecisionTreeClassifier\n",
    "\n",
    "modelV2 = DecisionTreeClassifier(random_state=args.random_state)\n",
    "\n",
    "modelV2.fit(scaled_tr, y_tr)"
   ]
  },
  {
   "cell_type": "markdown",
   "metadata": {
    "id": "bt3PD-Tb3iKz"
   },
   "source": [
    "## Evaluation"
   ]
  },
  {
   "cell_type": "code",
   "execution_count": null,
   "metadata": {
    "colab": {
     "base_uri": "https://localhost:8080/"
    },
    "executionInfo": {
     "elapsed": 5,
     "status": "ok",
     "timestamp": 1676895850311,
     "user": {
      "displayName": "조경원",
      "userId": "10205523497785796707"
     },
     "user_tz": -540
    },
    "id": "UP-P8VR93kij",
    "outputId": "9bd8043a-38a7-4d70-802a-aec892d57c2f"
   },
   "outputs": [
    {
     "data": {
      "text/plain": [
       "(0.982839313572543, 0.7781818181818182)"
      ]
     },
     "execution_count": 67,
     "metadata": {},
     "output_type": "execute_result"
    }
   ],
   "source": [
    "score_tr = modelV2.score(scaled_tr, y_tr)\n",
    "score_te = modelV2.score(scaled_te, y_te) \n",
    "\n",
    "score_tr, score_te  "
   ]
  },
  {
   "cell_type": "code",
   "execution_count": null,
   "metadata": {
    "colab": {
     "base_uri": "https://localhost:8080/"
    },
    "executionInfo": {
     "elapsed": 557,
     "status": "ok",
     "timestamp": 1676895850864,
     "user": {
      "displayName": "조경원",
      "userId": "10205523497785796707"
     },
     "user_tz": -540
    },
    "id": "K4XjSie83n6r",
    "outputId": "6d2e56cc-6e19-4fcf-95b6-f0f14a96f448"
   },
   "outputs": [
    {
     "name": "stdout",
     "output_type": "stream",
     "text": [
      "model: 0.7666160593792173\n"
     ]
    }
   ],
   "source": [
    "from sklearn.metrics import roc_curve, auc \n",
    "\n",
    "y_pred = modelV2.predict_proba(scaled_te)[:,1]\n",
    "fpr, tpr, thresholds = roc_curve(y_te,y_pred)\n",
    "auc_te = auc(fpr, tpr)\n",
    "print(f'model: {auc_te}')"
   ]
  },
  {
   "cell_type": "code",
   "execution_count": null,
   "metadata": {
    "colab": {
     "base_uri": "https://localhost:8080/"
    },
    "executionInfo": {
     "elapsed": 9,
     "status": "ok",
     "timestamp": 1676895850865,
     "user": {
      "displayName": "조경원",
      "userId": "10205523497785796707"
     },
     "user_tz": -540
    },
    "id": "XVONud_dLggF",
    "outputId": "0be6ed67-1b26-4473-f9a9-0646cc94310f"
   },
   "outputs": [
    {
     "data": {
      "text/plain": [
       "(393,)"
      ]
     },
     "execution_count": 69,
     "metadata": {},
     "output_type": "execute_result"
    }
   ],
   "source": [
    "ori_te_pred = modelV2.predict_proba(scaled_ori_te)[:,1]\n",
    "ori_te_pred.shape"
   ]
  },
  {
   "cell_type": "code",
   "execution_count": null,
   "metadata": {
    "colab": {
     "base_uri": "https://localhost:8080/"
    },
    "executionInfo": {
     "elapsed": 5,
     "status": "ok",
     "timestamp": 1676895850865,
     "user": {
      "displayName": "조경원",
      "userId": "10205523497785796707"
     },
     "user_tz": -540
    },
    "id": "VzoP1e8Oo_rC",
    "outputId": "85ae1750-c1b3-4433-eeec-fb8ee536018f"
   },
   "outputs": [
    {
     "name": "stdout",
     "output_type": "stream",
     "text": [
      "(10, 2)\n"
     ]
    }
   ],
   "source": [
    "df_feature_importances = pd.DataFrame(modelV2.feature_importances_, scaled_tr.columns).sort_values(by=[0], ascending=False).reset_index()\n",
    "print(f'{df_feature_importances.shape}')"
   ]
  },
  {
   "cell_type": "code",
   "execution_count": null,
   "metadata": {
    "colab": {
     "base_uri": "https://localhost:8080/"
    },
    "executionInfo": {
     "elapsed": 840,
     "status": "ok",
     "timestamp": 1676895851702,
     "user": {
      "displayName": "조경원",
      "userId": "10205523497785796707"
     },
     "user_tz": -540
    },
    "id": "G2tEoVzt0Il7",
    "outputId": "67525c12-f64b-4887-bc97-e940fc84fd90"
   },
   "outputs": [
    {
     "data": {
      "text/plain": [
       "[{'model': 'modelV0',\n",
       "  'score_tr': 0.982839313572543,\n",
       "  'score_te': 0.7745454545454545,\n",
       "  'auc_te': 0.7635796221322538,\n",
       "  'ori_te_pred': array([1.        , 1.        , 1.        , 0.        , 1.        ,\n",
       "         1.        , 0.        , 0.125     , 1.        , 0.        ,\n",
       "         0.        , 0.        , 1.        , 0.        , 1.        ,\n",
       "         0.        , 1.        , 0.        , 0.        , 0.125     ,\n",
       "         0.        , 0.        , 0.        , 0.        , 0.125     ,\n",
       "         0.        , 0.        , 1.        , 0.        , 0.        ,\n",
       "         1.        , 0.        , 0.        , 0.        , 0.        ,\n",
       "         0.5       , 1.        , 0.        , 0.        , 0.        ,\n",
       "         0.        , 1.        , 0.        , 1.        , 0.        ,\n",
       "         0.        , 0.        , 0.        , 0.        , 0.        ,\n",
       "         1.        , 0.        , 1.        , 0.        , 1.        ,\n",
       "         1.        , 0.        , 0.        , 0.        , 0.        ,\n",
       "         1.        , 1.        , 1.        , 0.        , 0.        ,\n",
       "         0.        , 0.        , 1.        , 0.        , 1.        ,\n",
       "         0.2       , 1.        , 1.        , 1.        , 0.        ,\n",
       "         0.        , 0.        , 1.        , 0.        , 0.        ,\n",
       "         0.        , 0.        , 0.        , 1.        , 1.        ,\n",
       "         1.        , 1.        , 1.        , 0.        , 1.        ,\n",
       "         0.        , 1.        , 1.        , 0.        , 0.        ,\n",
       "         0.        , 0.        , 1.        , 0.        , 0.        ,\n",
       "         1.        , 1.        , 0.        , 1.        , 0.125     ,\n",
       "         0.        , 0.        , 1.        , 0.        , 1.        ,\n",
       "         0.        , 0.        , 1.        , 0.        , 0.        ,\n",
       "         0.        , 0.        , 1.        , 1.        , 1.        ,\n",
       "         1.        , 0.        , 0.        , 1.        , 0.33333333,\n",
       "         0.        , 1.        , 0.        , 0.        , 1.        ,\n",
       "         0.        , 0.        , 1.        , 1.        , 0.        ,\n",
       "         1.        , 1.        , 0.        , 1.        , 1.        ,\n",
       "         0.        , 0.125     , 0.        , 0.        , 0.        ,\n",
       "         0.        , 1.        , 1.        , 0.        , 0.        ,\n",
       "         0.5       , 0.        , 0.        , 0.        , 1.        ,\n",
       "         1.        , 1.        , 0.2       , 0.5       , 1.        ,\n",
       "         0.        , 0.        , 1.        , 1.        , 0.        ,\n",
       "         1.        , 1.        , 0.        , 1.        , 0.        ,\n",
       "         0.        , 0.        , 0.        , 0.        , 0.        ,\n",
       "         0.        , 1.        , 1.        , 1.        , 1.        ,\n",
       "         0.        , 0.        , 0.        , 1.        , 1.        ,\n",
       "         0.        , 1.        , 0.5       , 0.        , 0.        ,\n",
       "         0.        , 1.        , 1.        , 1.        , 0.        ,\n",
       "         0.        , 0.        , 0.        , 0.        , 0.        ,\n",
       "         0.        , 0.125     , 0.        , 1.        , 0.        ,\n",
       "         0.        , 1.        , 0.        , 1.        , 0.        ,\n",
       "         0.        , 0.        , 0.        , 0.        , 1.        ,\n",
       "         1.        , 0.        , 0.        , 1.        , 0.        ,\n",
       "         0.        , 1.        , 0.        , 0.        , 0.125     ,\n",
       "         0.        , 0.        , 1.        , 1.        , 1.        ,\n",
       "         1.        , 1.        , 1.        , 0.        , 1.        ,\n",
       "         0.        , 0.        , 0.        , 0.        , 0.        ,\n",
       "         0.        , 0.        , 0.        , 0.        , 0.        ,\n",
       "         0.        , 0.        , 0.        , 1.        , 1.        ,\n",
       "         1.        , 0.        , 1.        , 0.        , 1.        ,\n",
       "         0.        , 0.        , 0.        , 1.        , 1.        ,\n",
       "         0.        , 1.        , 0.        , 0.        , 1.        ,\n",
       "         0.        , 0.        , 0.33333333, 1.        , 1.        ,\n",
       "         1.        , 0.        , 0.        , 0.2       , 1.        ,\n",
       "         0.125     , 0.        , 1.        , 0.        , 1.        ,\n",
       "         0.125     , 0.        , 1.        , 1.        , 1.        ,\n",
       "         0.        , 0.        , 0.        , 1.        , 0.5       ,\n",
       "         0.        , 0.        , 0.        , 0.        , 0.        ,\n",
       "         0.        , 0.        , 0.125     , 1.        , 0.        ,\n",
       "         0.        , 1.        , 1.        , 1.        , 1.        ,\n",
       "         0.        , 0.        , 0.        , 0.        , 0.        ,\n",
       "         1.        , 0.        , 1.        , 0.        , 1.        ,\n",
       "         1.        , 0.        , 0.        , 0.        , 0.        ,\n",
       "         1.        , 0.        , 0.        , 1.        , 1.        ,\n",
       "         0.        , 0.        , 1.        , 0.        , 0.        ,\n",
       "         0.        , 0.        , 0.125     , 0.        , 1.        ,\n",
       "         1.        , 0.        , 0.        , 1.        , 0.        ,\n",
       "         1.        , 0.        , 1.        , 0.        , 0.        ,\n",
       "         0.        , 1.        , 1.        , 1.        , 1.        ,\n",
       "         1.        , 1.        , 0.        , 0.        , 1.        ,\n",
       "         1.        , 0.        , 0.        , 1.        , 1.        ,\n",
       "         0.        , 1.        , 1.        , 0.        , 1.        ,\n",
       "         0.        , 1.        , 0.        , 1.        , 0.        ,\n",
       "         0.        , 0.        , 0.        , 1.        , 0.        ,\n",
       "         1.        , 0.        , 1.        , 0.        , 1.        ,\n",
       "         0.        , 0.        , 0.        , 0.        , 0.        ,\n",
       "         0.        , 0.        , 1.        , 1.        , 1.        ,\n",
       "         1.        , 0.        , 1.        ]),\n",
       "  'len_features': 10,\n",
       "  'feaute_importances': ['gender_female',\n",
       "   'fare',\n",
       "   'age',\n",
       "   'pclass',\n",
       "   'sibsp',\n",
       "   'embarked_S',\n",
       "   'embarked_C',\n",
       "   'parch',\n",
       "   'gender_male',\n",
       "   'embarked_Q'],\n",
       "  'create_dt': '0217'},\n",
       " {'model': 'modelV1',\n",
       "  'score_tr': 0.982839313572543,\n",
       "  'score_te': 0.7854545454545454,\n",
       "  'auc_te': 0.8572593342330183,\n",
       "  'ori_te_pred': array([1., 1., 1., 0., 1., 1., 0., 0., 1., 0., 0., 0., 1., 1., 0., 0., 0.,\n",
       "         0., 0., 0., 0., 0., 0., 0., 0., 0., 0., 1., 0., 0., 1., 1., 0., 0.,\n",
       "         0., 0., 1., 0., 0., 0., 0., 1., 0., 1., 0., 0., 0., 0., 0., 0., 0.,\n",
       "         0., 1., 0., 1., 1., 0., 0., 0., 1., 1., 1., 1., 0., 0., 0., 0., 1.,\n",
       "         0., 1., 0., 1., 1., 1., 0., 0., 0., 1., 0., 0., 0., 0., 0., 1., 1.,\n",
       "         1., 0., 1., 0., 1., 0., 1., 0., 0., 0., 0., 0., 0., 0., 1., 1., 1.,\n",
       "         0., 0., 0., 0., 0., 1., 0., 0., 0., 0., 1., 0., 0., 0., 0., 1., 0.,\n",
       "         0., 1., 0., 0., 1., 0., 0., 1., 0., 0., 1., 0., 0., 1., 0., 0., 1.,\n",
       "         1., 0., 1., 0., 0., 0., 0., 0., 0., 0., 1., 0., 0., 0., 0., 0., 0.,\n",
       "         0., 0., 0., 1., 0., 0., 1., 0., 0., 1., 1., 0., 0., 1., 0., 1., 0.,\n",
       "         0., 0., 0., 0., 0., 0., 1., 1., 1., 1., 0., 0., 0., 1., 1., 0., 1.,\n",
       "         0., 0., 0., 0., 1., 0., 1., 0., 0., 0., 0., 0., 1., 0., 0., 0., 1.,\n",
       "         0., 0., 1., 0., 0., 0., 0., 0., 0., 0., 1., 1., 0., 0., 1., 0., 0.,\n",
       "         1., 0., 0., 0., 0., 0., 1., 1., 1., 1., 0., 0., 0., 1., 0., 0., 0.,\n",
       "         0., 0., 0., 0., 0., 0., 0., 0., 1., 0., 1., 1., 1., 0., 1., 0., 1.,\n",
       "         0., 0., 0., 1., 1., 0., 1., 1., 0., 0., 0., 0., 0., 1., 1., 0., 0.,\n",
       "         0., 0., 1., 0., 0., 0., 0., 0., 0., 1., 1., 0., 1., 0., 0., 0., 1.,\n",
       "         0., 0., 0., 0., 0., 0., 1., 0., 0., 0., 0., 0., 1., 1., 0., 1., 0.,\n",
       "         0., 0., 0., 0., 1., 0., 1., 0., 1., 1., 0., 0., 0., 1., 0., 0., 0.,\n",
       "         1., 1., 0., 0., 1., 0., 1., 1., 0., 0., 0., 1., 1., 0., 0., 1., 0.,\n",
       "         1., 0., 0., 1., 0., 0., 1., 0., 1., 1., 1., 1., 0., 0., 1., 1., 0.,\n",
       "         0., 1., 1., 0., 1., 1., 0., 1., 0., 1., 0., 1., 0., 0., 0., 0., 1.,\n",
       "         0., 1., 0., 1., 0., 1., 0., 0., 1., 0., 0., 0., 0., 1., 1., 1., 1.,\n",
       "         0., 1.]),\n",
       "  'len_features': 10,\n",
       "  'feaute_importances': ['gender_female',\n",
       "   'fare',\n",
       "   'age',\n",
       "   'pclass',\n",
       "   'sibsp',\n",
       "   'embarked_S',\n",
       "   'embarked_C',\n",
       "   'parch',\n",
       "   'embarked_Q',\n",
       "   'gender_male'],\n",
       "  'create_dt': '0217'},\n",
       " {'model': 'modelV2',\n",
       "  'score_tr': 0.982839313572543,\n",
       "  'score_te': 0.7781818181818182,\n",
       "  'auc_te': 0.7666160593792173,\n",
       "  'ori_te_pred': array([1.        , 1.        , 1.        , 0.        , 1.        ,\n",
       "         1.        , 0.        , 0.125     , 1.        , 0.        ,\n",
       "         0.        , 0.        , 1.        , 0.        , 1.        ,\n",
       "         0.        , 1.        , 0.        , 0.        , 0.125     ,\n",
       "         0.        , 0.        , 0.        , 0.        , 0.125     ,\n",
       "         0.        , 0.        , 1.        , 1.        , 0.        ,\n",
       "         1.        , 0.        , 0.        , 0.        , 0.        ,\n",
       "         0.5       , 1.        , 0.        , 0.        , 0.        ,\n",
       "         0.        , 1.        , 0.        , 1.        , 0.        ,\n",
       "         0.        , 0.        , 0.        , 0.        , 0.        ,\n",
       "         1.        , 0.        , 1.        , 0.        , 1.        ,\n",
       "         1.        , 0.        , 0.        , 0.        , 0.        ,\n",
       "         1.        , 1.        , 1.        , 0.        , 0.        ,\n",
       "         0.        , 1.        , 1.        , 0.        , 1.        ,\n",
       "         0.2       , 1.        , 1.        , 1.        , 0.        ,\n",
       "         0.        , 0.        , 1.        , 0.        , 0.        ,\n",
       "         0.        , 0.        , 0.        , 1.        , 1.        ,\n",
       "         1.        , 1.        , 1.        , 0.        , 1.        ,\n",
       "         0.        , 1.        , 1.        , 0.        , 0.        ,\n",
       "         0.        , 0.        , 1.        , 0.        , 0.        ,\n",
       "         1.        , 1.        , 0.        , 1.        , 0.125     ,\n",
       "         0.        , 0.        , 1.        , 0.        , 1.        ,\n",
       "         0.        , 0.        , 1.        , 0.        , 0.        ,\n",
       "         0.        , 0.        , 1.        , 1.        , 1.        ,\n",
       "         1.        , 0.        , 0.        , 1.        , 0.33333333,\n",
       "         0.        , 1.        , 0.        , 0.        , 1.        ,\n",
       "         0.        , 0.        , 1.        , 1.        , 0.        ,\n",
       "         1.        , 1.        , 0.        , 1.        , 1.        ,\n",
       "         0.        , 0.125     , 0.        , 0.        , 0.        ,\n",
       "         0.        , 1.        , 0.        , 0.        , 0.        ,\n",
       "         0.5       , 0.        , 0.        , 0.        , 1.        ,\n",
       "         1.        , 1.        , 0.2       , 0.5       , 1.        ,\n",
       "         0.        , 0.        , 1.        , 1.        , 0.        ,\n",
       "         1.        , 1.        , 0.        , 1.        , 0.        ,\n",
       "         0.        , 0.        , 0.        , 0.        , 0.        ,\n",
       "         0.        , 1.        , 1.        , 1.        , 1.        ,\n",
       "         0.        , 0.        , 0.        , 1.        , 1.        ,\n",
       "         0.        , 1.        , 0.5       , 0.        , 0.        ,\n",
       "         0.        , 1.        , 1.        , 1.        , 0.        ,\n",
       "         0.        , 0.        , 0.        , 0.        , 0.        ,\n",
       "         0.        , 0.125     , 0.        , 1.        , 0.        ,\n",
       "         0.        , 1.        , 0.        , 1.        , 0.        ,\n",
       "         0.        , 0.        , 0.        , 0.        , 1.        ,\n",
       "         1.        , 0.        , 0.        , 1.        , 0.        ,\n",
       "         0.        , 1.        , 0.        , 0.        , 0.125     ,\n",
       "         0.        , 0.        , 1.        , 1.        , 1.        ,\n",
       "         1.        , 1.        , 1.        , 0.        , 1.        ,\n",
       "         0.        , 0.        , 0.        , 0.        , 0.        ,\n",
       "         0.        , 0.        , 0.        , 0.        , 0.        ,\n",
       "         0.        , 0.        , 0.        , 1.        , 1.        ,\n",
       "         1.        , 0.        , 1.        , 0.        , 1.        ,\n",
       "         0.        , 0.        , 0.        , 1.        , 1.        ,\n",
       "         0.        , 1.        , 0.        , 0.        , 1.        ,\n",
       "         0.        , 0.        , 0.33333333, 1.        , 1.        ,\n",
       "         1.        , 0.        , 0.        , 0.2       , 1.        ,\n",
       "         0.125     , 0.        , 1.        , 0.        , 1.        ,\n",
       "         0.125     , 0.        , 1.        , 1.        , 1.        ,\n",
       "         0.        , 0.        , 0.        , 1.        , 0.5       ,\n",
       "         0.        , 0.        , 0.        , 0.        , 0.        ,\n",
       "         0.        , 0.        , 0.125     , 1.        , 0.        ,\n",
       "         0.        , 1.        , 1.        , 1.        , 1.        ,\n",
       "         0.        , 0.        , 0.        , 0.        , 0.        ,\n",
       "         1.        , 0.        , 1.        , 0.        , 1.        ,\n",
       "         1.        , 0.        , 0.        , 0.        , 0.        ,\n",
       "         1.        , 0.        , 0.        , 1.        , 1.        ,\n",
       "         0.        , 0.        , 1.        , 0.        , 0.        ,\n",
       "         0.        , 0.        , 0.125     , 0.        , 1.        ,\n",
       "         1.        , 0.        , 0.        , 1.        , 0.        ,\n",
       "         1.        , 0.        , 1.        , 0.        , 0.        ,\n",
       "         0.        , 1.        , 1.        , 1.        , 1.        ,\n",
       "         1.        , 1.        , 0.        , 0.        , 1.        ,\n",
       "         1.        , 0.        , 0.        , 1.        , 1.        ,\n",
       "         0.        , 1.        , 1.        , 0.        , 1.        ,\n",
       "         0.        , 1.        , 0.        , 1.        , 0.        ,\n",
       "         0.        , 0.        , 0.        , 1.        , 0.        ,\n",
       "         1.        , 0.        , 1.        , 0.        , 1.        ,\n",
       "         0.        , 0.        , 0.        , 0.        , 0.        ,\n",
       "         0.        , 0.        , 1.        , 1.        , 1.        ,\n",
       "         1.        , 0.        , 1.        ]),\n",
       "  'len_features': 10,\n",
       "  'feaute_importances': ['gender_female',\n",
       "   'fare',\n",
       "   'age',\n",
       "   'pclass',\n",
       "   'sibsp',\n",
       "   'embarked_S',\n",
       "   'embarked_C',\n",
       "   'parch',\n",
       "   'embarked_Q',\n",
       "   'gender_male'],\n",
       "  'create_dt': '0217'}]"
      ]
     },
     "execution_count": 71,
     "metadata": {},
     "output_type": "execute_result"
    }
   ],
   "source": [
    "args.results.append(\n",
    "    {\n",
    "        'model': 'modelV2',\n",
    "        'score_tr': score_tr,\n",
    "        'score_te': score_te,\n",
    "        'auc_te': auc_te,\n",
    "        'ori_te_pred': ori_te_pred,\n",
    "        'len_features': X_tr.shape[1],\n",
    "        'feaute_importances': list(df_feature_importances['index'].values[:X_tr.shape[1]]),\n",
    "        'create_dt': '0217'\n",
    "    }\n",
    ")\n",
    "\n",
    "args.results"
   ]
  },
  {
   "cell_type": "markdown",
   "metadata": {
    "id": "IvhHDW2a4PXj"
   },
   "source": [
    "# Submission"
   ]
  },
  {
   "cell_type": "code",
   "execution_count": null,
   "metadata": {
    "colab": {
     "base_uri": "https://localhost:8080/",
     "height": 143
    },
    "executionInfo": {
     "elapsed": 13,
     "status": "ok",
     "timestamp": 1676895851702,
     "user": {
      "displayName": "조경원",
      "userId": "10205523497785796707"
     },
     "user_tz": -540
    },
    "id": "dRH3EPQt25r7",
    "outputId": "428f3e03-7456-43e6-d23f-9e4219719ec3"
   },
   "outputs": [
    {
     "data": {
      "text/html": [
       "\n",
       "  <div id=\"df-c8a7db3f-0723-42ec-ba5f-83df44dd92ae\">\n",
       "    <div class=\"colab-df-container\">\n",
       "      <div>\n",
       "<style scoped>\n",
       "    .dataframe tbody tr th:only-of-type {\n",
       "        vertical-align: middle;\n",
       "    }\n",
       "\n",
       "    .dataframe tbody tr th {\n",
       "        vertical-align: top;\n",
       "    }\n",
       "\n",
       "    .dataframe thead th {\n",
       "        text-align: right;\n",
       "    }\n",
       "</style>\n",
       "<table border=\"1\" class=\"dataframe\">\n",
       "  <thead>\n",
       "    <tr style=\"text-align: right;\">\n",
       "      <th></th>\n",
       "      <th>model</th>\n",
       "      <th>score_tr</th>\n",
       "      <th>score_te</th>\n",
       "      <th>auc_te</th>\n",
       "      <th>ori_te_pred</th>\n",
       "      <th>len_features</th>\n",
       "      <th>feaute_importances</th>\n",
       "      <th>create_dt</th>\n",
       "    </tr>\n",
       "  </thead>\n",
       "  <tbody>\n",
       "    <tr>\n",
       "      <th>1</th>\n",
       "      <td>modelV1</td>\n",
       "      <td>0.982839</td>\n",
       "      <td>0.785455</td>\n",
       "      <td>0.857259</td>\n",
       "      <td>[1.0, 1.0, 1.0, 0.0, 1.0, 1.0, 0.0, 0.0, 1.0, ...</td>\n",
       "      <td>10</td>\n",
       "      <td>[gender_female, fare, age, pclass, sibsp, emba...</td>\n",
       "      <td>0217</td>\n",
       "    </tr>\n",
       "    <tr>\n",
       "      <th>2</th>\n",
       "      <td>modelV2</td>\n",
       "      <td>0.982839</td>\n",
       "      <td>0.778182</td>\n",
       "      <td>0.766616</td>\n",
       "      <td>[1.0, 1.0, 1.0, 0.0, 1.0, 1.0, 0.0, 0.125, 1.0...</td>\n",
       "      <td>10</td>\n",
       "      <td>[gender_female, fare, age, pclass, sibsp, emba...</td>\n",
       "      <td>0217</td>\n",
       "    </tr>\n",
       "    <tr>\n",
       "      <th>0</th>\n",
       "      <td>modelV0</td>\n",
       "      <td>0.982839</td>\n",
       "      <td>0.774545</td>\n",
       "      <td>0.763580</td>\n",
       "      <td>[1.0, 1.0, 1.0, 0.0, 1.0, 1.0, 0.0, 0.125, 1.0...</td>\n",
       "      <td>10</td>\n",
       "      <td>[gender_female, fare, age, pclass, sibsp, emba...</td>\n",
       "      <td>0217</td>\n",
       "    </tr>\n",
       "  </tbody>\n",
       "</table>\n",
       "</div>\n",
       "      <button class=\"colab-df-convert\" onclick=\"convertToInteractive('df-c8a7db3f-0723-42ec-ba5f-83df44dd92ae')\"\n",
       "              title=\"Convert this dataframe to an interactive table.\"\n",
       "              style=\"display:none;\">\n",
       "        \n",
       "  <svg xmlns=\"http://www.w3.org/2000/svg\" height=\"24px\"viewBox=\"0 0 24 24\"\n",
       "       width=\"24px\">\n",
       "    <path d=\"M0 0h24v24H0V0z\" fill=\"none\"/>\n",
       "    <path d=\"M18.56 5.44l.94 2.06.94-2.06 2.06-.94-2.06-.94-.94-2.06-.94 2.06-2.06.94zm-11 1L8.5 8.5l.94-2.06 2.06-.94-2.06-.94L8.5 2.5l-.94 2.06-2.06.94zm10 10l.94 2.06.94-2.06 2.06-.94-2.06-.94-.94-2.06-.94 2.06-2.06.94z\"/><path d=\"M17.41 7.96l-1.37-1.37c-.4-.4-.92-.59-1.43-.59-.52 0-1.04.2-1.43.59L10.3 9.45l-7.72 7.72c-.78.78-.78 2.05 0 2.83L4 21.41c.39.39.9.59 1.41.59.51 0 1.02-.2 1.41-.59l7.78-7.78 2.81-2.81c.8-.78.8-2.07 0-2.86zM5.41 20L4 18.59l7.72-7.72 1.47 1.35L5.41 20z\"/>\n",
       "  </svg>\n",
       "      </button>\n",
       "      \n",
       "  <style>\n",
       "    .colab-df-container {\n",
       "      display:flex;\n",
       "      flex-wrap:wrap;\n",
       "      gap: 12px;\n",
       "    }\n",
       "\n",
       "    .colab-df-convert {\n",
       "      background-color: #E8F0FE;\n",
       "      border: none;\n",
       "      border-radius: 50%;\n",
       "      cursor: pointer;\n",
       "      display: none;\n",
       "      fill: #1967D2;\n",
       "      height: 32px;\n",
       "      padding: 0 0 0 0;\n",
       "      width: 32px;\n",
       "    }\n",
       "\n",
       "    .colab-df-convert:hover {\n",
       "      background-color: #E2EBFA;\n",
       "      box-shadow: 0px 1px 2px rgba(60, 64, 67, 0.3), 0px 1px 3px 1px rgba(60, 64, 67, 0.15);\n",
       "      fill: #174EA6;\n",
       "    }\n",
       "\n",
       "    [theme=dark] .colab-df-convert {\n",
       "      background-color: #3B4455;\n",
       "      fill: #D2E3FC;\n",
       "    }\n",
       "\n",
       "    [theme=dark] .colab-df-convert:hover {\n",
       "      background-color: #434B5C;\n",
       "      box-shadow: 0px 1px 3px 1px rgba(0, 0, 0, 0.15);\n",
       "      filter: drop-shadow(0px 1px 2px rgba(0, 0, 0, 0.3));\n",
       "      fill: #FFFFFF;\n",
       "    }\n",
       "  </style>\n",
       "\n",
       "      <script>\n",
       "        const buttonEl =\n",
       "          document.querySelector('#df-c8a7db3f-0723-42ec-ba5f-83df44dd92ae button.colab-df-convert');\n",
       "        buttonEl.style.display =\n",
       "          google.colab.kernel.accessAllowed ? 'block' : 'none';\n",
       "\n",
       "        async function convertToInteractive(key) {\n",
       "          const element = document.querySelector('#df-c8a7db3f-0723-42ec-ba5f-83df44dd92ae');\n",
       "          const dataTable =\n",
       "            await google.colab.kernel.invokeFunction('convertToInteractive',\n",
       "                                                     [key], {});\n",
       "          if (!dataTable) return;\n",
       "\n",
       "          const docLinkHtml = 'Like what you see? Visit the ' +\n",
       "            '<a target=\"_blank\" href=https://colab.research.google.com/notebooks/data_table.ipynb>data table notebook</a>'\n",
       "            + ' to learn more about interactive tables.';\n",
       "          element.innerHTML = '';\n",
       "          dataTable['output_type'] = 'display_data';\n",
       "          await google.colab.output.renderOutput(dataTable, element);\n",
       "          const docLink = document.createElement('div');\n",
       "          docLink.innerHTML = docLinkHtml;\n",
       "          element.appendChild(docLink);\n",
       "        }\n",
       "      </script>\n",
       "    </div>\n",
       "  </div>\n",
       "  "
      ],
      "text/plain": [
       "     model  score_tr  score_te    auc_te  \\\n",
       "1  modelV1  0.982839  0.785455  0.857259   \n",
       "2  modelV2  0.982839  0.778182  0.766616   \n",
       "0  modelV0  0.982839  0.774545  0.763580   \n",
       "\n",
       "                                         ori_te_pred  len_features  \\\n",
       "1  [1.0, 1.0, 1.0, 0.0, 1.0, 1.0, 0.0, 0.0, 1.0, ...            10   \n",
       "2  [1.0, 1.0, 1.0, 0.0, 1.0, 1.0, 0.0, 0.125, 1.0...            10   \n",
       "0  [1.0, 1.0, 1.0, 0.0, 1.0, 1.0, 0.0, 0.125, 1.0...            10   \n",
       "\n",
       "                                  feaute_importances create_dt  \n",
       "1  [gender_female, fare, age, pclass, sibsp, emba...      0217  \n",
       "2  [gender_female, fare, age, pclass, sibsp, emba...      0217  \n",
       "0  [gender_female, fare, age, pclass, sibsp, emba...      0217  "
      ]
     },
     "execution_count": 72,
     "metadata": {},
     "output_type": "execute_result"
    }
   ],
   "source": [
    "df_results = pd.DataFrame(args.results).sort_values(by=['auc_te'], ascending=False)\n",
    "df_results"
   ]
  },
  {
   "cell_type": "code",
   "execution_count": null,
   "metadata": {
    "colab": {
     "base_uri": "https://localhost:8080/",
     "height": 206
    },
    "executionInfo": {
     "elapsed": 12,
     "status": "ok",
     "timestamp": 1676895851702,
     "user": {
      "displayName": "조경원",
      "userId": "10205523497785796707"
     },
     "user_tz": -540
    },
    "id": "KrN0fM9qNLlH",
    "outputId": "13fb8891-4cbb-4b32-9002-ac03aad254e5"
   },
   "outputs": [
    {
     "data": {
      "text/html": [
       "\n",
       "  <div id=\"df-f7f33886-bc70-4ebc-a294-d8baeeff55f1\">\n",
       "    <div class=\"colab-df-container\">\n",
       "      <div>\n",
       "<style scoped>\n",
       "    .dataframe tbody tr th:only-of-type {\n",
       "        vertical-align: middle;\n",
       "    }\n",
       "\n",
       "    .dataframe tbody tr th {\n",
       "        vertical-align: top;\n",
       "    }\n",
       "\n",
       "    .dataframe thead th {\n",
       "        text-align: right;\n",
       "    }\n",
       "</style>\n",
       "<table border=\"1\" class=\"dataframe\">\n",
       "  <thead>\n",
       "    <tr style=\"text-align: right;\">\n",
       "      <th></th>\n",
       "      <th>passengerid</th>\n",
       "      <th>survived</th>\n",
       "    </tr>\n",
       "  </thead>\n",
       "  <tbody>\n",
       "    <tr>\n",
       "      <th>0</th>\n",
       "      <td>916</td>\n",
       "      <td>0.5</td>\n",
       "    </tr>\n",
       "    <tr>\n",
       "      <th>1</th>\n",
       "      <td>917</td>\n",
       "      <td>0.5</td>\n",
       "    </tr>\n",
       "    <tr>\n",
       "      <th>2</th>\n",
       "      <td>918</td>\n",
       "      <td>0.5</td>\n",
       "    </tr>\n",
       "    <tr>\n",
       "      <th>3</th>\n",
       "      <td>919</td>\n",
       "      <td>0.5</td>\n",
       "    </tr>\n",
       "    <tr>\n",
       "      <th>4</th>\n",
       "      <td>920</td>\n",
       "      <td>0.5</td>\n",
       "    </tr>\n",
       "  </tbody>\n",
       "</table>\n",
       "</div>\n",
       "      <button class=\"colab-df-convert\" onclick=\"convertToInteractive('df-f7f33886-bc70-4ebc-a294-d8baeeff55f1')\"\n",
       "              title=\"Convert this dataframe to an interactive table.\"\n",
       "              style=\"display:none;\">\n",
       "        \n",
       "  <svg xmlns=\"http://www.w3.org/2000/svg\" height=\"24px\"viewBox=\"0 0 24 24\"\n",
       "       width=\"24px\">\n",
       "    <path d=\"M0 0h24v24H0V0z\" fill=\"none\"/>\n",
       "    <path d=\"M18.56 5.44l.94 2.06.94-2.06 2.06-.94-2.06-.94-.94-2.06-.94 2.06-2.06.94zm-11 1L8.5 8.5l.94-2.06 2.06-.94-2.06-.94L8.5 2.5l-.94 2.06-2.06.94zm10 10l.94 2.06.94-2.06 2.06-.94-2.06-.94-.94-2.06-.94 2.06-2.06.94z\"/><path d=\"M17.41 7.96l-1.37-1.37c-.4-.4-.92-.59-1.43-.59-.52 0-1.04.2-1.43.59L10.3 9.45l-7.72 7.72c-.78.78-.78 2.05 0 2.83L4 21.41c.39.39.9.59 1.41.59.51 0 1.02-.2 1.41-.59l7.78-7.78 2.81-2.81c.8-.78.8-2.07 0-2.86zM5.41 20L4 18.59l7.72-7.72 1.47 1.35L5.41 20z\"/>\n",
       "  </svg>\n",
       "      </button>\n",
       "      \n",
       "  <style>\n",
       "    .colab-df-container {\n",
       "      display:flex;\n",
       "      flex-wrap:wrap;\n",
       "      gap: 12px;\n",
       "    }\n",
       "\n",
       "    .colab-df-convert {\n",
       "      background-color: #E8F0FE;\n",
       "      border: none;\n",
       "      border-radius: 50%;\n",
       "      cursor: pointer;\n",
       "      display: none;\n",
       "      fill: #1967D2;\n",
       "      height: 32px;\n",
       "      padding: 0 0 0 0;\n",
       "      width: 32px;\n",
       "    }\n",
       "\n",
       "    .colab-df-convert:hover {\n",
       "      background-color: #E2EBFA;\n",
       "      box-shadow: 0px 1px 2px rgba(60, 64, 67, 0.3), 0px 1px 3px 1px rgba(60, 64, 67, 0.15);\n",
       "      fill: #174EA6;\n",
       "    }\n",
       "\n",
       "    [theme=dark] .colab-df-convert {\n",
       "      background-color: #3B4455;\n",
       "      fill: #D2E3FC;\n",
       "    }\n",
       "\n",
       "    [theme=dark] .colab-df-convert:hover {\n",
       "      background-color: #434B5C;\n",
       "      box-shadow: 0px 1px 3px 1px rgba(0, 0, 0, 0.15);\n",
       "      filter: drop-shadow(0px 1px 2px rgba(0, 0, 0, 0.3));\n",
       "      fill: #FFFFFF;\n",
       "    }\n",
       "  </style>\n",
       "\n",
       "      <script>\n",
       "        const buttonEl =\n",
       "          document.querySelector('#df-f7f33886-bc70-4ebc-a294-d8baeeff55f1 button.colab-df-convert');\n",
       "        buttonEl.style.display =\n",
       "          google.colab.kernel.accessAllowed ? 'block' : 'none';\n",
       "\n",
       "        async function convertToInteractive(key) {\n",
       "          const element = document.querySelector('#df-f7f33886-bc70-4ebc-a294-d8baeeff55f1');\n",
       "          const dataTable =\n",
       "            await google.colab.kernel.invokeFunction('convertToInteractive',\n",
       "                                                     [key], {});\n",
       "          if (!dataTable) return;\n",
       "\n",
       "          const docLinkHtml = 'Like what you see? Visit the ' +\n",
       "            '<a target=\"_blank\" href=https://colab.research.google.com/notebooks/data_table.ipynb>data table notebook</a>'\n",
       "            + ' to learn more about interactive tables.';\n",
       "          element.innerHTML = '';\n",
       "          dataTable['output_type'] = 'display_data';\n",
       "          await google.colab.output.renderOutput(dataTable, element);\n",
       "          const docLink = document.createElement('div');\n",
       "          docLink.innerHTML = docLinkHtml;\n",
       "          element.appendChild(docLink);\n",
       "        }\n",
       "      </script>\n",
       "    </div>\n",
       "  </div>\n",
       "  "
      ],
      "text/plain": [
       "   passengerid  survived\n",
       "0          916       0.5\n",
       "1          917       0.5\n",
       "2          918       0.5\n",
       "3          919       0.5\n",
       "4          920       0.5"
      ]
     },
     "execution_count": 73,
     "metadata": {},
     "output_type": "execute_result"
    }
   ],
   "source": [
    "submission = pd.read_csv(args.default_submission_csv)\n",
    "submission.head()"
   ]
  },
  {
   "cell_type": "code",
   "execution_count": null,
   "metadata": {
    "colab": {
     "base_uri": "https://localhost:8080/",
     "height": 380
    },
    "executionInfo": {
     "elapsed": 12,
     "status": "ok",
     "timestamp": 1676895851703,
     "user": {
      "displayName": "조경원",
      "userId": "10205523497785796707"
     },
     "user_tz": -540
    },
    "id": "1_lo3-TUL7Og",
    "outputId": "d370c5c9-e824-4d54-93c0-7817581e877b"
   },
   "outputs": [
    {
     "name": "stdout",
     "output_type": "stream",
     "text": [
      "0\n"
     ]
    },
    {
     "data": {
      "text/html": [
       "\n",
       "  <div id=\"df-0c4739cd-6dd7-45a5-9110-da9ae17b7dcf\">\n",
       "    <div class=\"colab-df-container\">\n",
       "      <div>\n",
       "<style scoped>\n",
       "    .dataframe tbody tr th:only-of-type {\n",
       "        vertical-align: middle;\n",
       "    }\n",
       "\n",
       "    .dataframe tbody tr th {\n",
       "        vertical-align: top;\n",
       "    }\n",
       "\n",
       "    .dataframe thead th {\n",
       "        text-align: right;\n",
       "    }\n",
       "</style>\n",
       "<table border=\"1\" class=\"dataframe\">\n",
       "  <thead>\n",
       "    <tr style=\"text-align: right;\">\n",
       "      <th></th>\n",
       "      <th>passengerid</th>\n",
       "      <th>survived</th>\n",
       "    </tr>\n",
       "  </thead>\n",
       "  <tbody>\n",
       "    <tr>\n",
       "      <th>0</th>\n",
       "      <td>916</td>\n",
       "      <td>1.000</td>\n",
       "    </tr>\n",
       "    <tr>\n",
       "      <th>1</th>\n",
       "      <td>917</td>\n",
       "      <td>1.000</td>\n",
       "    </tr>\n",
       "    <tr>\n",
       "      <th>2</th>\n",
       "      <td>918</td>\n",
       "      <td>1.000</td>\n",
       "    </tr>\n",
       "    <tr>\n",
       "      <th>3</th>\n",
       "      <td>919</td>\n",
       "      <td>0.000</td>\n",
       "    </tr>\n",
       "    <tr>\n",
       "      <th>4</th>\n",
       "      <td>920</td>\n",
       "      <td>1.000</td>\n",
       "    </tr>\n",
       "    <tr>\n",
       "      <th>5</th>\n",
       "      <td>921</td>\n",
       "      <td>1.000</td>\n",
       "    </tr>\n",
       "    <tr>\n",
       "      <th>6</th>\n",
       "      <td>922</td>\n",
       "      <td>0.000</td>\n",
       "    </tr>\n",
       "    <tr>\n",
       "      <th>7</th>\n",
       "      <td>923</td>\n",
       "      <td>0.125</td>\n",
       "    </tr>\n",
       "    <tr>\n",
       "      <th>8</th>\n",
       "      <td>924</td>\n",
       "      <td>1.000</td>\n",
       "    </tr>\n",
       "    <tr>\n",
       "      <th>9</th>\n",
       "      <td>925</td>\n",
       "      <td>0.000</td>\n",
       "    </tr>\n",
       "  </tbody>\n",
       "</table>\n",
       "</div>\n",
       "      <button class=\"colab-df-convert\" onclick=\"convertToInteractive('df-0c4739cd-6dd7-45a5-9110-da9ae17b7dcf')\"\n",
       "              title=\"Convert this dataframe to an interactive table.\"\n",
       "              style=\"display:none;\">\n",
       "        \n",
       "  <svg xmlns=\"http://www.w3.org/2000/svg\" height=\"24px\"viewBox=\"0 0 24 24\"\n",
       "       width=\"24px\">\n",
       "    <path d=\"M0 0h24v24H0V0z\" fill=\"none\"/>\n",
       "    <path d=\"M18.56 5.44l.94 2.06.94-2.06 2.06-.94-2.06-.94-.94-2.06-.94 2.06-2.06.94zm-11 1L8.5 8.5l.94-2.06 2.06-.94-2.06-.94L8.5 2.5l-.94 2.06-2.06.94zm10 10l.94 2.06.94-2.06 2.06-.94-2.06-.94-.94-2.06-.94 2.06-2.06.94z\"/><path d=\"M17.41 7.96l-1.37-1.37c-.4-.4-.92-.59-1.43-.59-.52 0-1.04.2-1.43.59L10.3 9.45l-7.72 7.72c-.78.78-.78 2.05 0 2.83L4 21.41c.39.39.9.59 1.41.59.51 0 1.02-.2 1.41-.59l7.78-7.78 2.81-2.81c.8-.78.8-2.07 0-2.86zM5.41 20L4 18.59l7.72-7.72 1.47 1.35L5.41 20z\"/>\n",
       "  </svg>\n",
       "      </button>\n",
       "      \n",
       "  <style>\n",
       "    .colab-df-container {\n",
       "      display:flex;\n",
       "      flex-wrap:wrap;\n",
       "      gap: 12px;\n",
       "    }\n",
       "\n",
       "    .colab-df-convert {\n",
       "      background-color: #E8F0FE;\n",
       "      border: none;\n",
       "      border-radius: 50%;\n",
       "      cursor: pointer;\n",
       "      display: none;\n",
       "      fill: #1967D2;\n",
       "      height: 32px;\n",
       "      padding: 0 0 0 0;\n",
       "      width: 32px;\n",
       "    }\n",
       "\n",
       "    .colab-df-convert:hover {\n",
       "      background-color: #E2EBFA;\n",
       "      box-shadow: 0px 1px 2px rgba(60, 64, 67, 0.3), 0px 1px 3px 1px rgba(60, 64, 67, 0.15);\n",
       "      fill: #174EA6;\n",
       "    }\n",
       "\n",
       "    [theme=dark] .colab-df-convert {\n",
       "      background-color: #3B4455;\n",
       "      fill: #D2E3FC;\n",
       "    }\n",
       "\n",
       "    [theme=dark] .colab-df-convert:hover {\n",
       "      background-color: #434B5C;\n",
       "      box-shadow: 0px 1px 3px 1px rgba(0, 0, 0, 0.15);\n",
       "      filter: drop-shadow(0px 1px 2px rgba(0, 0, 0, 0.3));\n",
       "      fill: #FFFFFF;\n",
       "    }\n",
       "  </style>\n",
       "\n",
       "      <script>\n",
       "        const buttonEl =\n",
       "          document.querySelector('#df-0c4739cd-6dd7-45a5-9110-da9ae17b7dcf button.colab-df-convert');\n",
       "        buttonEl.style.display =\n",
       "          google.colab.kernel.accessAllowed ? 'block' : 'none';\n",
       "\n",
       "        async function convertToInteractive(key) {\n",
       "          const element = document.querySelector('#df-0c4739cd-6dd7-45a5-9110-da9ae17b7dcf');\n",
       "          const dataTable =\n",
       "            await google.colab.kernel.invokeFunction('convertToInteractive',\n",
       "                                                     [key], {});\n",
       "          if (!dataTable) return;\n",
       "\n",
       "          const docLinkHtml = 'Like what you see? Visit the ' +\n",
       "            '<a target=\"_blank\" href=https://colab.research.google.com/notebooks/data_table.ipynb>data table notebook</a>'\n",
       "            + ' to learn more about interactive tables.';\n",
       "          element.innerHTML = '';\n",
       "          dataTable['output_type'] = 'display_data';\n",
       "          await google.colab.output.renderOutput(dataTable, element);\n",
       "          const docLink = document.createElement('div');\n",
       "          docLink.innerHTML = docLinkHtml;\n",
       "          element.appendChild(docLink);\n",
       "        }\n",
       "      </script>\n",
       "    </div>\n",
       "  </div>\n",
       "  "
      ],
      "text/plain": [
       "   passengerid  survived\n",
       "0          916     1.000\n",
       "1          917     1.000\n",
       "2          918     1.000\n",
       "3          919     0.000\n",
       "4          920     1.000\n",
       "5          921     1.000\n",
       "6          922     0.000\n",
       "7          923     0.125\n",
       "8          924     1.000\n",
       "9          925     0.000"
      ]
     },
     "execution_count": 74,
     "metadata": {},
     "output_type": "execute_result"
    }
   ],
   "source": [
    "submission['survived'] = df_results.loc[0, ['ori_te_pred']].values[0]\n",
    "print(f'{submission.isnull().sum().sum()}')\n",
    "submission.head(10)"
   ]
  },
  {
   "cell_type": "code",
   "execution_count": null,
   "metadata": {
    "id": "Px2O6OYdL7ed"
   },
   "outputs": [],
   "source": [
    "submission.to_csv(args.submission_csv, header=True, index=False)"
   ]
  },
  {
   "cell_type": "markdown",
   "metadata": {
    "id": "bBHKc63d2Waj"
   },
   "source": [
    "# Save Results"
   ]
  },
  {
   "cell_type": "code",
   "execution_count": null,
   "metadata": {
    "colab": {
     "base_uri": "https://localhost:8080/",
     "height": 35
    },
    "executionInfo": {
     "elapsed": 7,
     "status": "ok",
     "timestamp": 1676895851703,
     "user": {
      "displayName": "조경원",
      "userId": "10205523497785796707"
     },
     "user_tz": -540
    },
    "id": "Uxmnxqnl2aNJ",
    "outputId": "2416fea7-2364-4821-ceaf-42788311cb9c"
   },
   "outputs": [
    {
     "data": {
      "application/vnd.google.colaboratory.intrinsic+json": {
       "type": "string"
      },
      "text/plain": [
       "'/content/data/MyDrive/lecture/data/titanic/kaggle_competition/result/model_results.json'"
      ]
     },
     "execution_count": 76,
     "metadata": {},
     "output_type": "execute_result"
    }
   ],
   "source": [
    "args.save_results"
   ]
  },
  {
   "cell_type": "code",
   "execution_count": null,
   "metadata": {
    "colab": {
     "base_uri": "https://localhost:8080/"
    },
    "executionInfo": {
     "elapsed": 6,
     "status": "ok",
     "timestamp": 1676895851703,
     "user": {
      "displayName": "조경원",
      "userId": "10205523497785796707"
     },
     "user_tz": -540
    },
    "id": "104aSV_bOJKo",
    "outputId": "be8db2b3-24e8-4da4-a0c5-09b88a4f1179"
   },
   "outputs": [
    {
     "data": {
      "text/plain": [
       "Index(['model', 'score_tr', 'score_te', 'auc_te', 'ori_te_pred',\n",
       "       'len_features', 'feaute_importances', 'create_dt'],\n",
       "      dtype='object')"
      ]
     },
     "execution_count": 77,
     "metadata": {},
     "output_type": "execute_result"
    }
   ],
   "source": [
    "df_results.columns"
   ]
  },
  {
   "cell_type": "code",
   "execution_count": null,
   "metadata": {
    "id": "KT9aOigbOPVp"
   },
   "outputs": [],
   "source": [
    "df_results.drop(['ori_te_pred'], axis=1, inplace=True) "
   ]
  },
  {
   "cell_type": "code",
   "execution_count": null,
   "metadata": {
    "id": "xtdnf4LiOPZT"
   },
   "outputs": [],
   "source": [
    "df_results.to_json(args.save_results, orient=\"records\")"
   ]
  },
  {
   "cell_type": "code",
   "execution_count": null,
   "metadata": {
    "colab": {
     "base_uri": "https://localhost:8080/",
     "height": 143
    },
    "executionInfo": {
     "elapsed": 14,
     "status": "ok",
     "timestamp": 1676895852314,
     "user": {
      "displayName": "조경원",
      "userId": "10205523497785796707"
     },
     "user_tz": -540
    },
    "id": "3qLMRrD7PWDe",
    "outputId": "9a8f6f72-cd30-41d2-9994-da63638181aa"
   },
   "outputs": [
    {
     "data": {
      "text/html": [
       "\n",
       "  <div id=\"df-c658ec74-ebb6-47d9-b406-04e093d24888\">\n",
       "    <div class=\"colab-df-container\">\n",
       "      <div>\n",
       "<style scoped>\n",
       "    .dataframe tbody tr th:only-of-type {\n",
       "        vertical-align: middle;\n",
       "    }\n",
       "\n",
       "    .dataframe tbody tr th {\n",
       "        vertical-align: top;\n",
       "    }\n",
       "\n",
       "    .dataframe thead th {\n",
       "        text-align: right;\n",
       "    }\n",
       "</style>\n",
       "<table border=\"1\" class=\"dataframe\">\n",
       "  <thead>\n",
       "    <tr style=\"text-align: right;\">\n",
       "      <th></th>\n",
       "      <th>model</th>\n",
       "      <th>score_tr</th>\n",
       "      <th>score_te</th>\n",
       "      <th>auc_te</th>\n",
       "      <th>len_features</th>\n",
       "      <th>feaute_importances</th>\n",
       "      <th>create_dt</th>\n",
       "    </tr>\n",
       "  </thead>\n",
       "  <tbody>\n",
       "    <tr>\n",
       "      <th>1</th>\n",
       "      <td>modelV1</td>\n",
       "      <td>0.982839</td>\n",
       "      <td>0.785455</td>\n",
       "      <td>0.857259</td>\n",
       "      <td>10</td>\n",
       "      <td>[gender_female, fare, age, pclass, sibsp, emba...</td>\n",
       "      <td>0217</td>\n",
       "    </tr>\n",
       "    <tr>\n",
       "      <th>2</th>\n",
       "      <td>modelV2</td>\n",
       "      <td>0.982839</td>\n",
       "      <td>0.778182</td>\n",
       "      <td>0.766616</td>\n",
       "      <td>10</td>\n",
       "      <td>[gender_female, fare, age, pclass, sibsp, emba...</td>\n",
       "      <td>0217</td>\n",
       "    </tr>\n",
       "    <tr>\n",
       "      <th>0</th>\n",
       "      <td>modelV0</td>\n",
       "      <td>0.982839</td>\n",
       "      <td>0.774545</td>\n",
       "      <td>0.763580</td>\n",
       "      <td>10</td>\n",
       "      <td>[gender_female, fare, age, pclass, sibsp, emba...</td>\n",
       "      <td>0217</td>\n",
       "    </tr>\n",
       "  </tbody>\n",
       "</table>\n",
       "</div>\n",
       "      <button class=\"colab-df-convert\" onclick=\"convertToInteractive('df-c658ec74-ebb6-47d9-b406-04e093d24888')\"\n",
       "              title=\"Convert this dataframe to an interactive table.\"\n",
       "              style=\"display:none;\">\n",
       "        \n",
       "  <svg xmlns=\"http://www.w3.org/2000/svg\" height=\"24px\"viewBox=\"0 0 24 24\"\n",
       "       width=\"24px\">\n",
       "    <path d=\"M0 0h24v24H0V0z\" fill=\"none\"/>\n",
       "    <path d=\"M18.56 5.44l.94 2.06.94-2.06 2.06-.94-2.06-.94-.94-2.06-.94 2.06-2.06.94zm-11 1L8.5 8.5l.94-2.06 2.06-.94-2.06-.94L8.5 2.5l-.94 2.06-2.06.94zm10 10l.94 2.06.94-2.06 2.06-.94-2.06-.94-.94-2.06-.94 2.06-2.06.94z\"/><path d=\"M17.41 7.96l-1.37-1.37c-.4-.4-.92-.59-1.43-.59-.52 0-1.04.2-1.43.59L10.3 9.45l-7.72 7.72c-.78.78-.78 2.05 0 2.83L4 21.41c.39.39.9.59 1.41.59.51 0 1.02-.2 1.41-.59l7.78-7.78 2.81-2.81c.8-.78.8-2.07 0-2.86zM5.41 20L4 18.59l7.72-7.72 1.47 1.35L5.41 20z\"/>\n",
       "  </svg>\n",
       "      </button>\n",
       "      \n",
       "  <style>\n",
       "    .colab-df-container {\n",
       "      display:flex;\n",
       "      flex-wrap:wrap;\n",
       "      gap: 12px;\n",
       "    }\n",
       "\n",
       "    .colab-df-convert {\n",
       "      background-color: #E8F0FE;\n",
       "      border: none;\n",
       "      border-radius: 50%;\n",
       "      cursor: pointer;\n",
       "      display: none;\n",
       "      fill: #1967D2;\n",
       "      height: 32px;\n",
       "      padding: 0 0 0 0;\n",
       "      width: 32px;\n",
       "    }\n",
       "\n",
       "    .colab-df-convert:hover {\n",
       "      background-color: #E2EBFA;\n",
       "      box-shadow: 0px 1px 2px rgba(60, 64, 67, 0.3), 0px 1px 3px 1px rgba(60, 64, 67, 0.15);\n",
       "      fill: #174EA6;\n",
       "    }\n",
       "\n",
       "    [theme=dark] .colab-df-convert {\n",
       "      background-color: #3B4455;\n",
       "      fill: #D2E3FC;\n",
       "    }\n",
       "\n",
       "    [theme=dark] .colab-df-convert:hover {\n",
       "      background-color: #434B5C;\n",
       "      box-shadow: 0px 1px 3px 1px rgba(0, 0, 0, 0.15);\n",
       "      filter: drop-shadow(0px 1px 2px rgba(0, 0, 0, 0.3));\n",
       "      fill: #FFFFFF;\n",
       "    }\n",
       "  </style>\n",
       "\n",
       "      <script>\n",
       "        const buttonEl =\n",
       "          document.querySelector('#df-c658ec74-ebb6-47d9-b406-04e093d24888 button.colab-df-convert');\n",
       "        buttonEl.style.display =\n",
       "          google.colab.kernel.accessAllowed ? 'block' : 'none';\n",
       "\n",
       "        async function convertToInteractive(key) {\n",
       "          const element = document.querySelector('#df-c658ec74-ebb6-47d9-b406-04e093d24888');\n",
       "          const dataTable =\n",
       "            await google.colab.kernel.invokeFunction('convertToInteractive',\n",
       "                                                     [key], {});\n",
       "          if (!dataTable) return;\n",
       "\n",
       "          const docLinkHtml = 'Like what you see? Visit the ' +\n",
       "            '<a target=\"_blank\" href=https://colab.research.google.com/notebooks/data_table.ipynb>data table notebook</a>'\n",
       "            + ' to learn more about interactive tables.';\n",
       "          element.innerHTML = '';\n",
       "          dataTable['output_type'] = 'display_data';\n",
       "          await google.colab.output.renderOutput(dataTable, element);\n",
       "          const docLink = document.createElement('div');\n",
       "          docLink.innerHTML = docLinkHtml;\n",
       "          element.appendChild(docLink);\n",
       "        }\n",
       "      </script>\n",
       "    </div>\n",
       "  </div>\n",
       "  "
      ],
      "text/plain": [
       "     model  score_tr  score_te    auc_te  len_features  \\\n",
       "1  modelV1  0.982839  0.785455  0.857259            10   \n",
       "2  modelV2  0.982839  0.778182  0.766616            10   \n",
       "0  modelV0  0.982839  0.774545  0.763580            10   \n",
       "\n",
       "                                  feaute_importances create_dt  \n",
       "1  [gender_female, fare, age, pclass, sibsp, emba...      0217  \n",
       "2  [gender_female, fare, age, pclass, sibsp, emba...      0217  \n",
       "0  [gender_female, fare, age, pclass, sibsp, emba...      0217  "
      ]
     },
     "execution_count": 80,
     "metadata": {},
     "output_type": "execute_result"
    }
   ],
   "source": [
    "df_results.head()"
   ]
  },
  {
   "cell_type": "code",
   "execution_count": null,
   "metadata": {
    "colab": {
     "base_uri": "https://localhost:8080/"
    },
    "executionInfo": {
     "elapsed": 13,
     "status": "ok",
     "timestamp": 1676895852314,
     "user": {
      "displayName": "조경원",
      "userId": "10205523497785796707"
     },
     "user_tz": -540
    },
    "id": "MJABjgAx2gOY",
    "outputId": "077b3a73-e479-47cc-c28f-bf6f68c90e7b"
   },
   "outputs": [
    {
     "data": {
      "text/plain": [
       "[{'model': 'modelV1',\n",
       "  'score_tr': 0.9828393136,\n",
       "  'score_te': 0.7854545455,\n",
       "  'auc_te': 0.8572593342,\n",
       "  'len_features': 10,\n",
       "  'feaute_importances': ['gender_female',\n",
       "   'fare',\n",
       "   'age',\n",
       "   'pclass',\n",
       "   'sibsp',\n",
       "   'embarked_S',\n",
       "   'embarked_C',\n",
       "   'parch',\n",
       "   'embarked_Q',\n",
       "   'gender_male'],\n",
       "  'create_dt': '0217'},\n",
       " {'model': 'modelV2',\n",
       "  'score_tr': 0.9828393136,\n",
       "  'score_te': 0.7781818182,\n",
       "  'auc_te': 0.7666160594,\n",
       "  'len_features': 10,\n",
       "  'feaute_importances': ['gender_female',\n",
       "   'fare',\n",
       "   'age',\n",
       "   'pclass',\n",
       "   'sibsp',\n",
       "   'embarked_S',\n",
       "   'embarked_C',\n",
       "   'parch',\n",
       "   'embarked_Q',\n",
       "   'gender_male'],\n",
       "  'create_dt': '0217'},\n",
       " {'model': 'modelV0',\n",
       "  'score_tr': 0.9828393136,\n",
       "  'score_te': 0.7745454545,\n",
       "  'auc_te': 0.7635796221,\n",
       "  'len_features': 10,\n",
       "  'feaute_importances': ['gender_female',\n",
       "   'fare',\n",
       "   'age',\n",
       "   'pclass',\n",
       "   'sibsp',\n",
       "   'embarked_S',\n",
       "   'embarked_C',\n",
       "   'parch',\n",
       "   'gender_male',\n",
       "   'embarked_Q'],\n",
       "  'create_dt': '0217'}]"
      ]
     },
     "execution_count": 81,
     "metadata": {},
     "output_type": "execute_result"
    }
   ],
   "source": [
    "import json\n",
    "\n",
    "load_results = None\n",
    "with open(args.save_results, 'r') as file:\n",
    "    load_results = json.load(file)\n",
    "\n",
    "load_results"
   ]
  },
  {
   "cell_type": "code",
   "execution_count": null,
   "metadata": {
    "id": "Fb9kcDEJQWvy"
   },
   "outputs": [],
   "source": []
  }
 ],
 "metadata": {
  "colab": {
   "authorship_tag": "ABX9TyP3HdS9LL4bbD7YyG/NGiuP",
   "provenance": []
  },
  "kernelspec": {
   "display_name": "Python 3 (ipykernel)",
   "language": "python",
   "name": "python3"
  },
  "language_info": {
   "codemirror_mode": {
    "name": "ipython",
    "version": 3
   },
   "file_extension": ".py",
   "mimetype": "text/x-python",
   "name": "python",
   "nbconvert_exporter": "python",
   "pygments_lexer": "ipython3",
   "version": "3.8.16"
  }
 },
 "nbformat": 4,
 "nbformat_minor": 4
}
