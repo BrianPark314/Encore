{
 "cells": [
  {
   "cell_type": "code",
   "execution_count": 2,
   "id": "73ea5853-fc9a-4463-bf4c-3eb77b9e30e4",
   "metadata": {},
   "outputs": [
    {
     "name": "stdout",
     "output_type": "stream",
     "text": [
      "24\n",
      "64\n",
      "134\n",
      "205\n",
      "463\n",
      "660\n",
      "661\n",
      "40663\n"
     ]
    }
   ],
   "source": [
    "#8진수에서 2자리 이상의 나르시스트 수를 작은 순서대로 8개 구하고, 8진수로 차례대로 출력하시오.\n",
    "\n",
    "#N진수에서 각 자리 숫자를 n제곱한 값의 합계가 최대가 되는 시점은 (N-1)이 n개 나열될 때이다.\n",
    "#따라서 최대 n(N-1)^n이 되므로, n(N-1)^n < N^(n-1) 까지만 확인하면 된다.\n",
    "\n",
    "N = 8\n",
    "\n",
    "#진법 변환\n",
    "def to_str(n, base):\n",
    "    converter = \"0123456789ABCDEF\"\n",
    "    if (n < base):\n",
    "        return converter[n]\n",
    "    else:\n",
    "        return to_str(n//base, base) + converter[n%base]\n",
    "\n",
    "#탐색 최대 자릿수 확인\n",
    "k = 1\n",
    "while True:\n",
    "    if k*((N-1)**k) < N**(k-1):\n",
    "        break\n",
    "    k += 1\n",
    "cnt = 0\n",
    "for i in range(N, (N**k)+1):\n",
    "    value = to_str(i, N)\n",
    "    length = len(value)\n",
    "    sum = 0\n",
    "    for d in range(0, length):\n",
    "        sum += int(value[d], base=N)**length\n",
    "    if i == sum:\n",
    "        print(value)\n",
    "        cnt += 1\n",
    "        if cnt == N:\n",
    "            break\n",
    "            \n",
    "            "
   ]
  },
  {
   "cell_type": "code",
   "execution_count": null,
   "id": "444ec5c8-17ff-414e-ba9c-fd1f81db2a54",
   "metadata": {},
   "outputs": [],
   "source": []
  }
 ],
 "metadata": {
  "kernelspec": {
   "display_name": "Python 3 (ipykernel)",
   "language": "python",
   "name": "python3"
  },
  "language_info": {
   "codemirror_mode": {
    "name": "ipython",
    "version": 3
   },
   "file_extension": ".py",
   "mimetype": "text/x-python",
   "name": "python",
   "nbconvert_exporter": "python",
   "pygments_lexer": "ipython3",
   "version": "3.9.16"
  }
 },
 "nbformat": 4,
 "nbformat_minor": 5
}
