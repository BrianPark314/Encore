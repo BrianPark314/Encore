{
 "cells": [
  {
   "cell_type": "code",
   "execution_count": 3,
   "id": "31e262e3-d324-4bdf-b709-a49400f5f561",
   "metadata": {},
   "outputs": [
    {
     "name": "stdout",
     "output_type": "stream",
     "text": [
      "3518437540\n"
     ]
    }
   ],
   "source": [
    "#1, 5, 10, 50, 100, 500, 1000, 2000, 500, 10000짜리로 파스칼의 삼각형의 임의의 행에 나온 모든 숫자를 조합하려 한다.\n",
    "#총 지폐와 동전의 수를 구하시오.\n",
    "\n",
    "#우선 파스칼의 삼각형부터 만든다.\n",
    "\n",
    "N = 45\n",
    "\n",
    "def count(n):\n",
    "    coin = [10000, 5000, 2000, 1000, 500, 100, 50, 10, 5, 1]\n",
    "    result = 0\n",
    "    for c in coin:\n",
    "        cnt, n = divmod(n, c)\n",
    "        result += cnt\n",
    "    return result\n",
    "\n",
    "row = [0]*(N+1)\n",
    "row[0] = 1\n",
    "for i in range(N):\n",
    "    #각 자리 숫자를 오른쪽부터 설정\n",
    "    for j in range(i+1, 0, -1):\n",
    "        #앞선 행의 값을 기반으로 차례차례 채우기\n",
    "        row[j] += row[j-1]\n",
    "#개수 합계 구하기\n",
    "total = 0\n",
    "for i in range(N+1):\n",
    "    total += count(row[i])\n",
    "print(total)\n",
    "        "
   ]
  },
  {
   "cell_type": "code",
   "execution_count": null,
   "id": "d386364f-f56f-40f6-9547-5de1df14d11e",
   "metadata": {},
   "outputs": [],
   "source": []
  }
 ],
 "metadata": {
  "kernelspec": {
   "display_name": "Python 3 (ipykernel)",
   "language": "python",
   "name": "python3"
  },
  "language_info": {
   "codemirror_mode": {
    "name": "ipython",
    "version": 3
   },
   "file_extension": ".py",
   "mimetype": "text/x-python",
   "name": "python",
   "nbconvert_exporter": "python",
   "pygments_lexer": "ipython3",
   "version": "3.9.16"
  }
 },
 "nbformat": 4,
 "nbformat_minor": 5
}
