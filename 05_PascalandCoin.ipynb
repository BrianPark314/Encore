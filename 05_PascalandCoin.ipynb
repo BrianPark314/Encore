{
 "cells": [
  {
   "cell_type": "code",
   "execution_count": null,
   "id": "31e262e3-d324-4bdf-b709-a49400f5f561",
   "metadata": {},
   "outputs": [],
   "source": [
    "#1, 5, 10, 50, 100, 500, 1000, 2000, 500, 10000짜리로 파스칼의 삼각형의 임의의 행에 나온 모든 숫자를 조합하려 한다.\n",
    "#총 지폐와 동전의 수를 구하시오.\n",
    "\n",
    "#우선 파스칼의 삼각형부터 만든다.\n",
    "\n",
    "N = 45\n",
    "\n",
    "def pascal(N):\n",
    "    k = [[1]]\n",
    "    for i in range(0, N)\n",
    "        "
   ]
  }
 ],
 "metadata": {
  "kernelspec": {
   "display_name": "Python 3 (ipykernel)",
   "language": "python",
   "name": "python3"
  },
  "language_info": {
   "codemirror_mode": {
    "name": "ipython",
    "version": 3
   },
   "file_extension": ".py",
   "mimetype": "text/x-python",
   "name": "python",
   "nbconvert_exporter": "python",
   "pygments_lexer": "ipython3",
   "version": "3.9.16"
  }
 },
 "nbformat": 4,
 "nbformat_minor": 5
}
