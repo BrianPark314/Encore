{
 "cells": [
  {
   "cell_type": "code",
   "execution_count": 1,
   "id": "783a4f10-5cce-4906-a439-6e3e95921dab",
   "metadata": {},
   "outputs": [],
   "source": [
    "#n개 중 r개를 추출하는 경우의 수를 구할 때, 순서를 고려하면 순열, 고려하지 않으면 조합이 된다."
   ]
  },
  {
   "cell_type": "code",
   "execution_count": 3,
   "id": "12427536-74b8-4979-8236-9dd4a56399bc",
   "metadata": {},
   "outputs": [
    {
     "name": "stdout",
     "output_type": "stream",
     "text": [
      "720\n"
     ]
    }
   ],
   "source": [
    "#순열은 nPr = n * n-1 * ... * n-r+1 로 나타낼 수 있다.\n",
    "\n",
    "def Per(n, r):\n",
    "    ans = 1\n",
    "    for i in range(n-r+1, n+1):\n",
    "        ans = ans*i\n",
    "    return ans\n",
    "\n",
    "print(Per(10, 3))"
   ]
  },
  {
   "cell_type": "code",
   "execution_count": 5,
   "id": "12543515-31f8-462a-926d-0d500b509a0b",
   "metadata": {},
   "outputs": [
    {
     "name": "stdout",
     "output_type": "stream",
     "text": [
      "120\n"
     ]
    }
   ],
   "source": [
    "#조합은 nCr = nPr/r!(n-r)! 로 나타낼 수 있다.\n",
    "#그러나 이 방법은 분모와 분자의 값이 너무 커지면 부동소수점 연산 오류가 날 수 있다. 그러므로 다음과 같은 점화식으로 처리하는 것이 좋다.\n",
    "# nCr = n-1Cr-1 + n-1Cr\n",
    "\n",
    "memo = {}\n",
    "def Com(n, r):\n",
    "    key = str([n, r])\n",
    "    if key in memo:\n",
    "        return memo[key]\n",
    "    if r == 0 or r == n: #r이 0일 경우 또는 r이 1과 같은 경우는 답이 1이므로 예외 처리\n",
    "        return 1\n",
    "    memo[key] = Com(n-1, r-1) + Com(n-1, r) #메모\n",
    "    return memo[key]\n",
    "\n",
    "print(Com(10,3))"
   ]
  },
  {
   "cell_type": "code",
   "execution_count": null,
   "id": "d87427fc-b4af-498f-abf3-184cdd95144f",
   "metadata": {},
   "outputs": [],
   "source": []
  }
 ],
 "metadata": {
  "kernelspec": {
   "display_name": "Python 3 (ipykernel)",
   "language": "python",
   "name": "python3"
  },
  "language_info": {
   "codemirror_mode": {
    "name": "ipython",
    "version": 3
   },
   "file_extension": ".py",
   "mimetype": "text/x-python",
   "name": "python",
   "nbconvert_exporter": "python",
   "pygments_lexer": "ipython3",
   "version": "3.9.16"
  }
 },
 "nbformat": 4,
 "nbformat_minor": 5
}
