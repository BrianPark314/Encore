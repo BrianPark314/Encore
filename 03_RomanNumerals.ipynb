{
 "cells": [
  {
   "cell_type": "code",
   "execution_count": 4,
   "id": "b333e5b2-e1a6-401e-a89a-bbf81fd32334",
   "metadata": {},
   "outputs": [
    {
     "name": "stdout",
     "output_type": "stream",
     "text": [
      "93\n"
     ]
    }
   ],
   "source": [
    "#로마 숫자 기호를 N개 나열했을 때 로마 숫자로 인식될 수 있는 숫가자 몇 개인지 구하시오.\n",
    "\n",
    "#로마 숫자는 최대 3,999까지 표현 가능하므로 가능한 조합을 모두 구하고 그 안에서 자릿수가 N개인 숫자를 찾으면 된다.\n",
    "\n",
    "N = 12\n",
    "#자릿수 하나 변환\n",
    "def conv(n, i, v, x):\n",
    "    result = ''\n",
    "    if n == 9: #끝자리가 9일 경우 예외 처리\n",
    "        result += i + x\n",
    "    elif n == 4: #끝자리가 4일 경우 예외 처리\n",
    "        result += i + v\n",
    "    else:\n",
    "        result += v * (n//5) #5로 나눈 몫만큼 v를 추가\n",
    "        n = n % 5\n",
    "        result += i * n # 나머지만큼 i를 추가\n",
    "    return result\n",
    "\n",
    "#로마 숫자로 변환\n",
    "def roman(n):\n",
    "    m, n = divmod(n, 1000)\n",
    "    c, n = divmod(n, 100)\n",
    "    x, n = divmod(n, 10) #m, c, x는 간단히 나머지로 처리 가능\n",
    "    result = 'M' * m\n",
    "    result += conv(c, 'C', 'D', 'M')\n",
    "    result += conv(x, 'X', 'L', 'C')\n",
    "    result += conv(n, 'I', 'V', 'X')\n",
    "    return result\n",
    "\n",
    "cnt = {}\n",
    "for n in range(1, 4000):\n",
    "    length = len(roman(n))\n",
    "    if length in cnt:\n",
    "        cnt[length] += 1\n",
    "    else:\n",
    "        cnt[length] = 1\n",
    "    \n",
    "print(cnt[N])\n",
    "        \n",
    "    "
   ]
  },
  {
   "cell_type": "code",
   "execution_count": null,
   "id": "5c332102-7875-42c4-be92-c844aa54d6ea",
   "metadata": {},
   "outputs": [],
   "source": []
  }
 ],
 "metadata": {
  "kernelspec": {
   "display_name": "Python 3 (ipykernel)",
   "language": "python",
   "name": "python3"
  },
  "language_info": {
   "codemirror_mode": {
    "name": "ipython",
    "version": 3
   },
   "file_extension": ".py",
   "mimetype": "text/x-python",
   "name": "python",
   "nbconvert_exporter": "python",
   "pygments_lexer": "ipython3",
   "version": "3.9.16"
  }
 },
 "nbformat": 4,
 "nbformat_minor": 5
}
