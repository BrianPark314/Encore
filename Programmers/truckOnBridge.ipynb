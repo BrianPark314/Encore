{
 "cells": [
  {
   "cell_type": "raw",
   "id": "3e99e868-0c00-41da-8440-8fac5436b4cc",
   "metadata": {},
   "source": [
    "문제 설명\n",
    "트럭 여러 대가 강을 가로지르는 일차선 다리를 정해진 순으로 건너려 합니다. 모든 트럭이 다리를 건너려면 최소 몇 초가 걸리는지 알아내야 합니다. 다리에는 트럭이 최대 bridge_length대 올라갈 수 있으며, 다리는 weight 이하까지의 무게를 견딜 수 있습니다. 단, 다리에 완전히 오르지 않은 트럭의 무게는 무시합니다.\n",
    "\n",
    "예를 들어, 트럭 2대가 올라갈 수 있고 무게를 10kg까지 견디는 다리가 있습니다. 무게가 [7, 4, 5, 6]kg인 트럭이 순서대로 최단 시간 안에 다리를 건너려면 다음과 같이 건너야 합니다.\n",
    "\n",
    "경과 시간\t다리를 지난 트럭\t다리를 건너는 트럭\t대기 트럭\n",
    "0\t[]\t[]\t[7,4,5,6]\n",
    "1~2\t[]\t[7]\t[4,5,6]\n",
    "3\t[7]\t[4]\t[5,6]\n",
    "4\t[7]\t[4,5]\t[6]\n",
    "5\t[7,4]\t[5]\t[6]\n",
    "6~7\t[7,4,5]\t[6]\t[]\n",
    "8\t[7,4,5,6]\t[]\t[]\n",
    "따라서, 모든 트럭이 다리를 지나려면 최소 8초가 걸립니다.\n",
    "\n",
    "solution 함수의 매개변수로 다리에 올라갈 수 있는 트럭 수 bridge_length, 다리가 견딜 수 있는 무게 weight, 트럭 별 무게 truck_weights가 주어집니다. 이때 모든 트럭이 다리를 건너려면 최소 몇 초가 걸리는지 return 하도록 solution 함수를 완성하세요.\n",
    "\n",
    "제한 조건\n",
    "bridge_length는 1 이상 10,000 이하입니다.\n",
    "weight는 1 이상 10,000 이하입니다.\n",
    "truck_weights의 길이는 1 이상 10,000 이하입니다.\n",
    "모든 트럭의 무게는 1 이상 weight 이하입니다.\n",
    "입출력 예\n",
    "bridge_length\tweight\ttruck_weights\treturn\n",
    "2\t10\t[7,4,5,6]\t8\n",
    "100\t100\t[10]\t101\n",
    "100\t100\t[10,10,10,10,10,10,10,10,10,10]\t110"
   ]
  },
  {
   "cell_type": "code",
   "execution_count": 22,
   "id": "3ca6ff73-a424-493e-9375-445deb6a18a0",
   "metadata": {},
   "outputs": [],
   "source": [
    "from collections import deque as deq\n",
    "\n",
    "def solution(bl, w, tw):\n",
    "    cnt = 1 #걸리는 시간\n",
    "    ob = deq([0]*bl) #다리 위에 있는 트럭\n",
    "    tw.reverse() #속도를 위해 뒤집어 준다.\n",
    "    wob = tw[-1] # 다리 위 트럭의 무게를 따로 저장해준다. 그렇지 않고 sum을 사용할 경우 시간복잡도 이슈가 발생\n",
    "    ob[-1] = tw.pop()  #트럭을 한 대 출발시킨다.\n",
    "    while True:\n",
    "        print(ob, tw, wob)\n",
    "        if len(tw) == 0: #트럭이 더 이상 없으면 루프 종료, 빈 어레이인지 비교하지 않고 len을 사용한다.\n",
    "            break;\n",
    "        else: #비어있지 않을 경우\n",
    "            if wob+tw[-1]>w or (0 not in ob): #더 이상 트럭이 올라갈 수 없는 경우\n",
    "                ob.append(0) #트럭을 한칸 전진시킨다.\n",
    "                wob -= ob.popleft() #트럭 무게를 감소\n",
    "                if wob+tw[-1]<=w: #이후 트럭이 올라갈 수 있으면 올린다.\n",
    "                    wob += tw[-1] #트럭 무게 추가\n",
    "                    ob[-1] = tw.pop()\n",
    "                cnt += 1\n",
    "                continue;\n",
    "            else: #트럭이 더 올라갈 수 있을 때\n",
    "                wob -= ob.popleft() #지나간 트럭 무게 감소\n",
    "                wob += tw[-1] #추가된 트럭 무게 증가\n",
    "                ob.append(tw.pop()) #한칸 전진시키며 트럭을 올린다.\n",
    "                cnt += 1\n",
    "                continue;\n",
    "    \n",
    "    return cnt+bl"
   ]
  },
  {
   "cell_type": "code",
   "execution_count": null,
   "id": "f457c202-2c40-4f03-be3b-87cac037f3a6",
   "metadata": {},
   "outputs": [],
   "source": [
    "solution(10, 10, [10, 9, 8, 7, 6, 5, 4, 3, 2, 1])"
   ]
  },
  {
   "cell_type": "code",
   "execution_count": null,
   "id": "d3292780-9e59-49f0-8b56-8b24fce25c20",
   "metadata": {},
   "outputs": [],
   "source": [
    "solution(100, 100, [10])"
   ]
  },
  {
   "cell_type": "raw",
   "id": "cbffa7cf-f11e-4a3d-83fe-06eab405cd62",
   "metadata": {},
   "source": [
    "애를 상당히 많이 먹었다... 분명 문제에 나온 케이스만 하면 문제가 없을텐데 히든 케이스에 N이 아주 큰 케이스가 같이 섞여있는 모양이다. 루프를 돌려하 하는 건 어쩔 수 없기 때문에 루프 안에 O(N) function을 최대한 배제하고 작성했다. 아직 Line 14에서 in을 대체하진 않았는데 이정도만 해도 통과는 잘 한다."
   ]
  }
 ],
 "metadata": {
  "kernelspec": {
   "display_name": "Python 3 (ipykernel)",
   "language": "python",
   "name": "python3"
  },
  "language_info": {
   "codemirror_mode": {
    "name": "ipython",
    "version": 3
   },
   "file_extension": ".py",
   "mimetype": "text/x-python",
   "name": "python",
   "nbconvert_exporter": "python",
   "pygments_lexer": "ipython3",
   "version": "3.9.16"
  }
 },
 "nbformat": 4,
 "nbformat_minor": 5
}
