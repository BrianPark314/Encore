{
 "cells": [
  {
   "cell_type": "raw",
   "id": "ba52d3d0-85cc-486b-8263-eba5ef106898",
   "metadata": {},
   "source": [
    "문제 설명\n",
    "두 정수 X, Y의 임의의 자리에서 공통으로 나타나는 정수 k(0 ≤ k ≤ 9)들을 이용하여 만들 수 있는 가장 큰 정수를 두 수의 짝꿍이라 합니다(단, 공통으로 나타나는 정수 중 서로 짝지을 수 있는 숫자만 사용합니다). X, Y의 짝꿍이 존재하지 않으면, 짝꿍은 -1입니다. X, Y의 짝꿍이 0으로만 구성되어 있다면, 짝꿍은 0입니다.\n",
    "\n",
    "예를 들어, X = 3403이고 Y = 13203이라면, X와 Y의 짝꿍은 X와 Y에서 공통으로 나타나는 3, 0, 3으로 만들 수 있는 가장 큰 정수인 330입니다. 다른 예시로 X = 5525이고 Y = 1255이면 X와 Y의 짝꿍은 X와 Y에서 공통으로 나타나는 2, 5, 5로 만들 수 있는 가장 큰 정수인 552입니다(X에는 5가 3개, Y에는 5가 2개 나타나므로 남는 5 한 개는 짝 지을 수 없습니다.)\n",
    "두 정수 X, Y가 주어졌을 때, X, Y의 짝꿍을 return하는 solution 함수를 완성해주세요.\n",
    "\n",
    "제한사항\n",
    "3 ≤ X, Y의 길이(자릿수) ≤ 3,000,000입니다.\n",
    "X, Y는 0으로 시작하지 않습니다.\n",
    "X, Y의 짝꿍은 상당히 큰 정수일 수 있으므로, 문자열로 반환합니다.\n",
    "입출력 예\n",
    "X\tY\tresult\n",
    "\"100\"\t\"2345\"\t\"-1\"\n",
    "\"100\"\t\"203045\"\t\"0\"\n",
    "\"100\"\t\"123450\"\t\"10\"\n",
    "\"12321\"\t\"42531\"\t\"321\"\n",
    "\"5525\"\t\"1255\"\t\"552\"\n",
    "입출력 예 설명\n",
    "입출력 예 #1\n",
    "\n",
    "X, Y의 짝꿍은 존재하지 않습니다. 따라서 \"-1\"을 return합니다.\n",
    "입출력 예 #2\n",
    "\n",
    "X, Y의 공통된 숫자는 0으로만 구성되어 있기 때문에, 두 수의 짝꿍은 정수 0입니다. 따라서 \"0\"을 return합니다.\n",
    "입출력 예 #3\n",
    "\n",
    "X, Y의 짝꿍은 10이므로, \"10\"을 return합니다.\n",
    "입출력 예 #4\n",
    "\n",
    "X, Y의 짝꿍은 321입니다. 따라서 \"321\"을 return합니다.\n",
    "입출력 예 #5\n",
    "\n",
    "지문에 설명된 예시와 같습니다."
   ]
  },
  {
   "cell_type": "code",
   "execution_count": 1,
   "id": "dc840d61-a227-46b7-8214-7a0e69fad67d",
   "metadata": {},
   "outputs": [],
   "source": [
    "from collections import Counter, defaultdict\n",
    "from itertools import zip_longest\n",
    "\n",
    "def solution(X, Y):\n",
    "    x, y = str(X), str(Y) #스트링으로 변환\n",
    "    res = defaultdict(list) #값이 'list'인 딕셔너리를 만들어 각 list에 char를 append 할 수 있도록 한다.\n",
    "    \n",
    "    x1 = Counter(x) #각각 스트링의 원소 개수를 카운트한다.\n",
    "    y1 = Counter(y)\n",
    "    \n",
    "    for a, b, in zip_longest(x1, y1): #zip을 이용하여 iteration을 하는데 이때 string의 길이가 다를 수 있으므로 longest를 사용한다.\n",
    "        if a: res[a].append(x1[a]) #None이 있을수도 있기 때문에 a, b를 넣어 체크해준다.\n",
    "        if b: res[b].append(y1[b])\n",
    "        \n",
    "    out = ''.join(k* min(v) for k,v in res.items() if len(v)>1) #여기서 글자의 길이가 1보다 크다면 중복이므로 더해준다.\n",
    "    out = sorted(out) #이제 최댓값을 구하기 위해 sort 해주고 순서를 뒤집어준다.\n",
    "    out.reverse()\n",
    "    out = ''.join(out) #다시 스트링으로 변환\n",
    "    if out == '': return '-1' #만약 비어있다면 -1 반환\n",
    "    elif sum(map(int, out))==0: return '0' #원소가 전부 0이라면 0 반환\n",
    "    return out"
   ]
  },
  {
   "cell_type": "code",
   "execution_count": null,
   "id": "ddacabf3-8fd7-4ee7-a412-8055cbb04354",
   "metadata": {},
   "outputs": [],
   "source": []
  }
 ],
 "metadata": {
  "kernelspec": {
   "display_name": "Python 3 (ipykernel)",
   "language": "python",
   "name": "python3"
  },
  "language_info": {
   "codemirror_mode": {
    "name": "ipython",
    "version": 3
   },
   "file_extension": ".py",
   "mimetype": "text/x-python",
   "name": "python",
   "nbconvert_exporter": "python",
   "pygments_lexer": "ipython3",
   "version": "3.9.16"
  }
 },
 "nbformat": 4,
 "nbformat_minor": 5
}
