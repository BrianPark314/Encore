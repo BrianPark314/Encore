{
 "cells": [
  {
   "cell_type": "markdown",
   "id": "aad759f7-b037-4572-ab82-6698d57ce6f4",
   "metadata": {},
   "source": [
    "Series의 데이터 개수가 많아지면 jupyter 자체가 느려지는 것을 방지하기 위해 처음 5개, 끝 5개를 출력해 준다."
   ]
  },
  {
   "cell_type": "code",
   "execution_count": 116,
   "id": "35f087c4-e8fd-4c75-a56f-cd7f8d02a3c4",
   "metadata": {},
   "outputs": [],
   "source": [
    "import pandas as pd\n",
    "import numpy as np"
   ]
  },
  {
   "cell_type": "code",
   "execution_count": 2,
   "id": "86d6ac43-917e-4d6b-b78f-b3d15731347f",
   "metadata": {},
   "outputs": [
    {
     "data": {
      "text/plain": [
       "0        0\n",
       "1        1\n",
       "2        2\n",
       "3        3\n",
       "4        4\n",
       "      ... \n",
       "495    495\n",
       "496    496\n",
       "497    497\n",
       "498    498\n",
       "499    499\n",
       "Length: 500, dtype: int64"
      ]
     },
     "execution_count": 2,
     "metadata": {},
     "output_type": "execute_result"
    }
   ],
   "source": [
    "pd.Series(range(500))"
   ]
  },
  {
   "cell_type": "markdown",
   "id": "197ee620-fc81-4cf8-8d13-05b9902aefea",
   "metadata": {},
   "source": [
    "head() 메서드를 이용해 앞으로부터 데이터를 추출할 수 있다. 기본 값은 5개로 초기화 되어있다."
   ]
  },
  {
   "cell_type": "code",
   "execution_count": null,
   "id": "032d3dce-6079-4ba6-a385-cc4de2c275d3",
   "metadata": {},
   "outputs": [
    {
     "data": {
      "text/plain": [
       "0    0\n",
       "1    1\n",
       "2    2\n",
       "3    3\n",
       "4    4\n",
       "dtype: int64"
      ]
     },
     "execution_count": 4,
     "metadata": {},
     "output_type": "execute_result"
    }
   ],
   "source": [
    "num = pd.Series(range(500))\n",
    "num.head()"
   ]
  },
  {
   "cell_type": "markdown",
   "id": "0a0c960b-b0c2-4632-90e7-c6c4b53fe9a9",
   "metadata": {},
   "source": [
    "tail() 메서드로는 뒤에서부터 데이터를 추출한다."
   ]
  },
  {
   "cell_type": "code",
   "execution_count": 5,
   "id": "7abd2cec-a6de-432d-9990-eb2c255c8be0",
   "metadata": {},
   "outputs": [
    {
     "data": {
      "text/plain": [
       "495    495\n",
       "496    496\n",
       "497    497\n",
       "498    498\n",
       "499    499\n",
       "dtype: int64"
      ]
     },
     "execution_count": 5,
     "metadata": {},
     "output_type": "execute_result"
    }
   ],
   "source": [
    "num.tail()"
   ]
  },
  {
   "cell_type": "markdown",
   "id": "5b89a283-8914-4f81-ac52-117b0b9fc97f",
   "metadata": {},
   "source": [
    "NaN이 포함되면 Series의 타입은 float이 된다."
   ]
  },
  {
   "cell_type": "code",
   "execution_count": 6,
   "id": "1a476bde-87ce-4a63-b9ba-eacf8bdef1c7",
   "metadata": {},
   "outputs": [
    {
     "data": {
      "text/plain": [
       "0    1.0\n",
       "1    2.0\n",
       "2    NaN\n",
       "3    4.0\n",
       "4    5.0\n",
       "dtype: float64"
      ]
     },
     "execution_count": 6,
     "metadata": {},
     "output_type": "execute_result"
    }
   ],
   "source": [
    "nums = pd.Series([1, 2, np.nan, 4, 5])\n",
    "nums"
   ]
  },
  {
   "cell_type": "markdown",
   "id": "e9932960-e488-4de5-8453-46f640412b3d",
   "metadata": {},
   "source": [
    "nunique() 메서드는 고유한 값의 개수를 계산할 때 사용된다."
   ]
  },
  {
   "cell_type": "code",
   "execution_count": 8,
   "id": "60c49034-633a-4893-8024-f60c1c461d59",
   "metadata": {},
   "outputs": [
    {
     "data": {
      "text/plain": [
       "4"
      ]
     },
     "execution_count": 8,
     "metadata": {},
     "output_type": "execute_result"
    }
   ],
   "source": [
    "hello = pd.Series(list('hello'))\n",
    "hello.nunique()"
   ]
  },
  {
   "cell_type": "markdown",
   "id": "a6e4fd56-6e73-4258-a2b3-1d1db2acc46f",
   "metadata": {},
   "source": [
    "count() 메서드는 대이터의 개수를 계산한다. nan은 포함하지 않기 때문에 len()과 차이가 있다."
   ]
  },
  {
   "cell_type": "code",
   "execution_count": 9,
   "id": "2a94cdeb-46c0-4fc4-a8b0-173bad7e3922",
   "metadata": {},
   "outputs": [
    {
     "data": {
      "text/plain": [
       "4"
      ]
     },
     "execution_count": 9,
     "metadata": {},
     "output_type": "execute_result"
    }
   ],
   "source": [
    "nums.count()"
   ]
  },
  {
   "cell_type": "code",
   "execution_count": null,
   "id": "6f30d132-9893-431f-a479-1465059f17b5",
   "metadata": {},
   "outputs": [
    {
     "data": {
      "text/plain": [
       "5"
      ]
     },
     "execution_count": 10,
     "metadata": {},
     "output_type": "execute_result"
    }
   ],
   "source": [
    "len(nums)"
   ]
  },
  {
   "cell_type": "markdown",
   "id": "a87554bb-7a56-4aff-95bf-20a6e93fd04f",
   "metadata": {},
   "source": [
    "sum() 메서드는 Series에 있는 데이터를 모두 더한다. 대부분의 수학 연산과 관련된 메서드는 결측치를 포함하지 않고 계산한다. skipna 파라미터의 값이 True이기 때문이다. 인수로 강제로 False로 지정하면 NaN이 반환된다."
   ]
  },
  {
   "cell_type": "code",
   "execution_count": 11,
   "id": "ef78fcb3-8b1d-4445-9770-17020c714bef",
   "metadata": {},
   "outputs": [
    {
     "data": {
      "text/plain": [
       "nan"
      ]
     },
     "execution_count": 11,
     "metadata": {},
     "output_type": "execute_result"
    }
   ],
   "source": [
    "nums.sum(skipna=False)"
   ]
  },
  {
   "cell_type": "markdown",
   "id": "440b8c26-efe1-416f-b3a9-fa2c296ce105",
   "metadata": {},
   "source": [
    "mean()은 평균을, median()은 중앙값을, std()는 표준편차를 구해주는 메서드이다."
   ]
  },
  {
   "cell_type": "code",
   "execution_count": 12,
   "id": "54318f5f-7912-4abf-9c41-3d49e3fbddd1",
   "metadata": {},
   "outputs": [
    {
     "data": {
      "text/plain": [
       "3.0"
      ]
     },
     "execution_count": 12,
     "metadata": {},
     "output_type": "execute_result"
    }
   ],
   "source": [
    "nums.mean()"
   ]
  },
  {
   "cell_type": "code",
   "execution_count": 13,
   "id": "63fee4ea-ade7-46ad-ad6c-18adfdfe9a43",
   "metadata": {},
   "outputs": [
    {
     "data": {
      "text/plain": [
       "3.0"
      ]
     },
     "execution_count": 13,
     "metadata": {},
     "output_type": "execute_result"
    }
   ],
   "source": [
    "nums.median()"
   ]
  },
  {
   "cell_type": "code",
   "execution_count": 14,
   "id": "9574a762-57c8-4566-82f9-a68ae966afa9",
   "metadata": {},
   "outputs": [
    {
     "data": {
      "text/plain": [
       "1.8257418583505538"
      ]
     },
     "execution_count": 14,
     "metadata": {},
     "output_type": "execute_result"
    }
   ],
   "source": [
    "nums.std()"
   ]
  },
  {
   "cell_type": "markdown",
   "id": "93095bd1-89a3-4427-9434-8a872d0d3303",
   "metadata": {},
   "source": [
    "max()와 min()은 각각 최댓값과 최솟값을 반환한다."
   ]
  },
  {
   "cell_type": "code",
   "execution_count": 15,
   "id": "5ce50420-08ed-4c3a-a49a-63b5a1ebd8ef",
   "metadata": {},
   "outputs": [
    {
     "data": {
      "text/plain": [
       "5.0"
      ]
     },
     "execution_count": 15,
     "metadata": {},
     "output_type": "execute_result"
    }
   ],
   "source": [
    "nums.max()"
   ]
  },
  {
   "cell_type": "code",
   "execution_count": null,
   "id": "5d8cc213-9b1e-4380-831d-d1b5e12c8f8a",
   "metadata": {},
   "outputs": [
    {
     "data": {
      "text/plain": [
       "1.0"
      ]
     },
     "execution_count": 16,
     "metadata": {},
     "output_type": "execute_result"
    }
   ],
   "source": [
    "nums.min()"
   ]
  },
  {
   "cell_type": "markdown",
   "id": "197e972f-56bf-4bd7-854d-e47d6aaf298a",
   "metadata": {},
   "source": [
    "Series의 값이 문자인 경우도 최댓값과 최솟값을 구할 수 잆다. ord() 함수는 하나의 문자를 Unicode 숫자로 변경해 준다."
   ]
  },
  {
   "cell_type": "code",
   "execution_count": 19,
   "id": "c4e1521f-b188-44f0-b486-540d571b74ea",
   "metadata": {},
   "outputs": [
    {
     "data": {
      "text/plain": [
       "'c'"
      ]
     },
     "execution_count": 19,
     "metadata": {},
     "output_type": "execute_result"
    }
   ],
   "source": [
    "somechar = pd.Series(list('aAbBcC'))\n",
    "somechar.max()"
   ]
  },
  {
   "cell_type": "markdown",
   "id": "74fea95f-252f-4dfb-9a2a-4d49eb1907cd",
   "metadata": {},
   "source": [
    "describe() 메서드는 수치 값을 갖는 Series에 대해 count, mean, std, min, 25%, median, 75%, max에 대한 모든 통계를 구해준다.\n",
    "object 타입의 Series에 대해서는 데이터 수인 count, 고유한 수인 unique, 최빈값 top, 최빈값의 빈도 freq를 구해준다."
   ]
  },
  {
   "cell_type": "code",
   "execution_count": 20,
   "id": "6c455754-e493-4600-be93-176690523892",
   "metadata": {},
   "outputs": [
    {
     "data": {
      "text/plain": [
       "count    500.000000\n",
       "mean     249.500000\n",
       "std      144.481833\n",
       "min        0.000000\n",
       "25%      124.750000\n",
       "50%      249.500000\n",
       "75%      374.250000\n",
       "max      499.000000\n",
       "dtype: float64"
      ]
     },
     "execution_count": 20,
     "metadata": {},
     "output_type": "execute_result"
    }
   ],
   "source": [
    "num.describe()"
   ]
  },
  {
   "cell_type": "code",
   "execution_count": 22,
   "id": "0d8fcbc1-ffe4-49c2-9e5c-70484c431394",
   "metadata": {},
   "outputs": [
    {
     "data": {
      "text/plain": [
       "count     5\n",
       "unique    4\n",
       "top       l\n",
       "freq      2\n",
       "dtype: object"
      ]
     },
     "execution_count": 22,
     "metadata": {},
     "output_type": "execute_result"
    }
   ],
   "source": [
    "hello.describe()"
   ]
  },
  {
   "cell_type": "markdown",
   "id": "82365c5e-65ca-4846-ab16-8ebbaad74f04",
   "metadata": {},
   "source": [
    "Series는 파이썬의 기본 자료구조로 변경 가능하다. list()함수로 리스트로 변경할 수 있고, dict()로 dictionary로 변경할 수도 있다."
   ]
  },
  {
   "cell_type": "code",
   "execution_count": 23,
   "id": "600f529d-0a08-45d0-a92c-6b294b98873b",
   "metadata": {},
   "outputs": [
    {
     "data": {
      "text/plain": [
       "[1.0, 2.0, nan, 4.0, 5.0]"
      ]
     },
     "execution_count": 23,
     "metadata": {},
     "output_type": "execute_result"
    }
   ],
   "source": [
    "list(nums)"
   ]
  },
  {
   "cell_type": "code",
   "execution_count": 24,
   "id": "d70c1c59-8acd-41b7-ad3e-d3f1680c675b",
   "metadata": {},
   "outputs": [
    {
     "data": {
      "text/plain": [
       "{0: 1.0, 1: 2.0, 2: nan, 3: 4.0, 4: 5.0}"
      ]
     },
     "execution_count": 24,
     "metadata": {},
     "output_type": "execute_result"
    }
   ],
   "source": [
    "dict(nums)"
   ]
  },
  {
   "cell_type": "markdown",
   "id": "c451cfda-98fe-4a4b-a3d5-3a21c623e75f",
   "metadata": {},
   "source": [
    "연습문제 - 다음과 같이 두 자료형이 주어졌을 때 superheros를 index로 하고 strength_levels을 data로 하는 Series를 생성하시오."
   ]
  },
  {
   "cell_type": "code",
   "execution_count": 31,
   "id": "b5596b0d-8ea9-4603-9970-55d3cba577d5",
   "metadata": {},
   "outputs": [
    {
     "data": {
      "text/plain": [
       "Batman             100\n",
       "Superman           120\n",
       "Spider-Man          90\n",
       "Iron Man            95\n",
       "Captain America    110\n",
       "Wonder Woman       120\n",
       "dtype: int64"
      ]
     },
     "execution_count": 31,
     "metadata": {},
     "output_type": "execute_result"
    }
   ],
   "source": [
    "superheros = [\n",
    "    \"Batman\",\n",
    "    \"Superman\",\n",
    "    \"Spider-Man\",\n",
    "    \"Iron Man\",\n",
    "    \"Captain America\",\n",
    "    \"Wonder Woman\"\n",
    "]\n",
    "strength_levels = (100, 120, 90, 95, 110, 120)\n",
    "\n",
    "sup_ser = pd.Series(index=superheros, data=strength_levels)\n",
    "sup_ser"
   ]
  },
  {
   "cell_type": "code",
   "execution_count": 32,
   "id": "0d222552-0737-478f-9069-168bf8dfe9cb",
   "metadata": {},
   "outputs": [
    {
     "data": {
      "text/plain": [
       "Spider-Man          90\n",
       "Iron Man            95\n",
       "Captain America    110\n",
       "Wonder Woman       120\n",
       "dtype: int64"
      ]
     },
     "execution_count": 32,
     "metadata": {},
     "output_type": "execute_result"
    }
   ],
   "source": [
    "sup_ser.tail(4)"
   ]
  },
  {
   "cell_type": "code",
   "execution_count": 34,
   "id": "47dee861-7f36-4653-88d7-4adfc139a4f9",
   "metadata": {},
   "outputs": [
    {
     "data": {
      "text/plain": [
       "5"
      ]
     },
     "execution_count": 34,
     "metadata": {},
     "output_type": "execute_result"
    }
   ],
   "source": [
    "sup_ser.nunique()"
   ]
  },
  {
   "cell_type": "code",
   "execution_count": 36,
   "id": "729d9fa5-79c7-4f4d-8be0-ced9c2097209",
   "metadata": {},
   "outputs": [
    {
     "data": {
      "text/plain": [
       "105.83"
      ]
     },
     "execution_count": 36,
     "metadata": {},
     "output_type": "execute_result"
    }
   ],
   "source": [
    "sup_ser.mean().round(2)"
   ]
  },
  {
   "cell_type": "code",
   "execution_count": 37,
   "id": "b6e0a487-8ad7-4649-b8b7-1d058850730b",
   "metadata": {},
   "outputs": [
    {
     "data": {
      "text/plain": [
       "105.0"
      ]
     },
     "execution_count": 37,
     "metadata": {},
     "output_type": "execute_result"
    }
   ],
   "source": [
    "sup_ser.median()"
   ]
  },
  {
   "cell_type": "code",
   "execution_count": 38,
   "id": "0cb37c8d-f04e-4612-89c7-541917422e12",
   "metadata": {},
   "outputs": [
    {
     "data": {
      "text/plain": [
       "120"
      ]
     },
     "execution_count": 38,
     "metadata": {},
     "output_type": "execute_result"
    }
   ],
   "source": [
    "sup_ser.max()"
   ]
  },
  {
   "cell_type": "code",
   "execution_count": 39,
   "id": "43d5310e-3e1d-451a-b383-08d6b9612820",
   "metadata": {},
   "outputs": [
    {
     "data": {
      "text/plain": [
       "90"
      ]
     },
     "execution_count": 39,
     "metadata": {},
     "output_type": "execute_result"
    }
   ],
   "source": [
    "sup_ser.min()"
   ]
  },
  {
   "cell_type": "code",
   "execution_count": 40,
   "id": "92538922-4ea7-44a6-81a2-6ecbfa9b389b",
   "metadata": {},
   "outputs": [
    {
     "data": {
      "text/plain": [
       "{'Batman': 100,\n",
       " 'Superman': 120,\n",
       " 'Spider-Man': 90,\n",
       " 'Iron Man': 95,\n",
       " 'Captain America': 110,\n",
       " 'Wonder Woman': 120}"
      ]
     },
     "execution_count": 40,
     "metadata": {},
     "output_type": "execute_result"
    }
   ],
   "source": [
    "dict(sup_ser)"
   ]
  },
  {
   "cell_type": "markdown",
   "id": "b329b066-e4d3-4ede-9b27-c480b3afbc0a",
   "metadata": {},
   "source": [
    "Pandas는 데이터 파일을 읽어 Series 혹은 DataFrame을 만들 수 있다. 가장 단순하지만 널리 사용되는 csv 포맷 입출력에 대해 알아보겠다. Comma serperated value는 말 그대로 데이터 값이 콤마로 구분되는 텍스트 파일이다. squeeze 속성을 쓰면 series로 반환된다."
   ]
  },
  {
   "cell_type": "code",
   "execution_count": 74,
   "id": "bef0cbda-f78e-49e1-8191-3cf9f1cded18",
   "metadata": {},
   "outputs": [
    {
     "data": {
      "text/plain": [
       "Pokemon\n",
       "Bulbasaur      Grass / Poison\n",
       "Ivysaur        Grass / Poison\n",
       "Venusaur       Grass / Poison\n",
       "Charmander               Fire\n",
       "Charmeleon               Fire\n",
       "                    ...      \n",
       "Stakataka        Rock / Steel\n",
       "Blacephalon      Fire / Ghost\n",
       "Zeraora              Electric\n",
       "Meltan                  Steel\n",
       "Melmetal                Steel\n",
       "Name: Type, Length: 809, dtype: object"
      ]
     },
     "execution_count": 74,
     "metadata": {},
     "output_type": "execute_result"
    }
   ],
   "source": [
    "pokemons = pd.read_csv('datas/pokemon.csv', index_col=('Pokemon')).squeeze()\n",
    "pokemons"
   ]
  },
  {
   "cell_type": "code",
   "execution_count": 75,
   "id": "72008b40-9184-41cb-8d9a-60484a4d6c2c",
   "metadata": {},
   "outputs": [
    {
     "data": {
      "text/plain": [
       "count        809\n",
       "unique       159\n",
       "top       Normal\n",
       "freq          65\n",
       "Name: Type, dtype: object"
      ]
     },
     "execution_count": 75,
     "metadata": {},
     "output_type": "execute_result"
    }
   ],
   "source": [
    "pokemons.describe()"
   ]
  },
  {
   "cell_type": "markdown",
   "id": "3290adea-0c8f-49bd-96d3-aa9c3f35887a",
   "metadata": {},
   "source": [
    "내림차순 정렬을 위해서는 sort_values(ascending = False)를 사용한다."
   ]
  },
  {
   "cell_type": "code",
   "execution_count": 77,
   "id": "d5f3740f-fb13-4a60-9b37-786c6a7ea208",
   "metadata": {},
   "outputs": [
    {
     "data": {
      "text/plain": [
       "Pokemon\n",
       "Empoleon      Water / Steel\n",
       "Corsola        Water / Rock\n",
       "Relicanth      Water / Rock\n",
       "Carracosta     Water / Rock\n",
       "Tirtouga       Water / Rock\n",
       "                  ...      \n",
       "Kricketune              Bug\n",
       "Cascoon                 Bug\n",
       "Scatterbug              Bug\n",
       "Kricketot               Bug\n",
       "Grubbin                 Bug\n",
       "Name: Type, Length: 809, dtype: object"
      ]
     },
     "execution_count": 77,
     "metadata": {},
     "output_type": "execute_result"
    }
   ],
   "source": [
    "pokemons.sort_values(ascending=False)"
   ]
  },
  {
   "cell_type": "markdown",
   "id": "96d5319c-b327-498f-8798-43b63f371afd",
   "metadata": {},
   "source": [
    "csv는 문자로 된 파일이지만, 날짜/시간으로 된 데이터도 존재할 수 있다. 이에 대해 파이썬 자료로 파싱해서 읽어들일 수 있다. pd.read_csv() 메서드에 parse_dates 인수에 파싱할 column명을 리스트 형태로 전달하면 된다."
   ]
  },
  {
   "cell_type": "code",
   "execution_count": 78,
   "id": "9a61816b-1426-474c-998a-ab3aebf9ca9d",
   "metadata": {},
   "outputs": [
    {
     "data": {
      "text/plain": [
       "Date\n",
       "2004-08-19      49.98\n",
       "2004-08-20      53.95\n",
       "2004-08-23      54.50\n",
       "2004-08-24      52.24\n",
       "2004-08-25      52.80\n",
       "               ...   \n",
       "2019-10-21    1246.15\n",
       "2019-10-22    1242.80\n",
       "2019-10-23    1259.13\n",
       "2019-10-24    1260.99\n",
       "2019-10-25    1265.13\n",
       "Name: Close, Length: 3824, dtype: float64"
      ]
     },
     "execution_count": 78,
     "metadata": {},
     "output_type": "execute_result"
    }
   ],
   "source": [
    "google = pd.read_csv('datas/google_stocks.csv', parse_dates=['Date'], index_col = 'Date').squeeze()\n",
    "google"
   ]
  },
  {
   "cell_type": "markdown",
   "id": "319a9ccc-8f3f-4096-93d0-e465243cc80b",
   "metadata": {},
   "source": [
    "csv 파일에서 필요한 column만 지정해서 가져올 때는 usecols 인수를 활용하면 된다. 그 값으로 불러올 column의 목록을 리스트의 요소로 작성하면 된다."
   ]
  },
  {
   "cell_type": "code",
   "execution_count": 80,
   "id": "90635022-8481-408f-984d-b9c2083b947a",
   "metadata": {},
   "outputs": [
    {
     "data": {
      "text/plain": [
       "Start Date\n",
       "1774-09-01    Massachusetts\n",
       "1774-12-14    New Hampshire\n",
       "1775-04-19    Massachusetts\n",
       "1775-04-19    Massachusetts\n",
       "1775-04-20         Virginia\n",
       "                  ...      \n",
       "1782-09-11         Virginia\n",
       "1782-09-13              NaN\n",
       "1782-10-18              NaN\n",
       "1782-12-06              NaN\n",
       "1783-01-22         Virginia\n",
       "Name: State, Length: 232, dtype: object"
      ]
     },
     "execution_count": 80,
     "metadata": {},
     "output_type": "execute_result"
    }
   ],
   "source": [
    "war = pd.read_csv('datas/revolutionary_war.csv', \n",
    "                  usecols=['Start Date', 'State'], \n",
    "                  parse_dates=['Start Date'], \n",
    "                  index_col = 'Start Date').squeeze()\n",
    "war"
   ]
  },
  {
   "cell_type": "code",
   "execution_count": 85,
   "id": "d1144c28-3306-4d05-85a0-dbc3392344d4",
   "metadata": {},
   "outputs": [
    {
     "data": {
      "text/plain": [
       "70"
      ]
     },
     "execution_count": 85,
     "metadata": {},
     "output_type": "execute_result"
    }
   ],
   "source": [
    "war.isnull().sum()"
   ]
  },
  {
   "cell_type": "code",
   "execution_count": 83,
   "id": "cb53d306-abaa-4eef-9bcf-c98a661f5465",
   "metadata": {},
   "outputs": [
    {
     "data": {
      "text/plain": [
       "162"
      ]
     },
     "execution_count": 83,
     "metadata": {},
     "output_type": "execute_result"
    }
   ],
   "source": [
    "war.count()"
   ]
  },
  {
   "cell_type": "code",
   "execution_count": 84,
   "id": "8d7e6a32-f79a-4837-adca-79391d83225b",
   "metadata": {},
   "outputs": [
    {
     "data": {
      "text/plain": [
       "17"
      ]
     },
     "execution_count": 84,
     "metadata": {},
     "output_type": "execute_result"
    }
   ],
   "source": [
    "war.nunique()"
   ]
  },
  {
   "cell_type": "markdown",
   "id": "1ee03594-3862-490c-8034-1cd7da055da5",
   "metadata": {},
   "source": [
    "Series에 nan 값이 존재할 때 nan을 어떻게 정렬할지 기준을 정해줄 수 있다. na_position이라는 인수에 first, last 값을 사용하면 된다."
   ]
  },
  {
   "cell_type": "code",
   "execution_count": 86,
   "id": "6d58ce79-fe49-4065-9be9-4ebc0db9b705",
   "metadata": {},
   "outputs": [
    {
     "data": {
      "text/plain": [
       "Start Date\n",
       "1775-09-17         NaN\n",
       "1775-12-31         NaN\n",
       "1776-03-03         NaN\n",
       "1776-03-25         NaN\n",
       "1776-05-18         NaN\n",
       "                ...   \n",
       "1781-07-06    Virginia\n",
       "1781-07-01    Virginia\n",
       "1781-06-26    Virginia\n",
       "1781-04-25    Virginia\n",
       "1783-01-22    Virginia\n",
       "Name: State, Length: 232, dtype: object"
      ]
     },
     "execution_count": 86,
     "metadata": {},
     "output_type": "execute_result"
    }
   ],
   "source": [
    "war.sort_values(na_position = 'first')"
   ]
  },
  {
   "cell_type": "markdown",
   "id": "6e83b3e4-00bc-4ccf-87e7-5c96a91cc8b5",
   "metadata": {},
   "source": [
    "dropna() 메서드로 nan 값을 직접 배제시킬 수 있다."
   ]
  },
  {
   "cell_type": "code",
   "execution_count": 87,
   "id": "e68c82ae-e40f-4cdb-b080-157d71bf544e",
   "metadata": {},
   "outputs": [
    {
     "data": {
      "text/plain": [
       "Start Date\n",
       "1774-09-01     Massachusetts\n",
       "1774-12-14     New Hampshire\n",
       "1775-04-19     Massachusetts\n",
       "1775-04-19     Massachusetts\n",
       "1775-04-20          Virginia\n",
       "                   ...      \n",
       "1782-08-15          Virginia\n",
       "1782-08-19          Virginia\n",
       "1782-08-26    South Carolina\n",
       "1782-09-11          Virginia\n",
       "1783-01-22          Virginia\n",
       "Name: State, Length: 162, dtype: object"
      ]
     },
     "execution_count": 87,
     "metadata": {},
     "output_type": "execute_result"
    }
   ],
   "source": [
    "war.dropna()"
   ]
  },
  {
   "cell_type": "markdown",
   "id": "1a373017-6610-4f32-8a1f-66a7ad9d153e",
   "metadata": {},
   "source": [
    "sort_index()로 index를 기준으로 정렬할 수 있다. 이 메서드도 ascending 인수를 가지며 기본 값은 True로 오름차순을 기본으로 한다."
   ]
  },
  {
   "cell_type": "code",
   "execution_count": 88,
   "id": "86f894e2-dbc4-48e5-a486-b5d107ea46ae",
   "metadata": {},
   "outputs": [
    {
     "data": {
      "text/plain": [
       "Pokemon\n",
       "Abomasnow        Grass / Ice\n",
       "Abra                 Psychic\n",
       "Absol                   Dark\n",
       "Accelgor                 Bug\n",
       "Aegislash      Steel / Ghost\n",
       "                  ...       \n",
       "Zoroark                 Dark\n",
       "Zorua                   Dark\n",
       "Zubat        Poison / Flying\n",
       "Zweilous       Dark / Dragon\n",
       "Zygarde      Dragon / Ground\n",
       "Name: Type, Length: 809, dtype: object"
      ]
     },
     "execution_count": 88,
     "metadata": {},
     "output_type": "execute_result"
    }
   ],
   "source": [
    "pokemons.sort_index(ascending=True)"
   ]
  },
  {
   "cell_type": "markdown",
   "id": "fb94e6cb-086b-4238-9e49-19a1d03f8795",
   "metadata": {},
   "source": [
    "war에 담긴 객체를 index 기준으로 오름차순 정렬하면 NaT라는 값이 나온다. Not a Time의 줄임말로 datetime에서 나온다."
   ]
  },
  {
   "cell_type": "code",
   "execution_count": 89,
   "id": "3939eb91-8244-42b5-a77f-83516cbf7276",
   "metadata": {},
   "outputs": [
    {
     "data": {
      "text/plain": [
       "Start Date\n",
       "1774-09-01    Massachusetts\n",
       "1774-12-14    New Hampshire\n",
       "1775-04-19    Massachusetts\n",
       "1775-04-19    Massachusetts\n",
       "1775-04-20         Virginia\n",
       "                  ...      \n",
       "1783-01-22         Virginia\n",
       "NaT              New Jersey\n",
       "NaT                Virginia\n",
       "NaT                     NaN\n",
       "NaT                     NaN\n",
       "Name: State, Length: 232, dtype: object"
      ]
     },
     "execution_count": 89,
     "metadata": {},
     "output_type": "execute_result"
    }
   ],
   "source": [
    "war.sort_index()"
   ]
  },
  {
   "cell_type": "markdown",
   "id": "8d4ee8f7-d1c9-40e5-8084-c1b6948ec113",
   "metadata": {},
   "source": [
    "index에 포함된 NaT 값을 배제하는 방법도 있다."
   ]
  },
  {
   "cell_type": "code",
   "execution_count": 90,
   "id": "28b85509-7a3d-46fc-817a-7179b78ff28b",
   "metadata": {},
   "outputs": [
    {
     "data": {
      "text/plain": [
       "Start Date\n",
       "1774-09-01    Massachusetts\n",
       "1774-12-14    New Hampshire\n",
       "1775-04-19    Massachusetts\n",
       "1775-04-19    Massachusetts\n",
       "1775-04-20         Virginia\n",
       "                  ...      \n",
       "1782-09-11         Virginia\n",
       "1782-09-13              NaN\n",
       "1782-10-18              NaN\n",
       "1782-12-06              NaN\n",
       "1783-01-22         Virginia\n",
       "Name: State, Length: 228, dtype: object"
      ]
     },
     "execution_count": 90,
     "metadata": {},
     "output_type": "execute_result"
    }
   ],
   "source": [
    "war.loc[war.index.notnull()]"
   ]
  },
  {
   "cell_type": "markdown",
   "id": "7e5f1c99-3383-437d-a504-2f9b85634298",
   "metadata": {},
   "source": [
    "연습문제 - google 변수에 담긴 Series 객체에 대해서 가장 큰 값 10개와 가장 작은 값 10개를 출력해보세요."
   ]
  },
  {
   "cell_type": "code",
   "execution_count": 93,
   "id": "1f3fe136-8c90-4cfa-a73a-808373c8b906",
   "metadata": {},
   "outputs": [
    {
     "data": {
      "text/plain": [
       "Date\n",
       "2019-04-24    1256.00\n",
       "2019-10-23    1259.13\n",
       "2019-10-24    1260.99\n",
       "2019-04-25    1263.45\n",
       "2018-07-25    1263.70\n",
       "2019-04-23    1264.55\n",
       "2019-10-25    1265.13\n",
       "2018-07-26    1268.33\n",
       "2019-04-26    1272.18\n",
       "2019-04-29    1287.58\n",
       "Name: Close, dtype: float64"
      ]
     },
     "execution_count": 93,
     "metadata": {},
     "output_type": "execute_result"
    }
   ],
   "source": [
    "google.sort_values().tail(10)"
   ]
  },
  {
   "cell_type": "code",
   "execution_count": 94,
   "id": "3fba38ae-4f61-4d9d-80dd-33f2927fd993",
   "metadata": {},
   "outputs": [
    {
     "data": {
      "text/plain": [
       "Date\n",
       "2004-09-03    49.82\n",
       "2004-09-01    49.94\n",
       "2004-08-19    49.98\n",
       "2004-09-02    50.57\n",
       "2004-09-07    50.60\n",
       "2004-08-30    50.81\n",
       "2004-09-08    50.96\n",
       "2004-09-09    50.96\n",
       "2004-08-31    50.99\n",
       "2004-08-24    52.24\n",
       "Name: Close, dtype: float64"
      ]
     },
     "execution_count": 94,
     "metadata": {},
     "output_type": "execute_result"
    }
   ],
   "source": [
    "google.sort_values().head(10)"
   ]
  },
  {
   "cell_type": "markdown",
   "id": "7e82083f-22c9-4cf7-8e55-30140d59bb30",
   "metadata": {},
   "source": [
    "메서드로도 할 수 있다."
   ]
  },
  {
   "cell_type": "code",
   "execution_count": 95,
   "id": "f17f87d4-c1ff-44f2-81c2-61f283f38a21",
   "metadata": {},
   "outputs": [
    {
     "data": {
      "text/plain": [
       "Date\n",
       "2019-04-29    1287.58\n",
       "2019-04-26    1272.18\n",
       "2018-07-26    1268.33\n",
       "2019-10-25    1265.13\n",
       "2019-04-23    1264.55\n",
       "2018-07-25    1263.70\n",
       "2019-04-25    1263.45\n",
       "2019-10-24    1260.99\n",
       "2019-10-23    1259.13\n",
       "2019-04-24    1256.00\n",
       "Name: Close, dtype: float64"
      ]
     },
     "execution_count": 95,
     "metadata": {},
     "output_type": "execute_result"
    }
   ],
   "source": [
    "google.nlargest(10)"
   ]
  },
  {
   "cell_type": "code",
   "execution_count": 97,
   "id": "aa0b1592-58f6-42d0-ab66-aa2c8eb9e9f4",
   "metadata": {},
   "outputs": [
    {
     "data": {
      "text/plain": [
       "Date\n",
       "2004-09-03    49.82\n",
       "2004-09-01    49.94\n",
       "2004-08-19    49.98\n",
       "2004-09-02    50.57\n",
       "2004-09-07    50.60\n",
       "2004-08-30    50.81\n",
       "2004-09-08    50.96\n",
       "2004-09-09    50.96\n",
       "2004-08-31    50.99\n",
       "2004-08-24    52.24\n",
       "Name: Close, dtype: float64"
      ]
     },
     "execution_count": 97,
     "metadata": {},
     "output_type": "execute_result"
    }
   ],
   "source": [
    "google.nsmallest(10)"
   ]
  },
  {
   "cell_type": "markdown",
   "id": "b7559d2e-3ba5-4372-ad5a-c409fd861c27",
   "metadata": {},
   "source": [
    "value_counts() 메서드는 데이터의 고유한 값의 빈도를 볼 때 사용한다."
   ]
  },
  {
   "cell_type": "code",
   "execution_count": 98,
   "id": "1348c2e3-3ba6-4195-94b8-fa3ee4800f28",
   "metadata": {},
   "outputs": [
    {
     "data": {
      "text/plain": [
       "Normal                65\n",
       "Water                 61\n",
       "Grass                 38\n",
       "Psychic               35\n",
       "Fire                  30\n",
       "                      ..\n",
       "Fire / Psychic         1\n",
       "Normal / Ground        1\n",
       "Psychic / Fighting     1\n",
       "Dark / Ghost           1\n",
       "Fire / Ghost           1\n",
       "Name: Type, Length: 159, dtype: int64"
      ]
     },
     "execution_count": 98,
     "metadata": {},
     "output_type": "execute_result"
    }
   ],
   "source": [
    "pokemons.value_counts()"
   ]
  },
  {
   "cell_type": "markdown",
   "id": "921e986d-a3a7-4fba-9711-53eff982660a",
   "metadata": {},
   "source": [
    "수치형 데이터를 갖는 Series에 대해서 범주를 나눠 값의 빈도를 확인할 수 있따. bins 인수에 값의 구간을 갖는 리스트를 넘겨주면 된다. 아래에서 소괄호는 해당 값의 미포함을 나타내며 대괄호는 포함을 나타낸다."
   ]
  },
  {
   "cell_type": "code",
   "execution_count": 107,
   "id": "632492a3-b919-428b-b9dd-5e96321d36e9",
   "metadata": {},
   "outputs": [
    {
     "data": {
      "text/plain": [
       "(200.0, 400.0]      1568\n",
       "(-0.001, 200.0]      595\n",
       "(400.0, 600.0]       575\n",
       "(1000.0, 1200.0]     406\n",
       "(600.0, 800.0]       380\n",
       "(800.0, 1000.0]      207\n",
       "(1200.0, 1400.0]      93\n",
       "Name: Close, dtype: int64"
      ]
     },
     "execution_count": 107,
     "metadata": {},
     "output_type": "execute_result"
    }
   ],
   "source": [
    "bins = np.linspace(0, 1400, 8)\n",
    "google.value_counts(bins=bins)"
   ]
  },
  {
   "cell_type": "markdown",
   "id": "20cbfa3a-6023-408f-be50-32a97b0abfcc",
   "metadata": {},
   "source": [
    "연습문제 - 위를 인덱스 순으로 정렬하라."
   ]
  },
  {
   "cell_type": "code",
   "execution_count": 109,
   "id": "37b05a4f-c44e-40cd-a66f-96308c688cdb",
   "metadata": {},
   "outputs": [
    {
     "data": {
      "text/plain": [
       "(-0.001, 200.0]      595\n",
       "(200.0, 400.0]      1568\n",
       "(400.0, 600.0]       575\n",
       "(600.0, 800.0]       380\n",
       "(800.0, 1000.0]      207\n",
       "(1000.0, 1200.0]     406\n",
       "(1200.0, 1400.0]      93\n",
       "Name: Close, dtype: int64"
      ]
     },
     "execution_count": 109,
     "metadata": {},
     "output_type": "execute_result"
    }
   ],
   "source": [
    "google.value_counts(bins=bins).sort_index()"
   ]
  },
  {
   "cell_type": "markdown",
   "id": "81cd1a2c-4b56-4217-bc1d-53ba12a566b4",
   "metadata": {},
   "source": [
    "범주를 정수로 전달하면 그 정수만큼 알아서 구간을 나눈다. 또 sort 인수에 False 값을 줘서 값을 기준으로 정렬하지 않을 수도 있다."
   ]
  },
  {
   "cell_type": "code",
   "execution_count": 111,
   "id": "2b605838-2822-4b4a-b5f7-8f6f1d1f16ba",
   "metadata": {},
   "outputs": [
    {
     "data": {
      "text/plain": [
       "(48.581, 204.54]       651\n",
       "(204.54, 359.26]      1435\n",
       "(359.26, 513.98]       263\n",
       "(513.98, 668.7]        466\n",
       "(668.7, 823.42]        334\n",
       "(823.42, 978.14]       161\n",
       "(978.14, 1132.86]      283\n",
       "(1132.86, 1287.58]     231\n",
       "Name: Close, dtype: int64"
      ]
     },
     "execution_count": 111,
     "metadata": {},
     "output_type": "execute_result"
    }
   ],
   "source": [
    "google.value_counts(bins=8, sort=False)"
   ]
  },
  {
   "cell_type": "markdown",
   "id": "13c58b8b-773a-4865-941c-e185d0d57d6d",
   "metadata": {},
   "source": [
    "데이터를 csv로 출력할 수 있다. to_csv() 메서드를 ㅅ용하며, 첫 인자로는 파일 경로를 입력한다. "
   ]
  },
  {
   "cell_type": "code",
   "execution_count": 120,
   "id": "3da9578d-2e59-4363-ab43-fe0330f0133e",
   "metadata": {},
   "outputs": [
    {
     "data": {
      "text/html": [
       "<div>\n",
       "<style scoped>\n",
       "    .dataframe tbody tr th:only-of-type {\n",
       "        vertical-align: middle;\n",
       "    }\n",
       "\n",
       "    .dataframe tbody tr th {\n",
       "        vertical-align: top;\n",
       "    }\n",
       "\n",
       "    .dataframe thead th {\n",
       "        text-align: right;\n",
       "    }\n",
       "</style>\n",
       "<table border=\"1\" class=\"dataframe\">\n",
       "  <thead>\n",
       "    <tr style=\"text-align: right;\">\n",
       "      <th></th>\n",
       "      <th>c1</th>\n",
       "      <th>c2</th>\n",
       "      <th>c3</th>\n",
       "    </tr>\n",
       "  </thead>\n",
       "  <tbody>\n",
       "    <tr>\n",
       "      <th>0</th>\n",
       "      <td>1</td>\n",
       "      <td>1.11</td>\n",
       "      <td>one</td>\n",
       "    </tr>\n",
       "    <tr>\n",
       "      <th>1</th>\n",
       "      <td>2</td>\n",
       "      <td></td>\n",
       "      <td>two</td>\n",
       "    </tr>\n",
       "    <tr>\n",
       "      <th>2</th>\n",
       "      <td>누락</td>\n",
       "      <td>3.33</td>\n",
       "      <td>three</td>\n",
       "    </tr>\n",
       "  </tbody>\n",
       "</table>\n",
       "</div>"
      ],
      "text/plain": [
       "   c1    c2     c3\n",
       "0   1  1.11    one\n",
       "1   2          two\n",
       "2  누락  3.33  three"
      ]
     },
     "execution_count": 120,
     "metadata": {},
     "output_type": "execute_result"
    }
   ],
   "source": [
    "data = [[1, 1.11, 'one'],\n",
    "     [2, '', 'two'],\n",
    "     ['누락', 3.33, 'three']]\n",
    "\n",
    "df = pd.DataFrame(data=data, columns = ['c1', 'c2', 'c3'])\n",
    "df"
   ]
  },
  {
   "cell_type": "code",
   "execution_count": 121,
   "id": "b413b037-a5ca-438e-a45b-adcd599344bf",
   "metadata": {},
   "outputs": [],
   "source": [
    "df.to_csv('datas/sample1.csv', index=False)"
   ]
  },
  {
   "cell_type": "code",
   "execution_count": 123,
   "id": "8858d88f-5617-4dfa-b248-55cbf15bcaeb",
   "metadata": {},
   "outputs": [
    {
     "data": {
      "text/html": [
       "<div>\n",
       "<style scoped>\n",
       "    .dataframe tbody tr th:only-of-type {\n",
       "        vertical-align: middle;\n",
       "    }\n",
       "\n",
       "    .dataframe tbody tr th {\n",
       "        vertical-align: top;\n",
       "    }\n",
       "\n",
       "    .dataframe thead th {\n",
       "        text-align: right;\n",
       "    }\n",
       "</style>\n",
       "<table border=\"1\" class=\"dataframe\">\n",
       "  <thead>\n",
       "    <tr style=\"text-align: right;\">\n",
       "      <th></th>\n",
       "      <th>c1</th>\n",
       "      <th>c2</th>\n",
       "      <th>c3</th>\n",
       "    </tr>\n",
       "  </thead>\n",
       "  <tbody>\n",
       "    <tr>\n",
       "      <th>0</th>\n",
       "      <td>1</td>\n",
       "      <td>1.11</td>\n",
       "      <td>one</td>\n",
       "    </tr>\n",
       "    <tr>\n",
       "      <th>1</th>\n",
       "      <td>2</td>\n",
       "      <td></td>\n",
       "      <td>two</td>\n",
       "    </tr>\n",
       "    <tr>\n",
       "      <th>2</th>\n",
       "      <td>누락</td>\n",
       "      <td>3.33</td>\n",
       "      <td>three</td>\n",
       "    </tr>\n",
       "  </tbody>\n",
       "</table>\n",
       "</div>"
      ],
      "text/plain": [
       "   c1    c2     c3\n",
       "0   1  1.11    one\n",
       "1   2          two\n",
       "2  누락  3.33  three"
      ]
     },
     "execution_count": 123,
     "metadata": {},
     "output_type": "execute_result"
    }
   ],
   "source": [
    "df_read = pd.read_csv('datas/sample1.csv')\n",
    "df"
   ]
  },
  {
   "cell_type": "markdown",
   "id": "b12076f1-a361-465f-a74b-862f82fe330b",
   "metadata": {},
   "source": [
    "column 인덱스를 배제하고 저장할 수도 있다."
   ]
  },
  {
   "cell_type": "code",
   "execution_count": 126,
   "id": "db1f85b2-88e6-4280-b01d-079965714a4e",
   "metadata": {},
   "outputs": [],
   "source": [
    "df.to_csv('datas/sample2.csv', index=False, header=False)"
   ]
  },
  {
   "cell_type": "markdown",
   "id": "320d7a55-c9f8-44aa-bee1-c41985df2bff",
   "metadata": {},
   "source": [
    "헤더가 없는 파일을 불러올 때 names 키워드로 설장할 수 있다."
   ]
  },
  {
   "cell_type": "code",
   "execution_count": 127,
   "id": "58dc89d9-c843-4cbb-92c7-c7e6fd3b3a1f",
   "metadata": {},
   "outputs": [
    {
     "data": {
      "text/html": [
       "<div>\n",
       "<style scoped>\n",
       "    .dataframe tbody tr th:only-of-type {\n",
       "        vertical-align: middle;\n",
       "    }\n",
       "\n",
       "    .dataframe tbody tr th {\n",
       "        vertical-align: top;\n",
       "    }\n",
       "\n",
       "    .dataframe thead th {\n",
       "        text-align: right;\n",
       "    }\n",
       "</style>\n",
       "<table border=\"1\" class=\"dataframe\">\n",
       "  <thead>\n",
       "    <tr style=\"text-align: right;\">\n",
       "      <th></th>\n",
       "      <th>c1</th>\n",
       "      <th>c2</th>\n",
       "      <th>c3</th>\n",
       "    </tr>\n",
       "  </thead>\n",
       "  <tbody>\n",
       "    <tr>\n",
       "      <th>0</th>\n",
       "      <td>1</td>\n",
       "      <td>1.11</td>\n",
       "      <td>one</td>\n",
       "    </tr>\n",
       "    <tr>\n",
       "      <th>1</th>\n",
       "      <td>2</td>\n",
       "      <td>NaN</td>\n",
       "      <td>two</td>\n",
       "    </tr>\n",
       "    <tr>\n",
       "      <th>2</th>\n",
       "      <td>누락</td>\n",
       "      <td>3.33</td>\n",
       "      <td>three</td>\n",
       "    </tr>\n",
       "  </tbody>\n",
       "</table>\n",
       "</div>"
      ],
      "text/plain": [
       "   c1    c2     c3\n",
       "0   1  1.11    one\n",
       "1   2   NaN    two\n",
       "2  누락  3.33  three"
      ]
     },
     "execution_count": 127,
     "metadata": {},
     "output_type": "execute_result"
    }
   ],
   "source": [
    "pd.read_csv('datas/sample2.csv', names=['c1', 'c2', 'c3'])"
   ]
  },
  {
   "cell_type": "markdown",
   "id": "ee07dd80-f715-4573-905e-ef85f04d73f4",
   "metadata": {},
   "source": [
    "콤마로 구분되지 않은 텍스트 파일에 대해 처리할 수도 있다. 매직 명령어인 %%writefile 파일명 으로 저장할 수 있다."
   ]
  },
  {
   "cell_type": "code",
   "execution_count": 128,
   "id": "d4da92c6-c9f5-403b-827d-f27e766f8a0a",
   "metadata": {},
   "outputs": [
    {
     "name": "stdout",
     "output_type": "stream",
     "text": [
      "Writing datas/sample3.txt\n"
     ]
    }
   ],
   "source": [
    "%%writefile datas/sample3.txt\n",
    "c1        c2        c3        c4\n",
    "0.179181 -1.538472  1.347553  0.43381\n",
    "1.024209  0.087307 -1.281997  0.49265\n",
    "0.417899 -2.002308  0.255245 -1.10515"
   ]
  },
  {
   "cell_type": "markdown",
   "id": "7716ef6f-3fc0-408d-8217-9806d0564206",
   "metadata": {},
   "source": [
    "앞의 파일을 불러오려면 sep 인자를 써서 지정해주면 된다. 만약 길이가 정해지지 않은 공백이 구분자인 경우에는 '\\s+' 정규식 문자열을 사용하면 된다."
   ]
  },
  {
   "cell_type": "code",
   "execution_count": 131,
   "id": "5c7bf868-b6a4-4f90-899c-e94b747c8ea5",
   "metadata": {},
   "outputs": [
    {
     "data": {
      "text/html": [
       "<div>\n",
       "<style scoped>\n",
       "    .dataframe tbody tr th:only-of-type {\n",
       "        vertical-align: middle;\n",
       "    }\n",
       "\n",
       "    .dataframe tbody tr th {\n",
       "        vertical-align: top;\n",
       "    }\n",
       "\n",
       "    .dataframe thead th {\n",
       "        text-align: right;\n",
       "    }\n",
       "</style>\n",
       "<table border=\"1\" class=\"dataframe\">\n",
       "  <thead>\n",
       "    <tr style=\"text-align: right;\">\n",
       "      <th></th>\n",
       "      <th>c1</th>\n",
       "      <th>c2</th>\n",
       "      <th>c3</th>\n",
       "      <th>c4</th>\n",
       "    </tr>\n",
       "  </thead>\n",
       "  <tbody>\n",
       "    <tr>\n",
       "      <th>0</th>\n",
       "      <td>0.179181</td>\n",
       "      <td>-1.538472</td>\n",
       "      <td>1.347553</td>\n",
       "      <td>0.43381</td>\n",
       "    </tr>\n",
       "    <tr>\n",
       "      <th>1</th>\n",
       "      <td>1.024209</td>\n",
       "      <td>0.087307</td>\n",
       "      <td>-1.281997</td>\n",
       "      <td>0.49265</td>\n",
       "    </tr>\n",
       "    <tr>\n",
       "      <th>2</th>\n",
       "      <td>0.417899</td>\n",
       "      <td>-2.002308</td>\n",
       "      <td>0.255245</td>\n",
       "      <td>-1.10515</td>\n",
       "    </tr>\n",
       "  </tbody>\n",
       "</table>\n",
       "</div>"
      ],
      "text/plain": [
       "         c1        c2        c3       c4\n",
       "0  0.179181 -1.538472  1.347553  0.43381\n",
       "1  1.024209  0.087307 -1.281997  0.49265\n",
       "2  0.417899 -2.002308  0.255245 -1.10515"
      ]
     },
     "execution_count": 131,
     "metadata": {},
     "output_type": "execute_result"
    }
   ],
   "source": [
    "pd.read_csv('datas/sample3.txt', sep='\\s+')"
   ]
  },
  {
   "cell_type": "markdown",
   "id": "c93d466d-34b6-4071-871c-5ed21a6dc53d",
   "metadata": {},
   "source": [
    "데이터에 헤더를 추가할 수도 있다."
   ]
  },
  {
   "cell_type": "code",
   "execution_count": 133,
   "id": "f7803a50-2c99-4164-88e4-417801b340b9",
   "metadata": {},
   "outputs": [
    {
     "name": "stdout",
     "output_type": "stream",
     "text": [
      "Writing datas/sample4.txt\n"
     ]
    }
   ],
   "source": [
    "%%writefile datas/sample4.txt\n",
    "파일 제목: sample4.txt\n",
    "데이터 포맷의 설명:\n",
    "c1, c2, c3\n",
    "1, 1.11, one\n",
    "2, 2.22, two\n",
    "3, 3.33, three"
   ]
  },
  {
   "cell_type": "markdown",
   "id": "ceff170d-0bf9-4401-9302-0a13017212b1",
   "metadata": {},
   "source": [
    "건너 뛰어야 할 행이 있으면 skiprows를 사용하면 된다."
   ]
  },
  {
   "cell_type": "code",
   "execution_count": 134,
   "id": "8aa863be-27fc-4859-8dd5-cbd53f0c34c8",
   "metadata": {},
   "outputs": [
    {
     "data": {
      "text/html": [
       "<div>\n",
       "<style scoped>\n",
       "    .dataframe tbody tr th:only-of-type {\n",
       "        vertical-align: middle;\n",
       "    }\n",
       "\n",
       "    .dataframe tbody tr th {\n",
       "        vertical-align: top;\n",
       "    }\n",
       "\n",
       "    .dataframe thead th {\n",
       "        text-align: right;\n",
       "    }\n",
       "</style>\n",
       "<table border=\"1\" class=\"dataframe\">\n",
       "  <thead>\n",
       "    <tr style=\"text-align: right;\">\n",
       "      <th></th>\n",
       "      <th>c1</th>\n",
       "      <th>c2</th>\n",
       "      <th>c3</th>\n",
       "    </tr>\n",
       "  </thead>\n",
       "  <tbody>\n",
       "    <tr>\n",
       "      <th>0</th>\n",
       "      <td>1</td>\n",
       "      <td>1.11</td>\n",
       "      <td>one</td>\n",
       "    </tr>\n",
       "    <tr>\n",
       "      <th>1</th>\n",
       "      <td>2</td>\n",
       "      <td>2.22</td>\n",
       "      <td>two</td>\n",
       "    </tr>\n",
       "    <tr>\n",
       "      <th>2</th>\n",
       "      <td>3</td>\n",
       "      <td>3.33</td>\n",
       "      <td>three</td>\n",
       "    </tr>\n",
       "  </tbody>\n",
       "</table>\n",
       "</div>"
      ],
      "text/plain": [
       "   c1    c2      c3\n",
       "0   1  1.11     one\n",
       "1   2  2.22     two\n",
       "2   3  3.33   three"
      ]
     },
     "execution_count": 134,
     "metadata": {},
     "output_type": "execute_result"
    }
   ],
   "source": [
    "pd.read_csv('datas/sample4.txt', skiprows=[0, 1])"
   ]
  },
  {
   "cell_type": "markdown",
   "id": "345c70fe-3074-4c75-a13c-4a86d3aa3aed",
   "metadata": {},
   "source": [
    "데이터로 불러올 자료 안 특정한 값을 NaN으로 취급하고 싶으면 na_values 인수에 NaN 값으로 취급할 값을 넣으면 된다."
   ]
  },
  {
   "cell_type": "code",
   "execution_count": 136,
   "id": "55c737d2-7b82-4464-959a-ba7454f5b79a",
   "metadata": {},
   "outputs": [
    {
     "data": {
      "text/html": [
       "<div>\n",
       "<style scoped>\n",
       "    .dataframe tbody tr th:only-of-type {\n",
       "        vertical-align: middle;\n",
       "    }\n",
       "\n",
       "    .dataframe tbody tr th {\n",
       "        vertical-align: top;\n",
       "    }\n",
       "\n",
       "    .dataframe thead th {\n",
       "        text-align: right;\n",
       "    }\n",
       "</style>\n",
       "<table border=\"1\" class=\"dataframe\">\n",
       "  <thead>\n",
       "    <tr style=\"text-align: right;\">\n",
       "      <th></th>\n",
       "      <th>c1</th>\n",
       "      <th>c2</th>\n",
       "      <th>c3</th>\n",
       "    </tr>\n",
       "  </thead>\n",
       "  <tbody>\n",
       "    <tr>\n",
       "      <th>0</th>\n",
       "      <td>1.0</td>\n",
       "      <td>1.11</td>\n",
       "      <td>one</td>\n",
       "    </tr>\n",
       "    <tr>\n",
       "      <th>1</th>\n",
       "      <td>2.0</td>\n",
       "      <td>NaN</td>\n",
       "      <td>two</td>\n",
       "    </tr>\n",
       "    <tr>\n",
       "      <th>2</th>\n",
       "      <td>NaN</td>\n",
       "      <td>3.33</td>\n",
       "      <td>three</td>\n",
       "    </tr>\n",
       "  </tbody>\n",
       "</table>\n",
       "</div>"
      ],
      "text/plain": [
       "    c1    c2     c3\n",
       "0  1.0  1.11    one\n",
       "1  2.0   NaN    two\n",
       "2  NaN  3.33  three"
      ]
     },
     "execution_count": 136,
     "metadata": {},
     "output_type": "execute_result"
    }
   ],
   "source": [
    "pd.read_csv('datas/sample1.csv', na_values=['누락'])"
   ]
  },
  {
   "cell_type": "markdown",
   "id": "1a1340e5-34f4-4517-8a22-96c8d17cbd41",
   "metadata": {},
   "source": [
    "파일을 출력할 때도 sep 인자로 구분자를 바꿀 수 있다. 또 저장할 때도 na_rep 키워드를 사용해서 NaN 표시값을 바꿀 수도 있다."
   ]
  },
  {
   "cell_type": "markdown",
   "id": "3ea0d268-943d-4f94-8a85-dc4245f40247",
   "metadata": {},
   "source": [
    "웹에서 파일을 읽고 싶을 경우 path에 URL을 넣어주면 된다."
   ]
  },
  {
   "cell_type": "code",
   "execution_count": 138,
   "id": "d3ba97ad-cd2d-4494-9cc4-3847d44ec13a",
   "metadata": {},
   "outputs": [
    {
     "data": {
      "text/html": [
       "<div>\n",
       "<style scoped>\n",
       "    .dataframe tbody tr th:only-of-type {\n",
       "        vertical-align: middle;\n",
       "    }\n",
       "\n",
       "    .dataframe tbody tr th {\n",
       "        vertical-align: top;\n",
       "    }\n",
       "\n",
       "    .dataframe thead th {\n",
       "        text-align: right;\n",
       "    }\n",
       "</style>\n",
       "<table border=\"1\" class=\"dataframe\">\n",
       "  <thead>\n",
       "    <tr style=\"text-align: right;\">\n",
       "      <th></th>\n",
       "      <th>survived</th>\n",
       "      <th>sex</th>\n",
       "      <th>age</th>\n",
       "      <th>n_siblings_spouses</th>\n",
       "      <th>parch</th>\n",
       "      <th>fare</th>\n",
       "      <th>class</th>\n",
       "      <th>deck</th>\n",
       "      <th>embark_town</th>\n",
       "      <th>alone</th>\n",
       "    </tr>\n",
       "  </thead>\n",
       "  <tbody>\n",
       "    <tr>\n",
       "      <th>0</th>\n",
       "      <td>0</td>\n",
       "      <td>male</td>\n",
       "      <td>22.0</td>\n",
       "      <td>1</td>\n",
       "      <td>0</td>\n",
       "      <td>7.2500</td>\n",
       "      <td>Third</td>\n",
       "      <td>unknown</td>\n",
       "      <td>Southampton</td>\n",
       "      <td>n</td>\n",
       "    </tr>\n",
       "    <tr>\n",
       "      <th>1</th>\n",
       "      <td>1</td>\n",
       "      <td>female</td>\n",
       "      <td>38.0</td>\n",
       "      <td>1</td>\n",
       "      <td>0</td>\n",
       "      <td>71.2833</td>\n",
       "      <td>First</td>\n",
       "      <td>C</td>\n",
       "      <td>Cherbourg</td>\n",
       "      <td>n</td>\n",
       "    </tr>\n",
       "    <tr>\n",
       "      <th>2</th>\n",
       "      <td>1</td>\n",
       "      <td>female</td>\n",
       "      <td>26.0</td>\n",
       "      <td>0</td>\n",
       "      <td>0</td>\n",
       "      <td>7.9250</td>\n",
       "      <td>Third</td>\n",
       "      <td>unknown</td>\n",
       "      <td>Southampton</td>\n",
       "      <td>y</td>\n",
       "    </tr>\n",
       "    <tr>\n",
       "      <th>3</th>\n",
       "      <td>1</td>\n",
       "      <td>female</td>\n",
       "      <td>35.0</td>\n",
       "      <td>1</td>\n",
       "      <td>0</td>\n",
       "      <td>53.1000</td>\n",
       "      <td>First</td>\n",
       "      <td>C</td>\n",
       "      <td>Southampton</td>\n",
       "      <td>n</td>\n",
       "    </tr>\n",
       "    <tr>\n",
       "      <th>4</th>\n",
       "      <td>0</td>\n",
       "      <td>male</td>\n",
       "      <td>28.0</td>\n",
       "      <td>0</td>\n",
       "      <td>0</td>\n",
       "      <td>8.4583</td>\n",
       "      <td>Third</td>\n",
       "      <td>unknown</td>\n",
       "      <td>Queenstown</td>\n",
       "      <td>y</td>\n",
       "    </tr>\n",
       "    <tr>\n",
       "      <th>...</th>\n",
       "      <td>...</td>\n",
       "      <td>...</td>\n",
       "      <td>...</td>\n",
       "      <td>...</td>\n",
       "      <td>...</td>\n",
       "      <td>...</td>\n",
       "      <td>...</td>\n",
       "      <td>...</td>\n",
       "      <td>...</td>\n",
       "      <td>...</td>\n",
       "    </tr>\n",
       "    <tr>\n",
       "      <th>622</th>\n",
       "      <td>0</td>\n",
       "      <td>male</td>\n",
       "      <td>28.0</td>\n",
       "      <td>0</td>\n",
       "      <td>0</td>\n",
       "      <td>10.5000</td>\n",
       "      <td>Second</td>\n",
       "      <td>unknown</td>\n",
       "      <td>Southampton</td>\n",
       "      <td>y</td>\n",
       "    </tr>\n",
       "    <tr>\n",
       "      <th>623</th>\n",
       "      <td>0</td>\n",
       "      <td>male</td>\n",
       "      <td>25.0</td>\n",
       "      <td>0</td>\n",
       "      <td>0</td>\n",
       "      <td>7.0500</td>\n",
       "      <td>Third</td>\n",
       "      <td>unknown</td>\n",
       "      <td>Southampton</td>\n",
       "      <td>y</td>\n",
       "    </tr>\n",
       "    <tr>\n",
       "      <th>624</th>\n",
       "      <td>1</td>\n",
       "      <td>female</td>\n",
       "      <td>19.0</td>\n",
       "      <td>0</td>\n",
       "      <td>0</td>\n",
       "      <td>30.0000</td>\n",
       "      <td>First</td>\n",
       "      <td>B</td>\n",
       "      <td>Southampton</td>\n",
       "      <td>y</td>\n",
       "    </tr>\n",
       "    <tr>\n",
       "      <th>625</th>\n",
       "      <td>0</td>\n",
       "      <td>female</td>\n",
       "      <td>28.0</td>\n",
       "      <td>1</td>\n",
       "      <td>2</td>\n",
       "      <td>23.4500</td>\n",
       "      <td>Third</td>\n",
       "      <td>unknown</td>\n",
       "      <td>Southampton</td>\n",
       "      <td>n</td>\n",
       "    </tr>\n",
       "    <tr>\n",
       "      <th>626</th>\n",
       "      <td>0</td>\n",
       "      <td>male</td>\n",
       "      <td>32.0</td>\n",
       "      <td>0</td>\n",
       "      <td>0</td>\n",
       "      <td>7.7500</td>\n",
       "      <td>Third</td>\n",
       "      <td>unknown</td>\n",
       "      <td>Queenstown</td>\n",
       "      <td>y</td>\n",
       "    </tr>\n",
       "  </tbody>\n",
       "</table>\n",
       "<p>627 rows × 10 columns</p>\n",
       "</div>"
      ],
      "text/plain": [
       "     survived     sex   age  n_siblings_spouses  parch     fare   class  \\\n",
       "0           0    male  22.0                   1      0   7.2500   Third   \n",
       "1           1  female  38.0                   1      0  71.2833   First   \n",
       "2           1  female  26.0                   0      0   7.9250   Third   \n",
       "3           1  female  35.0                   1      0  53.1000   First   \n",
       "4           0    male  28.0                   0      0   8.4583   Third   \n",
       "..        ...     ...   ...                 ...    ...      ...     ...   \n",
       "622         0    male  28.0                   0      0  10.5000  Second   \n",
       "623         0    male  25.0                   0      0   7.0500   Third   \n",
       "624         1  female  19.0                   0      0  30.0000   First   \n",
       "625         0  female  28.0                   1      2  23.4500   Third   \n",
       "626         0    male  32.0                   0      0   7.7500   Third   \n",
       "\n",
       "        deck  embark_town alone  \n",
       "0    unknown  Southampton     n  \n",
       "1          C    Cherbourg     n  \n",
       "2    unknown  Southampton     y  \n",
       "3          C  Southampton     n  \n",
       "4    unknown   Queenstown     y  \n",
       "..       ...          ...   ...  \n",
       "622  unknown  Southampton     y  \n",
       "623  unknown  Southampton     y  \n",
       "624        B  Southampton     y  \n",
       "625  unknown  Southampton     n  \n",
       "626  unknown   Queenstown     y  \n",
       "\n",
       "[627 rows x 10 columns]"
      ]
     },
     "execution_count": 138,
     "metadata": {},
     "output_type": "execute_result"
    }
   ],
   "source": [
    "titanic = pd.read_csv(\"https://storage.googleapis.com/tf-datasets/titanic/train.csv\")\n",
    "titanic"
   ]
  },
  {
   "cell_type": "code",
   "execution_count": 173,
   "id": "d0291976-303a-4890-8923-da1868b825d2",
   "metadata": {},
   "outputs": [],
   "source": [
    "import requests as rq\n",
    "import sys\n",
    "import json"
   ]
  },
  {
   "cell_type": "code",
   "execution_count": 145,
   "id": "00e870b8-78b0-4c4b-b1cd-f048b5346613",
   "metadata": {},
   "outputs": [],
   "source": [
    "key = 'XYPOYKDP47WYCIRCVWP6'\n",
    "stock_key = '901Y055'\n",
    "stock_url = f'https://ecos.bok.or.kr/api/StatisticSearch/{key}/json/kr/1/10/{stock_key}/M/202001/202112/S22B/?/?/?'\n",
    "\n",
    "stock = rq.get(stock_url)\n",
    "stock_pd = pd.DataFrame(stock.json()['StatisticSearch']['row'])"
   ]
  },
  {
   "cell_type": "code",
   "execution_count": 147,
   "id": "ccd59785-3018-4ad4-a3da-fc9f2e67ec12",
   "metadata": {},
   "outputs": [],
   "source": [
    "stock_pd.to_csv('datas/stock.csv')"
   ]
  },
  {
   "cell_type": "markdown",
   "id": "ec299c15-e9b5-45bf-b550-a87977884ae9",
   "metadata": {},
   "source": [
    "기상청의 api를 활용해서 데이터를 받아 보자. https://www.data.go.kr/iim/api/selectAPIAcountView.do 에 접속하면 api 정보를 얻을 수 있다. 예시로 일기도 조회서비스를 선택했다.\n",
    "서비스키\tServiceKey\t4\t필수\t-\t공공데이터포털에서 받은 인증키\n",
    "페이지 번호\tpageNo\t4\t필수\t1\t페이지번호\n",
    "한 페이지 결과 수\tnumOfRows\t4\t필수\t10\t한 페이지 결과 수\n",
    "응답자료형식\tdataType\t4\t옵션\tXML\t요청자료형식(XML/JSON)\n",
    "지상코드\tcode\t2\t필수\t24\t지상코드\n",
    "시간\ttime\t8\t필수\t20151013\t년월일(YYYYMMDD)"
   ]
  },
  {
   "cell_type": "code",
   "execution_count": 184,
   "id": "abdd6bc3-3972-4221-92e6-3c3f4f17cfa2",
   "metadata": {},
   "outputs": [
    {
     "data": {
      "text/plain": [
       "200"
      ]
     },
     "execution_count": 184,
     "metadata": {},
     "output_type": "execute_result"
    }
   ],
   "source": [
    "key='hNcLaSFUKJaiKbIEYqwmW%2Fuf%2FJN7BTQTwAJLEUQqynY9aywJLjXOCUlo%2FVaNsQkt6ay%2F41ircvxIrFIpf978kQ%3D%3D'\n",
    "daily_weather = rq.get(f'http://apis.data.go.kr/1360000/WthrChartInfoService/getSurfaceChart?serviceKey={key}&numOfRows=10&pageNo=1&dataType=json&code=1&time=20230306')\n",
    "daily_weather.status_code"
   ]
  },
  {
   "cell_type": "code",
   "execution_count": 185,
   "id": "6c4554c7-7ca4-40c3-9ce6-fd6b2e0c9bfd",
   "metadata": {},
   "outputs": [
    {
     "data": {
      "text/plain": [
       "{'response': {'header': {'resultCode': '00', 'resultMsg': 'NORMAL_SERVICE'},\n",
       "  'body': {'dataType': 'JSON',\n",
       "   'items': {'item': [{'man-file': '[http://www.kma.go.kr/repositary/image/cht/img/sfc3_2023030600.png, http://www.kma.go.kr/repositary/image/cht/img/sfc3_2023030603.png, http://www.kma.go.kr/repositary/image/cht/img/sfc3_2023030606.png, http://www.kma.go.kr/repositary/image/cht/img/sfc3_2023030609.png, http://www.kma.go.kr/repositary/image/cht/img/sfc3_2023030612.png, http://www.kma.go.kr/repositary/image/cht/img/sfc3_2023030615.png, http://www.kma.go.kr/repositary/image/cht/img/sfc3_2023030618.png, http://www.kma.go.kr/repositary/image/cht/img/sfc3_2023030621.png]'}]},\n",
       "   'pageNo': 1,\n",
       "   'numOfRows': 10,\n",
       "   'totalCount': 1}}}"
      ]
     },
     "execution_count": 185,
     "metadata": {},
     "output_type": "execute_result"
    }
   ],
   "source": [
    "daily_weather.json()"
   ]
  },
  {
   "cell_type": "code",
   "execution_count": null,
   "id": "b6c3bf1d-e830-45ab-98ef-9fd174e49a19",
   "metadata": {},
   "outputs": [],
   "source": []
  }
 ],
 "metadata": {
  "kernelspec": {
   "display_name": "Python 3 (ipykernel)",
   "language": "python",
   "name": "python3"
  },
  "language_info": {
   "codemirror_mode": {
    "name": "ipython",
    "version": 3
   },
   "file_extension": ".py",
   "mimetype": "text/x-python",
   "name": "python",
   "nbconvert_exporter": "python",
   "pygments_lexer": "ipython3",
   "version": "3.9.16"
  }
 },
 "nbformat": 4,
 "nbformat_minor": 5
}
