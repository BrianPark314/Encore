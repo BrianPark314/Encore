{
 "cells": [
  {
   "cell_type": "code",
   "execution_count": 1,
   "id": "38e83531-f7aa-4258-9233-fdd27730c698",
   "metadata": {},
   "outputs": [
    {
     "name": "stdout",
     "output_type": "stream",
     "text": [
      "\n",
      "여\n",
      "러\n",
      "줄\n",
      "\n"
     ]
    }
   ],
   "source": [
    "#삼중 따옴표로 여러 줄의 문자열 리터럴 생성 가능\n",
    "s3 = \"\"\"\n",
    "여\n",
    "러\n",
    "줄\n",
    "\"\"\"\n",
    "print(s3)"
   ]
  },
  {
   "cell_type": "code",
   "execution_count": 3,
   "id": "efa0d035-4a78-4cb4-9ffe-bac9c4c2fa89",
   "metadata": {},
   "outputs": [
    {
     "name": "stdout",
     "output_type": "stream",
     "text": [
      "여\n",
      "러\n",
      "줄\n",
      "\n"
     ]
    }
   ],
   "source": [
    "#역슬래시로 줄 바꿈 방지 가능\n",
    "s4 = \"\"\"\\\n",
    "여\n",
    "러\n",
    "줄\n",
    "\"\"\"\n",
    "print(s4)"
   ]
  },
  {
   "cell_type": "code",
   "execution_count": 4,
   "id": "ced6dee9-afd2-4bb6-b16c-d5ac8ed5fdf3",
   "metadata": {},
   "outputs": [
    {
     "name": "stdout",
     "output_type": "stream",
     "text": [
      "여\n",
      "러\n",
      "줄\n"
     ]
    }
   ],
   "source": [
    "#마지막 줄 바꿈도 방지\n",
    "s5 = \"\"\"\\\n",
    "여\n",
    "러\n",
    "줄\\\n",
    "\"\"\"\n",
    "print(s5)"
   ]
  },
  {
   "cell_type": "code",
   "execution_count": 6,
   "id": "df491c34-1ffe-46ba-a15a-f3a9223bb4a1",
   "metadata": {
    "tags": []
   },
   "outputs": [
    {
     "name": "stdout",
     "output_type": "stream",
     "text": [
      "\n",
      "\"안녕하세요.\"\n",
      "나는 파이썬을 공부하고 있습니다.\n",
      "반갑습니다.\n",
      "\n"
     ]
    }
   ],
   "source": [
    "#삼중 따옴표 안에선 기호 자유롭게 사용 가능\n",
    "s6 = \"\"\"\n",
    "\"안녕하세요.\"\n",
    "나는 파이썬을 공부하고 있습니다.\n",
    "반갑습니다.\n",
    "\"\"\"\n",
    "print(s6)"
   ]
  },
  {
   "cell_type": "code",
   "execution_count": 7,
   "id": "44f8f5ca-9095-47cc-aa10-8b8f5719e96e",
   "metadata": {},
   "outputs": [
    {
     "name": "stdout",
     "output_type": "stream",
     "text": [
      "너무 너무 너무 너무 너무 너무 너무 파이썬 공부가 즐겁습니다.\n"
     ]
    }
   ],
   "source": [
    "s7 = \"너무 \"\n",
    "print(s7*7 + \"파이썬 공부가 즐겁습니다.\")"
   ]
  },
  {
   "cell_type": "code",
   "execution_count": 8,
   "id": "57a53e73-b2b5-45c3-a0f7-3042a259a976",
   "metadata": {},
   "outputs": [],
   "source": [
    "#시퀀스 자료형\n",
    "#순서에 따라 연속적으로 값들을 갖고, indexing과 slicing이 가능하다.\n",
    "#list와 bytearray는 가변, 나머지는 불변이다."
   ]
  },
  {
   "cell_type": "code",
   "execution_count": 12,
   "id": "dd3e5956-6d57-4ade-a27b-90f3ea94075a",
   "metadata": {},
   "outputs": [
    {
     "name": "stdout",
     "output_type": "stream",
     "text": [
      "꺾\n"
     ]
    }
   ],
   "source": [
    "#인덱싱 예제\n",
    "sentence = '중요한 것은 꺾이지 않는 마음'\n",
    "print(sentence[7])"
   ]
  },
  {
   "cell_type": "code",
   "execution_count": 13,
   "id": "b49b67e7-5da2-4426-bb83-a4ec015280df",
   "metadata": {},
   "outputs": [
    {
     "name": "stdout",
     "output_type": "stream",
     "text": [
      "pto\n"
     ]
    }
   ],
   "source": [
    "#슬라이싱은 [시작 숫자:끝 숫자:증감 크기]\n",
    "word = \"python\"\n",
    "print(word[::2])"
   ]
  },
  {
   "cell_type": "code",
   "execution_count": 15,
   "id": "7eae8028-2697-4eb0-b1a2-7e7ec25631dc",
   "metadata": {},
   "outputs": [
    {
     "name": "stdout",
     "output_type": "stream",
     "text": [
      "꺾이지 않는 마음\n"
     ]
    }
   ],
   "source": [
    "print(sentence[7:])"
   ]
  },
  {
   "cell_type": "code",
   "execution_count": 32,
   "id": "53aa579a-f2c3-4227-8e78-b52ee97586a1",
   "metadata": {},
   "outputs": [
    {
     "name": "stdout",
     "output_type": "stream",
     "text": [
      "한요중\n"
     ]
    }
   ],
   "source": [
    "#증감 크기에 음수를 넣으면 뒤집기 가능\n",
    "print(sentence[2::-1])"
   ]
  },
  {
   "cell_type": "raw",
   "id": "80654a59-f19c-46e2-b4b4-1e3fb9aed664",
   "metadata": {},
   "source": [
    "squares = [1**2, 2**2, 3**2, 4**2, 5**2]\n",
    "print(squares)\n",
    "type(squares)"
   ]
  },
  {
   "cell_type": "code",
   "execution_count": 36,
   "id": "81e97497-afbf-4f3b-a428-9d0b74ce7e3f",
   "metadata": {},
   "outputs": [
    {
     "name": "stdout",
     "output_type": "stream",
     "text": [
      "True\n",
      "False\n"
     ]
    }
   ],
   "source": [
    "#in 키워드로 내부 요소에 포함 여부를 확인할 수 있다.\n",
    "numbers = [1, 2, 3, 4, 5]\n",
    "print(5 in numbers)\n",
    "print(10 in numbers)"
   ]
  },
  {
   "cell_type": "code",
   "execution_count": 37,
   "id": "662a3c9b-7ba4-48f6-ae02-8e8c2621e1a8",
   "metadata": {},
   "outputs": [
    {
     "name": "stdout",
     "output_type": "stream",
     "text": [
      "False\n"
     ]
    }
   ],
   "source": [
    "#연습문제\n",
    "scores = [88, 73, 89, 59, 77]\n",
    "print(True if min(scores)>=60 else False)"
   ]
  },
  {
   "cell_type": "code",
   "execution_count": 38,
   "id": "d5769841-7821-4415-9647-a570cd918603",
   "metadata": {},
   "outputs": [],
   "source": [
    "#함수(fucntion)는 독립적으로 설계된 프로그램 코드의 집합이며, 반복적인 코드의 양을 줄여 유지보수성을 높여준다."
   ]
  },
  {
   "cell_type": "code",
   "execution_count": 39,
   "id": "96619014-71c7-432d-96f9-b07bd823f05c",
   "metadata": {},
   "outputs": [],
   "source": [
    "#메서드는 클래스 안에 들어있는 함수이다."
   ]
  },
  {
   "cell_type": "code",
   "execution_count": 40,
   "id": "7e146e4a-d956-411d-b8b3-54972cdb4d2f",
   "metadata": {},
   "outputs": [],
   "source": [
    "#append를 사용하면 리스트 맨 뒤에 요소를 추가할 수 있다."
   ]
  },
  {
   "cell_type": "code",
   "execution_count": 41,
   "id": "dd86d2c9-2f57-4f75-b58f-1084a9547f53",
   "metadata": {},
   "outputs": [],
   "source": [
    "#insert(index, obj)를 통해 원하는 index에 요소를 추가할 수 있다."
   ]
  },
  {
   "cell_type": "code",
   "execution_count": 42,
   "id": "3460b3b8-acb3-4079-a3aa-0e3f31e95bed",
   "metadata": {},
   "outputs": [],
   "source": [
    "#remove(obj)를 통해 원하는 요소를 제거한다. 이때 여럿일 경우 제일먼저 발견된 요소를 제거한다."
   ]
  },
  {
   "cell_type": "code",
   "execution_count": 43,
   "id": "a31ad1a0-83a6-4fb0-8fb7-a742291e6ef3",
   "metadata": {},
   "outputs": [],
   "source": [
    "#pop(index) 를 통해 원하는 요소를 반환하고, list에서 제거한다."
   ]
  },
  {
   "cell_type": "code",
   "execution_count": 44,
   "id": "79994b4e-0392-4e27-81eb-24f6285f1982",
   "metadata": {},
   "outputs": [],
   "source": [
    "#index(obj) 를 통해 list 안에서 요소의 index에 접근할 수 있다."
   ]
  },
  {
   "cell_type": "code",
   "execution_count": 45,
   "id": "67812950-6229-4fb8-a8b1-5bf4ee25dbee",
   "metadata": {},
   "outputs": [],
   "source": [
    "#count(obj) 를 통해 list 안에 요소의 개수를 알 수 있다."
   ]
  },
  {
   "cell_type": "code",
   "execution_count": 47,
   "id": "c6373153-281d-43a3-9b78-f02666065198",
   "metadata": {},
   "outputs": [],
   "source": [
    "#sort() 를 통해 리스트를 오름차순으로 정렬한다. sorted(list)는 원본을 변경하지 않고 변경된 리스트를 반환한다."
   ]
  },
  {
   "cell_type": "code",
   "execution_count": 48,
   "id": "c68a268c-b464-4f47-a642-5eeea2481189",
   "metadata": {},
   "outputs": [],
   "source": [
    "#reverse() 를 통해 리스트의 순서를 뒤집는다."
   ]
  },
  {
   "cell_type": "code",
   "execution_count": 49,
   "id": "4bf69f7d-5d26-46c8-a4a1-0065dc3cfaeb",
   "metadata": {},
   "outputs": [],
   "source": [
    "#list를 후입선출 구조인 stack처럼 활용하려면, append()와 pop()으로만 자료를 꺼내면 된다."
   ]
  },
  {
   "cell_type": "code",
   "execution_count": 50,
   "id": "0d70bfb4-8b79-43e0-95c5-2d1a10d7c12a",
   "metadata": {},
   "outputs": [],
   "source": [
    "#clear() 를 통해 리스트의 모든 요소 제거"
   ]
  },
  {
   "cell_type": "code",
   "execution_count": 51,
   "id": "16e5c2f7-ea0b-4a79-9482-d07df879c3ff",
   "metadata": {},
   "outputs": [
    {
     "name": "stdout",
     "output_type": "stream",
     "text": [
      "(1, 2, 3, 4, 5, 'hello')\n"
     ]
    }
   ],
   "source": [
    "#tuple은 불변이며, 리스트보다 효율적이다.\n",
    "tuple_var = (1, 2, 3, 4, 5, \"hello\")\n",
    "print(tuple_var)"
   ]
  },
  {
   "cell_type": "code",
   "execution_count": 57,
   "id": "b0b7d855-02f6-499b-b1b5-b1dc44376148",
   "metadata": {},
   "outputs": [
    {
     "name": "stdout",
     "output_type": "stream",
     "text": [
      "0.16089296340942383\n"
     ]
    }
   ],
   "source": [
    "#tuple과 list의 연산 속도 차이\n",
    "import time\n",
    "\n",
    "start_time = time.time()\n",
    "test = []\n",
    "\n",
    "for _ in range(1000000):\n",
    "    tp = (_, _)\n",
    "    test.append(tp)\n",
    "\n",
    "print(time.time()-start_time)"
   ]
  },
  {
   "cell_type": "code",
   "execution_count": null,
   "id": "d16ee88d-1831-4767-977e-1db4b2a96da6",
   "metadata": {},
   "outputs": [],
   "source": [
    "import time\n",
    "\n",
    "start_time = time.time()\n",
    "test = []\n",
    "\n",
    "for _ in range(1000000):\n",
    "    tp = [_, _]\n",
    "    test.append(tp)\n",
    "\n",
    "print(time.time()-start_time)"
   ]
  },
  {
   "cell_type": "code",
   "execution_count": 59,
   "id": "c0b7c871-95ae-4925-b78e-71a5b77eac13",
   "metadata": {},
   "outputs": [
    {
     "name": "stdin",
     "output_type": "stream",
     "text": [
      "Message 1111\n"
     ]
    }
   ],
   "source": [
    "#input() 함수를 통해 사용자로부터 값을 입력받을 수 있다.\n",
    "input_value = input(\"Message\")"
   ]
  },
  {
   "cell_type": "code",
   "execution_count": 60,
   "id": "895066df-d284-4b0c-9466-e763908dc267",
   "metadata": {},
   "outputs": [
    {
     "name": "stdout",
     "output_type": "stream",
     "text": [
      "input_value: 1111 \n",
      "type <class 'str'>\n"
     ]
    }
   ],
   "source": [
    "print(\"input_value:\", input_value, \"\\ntype\", type(input_value))"
   ]
  },
  {
   "cell_type": "code",
   "execution_count": 63,
   "id": "f08c9d10-eafe-467e-bdc8-e1dacc5af272",
   "metadata": {},
   "outputs": [
    {
     "name": "stdin",
     "output_type": "stream",
     "text": [
      "정수를 입력해주세요. 0\n"
     ]
    },
    {
     "name": "stdout",
     "output_type": "stream",
     "text": [
      "0\n"
     ]
    }
   ],
   "source": [
    "input_value04 = int(input(\"정수를 입력해주세요.\"))\n",
    "print(input_value04)"
   ]
  },
  {
   "cell_type": "code",
   "execution_count": 67,
   "id": "211d4ce8-ebcd-4cf8-be91-227ea430da36",
   "metadata": {},
   "outputs": [
    {
     "name": "stdin",
     "output_type": "stream",
     "text": [
      "이름을 입력하시오: qkrrldud\n"
     ]
    },
    {
     "name": "stdout",
     "output_type": "stream",
     "text": [
      "qkrrldud 씨, 안녕하세요?\n",
      "파이썬에 오신 것을 환영합니다.\n"
     ]
    },
    {
     "name": "stdin",
     "output_type": "stream",
     "text": [
      "첫 번쨰 정수를 입력하세요: 1\n",
      "두 번쨰 정수를 입력하세요: 1\n"
     ]
    },
    {
     "name": "stdout",
     "output_type": "stream",
     "text": [
      "1 과 1의 합은 2 입니다.\n"
     ]
    }
   ],
   "source": [
    "#사용자의 이름을 물어보고 이어서 2개의 정수를 받아서 덧셈을 한 후 결과를 출력하는 프로그램을 작성해보시오.\n",
    "name = input(\"이름을 입력하시오:\")\n",
    "print(name+\" 씨, 안녕하세요?\\n파이썬에 오신 것을 환영합니다.\")\n",
    "a = int(input(\"첫 번쨰 정수를 입력하세요:\"))\n",
    "b = int(input(\"두 번쨰 정수를 입력하세요:\"))\n",
    "print(\"{} 과 {}의 합은 {} 입니다.\".format(a, b, a+b))"
   ]
  },
  {
   "cell_type": "code",
   "execution_count": 68,
   "id": "52fbd2d0-e955-4b79-9fcb-7b8b6c8bc8c6",
   "metadata": {},
   "outputs": [
    {
     "name": "stdin",
     "output_type": "stream",
     "text": [
      "경기장은 어디입니까? 고척\n",
      "이긴 팀은 어디입니까? 한화\n",
      "진 팀은 어디입니까? 엘지\n",
      "우수 선수는 누구입니까? 김성근\n",
      "스코어는 몇대 몇입니까? 12:0\n"
     ]
    },
    {
     "name": "stdout",
     "output_type": "stream",
     "text": [
      "\\[속보\\] 한화가 12:0로 승리...\n",
      "오늘 고척 경기장에서 야구 경기가 있었습니다.\n",
      "한화와 엘지는 치열한 공방전을 펼쳤습니다.\n",
      "이 경기에서 김성근가 맹활약했습니다.\n",
      "그 끝내 한화가 엘지를 12:0로 승리했습니다.\n",
      "기사 끝.\n",
      "\n"
     ]
    }
   ],
   "source": [
    "#사용자에게 경기장, 점수, 이긴 팀, 진 팀, 우수 선수를 질문하고 변수에 저장한다. 이후 기사 작성\n",
    "dome = input(\"경기장은 어디입니까?\")\n",
    "winner = input(\"이긴 팀은 어디입니까?\")\n",
    "loser = input(\"진 팀은 어디입니까?\")\n",
    "mvp = input(\"우수 선수는 누구입니까?\")\n",
    "score = input(\"스코어는 몇대 몇입니까?\")\n",
    "\n",
    "print(\"\"\"\\\n",
    "[속보] {}가 {}로 승리...\n",
    "오늘 {} 경기장에서 야구 경기가 있었습니다.\n",
    "{}와 {}는 치열한 공방전을 펼쳤습니다.\n",
    "이 경기에서 {}가 맹활약했습니다.\n",
    "그 끝내 {}가 {}를 상대로 {}로 승리했습니다.\n",
    "기사 끝.\n",
    "\"\"\".format(winner, score, dome, winner, loser, mvp, winner, loser, score))"
   ]
  },
  {
   "cell_type": "code",
   "execution_count": 72,
   "id": "f0200adc-475e-4c79-9eab-f80f98771314",
   "metadata": {},
   "outputs": [
    {
     "name": "stdin",
     "output_type": "stream",
     "text": [
      "hh:mm:ss의 형태로 시간을 입력해주세요. 12:34:56\n"
     ]
    },
    {
     "name": "stdout",
     "output_type": "stream",
     "text": [
      "실행 결과:\n",
      "시: 12\n",
      "분: 34\n",
      "초: 56\n"
     ]
    }
   ],
   "source": [
    "h, m, s = input(\"hh:mm:ss의 형태로 시간을 입력해주세요.\").split(':')\n",
    "print(\"\"\"\\\n",
    "실행 결과:\n",
    "시: {}\n",
    "분: {}\n",
    "초: {}\\\n",
    "\"\"\".format(h, m, s))"
   ]
  },
  {
   "cell_type": "code",
   "execution_count": 76,
   "id": "dd6056db-18c9-407a-854f-4c1e95424f9e",
   "metadata": {},
   "outputs": [
    {
     "name": "stdout",
     "output_type": "stream",
     "text": [
      "[1, 2, 3, 4]\n"
     ]
    }
   ],
   "source": [
    "#map()은 iterable 객체에서 요소를 하나하 꺼내서 특정 함수를 적용할 때 쓴다.\n",
    "a = [1.2, 2.5, 3.7, 4.6]\n",
    "a = list(map(int,a))\n",
    "print(a)"
   ]
  },
  {
   "cell_type": "code",
   "execution_count": 80,
   "id": "350041b1-ae0b-4430-9397-7dcbbd16e522",
   "metadata": {},
   "outputs": [
    {
     "name": "stdin",
     "output_type": "stream",
     "text": [
      "국어, 영어, 수학, 과학 점수를 입력해주세요. 10, 5, 10, 7\n"
     ]
    },
    {
     "name": "stdout",
     "output_type": "stream",
     "text": [
      "평균 점수는 8.0점입니다.\n"
     ]
    }
   ],
   "source": [
    "score = (input(\"국어, 영어, 수학, 과학 점수를 입력해주세요.\")).split(',')\n",
    "score = list(map(int, score))\n",
    "print(\"평균 점수는 {}점입니다.\".format(sum(score)/len(score)))"
   ]
  },
  {
   "cell_type": "code",
   "execution_count": null,
   "id": "ec7b281f-d7b6-446e-b203-b67d0fa65565",
   "metadata": {},
   "outputs": [],
   "source": []
  }
 ],
 "metadata": {
  "kernelspec": {
   "display_name": "Python 3 (ipykernel)",
   "language": "python",
   "name": "python3"
  },
  "language_info": {
   "codemirror_mode": {
    "name": "ipython",
    "version": 3
   },
   "file_extension": ".py",
   "mimetype": "text/x-python",
   "name": "python",
   "nbconvert_exporter": "python",
   "pygments_lexer": "ipython3",
   "version": "3.9.16"
  }
 },
 "nbformat": 4,
 "nbformat_minor": 5
}
