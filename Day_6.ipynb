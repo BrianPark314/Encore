{
 "cells": [
  {
   "cell_type": "markdown",
   "id": "bf045da8-ab1a-4ed0-82ab-b1d044de8341",
   "metadata": {},
   "source": [
    "#list comperhension에도 for문을 여러 개 작성할 수 있다."
   ]
  },
  {
   "cell_type": "code",
   "execution_count": 2,
   "id": "3f1abbc0-1fd1-42dc-8a5a-45b3e341b842",
   "metadata": {},
   "outputs": [
    {
     "name": "stdout",
     "output_type": "stream",
     "text": [
      "['alpha', 'bravo', 'delta', 'hotel', 'india']\n"
     ]
    }
   ],
   "source": [
    "a = ['alpha', 'bravo', 'charlie', 'delta', 'echo', 'foxtrot', 'golf', 'hotel', 'india']\n",
    "b = [x for x in a if len(x)==5]\n",
    "\n",
    "print(b)"
   ]
  },
  {
   "cell_type": "code",
   "execution_count": 21,
   "id": "b2f931ab-9416-4709-854f-d81e12cff1bd",
   "metadata": {},
   "outputs": [
    {
     "name": "stdin",
     "output_type": "stream",
     "text": [
      "정수 두 개를 입력하세요. 10 20\n"
     ]
    },
    {
     "name": "stdout",
     "output_type": "stream",
     "text": [
      "[1024, 4096, 8192, 16384, 32768, 65536, 131072, 262144, 1048576]\n"
     ]
    }
   ],
   "source": [
    "while True:\n",
    "    n = list(map(int, input(\"정수 두 개를 입력하세요.\").split(' ')))\n",
    "    if n[0]>20 or n[0]<1:\n",
    "        print(\"첫 번째 값의 범위는 1 ~ 20입니다.\")\n",
    "    if n[1]>30 or n[1]<10:\n",
    "        print(\"두 번째 값의 범위는 10 ~ 30입니다.\")\n",
    "    if n[0]>n[1]:\n",
    "        print(\"첫 번째 입력값은 두 번째 입력값보다 작게 입력하세요.\")\n",
    "    else:\n",
    "        break;\n",
    "    continue;\n",
    "    \n",
    "ans = [2<<i for i in range(n[0]-1, n[1])]\n",
    "ans.remove(ans[1])\n",
    "ans.remove(ans[-2])\n",
    "print(ans)"
   ]
  },
  {
   "cell_type": "code",
   "execution_count": 32,
   "id": "7a4d0e22-46c5-4090-b3a0-11ec16a96926",
   "metadata": {},
   "outputs": [
    {
     "name": "stdin",
     "output_type": "stream",
     "text": [
      "2부터 입력하신 수까지의 모든 소수를 찾는 프로그램입니다. \n",
      "찾는 범위를 입력하세요:  100\n"
     ]
    },
    {
     "name": "stdout",
     "output_type": "stream",
     "text": [
      "2 3 5 7 11 13 17 \n",
      "19 23 29 31 37 41 43 \n",
      "47 53 59 61 67 71 73 \n",
      "79 83 89 97 "
     ]
    }
   ],
   "source": [
    "def isPrime(n): #소수인지 확인하는 함수\n",
    "    if n == 1: #1은 소수가 아니므로\n",
    "        return False\n",
    "    if n == 2: #2는 소수\n",
    "        return True\n",
    "    elif n%2 == 0: #짝수는 소수가 아님\n",
    "        return False\n",
    "    else:\n",
    "        for i in range(3, n//2): #3부터 시작해서 그 수의 절반까지 나누어 떨어지는지 확인\n",
    "            if n%i == 0:\n",
    "                return False\n",
    "    return True #모든 조건을 통과했다면 소수이므로 True 반환\n",
    "\n",
    "n = int(input(\"2부터 입력하신 수까지의 모든 소수를 찾는 프로그램입니다. \\n찾는 범위를 입력하세요: \"))\n",
    "\n",
    "ans = [i for i in range(n+1) if isPrime(i)] # 입력받은 수까지 소수인지 확인\n",
    "\n",
    "for i in range(len(ans)):\n",
    "    if i%7==0 and i>0: #7개씩 출력하기 위해 7로 나눈 나머지가 0일 경우 줄바꿈을 삽입\n",
    "        print(\"\")\n",
    "    print(ans[i], end=' ')"
   ]
  },
  {
   "cell_type": "code",
   "execution_count": 36,
   "id": "0f021214-645f-473f-91d2-6de705071e5d",
   "metadata": {},
   "outputs": [
    {
     "name": "stdout",
     "output_type": "stream",
     "text": [
      "[2, 3, 5, 7, 11, 13, 17, 19, 23, 29, 31, 37, 41, 43, 47, 53, 59, 61, 67, 71, 73, 79, 83, 89, 97]\n"
     ]
    }
   ],
   "source": [
    "#에라토스테네스의 체\n",
    "n=100\n",
    "a = [False,False] + [True]*(n-1)\n",
    "primes=[]\n",
    "\n",
    "for i in range(2,n+1):\n",
    "  if a[i]:\n",
    "    primes.append(i)\n",
    "    for j in range(2*i, n+1, i):\n",
    "        a[j] = False\n",
    "print(primes)\n"
   ]
  },
  {
   "cell_type": "code",
   "execution_count": null,
   "id": "8f3bd738-9ce4-4676-b2b4-ca7cbbb0587f",
   "metadata": {},
   "outputs": [],
   "source": [
    "#업다운 게임 만들기\n",
    "import random\n",
    "\n",
    "k = random.randint(1, 100) #난수 생성\n",
    "cnt = 0 #몇 번 입력했는지 저장할 변수 선언\n",
    "log = [] #입력한 숫자를 저장할 변수 선언\n",
    "while True:\n",
    "    n = int(input(\"값을 입력하세요.\")) \n",
    "    cnt += 1 #입력한 횟수 +1\n",
    "    log.append(n) #입력한 숫자 저장\n",
    "    if n>100 or n<1: #범위를 벗어나는 경우 처리\n",
    "        print(\"1~100 사이의 숫자를 입력하세요.\")\n",
    "        continue;\n",
    "    if n == k: #맞춘 경우 입력한 횟수와 숫자들 출력하고 루프 종료\n",
    "        print(f\"{cnt}번만에 맞추셨습니다.\")\n",
    "        print(\"입력한 숫자는 다음과 같습니다.\".join(log))\n",
    "        break;\n",
    "    elif n>k: #더 큰 숫자인 경우\n",
    "        print(\"그보다 작습니다.\")\n",
    "    elif n<k: #더 작은 숫자인 경우\n",
    "        print(\"그보다 큽니다.\")\n"
   ]
  },
  {
   "cell_type": "markdown",
   "id": "b3377b38-29e9-45e6-9e20-d9f2c83edd6f",
   "metadata": {},
   "source": [
    "set 자료형은 수학의 집합을 구현한 것으로, 합집합, 교집합, 차집합과 같은 처리가 가능하다.\n",
    "dictionary와 같이 중괄호를 사용해서 생성하며, 비시퀀스형이므로 인덱스를 갖지 않는다.\n",
    "set의 요소는 key와 value의 역할을 모두 하며 중복과 순서가 없다.\n",
    "빈 set는 set()로 만든다."
   ]
  },
  {
   "cell_type": "markdown",
   "id": "767dd462-d72e-4e97-b324-862bec6961c2",
   "metadata": {},
   "source": [
    "set = {expression for var in interable if condition}"
   ]
  },
  {
   "cell_type": "markdown",
   "id": "1dd6facd-4dc1-4687-b791-f3a4c5cdc42c",
   "metadata": {},
   "source": [
    "add() 메서드를 통해 set 자료형에 값을 추가할 수 있다. 한 번에 하나의 값만 추가 가능하다.\n",
    "\n",
    "remove() 메서드를 통해 set 자료형에서 값을 제거한다. 또는 discard()를 통해서 제거도 가능한데, 이때 없는 값을 제거하려 해도 에러가 발생하지 않는다. pop()을 사용하면 임의의 요소를 삭제할 수 있다."
   ]
  },
  {
   "cell_type": "markdown",
   "id": "3dcef112-0367-48e4-a999-ab072ac0e936",
   "metadata": {},
   "source": [
    "합집합은 set.union() 또는 '|'를 사용해서 표현할 수 있다. 교집합은 set.intersection() 또는 '&'를 통해 나타낼 수 있다. 차집합은 set.difference() 또는 '-'로 나타낸다. 대칭차집합은 set.symmetric_difference()의 형태로 사용한다. set1.update(set2) 또는 '|='로 set2의 요소를 set1에 추가할 수 있다. intersection_update() 또는 '&=' 를 통해 교집합을 업데이트 할 수 있다. difference_update() 또는 '-='를 통해 차집합을 대입할 수 있다. symmetric_difference_update 또는 '^='로 대칭차집합을 대입할 수 있다."
   ]
  },
  {
   "cell_type": "markdown",
   "id": "b0e4ab84-c853-411b-9f7a-6ca034c163b2",
   "metadata": {},
   "source": [
    "부분집합은 issubset()을 통해 True 혹은 False를 반환할 수 있다. 상위집합은 issuperset()으로 확인하면 된다. 진부분집합과 진상위집합(같은 집합일 경우 제외)는 부등호를 이용해 비교하면 된다. isdisjoint()를 통해 교집합이 없음을 확인할 수 있다."
   ]
  },
  {
   "cell_type": "code",
   "execution_count": 2,
   "id": "27f42944-d9fd-4974-b22c-05eee2362f7f",
   "metadata": {},
   "outputs": [
    {
     "name": "stdout",
     "output_type": "stream",
     "text": [
      "{1, 2, 3, 4}\n"
     ]
    }
   ],
   "source": [
    "list_sample = [1, 2, 2, 3, 3, 3, 4, 4, 4, 4]\n",
    "\n",
    "print(set(list_sample))"
   ]
  },
  {
   "cell_type": "code",
   "execution_count": null,
   "id": "da5f389b-2f3a-4c06-b2e5-9b4abf1879c0",
   "metadata": {},
   "outputs": [],
   "source": []
  }
 ],
 "metadata": {
  "kernelspec": {
   "display_name": "Python 3 (ipykernel)",
   "language": "python",
   "name": "python3"
  },
  "language_info": {
   "codemirror_mode": {
    "name": "ipython",
    "version": 3
   },
   "file_extension": ".py",
   "mimetype": "text/x-python",
   "name": "python",
   "nbconvert_exporter": "python",
   "pygments_lexer": "ipython3",
   "version": "3.9.16"
  }
 },
 "nbformat": 4,
 "nbformat_minor": 5
}
