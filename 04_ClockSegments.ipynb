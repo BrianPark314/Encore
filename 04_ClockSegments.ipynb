{
 "cells": [
  {
   "cell_type": "code",
   "execution_count": 2,
   "id": "0955ebad-1f55-437b-99bb-2df86084417a",
   "metadata": {},
   "outputs": [
    {
     "name": "stdout",
     "output_type": "stream",
     "text": [
      "8360\n"
     ]
    }
   ],
   "source": [
    "#7개의 세그먼트 디스플레이를 사용한 디지털 시계가 있다. 이 시계에 30개에 세그먼트에 불이 들어왔을 때, 예상할 수 있는 시각은 모두 몇 가지인가?\n",
    "\n",
    "#앞선 문제와 마찬가지로 모든 시각에 대해 세그먼트 수를 구하고 조건에 부합하는 세그먼트 수를 찾는 것이 더 빠르다.\n",
    "\n",
    "from math import floor\n",
    "\n",
    "N = 30\n",
    "\n",
    "def check(n): #두 자릿수 확인\n",
    "    k = [6, 2, 5, 5, 4, 5, 6, 3, 7, 6] #각 자릿수에 해당하는 세그먼트 수\n",
    "    return k[n//10]+k[n%10]\n",
    "\n",
    "cnt = 0\n",
    "\n",
    "for h in range(0, 24):\n",
    "    for m in range(0, 60):\n",
    "        for s in range(0, 60):\n",
    "            if(check(h)+check(m)+check(s)==N):\n",
    "                cnt +=1\n",
    "print(cnt)"
   ]
  },
  {
   "cell_type": "code",
   "execution_count": null,
   "id": "df505fd8-4cec-45ab-a8b1-991849bad093",
   "metadata": {},
   "outputs": [],
   "source": []
  }
 ],
 "metadata": {
  "kernelspec": {
   "display_name": "Python 3 (ipykernel)",
   "language": "python",
   "name": "python3"
  },
  "language_info": {
   "codemirror_mode": {
    "name": "ipython",
    "version": 3
   },
   "file_extension": ".py",
   "mimetype": "text/x-python",
   "name": "python",
   "nbconvert_exporter": "python",
   "pygments_lexer": "ipython3",
   "version": "3.9.16"
  }
 },
 "nbformat": 4,
 "nbformat_minor": 5
}
