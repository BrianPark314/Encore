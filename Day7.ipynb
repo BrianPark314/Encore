{
 "cells": [
  {
   "cell_type": "code",
   "execution_count": 6,
   "id": "57cc7bd2-4c4b-4a3d-a36f-05803edb2451",
   "metadata": {},
   "outputs": [
    {
     "name": "stdout",
     "output_type": "stream",
     "text": [
      "{75, 45, 15, 90, 60, 30}\n"
     ]
    }
   ],
   "source": [
    "#연습문제\n",
    "set_3 = {x+1 for x in range(100) if (x+1)%3==0}\n",
    "set_5 = {x+1 for x in range(100) if (x+1)%5==0}\n",
    "\n",
    "result_set = set_3.intersection(set_5)\n",
    "print(result_set)"
   ]
  },
  {
   "cell_type": "code",
   "execution_count": 16,
   "id": "918cc02c-1298-4b76-bc2d-6242319f17ae",
   "metadata": {},
   "outputs": [
    {
     "name": "stdout",
     "output_type": "stream",
     "text": [
      "개인정보 조회, 구매 관리, 근태 관리, 시스템 관리, 인사 관리, 회계 관리\n"
     ]
    }
   ],
   "source": [
    "#연습문제\n",
    "role_admin = (\"회계 관리\", \"인사 관리\", \"구매 관리\", \"시스템 관리\")\n",
    "role_hr = (\"인사 관리\", \"개인정보 조회\", \"회계 관리\", \"근태 관리\")\n",
    "role_user = (\"개인정보 조회\", \"근태 관리\")\n",
    "\n",
    "res = role_admin + role_hr + role_user\n",
    "res = set(res)\n",
    "res = list(res)\n",
    "res.sort()\n",
    "print(\", \".join(res))"
   ]
  },
  {
   "cell_type": "code",
   "execution_count": 18,
   "id": "f900c931-092d-4823-a7d0-107909d6a2c5",
   "metadata": {},
   "outputs": [
    {
     "name": "stdout",
     "output_type": "stream",
     "text": [
      "80\n"
     ]
    }
   ],
   "source": [
    "#연습문제\n",
    "def plusTen(x):\n",
    "    return x+10\n",
    "print(plusTen(70))"
   ]
  },
  {
   "cell_type": "code",
   "execution_count": 19,
   "id": "6d501e53-0fb2-4d7d-ba78-b106c9094ab5",
   "metadata": {},
   "outputs": [
    {
     "data": {
      "text/plain": [
       "21.11111111111111"
      ]
     },
     "execution_count": 19,
     "metadata": {},
     "output_type": "execute_result"
    }
   ],
   "source": [
    "#연습문제\n",
    "def toCelsius(f):\n",
    "    \"\"\"Takes in Farenheit, returns Celcius\"\"\"\n",
    "    return (f-32)*5/9\n",
    "\n",
    "toCelsius(70)"
   ]
  },
  {
   "cell_type": "code",
   "execution_count": 21,
   "id": "4d8df12d-53b3-42ff-85d6-df46d57c2766",
   "metadata": {},
   "outputs": [],
   "source": [
    "#연습문제\n",
    "def oddEven(n):\n",
    "    \"\"\"number가 짝수면 \"짝수\", 홀수면 \"홀수\" 반환\"\"\"\n",
    "    if (type(n)==int and n<=0) or (type(n)!=int): #정수타입이지만 자연수가 아닌 경우와 정수타입이 아닌 경우 None 반환\n",
    "        return None\n",
    "    elif n%2==0: \n",
    "        return \"짝수\"\n",
    "    return \"홀수\""
   ]
  },
  {
   "cell_type": "code",
   "execution_count": 23,
   "id": "a3b89648-3f64-4d5c-8300-ded13c5a316a",
   "metadata": {},
   "outputs": [
    {
     "data": {
      "text/plain": [
       "'짝수'"
      ]
     },
     "execution_count": 23,
     "metadata": {},
     "output_type": "execute_result"
    }
   ],
   "source": [
    "oddEven(10)"
   ]
  },
  {
   "cell_type": "code",
   "execution_count": 27,
   "id": "5652203a-3de6-447d-a7d0-b9a77ff13227",
   "metadata": {},
   "outputs": [],
   "source": [
    "def odd_even(n):\n",
    "    if type(n) is int and n>0:\n",
    "        return \"짝수\" * (number%2==0) or \"홀수\"\n",
    "    return "
   ]
  },
  {
   "cell_type": "raw",
   "id": "9ae86134-1ebc-4891-bda8-a2156c15064e",
   "metadata": {},
   "source": [
    "isdecimal(), isnumerical(), isdigit() 활용 가능"
   ]
  },
  {
   "cell_type": "code",
   "execution_count": 31,
   "id": "392c7f3a-e335-4666-8927-1d1b83d02111",
   "metadata": {},
   "outputs": [],
   "source": [
    "def leap_year(year):\n",
    "    return '평년'*(year%4!=0 or (year%100==0 and year%400!=0)) or '윤년'"
   ]
  },
  {
   "cell_type": "code",
   "execution_count": 34,
   "id": "c6591ad8-3c9d-41ca-af0f-6a19cf59b5f1",
   "metadata": {},
   "outputs": [
    {
     "data": {
      "text/plain": [
       "'평년'"
      ]
     },
     "execution_count": 34,
     "metadata": {},
     "output_type": "execute_result"
    }
   ],
   "source": [
    "leap_year(1900)"
   ]
  },
  {
   "cell_type": "code",
   "execution_count": 35,
   "id": "d7d8cb95-96e7-4554-a2a6-dc0eddfcf2ae",
   "metadata": {},
   "outputs": [],
   "source": [
    "def days(m):\n",
    "    d30 = [4, 6, 9, 11]\n",
    "    if m==2:\n",
    "        return 28\n",
    "    elif m in d30:\n",
    "        return 30\n",
    "    return 31"
   ]
  },
  {
   "cell_type": "code",
   "execution_count": 38,
   "id": "672c3aa6-28b9-4713-b03f-6a9afcbdb41c",
   "metadata": {},
   "outputs": [
    {
     "data": {
      "text/plain": [
       "31"
      ]
     },
     "execution_count": 38,
     "metadata": {},
     "output_type": "execute_result"
    }
   ],
   "source": [
    "days(11)\n",
    "days(2)\n",
    "days(1)"
   ]
  },
  {
   "cell_type": "code",
   "execution_count": 41,
   "id": "5dfa9836-5b92-4d4f-aef1-9bc2a874abc2",
   "metadata": {},
   "outputs": [],
   "source": [
    "def days(y, m):\n",
    "    d30 = [4, 6, 9, 11]\n",
    "    if m==2:\n",
    "        return 28*(y%4!=0 or (y%100==0 and y%400!=0)) or 29\n",
    "    elif m in d30:\n",
    "        return 30\n",
    "    return 31"
   ]
  },
  {
   "cell_type": "code",
   "execution_count": 43,
   "id": "935141ed-f5ce-43e3-8df6-10fb1ff42ef2",
   "metadata": {},
   "outputs": [
    {
     "data": {
      "text/plain": [
       "29"
      ]
     },
     "execution_count": 43,
     "metadata": {},
     "output_type": "execute_result"
    }
   ],
   "source": [
    "days(2004, 2)"
   ]
  },
  {
   "cell_type": "raw",
   "id": "f6dc701e-9768-4f14-a928-9fcbb4b60147",
   "metadata": {},
   "source": [
    "제일 바깥 영역인 전역 변위(global scope)에서 변수를 선언하고 활용했다. 이를 global variable이라 한다.\n",
    "이에 반해 local scope에서 선언된 변수는 바깥에서 접근이 불가능하다. 즉 local variable은 변수가 선언된 함수 안에서만 접근 가능하다."
   ]
  },
  {
   "cell_type": "raw",
   "id": "1197a04f-2e68-499c-a6b2-c10f47f6cc64",
   "metadata": {},
   "source": [
    "lambda는 호출될 때 값이 구해지는 하나의 표현식이며, 이름이 없는 인라인 함수이다.\n",
    "lambda[parameters]:expression"
   ]
  },
  {
   "cell_type": "raw",
   "id": "42bf56ef-92f6-49c8-8417-989445f6d688",
   "metadata": {},
   "source": [
    "람다 표현식 전체를 소괄호로 감싸고 뒤에 함수를 호출하듯이 소괄호를 붙이면 바로 호출된다."
   ]
  },
  {
   "cell_type": "code",
   "execution_count": 46,
   "id": "2d1322ab-c2a0-4c67-bdce-e2357152dde0",
   "metadata": {},
   "outputs": [
    {
     "data": {
      "text/plain": [
       "11"
      ]
     },
     "execution_count": 46,
     "metadata": {},
     "output_type": "execute_result"
    }
   ],
   "source": [
    "(lambda x:x+10)(1)"
   ]
  },
  {
   "cell_type": "raw",
   "id": "75970137-2d46-449b-a215-8d30d0b1a74f",
   "metadata": {},
   "source": [
    "람다는 기본적으로 anonymous function이다. 변수에 할당에서 호출할 수 있으며 first-class object이다.\n",
    "expression 부분은 in-line이여야 하기 때문에 표현식 안에 새 변수를 만들 수 없다.\n",
    "inline if else와 활용하면 좋은데, 이때 항상 else까지 조건을 붙여줘야 한다.\n",
    "람다와 map()을 함께 사용할 땐 다음과 같이 쓴다.\n",
    "map(lambda parameter1, parameter2,... : expression, iterable1, iterable2, ...)"
   ]
  },
  {
   "cell_type": "code",
   "execution_count": 47,
   "id": "a8b801b4-22c4-43d8-abaa-a0ddee746963",
   "metadata": {},
   "outputs": [
    {
     "name": "stdout",
     "output_type": "stream",
     "text": [
      "[2, 8, 18, 32, 50]\n"
     ]
    }
   ],
   "source": [
    "a = [_ for _ in range(1, 6)]\n",
    "b = [_ for _ in range(2, 11, 2)]\n",
    "\n",
    "print(list(map(lambda x, y: x*y, a, b)))"
   ]
  },
  {
   "cell_type": "raw",
   "id": "f6113e19-69d8-41ce-b518-0e934003b6fe",
   "metadata": {},
   "source": [
    "람다와 filter()를 함께 사용할 땐 다음과 같이 표현한다. filter()는 첫인수로 들어가는 함수의 반환 값이 True일 때만 해당 요소를 가져온다.\n",
    "그러나 list comprehension으로도 똑같이 가능하며 속도와 가독성 모두 더 낫다.\n",
    "map(lambda parameter : expression, iterable)"
   ]
  },
  {
   "cell_type": "raw",
   "id": "dee79fc0-c09e-43a0-a06c-a161057137bf",
   "metadata": {},
   "source": [
    "Object Oriented Programming(OOP)는 복잡한 문제를 잘게 객체로 나누어 이를 조합해서 문제를 해결하는 방법이다.\n",
    "현실 세계의 복잡한 문제를 해결하는데 유용하며 기능을 개선하고 발전시킬 때도 해당 클래스만 수정하면 되므로 큰 프로젝트의 유지보수에도 매우 효율적이다.\n",
    "객체가 가진 데이터를 클래스의 속성(Attribute)이라 부르고 객체가 갖는 기능을 메서드(Method)라 부른다."
   ]
  },
  {
   "cell_type": "raw",
   "id": "95ad1bfe-4200-4392-a8ea-58788d61be7f",
   "metadata": {},
   "source": [
    "Class는 사용자 정의 객체를 만들기 위한 주형이다. 보통 클래스의 인스턴스를 대상으로 연산하는 메서드 정의를 포함하고 있다.\n",
    "\n",
    "class ClassName:\n",
    "    def methon_name(self):\n",
    "        method_body\n",
    "    \n",
    "    class_body\n",
    "    \n",
    "여기서 인스턴스는 특정 클래스로부터 만들어진 실체로, 부르는 구체적인 내용은 조금 달으지만 객체와 같은 말이다.\n",
    "인스턴스의 생성은 클래스명 오른편에 소괄호를 붙여서 만든다.\n",
    "\n",
    "instance_var = ClassName()\n",
    "\n",
    "Method는 클래스 바디 안에서 정의되는 함수이다. 클래스의 인스턴스의 attribute로써 호출되면, 그 메서드는 self를 먼저 reference 해야 한다."
   ]
  },
  {
   "cell_type": "code",
   "execution_count": 48,
   "id": "95358c67-62ba-4db3-9b55-0085be4cd5b2",
   "metadata": {},
   "outputs": [
    {
     "name": "stdout",
     "output_type": "stream",
     "text": [
      "안녕하세요.\n"
     ]
    }
   ],
   "source": [
    "class Person:\n",
    "    def __init__(self): #init 메서드 안에서 self.attribue에 값을 할당하면 된다.\n",
    "        self.hello = \"안녕하세요.\"\n",
    "        \n",
    "    def greeting(self):\n",
    "        print(self.hello)\n",
    "        \n",
    "james = Person()\n",
    "james.greeting()"
   ]
  },
  {
   "cell_type": "code",
   "execution_count": null,
   "id": "1fe5b1f8-03b2-4402-8ab5-af1a45740dd8",
   "metadata": {},
   "outputs": [],
   "source": []
  }
 ],
 "metadata": {
  "kernelspec": {
   "display_name": "Python 3 (ipykernel)",
   "language": "python",
   "name": "python3"
  },
  "language_info": {
   "codemirror_mode": {
    "name": "ipython",
    "version": 3
   },
   "file_extension": ".py",
   "mimetype": "text/x-python",
   "name": "python",
   "nbconvert_exporter": "python",
   "pygments_lexer": "ipython3",
   "version": "3.9.16"
  }
 },
 "nbformat": 4,
 "nbformat_minor": 5
}
