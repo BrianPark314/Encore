{
 "cells": [
  {
   "cell_type": "markdown",
   "id": "30e13dee-d93f-4f3c-914d-f6a317df7bc1",
   "metadata": {},
   "source": [
    "# 문제\n",
    "N개의 수로 이루어진 수열 A1, A2, ..., AN이 주어진다. 또, 수와 수 사이에 끼워넣을 수 있는 N-1개의 연산자가 주어진다. 연산자는 덧셈(+), 뺄셈(-), 곱셈(×), 나눗셈(÷)으로만 이루어져 있다.\n",
    "\n",
    "우리는 수와 수 사이에 연산자를 하나씩 넣어서, 수식을 하나 만들 수 있다. 이때, 주어진 수의 순서를 바꾸면 안 된다.\n",
    "\n",
    "예를 들어, 6개의 수로 이루어진 수열이 1, 2, 3, 4, 5, 6이고, 주어진 연산자가 덧셈(+) 2개, 뺄셈(-) 1개, 곱셈(×) 1개, 나눗셈(÷) 1개인 경우에는 총 60가지의 식을 만들 수 있다. 예를 들어, 아래와 같은 식을 만들 수 있다.\n",
    "\n",
    "- 1+2+3-4×5÷6\n",
    "- 1÷2+3+4-5×6\n",
    "- 1+2÷3×4-5+6\n",
    "- 1÷2×3-4+5+6\n",
    ">식의 계산은 연산자 우선 순위를 무시하고 앞에서부터 진행해야 한다. 또, 나눗셈은 정수 나눗셈으로 몫만 취한다. 음수를 양수로 나눌 때는 C++14의 기준을 따른다. 즉, 양수로 바꾼 뒤 몫을 취하고, 그 몫을 음수로 바꾼 것과 같다. 이에 따라서, 위의 식 4개의 결과를 계산해보면 아래와 같다.\n",
    "\n",
    "- 1+2+3-4×5÷6 = 1\n",
    "- 1÷2+3+4-5×6 = 12\n",
    "- 1+2÷3×4-5+6 = 5\n",
    "- 1÷2×3-4+5+6 = 7\n",
    "> N개의 수와 N-1개의 연산자가 주어졌을 때, 만들 수 있는 식의 결과가 최대인 것과 최소인 것을 구하는 프로그램을 작성하시오.\n",
    "\n",
    "# 입력\n",
    "첫째 줄에 수의 개수 N(2 ≤ N ≤ 11)가 주어진다. 둘째 줄에는 A1, A2, ..., AN이 주어진다. (1 ≤ Ai ≤ 100) 셋째 줄에는 합이 N-1인 4개의 정수가 주어지는데, 차례대로 덧셈(+)의 개수, 뺄셈(-)의 개수, 곱셈(×)의 개수, 나눗셈(÷)의 개수이다. \n",
    "\n",
    "# 출력\n",
    "첫째 줄에 만들 수 있는 식의 결과의 최댓값을, 둘째 줄에는 최솟값을 출력한다. 연산자를 어떻게 끼워넣어도 항상 -10억보다 크거나 같고, 10억보다 작거나 같은 결과가 나오는 입력만 주어진다. 또한, 앞에서부터 계산했을 때, 중간에 계산되는 식의 결과도 항상 -10억보다 크거나 같고, 10억보다 작거나 같다.\n",
    "\n",
    "# 풀이"
   ]
  },
  {
   "cell_type": "code",
   "execution_count": 24,
   "id": "fefeba54-284e-47f8-b155-0146a4538177",
   "metadata": {},
   "outputs": [
    {
     "name": "stdin",
     "output_type": "stream",
     "text": [
      " 6\n",
      " 1 2 3 4 5 6\n",
      " 2 1 1 1\n"
     ]
    },
    {
     "name": "stdout",
     "output_type": "stream",
     "text": [
      "54\n",
      "-24\n"
     ]
    }
   ],
   "source": [
    "import sys\n",
    "from collections import deque as deq\n",
    "from itertools import permutations\n",
    "#입력\n",
    "N = int(input())\n",
    "numbers = list(map(int, (input().split(' '))))\n",
    "operators = list(map(int, (input().split(' '))))\n",
    "l = ['+', '-', '*', '/']\n",
    "#모든 연산기호 순서가 담긴 문자열 생성\n",
    "\n",
    "x = ''.join([l[i]*operators[i] for i in range(len(operators)) if l[i]*operators[i] != ''])\n",
    "k = [''.join(permutation) for permutation in list(permutations(x))]\n",
    "k = list(set(k))\n",
    "\n",
    "v = []\n",
    "for s in k:\n",
    "    a = numbers[0]\n",
    "    for i in range(len(s)):\n",
    "        if s[i]=='+':\n",
    "            a += numbers[i+1]\n",
    "        elif s[i]=='-':\n",
    "            a -= numbers[i+1]\n",
    "        elif s[i]=='*':\n",
    "            a *= numbers[i+1]\n",
    "        else:\n",
    "            if a>=0:\n",
    "                a = int(a/numbers[i+1])\n",
    "            else:\n",
    "                a = -int(-a/numbers[i+1])\n",
    "    v.append(a)\n",
    "print(max(v))\n",
    "print(min(v))"
   ]
  },
  {
   "cell_type": "code",
   "execution_count": 21,
   "id": "315c9a68-bd01-4f3b-940d-ab898b3f7d2f",
   "metadata": {},
   "outputs": [
    {
     "data": {
      "text/plain": [
       "60"
      ]
     },
     "execution_count": 21,
     "metadata": {},
     "output_type": "execute_result"
    }
   ],
   "source": [
    "len(k)"
   ]
  },
  {
   "cell_type": "markdown",
   "id": "8461caba-0071-46c7-9137-901da203dcc3",
   "metadata": {},
   "source": [
    "6\n",
    "1 2 3 4 5 6\n",
    "2 1 1 1"
   ]
  }
 ],
 "metadata": {
  "kernelspec": {
   "display_name": "Python 3 (ipykernel)",
   "language": "python",
   "name": "python3"
  },
  "language_info": {
   "codemirror_mode": {
    "name": "ipython",
    "version": 3
   },
   "file_extension": ".py",
   "mimetype": "text/x-python",
   "name": "python",
   "nbconvert_exporter": "python",
   "pygments_lexer": "ipython3",
   "version": "3.9.16"
  }
 },
 "nbformat": 4,
 "nbformat_minor": 5
}
