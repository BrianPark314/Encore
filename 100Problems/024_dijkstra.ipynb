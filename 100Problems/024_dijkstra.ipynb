{
 "cells": [
  {
   "cell_type": "markdown",
   "id": "24389aec-7934-4be2-8dce-2075b6b3c846",
   "metadata": {},
   "source": [
    "# 문제\n",
    "방향그래프가 주어지면 주어진 시작점에서 다른 모든 정점으로의 최단 경로를 구하는 프로그램을 작성하시오. 단, 모든 간선의 가중치는 10 이하의 자연수이다.\n",
    "\n",
    "# 입력\n",
    "첫째 줄에 정점의 개수 V와 간선의 개수 E가 주어진다. (1 ≤ V ≤ 20,000, 1 ≤ E ≤ 300,000) 모든 정점에는 1부터 V까지 번호가 매겨져 있다고 가정한다. 둘째 줄에는 시작 정점의 번호 K(1 ≤ K ≤ V)가 주어진다. 셋째 줄부터 E개의 줄에 걸쳐 각 간선을 나타내는 세 개의 정수 (u, v, w)가 순서대로 주어진다. 이는 u에서 v로 가는 가중치 w인 간선이 존재한다는 뜻이다. u와 v는 서로 다르며 w는 10 이하의 자연수이다. 서로 다른 두 정점 사이에 여러 개의 간선이 존재할 수도 있음에 유의한다.\n",
    "\n",
    "# 출력\n",
    "첫째 줄부터 V개의 줄에 걸쳐, i번째 줄에 i번 정점으로의 최단 경로의 경로값을 출력한다. 시작점 자신은 0으로 출력하고, 경로가 존재하지 않는 경우에는 INF를 출력하면 된다."
   ]
  },
  {
   "cell_type": "markdown",
   "id": "8a1c8863-9890-4599-851b-da6d2a389964",
   "metadata": {},
   "source": [
    "# Dijkstra Algorithm\n",
    "\n",
    "Dijkstra's algorithm (/ˈdaɪkstrəz/ DYKE-strəz) is an algorithm for finding the shortest paths between nodes in a weighted graph, which may represent, for example, road networks. It was conceived by computer scientist Edsger W. Dijkstra in 1956 and published three years later.\n",
    "\n",
    "Let the node at which we are starting be called the initial node. Let the distance of node Y be the distance from the initial node to Y. Dijkstra's algorithm will initially start with infinite distances and will try to improve them step by step.\n",
    "\n",
    "1. Mark all nodes unvisited. Create a set of all the unvisited nodes called the unvisited set.\n",
    "2.  Assign to every node a tentative distance value: set it to zero for our initial node and to infinity for all other nodes. - During the run of the algorithm, the tentative distance of a node v is the length of the shortest path discovered so far between the node v and the starting node. Since initially no path is known to any other vertex than the source itself (which is a path of length zero), all other tentative distances are initially set to infinity. Set the initial node as current. \n",
    "3. For the current node, consider all of its unvisited neighbors and calculate their tentative distances through the current node. Compare the newly calculated tentative distance to the one currently assigned to the neighbor and assign it the smaller one. For example, if the current node A is marked with a distance of 6, and the edge connecting it with a neighbor B has length 2, then the distance to B through A will be 6 + 2 = 8. If B was previously marked with a distance greater than 8 then change it to 8. Otherwise, the current value will be kept.\n",
    "4. When we are done considering all of the unvisited neighbors of the current node, mark the current node as visited and remove it from the unvisited set. A visited node will never be checked again (this is valid and optimal in connection with the behavior in step 6.: that the next nodes to visit will always be in the order of 'smallest distance from initial node first' so any visits after would have a greater distance).\n",
    "5. If the destination node has been marked visited (when planning a route between two specific nodes) or if the smallest tentative distance among the nodes in the unvisited set is infinity (when planning a complete traversal; occurs when there is no connection between the initial node and remaining unvisited nodes), then stop. The algorithm has finished.\n",
    "6. Otherwise, select the unvisited node that is marked with the smallest tentative distance, set it as the new current node, and go back to step 3.\n",
    "\n",
    "# 풀이"
   ]
  },
  {
   "cell_type": "markdown",
   "id": "dbc901cd-c28d-4fdd-bf58-aedf4f80b434",
   "metadata": {},
   "source": [
    "- Steps for recursion\n",
    "\n",
    "1. If the current step of the algorithm is the solution to the problem, return the result.\n",
    "2. If the current step is not a solution, see if there are other places to go from here.\n",
    "3. If there are remaining places to go, choose one and go there to see if it’s a solution.\n",
    "4. If out of places to go — backtrack."
   ]
  },
  {
   "cell_type": "code",
   "execution_count": 9,
   "id": "8a820993-7677-48a9-833b-c13f83c6bdad",
   "metadata": {},
   "outputs": [
    {
     "name": "stdin",
     "output_type": "stream",
     "text": [
      " 5 6\n"
     ]
    }
   ],
   "source": [
    "V, E = list(map(int, input().split(' ')))"
   ]
  },
  {
   "cell_type": "code",
   "execution_count": 10,
   "id": "2cbc0290-7422-479b-bd98-b615c2d14224",
   "metadata": {},
   "outputs": [
    {
     "name": "stdin",
     "output_type": "stream",
     "text": [
      " 1\n"
     ]
    }
   ],
   "source": [
    "s = int(input())"
   ]
  },
  {
   "cell_type": "code",
   "execution_count": 18,
   "id": "b3df0b76-dabb-403a-9121-abb1fa85f728",
   "metadata": {},
   "outputs": [
    {
     "name": "stdin",
     "output_type": "stream",
     "text": [
      " 5 1 1\n",
      " 1 2 2\n",
      " 1 3 3\n",
      " 2 3 4\n",
      " 2 4 5\n",
      " 3 4 6\n"
     ]
    }
   ],
   "source": [
    "d = [[0 for _ in range(V+1)] for _ in range(V+1)]\n",
    "g = []\n",
    "adj = [[] for _ in range(V+1)]\n",
    "for i in range(E):\n",
    "    u, v, w = list(map(int, input().split(' ')))\n",
    "    if d[u][v] == 0:\n",
    "        d[u][v] = w\n",
    "        d[v][u] = w\n",
    "    elif d[u][v] > w:\n",
    "        d[u][v] = w\n",
    "        d[v][u] = w\n",
    "    g.append([u, v])\n",
    "\n",
    "for a, b in g: #양방향 연결상태 입력\n",
    "    adj[a].append(b)\n",
    "    adj[b].append(a)"
   ]
  },
  {
   "cell_type": "code",
   "execution_count": 19,
   "id": "46a12761-ad22-42f9-9905-9fdd5a032f87",
   "metadata": {},
   "outputs": [
    {
     "name": "stdout",
     "output_type": "stream",
     "text": [
      "[[], [5, 2, 3], [1, 3, 4], [1, 2, 4], [2, 3], [1]]\n"
     ]
    }
   ],
   "source": [
    "print(adj)"
   ]
  },
  {
   "cell_type": "code",
   "execution_count": 22,
   "id": "52d38bcf-c040-44cc-9430-7da402804f2e",
   "metadata": {},
   "outputs": [
    {
     "data": {
      "text/plain": [
       "[1, 5, 2, 3, 4]"
      ]
     },
     "execution_count": 22,
     "metadata": {},
     "output_type": "execute_result"
    }
   ],
   "source": [
    "dist = [0 for _ in range(V+1)]\n",
    "# BFS를 살짝 변경하면 다익스트라가 된다.\n",
    "def dijkstra(graph, start, visited = None):\n",
    "    if not visited:\n",
    "        visited=[]\n",
    "## 데이터를 추가하는 명령어 / 재귀가 이루어짐 \n",
    "    visited.append(start) #시작점 추가\n",
    "\n",
    "    for node in graph[start]:\n",
    "        if node not in visited: #노드 방문을 하지 않았으면\n",
    "            dijkstra(graph, node, visited)\n",
    "    return visited\n",
    "dijkstra(adj, s)"
   ]
  },
  {
   "cell_type": "code",
   "execution_count": null,
   "id": "5240aa27-8968-4707-a72a-2435bc8d8445",
   "metadata": {},
   "outputs": [],
   "source": [
    "5 6\n",
    "1\n",
    "5 1 1\n",
    "1 2 2\n",
    "1 3 3\n",
    "2 3 4\n",
    "2 4 5\n",
    "3 4 6"
   ]
  },
  {
   "cell_type": "code",
   "execution_count": null,
   "id": "d2a61244-1b6a-45c0-9b6f-a6a886a059a1",
   "metadata": {},
   "outputs": [],
   "source": [
    "import sys\n",
    "import heapq\n",
    "\n",
    "input = sys.stdin.readline\n",
    "INF = sys.maxsize\n",
    "V, E = map(int, input().split())\n",
    "#시작점 K\n",
    "K = int(input())\n",
    "#가중치 테이블 dp\n",
    "dp = [INF]*(V+1)\n",
    "heap = []\n",
    "graph = [[] for _ in range(V + 1)]\n",
    "\n",
    "def Dijkstra(start):\n",
    "    #가중치 테이블에서 시작 정점에 해당하는 가중치는 0으로 초기화\n",
    "    dp[start] = 0\n",
    "    heapq.heappush(heap,(0, start))\n",
    "\n",
    "    #힙에 원소가 없을 때 까지 반복.\n",
    "    while heap:\n",
    "        wei, now = heapq.heappop(heap)\n",
    "\n",
    "        #현재 테이블과 비교하여 불필요한(더 가중치가 큰) 튜플이면 무시.\n",
    "        if dp[now] < wei:\n",
    "            continue\n",
    "\n",
    "        for w, next_node in graph[now]:\n",
    "            #현재 정점 까지의 가중치 wei + 현재 정점에서 다음 정점(next_node)까지의 가중치 W\n",
    "            # = 다음 노드까지의 가중치(next_wei)\n",
    "            next_wei = w + wei\n",
    "            #다음 노드까지의 가중치(next_wei)가 현재 기록된 값 보다 작으면 조건 성립.\n",
    "            if next_wei < dp[next_node]:\n",
    "                #계산했던 next_wei를 가중치 테이블에 업데이트.\n",
    "                dp[next_node] = next_wei\n",
    "                #다음 점 까지의 가증치와 다음 점에 대한 정보를 튜플로 묶어 최소 힙에 삽입.\n",
    "                heapq.heappush(heap,(next_wei,next_node))\n",
    "\n",
    "#초기화\n",
    "for _ in range(E):\n",
    "    u, v, w = map(int, input().split())\n",
    "    #(가중치, 목적지 노드) 형태로 저장\n",
    "    graph[u].append((w, v))\n",
    "\n",
    "\n",
    "Dijkstra(K)\n",
    "for i in range(1,V+1):\n",
    "    print(\"INF\" if dp[i] == INF else dp[i])"
   ]
  }
 ],
 "metadata": {
  "kernelspec": {
   "display_name": "Python 3 (ipykernel)",
   "language": "python",
   "name": "python3"
  },
  "language_info": {
   "codemirror_mode": {
    "name": "ipython",
    "version": 3
   },
   "file_extension": ".py",
   "mimetype": "text/x-python",
   "name": "python",
   "nbconvert_exporter": "python",
   "pygments_lexer": "ipython3",
   "version": "3.9.16"
  }
 },
 "nbformat": 4,
 "nbformat_minor": 5
}
