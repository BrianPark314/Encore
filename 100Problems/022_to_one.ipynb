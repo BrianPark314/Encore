{
 "cells": [
  {
   "cell_type": "markdown",
   "id": "a386aae0-82e4-4bdf-8391-174a8e474dbf",
   "metadata": {},
   "source": [
    "# 문제\n",
    "정수 X에 사용할 수 있는 연산은 다음과 같이 세 가지 이다.\n",
    "\n",
    "X가 3으로 나누어 떨어지면, 3으로 나눈다.\n",
    "X가 2로 나누어 떨어지면, 2로 나눈다.\n",
    "1을 뺀다.\n",
    "정수 N이 주어졌을 때, 위와 같은 연산 세 개를 적절히 사용해서 1을 만들려고 한다. 연산을 사용하는 횟수의 최솟값을 출력하시오.\n",
    "\n",
    "# 입력\n",
    "첫째 줄에 1보다 크거나 같고, 106보다 작거나 같은 정수 N이 주어진다.\n",
    "\n",
    "# 출력\n",
    "첫째 줄에 연산을 하는 횟수의 최솟값을 출력한다.\n",
    "\n",
    "# 풀이"
   ]
  },
  {
   "cell_type": "code",
   "execution_count": 7,
   "id": "30bda51b-b579-43ab-90f2-883c046c6a41",
   "metadata": {},
   "outputs": [
    {
     "name": "stdin",
     "output_type": "stream",
     "text": [
      " 10\n"
     ]
    },
    {
     "name": "stdout",
     "output_type": "stream",
     "text": [
      "3\n"
     ]
    }
   ],
   "source": [
    "from collections import deque\n",
    "x=int(input())\n",
    "Q=deque([x])\n",
    "visited=[0]*(x+1)\n",
    "while Q:\n",
    "    c=Q.popleft()\n",
    "    if c==1:\n",
    "        break\n",
    "    if c%3==0 and visited[c//3]==0:\n",
    "        Q.append(c//3)\n",
    "        visited[c//3]=visited[c]+1\n",
    "    if c%2==0 and visited[c//2]==0:\n",
    "        Q.append(c//2)\n",
    "        visited[c//2]=visited[c]+1\n",
    "    if visited[c-1]==0:\n",
    "        Q.append(c-1)\n",
    "        visited[c-1]=visited[c]+1\n",
    "print(visited[1])"
   ]
  },
  {
   "cell_type": "code",
   "execution_count": null,
   "id": "6ed87632-9b2b-4492-aad2-2a607cfe49c5",
   "metadata": {},
   "outputs": [],
   "source": [
    "x=int(input()) # 수 입력받기\n",
    "d=[0]*(x+1) # 1-based\n",
    "for i in range(2,x+1): # 2부터 x까지 반복\n",
    "    d[i]=d[i-1]+1 # 1을 빼는 연산 -> 1회 진행\n",
    "    if i%2==0: # 2로 나누어 떨어질 때, 2로 나누는 연산\n",
    "        d[i]=min(d[i],d[i//2]+1)\n",
    "    if i%3==0: # 3으로 나누어 떨어질 때, 3으로 나누는 연산\n",
    "        d[i]=min(d[i],d[i//3]+1)\n",
    "print(d[x])"
   ]
  },
  {
   "cell_type": "code",
   "execution_count": null,
   "id": "aad369de-3fa5-41e7-9eb1-97012017cece",
   "metadata": {},
   "outputs": [],
   "source": [
    "x=int(input())\n",
    "dp={1:0}\n",
    "def rec(n):\n",
    "    if n in dp.keys():\n",
    "        return dp[n]\n",
    "    if (n%3==0) and (n%2==0):\n",
    "        dp[n]=min(rec(n//3)+1, rec(n//2)+1)\n",
    "    elif n%3==0:\n",
    "        dp[n]=min(rec(n//3)+1, rec(n-1)+1)\n",
    "    elif n%2==0:\n",
    "        dp[n]=min(rec(n//2)+1, rec(n-1)+1)\n",
    "    else:\n",
    "        dp[n]=rec(n-1)+1\n",
    "    return dp[n]\n",
    "print(rec(x))"
   ]
  }
 ],
 "metadata": {
  "kernelspec": {
   "display_name": "Python 3 (ipykernel)",
   "language": "python",
   "name": "python3"
  },
  "language_info": {
   "codemirror_mode": {
    "name": "ipython",
    "version": 3
   },
   "file_extension": ".py",
   "mimetype": "text/x-python",
   "name": "python",
   "nbconvert_exporter": "python",
   "pygments_lexer": "ipython3",
   "version": "3.9.16"
  }
 },
 "nbformat": 4,
 "nbformat_minor": 5
}
