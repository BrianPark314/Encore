{
 "cells": [
  {
   "cell_type": "markdown",
   "id": "0becbf82-bbac-49db-a6a0-421a16cad2c9",
   "metadata": {},
   "source": [
    "# 문제\n",
    "\n",
    "0보다 크거나 같은 정수 N이 주어진다. 이때, N!을 출력하는 프로그램을 작성하시오.\n",
    "\n"
   ]
  },
  {
   "cell_type": "code",
   "execution_count": 19,
   "id": "43be6065-cf96-4c77-ab43-6b0b98fa49b4",
   "metadata": {},
   "outputs": [
    {
     "name": "stdin",
     "output_type": "stream",
     "text": [
      " 12\n"
     ]
    },
    {
     "data": {
      "text/plain": [
       "479001600"
      ]
     },
     "execution_count": 19,
     "metadata": {},
     "output_type": "execute_result"
    }
   ],
   "source": [
    "import sys\n",
    "\n",
    "N =  int(input().strip())\n",
    "a=1\n",
    "def factorial(a, n):\n",
    "    if n==0:\n",
    "        return 1\n",
    "    if n==1:\n",
    "        return a\n",
    "    a = a*n\n",
    "    return factorial(a, (n-1))\n",
    "\n",
    "factorial(a, N)"
   ]
  },
  {
   "cell_type": "code",
   "execution_count": null,
   "id": "9ab25cf1-30ea-49b1-82d4-89ed7cd31a9b",
   "metadata": {},
   "outputs": [],
   "source": []
  }
 ],
 "metadata": {
  "kernelspec": {
   "display_name": "Python 3 (ipykernel)",
   "language": "python",
   "name": "python3"
  },
  "language_info": {
   "codemirror_mode": {
    "name": "ipython",
    "version": 3
   },
   "file_extension": ".py",
   "mimetype": "text/x-python",
   "name": "python",
   "nbconvert_exporter": "python",
   "pygments_lexer": "ipython3",
   "version": "3.9.16"
  }
 },
 "nbformat": 4,
 "nbformat_minor": 5
}
