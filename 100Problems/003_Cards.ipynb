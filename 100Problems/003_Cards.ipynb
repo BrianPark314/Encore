{
 "cells": [
  {
   "cell_type": "markdown",
   "id": "e8fb7d7f-1c8c-43bb-a4ee-1c7ceaec7810",
   "metadata": {},
   "source": [
    "*문제\n",
    "\n",
    "N장의 카드가 있다. 각각의 카드는 차례로 1부터 N까지의 번호가 붙어 있으며, 1번 카드가 제일 위에, N번 카드가 제일 아래인 상태로 순서대로 카드가 놓여 있다.\n",
    "\n",
    "이제 다음과 같은 동작을 카드가 한 장 남을 때까지 반복하게 된다. 우선, 제일 위에 있는 카드를 바닥에 버린다. 그 다음, 제일 위에 있는 카드를 제일 아래에 있는 카드 밑으로 옮긴다.\n",
    "\n",
    "예를 들어 N=4인 경우를 생각해 보자. 카드는 제일 위에서부터 1234 의 순서로 놓여있다. 1을 버리면 234가 남는다. 여기서 2를 제일 아래로 옮기면 342가 된다. 3을 버리면 42가 되고, 4를 밑으로 옮기면 24가 된다. 마지막으로 2를 버리고 나면, 남는 카드는 4가 된다.\n",
    "\n",
    "N이 주어졌을 때, 제일 마지막에 남게 되는 카드를 구하는 프로그램을 작성하시오.\n",
    "\n",
    "*입력\n",
    "\n",
    "첫째 줄에 정수 N(1 ≤ N ≤ 500,000)이 주어진다.\n",
    "\n",
    "*출력\n",
    "\n",
    "첫째 줄에 남게 되는 카드의 번호를 출력한다."
   ]
  },
  {
   "cell_type": "code",
   "execution_count": null,
   "id": "1611b962-096d-4653-9f98-15b1792a4b7b",
   "metadata": {},
   "outputs": [],
   "source": [
    "import sys\n",
    "from collections import deque as deq\n",
    "N = int(sys.stdin.readline())\n",
    "k = deq(range(1,N+1))\n",
    "def cards(k):\n",
    "    while(len(k)>1):\n",
    "        k.popleft()\n",
    "        #print(k)\n",
    "        a = k.popleft()\n",
    "        k.append(a)\n",
    "        #print(k)\n",
    "        if len(k)==1:\n",
    "            return k[0]\n",
    "    return k[0]\n",
    "print(cards(k))"
   ]
  },
  {
   "cell_type": "code",
   "execution_count": null,
   "id": "fc26e9d7-7101-4d75-ba9a-1b89415be47b",
   "metadata": {},
   "outputs": [],
   "source": []
  }
 ],
 "metadata": {
  "kernelspec": {
   "display_name": "Python 3 (ipykernel)",
   "language": "python",
   "name": "python3"
  },
  "language_info": {
   "codemirror_mode": {
    "name": "ipython",
    "version": 3
   },
   "file_extension": ".py",
   "mimetype": "text/x-python",
   "name": "python",
   "nbconvert_exporter": "python",
   "pygments_lexer": "ipython3",
   "version": "3.9.16"
  }
 },
 "nbformat": 4,
 "nbformat_minor": 5
}
