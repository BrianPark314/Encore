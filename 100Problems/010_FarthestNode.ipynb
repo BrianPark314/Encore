{
 "cells": [
  {
   "cell_type": "markdown",
   "id": "efcfa357-617f-4575-be37-9cbe02ddaa0c",
   "metadata": {},
   "source": [
    "# 문제 설명\n",
    "n개의 노드가 있는 그래프가 있습니다. 각 노드는 1부터 n까지 번호가 적혀있습니다. 1번 노드에서 가장 멀리 떨어진 노드의 갯수를 구하려고 합니다. 가장 멀리 떨어진 노드란 최단경로로 이동했을 때 간선의 개수가 가장 많은 노드들을 의미합니다.\n",
    "\n",
    "노드의 개수 n, 간선에 대한 정보가 담긴 2차원 배열 vertex가 매개변수로 주어질 때, 1번 노드로부터 가장 멀리 떨어진 노드가 몇 개인지를 return 하도록 solution 함수를 작성해주세요.\n",
    "\n",
    "# 제한사항\n",
    "노드의 개수 n은 2 이상 20,000 이하입니다.\n",
    "간선은 양방향이며 총 1개 이상 50,000개 이하의 간선이 있습니다.\n",
    "vertex 배열 각 행 [a, b]는 a번 노드와 b번 노드 사이에 간선이 있다는 의미입니다.\n",
    "# 입출력 예\n",
    "n\tvertex\treturn\n",
    "6\t[[3, 6], [4, 3], [3, 2], [1, 3], [1, 2], [2, 4], [5, 2]]\t3\n",
    "# 풀이"
   ]
  },
  {
   "cell_type": "code",
   "execution_count": null,
   "id": "671324b3-321b-4b12-9596-2022b8ce890f",
   "metadata": {},
   "outputs": [],
   "source": []
  }
 ],
 "metadata": {
  "kernelspec": {
   "display_name": "Python 3 (ipykernel)",
   "language": "python",
   "name": "python3"
  },
  "language_info": {
   "codemirror_mode": {
    "name": "ipython",
    "version": 3
   },
   "file_extension": ".py",
   "mimetype": "text/x-python",
   "name": "python",
   "nbconvert_exporter": "python",
   "pygments_lexer": "ipython3",
   "version": "3.9.16"
  }
 },
 "nbformat": 4,
 "nbformat_minor": 5
}
