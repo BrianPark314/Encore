{
 "cells": [
  {
   "cell_type": "markdown",
   "id": "fbb9ece6-9ef9-4462-88cd-a69dc4da88e6",
   "metadata": {},
   "source": [
    "# 문제\n",
    "숫자 카드는 정수 하나가 적혀져 있는 카드이다. 상근이는 숫자 카드 N개를 가지고 있다. 정수 M개가 주어졌을 때, 이 수가 적혀있는 숫자 카드를 상근이가 몇 개 가지고 있는지 구하는 프로그램을 작성하시오.\n",
    "\n",
    "# 입력\n",
    "첫째 줄에 상근이가 가지고 있는 숫자 카드의 개수 N(1 ≤ N ≤ 500,000)이 주어진다. 둘째 줄에는 숫자 카드에 적혀있는 정수가 주어진다. 숫자 카드에 적혀있는 수는 -10,000,000보다 크거나 같고, 10,000,000보다 작거나 같다.\n",
    "\n",
    "셋째 줄에는 M(1 ≤ M ≤ 500,000)이 주어진다. 넷째 줄에는 상근이가 몇 개 가지고 있는 숫자 카드인지 구해야 할 M개의 정수가 주어지며, 이 수는 공백으로 구분되어져 있다. 이 수도 -10,000,000보다 크거나 같고, 10,000,000보다 작거나 같다.\n",
    "\n",
    "# 출력\n",
    "첫째 줄에 입력으로 주어진 M개의 수에 대해서, 각 수가 적힌 숫자 카드를 상근이가 몇 개 가지고 있는지를 공백으로 구분해 출력한다.\n",
    "\n",
    "# 풀이"
   ]
  },
  {
   "cell_type": "code",
   "execution_count": 1,
   "id": "f686b57c-bfc6-4103-8784-dd60b7ce44af",
   "metadata": {},
   "outputs": [
    {
     "name": "stdin",
     "output_type": "stream",
     "text": [
      " 10\n",
      " 6 3 2 10 10 10 -10 -10 7 3\n",
      " 8\n",
      " 10 9 -5 2 3 4 5 -10\n"
     ]
    }
   ],
   "source": [
    "import sys\n",
    "from collections import Counter\n",
    "\n",
    "N = int(input())\n",
    "cards = list(map(int, sys.stdin.readline().split(' ')))\n",
    "M = int(input())\n",
    "find = list(map(int, sys.stdin.readline().split(' ')))\n",
    "answer = [0]*M\n",
    "#count 사용 시 시간복잡도 이슈로 시간 초과\n",
    "#Counter 함수 이용해서 딕셔너리 변환이 훨씬 빠름\n",
    "dic = Counter(cards)\n",
    "\n",
    "for i, x in enumerate(find):\n",
    "    if x in dic.keys():\n",
    "        print(dic[x], end=' ')\n",
    "    else:\n",
    "        print(0, end=' ')"
   ]
  },
  {
   "cell_type": "code",
   "execution_count": 7,
   "id": "8d4a79e9-3f1b-4a9d-8006-b2b2b444bec0",
   "metadata": {},
   "outputs": [
    {
     "name": "stdout",
     "output_type": "stream",
     "text": [
      "Counter({10: 3, 3: 2, -10: 2, 6: 1, 2: 1, 7: 1})\n",
      "3 0 0 1 2 0 0 2 "
     ]
    }
   ],
   "source": [
    "from collections import Counter\n",
    "dic = Counter(cards)\n",
    "print(dic)\n",
    "\n",
    "for i, x in enumerate(find):\n",
    "    if x in dic.keys():\n",
    "        print(dic[x], end=' ')\n",
    "    else:\n",
    "        print(0, end=' ')\n"
   ]
  },
  {
   "cell_type": "code",
   "execution_count": null,
   "id": "485b5b15-5798-4eec-87ec-0618454242ed",
   "metadata": {},
   "outputs": [],
   "source": [
    "10\n",
    "6 3 2 10 10 10 -10 -10 7 3\n",
    "8\n",
    "10 9 -5 2 3 4 5 -10"
   ]
  }
 ],
 "metadata": {
  "kernelspec": {
   "display_name": "Python 3 (ipykernel)",
   "language": "python",
   "name": "python3"
  },
  "language_info": {
   "codemirror_mode": {
    "name": "ipython",
    "version": 3
   },
   "file_extension": ".py",
   "mimetype": "text/x-python",
   "name": "python",
   "nbconvert_exporter": "python",
   "pygments_lexer": "ipython3",
   "version": "3.8.16"
  }
 },
 "nbformat": 4,
 "nbformat_minor": 5
}
