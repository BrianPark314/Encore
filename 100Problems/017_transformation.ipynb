{
 "cells": [
  {
   "cell_type": "markdown",
   "id": "8c3f86c3-0f38-4ce1-8151-0d9c4790c026",
   "metadata": {},
   "source": [
    "# 문제\n",
    "B진법 수 N이 주어진다. 이 수를 10진법으로 바꿔 출력하는 프로그램을 작성하시오.\n",
    "\n",
    "10진법을 넘어가는 진법은 숫자로 표시할 수 없는 자리가 있다. 이런 경우에는 다음과 같이 알파벳 대문자를 사용한다.\n",
    "\n",
    "A: 10, B: 11, ..., F: 15, ..., Y: 34, Z: 35\n",
    "\n",
    "# 입력\n",
    "첫째 줄에 N과 B가 주어진다. (2 ≤ B ≤ 36)\n",
    "\n",
    "B진법 수 N을 10진법으로 바꾸면, 항상 10억보다 작거나 같다.\n",
    "\n",
    "# 출력\n",
    "첫째 줄에 B진법 수 N을 10진법으로 출력한다.\n",
    "\n",
    "# 풀이"
   ]
  },
  {
   "cell_type": "code",
   "execution_count": 15,
   "id": "72a4db6c-1590-4116-ade6-6a5caf7f61a1",
   "metadata": {},
   "outputs": [
    {
     "name": "stdin",
     "output_type": "stream",
     "text": [
      " 12345 10\n"
     ]
    },
    {
     "name": "stdout",
     "output_type": "stream",
     "text": [
      "12345\n"
     ]
    }
   ],
   "source": [
    "l, k = input().split(' ')\n",
    "d = {'0':0, '1':1, '2':2, '3': 3, '4':4, '5':5, '6':6, '7':7, '8':8, '9':9,\n",
    "    'A':10, 'B':11, 'C':12, 'D':13, 'E':14, 'F':15, 'G':16, 'H':17, 'I':18, 'J':19, 'K':20,\n",
    "    'L':21, 'M':22, 'N':23, 'O':24, 'P':25, 'Q':26, 'R':27, 'S':28, 'T':29, 'U':30,\n",
    "    'V':31, 'W':32, 'X':33, 'Y':34, 'Z':35}\n",
    "answer = 0\n",
    "k = int(k)\n",
    "for i, x in enumerate(l[::-1]):\n",
    "    answer += d[x]*(k**i)\n",
    "\n",
    "print(answer)"
   ]
  },
  {
   "cell_type": "code",
   "execution_count": null,
   "id": "19c54fdf-e676-45a2-bf4e-5928e336f40e",
   "metadata": {},
   "outputs": [],
   "source": []
  }
 ],
 "metadata": {
  "kernelspec": {
   "display_name": "Python 3 (ipykernel)",
   "language": "python",
   "name": "python3"
  },
  "language_info": {
   "codemirror_mode": {
    "name": "ipython",
    "version": 3
   },
   "file_extension": ".py",
   "mimetype": "text/x-python",
   "name": "python",
   "nbconvert_exporter": "python",
   "pygments_lexer": "ipython3",
   "version": "3.9.16"
  }
 },
 "nbformat": 4,
 "nbformat_minor": 5
}
