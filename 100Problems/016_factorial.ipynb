{
 "cells": [
  {
   "cell_type": "markdown",
   "id": "8b947a23-9cf5-4760-8a7e-225f08dc21e4",
   "metadata": {},
   "source": [
    "# 문제\n",
    "\n",
    "상근이는 보통 사람들이 사는 것과는 조금 다른 삶을 사는 사람이다. 상근이는 이런 사람들의 시선이 부담스럽기 때문에, 자신만의 숫자를 개발하기로 했다. 바로 그 이름은 팩토리얼 진법이다. 팩토리얼 진법은 각 자리에 올 수 있는 숫자는 0부터 9까지로 10진법과 거의 비슷하다. 하지만, 읽는 법은 조금 다르다. 팩토리얼 진법에서는 i번 자리의 값을 ai×i!로 계산한다. 즉, 팩토리얼 진법에서 719는 10진법에서 53과 같다. 그 이유는 7×3! + 1×2! + 9×1! = 53이기 때문이다.\n",
    "\n",
    "팩토리얼 진법으로 작성한 숫자가 주어졌을 때, 10진법으로 읽은 값을 구하는 프로그램을 작성하시오. \n",
    "\n",
    "# 입력\n",
    "입력은 여러 개의 테스트 케이스로 이루어져 있다. 각 테스트 케이스는 한 줄로 이루어져 있고, 길이가 최대 5자리인 팩토리얼 진법 숫자가 주어진다. 입력의 마지막 줄에는 0이 하나 주어진다.\n",
    "\n",
    "# 출력\n",
    "각 테스트 케이스에 대해서, 입력으로 주어진 팩토리얼 진법 숫자를 10진법으로 읽은 값을 출력한다.\n",
    "\n",
    "# 풀이"
   ]
  },
  {
   "cell_type": "code",
   "execution_count": 6,
   "id": "c40ecd56-c627-489b-92f8-c3ad8b6b87df",
   "metadata": {
    "tags": []
   },
   "outputs": [
    {
     "name": "stdin",
     "output_type": "stream",
     "text": [
      " 719\n",
      " 1\n",
      " 15\n",
      " 110\n",
      " 102\n",
      " 0\n"
     ]
    }
   ],
   "source": [
    "N = []\n",
    "\n",
    "while True:\n",
    "    k = int(input())\n",
    "    if k==0:\n",
    "        break;\n",
    "    else:\n",
    "        N.append(k)\n"
   ]
  },
  {
   "cell_type": "code",
   "execution_count": 8,
   "id": "d2263988-2d4a-4aa1-9ef8-b8172775a496",
   "metadata": {},
   "outputs": [
    {
     "data": {
      "text/plain": [
       "(2, 0)"
      ]
     },
     "execution_count": 8,
     "metadata": {},
     "output_type": "execute_result"
    }
   ],
   "source": [
    "divmod(10, 5)"
   ]
  },
  {
   "cell_type": "code",
   "execution_count": 22,
   "id": "d2a14bc3-708b-4884-bc08-98ddef1b4a41",
   "metadata": {},
   "outputs": [],
   "source": [
    "def factorial(n):\n",
    "    k = 1\n",
    "    if n==0:\n",
    "        return k\n",
    "    for i in range(1, n+1):\n",
    "        k *= i\n",
    "    return k"
   ]
  },
  {
   "cell_type": "code",
   "execution_count": 61,
   "id": "8bea8343-ff0a-48a2-b350-2952e5e629d8",
   "metadata": {},
   "outputs": [],
   "source": [
    "def transform(k, cnt=None, n=None):\n",
    "    if cnt==None:\n",
    "        cnt = 1\n",
    "    if n==None:\n",
    "        n = 0\n",
    "    k, i = divmod(k, 10)\n",
    "    print(cnt)\n",
    "    if k == 0:\n",
    "        return k\n",
    "    n += k*factorial(cnt)\n",
    "    cnt += 1\n",
    "    n += transform(k)"
   ]
  },
  {
   "cell_type": "code",
   "execution_count": 62,
   "id": "1ce47fe6-4f68-4cb7-b87f-2a99fd5e9eaf",
   "metadata": {},
   "outputs": [
    {
     "name": "stdout",
     "output_type": "stream",
     "text": [
      "1\n",
      "1\n",
      "1\n"
     ]
    },
    {
     "ename": "TypeError",
     "evalue": "unsupported operand type(s) for +=: 'int' and 'NoneType'",
     "output_type": "error",
     "traceback": [
      "\u001b[0;31m---------------------------------------------------------------------------\u001b[0m",
      "\u001b[0;31mTypeError\u001b[0m                                 Traceback (most recent call last)",
      "Cell \u001b[0;32mIn[62], line 1\u001b[0m\n\u001b[0;32m----> 1\u001b[0m \u001b[43mtransform\u001b[49m\u001b[43m(\u001b[49m\u001b[43mN\u001b[49m\u001b[43m[\u001b[49m\u001b[38;5;241;43m0\u001b[39;49m\u001b[43m]\u001b[49m\u001b[43m)\u001b[49m\n",
      "Cell \u001b[0;32mIn[61], line 12\u001b[0m, in \u001b[0;36mtransform\u001b[0;34m(k, cnt, n)\u001b[0m\n\u001b[1;32m     10\u001b[0m n \u001b[38;5;241m+\u001b[39m\u001b[38;5;241m=\u001b[39m k\u001b[38;5;241m*\u001b[39mfactorial(cnt)\n\u001b[1;32m     11\u001b[0m cnt \u001b[38;5;241m+\u001b[39m\u001b[38;5;241m=\u001b[39m \u001b[38;5;241m1\u001b[39m\n\u001b[0;32m---> 12\u001b[0m n \u001b[38;5;241m+\u001b[39m\u001b[38;5;241m=\u001b[39m transform(k)\n",
      "\u001b[0;31mTypeError\u001b[0m: unsupported operand type(s) for +=: 'int' and 'NoneType'"
     ]
    }
   ],
   "source": [
    "transform(N[0])"
   ]
  },
  {
   "cell_type": "code",
   "execution_count": null,
   "id": "b8f0088a-66f3-401a-ae9d-d5752e093ae8",
   "metadata": {},
   "outputs": [],
   "source": [
    "719\n",
    "1\n",
    "15\n",
    "110\n",
    "102\n",
    "0"
   ]
  }
 ],
 "metadata": {
  "kernelspec": {
   "display_name": "Python 3 (ipykernel)",
   "language": "python",
   "name": "python3"
  },
  "language_info": {
   "codemirror_mode": {
    "name": "ipython",
    "version": 3
   },
   "file_extension": ".py",
   "mimetype": "text/x-python",
   "name": "python",
   "nbconvert_exporter": "python",
   "pygments_lexer": "ipython3",
   "version": "3.8.16"
  }
 },
 "nbformat": 4,
 "nbformat_minor": 5
}
