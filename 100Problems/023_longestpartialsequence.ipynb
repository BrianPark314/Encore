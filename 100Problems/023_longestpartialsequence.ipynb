{
 "cells": [
  {
   "cell_type": "markdown",
   "id": "8e34a4dc-5a4b-49e0-8d78-9003b7c96158",
   "metadata": {},
   "source": [
    "# 문제\n",
    "수열 A가 주어졌을 때, 가장 긴 증가하는 부분 수열을 구하는 프로그램을 작성하시오.\n",
    "\n",
    "예를 들어, 수열 A = {10, 20, 10, 30, 20, 50} 인 경우에 가장 긴 증가하는 부분 수열은 A = {10, 20, 10, 30, 20, 50} 이고, 길이는 4이다.\n",
    "\n",
    "# 입력\n",
    "첫째 줄에 수열 A의 크기 N (1 ≤ N ≤ 1,000)이 주어진다.\n",
    "\n",
    "둘째 줄에는 수열 A를 이루고 있는 Ai가 주어진다. (1 ≤ Ai ≤ 1,000)\n",
    "\n",
    "# 출력\n",
    "첫째 줄에 수열 A의 가장 긴 증가하는 부분 수열의 길이를 출력한다.\n",
    "\n",
    "# 문제"
   ]
  },
  {
   "cell_type": "code",
   "execution_count": 5,
   "id": "fe29db3b-d556-4c68-b561-47b388fbbddc",
   "metadata": {},
   "outputs": [
    {
     "name": "stdin",
     "output_type": "stream",
     "text": [
      " 6\n",
      " 10 20 10 30 20 50\n"
     ]
    },
    {
     "name": "stdout",
     "output_type": "stream",
     "text": [
      "4\n"
     ]
    }
   ],
   "source": [
    "n = int(input())\n",
    "a = list(map(int, input().split()))\n",
    "dp = [0 for i in range(n)]\n",
    "for i in range(n):\n",
    "    for j in range(i):\n",
    "        if a[i] > a[j] and dp[i] < dp[j]:\n",
    "            dp[i] = dp[j]\n",
    "    dp[i] += 1\n",
    "print(max(dp))"
   ]
  },
  {
   "cell_type": "code",
   "execution_count": null,
   "id": "6c993e39-ade9-4d38-86a4-519e1877d1a9",
   "metadata": {},
   "outputs": [],
   "source": [
    "6\n",
    "10 20 10 30 20 50"
   ]
  }
 ],
 "metadata": {
  "kernelspec": {
   "display_name": "Python 3 (ipykernel)",
   "language": "python",
   "name": "python3"
  },
  "language_info": {
   "codemirror_mode": {
    "name": "ipython",
    "version": 3
   },
   "file_extension": ".py",
   "mimetype": "text/x-python",
   "name": "python",
   "nbconvert_exporter": "python",
   "pygments_lexer": "ipython3",
   "version": "3.9.16"
  }
 },
 "nbformat": 4,
 "nbformat_minor": 5
}
