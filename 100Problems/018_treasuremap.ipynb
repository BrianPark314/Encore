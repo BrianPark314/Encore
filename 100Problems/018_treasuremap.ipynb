{
 "cells": [
  {
   "cell_type": "markdown",
   "id": "42da574f-23c4-4a3a-af13-d75e925977d6",
   "metadata": {},
   "source": [
    "# 문제 설명\n",
    "비밀지도\n",
    "네오는 평소 프로도가 비상금을 숨겨놓는 장소를 알려줄 비밀지도를 손에 넣었다. 그런데 이 비밀지도는 숫자로 암호화되어 있어 위치를 확인하기 위해서는 암호를 해독해야 한다. 다행히 지도 암호를 해독할 방법을 적어놓은 메모도 함께 발견했다.\n",
    "\n",
    "지도는 한 변의 길이가 n인 정사각형 배열 형태로, 각 칸은 \"공백\"(\" \") 또는 \"벽\"(\"#\") 두 종류로 이루어져 있다.\n",
    "전체 지도는 두 장의 지도를 겹쳐서 얻을 수 있다. 각각 \"지도 1\"과 \"지도 2\"라고 하자. 지도 1 또는 지도 2 중 어느 하나라도 벽인 부분은 전체 지도에서도 벽이다. 지도 1과 지도 2에서 모두 공백인 부분은 전체 지도에서도 공백이다.\n",
    "\"지도 1\"과 \"지도 2\"는 각각 정수 배열로 암호화되어 있다.\n",
    "암호화된 배열은 지도의 각 가로줄에서 벽 부분을 1, 공백 부분을 0으로 부호화했을 때 얻어지는 이진수에 해당하는 값의 배열이다.\n",
    "secret map\n",
    "\n",
    "네오가 프로도의 비상금을 손에 넣을 수 있도록, 비밀지도의 암호를 해독하는 작업을 도와줄 프로그램을 작성하라.\n",
    "\n",
    "# 입력 형식\n",
    "입력으로 지도의 한 변 크기 n 과 2개의 정수 배열 arr1, arr2가 들어온다.\n",
    "\n",
    "1 ≦ n ≦ 16\n",
    "arr1, arr2는 길이 n인 정수 배열로 주어진다.\n",
    "정수 배열의 각 원소 x를 이진수로 변환했을 때의 길이는 n 이하이다. 즉, 0 ≦ x ≦ 2n - 1을 만족한다.\n",
    "출력 형식\n",
    "원래의 비밀지도를 해독하여 '#', 공백으로 구성된 문자열 배열로 출력하라.\n",
    "\n",
    "# 입출력 예제\n",
    "매개변수\t값\n",
    "n\t5\n",
    "arr1\t[9, 20, 28, 18, 11]\n",
    "arr2\t[30, 1, 21, 17, 28]\n",
    "출력\t[\"#####\",\"# # #\", \"### #\", \"# ##\", \"#####\"]\n",
    "매개변수\t값\n",
    "n\t6\n",
    "arr1\t[46, 33, 33 ,22, 31, 50]\n",
    "arr2\t[27 ,56, 19, 14, 14, 10]\n",
    "출력\t[\"######\", \"### #\", \"## ##\", \" #### \", \" #####\", \"### # \"]\n",
    "\n",
    "# 풀이"
   ]
  },
  {
   "cell_type": "code",
   "execution_count": null,
   "id": "be1acc70-a39f-4247-a88b-28e15de43402",
   "metadata": {},
   "outputs": [],
   "source": [
    "import numpy as np\n",
    "\n",
    "def solution(n, arr1, arr2):\n",
    "    answer = []\n",
    "    b1 = [bin(x)[2:] for x in arr1]\n",
    "    b2 = [bin(x)[2:] for x in arr2]\n",
    "\n",
    "    nb1 = []\n",
    "    nb2 = []\n",
    "    for i, t in enumerate(zip(b1, b2)):\n",
    "        if len(t[0]) < n:\n",
    "            nb1.append('0'*(n-len(t[0])) + t[0])\n",
    "        else:\n",
    "            nb1.append(t[0])\n",
    "        if len(t[1]) < n:\n",
    "            nb2.append('0'*(n-len(t[1])) + t[1])\n",
    "        else:\n",
    "            nb2.append(t[1])\n",
    "            \n",
    "\n",
    "    s = []\n",
    "    for i in range(n):\n",
    "        k = ''\n",
    "        for j in range(n):\n",
    "            if int(nb1[i][j]) or int(nb2[i][j]):\n",
    "                k += '#'\n",
    "            else:\n",
    "                k += ' '\n",
    "        s.append(k)\n",
    "\n",
    "    return s"
   ]
  }
 ],
 "metadata": {
  "kernelspec": {
   "display_name": "Python 3 (ipykernel)",
   "language": "python",
   "name": "python3"
  },
  "language_info": {
   "codemirror_mode": {
    "name": "ipython",
    "version": 3
   },
   "file_extension": ".py",
   "mimetype": "text/x-python",
   "name": "python",
   "nbconvert_exporter": "python",
   "pygments_lexer": "ipython3",
   "version": "3.9.16"
  }
 },
 "nbformat": 4,
 "nbformat_minor": 5
}
