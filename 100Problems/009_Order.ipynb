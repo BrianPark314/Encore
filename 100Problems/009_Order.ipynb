{
 "cells": [
  {
   "cell_type": "markdown",
   "id": "78e6d91c-3654-4cd9-b0fc-0650012971e9",
   "metadata": {},
   "source": [
    "# 문제 설명\n",
    "n명의 권투선수가 권투 대회에 참여했고 각각 1번부터 n번까지 번호를 받았습니다. 권투 경기는 1대1 방식으로 진행이 되고, 만약 A 선수가 B 선수보다 실력이 좋다면 A 선수는 B 선수를 항상 이깁니다. 심판은 주어진 경기 결과를 가지고 선수들의 순위를 매기려 합니다. 하지만 몇몇 경기 결과를 분실하여 정확하게 순위를 매길 수 없습니다.\n",
    "\n",
    "선수의 수 n, 경기 결과를 담은 2차원 배열 results가 매개변수로 주어질 때 정확하게 순위를 매길 수 있는 선수의 수를 return 하도록 solution 함수를 작성해주세요.\n",
    "\n",
    "# 제한사항\n",
    "선수의 수는 1명 이상 100명 이하입니다.\n",
    "경기 결과는 1개 이상 4,500개 이하입니다.\n",
    "results 배열 각 행 [A, B]는 A 선수가 B 선수를 이겼다는 의미입니다.\n",
    "모든 경기 결과에는 모순이 없습니다.\n",
    "# 입출력 예\n",
    "n\tresults\treturn\n",
    "5\t[[4, 3], [4, 2], [3, 2], [1, 2], [2, 5]]\t2\n",
    "# 입출력 예 설명\n",
    "2번 선수는 [1, 3, 4] 선수에게 패배했고 5번 선수에게 승리했기 때문에 4위입니다.\n",
    "5번 선수는 4위인 2번 선수에게 패배했기 때문에 5위입니다.\n",
    "# 풀이"
   ]
  },
  {
   "cell_type": "code",
   "execution_count": null,
   "id": "2d44b326-0deb-4591-96d8-a4d5017f168d",
   "metadata": {},
   "outputs": [],
   "source": [
    "def solution(n, results):\n",
    "    answer = 0\n",
    "    grid=[[0 for _ in range(n+1)] for _ in range(n+1)] #n+1 by n+1 행렬 생성\n",
    "    for a, b in results: #승리 상태 입력\n",
    "        grid[a][b]=1\n",
    "    for k in range(1, n+1): #플로이드 워셜 알고리즘\n",
    "        for i in range(1, n+1):\n",
    "            for j in range(1, n+1): \n",
    "                #삼중 루프를 돌며 승패 확인\n",
    "                if grid[i][j]==1 or (grid[i][k]==1 and grid[k][j]==1):\n",
    "                    grid[i][j]=1\n",
    "    answers=[0 for _ in range(n+1)]\n",
    "    for i in range(1, n+1):\n",
    "        for j in range(1, n+1):\n",
    "            if grid[i][j]==1:\n",
    "                answers[i]+=1\n",
    "                answers[j]+=1\n",
    "    for i in range(1, n+1):\n",
    "        if answers[i]==n-1:\n",
    "            answer+=1\n",
    "    return answer"
   ]
  }
 ],
 "metadata": {
  "kernelspec": {
   "display_name": "Python 3 (ipykernel)",
   "language": "python",
   "name": "python3"
  },
  "language_info": {
   "codemirror_mode": {
    "name": "ipython",
    "version": 3
   },
   "file_extension": ".py",
   "mimetype": "text/x-python",
   "name": "python",
   "nbconvert_exporter": "python",
   "pygments_lexer": "ipython3",
   "version": "3.9.16"
  }
 },
 "nbformat": 4,
 "nbformat_minor": 5
}
