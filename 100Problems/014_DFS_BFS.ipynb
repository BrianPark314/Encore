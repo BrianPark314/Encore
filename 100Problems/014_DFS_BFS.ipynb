{
 "cells": [
  {
   "cell_type": "markdown",
   "id": "095c5a7b-2bf7-4ceb-b5e7-eb90f45c362b",
   "metadata": {},
   "source": [
    "# 문제\n",
    "\n",
    "그래프를 DFS로 탐색한 결과와 BFS로 탐색한 결과를 출력하는 프로그램을 작성하시오. 단, 방문할 수 있는 정점이 여러 개인 경우에는 정점 번호가 작은 것을 먼저 방문하고, 더 이상 방문할 수 있는 점이 없는 경우 종료한다. 정점 번호는 1번부터 N번까지이다.\n",
    "\n",
    "# 입력\n",
    "\n",
    "첫째 줄에 정점의 개수 N(1 ≤ N ≤ 1,000), 간선의 개수 M(1 ≤ M ≤ 10,000), 탐색을 시작할 정점의 번호 V가 주어진다. 다음 M개의 줄에는 간선이 연결하는 두 정점의 번호가 주어진다. 어떤 두 정점 사이에 여러 개의 간선이 있을 수 있다. 입력으로 주어지는 간선은 양방향이다.\n",
    "\n",
    "# 출력\n",
    "첫째 줄에 DFS를 수행한 결과를, 그 다음 줄에는 BFS를 수행한 결과를 출력한다. V부터 방문된 점을 순서대로 출력하면 된다.\n",
    "\n",
    "# 풀이"
   ]
  },
  {
   "cell_type": "code",
   "execution_count": null,
   "id": "30edced8-34ec-4123-998a-f8203f84d8b8",
   "metadata": {},
   "outputs": [],
   "source": [
    "5 5 3\n",
    "5 4\n",
    "5 2\n",
    "1 2\n",
    "3 4\n",
    "3 1"
   ]
  },
  {
   "cell_type": "code",
   "execution_count": 58,
   "id": "ba0b3636-b985-4c9f-839f-d90e74cbb194",
   "metadata": {},
   "outputs": [
    {
     "name": "stdin",
     "output_type": "stream",
     "text": [
      " 5 5 3\n",
      " 5 4\n",
      " 5 2\n",
      " 1 2\n",
      " 3 4\n",
      " 3 1\n"
     ]
    },
    {
     "name": "stdout",
     "output_type": "stream",
     "text": [
      "[[5, 4], [5, 2], [1, 2], [3, 4], [3, 1]]\n"
     ]
    }
   ],
   "source": [
    "N, M, S = map(int, input().split(' '))\n",
    "g = []\n",
    "for i in range(M):\n",
    "    g.append(list(map(int, input().split(' '))))\n",
    "adj = [[] for _ in range(N+1)] #인접 상태를 저장하는 배열 생성\n",
    "visit = [0]*(N+1) #방문 상태를 저장하는 배열 생성\n",
    "for a, b in g: #양방향 연결상태 입력\n",
    "    adj[a].append(b)\n",
    "    adj[b].append(a)\n",
    "\n",
    "print(g)"
   ]
  },
  {
   "cell_type": "code",
   "execution_count": 59,
   "id": "febd66a0-f614-4610-ab24-26184fcc1c98",
   "metadata": {},
   "outputs": [
    {
     "data": {
      "text/plain": [
       "[[], [2, 3], [5, 1], [4, 1], [5, 3], [4, 2]]"
      ]
     },
     "execution_count": 59,
     "metadata": {},
     "output_type": "execute_result"
    }
   ],
   "source": [
    "adj"
   ]
  },
  {
   "cell_type": "code",
   "execution_count": 60,
   "id": "6b275553-afc7-4b78-bfc2-0201f6b552c4",
   "metadata": {},
   "outputs": [
    {
     "data": {
      "text/plain": [
       "[[], [2, 3], [1, 5], [1, 4], [3, 5], [2, 4]]"
      ]
     },
     "execution_count": 60,
     "metadata": {},
     "output_type": "execute_result"
    }
   ],
   "source": [
    "for x in adj:\n",
    "    x.sort()\n",
    "adj"
   ]
  },
  {
   "cell_type": "code",
   "execution_count": 61,
   "id": "189ade13-6cf1-4679-9da3-f5006ebb892c",
   "metadata": {},
   "outputs": [
    {
     "data": {
      "text/plain": [
       "[3, 1, 4, 2, 5]"
      ]
     },
     "execution_count": 61,
     "metadata": {},
     "output_type": "execute_result"
    }
   ],
   "source": [
    "from collections import deque as deq\n",
    "\n",
    "def bfs(g, s):\n",
    "    visit = []\n",
    "    q = deq([S])\n",
    "    \n",
    "    while q:\n",
    "        node = q.popleft()\n",
    "        if node not in visit:\n",
    "            visit.append(node)\n",
    "            n = g[node]\n",
    "            for x in n:\n",
    "                q.append(x)\n",
    "    return visit\n",
    "\n",
    "bfs(adj, S)"
   ]
  },
  {
   "cell_type": "code",
   "execution_count": 62,
   "id": "be4feedc-862b-473c-85e4-f6b2724ed158",
   "metadata": {
    "tags": []
   },
   "outputs": [
    {
     "data": {
      "text/plain": [
       "[3, 1, 2, 5, 4]"
      ]
     },
     "execution_count": 62,
     "metadata": {},
     "output_type": "execute_result"
    }
   ],
   "source": [
    "def dfs(graph, start, visited = None):\n",
    "    if not visited:\n",
    "        visited=[]\n",
    "## 데이터를 추가하는 명령어 / 재귀가 이루어짐 \n",
    "    visited.append(start) #시작점 추가\n",
    " \n",
    "    for node in graph[start]:\n",
    "        if node not in visited: #노드 방문을 하지 않았으면\n",
    "            dfs(graph, node, visited)\n",
    "    return visited\n",
    "dfs(adj, S)"
   ]
  },
  {
   "cell_type": "code",
   "execution_count": 63,
   "id": "febc2102-f5bd-4e50-95ac-acbc4fc9dabe",
   "metadata": {},
   "outputs": [
    {
     "name": "stdout",
     "output_type": "stream",
     "text": [
      "3 1 2 5 4 \n",
      "3 1 4 2 5 "
     ]
    }
   ],
   "source": [
    "for x in dfs(adj, S):\n",
    "    print(x, end=' ')\n",
    "    \n",
    "print()\n",
    "for x in bfs(adj, S):\n",
    "    print(x, end=' ')"
   ]
  },
  {
   "cell_type": "code",
   "execution_count": 51,
   "id": "37ed97fc-110d-4986-83a9-ebcddd22da6f",
   "metadata": {},
   "outputs": [
    {
     "ename": "SyntaxError",
     "evalue": "invalid syntax (1636746523.py, line 1)",
     "output_type": "error",
     "traceback": [
      "\u001b[0;36m  Cell \u001b[0;32mIn[51], line 1\u001b[0;36m\u001b[0m\n\u001b[0;31m    5 5 3\u001b[0m\n\u001b[0m      ^\u001b[0m\n\u001b[0;31mSyntaxError\u001b[0m\u001b[0;31m:\u001b[0m invalid syntax\n"
     ]
    }
   ],
   "source": [
    "5 5 3\n",
    "5 4\n",
    "5 2\n",
    "1 2\n",
    "3 4\n",
    "3 1"
   ]
  },
  {
   "cell_type": "code",
   "execution_count": null,
   "id": "0bebeec5-4a4f-45ad-8c27-f2eb8a7aa59f",
   "metadata": {},
   "outputs": [],
   "source": []
  }
 ],
 "metadata": {
  "kernelspec": {
   "display_name": "Python 3 (ipykernel)",
   "language": "python",
   "name": "python3"
  },
  "language_info": {
   "codemirror_mode": {
    "name": "ipython",
    "version": 3
   },
   "file_extension": ".py",
   "mimetype": "text/x-python",
   "name": "python",
   "nbconvert_exporter": "python",
   "pygments_lexer": "ipython3",
   "version": "3.9.16"
  }
 },
 "nbformat": 4,
 "nbformat_minor": 5
}
