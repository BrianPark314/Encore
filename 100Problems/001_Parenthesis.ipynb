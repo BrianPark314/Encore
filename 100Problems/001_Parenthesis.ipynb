{
 "cells": [
  {
   "cell_type": "markdown",
   "id": "561904f0-14e8-4c55-ad6f-4621e986391d",
   "metadata": {},
   "source": [
    "# 문제\n",
    "\n",
    "괄호 문자열(Parenthesis String, PS)은 두 개의 괄호 기호인 ‘(’ 와 ‘)’ 만으로 구성되어 있는 문자열이다. 그 중에서 괄호의 모양이 바르게 구성된 문자열을 올바른 괄호 문자열(Valid PS, VPS)이라고 부른다. 한 쌍의 괄호 기호로 된 “( )” 문자열은 기본 VPS 이라고 부른다. 만일 x 가 VPS 라면 이것을 하나의 괄호에 넣은 새로운 문자열 “(x)”도 VPS 가 된다. 그리고 두 VPS x 와 y를 접합(concatenation)시킨 새로운 문자열 xy도 VPS 가 된다. 예를 들어 “(())()”와 “((()))” 는 VPS 이지만 “(()(”, “(())()))” , 그리고 “(()” 는 모두 VPS 가 아닌 문자열이다. \n",
    "\n",
    "여러분은 입력으로 주어진 괄호 문자열이 VPS 인지 아닌지를 판단해서 그 결과를 YES 와 NO 로 나타내어야 한다. \n",
    "\n",
    "# 입력\n",
    "\n",
    "입력 데이터는 표준 입력을 사용한다. 입력은 T개의 테스트 데이터로 주어진다. 입력의 첫 번째 줄에는 입력 데이터의 수를 나타내는 정수 T가 주어진다. 각 테스트 데이터의 첫째 줄에는 괄호 문자열이 한 줄에 주어진다. 하나의 괄호 문자열의 길이는 2 이상 50 이하이다. \n",
    "\n",
    "# 출력\n",
    "\n",
    "출력은 표준 출력을 사용한다. 만일 입력 괄호 문자열이 올바른 괄호 문자열(VPS)이면 “YES”, 아니면 “NO”를 한 줄에 하나씩 차례대로 출력해야 한다. "
   ]
  },
  {
   "cell_type": "markdown",
   "id": "443199e9-7bde-4b45-8c6c-992ee442ab81",
   "metadata": {},
   "source": [
    "# 풀이\n",
    "\n",
    "두 가지 조건을 생각해볼 수 있다. '('이 나오기 전 ')'이 나오거나, 총 괄호 개수가 서로 다르다면 VPS가 아니다."
   ]
  },
  {
   "cell_type": "code",
   "execution_count": 3,
   "id": "f11a4a8c-e83e-424e-87aa-8e528fa5a826",
   "metadata": {},
   "outputs": [],
   "source": [
    "#from sys import stdin\n",
    "#l = stdin.readline()\n",
    "\n",
    "T = int(input()) #최초 숫자를 저장한다.\n",
    "l = [] # 스택을 초기화한다.\n",
    "\n",
    "\n",
    "for i in range(T): #입력의 개수만큼 for loop\n",
    "    a = input() #입력 저장\n",
    "    for j in a: #a의 '(' ')'에 대해서 루프.\n",
    "        if j == \"(\":\n",
    "            l.append(j) #스택에 ( 추가\n",
    "        else:\n",
    "            if len(l) == 0: #스택의 길이가 0이면, ) 추가\n",
    "                l.append(j)\n",
    "            elif l[-1] == \")\": \n",
    "                l.append(j) #스택 마지막이 ) 이면 ) 추가\n",
    "            else: #스택 마지막이 (일 경우 없애준다.\n",
    "                l.pop(-1)\n",
    "                \n",
    "    if len(l) == 0: #스택이 비어있으면 YES\n",
    "        print(\"YES\")\n",
    "    else: #스택에 남은 게 있으면 NO\n",
    "        print(\"NO\")\n",
    "    l.clear()"
   ]
  },
  {
   "cell_type": "code",
   "execution_count": 2,
   "id": "0cc6c094-956d-47f2-af11-accc6789adc8",
   "metadata": {},
   "outputs": [
    {
     "data": {
      "text/plain": [
       "'NO'"
      ]
     },
     "execution_count": 2,
     "metadata": {},
     "output_type": "execute_result"
    }
   ],
   "source": []
  },
  {
   "cell_type": "code",
   "execution_count": null,
   "id": "be102360-18ca-4fb1-b62a-100ff0840f09",
   "metadata": {},
   "outputs": [],
   "source": []
  }
 ],
 "metadata": {
  "kernelspec": {
   "display_name": "Python 3 (ipykernel)",
   "language": "python",
   "name": "python3"
  },
  "language_info": {
   "codemirror_mode": {
    "name": "ipython",
    "version": 3
   },
   "file_extension": ".py",
   "mimetype": "text/x-python",
   "name": "python",
   "nbconvert_exporter": "python",
   "pygments_lexer": "ipython3",
   "version": "3.9.16"
  }
 },
 "nbformat": 4,
 "nbformat_minor": 5
}
