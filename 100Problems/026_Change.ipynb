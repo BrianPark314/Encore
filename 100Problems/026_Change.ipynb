{
 "cells": [
  {
   "attachments": {},
   "cell_type": "markdown",
   "metadata": {},
   "source": [
    "# 문제\n",
    "타로는 자주 JOI잡화점에서 물건을 산다. JOI잡화점에는 잔돈으로 500엔, 100엔, 50엔, 10엔, 5엔, 1엔이 충분히 있고, 언제나 거스름돈 개수가 가장 적게 잔돈을 준다. 타로가 JOI잡화점에서 물건을 사고 카운터에서 1000엔 지폐를 한장 냈을 때, 받을 잔돈에 포함된 잔돈의 개수를 구하는 프로그램을 작성하시오.\n",
    "\n",
    "# 입력\n",
    "입력은 한줄로 이루어져있고, 타로가 지불할 돈(1 이상 1000미만의 정수) 1개가 쓰여져있다.\n",
    "\n",
    "# 출력\n",
    "제출할 출력 파일은 1행으로만 되어 있다. 잔돈에 포함된 매수를 출력하시오."
   ]
  },
  {
   "cell_type": "code",
   "execution_count": null,
   "metadata": {},
   "outputs": [],
   "source": [
    "N = 1000-int(input(''))\n",
    "cnt = 0\n",
    "\n",
    "while N:\n",
    "    if N>=500:\n",
    "        cnt += N//500\n",
    "        N -= (N//500)*500\n",
    "    elif N>=100:\n",
    "        cnt += N//100\n",
    "        N -= (N//100)*100\n",
    "    elif N>=50:\n",
    "        cnt += N//50\n",
    "        N -= (N//50)*50\n",
    "    elif N>=10:\n",
    "        cnt += N//10\n",
    "        N -= (N//10)*10\n",
    "    elif N>=5:\n",
    "        cnt += N//5\n",
    "        N -= (N//5)*5\n",
    "    else:\n",
    "        cnt += N\n",
    "        N=0\n",
    "\n",
    "print(cnt)"
   ]
  },
  {
   "cell_type": "code",
   "execution_count": null,
   "metadata": {},
   "outputs": [],
   "source": []
  }
 ],
 "metadata": {
  "kernelspec": {
   "display_name": "base",
   "language": "python",
   "name": "python3"
  },
  "language_info": {
   "name": "python",
   "version": "3.9.16"
  },
  "orig_nbformat": 4
 },
 "nbformat": 4,
 "nbformat_minor": 2
}
