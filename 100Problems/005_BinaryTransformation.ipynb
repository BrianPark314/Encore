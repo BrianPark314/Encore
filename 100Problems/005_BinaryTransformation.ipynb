{
 "cells": [
  {
   "cell_type": "markdown",
   "id": "951ffc3a-cc9a-4453-93f5-8b84c92f7c81",
   "metadata": {},
   "source": [
    "*문제\n",
    "\n",
    "자연수 N이 주어진다. 이를 이진수로 변환하는 프로그램을 작성하시오."
   ]
  },
  {
   "cell_type": "code",
   "execution_count": 19,
   "id": "3ad9038c-bf64-4af7-bb5a-390b574eb215",
   "metadata": {},
   "outputs": [],
   "source": [
    "import sys\n",
    "N = int(sys.stdin.readline())\n",
    "\n",
    "ans=[]\n",
    "def getBinaryNum(n):\n",
    "    a, b = divmod(n, 2)\n",
    "    ans.append(b)\n",
    "    if a == 0 :\n",
    "        return ans\n",
    "    else :\n",
    "        return getBinaryNum(a)\n",
    "\n",
    "answer = getBinaryNum(N)[::-1]\n",
    "s = [str(integer) for integer in answer]\n",
    "s = int(\"\".join(s))\n",
    "print(s)"
   ]
  },
  {
   "cell_type": "code",
   "execution_count": 20,
   "id": "fa253ba5-e25c-43b2-9066-40bfef0dd85a",
   "metadata": {},
   "outputs": [
    {
     "name": "stdout",
     "output_type": "stream",
     "text": [
      "1010\n"
     ]
    }
   ],
   "source": [
    "print(s)"
   ]
  },
  {
   "cell_type": "code",
   "execution_count": null,
   "id": "6bea206c-0f53-47c6-8e5d-637fe1f11c4d",
   "metadata": {},
   "outputs": [],
   "source": []
  }
 ],
 "metadata": {
  "kernelspec": {
   "display_name": "Python 3 (ipykernel)",
   "language": "python",
   "name": "python3"
  },
  "language_info": {
   "codemirror_mode": {
    "name": "ipython",
    "version": 3
   },
   "file_extension": ".py",
   "mimetype": "text/x-python",
   "name": "python",
   "nbconvert_exporter": "python",
   "pygments_lexer": "ipython3",
   "version": "3.9.16"
  }
 },
 "nbformat": 4,
 "nbformat_minor": 5
}
