{
 "cells": [
  {
   "cell_type": "markdown",
   "id": "6a146432-4fe8-4d8d-977d-7ac32e4f8a1b",
   "metadata": {},
   "source": [
    "# 문제\n",
    "지민이는 자신의 저택에서 MN개의 단위 정사각형으로 나누어져 있는 M×N 크기의 보드를 찾았다. 어떤 정사각형은 검은색으로 칠해져 있고, 나머지는 흰색으로 칠해져 있다. 지민이는 이 보드를 잘라서 8×8 크기의 체스판으로 만들려고 한다.\n",
    "\n",
    "체스판은 검은색과 흰색이 번갈아서 칠해져 있어야 한다. 구체적으로, 각 칸이 검은색과 흰색 중 하나로 색칠되어 있고, 변을 공유하는 두 개의 사각형은 다른 색으로 칠해져 있어야 한다. 따라서 이 정의를 따르면 체스판을 색칠하는 경우는 두 가지뿐이다. 하나는 맨 왼쪽 위 칸이 흰색인 경우, 하나는 검은색인 경우이다.\n",
    "\n",
    "보드가 체스판처럼 칠해져 있다는 보장이 없어서, 지민이는 8×8 크기의 체스판으로 잘라낸 후에 몇 개의 정사각형을 다시 칠해야겠다고 생각했다. 당연히 8*8 크기는 아무데서나 골라도 된다. 지민이가 다시 칠해야 하는 정사각형의 최소 개수를 구하는 프로그램을 작성하시오.\n",
    "\n",
    "# 입력\n",
    "첫째 줄에 N과 M이 주어진다. N과 M은 8보다 크거나 같고, 50보다 작거나 같은 자연수이다. 둘째 줄부터 N개의 줄에는 보드의 각 행의 상태가 주어진다. B는 검은색이며, W는 흰색이다.\n",
    "\n",
    "# 출력\n",
    "첫째 줄에 지민이가 다시 칠해야 하는 정사각형 개수의 최솟값을 출력한다.\n",
    "\n",
    "# 풀이"
   ]
  },
  {
   "cell_type": "code",
   "execution_count": 79,
   "id": "3d57edb8-1e0b-4714-a4b4-530e3301c8b7",
   "metadata": {},
   "outputs": [
    {
     "name": "stdin",
     "output_type": "stream",
     "text": [
      " 6 8\n"
     ]
    },
    {
     "name": "stdout",
     "output_type": "stream",
     "text": [
      "6 8\n"
     ]
    }
   ],
   "source": [
    "N, M = map(int, input().split())\n",
    "original = []\n",
    "count = []\n",
    "\n",
    "for _ in range(N):\n",
    "    original.append(input())\n",
    "\n",
    "for a in range(N-7):\n",
    "    for b in range(M-7):\n",
    "        index1 = 0\n",
    "        index2 = 0\n",
    "        for i in range(a, a+8):\n",
    "            for j in range(b, b+8):\n",
    "                if (i+j) % 2 == 0:\n",
    "                    if original[i][j] != 'W':\n",
    "                        index1 += 1\n",
    "                    if original[i][j] != 'B':\n",
    "                        index2 += 1\n",
    "                else:\n",
    "                    if original[i][j] != 'B':\n",
    "                        index1 += 1\n",
    "                    if original[i][j] != 'W':\n",
    "                        index2 += 1\n",
    "        count.append(min(index1, index2))\n",
    "\n",
    "print(min(count))"
   ]
  },
  {
   "cell_type": "code",
   "execution_count": 74,
   "id": "ebe00b4b-d93b-4f83-b908-e320b22f1f7a",
   "metadata": {},
   "outputs": [
    {
     "name": "stdout",
     "output_type": "stream",
     "text": [
      "12\n"
     ]
    }
   ],
   "source": [
    "import numpy as np\n",
    "\n",
    "n = N-7\n",
    "m = M-7\n",
    "res1 = np.zeros((n,m), dtype=int) #곱셉으로 어레이 만들면 메모리 참조때문에 곱창이 난다.\n",
    "res2 = np.zeros((n,m), dtype=int)\n",
    "\n",
    "for i in range(n):\n",
    "    for j in range(m):\n",
    "        for k in range(8):\n",
    "            for q in range(8):\n",
    "                if (i+k+j+q)%2==0: #인덱스 합이 짝수일 때\n",
    "                    if b[i+k][j+q]=='W': #값이 W이면 바꿔준다 (mode 1)\n",
    "                        res1[i][j]+=1\n",
    "                    else:\n",
    "                        res2[i][j]+=1\n",
    "                else: #인덱스 합이 홀수일 때\n",
    "                    if b[i+k][j+q]=='B': #값이 B이면 바꿔준다 (mode 2)\n",
    "                        res1[i][j]+=1\n",
    "                    else:\n",
    "                        res2[i][j]+=1\n",
    "\n",
    "print(min(np.amin(res1), np.amin(res2)))"
   ]
  },
  {
   "cell_type": "code",
   "execution_count": null,
   "id": "b3597e96-76e1-461b-8339-6075e5b60f4b",
   "metadata": {},
   "outputs": [],
   "source": [
    "10 13\n",
    "BBBBBBBBWBWBW\n",
    "BBBBBBBBBWBWB\n",
    "BBBBBBBBWBWBW\n",
    "BBBBBBBBBWBWB\n",
    "BBBBBBBBWBWBW\n",
    "BBBBBBBBBWBWB\n",
    "BBBBBBBBWBWBW\n",
    "BBBBBBBBBWBWB\n",
    "WWWWWWWWWWBWB\n",
    "WWWWWWWWWWBWB"
   ]
  },
  {
   "cell_type": "code",
   "execution_count": null,
   "id": "c5b865e3-bf83-4a46-ae39-5642a6fd8b65",
   "metadata": {},
   "outputs": [
    {
     "name": "stdin",
     "output_type": "stream",
     "text": [
      " 6 8\n",
      " 1 2 3 4 5\n",
      " 1 3 4 5\n",
      " 1 2 2 3 \n",
      " 14 4 2\n",
      " 1 3 4 5 5\n",
      " 3\n",
      " 1\n",
      " 1\n"
     ]
    },
    {
     "ename": "ValueError",
     "evalue": "negative dimensions are not allowed",
     "output_type": "error",
     "traceback": [
      "\u001b[0;31m---------------------------------------------------------------------------\u001b[0m",
      "\u001b[0;31mValueError\u001b[0m                                Traceback (most recent call last)",
      "Cell \u001b[0;32mIn[81], line 12\u001b[0m\n\u001b[1;32m     10\u001b[0m n \u001b[38;5;241m=\u001b[39m N\u001b[38;5;241m-\u001b[39m\u001b[38;5;241m7\u001b[39m\n\u001b[1;32m     11\u001b[0m m \u001b[38;5;241m=\u001b[39m M\u001b[38;5;241m-\u001b[39m\u001b[38;5;241m7\u001b[39m\n\u001b[0;32m---> 12\u001b[0m res1 \u001b[38;5;241m=\u001b[39m \u001b[43mnp\u001b[49m\u001b[38;5;241;43m.\u001b[39;49m\u001b[43mzeros\u001b[49m\u001b[43m(\u001b[49m\u001b[43m(\u001b[49m\u001b[43mn\u001b[49m\u001b[43m,\u001b[49m\u001b[43mm\u001b[49m\u001b[43m)\u001b[49m\u001b[43m,\u001b[49m\u001b[43m \u001b[49m\u001b[43mdtype\u001b[49m\u001b[38;5;241;43m=\u001b[39;49m\u001b[38;5;28;43mint\u001b[39;49m\u001b[43m)\u001b[49m \u001b[38;5;66;03m#곱셉으로 어레이 만들면 메모리 참조때문에 곱창이 난다.\u001b[39;00m\n\u001b[1;32m     13\u001b[0m res2 \u001b[38;5;241m=\u001b[39m np\u001b[38;5;241m.\u001b[39mzeros((n,m), dtype\u001b[38;5;241m=\u001b[39m\u001b[38;5;28mint\u001b[39m)\n\u001b[1;32m     15\u001b[0m \u001b[38;5;28;01mfor\u001b[39;00m i \u001b[38;5;129;01min\u001b[39;00m \u001b[38;5;28mrange\u001b[39m(n):\n",
      "\u001b[0;31mValueError\u001b[0m: negative dimensions are not allowed"
     ]
    }
   ],
   "source": [
    "import sys\n",
    "import numpy as np\n",
    "\n",
    "N, M = map(int, input().split(' '))\n",
    "\n",
    "b = []\n",
    "for i in range(M):\n",
    "    b.append(list(input()))\n",
    "\n",
    "n = N-7\n",
    "m = M-7\n",
    "res1 = np.zeros((n,m), dtype=int) #곱셉으로 어레이 만들면 메모리 참조때문에 곱창이 난다.\n",
    "res2 = np.zeros((n,m), dtype=int)\n",
    "\n",
    "for i in range(n):\n",
    "    for j in range(m):\n",
    "        for k in range(8):\n",
    "            for q in range(8):\n",
    "                if (i+k+j+q)%2==0: #인덱스 합이 짝수일 때\n",
    "                    if b[i+k][j+q]=='W': #값이 W이면 바꿔준다 (mode 1)\n",
    "                        res1[i][j]+=1\n",
    "                    else:\n",
    "                        res2[i][j]+=1\n",
    "                else: #인덱스 합이 홀수일 때\n",
    "                    if b[i+k][j+q]=='B': #값이 B이면 바꿔준다 (mode 2)\n",
    "                        res1[i][j]+=1\n",
    "                    else:\n",
    "                        res2[i][j]+=1\n",
    "\n",
    "print(min(np.amin(res1), np.amin(res2)))"
   ]
  },
  {
   "cell_type": "code",
   "execution_count": null,
   "id": "d6b02080-afd2-421f-8ba7-ff34fb7414bc",
   "metadata": {},
   "outputs": [],
   "source": []
  }
 ],
 "metadata": {
  "kernelspec": {
   "display_name": "Python 3 (ipykernel)",
   "language": "python",
   "name": "python3"
  },
  "language_info": {
   "codemirror_mode": {
    "name": "ipython",
    "version": 3
   },
   "file_extension": ".py",
   "mimetype": "text/x-python",
   "name": "python",
   "nbconvert_exporter": "python",
   "pygments_lexer": "ipython3",
   "version": "3.9.16"
  }
 },
 "nbformat": 4,
 "nbformat_minor": 5
}
