{
 "cells": [
  {
   "cell_type": "code",
   "execution_count": 3,
   "id": "784a287c-370f-43bd-b50a-d597ed14475a",
   "metadata": {
    "scrolled": true,
    "tags": []
   },
   "outputs": [
    {
     "name": "stdout",
     "output_type": "stream",
     "text": [
      "Hello World 1\n",
      "Hello World 2\n",
      "Hello World 3\n",
      "Hello World 4\n",
      "Hello World 5\n",
      "Hello World 6\n",
      "Hello World 7\n",
      "Hello World 8\n",
      "Hello World 9\n",
      "Hello World 10\n",
      "Hello World 11\n",
      "Hello World 12\n",
      "Hello World 13\n",
      "Hello World 14\n",
      "Hello World 15\n",
      "Hello World 16\n",
      "Hello World 17\n",
      "Hello World 18\n",
      "Hello World 19\n",
      "Hello World 20\n",
      "Hello World 21\n",
      "Hello World 22\n",
      "Hello World 23\n",
      "Hello World 24\n",
      "Hello World 25\n",
      "Hello World 26\n",
      "Hello World 27\n",
      "Hello World 28\n",
      "Hello World 29\n",
      "Hello World 30\n",
      "Hello World 31\n",
      "Hello World 32\n",
      "Hello World 33\n",
      "Hello World 34\n",
      "Hello World 35\n",
      "Hello World 36\n",
      "Hello World 37\n",
      "Hello World 38\n",
      "Hello World 39\n",
      "Hello World 40\n",
      "Hello World 41\n",
      "Hello World 42\n",
      "Hello World 43\n",
      "Hello World 44\n",
      "Hello World 45\n",
      "Hello World 46\n",
      "Hello World 47\n",
      "Hello World 48\n",
      "Hello World 49\n",
      "Hello World 50\n",
      "Hello World 51\n",
      "Hello World 52\n",
      "Hello World 53\n",
      "Hello World 54\n",
      "Hello World 55\n",
      "Hello World 56\n",
      "Hello World 57\n",
      "Hello World 58\n",
      "Hello World 59\n",
      "Hello World 60\n",
      "Hello World 61\n",
      "Hello World 62\n",
      "Hello World 63\n",
      "Hello World 64\n",
      "Hello World 65\n",
      "Hello World 66\n",
      "Hello World 67\n",
      "Hello World 68\n",
      "Hello World 69\n",
      "Hello World 70\n",
      "Hello World 71\n",
      "Hello World 72\n",
      "Hello World 73\n",
      "Hello World 74\n",
      "Hello World 75\n",
      "Hello World 76\n",
      "Hello World 77\n",
      "Hello World 78\n",
      "Hello World 79\n",
      "Hello World 80\n",
      "Hello World 81\n",
      "Hello World 82\n",
      "Hello World 83\n",
      "Hello World 84\n",
      "Hello World 85\n",
      "Hello World 86\n",
      "Hello World 87\n",
      "Hello World 88\n",
      "Hello World 89\n",
      "Hello World 90\n",
      "Hello World 91\n",
      "Hello World 92\n",
      "Hello World 93\n",
      "Hello World 94\n",
      "Hello World 95\n",
      "Hello World 96\n",
      "Hello World 97\n",
      "Hello World 98\n",
      "Hello World 99\n",
      "Hello World 100\n"
     ]
    }
   ],
   "source": [
    "#연습문제\n",
    "for i in range(1,101):\n",
    "    print(\"Hello World\", i)"
   ]
  },
  {
   "cell_type": "code",
   "execution_count": 4,
   "id": "51c2d58d-b001-4a6b-8f55-04a480ff34c7",
   "metadata": {},
   "outputs": [
    {
     "name": "stdin",
     "output_type": "stream",
     "text": [
      "인사를 몇 번 해드릴까요? 12\n"
     ]
    },
    {
     "name": "stdout",
     "output_type": "stream",
     "text": [
      "Hello World\n",
      "Hello World\n",
      "Hello World\n",
      "Hello World\n",
      "Hello World\n",
      "Hello World\n",
      "Hello World\n",
      "Hello World\n",
      "Hello World\n",
      "Hello World\n",
      "Hello World\n",
      "Hello World\n"
     ]
    }
   ],
   "source": [
    "#연습문제\n",
    "k = int(input(\"인사를 몇 번 해드릴까요?\"))\n",
    "\n",
    "for i in range(k):\n",
    "    print(\"Hello World\")"
   ]
  },
  {
   "cell_type": "code",
   "execution_count": 13,
   "id": "cf03946f-4078-432b-91ff-9d081c1d58c1",
   "metadata": {},
   "outputs": [
    {
     "name": "stdout",
     "output_type": "stream",
     "text": [
      "[5, 6, 7, 8, 9] [0, 3, 6, 9] [-10, -40, -70]\n"
     ]
    }
   ],
   "source": [
    "#list()와 range() 사용해서 규칙성 있는 리스트 생성\n",
    "k1 = list(range(5, 10))\n",
    "k2 = list(range(0, 10, 3))\n",
    "k3 = list(range(-10, -80, -30))\n",
    "print(k1, k2, k3)"
   ]
  },
  {
   "cell_type": "code",
   "execution_count": 19,
   "id": "6e0bae33-bd13-49ef-b4d7-2506fc2c9003",
   "metadata": {},
   "outputs": [
    {
     "name": "stdin",
     "output_type": "stream",
     "text": [
      "자연수를 하나 입력해주세요. 6\n"
     ]
    },
    {
     "name": "stdout",
     "output_type": "stream",
     "text": [
      "6\t6\t6\t6\t6\t6\t\n",
      "5\t5\t5\t5\t5\t\n",
      "4\t4\t4\t4\t\n",
      "3\t3\t3\t\n",
      "2\t2\t\n",
      "1\t\n"
     ]
    }
   ],
   "source": [
    "n = int(input(\"자연수를 하나 입력해주세요.\"))\n",
    "for i in range(n):\n",
    "    for j in range(n-i):\n",
    "        print(n-i, end='\\t') #end를 활용해 개행을 없앨 수 있음을 기억할 것!!\n",
    "    print(\"\")\n",
    "        "
   ]
  },
  {
   "cell_type": "code",
   "execution_count": 22,
   "id": "e649e96c-2e97-41cd-a6c5-b1432f582977",
   "metadata": {},
   "outputs": [
    {
     "name": "stdin",
     "output_type": "stream",
     "text": [
      "자연수를 하나 입력해주세요. 10\n"
     ]
    },
    {
     "name": "stdout",
     "output_type": "stream",
     "text": [
      "10\t10\t10\t10\t10\t10\t10\t10\t10\t10\t\n",
      "9\t9\t9\t9\t9\t9\t9\t9\t9\t\n",
      "8\t8\t8\t8\t8\t8\t8\t8\t\n",
      "7\t7\t7\t7\t7\t7\t7\t\n",
      "6\t6\t6\t6\t6\t6\t\n",
      "5\t5\t5\t5\t5\t\n",
      "4\t4\t4\t4\t\n",
      "3\t3\t3\t\n",
      "2\t2\t\n",
      "1\t\n"
     ]
    }
   ],
   "source": [
    "n = int(input(\"자연수를 하나 입력해주세요.\"))\n",
    "for i in range(n):\n",
    "    print(f'{n-i}\\t'*(n-i))"
   ]
  },
  {
   "cell_type": "code",
   "execution_count": 60,
   "id": "5e54d328-1b05-45c2-b741-25d425d4c30a",
   "metadata": {},
   "outputs": [
    {
     "name": "stdin",
     "output_type": "stream",
     "text": [
      "자연수를 하나 입력해주세요. 20\n"
     ]
    },
    {
     "name": "stdout",
     "output_type": "stream",
     "text": [
      "* * * * * * * * * * * * * * * * * * * * \n",
      "*                                     *\n",
      "*                                     *\n",
      "*                                     *\n",
      "*                                     *\n",
      "*                                     *\n",
      "*                                     *\n",
      "*                                     *\n",
      "*                                     *\n",
      "*                                     *\n",
      "*                                     *\n",
      "*                                     *\n",
      "*                                     *\n",
      "*                                     *\n",
      "*                                     *\n",
      "*                                     *\n",
      "*                                     *\n",
      "*                                     *\n",
      "*                                     *\n",
      "* * * * * * * * * * * * * * * * * * * * \n"
     ]
    }
   ],
   "source": [
    "n = int(input(\"자연수를 하나 입력해주세요.\"))\n",
    "\n",
    "for i in range(n):\n",
    "    if i == 0 or i == n-1:\n",
    "        print('* '*n)\n",
    "    else:\n",
    "        print('*'+' '*(2*n-3)+'*')"
   ]
  },
  {
   "cell_type": "code",
   "execution_count": 52,
   "id": "8563ac05-98b8-466c-9c3f-a738642ac650",
   "metadata": {},
   "outputs": [
    {
     "name": "stdin",
     "output_type": "stream",
     "text": [
      "1부터 입력한 자연수까지의 모든 홀수의 합을 구합니다. 101\n"
     ]
    },
    {
     "name": "stdout",
     "output_type": "stream",
     "text": [
      "1 + 3 + 5 + 7 + 9 + 11 + 13 + 15 + 17 + 19 + 21 + 23 + 25 + 27 + 29 + 31 + 33 + 35 + 37 + 39 + 41 + 43 + 45 + 47 + 49 + 51 + 53 + 55 + 57 + 59 + 61 + 63 + 65 + 67 + 69 + 71 + 73 + 75 + 77 + 79 + 81 + 83 + 85 + 87 + 89 + 91 + 93 + 95 + 97 + 99 + 101 = 2601\n"
     ]
    }
   ],
   "source": [
    "n = int(input(\"1부터 입력한 자연수까지의 모든 홀수의 합을 구합니다.\"))\n",
    "sum = 1\n",
    "str = '1'\n",
    "for i in range(3, n+1, 2):\n",
    "    sum += i\n",
    "    str += f' + {i}'\n",
    "str += f' = {sum}'\n",
    "print(str)"
   ]
  },
  {
   "cell_type": "code",
   "execution_count": 59,
   "id": "3ce6b8a6-b4bd-4d89-9a41-77de587f5dfa",
   "metadata": {},
   "outputs": [
    {
     "name": "stdin",
     "output_type": "stream",
     "text": [
      "계승을 구할 숫자를 입력하세요. 3\n"
     ]
    },
    {
     "name": "stdout",
     "output_type": "stream",
     "text": [
      "6\n"
     ]
    }
   ],
   "source": [
    "n = int(input(\"계승을 구할 숫자를 입력하세요.\"))\n",
    "\n",
    "result = 1\n",
    "for i in range (1, n+1):\n",
    "    result *= i\n",
    "print(result)"
   ]
  },
  {
   "cell_type": "code",
   "execution_count": 64,
   "id": "1be7e51d-8ad0-4b3f-a0fb-37dcee04922e",
   "metadata": {},
   "outputs": [
    {
     "name": "stdout",
     "output_type": "stream",
     "text": [
      "100 -420 250 1030 210 770 240 "
     ]
    }
   ],
   "source": [
    "x = [10, -42, 25, 103, 21, 77, 24]\n",
    "\n",
    "for n in x:\n",
    "    print(n*10, end=' ')"
   ]
  },
  {
   "cell_type": "code",
   "execution_count": 66,
   "id": "63b2e479-f649-4132-abbb-97e8d39767fd",
   "metadata": {},
   "outputs": [
    {
     "name": "stdin",
     "output_type": "stream",
     "text": [
      "구구단을 알려드립니다.숫자를 입력하세요. 1\n"
     ]
    },
    {
     "name": "stdout",
     "output_type": "stream",
     "text": [
      "1 * 1 = 1\n",
      "1 * 2 = 2\n",
      "1 * 3 = 3\n",
      "1 * 4 = 4\n",
      "1 * 5 = 5\n",
      "1 * 6 = 6\n",
      "1 * 7 = 7\n",
      "1 * 8 = 8\n",
      "1 * 9 = 9\n"
     ]
    }
   ],
   "source": [
    "#구구단을외자!\n",
    "\n",
    "n = int(input(\"구구단을 알려드립니다.숫자를 입력하세요.\"))\n",
    "\n",
    "for i in range(1, 10):\n",
    "    print(f'{n} * {i} = {n*i}')"
   ]
  },
  {
   "cell_type": "code",
   "execution_count": 68,
   "id": "5cdff1c8-162d-4177-be17-35d003b6be8d",
   "metadata": {},
   "outputs": [
    {
     "name": "stdin",
     "output_type": "stream",
     "text": [
      "자연수를 입력해주세요. 1000\n"
     ]
    },
    {
     "name": "stdout",
     "output_type": "stream",
     "text": [
      "500500\n"
     ]
    }
   ],
   "source": [
    "#나는가우스다\n",
    "\n",
    "n = int(input(\"자연수를 입력해주세요.\"))\n",
    "\n",
    "print(int((n*(n+1))/2))\n"
   ]
  },
  {
   "cell_type": "code",
   "execution_count": 70,
   "id": "943b0874-0572-4b09-be2d-017eba87fe77",
   "metadata": {},
   "outputs": [
    {
     "name": "stdin",
     "output_type": "stream",
     "text": [
      "자연수를 입력해주세요. 5\n"
     ]
    },
    {
     "name": "stdout",
     "output_type": "stream",
     "text": [
      "* * * * * \n",
      "* * * * * \n",
      "* * * * * \n",
      "* * * * * \n",
      "* * * * * \n"
     ]
    }
   ],
   "source": [
    "n = int(input(\"자연수를 입력해주세요.\"))\n",
    "\n",
    "for i in range(n):\n",
    "    print('* '*n)"
   ]
  },
  {
   "cell_type": "code",
   "execution_count": 73,
   "id": "c21654cb-3e39-4c35-b921-af4cf27b1eef",
   "metadata": {},
   "outputs": [
    {
     "name": "stdout",
     "output_type": "stream",
     "text": [
      "2\t4\t6\t8\t10\t12\t14\t16\t18\t20\t22\t24\t26\t28\t30\t32\t34\t36\t38\t40\t42\t44\t46\t48\t50\t52\t54\t56\t58\t60\t62\t64\t66\t68\t70\t72\t74\t76\t78\t80\t82\t84\t86\t88\t90\t92\t94\t96\t98\t100\t"
     ]
    }
   ],
   "source": [
    "i = 2\n",
    "while i <= 100:\n",
    "    print(f'{i}\\t', end='')\n",
    "    i += 2"
   ]
  },
  {
   "cell_type": "code",
   "execution_count": 74,
   "id": "9ebad9eb-5a9b-46d6-a239-771c701ff2d6",
   "metadata": {},
   "outputs": [
    {
     "name": "stdin",
     "output_type": "stream",
     "text": [
      "자연수를 입력해주세요. 9\n"
     ]
    },
    {
     "name": "stdout",
     "output_type": "stream",
     "text": [
      "9 * 1 = 9\n",
      "9 * 2 = 18\n",
      "9 * 3 = 27\n",
      "9 * 4 = 36\n",
      "9 * 5 = 45\n",
      "9 * 6 = 54\n",
      "9 * 7 = 63\n",
      "9 * 8 = 72\n",
      "9 * 9 = 81\n"
     ]
    }
   ],
   "source": [
    "#while 구구단\n",
    "n = int(input(\"자연수를 입력해주세요.\"))\n",
    "i = 1\n",
    "\n",
    "while i<10:\n",
    "    print(f'{n} * {i} = {n*i}')\n",
    "    i += 1"
   ]
  },
  {
   "cell_type": "code",
   "execution_count": null,
   "id": "367ce71e-c996-45a5-86fb-ef5f70f29b40",
   "metadata": {},
   "outputs": [],
   "source": []
  }
 ],
 "metadata": {
  "kernelspec": {
   "display_name": "Python 3 (ipykernel)",
   "language": "python",
   "name": "python3"
  },
  "language_info": {
   "codemirror_mode": {
    "name": "ipython",
    "version": 3
   },
   "file_extension": ".py",
   "mimetype": "text/x-python",
   "name": "python",
   "nbconvert_exporter": "python",
   "pygments_lexer": "ipython3",
   "version": "3.9.16"
  }
 },
 "nbformat": 4,
 "nbformat_minor": 5
}
