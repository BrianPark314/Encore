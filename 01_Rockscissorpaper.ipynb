{
 "cells": [
  {
   "cell_type": "code",
   "execution_count": 2,
   "id": "554b6d06-5f37-4405-ad6c-738f7251efbe",
   "metadata": {},
   "outputs": [
    {
     "name": "stdout",
     "output_type": "stream",
     "text": [
      "5100\n"
     ]
    }
   ],
   "source": [
    "#N명이 동시에 가위바위보를 했을 때, 다수결로 승부가 결정되는 경우의 수를 구하시오. 단 N은 2 이상의 자연수이다.\n",
    "#조합을 이용하여 N명 사이에 칸막이 두 개를 넣는 경우의 수와 동일함을 이용하면 된다.\n",
    "\n",
    "N = 100\n",
    "cnt = 0\n",
    "for l in range(0, N+1): #왼쪽 칸막이 위치\n",
    "    for r in range(l, N+1): #오른쪽 칸막이 위치\n",
    "        all = [l, r-1, N-r] #칸막이 사이에 나뉜 사람 수를 저장\n",
    "        if all.count(max(all)) == 1:\n",
    "            cnt += 1 #가장 많은 손이 중복되지 않은 경우\n",
    "\n",
    "print(cnt)"
   ]
  },
  {
   "cell_type": "code",
   "execution_count": null,
   "id": "2e85c1a7-4ed2-49a8-bafe-1ec34971513c",
   "metadata": {},
   "outputs": [],
   "source": []
  }
 ],
 "metadata": {
  "kernelspec": {
   "display_name": "Python 3 (ipykernel)",
   "language": "python",
   "name": "python3"
  },
  "language_info": {
   "codemirror_mode": {
    "name": "ipython",
    "version": 3
   },
   "file_extension": ".py",
   "mimetype": "text/x-python",
   "name": "python",
   "nbconvert_exporter": "python",
   "pygments_lexer": "ipython3",
   "version": "3.9.16"
  }
 },
 "nbformat": 4,
 "nbformat_minor": 5
}
