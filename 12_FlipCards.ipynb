{
 "cells": [
  {
   "cell_type": "code",
   "execution_count": null,
   "id": "372b0e75-8ff9-4c2e-bf29-e4bf1d16b1e2",
   "metadata": {},
   "outputs": [],
   "source": [
    "#1부터 차례대로 숫자가 1개씩 적힌 카드가 있다. 카드는 일렬로 나란히 있고, 가장 왼쪽 카드에 적혀 있는 숫지를 보고,\n",
    "#해당 숫자만큼의 카드를 왼쪽에서부터 선택해서 순서를 반전한다. 이 작업을 왼쪽 끝이 1이 될 때까지 반복한다.\n",
    "# 1~9까지의 숫자가 적힌 9장의 카드로 이와 같은 처리를 반복한다. 처리를 5번 반복해서 끝나느 경우의 수는?\n",
    "\n",
    "#단순하게 모든 경우를 확인하면 너무 시간이 오래 걸리므로, 왼쪽 끝이 1인 패턴을 5번 바꾸면 된다."
   ]
  }
 ],
 "metadata": {
  "kernelspec": {
   "display_name": "Python 3 (ipykernel)",
   "language": "python",
   "name": "python3"
  },
  "language_info": {
   "codemirror_mode": {
    "name": "ipython",
    "version": 3
   },
   "file_extension": ".py",
   "mimetype": "text/x-python",
   "name": "python",
   "nbconvert_exporter": "python",
   "pygments_lexer": "ipython3",
   "version": "3.9.16"
  }
 },
 "nbformat": 4,
 "nbformat_minor": 5
}
