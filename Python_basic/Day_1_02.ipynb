{
 "cells": [
  {
   "cell_type": "code",
   "execution_count": 1,
   "id": "04125f7e-0d33-48ca-b20f-abee27ef6eb0",
   "metadata": {},
   "outputs": [],
   "source": [
    "#주석 사용하기\n",
    "x = 1 #여기서 = 기호는 수학의 같다는 의미와는 다르다.\n",
    "      #... 우측 변의 리터럴을 좌측 변의 변수에 대입한다는 의미다.\n",
    "    \n",
    "text = \"# 이것은 주석이 아닙니다. 따옴표 안은 문자열 리터럴입니다.\""
   ]
  },
  {
   "cell_type": "code",
   "execution_count": 2,
   "id": "4aaa8399-bfe2-4b1b-aa7e-0b8b848f8d7b",
   "metadata": {},
   "outputs": [
    {
     "name": "stdout",
     "output_type": "stream",
     "text": [
      "1\n"
     ]
    }
   ],
   "source": [
    "print(x)"
   ]
  },
  {
   "cell_type": "code",
   "execution_count": 4,
   "id": "be9d2c60-d236-4187-9260-367af85603a6",
   "metadata": {},
   "outputs": [
    {
     "name": "stdout",
     "output_type": "stream",
     "text": [
      "# 이것은 주석이 아닙니다. 따옴표 안은 문자열 리터럴입니다.\n"
     ]
    }
   ],
   "source": [
    "print(text)"
   ]
  },
  {
   "cell_type": "code",
   "execution_count": 9,
   "id": "4bbf00fd-4578-414f-be86-143c1de5224c",
   "metadata": {},
   "outputs": [
    {
     "name": "stdout",
     "output_type": "stream",
     "text": [
      "Hello world!\n",
      "Hello world!\n",
      "Python Programming\n"
     ]
    }
   ],
   "source": [
    "x = \"Hello world!\"\n",
    "y = \"Python Programming\"\n",
    "print(x+'\\n'+x+'\\n'+y)"
   ]
  },
  {
   "cell_type": "code",
   "execution_count": 10,
   "id": "5acfff1a-d3dc-4e8e-b136-61d032e876e3",
   "metadata": {},
   "outputs": [
    {
     "name": "stdout",
     "output_type": "stream",
     "text": [
      "89\n"
     ]
    }
   ],
   "source": [
    "print(13+(22-3)*4)"
   ]
  },
  {
   "cell_type": "code",
   "execution_count": 11,
   "id": "033b4ade-b7b4-4169-a9b6-dd9c55fb475a",
   "metadata": {},
   "outputs": [
    {
     "name": "stdout",
     "output_type": "stream",
     "text": [
      "28.2\n"
     ]
    }
   ],
   "source": [
    "print(13+((22-3)*4)/5)"
   ]
  },
  {
   "cell_type": "code",
   "execution_count": 15,
   "id": "c71f182b-f82d-4e20-9c57-83f4c71af639",
   "metadata": {},
   "outputs": [
    {
     "data": {
      "text/plain": [
       "7"
      ]
     },
     "execution_count": 15,
     "metadata": {},
     "output_type": "execute_result"
    }
   ],
   "source": [
    "# 소음이 가장 심한 층 구하기\n",
    "int(0.2467 * 12 + 4.159)"
   ]
  },
  {
   "cell_type": "code",
   "execution_count": 21,
   "id": "ad91a207-9004-4251-996c-b01d77a3f83a",
   "metadata": {},
   "outputs": [
    {
     "name": "stdout",
     "output_type": "stream",
     "text": [
      "가장 시끄러운 층은 = 7층\n"
     ]
    }
   ],
   "source": [
    "x = int(0.2467 * 12 + 4.159)\n",
    "print(\"가장 시끄러운 층은 = {}층\".format(x))"
   ]
  },
  {
   "cell_type": "code",
   "execution_count": 22,
   "id": "86ec1b49-200c-4529-8880-323e72180cfc",
   "metadata": {},
   "outputs": [
    {
     "name": "stdout",
     "output_type": "stream",
     "text": [
      "냉장고 가격은 1272000원입니다.\n"
     ]
    }
   ],
   "source": [
    "print(\"냉장고 가격은 {}원입니다.\".format(53000*24))"
   ]
  },
  {
   "cell_type": "code",
   "execution_count": 24,
   "id": "841353bd-e03c-4d4c-b508-bed9f41b8c0c",
   "metadata": {
    "tags": []
   },
   "outputs": [
    {
     "name": "stdout",
     "output_type": "stream",
     "text": [
      "총 지불해야 할 금액은 16500000원입니다.\n"
     ]
    }
   ],
   "source": [
    "people = 250\n",
    "price = 20000\n",
    "tax = 1.1\n",
    "number = 3\n",
    "totalPrice = int(people*price*number*tax)\n",
    "print(\"총 지불해야 할 금액은 {}원입니다.\".format(totalPrice))"
   ]
  },
  {
   "cell_type": "code",
   "execution_count": 25,
   "id": "6e3b7356-faf0-4fff-93f3-2fc0b426d108",
   "metadata": {
    "tags": []
   },
   "outputs": [
    {
     "name": "stdout",
     "output_type": "stream",
     "text": [
      "453.0\n"
     ]
    }
   ],
   "source": [
    "#[문제1] L이라는 게임에서 왜곡 스킬이 AP x 0.6 + 225의 피해를 줍니다. AP가 380이라면 스킬의 피해량은?\n",
    "print(380*0.6+225)"
   ]
  },
  {
   "cell_type": "code",
   "execution_count": 26,
   "id": "5384c17a-ca77-4288-a829-639684c4b6a9",
   "metadata": {},
   "outputs": [
    {
     "name": "stdout",
     "output_type": "stream",
     "text": [
      "\"안녕?\"이라는 그 인사를 듣고 나는 '누구지?'라고 생각했다.\n"
     ]
    }
   ],
   "source": [
    "str = '\\\"안녕?\\\"이라는 그 인사를 듣고 나는 \\'누구지?\\'라고 생각했다.'\n",
    "print(str)"
   ]
  },
  {
   "cell_type": "code",
   "execution_count": null,
   "id": "c33de9c0-9d0f-4dca-bbc4-1d7c71e1a23d",
   "metadata": {},
   "outputs": [],
   "source": []
  }
 ],
 "metadata": {
  "kernelspec": {
   "display_name": "Python 3 (ipykernel)",
   "language": "python",
   "name": "python3"
  },
  "language_info": {
   "codemirror_mode": {
    "name": "ipython",
    "version": 3
   },
   "file_extension": ".py",
   "mimetype": "text/x-python",
   "name": "python",
   "nbconvert_exporter": "python",
   "pygments_lexer": "ipython3",
   "version": "3.9.16"
  }
 },
 "nbformat": 4,
 "nbformat_minor": 5
}
