{
 "cells": [
  {
   "cell_type": "code",
   "execution_count": 6,
   "id": "322fba92-e839-4705-98b7-1c1ac2bd4cf4",
   "metadata": {},
   "outputs": [
    {
     "name": "stdin",
     "output_type": "stream",
     "text": [
      "나이는 몇살인가요? 20\n",
      "이름은 무엇인가요? 마리아\n",
      "주소는 어디인가요? 서울시 강남구\n",
      "나이는 몇살인가요? 25\n",
      "이름은 무엇인가요? 제임스\n",
      "주소는 어디인가요? 서울시 구로구\n"
     ]
    },
    {
     "name": "stdout",
     "output_type": "stream",
     "text": [
      "첫번째 이름:20 \n",
      "첫번째 이름:마리아 \n",
      "첫번째 주소:서울시 강남구\n",
      "두번째 이름:25 \n",
      "두번째 이름:제임스 \n",
      "두번째 주소:서울시 구로구\n"
     ]
    }
   ],
   "source": [
    "class Person:\n",
    "    def __init__(self, age, name, address):\n",
    "        self.age = age\n",
    "        self.name = name\n",
    "        self.address = address\n",
    "\n",
    "maria = Person(0, \"\", \"\")\n",
    "james = Person(0, \"\", \"\")\n",
    "\n",
    "maria.age = int(input(\"나이는 몇살인가요?\"))\n",
    "maria.name = input(\"이름은 무엇인가요?\")\n",
    "maria.address = input(\"주소는 어디인가요?\")\n",
    "\n",
    "james.age = int(input(\"나이는 몇살인가요?\"))\n",
    "james.name = input(\"이름은 무엇인가요?\")\n",
    "james.address = input(\"주소는 어디인가요?\")\n",
    "\n",
    "\n",
    "print(f\"첫번째 이름:{maria.age} \\n첫번째 이름:{maria.name} \\n첫번째 주소:{maria.address}\")\n",
    "print(f\"두번째 이름:{james.age} \\n두번째 이름:{james.name} \\n두번째 주소:{james.address}\")"
   ]
  },
  {
   "cell_type": "raw",
   "id": "7c424850-9016-4147-b4f7-d4ee56310085",
   "metadata": {},
   "source": [
    "instance의 attribute을 변강하지 못하도록 하고 싶을 땐 던더(__)를 붙이면 비공개 속성이 된다."
   ]
  },
  {
   "cell_type": "code",
   "execution_count": 13,
   "id": "be4f5002-74a4-4325-b1d7-c883b2d44519",
   "metadata": {},
   "outputs": [
    {
     "name": "stdin",
     "output_type": "stream",
     "text": [
      "체력, 마나, AP를 입력하세요. 511.69 334 298\n"
     ]
    },
    {
     "name": "stdout",
     "output_type": "stream",
     "text": [
      "티버: 피해량 593.7\n"
     ]
    }
   ],
   "source": [
    "class Annie:\n",
    "    def __init__(self):\n",
    "        self.hp = 0\n",
    "        self.mp = 0\n",
    "        self.ap = 0\n",
    "    \n",
    "    def tibbers(self):\n",
    "        print(f\"티버: 피해량 {self.ap*0.65+400}\")\n",
    "annie = Annie()\n",
    "annie.hp, annie.mp, annie.ap = list(map(float, (input(\"체력, 마나, AP를 입력하세요.\").split(' '))))\n",
    "annie.tibbers()"
   ]
  },
  {
   "cell_type": "raw",
   "id": "a7bfbbdc-c568-4abe-ae89-969f72cc5aa7",
   "metadata": {},
   "source": [
    "SQL은 Structured Query Language의 약자로, 구조적 쿼리 언어이다. \n",
    "Data query language 또는 SELECT는 데이터를 가져오기 위한 쿼리를 작성한다.\n",
    "Data control language는 접근 제어에 활용되고, GRANT, REVOKE와 같은 명령어를 활용하여 사용자마다 접근할 수 있는 영역을 나누고 할 수 있는 작업을 나눈다.\n",
    "DML은 데이터 자체를 다루는 언어로 INSERT, UPDATE, DELETE 명령어가 이에 해당된다. 데이터는 Row마다 구성하고 있고 이 언어를 통해 Row들을 다루게 된다."
   ]
  },
  {
   "cell_type": "raw",
   "id": "637e7b71-600e-474b-bd98-334a3971c913",
   "metadata": {},
   "source": [
    "MariaDB server data types\n",
    "-CHAR\n",
    " 고정된 길이의 문자열을 저장한다. ex) CHAR(20)에 'ABC'만 저장하면 나머지 17개 값은 빈 값으로 채운다.\n",
    "-VARCHAR\n",
    " 가변 길이의 문자열을 저장한다. \n",
    "-TEXT\n",
    " 매우 큰 문자열을 저장할 때 사용한다(MAX 65,535Byte).\n",
    "-INT\n",
    " 정수를 저장한다.\n",
    "-BIGINT\n",
    " 아주 큰 정수를 저장한다.\n",
    "-FLOAT\n",
    " 최대 소숫점 7자리까지 표현하는 실수를 저장한다.\n",
    "-DECIMAL\n",
    " 정확한 소수점이 필요한 경우에 사용하는 실수 데이터 타입이다.\n",
    "-DATETIME\n",
    " 날짜를 저장하는 타입이다."
   ]
  },
  {
   "cell_type": "code",
   "execution_count": null,
   "id": "fcb8eeae-887f-4bac-8f4f-30b3c1713d5f",
   "metadata": {},
   "outputs": [],
   "source": []
  }
 ],
 "metadata": {
  "kernelspec": {
   "display_name": "Python 3 (ipykernel)",
   "language": "python",
   "name": "python3"
  },
  "language_info": {
   "codemirror_mode": {
    "name": "ipython",
    "version": 3
   },
   "file_extension": ".py",
   "mimetype": "text/x-python",
   "name": "python",
   "nbconvert_exporter": "python",
   "pygments_lexer": "ipython3",
   "version": "3.9.16"
  }
 },
 "nbformat": 4,
 "nbformat_minor": 5
}
