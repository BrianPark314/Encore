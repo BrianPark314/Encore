{
 "cells": [
  {
   "cell_type": "markdown",
   "id": "4a96cd95-4f9d-4e69-8c89-3cc53ea1f7f3",
   "metadata": {},
   "source": [
    "이제 배운 것을 활용하여 한국은행 openapi의 통계에 접근해 보자. get 메서드로 https://ecos.bok.or.kr/api/StatisticSearch/sample/json/kr/1/10/200Y001/A/2015/2021/10101/?/?/? 에 접속한다."
   ]
  },
  {
   "cell_type": "code",
   "execution_count": 34,
   "id": "d6a06f34-6365-4763-b5d2-a46a7e0aec41",
   "metadata": {},
   "outputs": [
    {
     "name": "stdout",
     "output_type": "stream",
     "text": [
      "Response Code 200\n"
     ]
    }
   ],
   "source": [
    "import requests as rq\n",
    "gdp = rq.get('https://ecos.bok.or.kr/api/StatisticSearch/XYPOYKDP47WYCIRCVWP6/json/kr/1/10/200Y001/A/2012/2021/10101/?/?/?')\n",
    "print('Response Code', gdp.status_code)\n",
    "key = 'XYPOYKDP47WYCIRCVWP6'"
   ]
  },
  {
   "cell_type": "code",
   "execution_count": 32,
   "id": "c55397c3-a5d9-4e68-8586-17084bf4ab15",
   "metadata": {},
   "outputs": [
    {
     "name": "stdout",
     "output_type": "stream",
     "text": [
      "{'STAT_CODE': '200Y001', 'STAT_NAME': '2.1.1.1. 주요지표(연간지표)', 'ITEM_CODE1': '10101', 'ITEM_NAME1': '국내총생산(명목, 원화표시)', 'ITEM_CODE2': None, 'ITEM_NAME2': None, 'ITEM_CODE3': None, 'ITEM_NAME3': None, 'ITEM_CODE4': None, 'ITEM_NAME4': None, 'UNIT_NAME': '십억원 ', 'TIME': '2012', 'DATA_VALUE': '1440111.4'}\n"
     ]
    }
   ],
   "source": [
    "import json\n",
    "gdp = gdp.json()\n",
    "print(gdp['StatisticSearch']['row'][0])"
   ]
  },
  {
   "cell_type": "markdown",
   "id": "8777c76c-bf65-4912-85c7-b81bbc2e1344",
   "metadata": {},
   "source": [
    "예시로 지난 10년간의 국내총생산을 받아 보았다. 이제 데이터프레임에 넣어주면"
   ]
  },
  {
   "cell_type": "code",
   "execution_count": 26,
   "id": "350e8e0a-6421-4a7c-b4ca-c88da95667ec",
   "metadata": {},
   "outputs": [
    {
     "name": "stdout",
     "output_type": "stream",
     "text": [
      "                                                    StatisticSearch\n",
      "list_total_count                                                 10\n",
      "row               [{'STAT_CODE': '200Y001', 'STAT_NAME': '2.1.1....\n"
     ]
    }
   ],
   "source": [
    "import pandas as pd\n",
    "\n",
    "df = pd.DataFrame(gdp)\n",
    "print(df)"
   ]
  },
  {
   "cell_type": "markdown",
   "id": "5a660df5-760b-40d7-a40f-04fcc269b92b",
   "metadata": {},
   "source": [
    "xml의 경우 xmltodict.parse() 를 통해 dict으로 언팩할 수 있다. "
   ]
  },
  {
   "cell_type": "code",
   "execution_count": 35,
   "id": "475d4e46-6deb-4e3d-97d4-356fc7340c42",
   "metadata": {},
   "outputs": [],
   "source": [
    "dicturl = f'https://ecos.bok.or.kr/api/StatisticWord/{key}/json/kr/1/10/'\n",
    "dictionary = rq.get(dicturl)\n",
    "dictionary = dictionary.json()"
   ]
  },
  {
   "cell_type": "code",
   "execution_count": 36,
   "id": "b158340b-8ed2-4d02-9dc6-e2c84fffa81d",
   "metadata": {},
   "outputs": [
    {
     "name": "stdout",
     "output_type": "stream",
     "text": [
      "{'RESULT': {'CODE': 'ERROR-100', 'MESSAGE': '필수 값이 누락되어 있습니다. 필수 값을 확인하십시오!\\n 필수 값이 누락되어 있으면 오류를 발생합니다. 요청 변수를 참고 하십시오!'}}\n"
     ]
    }
   ],
   "source": [
    "print(dictionary)"
   ]
  },
  {
   "cell_type": "code",
   "execution_count": 55,
   "id": "1274546b-d495-4147-a8bf-c682457c169a",
   "metadata": {
    "collapsed": true,
    "jupyter": {
     "outputs_hidden": true
    },
    "tags": []
   },
   "outputs": [
    {
     "name": "stdout",
     "output_type": "stream",
     "text": [
      "200\n",
      "{'KeyStatisticList': {'list_total_count': 100, 'row_count': 100, 'row': [{'CLASS_NAME': '시장금리', 'KEYSTAT_NAME': '한국은행 기준금리', 'DATA_VALUE': '3.5', 'CYCLE': '20230225', 'UNIT_NAME': '% '}, {'CLASS_NAME': '시장금리', 'KEYSTAT_NAME': '콜금리(익일물)', 'DATA_VALUE': '3.428', 'CYCLE': '20230227', 'UNIT_NAME': '% '}, {'CLASS_NAME': '시장금리', 'KEYSTAT_NAME': 'KORIBOR(3개월)', 'DATA_VALUE': '3.63', 'CYCLE': '20230227', 'UNIT_NAME': '% '}, {'CLASS_NAME': '시장금리', 'KEYSTAT_NAME': 'CD수익률(91일)', 'DATA_VALUE': '3.59', 'CYCLE': '20230227', 'UNIT_NAME': '% '}, {'CLASS_NAME': '시장금리', 'KEYSTAT_NAME': '통안증권수익률(364일)', 'DATA_VALUE': '3.662', 'CYCLE': '20230227', 'UNIT_NAME': '% '}, {'CLASS_NAME': '시장금리', 'KEYSTAT_NAME': '국고채수익률(3년)', 'DATA_VALUE': '3.683', 'CYCLE': '20230227', 'UNIT_NAME': '% '}, {'CLASS_NAME': '시장금리', 'KEYSTAT_NAME': '국고채수익률(5년)', 'DATA_VALUE': '3.692', 'CYCLE': '20230227', 'UNIT_NAME': '% '}, {'CLASS_NAME': '시장금리', 'KEYSTAT_NAME': '회사채수익률(3년,AA-)', 'DATA_VALUE': '4.366', 'CYCLE': '20230227', 'UNIT_NAME': '% '}, {'CLASS_NAME': '여수신금리', 'KEYSTAT_NAME': '예금은행 수신금리', 'DATA_VALUE': '4.22', 'CYCLE': '202212', 'UNIT_NAME': '% '}, {'CLASS_NAME': '여수신금리', 'KEYSTAT_NAME': '예금은행 대출금리', 'DATA_VALUE': '5.56', 'CYCLE': '202212', 'UNIT_NAME': '% '}, {'CLASS_NAME': '예금/대출금', 'KEYSTAT_NAME': '예금은행총예금(말잔)', 'DATA_VALUE': '1958013.6', 'CYCLE': '202212', 'UNIT_NAME': '십억원 '}, {'CLASS_NAME': '예금/대출금', 'KEYSTAT_NAME': '예금은행대출금(말잔)', 'DATA_VALUE': '2165861.1', 'CYCLE': '202212', 'UNIT_NAME': '십억원 '}, {'CLASS_NAME': '예금/대출금', 'KEYSTAT_NAME': '가계신용', 'DATA_VALUE': '1867029.4389', 'CYCLE': '2022Q4', 'UNIT_NAME': '십억원 '}, {'CLASS_NAME': '예금/대출금', 'KEYSTAT_NAME': '가계대출연체율', 'DATA_VALUE': '0.3', 'CYCLE': '202212', 'UNIT_NAME': '% '}, {'CLASS_NAME': '통화량', 'KEYSTAT_NAME': 'M1(협의통화, 평잔)', 'DATA_VALUE': '1225205.6', 'CYCLE': '202212', 'UNIT_NAME': '십억원 '}, {'CLASS_NAME': '통화량', 'KEYSTAT_NAME': 'M2(광의통화, 평잔)', 'DATA_VALUE': '3781386.2', 'CYCLE': '202212', 'UNIT_NAME': '십억원 '}, {'CLASS_NAME': '통화량', 'KEYSTAT_NAME': 'Lf(평잔)', 'DATA_VALUE': '5165684.6', 'CYCLE': '202212', 'UNIT_NAME': '십억원 '}, {'CLASS_NAME': '통화량', 'KEYSTAT_NAME': 'L(말잔)', 'DATA_VALUE': '6555222.1', 'CYCLE': '202212', 'UNIT_NAME': '십억원 '}, {'CLASS_NAME': '환율', 'KEYSTAT_NAME': '원/달러 환율(종가)', 'DATA_VALUE': '1323', 'CYCLE': '20230227', 'UNIT_NAME': '원 '}, {'CLASS_NAME': '환율', 'KEYSTAT_NAME': '원/엔(100엔) 환율(매매기준율)', 'DATA_VALUE': '967.36', 'CYCLE': '20230228', 'UNIT_NAME': '원 '}, {'CLASS_NAME': '환율', 'KEYSTAT_NAME': '원/유로 환율(매매기준율)', 'DATA_VALUE': '1397.76', 'CYCLE': '20230228', 'UNIT_NAME': '원 '}, {'CLASS_NAME': '환율', 'KEYSTAT_NAME': '원/위안 환율(종가)', 'DATA_VALUE': '189.38', 'CYCLE': '20230227', 'UNIT_NAME': '원 '}, {'CLASS_NAME': '주식', 'KEYSTAT_NAME': '코스피지수', 'DATA_VALUE': '2402.64', 'CYCLE': '20230227', 'UNIT_NAME': '1980.01.04=100 '}, {'CLASS_NAME': '주식', 'KEYSTAT_NAME': '코스닥지수', 'DATA_VALUE': '780.3', 'CYCLE': '20230227', 'UNIT_NAME': '1996.07.01=1000'}, {'CLASS_NAME': '주식', 'KEYSTAT_NAME': '주식거래대금', 'DATA_VALUE': '139364232100', 'CYCLE': '202301', 'UNIT_NAME': '천원 '}, {'CLASS_NAME': '주식', 'KEYSTAT_NAME': '고객예탁금', 'DATA_VALUE': '49274947', 'CYCLE': '202301', 'UNIT_NAME': '백만원 '}, {'CLASS_NAME': '채권', 'KEYSTAT_NAME': '채권거래대금', 'DATA_VALUE': '52925279', 'CYCLE': '202301', 'UNIT_NAME': '백만원 '}, {'CLASS_NAME': '채권', 'KEYSTAT_NAME': '국고채발행액', 'DATA_VALUE': '2700', 'CYCLE': '202212', 'UNIT_NAME': '십억원 '}, {'CLASS_NAME': '성장률', 'KEYSTAT_NAME': '경제성장률(실질, 계절조정 전기대비)', 'DATA_VALUE': '-0.4', 'CYCLE': '2022Q4', 'UNIT_NAME': '% '}, {'CLASS_NAME': '성장률', 'KEYSTAT_NAME': '민간소비증감률(실질, 계절조정 전기대비)', 'DATA_VALUE': '-0.4', 'CYCLE': '2022Q4', 'UNIT_NAME': '% '}, {'CLASS_NAME': '성장률', 'KEYSTAT_NAME': '설비투자증감률(실질, 계절조정 전기대비)', 'DATA_VALUE': '2.3', 'CYCLE': '2022Q4', 'UNIT_NAME': '% '}, {'CLASS_NAME': '성장률', 'KEYSTAT_NAME': '건설투자증감률(실질, 계절조정 전기대비)', 'DATA_VALUE': '0.7', 'CYCLE': '2022Q4', 'UNIT_NAME': '% '}, {'CLASS_NAME': '성장률', 'KEYSTAT_NAME': '재화의 수출 증감률(실질, 계절조정 전기대비)', 'DATA_VALUE': '-6.2', 'CYCLE': '2022Q4', 'UNIT_NAME': '% '}, {'CLASS_NAME': '소득', 'KEYSTAT_NAME': 'GDP(명목, 계절조정)', 'DATA_VALUE': '538803.8', 'CYCLE': '2022Q3', 'UNIT_NAME': '십억원 '}, {'CLASS_NAME': '소득', 'KEYSTAT_NAME': '1인당GNI', 'DATA_VALUE': '35373.1', 'CYCLE': '2021', 'UNIT_NAME': '달러 '}, {'CLASS_NAME': 'GDP대비 비율', 'KEYSTAT_NAME': '총저축률', 'DATA_VALUE': '32.7', 'CYCLE': '2022Q3', 'UNIT_NAME': '% '}, {'CLASS_NAME': 'GDP대비 비율', 'KEYSTAT_NAME': '국내총투자율', 'DATA_VALUE': '34.5', 'CYCLE': '2022Q3', 'UNIT_NAME': '% '}, {'CLASS_NAME': 'GDP대비 비율', 'KEYSTAT_NAME': '수출입의 대 GNI 비율', 'DATA_VALUE': '83.9', 'CYCLE': '2021', 'UNIT_NAME': '% '}, {'CLASS_NAME': '생산', 'KEYSTAT_NAME': '전산업생산지수(농림어업제외)', 'DATA_VALUE': '114', 'CYCLE': '202212', 'UNIT_NAME': '2015=100'}, {'CLASS_NAME': '생산', 'KEYSTAT_NAME': '제조업생산지수', 'DATA_VALUE': '107.5', 'CYCLE': '202212', 'UNIT_NAME': '2015=100'}, {'CLASS_NAME': '생산', 'KEYSTAT_NAME': '제조업출하지수', 'DATA_VALUE': '101.7', 'CYCLE': '202212', 'UNIT_NAME': '2015=100'}, {'CLASS_NAME': '생산', 'KEYSTAT_NAME': '제조업재고지수', 'DATA_VALUE': '128.1', 'CYCLE': '202212', 'UNIT_NAME': '2015=100'}, {'CLASS_NAME': '생산', 'KEYSTAT_NAME': '제조업가동률지수', 'DATA_VALUE': '94.4', 'CYCLE': '202212', 'UNIT_NAME': '2015=100'}, {'CLASS_NAME': '생산', 'KEYSTAT_NAME': '서비스업생산지수', 'DATA_VALUE': '117', 'CYCLE': '202212', 'UNIT_NAME': '2015=100'}, {'CLASS_NAME': '생산', 'KEYSTAT_NAME': '도소매업지수', 'DATA_VALUE': '107.9', 'CYCLE': '202212', 'UNIT_NAME': '2015=100'}, {'CLASS_NAME': '소비', 'KEYSTAT_NAME': '소매판매액지수', 'DATA_VALUE': '119.9', 'CYCLE': '202212', 'UNIT_NAME': '2015=100'}, {'CLASS_NAME': '소비', 'KEYSTAT_NAME': '개인신용카드사용액', 'DATA_VALUE': '65224427.220567', 'CYCLE': '202211', 'UNIT_NAME': '백만원 '}, {'CLASS_NAME': '소비', 'KEYSTAT_NAME': '자동차판매액지수', 'DATA_VALUE': '141.3', 'CYCLE': '202212', 'UNIT_NAME': '2015=100'}, {'CLASS_NAME': '투자', 'KEYSTAT_NAME': '설비투자지수', 'DATA_VALUE': '126.2', 'CYCLE': '202212', 'UNIT_NAME': '2015=100'}, {'CLASS_NAME': '투자', 'KEYSTAT_NAME': '기계류내수출하지수', 'DATA_VALUE': '111.3', 'CYCLE': '202212', 'UNIT_NAME': '2015=100'}, {'CLASS_NAME': '투자', 'KEYSTAT_NAME': '국내수요기계수주액', 'DATA_VALUE': '2580781', 'CYCLE': '202212', 'UNIT_NAME': '백만원 '}, {'CLASS_NAME': '투자', 'KEYSTAT_NAME': '건설기성액', 'DATA_VALUE': '9519318', 'CYCLE': '202212', 'UNIT_NAME': '백만원 '}, {'CLASS_NAME': '투자', 'KEYSTAT_NAME': '건축허가면적', 'DATA_VALUE': '15489406', 'CYCLE': '202212', 'UNIT_NAME': '㎡'}, {'CLASS_NAME': '투자', 'KEYSTAT_NAME': '건설수주액', 'DATA_VALUE': '24709003', 'CYCLE': '202212', 'UNIT_NAME': '백만원 '}, {'CLASS_NAME': '투자', 'KEYSTAT_NAME': '건축착공면적', 'DATA_VALUE': '6929706', 'CYCLE': '202212', 'UNIT_NAME': '㎡'}, {'CLASS_NAME': '경기순환지표', 'KEYSTAT_NAME': '경기동행지수순환변동치', 'DATA_VALUE': '100.9', 'CYCLE': '202212', 'UNIT_NAME': None}, {'CLASS_NAME': '경기순환지표', 'KEYSTAT_NAME': '경기선행지수순환변동치', 'DATA_VALUE': '98.5', 'CYCLE': '202212', 'UNIT_NAME': None}, {'CLASS_NAME': '심리지표', 'KEYSTAT_NAME': '소비자심리지수', 'DATA_VALUE': '90.17341', 'CYCLE': '202302', 'UNIT_NAME': None}, {'CLASS_NAME': '심리지표', 'KEYSTAT_NAME': '제조업업황실적BSI', 'DATA_VALUE': '63.490474', 'CYCLE': '202302', 'UNIT_NAME': None}, {'CLASS_NAME': '심리지표', 'KEYSTAT_NAME': '경제심리지수', 'DATA_VALUE': '91.628031', 'CYCLE': '202302', 'UNIT_NAME': None}, {'CLASS_NAME': '기업경영지표', 'KEYSTAT_NAME': '제조업매출액증감률', 'DATA_VALUE': '18.1', 'CYCLE': '2021', 'UNIT_NAME': '% '}, {'CLASS_NAME': '기업경영지표', 'KEYSTAT_NAME': '제조업매출액세전순이익률', 'DATA_VALUE': '7.74', 'CYCLE': '2021', 'UNIT_NAME': '% '}, {'CLASS_NAME': '기업경영지표', 'KEYSTAT_NAME': '제조업부채비율', 'DATA_VALUE': '78.55', 'CYCLE': '2021', 'UNIT_NAME': '% '}, {'CLASS_NAME': '가계', 'KEYSTAT_NAME': '가구당월평균소득', 'DATA_VALUE': '6401718.413', 'CYCLE': '2022Q4', 'UNIT_NAME': '원 '}, {'CLASS_NAME': '가계', 'KEYSTAT_NAME': '평균소비성향', 'DATA_VALUE': '67.976', 'CYCLE': '2022Q4', 'UNIT_NAME': '% '}, {'CLASS_NAME': '소득분배지표', 'KEYSTAT_NAME': '지니계수', 'DATA_VALUE': '0.333', 'CYCLE': '2021', 'UNIT_NAME': None}, {'CLASS_NAME': '소득분배지표', 'KEYSTAT_NAME': '5분위배율', 'DATA_VALUE': '5.96', 'CYCLE': '2021', 'UNIT_NAME': None}, {'CLASS_NAME': '고용', 'KEYSTAT_NAME': '실업률', 'DATA_VALUE': '3.6', 'CYCLE': '202301', 'UNIT_NAME': '% '}, {'CLASS_NAME': '고용', 'KEYSTAT_NAME': '고용률', 'DATA_VALUE': '60.3', 'CYCLE': '202301', 'UNIT_NAME': '% '}, {'CLASS_NAME': '고용', 'KEYSTAT_NAME': '경제활동인구', 'DATA_VALUE': '28386.9', 'CYCLE': '202301', 'UNIT_NAME': '천명 '}, {'CLASS_NAME': '고용', 'KEYSTAT_NAME': '취업자수', 'DATA_VALUE': '27363.1', 'CYCLE': '202301', 'UNIT_NAME': '천명 '}, {'CLASS_NAME': '노동', 'KEYSTAT_NAME': '시간당명목임금지수', 'DATA_VALUE': '142.49914', 'CYCLE': '2022Q3', 'UNIT_NAME': '2015=100'}, {'CLASS_NAME': '노동', 'KEYSTAT_NAME': '노동생산성지수', 'DATA_VALUE': '123.14482', 'CYCLE': '2022Q3', 'UNIT_NAME': '2015=100'}, {'CLASS_NAME': '노동', 'KEYSTAT_NAME': '단위노동비용지수', 'DATA_VALUE': '113.75906', 'CYCLE': '2022Q3', 'UNIT_NAME': '2015=100'}, {'CLASS_NAME': '인구', 'KEYSTAT_NAME': '추계인구', 'DATA_VALUE': '51558034', 'CYCLE': '2023', 'UNIT_NAME': '명 '}, {'CLASS_NAME': '인구', 'KEYSTAT_NAME': '고령인구비율(65세 이상)', 'DATA_VALUE': '18.4', 'CYCLE': '2023', 'UNIT_NAME': '% '}, {'CLASS_NAME': '인구', 'KEYSTAT_NAME': '합계출산율', 'DATA_VALUE': '0.78', 'CYCLE': '2022', 'UNIT_NAME': '명 '}, {'CLASS_NAME': '국제수지', 'KEYSTAT_NAME': '경상수지', 'DATA_VALUE': '2677.2', 'CYCLE': '202212', 'UNIT_NAME': '백만달러'}, {'CLASS_NAME': '국제수지', 'KEYSTAT_NAME': '직접투자(자산)', 'DATA_VALUE': '5508.3', 'CYCLE': '202212', 'UNIT_NAME': '백만달러'}, {'CLASS_NAME': '국제수지', 'KEYSTAT_NAME': '직접투자(부채)', 'DATA_VALUE': '2484.5', 'CYCLE': '202212', 'UNIT_NAME': '백만달러'}, {'CLASS_NAME': '국제수지', 'KEYSTAT_NAME': '증권투자(자산)', 'DATA_VALUE': '4374.3', 'CYCLE': '202212', 'UNIT_NAME': '백만달러'}, {'CLASS_NAME': '국제수지', 'KEYSTAT_NAME': '증권투자(부채)', 'DATA_VALUE': '-3052.7', 'CYCLE': '202212', 'UNIT_NAME': '백만달러'}, {'CLASS_NAME': '통관수출입', 'KEYSTAT_NAME': '수출금액지수', 'DATA_VALUE': '128.81', 'CYCLE': '202212', 'UNIT_NAME': '2015=100'}, {'CLASS_NAME': '통관수출입', 'KEYSTAT_NAME': '수입금액지수', 'DATA_VALUE': '166.41', 'CYCLE': '202212', 'UNIT_NAME': '2015=100'}, {'CLASS_NAME': '통관수출입', 'KEYSTAT_NAME': '순상품교역조건지수', 'DATA_VALUE': '83.36', 'CYCLE': '202212', 'UNIT_NAME': '2015=100'}, {'CLASS_NAME': '통관수출입', 'KEYSTAT_NAME': '소득교역조건지수', 'DATA_VALUE': '103.88', 'CYCLE': '202212', 'UNIT_NAME': '2015=100'}, {'CLASS_NAME': '대외채권/채무', 'KEYSTAT_NAME': '외환보유액', 'DATA_VALUE': '429967671', 'CYCLE': '202301', 'UNIT_NAME': '천달러 '}, {'CLASS_NAME': '대외채권/채무', 'KEYSTAT_NAME': '대외채무', 'DATA_VALUE': '664502.9', 'CYCLE': '2022Q4', 'UNIT_NAME': '백만달러'}, {'CLASS_NAME': '대외채권/채무', 'KEYSTAT_NAME': '대외채권', 'DATA_VALUE': '1025653.8', 'CYCLE': '2022Q4', 'UNIT_NAME': '백만달러'}, {'CLASS_NAME': '소비자/생산자 물가', 'KEYSTAT_NAME': '소비자물가지수', 'DATA_VALUE': '110.1', 'CYCLE': '202301', 'UNIT_NAME': '2020=100'}, {'CLASS_NAME': '소비자/생산자 물가', 'KEYSTAT_NAME': '농산물 및 석유류제외 소비자물가지수', 'DATA_VALUE': '108.91', 'CYCLE': '202301', 'UNIT_NAME': '2020=100'}, {'CLASS_NAME': '소비자/생산자 물가', 'KEYSTAT_NAME': '생활물가지수', 'DATA_VALUE': '111.77', 'CYCLE': '202301', 'UNIT_NAME': '2020=100'}, {'CLASS_NAME': '소비자/생산자 물가', 'KEYSTAT_NAME': '생산자물가지수', 'DATA_VALUE': '120.29', 'CYCLE': '202301', 'UNIT_NAME': '2015=100'}, {'CLASS_NAME': '수출입 물가', 'KEYSTAT_NAME': '수출물가지수', 'DATA_VALUE': '114.28', 'CYCLE': '202301', 'UNIT_NAME': '2015=100'}, {'CLASS_NAME': '수출입 물가', 'KEYSTAT_NAME': '수입물가지수', 'DATA_VALUE': '134.95', 'CYCLE': '202301', 'UNIT_NAME': '2015=100'}, {'CLASS_NAME': '부동산 가격', 'KEYSTAT_NAME': '주택매매가격지수', 'DATA_VALUE': '98.233566', 'CYCLE': '202301', 'UNIT_NAME': '2021.6=100'}, {'CLASS_NAME': '부동산 가격', 'KEYSTAT_NAME': '주택전세가격지수', 'DATA_VALUE': '95.215097', 'CYCLE': '202301', 'UNIT_NAME': '2021.6=100'}, {'CLASS_NAME': '부동산 가격', 'KEYSTAT_NAME': '지가변동률(전기대비)', 'DATA_VALUE': '-0.032', 'CYCLE': '202212', 'UNIT_NAME': '% '}, {'CLASS_NAME': '원자재', 'KEYSTAT_NAME': '국제유가(Dubai, 현물)', 'DATA_VALUE': '79.32', 'CYCLE': '202301', 'UNIT_NAME': '달러 '}, {'CLASS_NAME': '원자재', 'KEYSTAT_NAME': '금', 'DATA_VALUE': '1928.36', 'CYCLE': '202301', 'UNIT_NAME': '달러 '}]}}\n"
     ]
    }
   ],
   "source": [
    "stock_key = '901Y055'\n",
    "key_stats_url = 'https://ecos.bok.or.kr/api/KeyStatisticList/XYPOYKDP47WYCIRCVWP6/json/kr/1/100'\n",
    "\n",
    "key_stats = rq.get(key_stats_url)\n",
    "print(key_stats.status_code)\n",
    "key_stats_dict = key_stats.json()\n",
    "\n",
    "print(key_stats_dict)"
   ]
  },
  {
   "cell_type": "code",
   "execution_count": 37,
   "id": "787bc35f-6b8f-43b2-9184-ad566a80bf5a",
   "metadata": {},
   "outputs": [
    {
     "name": "stdout",
     "output_type": "stream",
     "text": [
      "200\n",
      "{'STAT_CODE': '901Y055', 'STAT_NAME': '1.5.1.3. 투자자별 주식거래', 'ITEM_CODE1': 'S22B', 'ITEM_NAME1': '매수 1)', 'ITEM_CODE2': 'VO', 'ITEM_NAME2': '거래량', 'ITEM_CODE3': None, 'ITEM_NAME3': None, 'ITEM_CODE4': None, 'ITEM_NAME4': None, 'UNIT_NAME': '천주 ', 'TIME': '202001', 'DATA_VALUE': '13096066'}\n"
     ]
    }
   ],
   "source": [
    "#20년부터 21년까지 월별 투자자별 주식거래를 받아보았다.\n",
    "stock_key = '901Y055'\n",
    "stock_url = f'https://ecos.bok.or.kr/api/StatisticSearch/{key}/json/kr/1/10/{stock_key}/M/202001/202112/S22B/?/?/?'\n",
    "\n",
    "stock = rq.get(stock_url)\n",
    "print(stock.status_code)\n",
    "stock_dict = stock.json()\n",
    "print(stock_dict['StatisticSearch']['row'][0])"
   ]
  },
  {
   "cell_type": "code",
   "execution_count": 58,
   "id": "821506f3-0989-4c3a-ab0f-9c9bc3b59a57",
   "metadata": {},
   "outputs": [
    {
     "name": "stdout",
     "output_type": "stream",
     "text": [
      "     TIME  DATA_VALUE\n",
      "0  202001    13096066\n",
      "1  202002    13959767\n",
      "2  202003    17091025\n",
      "3  202004    21045121\n",
      "4  202005    16206497\n",
      "5  202006    19863704\n",
      "6  202007    18866787\n",
      "7  202008    17643124\n",
      "8  202009    19606897\n",
      "9  202010    15705577\n"
     ]
    },
    {
     "data": {
      "text/plain": [
       "<AxesSubplot: >"
      ]
     },
     "execution_count": 58,
     "metadata": {},
     "output_type": "execute_result"
    },
    {
     "data": {
      "image/png": "[encoded data removed]",
      "text/plain": [
       "<Figure size 640x480 with 1 Axes>"
      ]
     },
     "metadata": {},
     "output_type": "display_data"
    }
   ],
   "source": [
    "%matplotlib inline\n",
    "import matplotlib as plt\n",
    "import datetime as dt\n",
    "\n",
    "stock_df = pd.DataFrame(stock_dict['StatisticSearch']['row'])\n",
    "stock_df = stock_df[['TIME', 'DATA_VALUE']]\n",
    "stock_df['TIME'] = stock_df['TIME'].astype(int)\n",
    "stock_df['DATA_VALUE'] = stock_df['DATA_VALUE'].astype(int)\n",
    "\n",
    "print(stock_df)\n",
    "stock_df.plot()"
   ]
  },
  {
   "cell_type": "code",
   "execution_count": null,
   "id": "b7009328-de13-4992-a303-da0e2cc292a7",
   "metadata": {},
   "outputs": [],
   "source": [
    "import pymysql.cursors\n",
    "from sqlalchemy import create_engine as ce\n",
    "\n",
    "engine = ce(\"mysql+pymysql://[root]:[Qkrrldud2021!]@[localhost]/[stock]?charset=utf8\", encoding = 'utf-8')\n",
    "# database 접속할 객체를 만듭니다\n",
    "conn = engine.connect()\n",
    "\n",
    "stock_df.to_sql(name=\"[stock_buy]\", con=engine, if_exists='append', index=False)\n",
    "\n",
    "conn.close()"
   ]
  },
  {
   "cell_type": "code",
   "execution_count": 27,
   "id": "d6102000-fbfe-4aa3-9e5a-79960197dc37",
   "metadata": {},
   "outputs": [
    {
     "name": "stdout",
     "output_type": "stream",
     "text": [
      "200\n",
      "200\n",
      "200\n",
      "200\n",
      "200\n",
      "200\n",
      "200\n"
     ]
    }
   ],
   "source": [
    "import requests as rq\n",
    "\n",
    "key = 'XYPOYKDP47WYCIRCVWP6'\n",
    "stock_key = '901Y055'\n",
    "stock_key_strings = ['S22AA', 'S22AB', 'S22AC', 'S22AD', 'S22BA', 'S22BB', 'S22BC']\n",
    "for x in stock_key_strings:\n",
    "    temp = rq.get(f'https://ecos.bok.or.kr/api/StatisticSearch/{key}/json/kr/1/10/{stock_key}/M/202001/202112/{x}/?/?/?')\n",
    "    print(temp.status_code)\n",
    "    temp_dict = temp.json()\n",
    "    stock_full.append(temp_dict['StatisticSearch']['row'])"
   ]
  },
  {
   "cell_type": "code",
   "execution_count": null,
   "id": "1ac2496d-f3ff-49d5-8e60-c99ddf6bdd14",
   "metadata": {},
   "outputs": [],
   "source": [
    "import pandas as pd\n",
    "stock_full_df = pd.DataFrame(stock_full)\n",
    "print(stock_full_df)"
   ]
  },
  {
   "cell_type": "markdown",
   "id": "df446c63-f8a2-4718-8012-d49bdf69d8a9",
   "metadata": {},
   "source": [
    "Web Crawling vs Web Scraping\n",
    "웹 사이트 데이터를 이해하고 웹 사이트 데이터를 수집하는데 사용하는 데이터 마이닝의 두 가지 개념인 웹크롤링과 스크래핑에 대해 알아보자.\n",
    "웹 크롤러, 또는 웹 스파이다, 또는 크롤러라고 부르는 프로그램은 웹을 통해 콘텐츠 및 기타 데이터를 검색하고 자동으로 인덱싱한다. 이를 사용하면 불특정 URL과 도메인을 몰라도 데이터를 수집할 수 있다. 예를 들어 검색 엔진은 페이지를 색인화하고 검색 결과에 표시할 수 있도록 웹을 크롤링한다.\n",
    "스크래핑은 인터넷에서 raw data를 수집하고 검사하는 절차이다. 이는 수동 또는 도구를 이용하여 자동으로 수행할 수 있다. 스크래핑을 위해선 최소한 도메인은 알고 있어야 한다(특정 웹사이트 대상이므로). \n",
    "\n",
    "크롤러는 url을 수집하여 각 특정 페이지의 모든 콘텐츠를 인덱싱한 후 인덱싱된 데이터를 데이터베이스에 저장한다. 스크래핑은 먼저 대상 웹사이트를 결정하고 html 파일을 요청하여 수신받고 이 문서에서 필요한 데이터를 추출한다.\n",
    "\n",
    "크롤링으로는 웹페이지를 찾아서 인덱싱하고, 스크래핑은 그 페이지에서 데이터를 추출한다. 그러므로 일반적으로 이 두 가지를 모두 결합해야 웹에서 데이터를 효율적으로 추출할 수 있다."
   ]
  },
  {
   "cell_type": "markdown",
   "id": "79db96de-8ec8-4102-b02c-164ce292314b",
   "metadata": {},
   "source": [
    "HTML 문서를 받으려먼 URL을 수집해야 되는데 간단한 작업이 아니다. 구글과 같은 대형 검색엔진은 크롤링을 통해 수집한 페이지에 대한 인덱스를 생성할 때 '이용 약관' 같은 내용을 일일히 확인할 수 없다. 따라서 로봇 배제 표준 robots.txt 프로토콜이 생겨났다. 봇이 인덱싱을 시작하기 전에 웹 최상위에 존재하는 robots.txt 파일을 먼저 확인하고 그 안에 규정된 프로토콜을 따라 행동하게 된다. 경우에 따라서 파일 안에 Disallow: 가 없다면 다운로드 가능한 것으로 해석하기도 한다."
   ]
  },
  {
   "cell_type": "markdown",
   "id": "be4c1b27-0c70-4be1-8ea7-9053f083f2dc",
   "metadata": {},
   "source": [
    "Reuter의 뉴스기사를 크롤링해보자. 먼저 robots.txt를 확인한다. https://www.reuters.com/robots.txt\n",
    "\n",
    "robots_allow.txt for www.reuters.com\n",
    "Disallow: /*/key-developments/article/*\n",
    "\n",
    "User-agent: *\n",
    "Disallow: /finance/stocks/option\n",
    "Disallow: /finance/stocks/financialHighlights\n",
    "Disallow: /search\n",
    "Disallow: /site-search/\n",
    "Disallow: /beta\n",
    "Disallow: /designtech*\n",
    "Disallow: /featured-optimize\n",
    "Disallow: /energy-test\n",
    "Disallow: /article/beta\n",
    "Disallow: /sponsored/previewcampaign\n",
    "Disallow: /sponsored/previewarticle\n",
    "Disallow: /test/\n",
    "Disallow: /commentary\n",
    "Disallow: /news/archive/commentary\n",
    "Disallow: /brandfeatures/venture-capital*\n",
    "Disallow: /journalists/\n",
    "Disallow: /assets/siteindex\n",
    "Disallow: /article/api/\n",
    "\n",
    "SITEMAP: https://www.reuters.com/arc/outboundfeeds/sitemap-index/?outputType=xml \n",
    "SITEMAP: https://www.reuters.com/arc/outboundfeeds/news-sitemap-index/?outputType=xml\n",
    "SITEMAP: https://www.reuters.com/sitemap_video_index.xml\n",
    "SITEMAP: https://www.reuters.com/brandfeature/sitemap\n",
    "\n",
    "User-agent: Pipl\n",
    "Disallow: /"
   ]
  },
  {
   "cell_type": "markdown",
   "id": "2a1d89e6-5acd-479a-83d7-a8effcaca85c",
   "metadata": {},
   "source": [
    "이제 이를 분석해 보자. 아래 코드를 통해서 특정 user-agent가 특정 URL에 대해 접근 가능한지 체크해 볼 수 있다."
   ]
  },
  {
   "cell_type": "code",
   "execution_count": 32,
   "id": "61ab7bcb-3b7a-4c5d-a63b-d2edf7b3ae8d",
   "metadata": {},
   "outputs": [
    {
     "data": {
      "text/plain": [
       "True"
      ]
     },
     "execution_count": 32,
     "metadata": {},
     "output_type": "execute_result"
    }
   ],
   "source": [
    "import urllib.robotparser as rbpsr\n",
    "rp = rbpsr.RobotFileParser()\n",
    "rp.set_url(\"https://reuters.com/robots.txt\")\n",
    "rp.read()\n",
    "\n",
    "rp.can_fetch(useragent='*', url = 'https://reuters.com/sitemap.xml')"
   ]
  },
  {
   "cell_type": "markdown",
   "id": "8afd1685-2c24-42fc-a83e-62b274b7d130",
   "metadata": {},
   "source": [
    "이제 sitemap도 활용해 보자."
   ]
  },
  {
   "cell_type": "code",
   "execution_count": 45,
   "id": "447f5f3a-86d8-4446-98b6-c2cb509bd24e",
   "metadata": {},
   "outputs": [
    {
     "data": {
      "text/plain": [
       "['https://www.reuters.com/arc/outboundfeeds/sitemap-index/?outputType=xml',\n",
       " 'https://www.reuters.com/arc/outboundfeeds/news-sitemap-index/?outputType=xml',\n",
       " 'https://www.reuters.com/sitemap_video_index.xml',\n",
       " 'https://www.reuters.com/brandfeature/sitemap']"
      ]
     },
     "execution_count": 45,
     "metadata": {},
     "output_type": "execute_result"
    }
   ],
   "source": [
    "sitemaps = rp.site_maps()\n",
    "sitemaps"
   ]
  },
  {
   "cell_type": "markdown",
   "id": "3b449ac8-dba1-4c19-9c5e-90d0e2f13987",
   "metadata": {},
   "source": [
    "안에 loc 다음 나오는 링크들이 뉴스 기사임을 알 수 있다. 이제 xml parser를 활용해 보자."
   ]
  },
  {
   "cell_type": "code",
   "execution_count": 59,
   "id": "0393a554-1e8f-4078-8503-92f2b7df867c",
   "metadata": {
    "collapsed": true,
    "jupyter": {
     "outputs_hidden": true
    },
    "tags": []
   },
   "outputs": [
    {
     "data": {
      "text/plain": [
       "['https://www.reuters.com/arc/outboundfeeds/sitemap/?outputType=xml',\n",
       " 'https://www.reuters.com/arc/outboundfeeds/sitemap/?outputType=xml&from=100',\n",
       " 'https://www.reuters.com/arc/outboundfeeds/sitemap/?outputType=xml&from=200',\n",
       " 'https://www.reuters.com/arc/outboundfeeds/sitemap/?outputType=xml&from=300',\n",
       " 'https://www.reuters.com/arc/outboundfeeds/sitemap/?outputType=xml&from=400',\n",
       " 'https://www.reuters.com/arc/outboundfeeds/sitemap/?outputType=xml&from=500',\n",
       " 'https://www.reuters.com/arc/outboundfeeds/sitemap/?outputType=xml&from=600',\n",
       " 'https://www.reuters.com/arc/outboundfeeds/sitemap/?outputType=xml&from=700',\n",
       " 'https://www.reuters.com/arc/outboundfeeds/sitemap/?outputType=xml&from=800',\n",
       " 'https://www.reuters.com/arc/outboundfeeds/sitemap/?outputType=xml&from=900',\n",
       " 'https://www.reuters.com/arc/outboundfeeds/sitemap/?outputType=xml&from=1000',\n",
       " 'https://www.reuters.com/arc/outboundfeeds/sitemap/?outputType=xml&from=1100',\n",
       " 'https://www.reuters.com/arc/outboundfeeds/sitemap/?outputType=xml&from=1200',\n",
       " 'https://www.reuters.com/arc/outboundfeeds/sitemap/?outputType=xml&from=1300',\n",
       " 'https://www.reuters.com/arc/outboundfeeds/sitemap/?outputType=xml&from=1400',\n",
       " 'https://www.reuters.com/arc/outboundfeeds/sitemap/?outputType=xml&from=1500',\n",
       " 'https://www.reuters.com/arc/outboundfeeds/sitemap/?outputType=xml&from=1600',\n",
       " 'https://www.reuters.com/arc/outboundfeeds/sitemap/?outputType=xml&from=1700',\n",
       " 'https://www.reuters.com/arc/outboundfeeds/sitemap/?outputType=xml&from=1800',\n",
       " 'https://www.reuters.com/arc/outboundfeeds/sitemap/?outputType=xml&from=1900',\n",
       " 'https://www.reuters.com/arc/outboundfeeds/sitemap/?outputType=xml&from=2000',\n",
       " 'https://www.reuters.com/arc/outboundfeeds/sitemap/?outputType=xml&from=2100',\n",
       " 'https://www.reuters.com/arc/outboundfeeds/sitemap/?outputType=xml&from=2200',\n",
       " 'https://www.reuters.com/arc/outboundfeeds/sitemap/?outputType=xml&from=2300',\n",
       " 'https://www.reuters.com/arc/outboundfeeds/sitemap/?outputType=xml&from=2400',\n",
       " 'https://www.reuters.com/arc/outboundfeeds/sitemap/?outputType=xml&from=2500',\n",
       " 'https://www.reuters.com/arc/outboundfeeds/sitemap/?outputType=xml&from=2600',\n",
       " 'https://www.reuters.com/arc/outboundfeeds/sitemap/?outputType=xml&from=2700',\n",
       " 'https://www.reuters.com/arc/outboundfeeds/sitemap/?outputType=xml&from=2800',\n",
       " 'https://www.reuters.com/arc/outboundfeeds/sitemap/?outputType=xml&from=2900',\n",
       " 'https://www.reuters.com/arc/outboundfeeds/sitemap/?outputType=xml&from=3000',\n",
       " 'https://www.reuters.com/arc/outboundfeeds/sitemap/?outputType=xml&from=3100',\n",
       " 'https://www.reuters.com/arc/outboundfeeds/sitemap/?outputType=xml&from=3200',\n",
       " 'https://www.reuters.com/arc/outboundfeeds/sitemap/?outputType=xml&from=3300',\n",
       " 'https://www.reuters.com/arc/outboundfeeds/sitemap/?outputType=xml&from=3400',\n",
       " 'https://www.reuters.com/arc/outboundfeeds/sitemap/?outputType=xml&from=3500',\n",
       " 'https://www.reuters.com/arc/outboundfeeds/sitemap/?outputType=xml&from=3600',\n",
       " 'https://www.reuters.com/arc/outboundfeeds/sitemap/?outputType=xml&from=3700',\n",
       " 'https://www.reuters.com/arc/outboundfeeds/sitemap/?outputType=xml&from=3800',\n",
       " 'https://www.reuters.com/arc/outboundfeeds/sitemap/?outputType=xml&from=3900',\n",
       " 'https://www.reuters.com/arc/outboundfeeds/sitemap/?outputType=xml&from=4000',\n",
       " 'https://www.reuters.com/arc/outboundfeeds/sitemap/?outputType=xml&from=4100',\n",
       " 'https://www.reuters.com/arc/outboundfeeds/sitemap/?outputType=xml&from=4200',\n",
       " 'https://www.reuters.com/arc/outboundfeeds/sitemap/?outputType=xml&from=4300',\n",
       " 'https://www.reuters.com/arc/outboundfeeds/sitemap/?outputType=xml&from=4400',\n",
       " 'https://www.reuters.com/arc/outboundfeeds/sitemap/?outputType=xml&from=4500',\n",
       " 'https://www.reuters.com/arc/outboundfeeds/sitemap/?outputType=xml&from=4600',\n",
       " 'https://www.reuters.com/arc/outboundfeeds/sitemap/?outputType=xml&from=4700',\n",
       " 'https://www.reuters.com/arc/outboundfeeds/sitemap/?outputType=xml&from=4800',\n",
       " 'https://www.reuters.com/arc/outboundfeeds/sitemap/?outputType=xml&from=4900',\n",
       " 'https://www.reuters.com/arc/outboundfeeds/sitemap/?outputType=xml&from=5000',\n",
       " 'https://www.reuters.com/arc/outboundfeeds/sitemap/?outputType=xml&from=5100',\n",
       " 'https://www.reuters.com/arc/outboundfeeds/sitemap/?outputType=xml&from=5200',\n",
       " 'https://www.reuters.com/arc/outboundfeeds/sitemap/?outputType=xml&from=5300',\n",
       " 'https://www.reuters.com/arc/outboundfeeds/sitemap/?outputType=xml&from=5400',\n",
       " 'https://www.reuters.com/arc/outboundfeeds/sitemap/?outputType=xml&from=5500',\n",
       " 'https://www.reuters.com/arc/outboundfeeds/sitemap/?outputType=xml&from=5600',\n",
       " 'https://www.reuters.com/arc/outboundfeeds/sitemap/?outputType=xml&from=5700',\n",
       " 'https://www.reuters.com/arc/outboundfeeds/sitemap/?outputType=xml&from=5800',\n",
       " 'https://www.reuters.com/arc/outboundfeeds/sitemap/?outputType=xml&from=5900',\n",
       " 'https://www.reuters.com/arc/outboundfeeds/sitemap/?outputType=xml&from=6000',\n",
       " 'https://www.reuters.com/arc/outboundfeeds/sitemap/?outputType=xml&from=6100',\n",
       " 'https://www.reuters.com/arc/outboundfeeds/sitemap/?outputType=xml&from=6200',\n",
       " 'https://www.reuters.com/arc/outboundfeeds/sitemap/?outputType=xml&from=6300',\n",
       " 'https://www.reuters.com/arc/outboundfeeds/sitemap/?outputType=xml&from=6400',\n",
       " 'https://www.reuters.com/arc/outboundfeeds/sitemap/?outputType=xml&from=6500',\n",
       " 'https://www.reuters.com/arc/outboundfeeds/sitemap/?outputType=xml&from=6600',\n",
       " 'https://www.reuters.com/arc/outboundfeeds/sitemap/?outputType=xml&from=6700',\n",
       " 'https://www.reuters.com/arc/outboundfeeds/sitemap/?outputType=xml&from=6800',\n",
       " 'https://www.reuters.com/arc/outboundfeeds/sitemap/?outputType=xml&from=6900',\n",
       " 'https://www.reuters.com/arc/outboundfeeds/sitemap/?outputType=xml&from=7000',\n",
       " 'https://www.reuters.com/arc/outboundfeeds/sitemap/?outputType=xml&from=7100',\n",
       " 'https://www.reuters.com/arc/outboundfeeds/sitemap/?outputType=xml&from=7200',\n",
       " 'https://www.reuters.com/arc/outboundfeeds/sitemap/?outputType=xml&from=7300',\n",
       " 'https://www.reuters.com/arc/outboundfeeds/sitemap/?outputType=xml&from=7400',\n",
       " 'https://www.reuters.com/arc/outboundfeeds/sitemap/?outputType=xml&from=7500',\n",
       " 'https://www.reuters.com/arc/outboundfeeds/sitemap/?outputType=xml&from=7600',\n",
       " 'https://www.reuters.com/arc/outboundfeeds/sitemap/?outputType=xml&from=7700',\n",
       " 'https://www.reuters.com/arc/outboundfeeds/sitemap/?outputType=xml&from=7800',\n",
       " 'https://www.reuters.com/arc/outboundfeeds/sitemap/?outputType=xml&from=7900',\n",
       " 'https://www.reuters.com/arc/outboundfeeds/sitemap/?outputType=xml&from=8000',\n",
       " 'https://www.reuters.com/arc/outboundfeeds/sitemap/?outputType=xml&from=8100',\n",
       " 'https://www.reuters.com/arc/outboundfeeds/sitemap/?outputType=xml&from=8200',\n",
       " 'https://www.reuters.com/arc/outboundfeeds/sitemap/?outputType=xml&from=8300',\n",
       " 'https://www.reuters.com/arc/outboundfeeds/sitemap/?outputType=xml&from=8400',\n",
       " 'https://www.reuters.com/arc/outboundfeeds/sitemap/?outputType=xml&from=8500',\n",
       " 'https://www.reuters.com/arc/outboundfeeds/sitemap/?outputType=xml&from=8600',\n",
       " 'https://www.reuters.com/arc/outboundfeeds/sitemap/?outputType=xml&from=8700',\n",
       " 'https://www.reuters.com/arc/outboundfeeds/sitemap/?outputType=xml&from=8800',\n",
       " 'https://www.reuters.com/arc/outboundfeeds/sitemap/?outputType=xml&from=8900',\n",
       " 'https://www.reuters.com/arc/outboundfeeds/sitemap/?outputType=xml&from=9000',\n",
       " 'https://www.reuters.com/arc/outboundfeeds/sitemap/?outputType=xml&from=9100',\n",
       " 'https://www.reuters.com/arc/outboundfeeds/sitemap/?outputType=xml&from=9200',\n",
       " 'https://www.reuters.com/arc/outboundfeeds/sitemap/?outputType=xml&from=9300',\n",
       " 'https://www.reuters.com/arc/outboundfeeds/sitemap/?outputType=xml&from=9400',\n",
       " 'https://www.reuters.com/arc/outboundfeeds/sitemap/?outputType=xml&from=9500']"
      ]
     },
     "execution_count": 59,
     "metadata": {},
     "output_type": "execute_result"
    }
   ],
   "source": [
    "import xmltodict as xtd\n",
    "import requests as rq\n",
    "\n",
    "sitemaps = rp.site_maps()\n",
    "url = sitemaps[0]\n",
    "sitemaps = xtd.parse(rq.get(url).text)\n",
    "sitemaps['sitemapindex']['sitemap']\n",
    "sitemap_urls = [sitemap['loc'] for sitemap in sitemaps['sitemapindex']['sitemap']]"
   ]
  },
  {
   "cell_type": "markdown",
   "id": "7f018af9-e636-46d1-b4c2-c96eae583a3e",
   "metadata": {},
   "source": [
    "위와 같이 sitemap URL만 추출할 수 있다. 여기서 news URL만 추출하면"
   ]
  },
  {
   "cell_type": "code",
   "execution_count": 68,
   "id": "24b7f528-6dab-4eab-9227-d8a49e90a134",
   "metadata": {
    "tags": []
   },
   "outputs": [
    {
     "data": {
      "text/plain": [
       "['https://www.reuters.com/world/europe/russian-offensive-eastern-ukraine-focused-bakhmut-2023-02-28/',\n",
       " 'https://www.reuters.com/world/asia-pacific/rust-belt-province-got-old-before-it-got-rich-much-china-will-2023-02-28/',\n",
       " 'https://www.reuters.com/business/saudis-sabic-posts-94-drop-q4-net-profit-lower-average-sales-prices-2023-02-28/',\n",
       " 'https://www.reuters.com/business/retail-consumer/french-retailer-casinos-sales-growth-slows-fourth-quarter-2023-02-28/',\n",
       " 'https://www.reuters.com/business/bayer-sees-lower-2023-operating-profit-cost-inflation-2023-02-28/']"
      ]
     },
     "execution_count": 68,
     "metadata": {},
     "output_type": "execute_result"
    }
   ],
   "source": [
    "response = rq.get(sitemap_urls[0])\n",
    "news_dict = xtd.parse(response.text)\n",
    "news_urls = [news['loc'] for news in news_dict['urlset']['url']]\n",
    "news_urls[:5]"
   ]
  },
  {
   "cell_type": "code",
   "execution_count": 69,
   "id": "772dd644-b9b7-444e-bf4f-2d81e6ac0954",
   "metadata": {},
   "outputs": [
    {
     "name": "stdout",
     "output_type": "stream",
     "text": [
      "CPU times: user 104 ms, sys: 47.2 ms, total: 151 ms\n",
      "Wall time: 5.04 s\n"
     ]
    }
   ],
   "source": [
    "%%time\n",
    "#session 추상화\n",
    "session = rq.Session()\n",
    "\n",
    "#앞 5개의 링크만 가져온다.ㅠ\n",
    "for url in news_urls[:5]:\n",
    "    file = url.split('/')[-2] + '.html'\n",
    "    response = session.get(url)\n",
    "    if response.ok:\n",
    "        with open(\"datas/\"+file, \"w+b\") as f:\n",
    "            f.write(response.text.encode(\"utf-8\"))\n",
    "    else:\n",
    "        print(f\"error with URL : {url}\")"
   ]
  },
  {
   "cell_type": "code",
   "execution_count": 70,
   "id": "12edc811-4c4c-46c6-90ae-d5ebc8b296c7",
   "metadata": {},
   "outputs": [],
   "source": [
    "with open('filename.txt', 'w') as f:\n",
    "    f.write('파일에 작성할 문자열')"
   ]
  },
  {
   "cell_type": "code",
   "execution_count": 71,
   "id": "7cd360e8-7135-451d-b643-5d7926d6303b",
   "metadata": {},
   "outputs": [
    {
     "data": {
      "text/plain": [
       "['./datas/rust-belt-province-got-old-before-it-got-rich-much-china-will-2023-02-28.html',\n",
       " './datas/bayer-sees-lower-2023-operating-profit-cost-inflation-2023-02-28.html',\n",
       " './datas/french-retailer-casinos-sales-growth-slows-fourth-quarter-2023-02-28.html',\n",
       " './datas/russian-offensive-eastern-ukraine-focused-bakhmut-2023-02-28.html',\n",
       " './datas/.ipynb_checkpoints',\n",
       " './datas/saudis-sabic-posts-94-drop-q4-net-profit-lower-average-sales-prices-2023-02-28.html']"
      ]
     },
     "execution_count": 71,
     "metadata": {},
     "output_type": "execute_result"
    }
   ],
   "source": [
    "import os\n",
    "path = './datas/'\n",
    "files = [path + file for file in os.listdir(path)]\n",
    "files"
   ]
  },
  {
   "cell_type": "code",
   "execution_count": 72,
   "id": "a239f710-2db3-4240-a7e1-556b89f27fb0",
   "metadata": {},
   "outputs": [],
   "source": [
    "with open(files[2], \"r\") as f:\n",
    "    html = f.read()"
   ]
  },
  {
   "cell_type": "markdown",
   "id": "5241a710-1d21-4d47-addb-6659c4f3784f",
   "metadata": {},
   "source": [
    "beautifulsoup을 통해 HTML을 파싱할 수 있다."
   ]
  },
  {
   "cell_type": "code",
   "execution_count": 77,
   "id": "d7996c00-9a4f-4042-8a14-7f0e384e1851",
   "metadata": {},
   "outputs": [
    {
     "name": "stdout",
     "output_type": "stream",
     "text": [
      "French retailer Casino's sales growth slows in fourth quarter\n"
     ]
    }
   ],
   "source": [
    "from bs4 import BeautifulSoup as bsp\n",
    "soup = bsp(html, 'html.parser')\n",
    "title = soup.select_one('#main-content > article > div.article__main__33WV2 > div.article__content__6hMn9 > header > div > div > h1')\n",
    "print(title.text)"
   ]
  },
  {
   "cell_type": "code",
   "execution_count": 78,
   "id": "b096ab11-ce22-4a51-b170-9b432677892e",
   "metadata": {},
   "outputs": [
    {
     "data": {
      "text/plain": [
       "<h1 class=\"text__text__1FZLe text__dark-grey__3Ml43 text__medium__1kbOh text__heading_3__1kDhc heading__base__2T28j heading__heading_3__3aL54 article-header__title__3Y2hh\" data-testid=\"Heading\">French retailer Casino's sales growth slows in fourth quarter</h1>"
      ]
     },
     "execution_count": 78,
     "metadata": {},
     "output_type": "execute_result"
    }
   ],
   "source": [
    "soup.h1"
   ]
  },
  {
   "cell_type": "code",
   "execution_count": 79,
   "id": "cb2ffcef-81b5-4f7c-a34f-113352168b8a",
   "metadata": {},
   "outputs": [
    {
     "data": {
      "text/plain": [
       "\"French retailer Casino's sales growth slows in fourth quarter\""
      ]
     },
     "execution_count": 79,
     "metadata": {},
     "output_type": "execute_result"
    }
   ],
   "source": [
    "soup.h1.text"
   ]
  },
  {
   "cell_type": "code",
   "execution_count": 91,
   "id": "9bc968a7-f426-4833-9658-931841b5e632",
   "metadata": {
    "collapsed": true,
    "jupyter": {
     "outputs_hidden": true
    },
    "tags": []
   },
   "outputs": [
    {
     "data": {
      "text/plain": [
       "['PARIS, Feb 28 (Reuters) - French retailer Casino (CASP.PA) said group sales slowed in the fourth quarter of 2022, as a robust performance in Latin America was offset by weakness in the domestic market, where same-store sales at its Geant hypermarkets fell 6.2%.',\n",
       " 'The company, which has been facing concerns over high debts and low cash flow, reports its full year earnings on March 10.',\n",
       " \"Casino, which also controls Brazil's Grupo Pao de Acucar (PCAR3.SA), said group sales for the fourth quarter reached 9.155 billion euros ($9.7 billion), a 4.4% rise on a same store basis but a deceleration from 5.4% growth in the third quarter.\",\n",
       " 'In France alone, sales rose just 0.1% on a same store basis after rising 3.9% in the third quarter.',\n",
       " '($1 = 0.9447 euros)',\n",
       " 'Our Standards: The Thomson Reuters Trust Principles.',\n",
       " \"Oil prices were steady in Asian trade on Tuesday, supported by hopes a solid economic rebound in China will drive up fuel demand, offsetting worries about further U.S. interest rate hikes potentially hurting demand in the world's biggest economy.\",\n",
       " \"Reuters, the news and media division of Thomson Reuters, is the world’s largest multimedia news provider, reaching billions of people worldwide every day. Reuters provides business, financial, national and international news to professionals via desktop terminals, the world's media organizations, industry events and directly to consumers.\",\n",
       " 'Build the strongest argument relying on authoritative content, attorney-editor expertise, and industry defining technology.',\n",
       " 'The most comprehensive solution to manage all your complex and ever-expanding tax and compliance needs.',\n",
       " 'The industry leader for online information for tax, accounting and finance professionals.',\n",
       " ' Access unmatched financial data, news and content in a highly-customised workflow experience on desktop, web and mobile.',\n",
       " ' Browse an unrivalled portfolio of real-time and historical market data and insights from worldwide sources and experts.',\n",
       " 'Screen for heightened risk individual and entities globally to help uncover hidden risks in business relationships and human networks.',\n",
       " 'All quotes delayed a minimum of 15 minutes. See here for a complete list of exchanges and delays.',\n",
       " '© 2023 Reuters. All rights reserved']"
      ]
     },
     "execution_count": 91,
     "metadata": {},
     "output_type": "execute_result"
    }
   ],
   "source": [
    "r = soup.select('div > p')\n",
    "\n",
    "r = [x.text for x in r]\n",
    "r"
   ]
  },
  {
   "cell_type": "markdown",
   "id": "a09f139c-0c98-4749-84d1-441d8d37ca92",
   "metadata": {},
   "source": [
    "<\\link rel =\"canonical\"> 을 사용하면 표준 URL로 불러올 수 있다. 필수는 아니지만 검색 엔진에서도 확인하고 SEO에도 영항을 준다. "
   ]
  },
  {
   "cell_type": "code",
   "execution_count": null,
   "id": "38317481-433c-40b9-9d17-872f6da2d78a",
   "metadata": {},
   "outputs": [],
   "source": []
  }
 ],
 "metadata": {
  "kernelspec": {
   "display_name": "Python 3 (ipykernel)",
   "language": "python",
   "name": "python3"
  },
  "language_info": {
   "codemirror_mode": {
    "name": "ipython",
    "version": 3
   },
   "file_extension": ".py",
   "mimetype": "text/x-python",
   "name": "python",
   "nbconvert_exporter": "python",
   "pygments_lexer": "ipython3",
   "version": "3.9.16"
  }
 },
 "nbformat": 4,
 "nbformat_minor": 5
}
