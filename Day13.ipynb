{
 "cells": [
  {
   "cell_type": "markdown",
   "id": "e85df96a-cb9d-4a20-9704-8c255bc822ee",
   "metadata": {},
   "source": [
    "연습문제\n",
    "\n",
    "주사위는 1부터 6까지의 숫자를 가진다. 이를 100번 던져서 나오는 숫자를 넘파이 난수를 발생시켜서 시뮬레이션하고 나오는 숫자의 평균을 구하라."
   ]
  },
  {
   "cell_type": "code",
   "execution_count": 3,
   "id": "2338091f-7205-462c-8b3e-c2dbc3e8effe",
   "metadata": {},
   "outputs": [],
   "source": [
    "import random\n",
    "import numpy as np"
   ]
  },
  {
   "cell_type": "code",
   "execution_count": 10,
   "id": "4b4f98a2-4b4f-4a88-a84c-ad6dc7385994",
   "metadata": {},
   "outputs": [
    {
     "data": {
      "text/plain": [
       "3.66"
      ]
     },
     "execution_count": 10,
     "metadata": {},
     "output_type": "execute_result"
    }
   ],
   "source": [
    "random.seed(0)\n",
    "k = [np.random.randint(1, 7) for _ in range(100)]\n",
    "np.mean(k)"
   ]
  },
  {
   "cell_type": "markdown",
   "id": "0e74ad26-6e35-4477-9dd4-eee8e0ee7bd3",
   "metadata": {},
   "source": [
    "연습문제"
   ]
  },
  {
   "cell_type": "code",
   "execution_count": 14,
   "id": "1310bfa5-29a7-41ee-982f-37991fbb66f6",
   "metadata": {},
   "outputs": [
    {
     "data": {
      "text/plain": [
       "array([[ 8, 10, 12],\n",
       "       [14, 16, 18]])"
      ]
     },
     "execution_count": 14,
     "metadata": {},
     "output_type": "execute_result"
    }
   ],
   "source": [
    "a = np.array(range(1, 7)).reshape(2,3)\n",
    "b = np.array(range(7, 13)).reshape(2,3)\n",
    "a+b"
   ]
  },
  {
   "cell_type": "markdown",
   "id": "5a990a84-e42a-494d-891e-c2d86ae1fff7",
   "metadata": {},
   "source": [
    "연습문제"
   ]
  },
  {
   "cell_type": "code",
   "execution_count": 15,
   "id": "e9d1ac1a-ec1b-43e6-95cc-eeb5a21e33c9",
   "metadata": {},
   "outputs": [
    {
     "data": {
      "text/plain": [
       "array([ 3,  6,  9, 12, 15, 18, 21, 24, 27])"
      ]
     },
     "execution_count": 15,
     "metadata": {},
     "output_type": "execute_result"
    }
   ],
   "source": [
    "a = np.arange(1,10)\n",
    "a*3"
   ]
  },
  {
   "cell_type": "markdown",
   "id": "75abc0f7-3515-4a23-9d98-3f9504b9939d",
   "metadata": {},
   "source": [
    "연습문제"
   ]
  },
  {
   "cell_type": "code",
   "execution_count": 16,
   "id": "d9e7fc40-b6d0-4c94-ab8c-410679261c7e",
   "metadata": {},
   "outputs": [
    {
     "data": {
      "text/plain": [
       "array([0., 0., 0., 0., 1., 0., 0., 0., 0., 0.])"
      ]
     },
     "execution_count": 16,
     "metadata": {},
     "output_type": "execute_result"
    }
   ],
   "source": [
    "a = np.zeros(10)\n",
    "a[4]=1\n",
    "a"
   ]
  },
  {
   "cell_type": "code",
   "execution_count": 17,
   "id": "8d9be300-0565-420d-9445-9ac8ea78b3cb",
   "metadata": {},
   "outputs": [
    {
     "data": {
      "text/plain": [
       "array([49, 48, 47, 46, 45, 44, 43, 42, 41, 40, 39, 38, 37, 36, 35, 34, 33,\n",
       "       32, 31, 30, 29, 28, 27, 26, 25, 24, 23, 22, 21, 20, 19, 18, 17, 16,\n",
       "       15, 14, 13, 12, 11, 10,  9,  8,  7,  6,  5,  4,  3,  2,  1,  0])"
      ]
     },
     "execution_count": 17,
     "metadata": {},
     "output_type": "execute_result"
    }
   ],
   "source": [
    "a = np.arange(50)\n",
    "a[::-1]"
   ]
  },
  {
   "cell_type": "code",
   "execution_count": 25,
   "id": "106d7d5a-c95a-431b-a26b-ed78488d87a3",
   "metadata": {},
   "outputs": [
    {
     "data": {
      "text/plain": [
       "array([[['', '', ''],\n",
       "        ['', '', ''],\n",
       "        ['', '', '']],\n",
       "\n",
       "       [['', '', ''],\n",
       "        ['', '', ''],\n",
       "        ['', '', '']],\n",
       "\n",
       "       [['', '', ''],\n",
       "        ['', '', ''],\n",
       "        ['', '', '']]], dtype='<U10')"
      ]
     },
     "execution_count": 25,
     "metadata": {},
     "output_type": "execute_result"
    }
   ],
   "source": [
    "a = np.array(['' for _ in range(27)], dtype='<U10')\n",
    "a.reshape(3, 3, 3)"
   ]
  },
  {
   "cell_type": "code",
   "execution_count": 26,
   "id": "40c7b35b-ea47-466b-b0e9-719e9cf17842",
   "metadata": {},
   "outputs": [
    {
     "data": {
      "text/plain": [
       "array([[['', '', ''],\n",
       "        ['', '', ''],\n",
       "        ['', '', '']],\n",
       "\n",
       "       [['', '', ''],\n",
       "        ['', '', ''],\n",
       "        ['', '', '']],\n",
       "\n",
       "       [['', '', ''],\n",
       "        ['', '', ''],\n",
       "        ['', '', '']]], dtype='<U10')"
      ]
     },
     "execution_count": 26,
     "metadata": {},
     "output_type": "execute_result"
    }
   ],
   "source": [
    "np.zeros((3, 3, 3), dtype='<U10')"
   ]
  },
  {
   "cell_type": "markdown",
   "id": "92745c14-66d8-4ed1-b4cb-c5ef962275f7",
   "metadata": {},
   "source": [
    "full() 메서드로 하나의 특정 값으로 배열을 채울 수 있다."
   ]
  },
  {
   "cell_type": "code",
   "execution_count": 28,
   "id": "21853a67-fae4-4fbb-a934-63fd64286029",
   "metadata": {},
   "outputs": [
    {
     "data": {
      "text/plain": [
       "array([[['playdata', 'playdata', 'playdata'],\n",
       "        ['playdata', 'playdata', 'playdata'],\n",
       "        ['playdata', 'playdata', 'playdata']],\n",
       "\n",
       "       [['playdata', 'playdata', 'playdata'],\n",
       "        ['playdata', 'playdata', 'playdata'],\n",
       "        ['playdata', 'playdata', 'playdata']],\n",
       "\n",
       "       [['playdata', 'playdata', 'playdata'],\n",
       "        ['playdata', 'playdata', 'playdata'],\n",
       "        ['playdata', 'playdata', 'playdata']]], dtype='<U8')"
      ]
     },
     "execution_count": 28,
     "metadata": {},
     "output_type": "execute_result"
    }
   ],
   "source": [
    "np.full((3, 3, 3), 'playdata')"
   ]
  },
  {
   "cell_type": "code",
   "execution_count": 37,
   "id": "9b186371-3526-484a-a7f8-ae9dbe44d445",
   "metadata": {},
   "outputs": [
    {
     "data": {
      "text/plain": [
       "array([[[ 2,  4,  6,  8, 10],\n",
       "        [12, 14, 16, 18, 20]],\n",
       "\n",
       "       [[22, 24, 26, 28, 30],\n",
       "        [32, 34, 36, 38, 40]]])"
      ]
     },
     "execution_count": 37,
     "metadata": {},
     "output_type": "execute_result"
    }
   ],
   "source": [
    "np.array(range(2, 41, 2)).reshape((2, 2, 5))"
   ]
  },
  {
   "cell_type": "markdown",
   "id": "6c0d8604-ef4d-48f2-9dbc-cc15e9a91c3e",
   "metadata": {},
   "source": [
    "선형대수학에서 단위 행렬(identity matrix)는 주대각의 원소가 모두 1이며 나머지 원소는 모두 0인 정사각 행렬이다. np.eye(n)를 이용해서 만들 수 있다."
   ]
  },
  {
   "cell_type": "code",
   "execution_count": 46,
   "id": "05209803-0204-4aaf-b1dd-281bd83740ba",
   "metadata": {},
   "outputs": [
    {
     "data": {
      "text/plain": [
       "array([[1., 0., 0., 0.],\n",
       "       [0., 1., 0., 0.],\n",
       "       [0., 0., 1., 0.],\n",
       "       [0., 0., 0., 1.]])"
      ]
     },
     "execution_count": 46,
     "metadata": {},
     "output_type": "execute_result"
    }
   ],
   "source": [
    "np.eye(4)"
   ]
  },
  {
   "cell_type": "code",
   "execution_count": 45,
   "id": "e3b362c8-85d8-4080-8731-f111ad7daeed",
   "metadata": {},
   "outputs": [
    {
     "data": {
      "text/plain": [
       "array([[False,  True,  True],\n",
       "       [False,  True,  True],\n",
       "       [ True,  True,  True]])"
      ]
     },
     "execution_count": 45,
     "metadata": {},
     "output_type": "execute_result"
    }
   ],
   "source": [
    "np.random.seed(0)\n",
    "np.array(np.random.randint(0, 2, 9)).reshape(3, 3).astype(dtype= 'bool')"
   ]
  },
  {
   "cell_type": "code",
   "execution_count": 53,
   "id": "698bba87-aa44-49b3-a466-644ee6e25b01",
   "metadata": {},
   "outputs": [
    {
     "data": {
      "text/plain": [
       "array([5, 7, 6, 5, 4, 6, 4, 8, 9, 3])"
      ]
     },
     "execution_count": 53,
     "metadata": {},
     "output_type": "execute_result"
    }
   ],
   "source": [
    "np.random.seed(0)\n",
    "k = np.random.rand(10)*10\n",
    "k.astype('int')"
   ]
  },
  {
   "cell_type": "code",
   "execution_count": 55,
   "id": "2b452c36-6dec-4544-bfa2-bf3d18c1912c",
   "metadata": {},
   "outputs": [
    {
     "data": {
      "text/plain": [
       "array([[1., 1., 1., 1., 1., 1., 1., 1., 1., 1.],\n",
       "       [1., 0., 0., 0., 0., 0., 0., 0., 0., 1.],\n",
       "       [1., 0., 0., 0., 0., 0., 0., 0., 0., 1.],\n",
       "       [1., 0., 0., 0., 0., 0., 0., 0., 0., 1.],\n",
       "       [1., 0., 0., 0., 0., 0., 0., 0., 0., 1.],\n",
       "       [1., 0., 0., 0., 0., 0., 0., 0., 0., 1.],\n",
       "       [1., 0., 0., 0., 0., 0., 0., 0., 0., 1.],\n",
       "       [1., 0., 0., 0., 0., 0., 0., 0., 0., 1.],\n",
       "       [1., 0., 0., 0., 0., 0., 0., 0., 0., 1.],\n",
       "       [1., 1., 1., 1., 1., 1., 1., 1., 1., 1.]])"
      ]
     },
     "execution_count": 55,
     "metadata": {},
     "output_type": "execute_result"
    }
   ],
   "source": [
    "k = np.ones((10, 10))\n",
    "k[1:-1, 1:-1] = 0\n",
    "k"
   ]
  },
  {
   "cell_type": "code",
   "execution_count": 77,
   "id": "660c12be-d45d-4244-a0b1-f1b52b034efc",
   "metadata": {},
   "outputs": [
    {
     "data": {
      "text/plain": [
       "array([[0., 0., 0., 0., 0., 0., 0., 0., 0., 0.],\n",
       "       [0., 1., 1., 1., 1., 1., 1., 1., 1., 0.],\n",
       "       [0., 1., 1., 1., 1., 1., 1., 1., 1., 0.],\n",
       "       [0., 1., 1., 1., 1., 1., 1., 1., 1., 0.],\n",
       "       [0., 1., 1., 1., 1., 1., 1., 1., 1., 0.],\n",
       "       [0., 1., 1., 1., 1., 1., 1., 1., 1., 0.],\n",
       "       [0., 1., 1., 1., 1., 1., 1., 1., 1., 0.],\n",
       "       [0., 1., 1., 1., 1., 1., 1., 1., 1., 0.],\n",
       "       [0., 1., 1., 1., 1., 1., 1., 1., 1., 0.],\n",
       "       [0., 0., 0., 0., 0., 0., 0., 0., 0., 0.]])"
      ]
     },
     "execution_count": 77,
     "metadata": {},
     "output_type": "execute_result"
    }
   ],
   "source": [
    "k = np.ones((10, 10))\n",
    "k[[0,-1], :] = 0\n",
    "k[:, [0,-1]] = 0\n",
    "k"
   ]
  },
  {
   "cell_type": "code",
   "execution_count": 78,
   "id": "1886113b-8bbe-4f4f-a2fb-fba4686557ac",
   "metadata": {},
   "outputs": [
    {
     "data": {
      "text/plain": [
       "array([[1., 0., 1., 0., 1., 0., 1., 0.],\n",
       "       [0., 1., 0., 1., 0., 1., 0., 1.],\n",
       "       [1., 0., 1., 0., 1., 0., 1., 0.],\n",
       "       [0., 1., 0., 1., 0., 1., 0., 1.],\n",
       "       [1., 0., 1., 0., 1., 0., 1., 0.],\n",
       "       [0., 1., 0., 1., 0., 1., 0., 1.],\n",
       "       [1., 0., 1., 0., 1., 0., 1., 0.],\n",
       "       [0., 1., 0., 1., 0., 1., 0., 1.]])"
      ]
     },
     "execution_count": 78,
     "metadata": {},
     "output_type": "execute_result"
    }
   ],
   "source": [
    "k = np.ones((8, 8))\n",
    "for i in range(8):\n",
    "    for j in range(8):\n",
    "        if (i+j)%2!=0:\n",
    "            k[i, j]=0\n",
    "k"
   ]
  },
  {
   "cell_type": "code",
   "execution_count": 87,
   "id": "bdb95e08-e022-400c-acb2-a790f5d881b5",
   "metadata": {},
   "outputs": [
    {
     "data": {
      "text/plain": [
       "array([[1, 0, 1, 0, 1, 0, 1, 0],\n",
       "       [0, 1, 0, 1, 0, 1, 0, 1],\n",
       "       [1, 0, 1, 0, 1, 0, 1, 0],\n",
       "       [0, 1, 0, 1, 0, 1, 0, 1],\n",
       "       [1, 0, 1, 0, 1, 0, 1, 0],\n",
       "       [0, 1, 0, 1, 0, 1, 0, 1],\n",
       "       [1, 0, 1, 0, 1, 0, 1, 0],\n",
       "       [0, 1, 0, 1, 0, 1, 0, 1]], dtype=int32)"
      ]
     },
     "execution_count": 87,
     "metadata": {},
     "output_type": "execute_result"
    }
   ],
   "source": [
    "k = np.ones((8,8)).astype('i')\n",
    "k[0::2, 1::2] = 0\n",
    "k[1::2, 0::2] = 0\n",
    "k"
   ]
  },
  {
   "cell_type": "code",
   "execution_count": 88,
   "id": "fc3bfb63-3ae1-4ee2-a9cf-3f71de2ce991",
   "metadata": {},
   "outputs": [
    {
     "data": {
      "text/plain": [
       "array([[1., 0., 1., 0., 1., 0., 1., 0.],\n",
       "       [0., 1., 0., 1., 0., 1., 0., 1.],\n",
       "       [1., 0., 1., 0., 1., 0., 1., 0.],\n",
       "       [0., 1., 0., 1., 0., 1., 0., 1.],\n",
       "       [1., 0., 1., 0., 1., 0., 1., 0.],\n",
       "       [0., 1., 0., 1., 0., 1., 0., 1.],\n",
       "       [1., 0., 1., 0., 1., 0., 1., 0.],\n",
       "       [0., 1., 0., 1., 0., 1., 0., 1.]])"
      ]
     },
     "execution_count": 88,
     "metadata": {},
     "output_type": "execute_result"
    }
   ],
   "source": [
    "k = np.eye(2)\n",
    "np.tile(k, (4, 4))"
   ]
  },
  {
   "cell_type": "markdown",
   "id": "3f556497-488a-4de9-9ca5-fded0e154f06",
   "metadata": {},
   "source": [
    "같은 shape과 len의 bool type 어레이로 인덱싱 할 수 있다. 해당 위치에 대해 True면 값을 반환하고 False면 반한하지 않는다."
   ]
  },
  {
   "cell_type": "code",
   "execution_count": 110,
   "id": "57c5718c-8125-494b-8ed9-3e18d5b85469",
   "metadata": {},
   "outputs": [
    {
     "data": {
      "text/plain": [
       "array([ 0,  1,  2,  3, -4, -5, -6,  7,  8,  9, 10])"
      ]
     },
     "execution_count": 110,
     "metadata": {},
     "output_type": "execute_result"
    }
   ],
   "source": [
    "k = np.arange(11)\n",
    "k[((3<k) & (k<7))] *= -1\n",
    "k"
   ]
  },
  {
   "cell_type": "code",
   "execution_count": 109,
   "id": "d2add1ff-1bd2-43ca-ba44-5c9a3ff6300c",
   "metadata": {},
   "outputs": [
    {
     "data": {
      "text/plain": [
       "1683"
      ]
     },
     "execution_count": 109,
     "metadata": {},
     "output_type": "execute_result"
    }
   ],
   "source": [
    "sum(np.arange(101)[np.arange(101)%3==0])"
   ]
  },
  {
   "cell_type": "code",
   "execution_count": 116,
   "id": "c2442550-bef3-4603-9bad-721544cd3a47",
   "metadata": {},
   "outputs": [
    {
     "data": {
      "text/plain": [
       "array([0.1, 0.2, 0.3, 0.4, 0.5, 0.6, 0.7, 0.8, 0.9])"
      ]
     },
     "execution_count": 116,
     "metadata": {},
     "output_type": "execute_result"
    }
   ],
   "source": [
    "np.linspace(1, 9, 9)/10"
   ]
  },
  {
   "cell_type": "code",
   "execution_count": 190,
   "id": "d0ae278e-ea4a-4803-951a-811fef3b24a8",
   "metadata": {},
   "outputs": [
    {
     "name": "stdin",
     "output_type": "stream",
     "text": [
      "자연수만 입력해주세요. 5\n"
     ]
    },
    {
     "data": {
      "text/plain": [
       "array([[ 3, 15, 16, 20, 32, 40],\n",
       "       [ 1, 12, 15, 30, 32, 42],\n",
       "       [ 5, 18, 26, 30, 34, 35],\n",
       "       [ 2, 15, 22, 23, 26, 39],\n",
       "       [ 4, 11, 22, 34, 37, 43]])"
      ]
     },
     "metadata": {},
     "output_type": "display_data"
    }
   ],
   "source": [
    "while True:\n",
    "    try:\n",
    "        n = int(input(\"자연수만 입력해주세요.\"))\n",
    "        if n<=0:\n",
    "            continue;\n",
    "        k = [np.random.choice(range(1, 46), size=6, replace=False) for _ in range(n)]\n",
    "        display(np.sort(k))\n",
    "        break;\n",
    "    except ValueError:\n",
    "        continue;"
   ]
  },
  {
   "cell_type": "code",
   "execution_count": 174,
   "id": "d66445a1-17b4-4922-bd84-0112d9a2c112",
   "metadata": {},
   "outputs": [
    {
     "data": {
      "text/plain": [
       "8"
      ]
     },
     "execution_count": 174,
     "metadata": {},
     "output_type": "execute_result"
    }
   ],
   "source": [
    "resp_time = np.array([158, 85, 205, 24, 42, 175, 188, 149, 153, 171, 137, 55, 108,\n",
    "199, 177, 209, 218, 76, 103, 189, 110, 192, 136, 119, 4, 102,\n",
    "177, 212, 110, 37, 163, 32, 77, 22, 125, 184, 46, 139, 72,\n",
    "168, 133, 209, 148, 47, 102, 65, 160, 56, 11, 96, 169, 118,\n",
    "55, 135, 217, 49, 100, 85, 179, 15, 139, 199, 124, 142, 15,\n",
    "49, 168, 171, 168, 177, 147, 23, 199, 26, 51, 42, 90, 128,\n",
    "186, 169, 129, 70, 198, 111, 81, 150, 17, 177, 201, 10, 75,\n",
    "199, 55, 151, 183, 152, 119, 193, 110, 204])\n",
    "len(resp_time[resp_time>200])"
   ]
  },
  {
   "cell_type": "code",
   "execution_count": 185,
   "id": "86107d3b-f324-4fa6-a555-cf1392954373",
   "metadata": {},
   "outputs": [
    {
     "data": {
      "text/plain": [
       "175.5"
      ]
     },
     "execution_count": 185,
     "metadata": {},
     "output_type": "execute_result"
    }
   ],
   "source": [
    "np.quantile(resp_time, 0.75)"
   ]
  },
  {
   "cell_type": "code",
   "execution_count": 188,
   "id": "978259d0-e45f-4e6e-b896-31b1e7adb2aa",
   "metadata": {},
   "outputs": [
    {
     "name": "stdout",
     "output_type": "stream",
     "text": [
      "뽀로로\n"
     ]
    }
   ],
   "source": [
    "p = [\"뽀로로\", \"루피\", \"크롱\"]\n",
    "result = np.array([2, 1, 2, 2, 2, 2, 0, 2, 1, 1, 0, 0, 2, 0, 0, 1, 1, 2, 2, 2, 1, 1,\n",
    "1, 2, 0, 2, 2, 0, 1, 1, 0, 2, 1, 0, 1, 2, 0, 0, 1, 0, 1, 1, 1, 2,\n",
    "1, 1, 1, 0, 0, 0, 0, 1, 0, 0, 2, 0, 2, 2, 0, 0, 1, 1, 1, 0, 0, 2,\n",
    "2, 1, 0, 1, 2, 0, 2, 0, 0, 0, 2, 0, 0, 0, 0, 0, 1, 2, 1, 1, 2, 0,\n",
    "2, 0, 0, 0, 0, 2, 1, 2, 0, 2, 0, 0, 1, 0, 1, 2, 1, 2, 0, 2, 2, 1,\n",
    "2, 0, 0, 1, 1, 0, 1, 2, 1, 2, 0, 2, 2, 2, 2, 0, 2, 2, 0, 2, 0, 2,\n",
    "1, 1, 2, 1, 1, 0, 0, 1, 0, 0, 0, 2, 2, 0, 2, 0, 0, 0, 2, 0, 0, 0,\n",
    "2, 0, 1, 2, 1, 0, 2, 0, 0, 1, 2, 1, 1, 2, 2, 0, 0, 0, 0, 2, 2, 1,\n",
    "0, 1, 1, 2, 2, 1, 0, 0, 2, 0, 0, 0, 2, 0, 2, 2, 0, 2, 1, 0, 0, 2,\n",
    "0, 1])\n",
    "\n",
    "m, n = np.unique(result, return_counts=True)\n",
    "print(p[np.argmax(n)])"
   ]
  },
  {
   "cell_type": "code",
   "execution_count": null,
   "id": "a120e324-9640-4b3f-8046-553d1522e5ea",
   "metadata": {},
   "outputs": [],
   "source": []
  }
 ],
 "metadata": {
  "kernelspec": {
   "display_name": "Python 3 (ipykernel)",
   "language": "python",
   "name": "python3"
  },
  "language_info": {
   "codemirror_mode": {
    "name": "ipython",
    "version": 3
   },
   "file_extension": ".py",
   "mimetype": "text/x-python",
   "name": "python",
   "nbconvert_exporter": "python",
   "pygments_lexer": "ipython3",
   "version": "3.9.16"
  }
 },
 "nbformat": 4,
 "nbformat_minor": 5
}
