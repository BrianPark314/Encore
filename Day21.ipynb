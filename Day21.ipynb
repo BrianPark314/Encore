{
 "cells": [
  {
   "cell_type": "code",
   "execution_count": 1,
   "id": "21a5f3d0-19e1-43af-87f5-f78808da10b7",
   "metadata": {},
   "outputs": [],
   "source": [
    "import matplotlib as mpl\n",
    "import numpy as np\n",
    "import pandas as pd\n",
    "import seaborn as sns\n",
    "import matplotlib.pyplot as plt"
   ]
  },
  {
   "cell_type": "code",
   "execution_count": 41,
   "id": "d37b4ff9-83b0-4a8f-8b8b-ad2f3d7da714",
   "metadata": {},
   "outputs": [],
   "source": [
    "mpl.rc('font', family=\"\")\n",
    "mpl.rc('axes', unicode_minus=False)"
   ]
  },
  {
   "cell_type": "code",
   "execution_count": 3,
   "id": "37294eb9-302a-4246-9810-3433e0bf8445",
   "metadata": {},
   "outputs": [
    {
     "name": "stdout",
     "output_type": "stream",
     "text": [
      "Noto Sans KR\n",
      "Noto Sans KR\n",
      "Noto Sans KR\n",
      "Noto Sans KR\n",
      "Noto Sans KR\n",
      "Noto Sans KR\n",
      "['Noto Sans KR']\n"
     ]
    }
   ],
   "source": [
    "# Add every font at the specified location\n",
    "font_dir = ['./datas/Noto_Sans_KR']\n",
    "for font in mpl.font_manager.findSystemFonts(fontpaths=font_dir):\n",
    "    print(mpl.font_manager.FontProperties(fname=font).get_name())\n",
    "    mpl.font_manager.fontManager.addfont(font)\n",
    "# Set font family globally\n",
    "mpl.rcParams['font.family'] = 'Noto Sans KR'\n",
    "print(mpl.rcParams['font.family'])"
   ]
  },
  {
   "cell_type": "markdown",
   "id": "10f6b3f9-3e5f-40fe-85fc-0b3537f42c18",
   "metadata": {},
   "source": [
    "stack overflow annual dev survey를 분석해 보자."
   ]
  },
  {
   "cell_type": "code",
   "execution_count": 4,
   "id": "e4a6e543-cec1-4097-85ab-531a8e508fee",
   "metadata": {},
   "outputs": [],
   "source": [
    "survey_raw_df = pd.read_csv('datas/survey_results_public.csv', index_col='ResponseId')"
   ]
  },
  {
   "cell_type": "code",
   "execution_count": 5,
   "id": "4290679b-9b87-40fa-86bb-87da5ac1c8ff",
   "metadata": {},
   "outputs": [
    {
     "name": "stdout",
     "output_type": "stream",
     "text": [
      "<class 'pandas.core.frame.DataFrame'>\n",
      "Int64Index: 73268 entries, 1 to 73268\n",
      "Data columns (total 78 columns):\n",
      " #   Column                          Non-Null Count  Dtype  \n",
      "---  ------                          --------------  -----  \n",
      " 0   MainBranch                      73268 non-null  object \n",
      " 1   Employment                      71709 non-null  object \n",
      " 2   RemoteWork                      58958 non-null  object \n",
      " 3   CodingActivities                58899 non-null  object \n",
      " 4   EdLevel                         71571 non-null  object \n",
      " 5   LearnCode                       71580 non-null  object \n",
      " 6   LearnCodeOnline                 50685 non-null  object \n",
      " 7   LearnCodeCoursesCert            29389 non-null  object \n",
      " 8   YearsCode                       71331 non-null  object \n",
      " 9   YearsCodePro                    51833 non-null  object \n",
      " 10  DevType                         61302 non-null  object \n",
      " 11  OrgSize                         51039 non-null  object \n",
      " 12  PurchaseInfluence               50969 non-null  object \n",
      " 13  BuyNewTool                      67963 non-null  object \n",
      " 14  Country                         71771 non-null  object \n",
      " 15  Currency                        51264 non-null  object \n",
      " 16  CompTotal                       38422 non-null  float64\n",
      " 17  CompFreq                        44425 non-null  object \n",
      " 18  LanguageHaveWorkedWith          70975 non-null  object \n",
      " 19  LanguageWantToWorkWith          67027 non-null  object \n",
      " 20  DatabaseHaveWorkedWith          60121 non-null  object \n",
      " 21  DatabaseWantToWorkWith          51014 non-null  object \n",
      " 22  PlatformHaveWorkedWith          49924 non-null  object \n",
      " 23  PlatformWantToWorkWith          40415 non-null  object \n",
      " 24  WebframeHaveWorkedWith          53544 non-null  object \n",
      " 25  WebframeWantToWorkWith          46122 non-null  object \n",
      " 26  MiscTechHaveWorkedWith          44992 non-null  object \n",
      " 27  MiscTechWantToWorkWith          36810 non-null  object \n",
      " 28  ToolsTechHaveWorkedWith         54171 non-null  object \n",
      " 29  ToolsTechWantToWorkWith         46566 non-null  object \n",
      " 30  NEWCollabToolsHaveWorkedWith    70347 non-null  object \n",
      " 31  NEWCollabToolsWantToWorkWith    64108 non-null  object \n",
      " 32  OpSysProfessional use           65503 non-null  object \n",
      " 33  OpSysPersonal use               70963 non-null  object \n",
      " 34  VersionControlSystem            71379 non-null  object \n",
      " 35  VCInteraction                   68156 non-null  object \n",
      " 36  VCHostingPersonal use           0 non-null      float64\n",
      " 37  VCHostingProfessional use       0 non-null      float64\n",
      " 38  OfficeStackAsyncHaveWorkedWith  46223 non-null  object \n",
      " 39  OfficeStackAsyncWantToWorkWith  32072 non-null  object \n",
      " 40  OfficeStackSyncHaveWorkedWith   62128 non-null  object \n",
      " 41  OfficeStackSyncWantToWorkWith   47688 non-null  object \n",
      " 42  Blockchain                      71071 non-null  object \n",
      " 43  NEWSOSites                      71365 non-null  object \n",
      " 44  SOVisitFreq                     70961 non-null  object \n",
      " 45  SOAccount                       71572 non-null  object \n",
      " 46  SOPartFreq                      58229 non-null  object \n",
      " 47  SOComm                          71408 non-null  object \n",
      " 48  Age                             70946 non-null  object \n",
      " 49  Gender                          70853 non-null  object \n",
      " 50  Trans                           70315 non-null  object \n",
      " 51  Sexuality                       66565 non-null  object \n",
      " 52  Ethnicity                       69474 non-null  object \n",
      " 53  Accessibility                   67244 non-null  object \n",
      " 54  MentalHealth                    66447 non-null  object \n",
      " 55  TBranch                         52670 non-null  object \n",
      " 56  ICorPM                          36283 non-null  object \n",
      " 57  WorkExp                         36769 non-null  float64\n",
      " 58  Knowledge_1                     35804 non-null  object \n",
      " 59  Knowledge_2                     34973 non-null  object \n",
      " 60  Knowledge_3                     35133 non-null  object \n",
      " 61  Knowledge_4                     35097 non-null  object \n",
      " 62  Knowledge_5                     35014 non-null  object \n",
      " 63  Knowledge_6                     34991 non-null  object \n",
      " 64  Knowledge_7                     34977 non-null  object \n",
      " 65  Frequency_1                     35371 non-null  object \n",
      " 66  Frequency_2                     35344 non-null  object \n",
      " 67  Frequency_3                     34515 non-null  object \n",
      " 68  TimeSearching                   36198 non-null  object \n",
      " 69  TimeAnswering                   36022 non-null  object \n",
      " 70  Onboarding                      35679 non-null  object \n",
      " 71  ProfessionalTech                34906 non-null  object \n",
      " 72  TrueFalse_1                     35819 non-null  object \n",
      " 73  TrueFalse_2                     35715 non-null  object \n",
      " 74  TrueFalse_3                     35749 non-null  object \n",
      " 75  SurveyLength                    70444 non-null  object \n",
      " 76  SurveyEase                      70508 non-null  object \n",
      " 77  ConvertedCompYearly             38071 non-null  float64\n",
      "dtypes: float64(5), object(73)\n",
      "memory usage: 44.2+ MB\n"
     ]
    }
   ],
   "source": [
    "survey_raw_df.info()"
   ]
  },
  {
   "cell_type": "markdown",
   "id": "6d806243-b888-43cf-be67-a0c0962dde37",
   "metadata": {},
   "source": [
    "schema 파일을 통해 질문에 접근해 보자."
   ]
  },
  {
   "cell_type": "code",
   "execution_count": 6,
   "id": "ee718c81-3963-477a-b5d3-9217c204b978",
   "metadata": {},
   "outputs": [],
   "source": [
    "schema_raw = pd.read_csv('datas/survey_results_schema.csv', index_col='qname').question"
   ]
  },
  {
   "cell_type": "code",
   "execution_count": 7,
   "id": "891e06ab-a5bd-42c9-b003-66c968676000",
   "metadata": {},
   "outputs": [
    {
     "data": {
      "text/plain": [
       "'What is your current total compensation (salary, bonuses, and perks, before taxes and deductions)? Please enter a whole number in the box below, without any punctuation.  If you are paid hourly, please estimate an equivalent weekly, monthly, or yearly salary. If you prefer not to answer, please leave the box empty.'"
      ]
     },
     "execution_count": 7,
     "metadata": {},
     "output_type": "execute_result"
    }
   ],
   "source": [
    "schema_raw.CompTotal"
   ]
  },
  {
   "cell_type": "code",
   "execution_count": 8,
   "id": "c3120c5d-0666-47e1-aad3-611887c5b66e",
   "metadata": {},
   "outputs": [
    {
     "data": {
      "text/plain": [
       "'Is that compensation weekly, monthly, or yearly?'"
      ]
     },
     "execution_count": 8,
     "metadata": {},
     "output_type": "execute_result"
    }
   ],
   "source": [
    "schema_raw.CompFreq"
   ]
  },
  {
   "cell_type": "raw",
   "id": "37bf6d0e-7062-4a90-b980-5b701922d673",
   "metadata": {},
   "source": [
    "표시되는 컬럼과 로우의 크기를 늘려 보자."
   ]
  },
  {
   "cell_type": "code",
   "execution_count": 9,
   "id": "db90e375-6044-4871-b4a9-eda6725d9174",
   "metadata": {},
   "outputs": [],
   "source": [
    "pd.set_option('display.max_columns', 78)"
   ]
  },
  {
   "cell_type": "code",
   "execution_count": 10,
   "id": "d8dade6e-73b6-4a3c-baba-745e8cb7168e",
   "metadata": {},
   "outputs": [],
   "source": [
    "pd.set_option('display.max_rows', 78)"
   ]
  },
  {
   "cell_type": "code",
   "execution_count": 11,
   "id": "c78c6acc-c7dd-4223-819d-f9b135e5abd8",
   "metadata": {},
   "outputs": [],
   "source": [
    "selected_columns=[\n",
    "    'Country',\n",
    "    'Age',\n",
    "    'Gender',\n",
    "    'EdLevel',\n",
    "    'YearsCode',\n",
    "    'YearsCodePro',\n",
    "    'LanguageHaveWorkedWith',\n",
    "    'LanguageWantToWorkWith',\n",
    "    'LearnCodeCoursesCert',\n",
    "    'ProfessionalTech',\n",
    "    'SOAccount',\n",
    "    'Employment',\n",
    "    'DevType',\n",
    "    'WorkExp'\n",
    "]"
   ]
  },
  {
   "cell_type": "code",
   "execution_count": 12,
   "id": "1e2df683-9985-44e5-a127-3e6953a088fb",
   "metadata": {},
   "outputs": [
    {
     "data": {
      "text/html": [
       "<div>\n",
       "<style scoped>\n",
       "    .dataframe tbody tr th:only-of-type {\n",
       "        vertical-align: middle;\n",
       "    }\n",
       "\n",
       "    .dataframe tbody tr th {\n",
       "        vertical-align: top;\n",
       "    }\n",
       "\n",
       "    .dataframe thead th {\n",
       "        text-align: right;\n",
       "    }\n",
       "</style>\n",
       "<table border=\"1\" class=\"dataframe\">\n",
       "  <thead>\n",
       "    <tr style=\"text-align: right;\">\n",
       "      <th></th>\n",
       "      <th>Country</th>\n",
       "      <th>Age</th>\n",
       "      <th>Gender</th>\n",
       "      <th>EdLevel</th>\n",
       "      <th>YearsCode</th>\n",
       "      <th>YearsCodePro</th>\n",
       "      <th>LanguageHaveWorkedWith</th>\n",
       "      <th>LanguageWantToWorkWith</th>\n",
       "      <th>LearnCodeCoursesCert</th>\n",
       "      <th>ProfessionalTech</th>\n",
       "      <th>SOAccount</th>\n",
       "      <th>Employment</th>\n",
       "      <th>DevType</th>\n",
       "      <th>WorkExp</th>\n",
       "    </tr>\n",
       "    <tr>\n",
       "      <th>ResponseId</th>\n",
       "      <th></th>\n",
       "      <th></th>\n",
       "      <th></th>\n",
       "      <th></th>\n",
       "      <th></th>\n",
       "      <th></th>\n",
       "      <th></th>\n",
       "      <th></th>\n",
       "      <th></th>\n",
       "      <th></th>\n",
       "      <th></th>\n",
       "      <th></th>\n",
       "      <th></th>\n",
       "      <th></th>\n",
       "    </tr>\n",
       "  </thead>\n",
       "  <tbody>\n",
       "    <tr>\n",
       "      <th>1</th>\n",
       "      <td>NaN</td>\n",
       "      <td>NaN</td>\n",
       "      <td>NaN</td>\n",
       "      <td>NaN</td>\n",
       "      <td>NaN</td>\n",
       "      <td>NaN</td>\n",
       "      <td>NaN</td>\n",
       "      <td>NaN</td>\n",
       "      <td>NaN</td>\n",
       "      <td>NaN</td>\n",
       "      <td>NaN</td>\n",
       "      <td>NaN</td>\n",
       "      <td>NaN</td>\n",
       "      <td>NaN</td>\n",
       "    </tr>\n",
       "    <tr>\n",
       "      <th>2</th>\n",
       "      <td>Canada</td>\n",
       "      <td>NaN</td>\n",
       "      <td>NaN</td>\n",
       "      <td>NaN</td>\n",
       "      <td>NaN</td>\n",
       "      <td>NaN</td>\n",
       "      <td>JavaScript;TypeScript</td>\n",
       "      <td>Rust;TypeScript</td>\n",
       "      <td>NaN</td>\n",
       "      <td>NaN</td>\n",
       "      <td>Yes</td>\n",
       "      <td>Employed, full-time</td>\n",
       "      <td>NaN</td>\n",
       "      <td>NaN</td>\n",
       "    </tr>\n",
       "    <tr>\n",
       "      <th>3</th>\n",
       "      <td>United Kingdom of Great Britain and Northern I...</td>\n",
       "      <td>25-34 years old</td>\n",
       "      <td>Man</td>\n",
       "      <td>Master’s degree (M.A., M.S., M.Eng., MBA, etc.)</td>\n",
       "      <td>14</td>\n",
       "      <td>5</td>\n",
       "      <td>C#;C++;HTML/CSS;JavaScript;Python</td>\n",
       "      <td>C#;C++;HTML/CSS;JavaScript;TypeScript</td>\n",
       "      <td>NaN</td>\n",
       "      <td>NaN</td>\n",
       "      <td>Yes</td>\n",
       "      <td>Employed, full-time</td>\n",
       "      <td>Data scientist or machine learning specialist;...</td>\n",
       "      <td>NaN</td>\n",
       "    </tr>\n",
       "    <tr>\n",
       "      <th>4</th>\n",
       "      <td>Israel</td>\n",
       "      <td>35-44 years old</td>\n",
       "      <td>Man</td>\n",
       "      <td>Bachelor’s degree (B.A., B.S., B.Eng., etc.)</td>\n",
       "      <td>20</td>\n",
       "      <td>17</td>\n",
       "      <td>C#;JavaScript;SQL;TypeScript</td>\n",
       "      <td>C#;SQL;TypeScript</td>\n",
       "      <td>NaN</td>\n",
       "      <td>NaN</td>\n",
       "      <td>Yes</td>\n",
       "      <td>Employed, full-time</td>\n",
       "      <td>Developer, full-stack</td>\n",
       "      <td>NaN</td>\n",
       "    </tr>\n",
       "    <tr>\n",
       "      <th>5</th>\n",
       "      <td>United States of America</td>\n",
       "      <td>25-34 years old</td>\n",
       "      <td>NaN</td>\n",
       "      <td>Bachelor’s degree (B.A., B.S., B.Eng., etc.)</td>\n",
       "      <td>8</td>\n",
       "      <td>3</td>\n",
       "      <td>C#;HTML/CSS;JavaScript;SQL;Swift;TypeScript</td>\n",
       "      <td>C#;Elixir;F#;Go;JavaScript;Rust;TypeScript</td>\n",
       "      <td>NaN</td>\n",
       "      <td>NaN</td>\n",
       "      <td>Yes</td>\n",
       "      <td>Employed, full-time</td>\n",
       "      <td>Developer, front-end;Developer, full-stack;Dev...</td>\n",
       "      <td>NaN</td>\n",
       "    </tr>\n",
       "    <tr>\n",
       "      <th>...</th>\n",
       "      <td>...</td>\n",
       "      <td>...</td>\n",
       "      <td>...</td>\n",
       "      <td>...</td>\n",
       "      <td>...</td>\n",
       "      <td>...</td>\n",
       "      <td>...</td>\n",
       "      <td>...</td>\n",
       "      <td>...</td>\n",
       "      <td>...</td>\n",
       "      <td>...</td>\n",
       "      <td>...</td>\n",
       "      <td>...</td>\n",
       "      <td>...</td>\n",
       "    </tr>\n",
       "    <tr>\n",
       "      <th>73264</th>\n",
       "      <td>Nigeria</td>\n",
       "      <td>25-34 years old</td>\n",
       "      <td>Man</td>\n",
       "      <td>Bachelor’s degree (B.A., B.S., B.Eng., etc.)</td>\n",
       "      <td>8</td>\n",
       "      <td>5</td>\n",
       "      <td>Bash/Shell;Dart;JavaScript;PHP;Python;SQL;Type...</td>\n",
       "      <td>Bash/Shell;Go;JavaScript;Python;SQL;TypeScript</td>\n",
       "      <td>Udemy</td>\n",
       "      <td>DevOps function;Microservices;Developer portal...</td>\n",
       "      <td>Yes</td>\n",
       "      <td>Employed, full-time</td>\n",
       "      <td>Developer, back-end</td>\n",
       "      <td>5.0</td>\n",
       "    </tr>\n",
       "    <tr>\n",
       "      <th>73265</th>\n",
       "      <td>United States of America</td>\n",
       "      <td>25-34 years old</td>\n",
       "      <td>Man</td>\n",
       "      <td>Master’s degree (M.A., M.S., M.Eng., MBA, etc.)</td>\n",
       "      <td>6</td>\n",
       "      <td>5</td>\n",
       "      <td>Bash/Shell;HTML/CSS;JavaScript;Python;SQL</td>\n",
       "      <td>HTML/CSS;JavaScript;Python</td>\n",
       "      <td>Coursera;Udemy;Udacity</td>\n",
       "      <td>None of these</td>\n",
       "      <td>Not sure/can't remember</td>\n",
       "      <td>Employed, full-time</td>\n",
       "      <td>Data scientist or machine learning specialist</td>\n",
       "      <td>6.0</td>\n",
       "    </tr>\n",
       "    <tr>\n",
       "      <th>73266</th>\n",
       "      <td>United States of America</td>\n",
       "      <td>55-64 years old</td>\n",
       "      <td>Man</td>\n",
       "      <td>Bachelor’s degree (B.A., B.S., B.Eng., etc.)</td>\n",
       "      <td>42</td>\n",
       "      <td>33</td>\n",
       "      <td>HTML/CSS;JavaScript;PHP;Python;SQL</td>\n",
       "      <td>C#;HTML/CSS;JavaScript;PHP;Python;SQL</td>\n",
       "      <td>Udemy;Codecademy;Pluralsight;edX</td>\n",
       "      <td>None of these</td>\n",
       "      <td>Yes</td>\n",
       "      <td>Employed, full-time</td>\n",
       "      <td>Developer, full-stack;Developer, desktop or en...</td>\n",
       "      <td>42.0</td>\n",
       "    </tr>\n",
       "    <tr>\n",
       "      <th>73267</th>\n",
       "      <td>United Kingdom of Great Britain and Northern I...</td>\n",
       "      <td>55-64 years old</td>\n",
       "      <td>Man</td>\n",
       "      <td>Bachelor’s degree (B.A., B.S., B.Eng., etc.)</td>\n",
       "      <td>50</td>\n",
       "      <td>31</td>\n",
       "      <td>C#;Delphi;VBA</td>\n",
       "      <td>Delphi</td>\n",
       "      <td>NaN</td>\n",
       "      <td>NaN</td>\n",
       "      <td>Yes</td>\n",
       "      <td>Employed, full-time</td>\n",
       "      <td>Developer, front-end;Developer, desktop or ent...</td>\n",
       "      <td>NaN</td>\n",
       "    </tr>\n",
       "    <tr>\n",
       "      <th>73268</th>\n",
       "      <td>Canada</td>\n",
       "      <td>25-34 years old</td>\n",
       "      <td>Man</td>\n",
       "      <td>Bachelor’s degree (B.A., B.S., B.Eng., etc.)</td>\n",
       "      <td>16</td>\n",
       "      <td>5</td>\n",
       "      <td>C#;JavaScript;Lua;PowerShell;SQL;TypeScript</td>\n",
       "      <td>PowerShell;Rust;TypeScript</td>\n",
       "      <td>Udemy;Pluralsight</td>\n",
       "      <td>NaN</td>\n",
       "      <td>Yes</td>\n",
       "      <td>Independent contractor, freelancer, or self-em...</td>\n",
       "      <td>Developer, front-end;Engineer, data;Engineer, ...</td>\n",
       "      <td>NaN</td>\n",
       "    </tr>\n",
       "  </tbody>\n",
       "</table>\n",
       "<p>73268 rows × 14 columns</p>\n",
       "</div>"
      ],
      "text/plain": [
       "                                                      Country  \\\n",
       "ResponseId                                                      \n",
       "1                                                         NaN   \n",
       "2                                                      Canada   \n",
       "3           United Kingdom of Great Britain and Northern I...   \n",
       "4                                                      Israel   \n",
       "5                                    United States of America   \n",
       "...                                                       ...   \n",
       "73264                                                 Nigeria   \n",
       "73265                                United States of America   \n",
       "73266                                United States of America   \n",
       "73267       United Kingdom of Great Britain and Northern I...   \n",
       "73268                                                  Canada   \n",
       "\n",
       "                        Age Gender  \\\n",
       "ResponseId                           \n",
       "1                       NaN    NaN   \n",
       "2                       NaN    NaN   \n",
       "3           25-34 years old    Man   \n",
       "4           35-44 years old    Man   \n",
       "5           25-34 years old    NaN   \n",
       "...                     ...    ...   \n",
       "73264       25-34 years old    Man   \n",
       "73265       25-34 years old    Man   \n",
       "73266       55-64 years old    Man   \n",
       "73267       55-64 years old    Man   \n",
       "73268       25-34 years old    Man   \n",
       "\n",
       "                                                    EdLevel YearsCode  \\\n",
       "ResponseId                                                              \n",
       "1                                                       NaN       NaN   \n",
       "2                                                       NaN       NaN   \n",
       "3           Master’s degree (M.A., M.S., M.Eng., MBA, etc.)        14   \n",
       "4              Bachelor’s degree (B.A., B.S., B.Eng., etc.)        20   \n",
       "5              Bachelor’s degree (B.A., B.S., B.Eng., etc.)         8   \n",
       "...                                                     ...       ...   \n",
       "73264          Bachelor’s degree (B.A., B.S., B.Eng., etc.)         8   \n",
       "73265       Master’s degree (M.A., M.S., M.Eng., MBA, etc.)         6   \n",
       "73266          Bachelor’s degree (B.A., B.S., B.Eng., etc.)        42   \n",
       "73267          Bachelor’s degree (B.A., B.S., B.Eng., etc.)        50   \n",
       "73268          Bachelor’s degree (B.A., B.S., B.Eng., etc.)        16   \n",
       "\n",
       "           YearsCodePro                             LanguageHaveWorkedWith  \\\n",
       "ResponseId                                                                   \n",
       "1                   NaN                                                NaN   \n",
       "2                   NaN                              JavaScript;TypeScript   \n",
       "3                     5                  C#;C++;HTML/CSS;JavaScript;Python   \n",
       "4                    17                       C#;JavaScript;SQL;TypeScript   \n",
       "5                     3        C#;HTML/CSS;JavaScript;SQL;Swift;TypeScript   \n",
       "...                 ...                                                ...   \n",
       "73264                 5  Bash/Shell;Dart;JavaScript;PHP;Python;SQL;Type...   \n",
       "73265                 5          Bash/Shell;HTML/CSS;JavaScript;Python;SQL   \n",
       "73266                33                 HTML/CSS;JavaScript;PHP;Python;SQL   \n",
       "73267                31                                      C#;Delphi;VBA   \n",
       "73268                 5        C#;JavaScript;Lua;PowerShell;SQL;TypeScript   \n",
       "\n",
       "                                    LanguageWantToWorkWith  \\\n",
       "ResponseId                                                   \n",
       "1                                                      NaN   \n",
       "2                                          Rust;TypeScript   \n",
       "3                    C#;C++;HTML/CSS;JavaScript;TypeScript   \n",
       "4                                        C#;SQL;TypeScript   \n",
       "5               C#;Elixir;F#;Go;JavaScript;Rust;TypeScript   \n",
       "...                                                    ...   \n",
       "73264       Bash/Shell;Go;JavaScript;Python;SQL;TypeScript   \n",
       "73265                           HTML/CSS;JavaScript;Python   \n",
       "73266                C#;HTML/CSS;JavaScript;PHP;Python;SQL   \n",
       "73267                                               Delphi   \n",
       "73268                           PowerShell;Rust;TypeScript   \n",
       "\n",
       "                        LearnCodeCoursesCert  \\\n",
       "ResponseId                                     \n",
       "1                                        NaN   \n",
       "2                                        NaN   \n",
       "3                                        NaN   \n",
       "4                                        NaN   \n",
       "5                                        NaN   \n",
       "...                                      ...   \n",
       "73264                                  Udemy   \n",
       "73265                 Coursera;Udemy;Udacity   \n",
       "73266       Udemy;Codecademy;Pluralsight;edX   \n",
       "73267                                    NaN   \n",
       "73268                      Udemy;Pluralsight   \n",
       "\n",
       "                                             ProfessionalTech  \\\n",
       "ResponseId                                                      \n",
       "1                                                         NaN   \n",
       "2                                                         NaN   \n",
       "3                                                         NaN   \n",
       "4                                                         NaN   \n",
       "5                                                         NaN   \n",
       "...                                                       ...   \n",
       "73264       DevOps function;Microservices;Developer portal...   \n",
       "73265                                           None of these   \n",
       "73266                                           None of these   \n",
       "73267                                                     NaN   \n",
       "73268                                                     NaN   \n",
       "\n",
       "                          SOAccount  \\\n",
       "ResponseId                            \n",
       "1                               NaN   \n",
       "2                               Yes   \n",
       "3                               Yes   \n",
       "4                               Yes   \n",
       "5                               Yes   \n",
       "...                             ...   \n",
       "73264                           Yes   \n",
       "73265       Not sure/can't remember   \n",
       "73266                           Yes   \n",
       "73267                           Yes   \n",
       "73268                           Yes   \n",
       "\n",
       "                                                   Employment  \\\n",
       "ResponseId                                                      \n",
       "1                                                         NaN   \n",
       "2                                         Employed, full-time   \n",
       "3                                         Employed, full-time   \n",
       "4                                         Employed, full-time   \n",
       "5                                         Employed, full-time   \n",
       "...                                                       ...   \n",
       "73264                                     Employed, full-time   \n",
       "73265                                     Employed, full-time   \n",
       "73266                                     Employed, full-time   \n",
       "73267                                     Employed, full-time   \n",
       "73268       Independent contractor, freelancer, or self-em...   \n",
       "\n",
       "                                                      DevType  WorkExp  \n",
       "ResponseId                                                              \n",
       "1                                                         NaN      NaN  \n",
       "2                                                         NaN      NaN  \n",
       "3           Data scientist or machine learning specialist;...      NaN  \n",
       "4                                       Developer, full-stack      NaN  \n",
       "5           Developer, front-end;Developer, full-stack;Dev...      NaN  \n",
       "...                                                       ...      ...  \n",
       "73264                                     Developer, back-end      5.0  \n",
       "73265           Data scientist or machine learning specialist      6.0  \n",
       "73266       Developer, full-stack;Developer, desktop or en...     42.0  \n",
       "73267       Developer, front-end;Developer, desktop or ent...      NaN  \n",
       "73268       Developer, front-end;Engineer, data;Engineer, ...      NaN  \n",
       "\n",
       "[73268 rows x 14 columns]"
      ]
     },
     "execution_count": 12,
     "metadata": {},
     "output_type": "execute_result"
    }
   ],
   "source": [
    "survey_df = survey_raw_df[selected_columns].copy()\n",
    "survey_df"
   ]
  },
  {
   "cell_type": "markdown",
   "id": "6e447c32-3f44-4584-a458-9388570da843",
   "metadata": {},
   "source": [
    "우선 얼마나 코딩을 공부했는지 보자."
   ]
  },
  {
   "cell_type": "code",
   "execution_count": 13,
   "id": "8070187d-2b0f-4a4a-a97d-17189feeb649",
   "metadata": {},
   "outputs": [
    {
     "data": {
      "text/plain": [
       "'Including any education, how many years have you been coding in total?'"
      ]
     },
     "execution_count": 13,
     "metadata": {},
     "output_type": "execute_result"
    }
   ],
   "source": [
    "schema_raw.YearsCode"
   ]
  },
  {
   "cell_type": "code",
   "execution_count": 14,
   "id": "d8eac704-2530-4b94-9093-d3599548a1bc",
   "metadata": {},
   "outputs": [
    {
     "data": {
      "text/plain": [
       "10                    5217\n",
       "5                     5193\n",
       "6                     4651\n",
       "4                     4480\n",
       "7                     4237\n",
       "8                     4227\n",
       "3                     4122\n",
       "2                     3351\n",
       "12                    2995\n",
       "15                    2962\n",
       "20                    2659\n",
       "9                     2581\n",
       "11                    1819\n",
       "14                    1811\n",
       "13                    1624\n",
       "25                    1582\n",
       "1                     1566\n",
       "Less than 1 year      1413\n",
       "16                    1406\n",
       "30                    1330\n",
       "22                    1176\n",
       "18                    1150\n",
       "17                    1080\n",
       "40                     777\n",
       "24                     752\n",
       "35                     742\n",
       "23                     644\n",
       "19                     563\n",
       "26                     489\n",
       "27                     485\n",
       "21                     483\n",
       "28                     425\n",
       "32                     371\n",
       "38                     288\n",
       "37                     277\n",
       "34                     241\n",
       "36                     236\n",
       "33                     229\n",
       "42                     216\n",
       "29                     208\n",
       "More than 50 years     172\n",
       "31                     170\n",
       "45                     167\n",
       "39                     159\n",
       "41                     143\n",
       "43                     115\n",
       "44                     104\n",
       "50                      68\n",
       "46                      57\n",
       "47                      42\n",
       "48                      41\n",
       "49                      35\n",
       "Name: YearsCode, dtype: int64"
      ]
     },
     "execution_count": 14,
     "metadata": {},
     "output_type": "execute_result"
    }
   ],
   "source": [
    "survey_df.YearsCode.value_counts()"
   ]
  },
  {
   "cell_type": "markdown",
   "id": "96f5aabe-8c86-4332-8211-68039fe9d0b1",
   "metadata": {},
   "source": [
    "연습문제 - 해당 시리즈의 nan값을 확인하는 함수를 만들어 보시오."
   ]
  },
  {
   "cell_type": "code",
   "execution_count": 15,
   "id": "6c8609a7-ad42-49b7-b153-14d8c25f90b2",
   "metadata": {},
   "outputs": [],
   "source": [
    "def count_nan(s):\n",
    "    return sum(s.isnull())"
   ]
  },
  {
   "cell_type": "code",
   "execution_count": 16,
   "id": "2e1ff8db-f856-4d1c-a859-d6bcdb96cec1",
   "metadata": {},
   "outputs": [
    {
     "data": {
      "text/plain": [
       "1937"
      ]
     },
     "execution_count": 16,
     "metadata": {},
     "output_type": "execute_result"
    }
   ],
   "source": [
    "count_nan(survey_df.YearsCode)"
   ]
  },
  {
   "cell_type": "markdown",
   "id": "89010a35-c177-4555-b316-10f51f68c85a",
   "metadata": {},
   "source": [
    "연습문제 - YearsCode의 less than 1 year의 값은 0으로, More than 50 years의 값은 51로 일괄적으로 변경하려고 한다. dtype을 float으로 바꾸고 이를 YearsCode에 적용하시오."
   ]
  },
  {
   "cell_type": "code",
   "execution_count": 17,
   "id": "bd6dd064-36f6-496c-b715-4b137f244852",
   "metadata": {},
   "outputs": [],
   "source": [
    "survey_df.YearsCode.replace(to_replace='Less than 1 year', value=0, inplace=True)"
   ]
  },
  {
   "cell_type": "code",
   "execution_count": 18,
   "id": "b4436b65-b716-4e92-b44b-a66abab1e412",
   "metadata": {},
   "outputs": [],
   "source": [
    "survey_df.YearsCode.replace(to_replace='More than 50 years', value=51, inplace=True)"
   ]
  },
  {
   "cell_type": "code",
   "execution_count": 19,
   "id": "b7745006-baa1-414d-ad46-b52b58ad52f4",
   "metadata": {},
   "outputs": [],
   "source": [
    "survey_df.YearsCode = survey_df.YearsCode.astype(float)"
   ]
  },
  {
   "cell_type": "code",
   "execution_count": 20,
   "id": "32f02018-3541-4433-b1be-d039bca71dae",
   "metadata": {},
   "outputs": [],
   "source": [
    "survey_df.YearsCodePro.replace(to_replace='Less than 1 year', value=0, inplace=True)\n",
    "survey_df.YearsCodePro.replace(to_replace='More than 50 years', value=51, inplace=True)\n",
    "survey_df.YearsCodePro = survey_df.YearsCodePro.astype(float)"
   ]
  },
  {
   "cell_type": "code",
   "execution_count": 21,
   "id": "cce8b6b6-67c1-431f-8957-894a826ad9b6",
   "metadata": {},
   "outputs": [
    {
     "data": {
      "text/plain": [
       "3.0     4261\n",
       "5.0     4057\n",
       "2.0     3945\n",
       "4.0     3884\n",
       "10.0    3333\n",
       "6.0     3184\n",
       "7.0     2760\n",
       "8.0     2646\n",
       "1.0     2644\n",
       "0.0     1972\n",
       "15.0    1822\n",
       "12.0    1711\n",
       "9.0     1583\n",
       "20.0    1472\n",
       "11.0    1369\n",
       "14.0    1048\n",
       "22.0     933\n",
       "16.0     921\n",
       "13.0     914\n",
       "25.0     877\n",
       "18.0     787\n",
       "17.0     723\n",
       "30.0     568\n",
       "23.0     463\n",
       "24.0     454\n",
       "21.0     429\n",
       "19.0     380\n",
       "26.0     320\n",
       "27.0     286\n",
       "35.0     266\n",
       "28.0     254\n",
       "32.0     223\n",
       "40.0     175\n",
       "29.0     126\n",
       "33.0     122\n",
       "31.0     121\n",
       "34.0     113\n",
       "36.0     111\n",
       "37.0     100\n",
       "38.0      96\n",
       "42.0      67\n",
       "45.0      52\n",
       "39.0      51\n",
       "41.0      42\n",
       "51.0      41\n",
       "43.0      31\n",
       "44.0      26\n",
       "46.0      19\n",
       "48.0      18\n",
       "50.0      14\n",
       "47.0      10\n",
       "49.0       9\n",
       "Name: YearsCodePro, dtype: int64"
      ]
     },
     "execution_count": 21,
     "metadata": {},
     "output_type": "execute_result"
    }
   ],
   "source": [
    "survey_df.YearsCodePro.value_counts()"
   ]
  },
  {
   "cell_type": "code",
   "execution_count": 22,
   "id": "c7257fbe-7f90-4a0a-b6dd-fb22664a886c",
   "metadata": {},
   "outputs": [
    {
     "data": {
      "text/html": [
       "<div>\n",
       "<style scoped>\n",
       "    .dataframe tbody tr th:only-of-type {\n",
       "        vertical-align: middle;\n",
       "    }\n",
       "\n",
       "    .dataframe tbody tr th {\n",
       "        vertical-align: top;\n",
       "    }\n",
       "\n",
       "    .dataframe thead th {\n",
       "        text-align: right;\n",
       "    }\n",
       "</style>\n",
       "<table border=\"1\" class=\"dataframe\">\n",
       "  <thead>\n",
       "    <tr style=\"text-align: right;\">\n",
       "      <th></th>\n",
       "      <th>YearsCode</th>\n",
       "      <th>YearsCodePro</th>\n",
       "      <th>WorkExp</th>\n",
       "    </tr>\n",
       "  </thead>\n",
       "  <tbody>\n",
       "    <tr>\n",
       "      <th>count</th>\n",
       "      <td>71331.000000</td>\n",
       "      <td>51833.000000</td>\n",
       "      <td>36769.000000</td>\n",
       "    </tr>\n",
       "    <tr>\n",
       "      <th>mean</th>\n",
       "      <td>12.251307</td>\n",
       "      <td>9.910270</td>\n",
       "      <td>10.242378</td>\n",
       "    </tr>\n",
       "    <tr>\n",
       "      <th>std</th>\n",
       "      <td>9.952419</td>\n",
       "      <td>8.712048</td>\n",
       "      <td>8.706850</td>\n",
       "    </tr>\n",
       "    <tr>\n",
       "      <th>min</th>\n",
       "      <td>0.000000</td>\n",
       "      <td>0.000000</td>\n",
       "      <td>0.000000</td>\n",
       "    </tr>\n",
       "    <tr>\n",
       "      <th>25%</th>\n",
       "      <td>5.000000</td>\n",
       "      <td>4.000000</td>\n",
       "      <td>4.000000</td>\n",
       "    </tr>\n",
       "    <tr>\n",
       "      <th>50%</th>\n",
       "      <td>9.000000</td>\n",
       "      <td>7.000000</td>\n",
       "      <td>8.000000</td>\n",
       "    </tr>\n",
       "    <tr>\n",
       "      <th>75%</th>\n",
       "      <td>16.000000</td>\n",
       "      <td>14.000000</td>\n",
       "      <td>15.000000</td>\n",
       "    </tr>\n",
       "    <tr>\n",
       "      <th>max</th>\n",
       "      <td>51.000000</td>\n",
       "      <td>51.000000</td>\n",
       "      <td>50.000000</td>\n",
       "    </tr>\n",
       "  </tbody>\n",
       "</table>\n",
       "</div>"
      ],
      "text/plain": [
       "          YearsCode  YearsCodePro       WorkExp\n",
       "count  71331.000000  51833.000000  36769.000000\n",
       "mean      12.251307      9.910270     10.242378\n",
       "std        9.952419      8.712048      8.706850\n",
       "min        0.000000      0.000000      0.000000\n",
       "25%        5.000000      4.000000      4.000000\n",
       "50%        9.000000      7.000000      8.000000\n",
       "75%       16.000000     14.000000     15.000000\n",
       "max       51.000000     51.000000     50.000000"
      ]
     },
     "execution_count": 22,
     "metadata": {},
     "output_type": "execute_result"
    }
   ],
   "source": [
    "survey_df.describe()"
   ]
  },
  {
   "cell_type": "code",
   "execution_count": 23,
   "id": "bc9b9f8f-610e-4482-b166-b1d6d833e225",
   "metadata": {},
   "outputs": [],
   "source": [
    "survey_df2 = survey_raw_df[selected_columns].copy()"
   ]
  },
  {
   "cell_type": "code",
   "execution_count": 24,
   "id": "9d888709-9d19-4cdb-8116-34baf4bb675f",
   "metadata": {},
   "outputs": [],
   "source": [
    "survey_df2.YearsCode = pd.to_numeric(survey_df2.YearsCode, errors='coerce')\n",
    "survey_df2.YearsCodePro = pd.to_numeric(survey_df2.YearsCodePro, errors='coerce')"
   ]
  },
  {
   "cell_type": "code",
   "execution_count": 25,
   "id": "ab1df873-68a0-417c-a264-22c8acc99457",
   "metadata": {},
   "outputs": [
    {
     "data": {
      "text/plain": [
       "ResponseId\n",
       "3        14.0\n",
       "4        20.0\n",
       "5         8.0\n",
       "6        15.0\n",
       "7         3.0\n",
       "         ... \n",
       "73264     8.0\n",
       "73265     6.0\n",
       "73266    42.0\n",
       "73267    50.0\n",
       "73268    16.0\n",
       "Name: YearsCode, Length: 69746, dtype: float64"
      ]
     },
     "execution_count": 25,
     "metadata": {},
     "output_type": "execute_result"
    }
   ],
   "source": [
    "survey_df2.YearsCode.dropna()"
   ]
  },
  {
   "cell_type": "markdown",
   "id": "4e53f97c-e9be-482e-85ae-c49d224ac9fb",
   "metadata": {},
   "source": [
    "젠더와 성별에 대한 칼럼을 뽑아 보면 예상 외로 값이 다양한 것을 볼 수 있다."
   ]
  },
  {
   "cell_type": "code",
   "execution_count": 26,
   "id": "cf9f9732-3b9d-4885-a610-2c2ecd1ed4c9",
   "metadata": {},
   "outputs": [
    {
     "data": {
      "text/plain": [
       "Man                                                                                   64607\n",
       "Woman                                                                                  3399\n",
       "Prefer not to say                                                                      1172\n",
       "Non-binary, genderqueer, or gender non-conforming                                       704\n",
       "Or, in your own words:                                                                  279\n",
       "Man;Non-binary, genderqueer, or gender non-conforming                                   235\n",
       "Man;Or, in your own words:                                                              171\n",
       "Woman;Non-binary, genderqueer, or gender non-conforming                                 160\n",
       "Man;Woman;Non-binary, genderqueer, or gender non-conforming                              31\n",
       "Man;Woman                                                                                24\n",
       "Man;Or, in your own words:;Woman;Non-binary, genderqueer, or gender non-conforming       18\n",
       "Or, in your own words:;Woman;Non-binary, genderqueer, or gender non-conforming           15\n",
       "Or, in your own words:;Non-binary, genderqueer, or gender non-conforming                 14\n",
       "Or, in your own words:;Woman                                                             13\n",
       "Man;Or, in your own words:;Non-binary, genderqueer, or gender non-conforming              9\n",
       "Man;Or, in your own words:;Woman                                                          2\n",
       "Name: Gender, dtype: int64"
      ]
     },
     "execution_count": 26,
     "metadata": {},
     "output_type": "execute_result"
    }
   ],
   "source": [
    "survey_df.Gender.value_counts()"
   ]
  },
  {
   "cell_type": "markdown",
   "id": "678870f7-2624-448a-921a-f9ae7fcae7ae",
   "metadata": {},
   "source": [
    "contains()메서드로 값을 찾을 수 있다. na 키워드 인수를 활용해서 nan 값을 대신할 값을 넣을 수 있다."
   ]
  },
  {
   "cell_type": "code",
   "execution_count": 27,
   "id": "ab7b951f-43be-437e-a9ec-34803388ebfa",
   "metadata": {},
   "outputs": [],
   "source": [
    "survey_df.where(~(survey_df.Gender.str.contains(';', na=False)), np.nan, inplace=True)"
   ]
  },
  {
   "cell_type": "code",
   "execution_count": 28,
   "id": "6a4483b3-7d3f-4b1b-b126-20b391294b2f",
   "metadata": {},
   "outputs": [
    {
     "data": {
      "text/plain": [
       "Man                                                  64607\n",
       "Woman                                                 3399\n",
       "Prefer not to say                                     1172\n",
       "Non-binary, genderqueer, or gender non-conforming      704\n",
       "Or, in your own words:                                 279\n",
       "Name: Gender, dtype: int64"
      ]
     },
     "execution_count": 28,
     "metadata": {},
     "output_type": "execute_result"
    }
   ],
   "source": [
    "survey_df.Gender.value_counts()"
   ]
  },
  {
   "cell_type": "code",
   "execution_count": 29,
   "id": "bc00afe8-e370-4170-ae29-a8422cc14ea2",
   "metadata": {},
   "outputs": [],
   "source": [
    "sns.set_style('darkgrid')"
   ]
  },
  {
   "cell_type": "code",
   "execution_count": 30,
   "id": "6bea3c0b-bd58-46b3-828a-858e19718dd2",
   "metadata": {},
   "outputs": [],
   "source": [
    "mpl.rcParams['font.size']=14"
   ]
  },
  {
   "cell_type": "code",
   "execution_count": 31,
   "id": "ca1e7f63-d63c-4f63-9886-916690cad301",
   "metadata": {},
   "outputs": [],
   "source": [
    "mpl.rcParams['figure.figsize']=(9, 5)"
   ]
  },
  {
   "cell_type": "code",
   "execution_count": 32,
   "id": "ec72f326-9523-445a-8e78-402fdf3a745a",
   "metadata": {},
   "outputs": [],
   "source": [
    "mpl.rcParams['figure.facecolor']='#ffffff'"
   ]
  },
  {
   "cell_type": "code",
   "execution_count": 33,
   "id": "bd6c5fd2-e573-423a-95b9-ef99fd481806",
   "metadata": {},
   "outputs": [],
   "source": [
    "mpl.rcParams['axes.facecolor']='white'"
   ]
  },
  {
   "cell_type": "code",
   "execution_count": 34,
   "id": "aa3252b4-ac84-4934-b517-464a12cae2a4",
   "metadata": {},
   "outputs": [
    {
     "name": "stdout",
     "output_type": "stream",
     "text": [
      "['Solarize_Light2', '_classic_test_patch', '_mpl-gallery', '_mpl-gallery-nogrid', 'bmh', 'classic', 'dark_background', 'fast', 'fivethirtyeight', 'ggplot', 'grayscale', 'seaborn-v0_8', 'seaborn-v0_8-bright', 'seaborn-v0_8-colorblind', 'seaborn-v0_8-dark', 'seaborn-v0_8-dark-palette', 'seaborn-v0_8-darkgrid', 'seaborn-v0_8-deep', 'seaborn-v0_8-muted', 'seaborn-v0_8-notebook', 'seaborn-v0_8-paper', 'seaborn-v0_8-pastel', 'seaborn-v0_8-poster', 'seaborn-v0_8-talk', 'seaborn-v0_8-ticks', 'seaborn-v0_8-white', 'seaborn-v0_8-whitegrid', 'tableau-colorblind10']\n"
     ]
    }
   ],
   "source": [
    "print(plt.style.available)"
   ]
  },
  {
   "cell_type": "code",
   "execution_count": 35,
   "id": "c8a2be2c-3248-4955-bca3-cca26b84d7b3",
   "metadata": {},
   "outputs": [],
   "source": [
    "plt.style.use('classic')"
   ]
  },
  {
   "cell_type": "code",
   "execution_count": 36,
   "id": "2be62ae0-e8ea-45c0-a612-fcf1ca8f7a11",
   "metadata": {},
   "outputs": [],
   "source": [
    "plt.style.use('default')"
   ]
  },
  {
   "cell_type": "code",
   "execution_count": 37,
   "id": "9e6e8982-c774-4f96-bde5-935f7d5ad0e7",
   "metadata": {},
   "outputs": [
    {
     "data": {
      "image/png": "[encoded data removed]",
      "text/plain": [
       "<Figure size 640x480 with 1 Axes>"
      ]
     },
     "metadata": {},
     "output_type": "display_data"
    }
   ],
   "source": [
    "plt.plot(range(10))\n",
    "plt.show()"
   ]
  },
  {
   "cell_type": "markdown",
   "id": "48d8719f-d59c-4e8c-a437-d3c8d5398731",
   "metadata": {},
   "source": [
    "스택오버플로우의 커뮤니티 특성상 갖게 되는 데이터의 편향적 특징에 대해 살펴보자. 거주 국가를 먼저 볼 수 있겠다."
   ]
  },
  {
   "cell_type": "code",
   "execution_count": 38,
   "id": "3f53f29b-5753-4f46-bbac-68597e38ded8",
   "metadata": {},
   "outputs": [
    {
     "data": {
      "text/plain": [
       "180"
      ]
     },
     "execution_count": 38,
     "metadata": {},
     "output_type": "execute_result"
    }
   ],
   "source": [
    "survey_df.Country.nunique()"
   ]
  },
  {
   "cell_type": "markdown",
   "id": "cd52f5ca-9bf4-4f98-baa7-15e652e951fa",
   "metadata": {},
   "source": [
    "연습문제 - 응답자 상위 15개 국가를 구해 보시오."
   ]
  },
  {
   "cell_type": "code",
   "execution_count": 39,
   "id": "362595ec-10f5-4ec4-9c90-ccecd10799a1",
   "metadata": {},
   "outputs": [
    {
     "data": {
      "text/plain": [
       "United States of America                                13321\n",
       "India                                                    6618\n",
       "Germany                                                  5342\n",
       "United Kingdom of Great Britain and Northern Ireland     4132\n",
       "Canada                                                   2459\n",
       "France                                                   2306\n",
       "Brazil                                                   2088\n",
       "Poland                                                   1719\n",
       "Netherlands                                              1539\n",
       "Spain                                                    1511\n",
       "Italy                                                    1504\n",
       "Australia                                                1449\n",
       "Russian Federation                                       1215\n",
       "Turkey                                                   1014\n",
       "Sweden                                                   1008\n",
       "Name: Country, dtype: int64"
      ]
     },
     "execution_count": 39,
     "metadata": {},
     "output_type": "execute_result"
    }
   ],
   "source": [
    "survey_df.Country.value_counts().head(15)"
   ]
  },
  {
   "cell_type": "code",
   "execution_count": 54,
   "id": "1b7d00ae-6500-40d4-be43-ed77af93b3ae",
   "metadata": {},
   "outputs": [
    {
     "data": {
      "image/png": "[encoded data removed]",
      "text/plain": [
       "<Figure size 640x480 with 1 Axes>"
      ]
     },
     "metadata": {},
     "output_type": "display_data"
    }
   ],
   "source": [
    "mpl.rcParams['font.family'] = 'Noto Sans KR'\n",
    "plt.bar(list(survey_df.Country.value_counts().head(15).index), list(survey_df.Country.value_counts().head(15)), color = np.random.rand(9, 3))\n",
    "plt.xticks(rotation=270)\n",
    "plt.title('응답자의 지역')\n",
    "plt.ylabel('응답 횟수')\n",
    "plt.show()"
   ]
  },
  {
   "cell_type": "markdown",
   "id": "db7f733e-6138-4eae-86d7-b4c660495a76",
   "metadata": {},
   "source": [
    "응답자의 대부분이 영어권 국가임을 볼 수 있다. 이번엔 연령 분포를 살펴보자."
   ]
  },
  {
   "cell_type": "code",
   "execution_count": 88,
   "id": "4c2e6504-6253-4a3e-bce3-e15ad16941a9",
   "metadata": {},
   "outputs": [],
   "source": [
    "l = list(survey_df.Age.value_counts().index.sort_values())\n",
    "k = "
   ]
  },
  {
   "cell_type": "code",
   "execution_count": 58,
   "id": "7c8c83bd-2217-4b0e-9e25-0f9855076b34",
   "metadata": {},
   "outputs": [
    {
     "data": {
      "text/plain": [
       "3011"
      ]
     },
     "execution_count": 58,
     "metadata": {},
     "output_type": "execute_result"
    }
   ],
   "source": [
    "count_nan(survey_df.Age)"
   ]
  },
  {
   "cell_type": "code",
   "execution_count": 93,
   "id": "ed327e74-c513-4d49-bf66-93a7e07dac77",
   "metadata": {},
   "outputs": [
    {
     "data": {
      "text/plain": [
       "Text(0, 0.5, '응답 횟수')"
      ]
     },
     "execution_count": 93,
     "metadata": {},
     "output_type": "execute_result"
    },
    {
     "data": {
      "image/png": "[encoded data removed]",
      "text/plain": [
       "<Figure size 640x480 with 1 Axes>"
      ]
     },
     "metadata": {},
     "output_type": "display_data"
    }
   ],
   "source": [
    "plt.bar(l, list(survey_df.Age.value_counts().sort_values()))\n",
    "plt.xticks(rotation=270)\n",
    "plt.title('What is your age?')\n",
    "plt.ylabel('응답 횟수')"
   ]
  },
  {
   "cell_type": "markdown",
   "id": "3f3422eb-b24a-43e1-bdc0-72d7a284e3ef",
   "metadata": {},
   "source": [
    "성별에 대한 응답 분포를 보면 남성이 압도적으로 많음을 알 수 있다."
   ]
  },
  {
   "cell_type": "code",
   "execution_count": 94,
   "id": "61118c28-6a42-4e58-9552-5a392b21ca85",
   "metadata": {},
   "outputs": [],
   "source": [
    "gender_counts=survey_df.Gender.value_counts(True)"
   ]
  },
  {
   "cell_type": "code",
   "execution_count": 95,
   "id": "edd09e44-1953-43a5-9f29-add7039d4ecb",
   "metadata": {},
   "outputs": [
    {
     "data": {
      "text/plain": [
       "Man                                                  0.920839\n",
       "Woman                                                0.048446\n",
       "Prefer not to say                                    0.016704\n",
       "Non-binary, genderqueer, or gender non-conforming    0.010034\n",
       "Or, in your own words:                               0.003977\n",
       "Name: Gender, dtype: float64"
      ]
     },
     "execution_count": 95,
     "metadata": {},
     "output_type": "execute_result"
    }
   ],
   "source": [
    "gender_counts"
   ]
  },
  {
   "cell_type": "code",
   "execution_count": 111,
   "id": "9e53cc21-ef6b-4099-99d5-151a535372da",
   "metadata": {},
   "outputs": [
    {
     "data": {
      "image/png": "[encoded data removed]",
      "text/plain": [
       "<Figure size 640x480 with 1 Axes>"
      ]
     },
     "metadata": {},
     "output_type": "display_data"
    }
   ],
   "source": [
    "plt.pie(gender_counts,labels=gender_counts.index, startangle=180, autopct='%1.1f%%', shadow=True, rotatelabels=True,\n",
    "       labeldistance=2, pctdistance=1.5)\n",
    "plt.title(f'{schema_raw.Gender}')\n",
    "plt.show()"
   ]
  },
  {
   "cell_type": "markdown",
   "id": "81e8b721-c1aa-442a-ade0-ca3befbee76a",
   "metadata": {},
   "source": [
    "이번엔 교육 수준을 살펴보자."
   ]
  },
  {
   "cell_type": "code",
   "execution_count": 112,
   "id": "d6741707-43ec-4c9d-abe1-e5fc3ac66ca7",
   "metadata": {},
   "outputs": [
    {
     "data": {
      "text/plain": [
       "'Which of the following best describes the highest level of formal education that you’ve completed? *'"
      ]
     },
     "execution_count": 112,
     "metadata": {},
     "output_type": "execute_result"
    }
   ],
   "source": [
    "schema_raw.EdLevel"
   ]
  },
  {
   "cell_type": "code",
   "execution_count": 113,
   "id": "0d419c31-e5d0-4730-abfa-e335c6027823",
   "metadata": {},
   "outputs": [
    {
     "data": {
      "text/plain": [
       "Bachelor’s degree (B.A., B.S., B.Eng., etc.)                                          30050\n",
       "Master’s degree (M.A., M.S., M.Eng., MBA, etc.)                                       15394\n",
       "Some college/university study without earning a degree                                 9194\n",
       "Secondary school (e.g. American high school, German Realschule or Gymnasium, etc.)     7769\n",
       "Associate degree (A.A., A.S., etc.)                                                    2221\n",
       "Other doctoral degree (Ph.D., Ed.D., etc.)                                             2152\n",
       "Primary/elementary school                                                              1767\n",
       "Something else                                                                         1222\n",
       "Professional degree (JD, MD, etc.)                                                     1110\n",
       "Name: EdLevel, dtype: int64"
      ]
     },
     "execution_count": 113,
     "metadata": {},
     "output_type": "execute_result"
    }
   ],
   "source": [
    "survey_df.EdLevel.value_counts()"
   ]
  },
  {
   "cell_type": "code",
   "execution_count": 118,
   "id": "c8a24cda-7219-4071-8aeb-2e4ec4dd7d80",
   "metadata": {},
   "outputs": [
    {
     "data": {
      "image/png": "[encoded data removed]",
      "text/plain": [
       "<Figure size 640x480 with 1 Axes>"
      ]
     },
     "metadata": {},
     "output_type": "display_data"
    }
   ],
   "source": [
    "sns.countplot(survey_df, y='EdLevel')\n",
    "plt.title(schema_raw.EdLevel)\n",
    "plt.ylabel(None)\n",
    "plt.show()"
   ]
  },
  {
   "cell_type": "code",
   "execution_count": null,
   "id": "7d158043-505c-41a8-9b72-1595045c9e8e",
   "metadata": {},
   "outputs": [],
   "source": [
    "sns.countplot(survey_df, y='EdLevel', order=list(survey_df.EdLevel.value_counts().index))\n",
    "plt.title(schema_raw.EdLevel)\n",
    "plt.ylabel(None)\n",
    "plt.show()"
   ]
  },
  {
   "cell_type": "markdown",
   "id": "5d932578-415c-464d-a8d8-ba9f8d8954da",
   "metadata": {},
   "source": [
    "응답자의 40파센트가 학사학위 소지자임을 알 수 있다. 또 22퍼센트가 석사 학위 소지자이며, 총 66퍼센트가 학사 이상 학력이다.\n",
    "이번엔 고용 형태를 보자."
   ]
  },
  {
   "cell_type": "code",
   "execution_count": 140,
   "id": "790520ae-c747-4520-9599-495aaca29100",
   "metadata": {},
   "outputs": [
    {
     "data": {
      "text/plain": [
       "'Which of the following best describes your current employment status?'"
      ]
     },
     "execution_count": 140,
     "metadata": {},
     "output_type": "execute_result"
    }
   ],
   "source": [
    "schema_raw.Employment"
   ]
  },
  {
   "cell_type": "code",
   "execution_count": 143,
   "id": "376897b8-597a-4a07-aba6-d51382aa6679",
   "metadata": {},
   "outputs": [
    {
     "ename": "TypeError",
     "evalue": "bar() missing 1 required positional argument: 'height'",
     "output_type": "error",
     "traceback": [
      "\u001b[0;31m---------------------------------------------------------------------------\u001b[0m",
      "\u001b[0;31mTypeError\u001b[0m                                 Traceback (most recent call last)",
      "Cell \u001b[0;32mIn[143], line 1\u001b[0m\n\u001b[0;32m----> 1\u001b[0m \u001b[43mplt\u001b[49m\u001b[38;5;241;43m.\u001b[39;49m\u001b[43mbar\u001b[49m\u001b[43m(\u001b[49m\u001b[43m(\u001b[49m\u001b[43msurvey_df\u001b[49m\u001b[38;5;241;43m.\u001b[39;49m\u001b[43mEmployment\u001b[49m\u001b[38;5;241;43m.\u001b[39;49m\u001b[43mvalue_counts\u001b[49m\u001b[43m(\u001b[49m\u001b[38;5;28;43;01mTrue\u001b[39;49;00m\u001b[43m,\u001b[49m\u001b[43m \u001b[49m\u001b[43mascending\u001b[49m\u001b[38;5;241;43m=\u001b[39;49m\u001b[38;5;28;43;01mFalse\u001b[39;49;00m\u001b[43m)\u001b[49m\u001b[38;5;241;43m*\u001b[39;49m\u001b[38;5;241;43m100\u001b[39;49m\u001b[43m)\u001b[49m\u001b[38;5;241;43m.\u001b[39;49m\u001b[43mhead\u001b[49m\u001b[43m(\u001b[49m\u001b[38;5;241;43m15\u001b[39;49m\u001b[43m)\u001b[49m\u001b[43m)\u001b[49m\n",
      "\u001b[0;31mTypeError\u001b[0m: bar() missing 1 required positional argument: 'height'"
     ]
    }
   ],
   "source": [
    "plt.bar((survey_df.Employment.value_counts(True, ascending=False)*100).head(15))"
   ]
  },
  {
   "cell_type": "markdown",
   "id": "6410b0c6-f649-45d9-b4ba-80bfc201a04b",
   "metadata": {},
   "source": [
    "응답자가 맡은 역할인 DevType도 살펴보자. 종류가 매우 다양해서 처리하기가 까다롭다."
   ]
  },
  {
   "cell_type": "code",
   "execution_count": 144,
   "id": "5b5cafdd-dd76-433a-a715-3f47e4f03688",
   "metadata": {},
   "outputs": [
    {
     "data": {
      "text/plain": [
       "Developer, full-stack                                                                                                                                                                                                                                                                                                                                                                                                                  7091\n",
       "Developer, back-end                                                                                                                                                                                                                                                                                                                                                                                                                    5274\n",
       "Developer, front-end                                                                                                                                                                                                                                                                                                                                                                                                                   2364\n",
       "Developer, front-end;Developer, full-stack;Developer, back-end                                                                                                                                                                                                                                                                                                                                                                         1793\n",
       "Developer, full-stack;Developer, back-end                                                                                                                                                                                                                                                                                                                                                                                              1522\n",
       "                                                                                                                                                                                                                                                                                                                                                                                                                                       ... \n",
       "Educator;Engineering manager;Developer, game or graphics                                                                                                                                                                                                                                                                                                                                                                                  1\n",
       "Data scientist or machine learning specialist;Developer, full-stack;Student;Project manager                                                                                                                                                                                                                                                                                                                                               1\n",
       "Data scientist or machine learning specialist;Engineer, data;Engineer, site reliability;Developer, full-stack;Developer, back-end;Database administrator                                                                                                                                                                                                                                                                                  1\n",
       "Developer, full-stack;Developer, back-end;Developer, desktop or enterprise applications;Engineering manager;Database administrator;DevOps specialist;Project manager;Data or business analyst;Senior Executive (C-Suite, VP, etc.)                                                                                                                                                                                                        1\n",
       "Developer, front-end;Engineer, data;Engineer, site reliability;Developer, full-stack;Developer, back-end;Developer, desktop or enterprise applications;Developer, QA or test;Student;Developer, mobile;Academic researcher;DevOps specialist;Developer, embedded applications or devices;Developer, game or graphics;Cloud infrastructure engineer;Data or business analyst;Designer;Scientist;Product manager;System administrator       1\n",
       "Name: DevType, Length: 9886, dtype: int64"
      ]
     },
     "execution_count": 144,
     "metadata": {},
     "output_type": "execute_result"
    }
   ],
   "source": [
    "survey_df.DevType.value_counts()"
   ]
  },
  {
   "cell_type": "markdown",
   "id": "d69d2205-cd4c-4283-aaab-50f3b393ad50",
   "metadata": {},
   "source": [
    "연습문제"
   ]
  },
  {
   "cell_type": "code",
   "execution_count": 150,
   "id": "ad86ee25-337b-492e-bdbf-ef9ae5cb69e0",
   "metadata": {},
   "outputs": [],
   "source": [
    "df = pd.DataFrame(survey_df.DevType)"
   ]
  },
  {
   "cell_type": "code",
   "execution_count": 199,
   "id": "f6e5e817-595c-45fd-a085-802cc001fdf8",
   "metadata": {},
   "outputs": [
    {
     "data": {
      "text/html": [
       "<div>\n",
       "<style scoped>\n",
       "    .dataframe tbody tr th:only-of-type {\n",
       "        vertical-align: middle;\n",
       "    }\n",
       "\n",
       "    .dataframe tbody tr th {\n",
       "        vertical-align: top;\n",
       "    }\n",
       "\n",
       "    .dataframe thead th {\n",
       "        text-align: right;\n",
       "    }\n",
       "</style>\n",
       "<table border=\"1\" class=\"dataframe\">\n",
       "  <thead>\n",
       "    <tr style=\"text-align: right;\">\n",
       "      <th></th>\n",
       "      <th>DevType</th>\n",
       "      <th>Data scientist or machine learning specialist</th>\n",
       "      <th>Developer, front-end</th>\n",
       "      <th>Engineer, data</th>\n",
       "      <th>Engineer, site reliability</th>\n",
       "      <th>Developer, full-stack</th>\n",
       "      <th>Developer, back-end</th>\n",
       "      <th>Developer, desktop or enterprise applications</th>\n",
       "      <th>Developer, QA or test</th>\n",
       "      <th>Student</th>\n",
       "      <th>Developer, mobile</th>\n",
       "      <th>Educator</th>\n",
       "      <th>Engineering manager</th>\n",
       "      <th>Database administrator</th>\n",
       "      <th>Academic researcher</th>\n",
       "      <th>DevOps specialist</th>\n",
       "      <th>Other (please specify):</th>\n",
       "      <th>Developer, embedded applications or devices</th>\n",
       "      <th>Developer, game or graphics</th>\n",
       "      <th>Project manager</th>\n",
       "      <th>Cloud infrastructure engineer</th>\n",
       "      <th>Data or business analyst</th>\n",
       "      <th>Designer</th>\n",
       "      <th>Scientist</th>\n",
       "      <th>Product manager</th>\n",
       "      <th>Senior Executive (C-Suite, VP, etc.)</th>\n",
       "      <th>System administrator</th>\n",
       "      <th>Blockchain</th>\n",
       "      <th>Marketing or sales professional</th>\n",
       "      <th>Security professional</th>\n",
       "    </tr>\n",
       "    <tr>\n",
       "      <th>ResponseId</th>\n",
       "      <th></th>\n",
       "      <th></th>\n",
       "      <th></th>\n",
       "      <th></th>\n",
       "      <th></th>\n",
       "      <th></th>\n",
       "      <th></th>\n",
       "      <th></th>\n",
       "      <th></th>\n",
       "      <th></th>\n",
       "      <th></th>\n",
       "      <th></th>\n",
       "      <th></th>\n",
       "      <th></th>\n",
       "      <th></th>\n",
       "      <th></th>\n",
       "      <th></th>\n",
       "      <th></th>\n",
       "      <th></th>\n",
       "      <th></th>\n",
       "      <th></th>\n",
       "      <th></th>\n",
       "      <th></th>\n",
       "      <th></th>\n",
       "      <th></th>\n",
       "      <th></th>\n",
       "      <th></th>\n",
       "      <th></th>\n",
       "      <th></th>\n",
       "      <th></th>\n",
       "    </tr>\n",
       "  </thead>\n",
       "  <tbody>\n",
       "    <tr>\n",
       "      <th>3</th>\n",
       "      <td>Data scientist or machine learning specialist;...</td>\n",
       "      <td>True</td>\n",
       "      <td>True</td>\n",
       "      <td>True</td>\n",
       "      <td>True</td>\n",
       "      <td>False</td>\n",
       "      <td>False</td>\n",
       "      <td>False</td>\n",
       "      <td>False</td>\n",
       "      <td>False</td>\n",
       "      <td>False</td>\n",
       "      <td>False</td>\n",
       "      <td>False</td>\n",
       "      <td>False</td>\n",
       "      <td>False</td>\n",
       "      <td>False</td>\n",
       "      <td>False</td>\n",
       "      <td>False</td>\n",
       "      <td>False</td>\n",
       "      <td>False</td>\n",
       "      <td>False</td>\n",
       "      <td>False</td>\n",
       "      <td>False</td>\n",
       "      <td>False</td>\n",
       "      <td>False</td>\n",
       "      <td>False</td>\n",
       "      <td>False</td>\n",
       "      <td>False</td>\n",
       "      <td>False</td>\n",
       "      <td>False</td>\n",
       "    </tr>\n",
       "    <tr>\n",
       "      <th>4</th>\n",
       "      <td>Developer, full-stack</td>\n",
       "      <td>False</td>\n",
       "      <td>False</td>\n",
       "      <td>False</td>\n",
       "      <td>False</td>\n",
       "      <td>True</td>\n",
       "      <td>False</td>\n",
       "      <td>False</td>\n",
       "      <td>False</td>\n",
       "      <td>False</td>\n",
       "      <td>False</td>\n",
       "      <td>False</td>\n",
       "      <td>False</td>\n",
       "      <td>False</td>\n",
       "      <td>False</td>\n",
       "      <td>False</td>\n",
       "      <td>False</td>\n",
       "      <td>False</td>\n",
       "      <td>False</td>\n",
       "      <td>False</td>\n",
       "      <td>False</td>\n",
       "      <td>False</td>\n",
       "      <td>False</td>\n",
       "      <td>False</td>\n",
       "      <td>False</td>\n",
       "      <td>False</td>\n",
       "      <td>False</td>\n",
       "      <td>False</td>\n",
       "      <td>False</td>\n",
       "      <td>False</td>\n",
       "    </tr>\n",
       "    <tr>\n",
       "      <th>5</th>\n",
       "      <td>Developer, front-end;Developer, full-stack;Dev...</td>\n",
       "      <td>False</td>\n",
       "      <td>True</td>\n",
       "      <td>False</td>\n",
       "      <td>False</td>\n",
       "      <td>True</td>\n",
       "      <td>True</td>\n",
       "      <td>True</td>\n",
       "      <td>True</td>\n",
       "      <td>False</td>\n",
       "      <td>False</td>\n",
       "      <td>False</td>\n",
       "      <td>False</td>\n",
       "      <td>False</td>\n",
       "      <td>False</td>\n",
       "      <td>False</td>\n",
       "      <td>False</td>\n",
       "      <td>False</td>\n",
       "      <td>False</td>\n",
       "      <td>False</td>\n",
       "      <td>False</td>\n",
       "      <td>False</td>\n",
       "      <td>False</td>\n",
       "      <td>False</td>\n",
       "      <td>False</td>\n",
       "      <td>False</td>\n",
       "      <td>False</td>\n",
       "      <td>False</td>\n",
       "      <td>False</td>\n",
       "      <td>False</td>\n",
       "    </tr>\n",
       "    <tr>\n",
       "      <th>8</th>\n",
       "      <td>Developer, full-stack;Student</td>\n",
       "      <td>False</td>\n",
       "      <td>False</td>\n",
       "      <td>False</td>\n",
       "      <td>False</td>\n",
       "      <td>True</td>\n",
       "      <td>False</td>\n",
       "      <td>False</td>\n",
       "      <td>False</td>\n",
       "      <td>True</td>\n",
       "      <td>False</td>\n",
       "      <td>False</td>\n",
       "      <td>False</td>\n",
       "      <td>False</td>\n",
       "      <td>False</td>\n",
       "      <td>False</td>\n",
       "      <td>False</td>\n",
       "      <td>False</td>\n",
       "      <td>False</td>\n",
       "      <td>False</td>\n",
       "      <td>False</td>\n",
       "      <td>False</td>\n",
       "      <td>False</td>\n",
       "      <td>False</td>\n",
       "      <td>False</td>\n",
       "      <td>False</td>\n",
       "      <td>False</td>\n",
       "      <td>False</td>\n",
       "      <td>False</td>\n",
       "      <td>False</td>\n",
       "    </tr>\n",
       "    <tr>\n",
       "      <th>9</th>\n",
       "      <td>Developer, back-end</td>\n",
       "      <td>False</td>\n",
       "      <td>False</td>\n",
       "      <td>False</td>\n",
       "      <td>False</td>\n",
       "      <td>False</td>\n",
       "      <td>True</td>\n",
       "      <td>False</td>\n",
       "      <td>False</td>\n",
       "      <td>False</td>\n",
       "      <td>False</td>\n",
       "      <td>False</td>\n",
       "      <td>False</td>\n",
       "      <td>False</td>\n",
       "      <td>False</td>\n",
       "      <td>False</td>\n",
       "      <td>False</td>\n",
       "      <td>False</td>\n",
       "      <td>False</td>\n",
       "      <td>False</td>\n",
       "      <td>False</td>\n",
       "      <td>False</td>\n",
       "      <td>False</td>\n",
       "      <td>False</td>\n",
       "      <td>False</td>\n",
       "      <td>False</td>\n",
       "      <td>False</td>\n",
       "      <td>False</td>\n",
       "      <td>False</td>\n",
       "      <td>False</td>\n",
       "    </tr>\n",
       "    <tr>\n",
       "      <th>...</th>\n",
       "      <td>...</td>\n",
       "      <td>...</td>\n",
       "      <td>...</td>\n",
       "      <td>...</td>\n",
       "      <td>...</td>\n",
       "      <td>...</td>\n",
       "      <td>...</td>\n",
       "      <td>...</td>\n",
       "      <td>...</td>\n",
       "      <td>...</td>\n",
       "      <td>...</td>\n",
       "      <td>...</td>\n",
       "      <td>...</td>\n",
       "      <td>...</td>\n",
       "      <td>...</td>\n",
       "      <td>...</td>\n",
       "      <td>...</td>\n",
       "      <td>...</td>\n",
       "      <td>...</td>\n",
       "      <td>...</td>\n",
       "      <td>...</td>\n",
       "      <td>...</td>\n",
       "      <td>...</td>\n",
       "      <td>...</td>\n",
       "      <td>...</td>\n",
       "      <td>...</td>\n",
       "      <td>...</td>\n",
       "      <td>...</td>\n",
       "      <td>...</td>\n",
       "      <td>...</td>\n",
       "    </tr>\n",
       "    <tr>\n",
       "      <th>73264</th>\n",
       "      <td>Developer, back-end</td>\n",
       "      <td>False</td>\n",
       "      <td>False</td>\n",
       "      <td>False</td>\n",
       "      <td>False</td>\n",
       "      <td>False</td>\n",
       "      <td>True</td>\n",
       "      <td>False</td>\n",
       "      <td>False</td>\n",
       "      <td>False</td>\n",
       "      <td>False</td>\n",
       "      <td>False</td>\n",
       "      <td>False</td>\n",
       "      <td>False</td>\n",
       "      <td>False</td>\n",
       "      <td>False</td>\n",
       "      <td>False</td>\n",
       "      <td>False</td>\n",
       "      <td>False</td>\n",
       "      <td>False</td>\n",
       "      <td>False</td>\n",
       "      <td>False</td>\n",
       "      <td>False</td>\n",
       "      <td>False</td>\n",
       "      <td>False</td>\n",
       "      <td>False</td>\n",
       "      <td>False</td>\n",
       "      <td>False</td>\n",
       "      <td>False</td>\n",
       "      <td>False</td>\n",
       "    </tr>\n",
       "    <tr>\n",
       "      <th>73265</th>\n",
       "      <td>Data scientist or machine learning specialist</td>\n",
       "      <td>True</td>\n",
       "      <td>False</td>\n",
       "      <td>False</td>\n",
       "      <td>False</td>\n",
       "      <td>False</td>\n",
       "      <td>False</td>\n",
       "      <td>False</td>\n",
       "      <td>False</td>\n",
       "      <td>False</td>\n",
       "      <td>False</td>\n",
       "      <td>False</td>\n",
       "      <td>False</td>\n",
       "      <td>False</td>\n",
       "      <td>False</td>\n",
       "      <td>False</td>\n",
       "      <td>False</td>\n",
       "      <td>False</td>\n",
       "      <td>False</td>\n",
       "      <td>False</td>\n",
       "      <td>False</td>\n",
       "      <td>False</td>\n",
       "      <td>False</td>\n",
       "      <td>False</td>\n",
       "      <td>False</td>\n",
       "      <td>False</td>\n",
       "      <td>False</td>\n",
       "      <td>False</td>\n",
       "      <td>False</td>\n",
       "      <td>False</td>\n",
       "    </tr>\n",
       "    <tr>\n",
       "      <th>73266</th>\n",
       "      <td>Developer, full-stack;Developer, desktop or en...</td>\n",
       "      <td>False</td>\n",
       "      <td>False</td>\n",
       "      <td>False</td>\n",
       "      <td>False</td>\n",
       "      <td>True</td>\n",
       "      <td>False</td>\n",
       "      <td>True</td>\n",
       "      <td>False</td>\n",
       "      <td>False</td>\n",
       "      <td>False</td>\n",
       "      <td>False</td>\n",
       "      <td>False</td>\n",
       "      <td>False</td>\n",
       "      <td>False</td>\n",
       "      <td>False</td>\n",
       "      <td>False</td>\n",
       "      <td>False</td>\n",
       "      <td>False</td>\n",
       "      <td>False</td>\n",
       "      <td>False</td>\n",
       "      <td>False</td>\n",
       "      <td>False</td>\n",
       "      <td>False</td>\n",
       "      <td>False</td>\n",
       "      <td>False</td>\n",
       "      <td>True</td>\n",
       "      <td>False</td>\n",
       "      <td>False</td>\n",
       "      <td>False</td>\n",
       "    </tr>\n",
       "    <tr>\n",
       "      <th>73267</th>\n",
       "      <td>Developer, front-end;Developer, desktop or ent...</td>\n",
       "      <td>False</td>\n",
       "      <td>True</td>\n",
       "      <td>False</td>\n",
       "      <td>False</td>\n",
       "      <td>False</td>\n",
       "      <td>False</td>\n",
       "      <td>True</td>\n",
       "      <td>False</td>\n",
       "      <td>False</td>\n",
       "      <td>False</td>\n",
       "      <td>False</td>\n",
       "      <td>False</td>\n",
       "      <td>False</td>\n",
       "      <td>False</td>\n",
       "      <td>False</td>\n",
       "      <td>False</td>\n",
       "      <td>False</td>\n",
       "      <td>False</td>\n",
       "      <td>False</td>\n",
       "      <td>False</td>\n",
       "      <td>False</td>\n",
       "      <td>False</td>\n",
       "      <td>False</td>\n",
       "      <td>False</td>\n",
       "      <td>False</td>\n",
       "      <td>False</td>\n",
       "      <td>False</td>\n",
       "      <td>False</td>\n",
       "      <td>False</td>\n",
       "    </tr>\n",
       "    <tr>\n",
       "      <th>73268</th>\n",
       "      <td>Developer, front-end;Engineer, data;Engineer, ...</td>\n",
       "      <td>False</td>\n",
       "      <td>True</td>\n",
       "      <td>True</td>\n",
       "      <td>True</td>\n",
       "      <td>True</td>\n",
       "      <td>True</td>\n",
       "      <td>True</td>\n",
       "      <td>True</td>\n",
       "      <td>True</td>\n",
       "      <td>True</td>\n",
       "      <td>False</td>\n",
       "      <td>False</td>\n",
       "      <td>False</td>\n",
       "      <td>True</td>\n",
       "      <td>True</td>\n",
       "      <td>False</td>\n",
       "      <td>True</td>\n",
       "      <td>True</td>\n",
       "      <td>False</td>\n",
       "      <td>True</td>\n",
       "      <td>True</td>\n",
       "      <td>True</td>\n",
       "      <td>True</td>\n",
       "      <td>True</td>\n",
       "      <td>False</td>\n",
       "      <td>True</td>\n",
       "      <td>False</td>\n",
       "      <td>False</td>\n",
       "      <td>False</td>\n",
       "    </tr>\n",
       "  </tbody>\n",
       "</table>\n",
       "<p>60761 rows × 30 columns</p>\n",
       "</div>"
      ],
      "text/plain": [
       "                                                      DevType  \\\n",
       "ResponseId                                                      \n",
       "3           Data scientist or machine learning specialist;...   \n",
       "4                                       Developer, full-stack   \n",
       "5           Developer, front-end;Developer, full-stack;Dev...   \n",
       "8                               Developer, full-stack;Student   \n",
       "9                                         Developer, back-end   \n",
       "...                                                       ...   \n",
       "73264                                     Developer, back-end   \n",
       "73265           Data scientist or machine learning specialist   \n",
       "73266       Developer, full-stack;Developer, desktop or en...   \n",
       "73267       Developer, front-end;Developer, desktop or ent...   \n",
       "73268       Developer, front-end;Engineer, data;Engineer, ...   \n",
       "\n",
       "            Data scientist or machine learning specialist  \\\n",
       "ResponseId                                                  \n",
       "3                                                    True   \n",
       "4                                                   False   \n",
       "5                                                   False   \n",
       "8                                                   False   \n",
       "9                                                   False   \n",
       "...                                                   ...   \n",
       "73264                                               False   \n",
       "73265                                                True   \n",
       "73266                                               False   \n",
       "73267                                               False   \n",
       "73268                                               False   \n",
       "\n",
       "            Developer, front-end  Engineer, data  Engineer, site reliability  \\\n",
       "ResponseId                                                                     \n",
       "3                           True            True                        True   \n",
       "4                          False           False                       False   \n",
       "5                           True           False                       False   \n",
       "8                          False           False                       False   \n",
       "9                          False           False                       False   \n",
       "...                          ...             ...                         ...   \n",
       "73264                      False           False                       False   \n",
       "73265                      False           False                       False   \n",
       "73266                      False           False                       False   \n",
       "73267                       True           False                       False   \n",
       "73268                       True            True                        True   \n",
       "\n",
       "            Developer, full-stack  Developer, back-end  \\\n",
       "ResponseId                                               \n",
       "3                           False                False   \n",
       "4                            True                False   \n",
       "5                            True                 True   \n",
       "8                            True                False   \n",
       "9                           False                 True   \n",
       "...                           ...                  ...   \n",
       "73264                       False                 True   \n",
       "73265                       False                False   \n",
       "73266                        True                False   \n",
       "73267                       False                False   \n",
       "73268                        True                 True   \n",
       "\n",
       "            Developer, desktop or enterprise applications  \\\n",
       "ResponseId                                                  \n",
       "3                                                   False   \n",
       "4                                                   False   \n",
       "5                                                    True   \n",
       "8                                                   False   \n",
       "9                                                   False   \n",
       "...                                                   ...   \n",
       "73264                                               False   \n",
       "73265                                               False   \n",
       "73266                                                True   \n",
       "73267                                                True   \n",
       "73268                                                True   \n",
       "\n",
       "            Developer, QA or test  Student  Developer, mobile  Educator  \\\n",
       "ResponseId                                                                \n",
       "3                           False    False              False     False   \n",
       "4                           False    False              False     False   \n",
       "5                            True    False              False     False   \n",
       "8                           False     True              False     False   \n",
       "9                           False    False              False     False   \n",
       "...                           ...      ...                ...       ...   \n",
       "73264                       False    False              False     False   \n",
       "73265                       False    False              False     False   \n",
       "73266                       False    False              False     False   \n",
       "73267                       False    False              False     False   \n",
       "73268                        True     True               True     False   \n",
       "\n",
       "            Engineering manager  Database administrator  Academic researcher  \\\n",
       "ResponseId                                                                     \n",
       "3                         False                   False                False   \n",
       "4                         False                   False                False   \n",
       "5                         False                   False                False   \n",
       "8                         False                   False                False   \n",
       "9                         False                   False                False   \n",
       "...                         ...                     ...                  ...   \n",
       "73264                     False                   False                False   \n",
       "73265                     False                   False                False   \n",
       "73266                     False                   False                False   \n",
       "73267                     False                   False                False   \n",
       "73268                     False                   False                 True   \n",
       "\n",
       "            DevOps specialist  Other (please specify):  \\\n",
       "ResponseId                                               \n",
       "3                       False                    False   \n",
       "4                       False                    False   \n",
       "5                       False                    False   \n",
       "8                       False                    False   \n",
       "9                       False                    False   \n",
       "...                       ...                      ...   \n",
       "73264                   False                    False   \n",
       "73265                   False                    False   \n",
       "73266                   False                    False   \n",
       "73267                   False                    False   \n",
       "73268                    True                    False   \n",
       "\n",
       "            Developer, embedded applications or devices  \\\n",
       "ResponseId                                                \n",
       "3                                                 False   \n",
       "4                                                 False   \n",
       "5                                                 False   \n",
       "8                                                 False   \n",
       "9                                                 False   \n",
       "...                                                 ...   \n",
       "73264                                             False   \n",
       "73265                                             False   \n",
       "73266                                             False   \n",
       "73267                                             False   \n",
       "73268                                              True   \n",
       "\n",
       "            Developer, game or graphics  Project manager  \\\n",
       "ResponseId                                                 \n",
       "3                                 False            False   \n",
       "4                                 False            False   \n",
       "5                                 False            False   \n",
       "8                                 False            False   \n",
       "9                                 False            False   \n",
       "...                                 ...              ...   \n",
       "73264                             False            False   \n",
       "73265                             False            False   \n",
       "73266                             False            False   \n",
       "73267                             False            False   \n",
       "73268                              True            False   \n",
       "\n",
       "            Cloud infrastructure engineer  Data or business analyst  Designer  \\\n",
       "ResponseId                                                                      \n",
       "3                                   False                     False     False   \n",
       "4                                   False                     False     False   \n",
       "5                                   False                     False     False   \n",
       "8                                   False                     False     False   \n",
       "9                                   False                     False     False   \n",
       "...                                   ...                       ...       ...   \n",
       "73264                               False                     False     False   \n",
       "73265                               False                     False     False   \n",
       "73266                               False                     False     False   \n",
       "73267                               False                     False     False   \n",
       "73268                                True                      True      True   \n",
       "\n",
       "            Scientist  Product manager  Senior Executive (C-Suite, VP, etc.)  \\\n",
       "ResponseId                                                                     \n",
       "3               False            False                                 False   \n",
       "4               False            False                                 False   \n",
       "5               False            False                                 False   \n",
       "8               False            False                                 False   \n",
       "9               False            False                                 False   \n",
       "...               ...              ...                                   ...   \n",
       "73264           False            False                                 False   \n",
       "73265           False            False                                 False   \n",
       "73266           False            False                                 False   \n",
       "73267           False            False                                 False   \n",
       "73268            True             True                                 False   \n",
       "\n",
       "            System administrator  Blockchain  Marketing or sales professional  \\\n",
       "ResponseId                                                                      \n",
       "3                          False       False                            False   \n",
       "4                          False       False                            False   \n",
       "5                          False       False                            False   \n",
       "8                          False       False                            False   \n",
       "9                          False       False                            False   \n",
       "...                          ...         ...                              ...   \n",
       "73264                      False       False                            False   \n",
       "73265                      False       False                            False   \n",
       "73266                       True       False                            False   \n",
       "73267                      False       False                            False   \n",
       "73268                       True       False                            False   \n",
       "\n",
       "            Security professional  \n",
       "ResponseId                         \n",
       "3                           False  \n",
       "4                           False  \n",
       "5                           False  \n",
       "8                           False  \n",
       "9                           False  \n",
       "...                           ...  \n",
       "73264                       False  \n",
       "73265                       False  \n",
       "73266                       False  \n",
       "73267                       False  \n",
       "73268                       False  \n",
       "\n",
       "[60761 rows x 30 columns]"
      ]
     },
     "execution_count": 199,
     "metadata": {},
     "output_type": "execute_result"
    }
   ],
   "source": [
    "def split_multicolumn(s):\n",
    "    s.dropna(inplace=True)\n",
    "    df = pd.DataFrame(s)\n",
    "    for x in s.str.split(';').items():\n",
    "        df.loc[x[0],x[1]]=True\n",
    "    df.fillna(False,inplace=True)\n",
    "    return df\n",
    "    \n",
    "split_multicolumn(survey_df.DevType)"
   ]
  },
  {
   "cell_type": "code",
   "execution_count": null,
   "id": "49840623-7d52-40c3-93fb-0fde4aa2586a",
   "metadata": {},
   "outputs": [],
   "source": []
  }
 ],
 "metadata": {
  "kernelspec": {
   "display_name": "Python 3 (ipykernel)",
   "language": "python",
   "name": "python3"
  },
  "language_info": {
   "codemirror_mode": {
    "name": "ipython",
    "version": 3
   },
   "file_extension": ".py",
   "mimetype": "text/x-python",
   "name": "python",
   "nbconvert_exporter": "python",
   "pygments_lexer": "ipython3",
   "version": "3.9.16"
  }
 },
 "nbformat": 4,
 "nbformat_minor": 5
}
