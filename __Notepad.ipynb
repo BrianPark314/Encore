{
 "cells": [
  {
   "cell_type": "code",
   "execution_count": 5,
   "id": "17c1307a-0173-489b-9d0e-4981d29002b9",
   "metadata": {},
   "outputs": [
    {
     "name": "stdout",
     "output_type": "stream",
     "text": [
      "(18, 1)\n"
     ]
    }
   ],
   "source": [
    "def sangun(n, i):\n",
    "    if n>5:\n",
    "        i += 1\n",
    "        sangun(n-5, i)\n",
    "    elif n!=3:\n",
    "        return -i\n",
    "    else:\n",
    "        i += 1\n",
    "    return n, i\n",
    "\n",
    "print(sangun(18,0))"
   ]
  },
  {
   "cell_type": "code",
   "execution_count": null,
   "id": "bef93276-9f47-49f5-b34e-089f41cf98c9",
   "metadata": {},
   "outputs": [],
   "source": []
  }
 ],
 "metadata": {
  "kernelspec": {
   "display_name": "Python 3 (ipykernel)",
   "language": "python",
   "name": "python3"
  },
  "language_info": {
   "codemirror_mode": {
    "name": "ipython",
    "version": 3
   },
   "file_extension": ".py",
   "mimetype": "text/x-python",
   "name": "python",
   "nbconvert_exporter": "python",
   "pygments_lexer": "ipython3",
   "version": "3.9.16"
  }
 },
 "nbformat": 4,
 "nbformat_minor": 5
}
