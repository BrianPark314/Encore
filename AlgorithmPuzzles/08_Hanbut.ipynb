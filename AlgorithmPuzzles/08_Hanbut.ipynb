{
 "cells": [
  {
   "cell_type": "code",
   "execution_count": 1,
   "id": "295d1a43-889e-497e-aca0-471f17ab2482",
   "metadata": {},
   "outputs": [
    {
     "name": "stdout",
     "output_type": "stream",
     "text": [
      "19\n"
     ]
    }
   ],
   "source": [
    "#가로로 10개, 세로로 10개인 셀이 있을 때, 셀을 병합해서 만들 수 있는 형태 중에서 한붓그리기를 할 수 있는 형태는 모두 몇 가지인지 구하시오.\n",
    "\n",
    "#한붓그리기는 모든 정점의 차수가 짝수거나 홀수차수 정점이 단 2개인 경우만 가능하다.\n",
    "#즉 셀이 3개 이상이면 홀수개 정점이 무조건 2개를 초과하므로 직선 하나로 셀을 나누는 경우만 세면 된다.\n",
    "\n",
    "N = 10\n",
    "\n",
    "print(N+N-1)"
   ]
  },
  {
   "cell_type": "code",
   "execution_count": null,
   "id": "693a4705-f65e-438f-ab0c-0ba883d2c7af",
   "metadata": {},
   "outputs": [],
   "source": []
  }
 ],
 "metadata": {
  "kernelspec": {
   "display_name": "Python 3 (ipykernel)",
   "language": "python",
   "name": "python3"
  },
  "language_info": {
   "codemirror_mode": {
    "name": "ipython",
    "version": 3
   },
   "file_extension": ".py",
   "mimetype": "text/x-python",
   "name": "python",
   "nbconvert_exporter": "python",
   "pygments_lexer": "ipython3",
   "version": "3.9.16"
  }
 },
 "nbformat": 4,
 "nbformat_minor": 5
}
