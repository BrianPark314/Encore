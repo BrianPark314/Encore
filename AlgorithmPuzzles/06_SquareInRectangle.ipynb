{
 "cells": [
  {
   "cell_type": "code",
   "execution_count": 2,
   "id": "0b82ca22-d57d-433d-afd8-52dbc556f812",
   "metadata": {},
   "outputs": [
    {
     "name": "stdout",
     "output_type": "stream",
     "text": [
      "26882\n"
     ]
    }
   ],
   "source": [
    "#긴 변의 길이가 1000 이하에서 만들어질 수 있는 정사각형 개수가 딱 20개인 직사각형의 가로세로 길이 쌍이 몇 쌍인지 구하시오.\n",
    "#이때 직사각형의 가로세로 길이를 바꾼 경우는 하나로 취급합니다.\n",
    "\n",
    "#긴 변과 짧은 변으로 생각하면, 자르는 과정을 재귀적으로 구현할 수 있다. 즉, 긴 변을 짧은 변으로 나눈 나머지를 계속해서 구하면 된다.\n",
    "\n",
    "W, N = 1000, 20\n",
    "\n",
    "def cut(w, h):\n",
    "    if w == h:\n",
    "        return 1\n",
    "    if w > h:\n",
    "        w, h = h, w\n",
    "    q, r = divmod(h, w)\n",
    "    result = q\n",
    "    if r > 0:\n",
    "        result += cut(w, r)\n",
    "    return result\n",
    "\n",
    "cnt = 0\n",
    "for i in range(1, W+1): #짧은 변\n",
    "    for j in range(i, W+1): #긴 변\n",
    "        if cut(i, j) == N:\n",
    "            cnt += 1\n",
    "print(cnt)"
   ]
  },
  {
   "cell_type": "code",
   "execution_count": null,
   "id": "cc833c07-ca5d-40b0-bb10-637a19ffa65e",
   "metadata": {},
   "outputs": [],
   "source": []
  }
 ],
 "metadata": {
  "kernelspec": {
   "display_name": "Python 3 (ipykernel)",
   "language": "python",
   "name": "python3"
  },
  "language_info": {
   "codemirror_mode": {
    "name": "ipython",
    "version": 3
   },
   "file_extension": ".py",
   "mimetype": "text/x-python",
   "name": "python",
   "nbconvert_exporter": "python",
   "pygments_lexer": "ipython3",
   "version": "3.9.16"
  }
 },
 "nbformat": 4,
 "nbformat_minor": 5
}
