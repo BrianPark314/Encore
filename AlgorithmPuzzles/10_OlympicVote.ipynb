{
 "cells": [
  {
   "cell_type": "code",
   "execution_count": 1,
   "id": "56a47de8-37bc-420d-ba2f-3a3afb2b1d72",
   "metadata": {},
   "outputs": [
    {
     "name": "stdout",
     "output_type": "stream",
     "text": [
      "14598890236\n"
     ]
    }
   ],
   "source": [
    "#'반복 최하위 제거 규칙'을 통해 올림픽 개최지를 정하고자 한다. 1등 지역이 과반수를 넘어 이겼다면 곧바로 개최지로 선정한다.\n",
    "#과반수를 넘지 못했을 경우 꼴찌를 제외하고 다시 투표한다.\n",
    "#만약 꼴지가 여럿 있다면, 반대로 꼴찌들을 가지고 다시 투표해서 꼴찌가 한 곳으로 결정되어 탈락시킬 때까지 반복한다. \n",
    "\n",
    "N = 7\n",
    "\n",
    "def vote(n):\n",
    "    if n <= 2:\n",
    "        return 1\n",
    "    v1 = vote(n-1)\n",
    "    v2 = 0\n",
    "    for i in range(2, n):\n",
    "        v2 += vote(i)\n",
    "    return 1 + v1 + v2 * v1\n",
    "\n",
    "print(vote(N))"
   ]
  },
  {
   "cell_type": "code",
   "execution_count": null,
   "id": "8543c4f9-2d87-47e4-b96b-aea06709c364",
   "metadata": {},
   "outputs": [],
   "source": []
  }
 ],
 "metadata": {
  "kernelspec": {
   "display_name": "Python 3 (ipykernel)",
   "language": "python",
   "name": "python3"
  },
  "language_info": {
   "codemirror_mode": {
    "name": "ipython",
    "version": 3
   },
   "file_extension": ".py",
   "mimetype": "text/x-python",
   "name": "python",
   "nbconvert_exporter": "python",
   "pygments_lexer": "ipython3",
   "version": "3.9.16"
  }
 },
 "nbformat": 4,
 "nbformat_minor": 5
}
