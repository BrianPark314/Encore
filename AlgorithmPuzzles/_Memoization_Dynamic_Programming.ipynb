{
 "cells": [
  {
   "cell_type": "code",
   "execution_count": 4,
   "id": "21a17ad2-bac3-4c47-a2b6-3ee1ef79a5e7",
   "metadata": {},
   "outputs": [
    {
     "name": "stdout",
     "output_type": "stream",
     "text": [
      "437420\n"
     ]
    }
   ],
   "source": [
    "#패밀리 레스토랑에서 여러 테이블에 사람을 나누어 앉히려고 한다. 이때 한 사람만 앉는 테이블이 없도록 해야 한다.\n",
    "#한 개의 테이블에 앉을 수 있는 사람 수는 최대 10명일 때, 100명이 하나 이상의 테이블에 나누어 앉는 경우의 수를 구하여라.\n",
    "\n",
    "M = 10 #테이블에 앉을 수 있는 사람 수\n",
    "N = 100 # 사람의 수\n",
    "\n",
    "#남은 사람 수와 이전 테이블에 배치한 사람 수만 알면, 재귀적으로 검색할 수 있다.\n",
    "\n",
    "def check(remain, pre):\n",
    "    #배치할 사람이 더 없으면 종료\n",
    "    if remain < 0:\n",
    "        return 0\n",
    "    elif remain == 0:\n",
    "        return 1\n",
    "    #재귀적 처리\n",
    "    cnt = 0\n",
    "    for i in range(pre, M+1): #테이블에 배치할 사람 수만큼 반복\n",
    "        cnt += check(remain - i, i) #재귀 호출, i명만큼 앉혔으므로 남은 숫자는 remain-i명, 그리고 앉히는 최소 숫자는 i명\n",
    "    return cnt\n",
    "\n",
    "print(check(N,2))\n",
    "\n",
    "#Memoization이 없으면 시간복잡도가 O(N*N)이 되어 비효율적이다. "
   ]
  },
  {
   "cell_type": "code",
   "execution_count": 7,
   "id": "0d6980ef-520b-40de-81a9-8686004739e9",
   "metadata": {},
   "outputs": [
    {
     "name": "stdout",
     "output_type": "stream",
     "text": [
      "437420\n"
     ]
    }
   ],
   "source": [
    "#겹치는 경우의 수가 굉장히 많으므로, 한 번 계산한 결과를 메모해 두면 된다.\n",
    "M = 10\n",
    "N = 100\n",
    "\n",
    "memo = {}\n",
    "def check(remain, pre):\n",
    "    #이전에 계산한 적이 있다면 메모한 값 반환\n",
    "    key = str([remain, pre])\n",
    "    if key in memo:\n",
    "        return memo[key]\n",
    "    #배치할 사람이 더 없으면 종료\n",
    "    if remain < 0:\n",
    "        return 0\n",
    "    elif remain == 0:\n",
    "        return 1\n",
    "    #재귀적 처리\n",
    "    cnt = 0\n",
    "    for i in range(pre, M+1): #테이블에 배치할 사람 수만큼 반복\n",
    "        cnt += check(remain - i, i) #재귀 호출, i명만큼 앉혔으므로 남은 숫자는 remain-i명, 그리고 앉히는 최소 숫자는 i명\n",
    "    memo[key] = cnt\n",
    "    return cnt\n",
    "\n",
    "print(check(N,2))"
   ]
  },
  {
   "cell_type": "code",
   "execution_count": 10,
   "id": "29daed32-31c6-4f69-b498-885d1d4c2f22",
   "metadata": {},
   "outputs": [
    {
     "name": "stdout",
     "output_type": "stream",
     "text": [
      "437420\n"
     ]
    }
   ],
   "source": [
    "#재귀함수를 이용했지만, 일반적인 반복문으로도 가능하다.\n",
    "#배치할 사람 수가 0일 때에 1을 두고, 배치할 사람 수가 2명 이상인 경우 테이블에서 왼쪽과 위의 값을 더해서 반복하면 된다.\n",
    "\n",
    "M, N = 10, 100\n",
    "\n",
    "#테이블 생성\n",
    "table = [0] * (M+1)\n",
    "for i in range(0, M + 1):\n",
    "    table[i] = [0] * (N+1) # N열만큼 생성\n",
    "    table[i][0] = 1 # 배치할 사람 수가 0인 경우 1로 초기화\n",
    "\n",
    "for i in range(1, M+1): #인원 수 상한이 0인 경우 제외\n",
    "    for j in range(2, N+1): #남은 인원이 1인 경우는 없어야 하므로\n",
    "        if((j>=2) and (j>=i)):\n",
    "           table[i][j] = table[i][j-i]\n",
    "        if i>2:\n",
    "           table[i][j] += table[i-1][j]\n",
    "print(table[M][N])"
   ]
  },
  {
   "cell_type": "code",
   "execution_count": null,
   "id": "c04a9e11-0670-425d-b645-79a4e46287fc",
   "metadata": {},
   "outputs": [],
   "source": []
  }
 ],
 "metadata": {
  "kernelspec": {
   "display_name": "Python 3 (ipykernel)",
   "language": "python",
   "name": "python3"
  },
  "language_info": {
   "codemirror_mode": {
    "name": "ipython",
    "version": 3
   },
   "file_extension": ".py",
   "mimetype": "text/x-python",
   "name": "python",
   "nbconvert_exporter": "python",
   "pygments_lexer": "ipython3",
   "version": "3.9.16"
  }
 },
 "nbformat": 4,
 "nbformat_minor": 5
}
