{
 "cells": [
  {
   "cell_type": "code",
   "execution_count": 18,
   "id": "9392c54d-5dfa-4065-9ee2-bd80bb422ae8",
   "metadata": {},
   "outputs": [
    {
     "name": "stdout",
     "output_type": "stream",
     "text": [
      "15\n",
      "67141631\n"
     ]
    }
   ],
   "source": [
    "#서울 지하철 2호선을 투어하려고 한다. 순환 부분에는 모두 43개의 역이 있고, M번 역에서 출발해 N번 역에서 하차한다.\n",
    "#중간중간 경유하는 역에서 스탬프를 찍는다고 할 때, 스탬프를 찍는 패턴에는 모두 몇 가지가 있는지 구하시오.\n",
    "#한 방향으로만 움직일 수 있고, 1회 이상 순환하는 경우는 생각하지 않는다.\n",
    "\n",
    "M, N = 1, 17\n",
    "k = abs(M-N)-1 #역 사이의 역 개수\n",
    "print(k)\n",
    "print((1<<k)+(1<<(43-k-2))-1) #비트 연산자를 사용하면 명확성과 속도에 강점이 잇고 1개의 데이터에 여러 개의 정보를 넣을 수 이ㅣㅆ다."
   ]
  },
  {
   "cell_type": "code",
   "execution_count": null,
   "id": "b012d184-b389-439c-9cfc-7f4f8377e071",
   "metadata": {},
   "outputs": [],
   "source": []
  }
 ],
 "metadata": {
  "kernelspec": {
   "display_name": "Python 3 (ipykernel)",
   "language": "python",
   "name": "python3"
  },
  "language_info": {
   "codemirror_mode": {
    "name": "ipython",
    "version": 3
   },
   "file_extension": ".py",
   "mimetype": "text/x-python",
   "name": "python",
   "nbconvert_exporter": "python",
   "pygments_lexer": "ipython3",
   "version": "3.9.16"
  }
 },
 "nbformat": 4,
 "nbformat_minor": 5
}
