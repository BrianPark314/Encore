{
 "cells": [
  {
   "cell_type": "code",
   "execution_count": null,
   "id": "fd7655b3-d6ff-43ed-872e-18c70c36ebce",
   "metadata": {},
   "outputs": [],
   "source": [
    "## 소수 n번째 자리까지 원주율과 일치하는 분수 중에서 분모가 최소인 것을 pi(n)이라고 한다.\n",
    "# n = 11\n",
    "\n",
    "from math import floor\n",
    "\n",
    "N = 11\n",
    "q = 1\n",
    "\n",
    "pi = int(\"314159265358\"[0:N+1])\n",
    "pow = 10**N\n",
    "\n",
    "while True:\n",
    "    if floor(q*pi/pow) != floor((q*(pi+1))/pow):\n",
    "        #몫이 일치하지 않는 경우\n",
    "        if q*(pi+1)%pow > 0:\n",
    "            print(q)\n",
    "            break;\n",
    "    q += 1\n"
   ]
  },
  {
   "cell_type": "code",
   "execution_count": null,
   "id": "2eaba3b4-e9db-4720-bfad-c3ad8a3ee7da",
   "metadata": {},
   "outputs": [],
   "source": []
  }
 ],
 "metadata": {
  "kernelspec": {
   "display_name": "Python 3 (ipykernel)",
   "language": "python",
   "name": "python3"
  },
  "language_info": {
   "codemirror_mode": {
    "name": "ipython",
    "version": 3
   },
   "file_extension": ".py",
   "mimetype": "text/x-python",
   "name": "python",
   "nbconvert_exporter": "python",
   "pygments_lexer": "ipython3",
   "version": "3.9.16"
  }
 },
 "nbformat": 4,
 "nbformat_minor": 5
}
