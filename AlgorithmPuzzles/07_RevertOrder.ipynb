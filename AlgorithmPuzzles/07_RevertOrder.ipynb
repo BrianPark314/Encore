{
 "cells": [
  {
   "cell_type": "code",
   "execution_count": 3,
   "id": "4dde3f46-7655-4537-ab03-33e2f87e5447",
   "metadata": {},
   "outputs": [
    {
     "name": "stdout",
     "output_type": "stream",
     "text": [
      "[1, 4, 15, 40, 60]\n",
      "394\n"
     ]
    }
   ],
   "source": [
    "#문서가 15개 있을 때, 책장에 들어 있을 수 있는 문서의 배치 패턴을 모두 생각하고, 원래 순서로 되돌리는 이동 횟수의 합을 구하시오.\n",
    "\n",
    "#거꾸로 생각해서 n개의 문서가 정렬된 상태에서 왼쪽 끝의 문서를 임의의 위치로 옮기는 경우를 생각해 보자.\n",
    "#0번만에 돌아가는 경우는 초기 상태, 1번 만에 돌아가는 경우는 왼쪽 끝의 문서를 남은 n-1개의 오른쪽 공간에 넣는 n-1가지다.\n",
    "#이것을 반복해 보자.\n",
    "\n",
    "N = 5\n",
    "\n",
    "cnt = [0]*N\n",
    "cnt[0] = 1 \n",
    "for i in range(1, N+1):\n",
    "    for j in range(0, i-2):\n",
    "        cnt [i-j-1] = cnt[i-j-2]*i\n",
    "    cnt[1] = i-1\n",
    "print(cnt)\n",
    "sum = 0\n",
    "for v, i in enumerate(cnt):\n",
    "    sum += i*v\n",
    "print(sum)"
   ]
  },
  {
   "cell_type": "code",
   "execution_count": null,
   "id": "c406daa4-dc21-4451-85d1-943d818db897",
   "metadata": {},
   "outputs": [],
   "source": []
  }
 ],
 "metadata": {
  "kernelspec": {
   "display_name": "Python 3 (ipykernel)",
   "language": "python",
   "name": "python3"
  },
  "language_info": {
   "codemirror_mode": {
    "name": "ipython",
    "version": 3
   },
   "file_extension": ".py",
   "mimetype": "text/x-python",
   "name": "python",
   "nbconvert_exporter": "python",
   "pygments_lexer": "ipython3",
   "version": "3.9.16"
  }
 },
 "nbformat": 4,
 "nbformat_minor": 5
}
