{
 "cells": [
  {
   "cell_type": "code",
   "execution_count": 3,
   "id": "aa5af9e3-68f3-4f4a-a0e6-217018cbe4e3",
   "metadata": {},
   "outputs": [
    {
     "name": "stdout",
     "output_type": "stream",
     "text": [
      "2021/02/03 18:33:23\n"
     ]
    }
   ],
   "source": [
    "#end를 사용해서 print 마지막의 개행을 없앨 수 있고, sep으로 양식 지정 가능\n",
    "\n",
    "year = '2021'\n",
    "month = '02'\n",
    "day = '03'\n",
    "hour = '18'\n",
    "minute = '33'\n",
    "second = '23'\n",
    "\n",
    "print(year, month, day, end=\" \", sep=\"/\")\n",
    "print(hour, minute, second, sep=\":\")"
   ]
  },
  {
   "cell_type": "code",
   "execution_count": 7,
   "id": "b6b0c7fc-7561-4011-ab65-610ea0c46149",
   "metadata": {},
   "outputs": [
    {
     "name": "stdin",
     "output_type": "stream",
     "text": [
      "사과와 귤을 몇 개 드릴까요? 1, 1\n"
     ]
    },
    {
     "name": "stdout",
     "output_type": "stream",
     "text": [
      "총 가격은 1200원입니다.\n"
     ]
    }
   ],
   "source": [
    "apple = 1000\n",
    "orange = 200\n",
    "\n",
    "price = input(\"사과와 귤을 몇 개 드릴까요?\").split(',')\n",
    "price = list(map(int, price))\n",
    "\n",
    "print(f\"총 가격은 {price[0]*apple+price[1]*orange}원입니다.\")"
   ]
  },
  {
   "cell_type": "code",
   "execution_count": 8,
   "id": "c3c51293-6704-4aef-92b6-e73814510e32",
   "metadata": {},
   "outputs": [],
   "source": [
    "#객체 타입을 비교할 땐 is로 하면 된다."
   ]
  },
  {
   "cell_type": "code",
   "execution_count": 2,
   "id": "8c7844d3-aad2-41c8-bedc-3a8f898e0127",
   "metadata": {},
   "outputs": [
    {
     "name": "stdin",
     "output_type": "stream",
     "text": [
      "아이디를 입력하세요 : 123\n",
      "회원 등급을 입력주해주세요 : 123\n"
     ]
    },
    {
     "name": "stdout",
     "output_type": "stream",
     "text": [
      "권한이 없습니다.\n"
     ]
    }
   ],
   "source": [
    "#연습문제\n",
    "\n",
    "id0 = input(\"아이디를 입력하세요 :\")\n",
    "if id0 == \"admin\":\n",
    "    print('최고 관리자, 모든 권한을 갖습니다.')\n",
    "else:\n",
    "    lvl = int(input(\"회원 등급을 입력주해주세요 :\"))\n",
    "    if 1 <= lvl <= 3:\n",
    "        print(\"제한적인 권한을 갖습니다.\")\n",
    "    else:\n",
    "        print(\"권한이 없습니다.\")\n",
    "    "
   ]
  },
  {
   "cell_type": "code",
   "execution_count": 4,
   "id": "6ca911af-9468-477f-b3f5-dd2f338bf47a",
   "metadata": {},
   "outputs": [
    {
     "name": "stdin",
     "output_type": "stream",
     "text": [
      "자연수를 하나 입력해주세요. 20\n"
     ]
    },
    {
     "name": "stdout",
     "output_type": "stream",
     "text": [
      "0\n"
     ]
    }
   ],
   "source": [
    "#연습문제\n",
    "k = int(input(\"자연수를 하나 입력해주세요.\"))\n",
    "if k >= 50:\n",
    "    print(k-50)\n",
    "else:\n",
    "    print(0)"
   ]
  },
  {
   "cell_type": "code",
   "execution_count": 5,
   "id": "f5502000-b5e9-456c-b176-475236023f31",
   "metadata": {},
   "outputs": [
    {
     "name": "stdin",
     "output_type": "stream",
     "text": [
      "자연수를 하나 입력해주세요. 21\n"
     ]
    },
    {
     "name": "stdout",
     "output_type": "stream",
     "text": [
      "홀수입니다.\n"
     ]
    }
   ],
   "source": [
    "#연습문제\n",
    "k = int(input(\"자연수를 하나 입력해주세요.\"))\n",
    "if k%2==0:\n",
    "    print(\"짝수입니다.\")\n",
    "else:\n",
    "    print(\"홀수입니다.\")"
   ]
  },
  {
   "cell_type": "code",
   "execution_count": 8,
   "id": "aec7b159-74cd-4b27-8638-e6b97f431a43",
   "metadata": {},
   "outputs": [
    {
     "name": "stdin",
     "output_type": "stream",
     "text": [
      "소프트웨어 설계 점수를 입력하세요. 1000\n",
      "소프트웨어 개발 점수를 입력하세요. 1\n",
      "데이터베이스 구축 점수를 입력하세요. 1\n",
      "프로그래밍 언어 활용 점수를 입력하세요. 1\n",
      "정보시스템 구축 관리 점수를 입력하세요. 1\n"
     ]
    },
    {
     "name": "stdout",
     "output_type": "stream",
     "text": [
      "잘못된 점수입니다.\n"
     ]
    }
   ],
   "source": [
    "#연습문제\n",
    "design = int(input(\"소프트웨어 설계 점수를 입력하세요.\"))\n",
    "dev = int(input(\"소프트웨어 개발 점수를 입력하세요.\"))\n",
    "database = int(input(\"데이터베이스 구축 점수를 입력하세요.\"))\n",
    "lang = int(input(\"프로그래밍 언어 활용 점수를 입력하세요.\"))\n",
    "manage = int(input(\"정보시스템 구축 관리 점수를 입력하세요.\"))\n",
    "\n",
    "k = [design, dev, database, lang, manage]\n",
    "\n",
    "if max(k)>100 or min(k)<0:\n",
    "    print(\"잘못된 점수입니다.\")\n",
    "elif sum(k)/len(k)>=60.0:\n",
    "    print(\"합격\")\n",
    "else:\n",
    "    print(\"불합격\")"
   ]
  },
  {
   "cell_type": "code",
   "execution_count": 11,
   "id": "b646b9aa-af90-4969-b1c8-45eaffc60e0f",
   "metadata": {},
   "outputs": [
    {
     "name": "stdin",
     "output_type": "stream",
     "text": [
      "현재 물의 온도를 입력해주세요. 12312312\n"
     ]
    },
    {
     "name": "stdout",
     "output_type": "stream",
     "text": [
      "기체로 예상됩니다.\n"
     ]
    }
   ],
   "source": [
    "#연습문제\n",
    "temp = float(input(\"현재 물의 온도를 입력해주세요.\"))\n",
    "\n",
    "if temp>=100:\n",
    "    print(\"기체로 예상됩니다.\")\n",
    "elif temp>=0:\n",
    "    print(\"액체로 예상됩니다.\")\n",
    "else:\n",
    "    print(\"고체로 예상됩니다.\")"
   ]
  },
  {
   "cell_type": "code",
   "execution_count": 15,
   "id": "fe37e213-a01a-41ac-9f43-bc67dfe0c04e",
   "metadata": {},
   "outputs": [
    {
     "name": "stdin",
     "output_type": "stream",
     "text": [
      "자신의 나이를 입력하세요. 20\n"
     ]
    },
    {
     "name": "stdout",
     "output_type": "stream",
     "text": [
      "1500원\n"
     ]
    }
   ],
   "source": [
    "#연습문제\n",
    "age = int(input(\"자신의 나이를 입력하세요.\"))\n",
    "\n",
    "if age > 18:\n",
    "    print(\"1500원\")\n",
    "elif age > 11:\n",
    "    print(\"1100원\")\n",
    "elif age > 5:\n",
    "    print(\"800원\")\n",
    "else :\n",
    "    print(\"무료입니다.\")"
   ]
  },
  {
   "cell_type": "code",
   "execution_count": 19,
   "id": "27b61c19-0a3d-4c3b-8db2-168948ec9b4c",
   "metadata": {},
   "outputs": [
    {
     "name": "stdin",
     "output_type": "stream",
     "text": [
      "발주 수량을 입력하세요: 1500\n"
     ]
    },
    {
     "name": "stdout",
     "output_type": "stream",
     "text": [
      "1500개를 주문하셨습니다. \n",
      "적용 할인율은 5%입니다. \n",
      "총 발주 금액은 14250원입니다.\n"
     ]
    }
   ],
   "source": [
    "#연습문제\n",
    "n = int(input(\"발주 수량을 입력하세요:\"))\n",
    "\n",
    "if n > 2000:\n",
    "    print(f\"{n}개를 주문하셨습니다. \\n적용 할인율은 20%입니다. \\n총 발주 금액은 {int(10*n*0.8)}원입니다.\")\n",
    "elif n > 1500:\n",
    "    print(f\"{n}개를 주문하셨습니다. \\n적용 할인율은 10%입니다. \\n총 발주 금액은 {int(10*n*0.9)}원입니다.\")\n",
    "elif n > 1000:\n",
    "    print(f\"{n}개를 주문하셨습니다. \\n적용 할인율은 5%입니다. \\n총 발주 금액은 {int(10*n*0.95)}원입니다.\")\n",
    "else :\n",
    "    print(f\"{n}개를 주문하셨습니다. \\n총 발주 금액은 {int(10*n)}원입니다.\")\n"
   ]
  },
  {
   "cell_type": "code",
   "execution_count": 26,
   "id": "28372839-66e6-407d-ba74-ff5bac4d8202",
   "metadata": {},
   "outputs": [
    {
     "name": "stdin",
     "output_type": "stream",
     "text": [
      "주민번호 뒷자리를 입력하세요: 4000000\n"
     ]
    },
    {
     "name": "stdout",
     "output_type": "stream",
     "text": [
      "여자\n"
     ]
    }
   ],
   "source": [
    "#연습문제\n",
    "\n",
    "num = int(input(\"주민번호 뒷자리를 입력하세요:\"))\n",
    "\n",
    "if num>9999999 or num<1000000:\n",
    "    print('자릿수를 잘못 입력했습니다.')\n",
    "elif num//1000000>5:\n",
    "    print('잘못된 입력입니다.')\n",
    "elif (num//1000000)%2 == 0:\n",
    "    print('여자')\n",
    "else:\n",
    "    print('남자')"
   ]
  },
  {
   "cell_type": "code",
   "execution_count": 37,
   "id": "720946d1-06ce-4cbe-a114-b9695ca3828f",
   "metadata": {},
   "outputs": [
    {
     "name": "stdin",
     "output_type": "stream",
     "text": [
      "확인할 연도를 입력하세요: 1989\n"
     ]
    },
    {
     "name": "stdout",
     "output_type": "stream",
     "text": [
      "평년입니다.\n"
     ]
    }
   ],
   "source": [
    "#연습문제\n",
    "\n",
    "year = int(input(\"확인할 연도를 입력하세요:\"))\n",
    "\n",
    "if year%100==0 and year%400!=0:\n",
    "    print('평년입니다.')\n",
    "elif year%4==0:\n",
    "    print('윤년입니다.')\n",
    "else:\n",
    "    print('평년입니다.')"
   ]
  },
  {
   "cell_type": "code",
   "execution_count": 41,
   "id": "0bd9baa4-c980-4a67-862d-f86a9ebba5f7",
   "metadata": {},
   "outputs": [
    {
     "name": "stdin",
     "output_type": "stream",
     "text": [
      "확인할 연도를 입력하세요: 2023\n"
     ]
    },
    {
     "name": "stdout",
     "output_type": "stream",
     "text": [
      "평년입니다.\n"
     ]
    }
   ],
   "source": [
    "year = int(input(\"확인할 연도를 입력하세요:\"))\n",
    "\n",
    "if year%4!=0 or (year%100==0 and year%400!=0):\n",
    "    print('평년입니다.')\n",
    "else:\n",
    "    print('윤년입니다.')"
   ]
  },
  {
   "cell_type": "code",
   "execution_count": null,
   "id": "6401eb23-ff31-44da-bb15-880156ea15e8",
   "metadata": {},
   "outputs": [],
   "source": []
  }
 ],
 "metadata": {
  "kernelspec": {
   "display_name": "Python 3 (ipykernel)",
   "language": "python",
   "name": "python3"
  },
  "language_info": {
   "codemirror_mode": {
    "name": "ipython",
    "version": 3
   },
   "file_extension": ".py",
   "mimetype": "text/x-python",
   "name": "python",
   "nbconvert_exporter": "python",
   "pygments_lexer": "ipython3",
   "version": "3.9.16"
  }
 },
 "nbformat": 4,
 "nbformat_minor": 5
}
