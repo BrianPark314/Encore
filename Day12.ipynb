{
 "cells": [
  {
   "cell_type": "markdown",
   "id": "69a86491-e1f3-4a24-af27-d9d80c8a3cac",
   "metadata": {},
   "source": [
    "Numpy\n",
    "\n",
    "STEM 연구에 사용되는 넘파이는 배열을 지원하여 벡터 및 선형대수 연산을 더 효율적으로 하게 해 준다. 넘파이 배열은 같은 자료형만을 담을 수 있고 요소의 개수를 바꿀 수 없기 때문에 리스트보다 구조적으로 속도가 빠르고 메모리를 더 적게 사용한다. C로 구현된 내부 반복문을 사용하기 때문에 속도가 빠르며 벡터화 연산을 지원한다. 또한 배열 인덱싱을 사용한 Query기능을 이용하여 간단한 코드로도 복잡한 수식을 계산할 수있다."
   ]
  },
  {
   "cell_type": "code",
   "execution_count": 1,
   "id": "2f182c32-b0b4-4d92-8585-2ed07bc6e711",
   "metadata": {},
   "outputs": [],
   "source": [
    "import numpy as np"
   ]
  },
  {
   "cell_type": "markdown",
   "id": "3aa2037e-e7e8-4869-be88-7f5a53c2b181",
   "metadata": {},
   "source": [
    "1차원 배열은 다음과 같이 생성할 수 있다."
   ]
  },
  {
   "cell_type": "code",
   "execution_count": 25,
   "id": "37df35cc-67de-432c-9851-368c797d61e7",
   "metadata": {},
   "outputs": [
    {
     "data": {
      "text/plain": [
       "array([0, 1, 2, 3, 4, 5, 6, 7, 8, 9])"
      ]
     },
     "execution_count": 25,
     "metadata": {},
     "output_type": "execute_result"
    }
   ],
   "source": [
    "ar = np.array([_ for _ in range(10)])\n",
    "ar"
   ]
  },
  {
   "cell_type": "code",
   "execution_count": 7,
   "id": "e20703e7-fa89-439a-a725-49df6a476127",
   "metadata": {},
   "outputs": [
    {
     "data": {
      "text/plain": [
       "array(['0.1', 'dd', '50', '2', '3.14'], dtype='<U32')"
      ]
     },
     "execution_count": 7,
     "metadata": {},
     "output_type": "execute_result"
    }
   ],
   "source": [
    "ar2 = np.array([0.1, 'dd', 50, 2, 3.14])\n",
    "ar2"
   ]
  },
  {
   "cell_type": "markdown",
   "id": "faa382fb-478c-4386-8719-1e9a6c98b0dc",
   "metadata": {},
   "source": [
    "위와 같이 여러가지 데이터 타입이 혼합된 리스트를 넣으면 가장 넓은 범위의 표현형으로 자동으로 맞춰진다. 어레이를 생성할 떄 자료형을 명시하려면 dtype을 사용하면 된다. "
   ]
  },
  {
   "cell_type": "code",
   "execution_count": 9,
   "id": "4c959e16-7c5f-4deb-83fd-fdf8ce70b7d2",
   "metadata": {},
   "outputs": [],
   "source": [
    "x = np.array([1, 2, 3], dtype = 'U')"
   ]
  },
  {
   "cell_type": "code",
   "execution_count": 10,
   "id": "0b952eb2-874c-4ea4-98d1-89c851a77f9f",
   "metadata": {},
   "outputs": [
    {
     "data": {
      "text/plain": [
       "'12'"
      ]
     },
     "execution_count": 10,
     "metadata": {},
     "output_type": "execute_result"
    }
   ],
   "source": [
    "x[0]+x[1]"
   ]
  },
  {
   "cell_type": "markdown",
   "id": "07843e6f-be68-45b6-bfd9-4ca9da1c001e",
   "metadata": {},
   "source": [
    "인덱싱과 연산도 똑같이 가능하다. 넘파이 배열은 각 요소에 대한 반복 연산을 하나의 명령어로 처리하는 백터화 연산을 지원한다. 반복문을 쓰지 않아도 되어 문법적으로 간단할 뿐만 아니라 연산 속도도 더 빠르다."
   ]
  },
  {
   "cell_type": "code",
   "execution_count": 26,
   "id": "483d0c80-9957-4c1e-8516-1e59cb4c8830",
   "metadata": {},
   "outputs": [
    {
     "data": {
      "text/plain": [
       "array([ 0,  2,  4,  6,  8, 10, 12, 14, 16, 18])"
      ]
     },
     "execution_count": 26,
     "metadata": {},
     "output_type": "execute_result"
    }
   ],
   "source": [
    "ar = ar * 2\n",
    "ar"
   ]
  },
  {
   "cell_type": "markdown",
   "id": "9941cf14-0653-4c6b-bada-bd52ee62be2f",
   "metadata": {},
   "source": [
    "벡터화 연산은 비교 연산과 논리 연산을 포함한 모든 종류의 수학 연산에 대해 적용된다."
   ]
  },
  {
   "cell_type": "markdown",
   "id": "68b0abca-d08d-47ed-ba6c-1c6863a9e539",
   "metadata": {},
   "source": [
    "2차원 배열은 수학의 행렬과 같다. "
   ]
  },
  {
   "cell_type": "code",
   "execution_count": 28,
   "id": "5e9de98d-7ace-48d4-b4be-49ed210beab5",
   "metadata": {},
   "outputs": [
    {
     "data": {
      "text/plain": [
       "array([[0, 1, 2],\n",
       "       [3, 4, 5]])"
      ]
     },
     "execution_count": 28,
     "metadata": {},
     "output_type": "execute_result"
    }
   ],
   "source": [
    "c = np.array([[0, 1, 2],\n",
    "             [3, 4, 5]])\n",
    "c"
   ]
  },
  {
   "cell_type": "markdown",
   "id": "dd86d753-3320-4b80-b42b-2e72ca4a9d80",
   "metadata": {},
   "source": [
    "2차원 배열의 행과 열의 개수는 len()으로 볼 수 있다."
   ]
  },
  {
   "cell_type": "code",
   "execution_count": 29,
   "id": "25114b3c-cb87-4c51-bf4f-0dc29d1f5d26",
   "metadata": {},
   "outputs": [
    {
     "data": {
      "text/plain": [
       "2"
      ]
     },
     "execution_count": 29,
     "metadata": {},
     "output_type": "execute_result"
    }
   ],
   "source": [
    "len(c)"
   ]
  },
  {
   "cell_type": "code",
   "execution_count": 30,
   "id": "30633a93-0edc-4395-adf0-64e3315c6a07",
   "metadata": {},
   "outputs": [
    {
     "data": {
      "text/plain": [
       "3"
      ]
     },
     "execution_count": 30,
     "metadata": {},
     "output_type": "execute_result"
    }
   ],
   "source": [
    "len(c[0])"
   ]
  },
  {
   "cell_type": "markdown",
   "id": "b0107619-4ab3-4397-be59-d793a03c6830",
   "metadata": {},
   "source": [
    "연습문제 - 넘파이를 사용해서 배열 만들기"
   ]
  },
  {
   "cell_type": "code",
   "execution_count": 31,
   "id": "98e26864-f419-49e2-b536-b2eb1e7ce7f1",
   "metadata": {},
   "outputs": [
    {
     "data": {
      "text/plain": [
       "array([[10, 20, 30, 40],\n",
       "       [50, 60, 70, 80]])"
      ]
     },
     "execution_count": 31,
     "metadata": {},
     "output_type": "execute_result"
    }
   ],
   "source": [
    "np.array([[10, 20, 30, 40], [50, 60, 70, 80]])"
   ]
  },
  {
   "cell_type": "markdown",
   "id": "2725921d-0922-4bb6-9bb1-498b67845824",
   "metadata": {},
   "source": [
    "응용하여 3차원 배열도 만들 수 있다. 크기를 나타낼 땐 가장 바깥쪽 리스트의 길이부터 가장 안쪽 리스트 길이의 순서로 표시한다."
   ]
  },
  {
   "cell_type": "code",
   "execution_count": 32,
   "id": "642b425f-5cfb-40c7-b0d6-7e4b50297090",
   "metadata": {},
   "outputs": [],
   "source": [
    "d = np.array([[[1, 2, 3, 4], [5, 6, 7, 8], [9, 9, 9, 9]], [[1, 2, 3, 4], [1, 2, 3, 4], [1, 2, 3, 4]]])"
   ]
  },
  {
   "cell_type": "code",
   "execution_count": 33,
   "id": "ffb885bd-079b-40cd-9342-39964262c5b7",
   "metadata": {},
   "outputs": [
    {
     "data": {
      "text/plain": [
       "array([[[1, 2, 3, 4],\n",
       "        [5, 6, 7, 8],\n",
       "        [9, 9, 9, 9]],\n",
       "\n",
       "       [[1, 2, 3, 4],\n",
       "        [1, 2, 3, 4],\n",
       "        [1, 2, 3, 4]]])"
      ]
     },
     "execution_count": 33,
     "metadata": {},
     "output_type": "execute_result"
    }
   ],
   "source": [
    "d"
   ]
  },
  {
   "cell_type": "markdown",
   "id": "235c4628-0993-4373-b5f3-0f9df4c32d5c",
   "metadata": {},
   "source": [
    "ndim 속성과 shape속성으로 배열의 차원과 크기를 간편하게 알아낼 수 있다."
   ]
  },
  {
   "cell_type": "code",
   "execution_count": 34,
   "id": "3dd223fb-d1ce-4174-b0b6-37106a1b5139",
   "metadata": {},
   "outputs": [
    {
     "data": {
      "text/plain": [
       "array([10, 20, 30])"
      ]
     },
     "execution_count": 34,
     "metadata": {},
     "output_type": "execute_result"
    }
   ],
   "source": [
    "k = np.array([[10, 20, 30, 40], [50, 60, 70, 80]]) #에서 1, 2, 3 가져오기\n",
    "k[0][:3]"
   ]
  },
  {
   "cell_type": "markdown",
   "id": "edc479e2-7a33-406f-b076-fb624865b625",
   "metadata": {},
   "source": [
    "다차열 슬라이싱은 콤마로 구분한다."
   ]
  },
  {
   "cell_type": "code",
   "execution_count": 36,
   "id": "693714f8-bd8a-4b7a-8e9c-d55898edaeb8",
   "metadata": {},
   "outputs": [
    {
     "data": {
      "text/plain": [
       "array([[[1, 2],\n",
       "        [5, 6]],\n",
       "\n",
       "       [[1, 2],\n",
       "        [1, 2]]])"
      ]
     },
     "execution_count": 36,
     "metadata": {},
     "output_type": "execute_result"
    }
   ],
   "source": [
    "d[:2, :2, :2]"
   ]
  },
  {
   "cell_type": "markdown",
   "id": "6b7fedf1-1743-4818-87ef-0919d238f5e0",
   "metadata": {},
   "source": [
    "연습문제"
   ]
  },
  {
   "cell_type": "code",
   "execution_count": 46,
   "id": "054c2c1b-0b26-45e8-bdb2-8b0e94e4e0f7",
   "metadata": {},
   "outputs": [
    {
     "data": {
      "text/plain": [
       "7"
      ]
     },
     "execution_count": 46,
     "metadata": {},
     "output_type": "execute_result"
    }
   ],
   "source": [
    "m = np.array([[0, 1, 2, 3, 4], [5, 6, 7, 8, 9], [10, 11, 12, 13, 14]])\n",
    "\n",
    "m[1,2]"
   ]
  },
  {
   "cell_type": "code",
   "execution_count": 47,
   "id": "f9521a13-5de3-412c-8e5e-b0726b8ff15e",
   "metadata": {},
   "outputs": [
    {
     "data": {
      "text/plain": [
       "14"
      ]
     },
     "execution_count": 47,
     "metadata": {},
     "output_type": "execute_result"
    }
   ],
   "source": [
    "m[-1,-1]"
   ]
  },
  {
   "cell_type": "code",
   "execution_count": 48,
   "id": "5dfc7224-fd05-4448-b081-0cbe7b5ddc7e",
   "metadata": {},
   "outputs": [
    {
     "data": {
      "text/plain": [
       "array([6, 7])"
      ]
     },
     "execution_count": 48,
     "metadata": {},
     "output_type": "execute_result"
    }
   ],
   "source": [
    "m[1, 1:3]"
   ]
  },
  {
   "cell_type": "code",
   "execution_count": 43,
   "id": "3dba8c8d-20d4-402a-8891-93b1a387387c",
   "metadata": {},
   "outputs": [
    {
     "data": {
      "text/plain": [
       "array([[ 7],\n",
       "       [12]])"
      ]
     },
     "execution_count": 43,
     "metadata": {},
     "output_type": "execute_result"
    }
   ],
   "source": [
    "m[1:, 2:3]"
   ]
  },
  {
   "cell_type": "code",
   "execution_count": 44,
   "id": "1f5a3690-24df-4c35-9f35-4dabf2cbb051",
   "metadata": {},
   "outputs": [
    {
     "data": {
      "text/plain": [
       "array([[3, 4],\n",
       "       [8, 9]])"
      ]
     },
     "execution_count": 44,
     "metadata": {},
     "output_type": "execute_result"
    }
   ],
   "source": [
    "m[:2, -2:]"
   ]
  },
  {
   "cell_type": "markdown",
   "id": "121ab1f9-1970-441d-9788-e6d9d9c6d70f",
   "metadata": {},
   "source": [
    "넘파이는 몇 가지 단순한 배열을 생성하는 명령을 제공한다. zeros, ones, empty, arange, linspace, logspace 등이 있다."
   ]
  },
  {
   "cell_type": "code",
   "execution_count": 50,
   "id": "385a5012-3e08-4b1d-ab31-f36c6ec70a0b",
   "metadata": {},
   "outputs": [
    {
     "data": {
      "text/plain": [
       "array([[0., 0., 0., 0., 0.],\n",
       "       [0., 0., 0., 0., 0.],\n",
       "       [0., 0., 0., 0., 0.],\n",
       "       [0., 0., 0., 0., 0.],\n",
       "       [0., 0., 0., 0., 0.]])"
      ]
     },
     "execution_count": 50,
     "metadata": {},
     "output_type": "execute_result"
    }
   ],
   "source": [
    "np.zeros((5, 5))"
   ]
  },
  {
   "cell_type": "markdown",
   "id": "83871633-8057-4cc4-82ed-2450b42f7685",
   "metadata": {},
   "source": [
    "shape을 튜플 값으로 명시하지 않고 다른 배열과 같은 크기의 배열을 만들고 싶을 땐 zeros_like 또는 ones_like을 사용한다."
   ]
  },
  {
   "cell_type": "code",
   "execution_count": 54,
   "id": "a6df6217-34a9-4199-8154-37a103f2858b",
   "metadata": {},
   "outputs": [
    {
     "data": {
      "text/plain": [
       "array([[0., 0., 0., 0., 0.],\n",
       "       [0., 0., 0., 0., 0.],\n",
       "       [0., 0., 0., 0., 0.]], dtype=float32)"
      ]
     },
     "execution_count": 54,
     "metadata": {},
     "output_type": "execute_result"
    }
   ],
   "source": [
    "test = np.zeros_like(m, dtype='f')\n",
    "test"
   ]
  },
  {
   "cell_type": "markdown",
   "id": "a4eaaaed-19c8-4d5d-bad1-49f4dffb3578",
   "metadata": {},
   "source": [
    "배열의 크기가 커지면 배열을 초기화하는데도 시간이 걸린다. empty를 사용하면 초기화 없이 배열을 만들 수 있다."
   ]
  },
  {
   "cell_type": "code",
   "execution_count": 56,
   "id": "0b786683-2c59-4378-be48-5cd2705a7f0c",
   "metadata": {},
   "outputs": [
    {
     "data": {
      "text/plain": [
       "array([[0., 0., 0., 0., 0.],\n",
       "       [0., 0., 0., 0., 0.],\n",
       "       [0., 0., 0., 0., 0.],\n",
       "       [0., 0., 0., 0., 0.],\n",
       "       [0., 0., 0., 0., 0.]])"
      ]
     },
     "execution_count": 56,
     "metadata": {},
     "output_type": "execute_result"
    }
   ],
   "source": [
    "np.empty((5, 5))"
   ]
  },
  {
   "cell_type": "markdown",
   "id": "6bdd380d-9f04-4e7a-805b-90c21e993211",
   "metadata": {},
   "source": [
    "arange 명령어는 넘파이 버전의 range이다. linspace와 logspace는 선형 또는 로그 구간을 만들어준다."
   ]
  },
  {
   "cell_type": "code",
   "execution_count": 59,
   "id": "9251ffbf-55bf-4b86-b01e-39f146e39fc1",
   "metadata": {},
   "outputs": [
    {
     "data": {
      "text/plain": [
       "array([  0.,   1.,   2.,   3.,   4.,   5.,   6.,   7.,   8.,   9.,  10.,\n",
       "        11.,  12.,  13.,  14.,  15.,  16.,  17.,  18.,  19.,  20.,  21.,\n",
       "        22.,  23.,  24.,  25.,  26.,  27.,  28.,  29.,  30.,  31.,  32.,\n",
       "        33.,  34.,  35.,  36.,  37.,  38.,  39.,  40.,  41.,  42.,  43.,\n",
       "        44.,  45.,  46.,  47.,  48.,  49.,  50.,  51.,  52.,  53.,  54.,\n",
       "        55.,  56.,  57.,  58.,  59.,  60.,  61.,  62.,  63.,  64.,  65.,\n",
       "        66.,  67.,  68.,  69.,  70.,  71.,  72.,  73.,  74.,  75.,  76.,\n",
       "        77.,  78.,  79.,  80.,  81.,  82.,  83.,  84.,  85.,  86.,  87.,\n",
       "        88.,  89.,  90.,  91.,  92.,  93.,  94.,  95.,  96.,  97.,  98.,\n",
       "        99., 100.])"
      ]
     },
     "execution_count": 59,
     "metadata": {},
     "output_type": "execute_result"
    }
   ],
   "source": [
    "np.linspace(0, 100, 101)"
   ]
  },
  {
   "cell_type": "code",
   "execution_count": 60,
   "id": "42feef10-5abe-4278-ac98-e52b9880e207",
   "metadata": {},
   "outputs": [
    {
     "data": {
      "text/plain": [
       "array([1.e+000, 1.e+001, 1.e+002, 1.e+003, 1.e+004, 1.e+005, 1.e+006,\n",
       "       1.e+007, 1.e+008, 1.e+009, 1.e+010, 1.e+011, 1.e+012, 1.e+013,\n",
       "       1.e+014, 1.e+015, 1.e+016, 1.e+017, 1.e+018, 1.e+019, 1.e+020,\n",
       "       1.e+021, 1.e+022, 1.e+023, 1.e+024, 1.e+025, 1.e+026, 1.e+027,\n",
       "       1.e+028, 1.e+029, 1.e+030, 1.e+031, 1.e+032, 1.e+033, 1.e+034,\n",
       "       1.e+035, 1.e+036, 1.e+037, 1.e+038, 1.e+039, 1.e+040, 1.e+041,\n",
       "       1.e+042, 1.e+043, 1.e+044, 1.e+045, 1.e+046, 1.e+047, 1.e+048,\n",
       "       1.e+049, 1.e+050, 1.e+051, 1.e+052, 1.e+053, 1.e+054, 1.e+055,\n",
       "       1.e+056, 1.e+057, 1.e+058, 1.e+059, 1.e+060, 1.e+061, 1.e+062,\n",
       "       1.e+063, 1.e+064, 1.e+065, 1.e+066, 1.e+067, 1.e+068, 1.e+069,\n",
       "       1.e+070, 1.e+071, 1.e+072, 1.e+073, 1.e+074, 1.e+075, 1.e+076,\n",
       "       1.e+077, 1.e+078, 1.e+079, 1.e+080, 1.e+081, 1.e+082, 1.e+083,\n",
       "       1.e+084, 1.e+085, 1.e+086, 1.e+087, 1.e+088, 1.e+089, 1.e+090,\n",
       "       1.e+091, 1.e+092, 1.e+093, 1.e+094, 1.e+095, 1.e+096, 1.e+097,\n",
       "       1.e+098, 1.e+099, 1.e+100])"
      ]
     },
     "execution_count": 60,
     "metadata": {},
     "output_type": "execute_result"
    }
   ],
   "source": [
    "np.logspace(0, 100, 101)"
   ]
  },
  {
   "cell_type": "markdown",
   "id": "08ec329b-8dbf-44a7-b99a-a221adcb9a91",
   "metadata": {},
   "source": [
    "Transpose 연산은 메서드가 아닌 T 속성으로 바로 구할 수 있다."
   ]
  },
  {
   "cell_type": "code",
   "execution_count": 61,
   "id": "ffe63b67-aa1b-48b3-addd-efb283c82b28",
   "metadata": {},
   "outputs": [
    {
     "data": {
      "text/plain": [
       "array([[ 0,  5, 10],\n",
       "       [ 1,  6, 11],\n",
       "       [ 2,  7, 12],\n",
       "       [ 3,  8, 13],\n",
       "       [ 4,  9, 14]])"
      ]
     },
     "execution_count": 61,
     "metadata": {},
     "output_type": "execute_result"
    }
   ],
   "source": [
    "m.T"
   ]
  },
  {
   "cell_type": "markdown",
   "id": "14dcb063-011d-4847-8fda-66b620a3521c",
   "metadata": {},
   "source": [
    "배열의 내부 데이터를 보존한 채로 형태만 바꾸려면 reshape()을 사용한다."
   ]
  },
  {
   "cell_type": "code",
   "execution_count": 62,
   "id": "ed3e7d88-cd77-4427-9270-ad1df01794e5",
   "metadata": {},
   "outputs": [
    {
     "data": {
      "text/plain": [
       "array([ 0,  1,  2,  3,  4,  5,  6,  7,  8,  9, 10, 11])"
      ]
     },
     "execution_count": 62,
     "metadata": {},
     "output_type": "execute_result"
    }
   ],
   "source": [
    "a = np.arange(12)\n",
    "a"
   ]
  },
  {
   "cell_type": "code",
   "execution_count": 64,
   "id": "428568e9-6fac-4673-a570-d6c9c47c5cdb",
   "metadata": {},
   "outputs": [
    {
     "data": {
      "text/plain": [
       "array([[ 0,  1,  2,  3],\n",
       "       [ 4,  5,  6,  7],\n",
       "       [ 8,  9, 10, 11]])"
      ]
     },
     "execution_count": 64,
     "metadata": {},
     "output_type": "execute_result"
    }
   ],
   "source": [
    "b = a.reshape(3, 4)\n",
    "b"
   ]
  },
  {
   "cell_type": "markdown",
   "id": "783400f5-d71f-402e-9cb4-e58a3a8497f0",
   "metadata": {},
   "source": [
    "반대로는 flatten() 또는 ravel()을 사용한다. 같은 배열의 차원만 증가시키는 경우에는 newaxis를 사용한다."
   ]
  },
  {
   "cell_type": "code",
   "execution_count": null,
   "id": "7fad0952-443a-45ec-bc84-b4242f010c25",
   "metadata": {},
   "outputs": [
    {
     "data": {
      "text/plain": [
       "array([[[ 0,  1,  2,  3]],\n",
       "\n",
       "       [[ 4,  5,  6,  7]],\n",
       "\n",
       "       [[ 8,  9, 10, 11]]])"
      ]
     },
     "execution_count": 65,
     "metadata": {},
     "output_type": "execute_result"
    }
   ],
   "source": [
    "b[:, np.newaxis]"
   ]
  },
  {
   "cell_type": "markdown",
   "id": "1b17f132-f5ff-4a34-875b-08a767aac0df",
   "metadata": {},
   "source": [
    "행의 수나 열의 수가 같은 두 개 이상의 배열을 연결하여 더 큰 배열을 만들 때는 hstack, vstack, dstack 등을 활용한다. hstack은 옆으로, vstack은 위로, dstack은 깊이 방향으로 합친다. stack은 dstack을 확장한 것으로 사용자 지정한 차원(축)으로 합친다. r_[]는 hstack과 비슷하게 배열을 좌우로 연결하는데, 메서드임에도 불구하고 대괄호 표현을 쓴다. 이런 특수 메서드를 인덱서라고 한다. c_[]는 배열의 차원을 증가시킨 후 column 단위로 연결한다. tile() 명령은 동일한 배열을 반복하여 연결한다."
   ]
  },
  {
   "cell_type": "markdown",
   "id": "8741325e-3561-421a-97bb-732c6c8b4d83",
   "metadata": {},
   "source": [
    "연습문제"
   ]
  },
  {
   "cell_type": "code",
   "execution_count": 78,
   "id": "34b1778f-4cb8-49d8-a26c-c0400958ba92",
   "metadata": {},
   "outputs": [
    {
     "data": {
      "text/plain": [
       "array([[  0.,   0.,   0.,   1.,   1.],\n",
       "       [  0.,   0.,   0.,   1.,   1.],\n",
       "       [  0.,   0.,   0.,   1.,   1.],\n",
       "       [ 10.,  20.,  30.,  40.,  50.],\n",
       "       [ 60.,  70.,  80.,  90., 100.],\n",
       "       [110., 120., 130., 140., 150.],\n",
       "       [  0.,   0.,   0.,   1.,   1.],\n",
       "       [  0.,   0.,   0.,   1.,   1.],\n",
       "       [  0.,   0.,   0.,   1.,   1.],\n",
       "       [ 10.,  20.,  30.,  40.,  50.],\n",
       "       [ 60.,  70.,  80.,  90., 100.],\n",
       "       [110., 120., 130., 140., 150.]])"
      ]
     },
     "execution_count": 78,
     "metadata": {},
     "output_type": "execute_result"
    }
   ],
   "source": [
    "a = np.zeros((3,3))\n",
    "b = np.ones((3,2))\n",
    "c = np.arange(10, 151, 10)\n",
    "c = c.reshape(3,5)\n",
    "d = np.hstack((a, b))\n",
    "e = np.vstack((d, c))\n",
    "f = np.tile(e, (2,1))\n",
    "f"
   ]
  },
  {
   "cell_type": "markdown",
   "id": "3fbaa767-fc72-4cd4-994a-ec35fa60f2a1",
   "metadata": {},
   "source": [
    "만약 배열의 각 원소들을 일일히 비교하는 것이 아니라 배열의 모든 원소가 다 같은지 알고 싶다면 all을 사용하면 된다."
   ]
  },
  {
   "cell_type": "code",
   "execution_count": 79,
   "id": "f59cdb36-1574-466a-bd99-1044530b4b99",
   "metadata": {},
   "outputs": [],
   "source": [
    "a = np.array([1, 2, 3, 4])\n",
    "b = np.array([4, 2, 2, 4])\n",
    "c = np.array([1, 2, 3, 4])"
   ]
  },
  {
   "cell_type": "code",
   "execution_count": 81,
   "id": "349aa51b-1e96-4231-a047-93770dc2a5a8",
   "metadata": {},
   "outputs": [
    {
     "data": {
      "text/plain": [
       "False"
      ]
     },
     "execution_count": 81,
     "metadata": {},
     "output_type": "execute_result"
    }
   ],
   "source": [
    "np.all(a==b)"
   ]
  },
  {
   "cell_type": "code",
   "execution_count": 83,
   "id": "eee94e57-9d3a-48fd-acac-067a4fcaea79",
   "metadata": {},
   "outputs": [
    {
     "data": {
      "text/plain": [
       "True"
      ]
     },
     "execution_count": 83,
     "metadata": {},
     "output_type": "execute_result"
    }
   ],
   "source": [
    "np.all(a == c)"
   ]
  },
  {
   "cell_type": "markdown",
   "id": "4ecc8457-6490-4ab6-88bb-1371763c9931",
   "metadata": {},
   "source": [
    "벡터와 행렬에 스칼라곱 연산도 할 수 있다. 배열끼리 산술 연산을 하려면 두 배열의 shapes가 정확히 같아야 한다. 넘파이 배열은 모양이 다른 배열 간 연산이 가능하도록 배열의 크기를 변환시켜주는 브로드캐스팅을 지원한다. 더 작은 배열이 더 큰 배열에 호환되는 모양으로 확장된다. 일치하지 않는 차원의 길이가 한 쪽이 1일 때만 가능하다."
   ]
  },
  {
   "cell_type": "markdown",
   "id": "d987d766-1e10-4727-b9a8-0e5c52d1200e",
   "metadata": {},
   "source": [
    "행렬의 하나의 행에 있는 원소들을 하나의 데이터 집합으로 보고 그 집합의 평균을 구하면 각 행에 대해 하나의 숫자가 나오게 된다. 이를 차원 축소 연산이라고 하며, min, max, argmin, argmax, 등이 있다."
   ]
  },
  {
   "cell_type": "code",
   "execution_count": 84,
   "id": "535bc79f-7b2b-4341-8b81-4aeda3da4d03",
   "metadata": {},
   "outputs": [],
   "source": [
    "p = np.array([[1.1, 7.1, 8.0, 2.1, 6.5, 7.2],\n",
    "                                [2.7, 5.2, 3.3, 9.0, 7.7, 2.8],\n",
    "                                [0.7, 8.8, 4.2, 8.9, 4.3, 7.4],\n",
    "                                [8.2, 1.1, 5.4, 2.9, 6.9, 0.2],\n",
    "                                [7.4, 4.8, 2.7, 3.1, 2.8, 8.9]])"
   ]
  },
  {
   "cell_type": "code",
   "execution_count": 85,
   "id": "181fc5ba-3c13-4622-9129-99b4cff7191f",
   "metadata": {},
   "outputs": [
    {
     "data": {
      "text/plain": [
       "9.0"
      ]
     },
     "execution_count": 85,
     "metadata": {},
     "output_type": "execute_result"
    }
   ],
   "source": [
    "np.max(p)"
   ]
  },
  {
   "cell_type": "code",
   "execution_count": 86,
   "id": "49c77ac8-d127-450c-9a4f-2fb008f73110",
   "metadata": {},
   "outputs": [
    {
     "data": {
      "text/plain": [
       "array([20.1, 27. , 23.6, 26. , 28.2, 26.5])"
      ]
     },
     "execution_count": 86,
     "metadata": {},
     "output_type": "execute_result"
    }
   ],
   "source": [
    "np.sum(p, axis=0)"
   ]
  },
  {
   "cell_type": "code",
   "execution_count": 87,
   "id": "398a2e29-0f7b-495e-b031-31997760f652",
   "metadata": {},
   "outputs": [
    {
     "data": {
      "text/plain": [
       "array([8.2, 8.8, 8. , 9. , 7.7, 8.9])"
      ]
     },
     "execution_count": 87,
     "metadata": {},
     "output_type": "execute_result"
    }
   ],
   "source": [
    "np.max(p, axis=0)"
   ]
  },
  {
   "cell_type": "code",
   "execution_count": 88,
   "id": "d1877ab9-9e6f-48af-a206-40c6af7cbd6d",
   "metadata": {},
   "outputs": [
    {
     "data": {
      "text/plain": [
       "array([5.33333333, 5.11666667, 5.71666667, 4.11666667, 4.95      ])"
      ]
     },
     "execution_count": 88,
     "metadata": {},
     "output_type": "execute_result"
    }
   ],
   "source": [
    "np.mean(p, axis=1)"
   ]
  },
  {
   "cell_type": "code",
   "execution_count": 89,
   "id": "1c73da87-d7a8-4441-af9d-1a80d96cece2",
   "metadata": {},
   "outputs": [
    {
     "data": {
      "text/plain": [
       "array([1.1, 2.7, 0.7, 0.2, 2.7])"
      ]
     },
     "execution_count": 89,
     "metadata": {},
     "output_type": "execute_result"
    }
   ],
   "source": [
    "np.min(p, axis=1)"
   ]
  },
  {
   "cell_type": "markdown",
   "id": "9579c619-6203-4e50-b854-db0fe20ed8d0",
   "metadata": {},
   "source": [
    "고급 인덱싱으로 인덱스 배열을 통해 인덱싱이 가능하다. 아래의 예제 코드를 살펴보면 a[0, 0], a[1, 1], a[2, 0]을 인덱스로 하는 값을 각각 인덱싱하는 것을 볼 수 있다."
   ]
  },
  {
   "cell_type": "code",
   "execution_count": 90,
   "id": "a2d2dea7-5e2d-4d36-a19f-d4205bdf475e",
   "metadata": {},
   "outputs": [
    {
     "data": {
      "text/plain": [
       "array([[1, 2],\n",
       "       [3, 4],\n",
       "       [5, 6]])"
      ]
     },
     "execution_count": 90,
     "metadata": {},
     "output_type": "execute_result"
    }
   ],
   "source": [
    "a = np.array([[1,2], [3,4], [5,6]])\n",
    "a"
   ]
  },
  {
   "cell_type": "code",
   "execution_count": 92,
   "id": "e5be8a90-6671-4590-80d9-f77981a01789",
   "metadata": {},
   "outputs": [
    {
     "name": "stdout",
     "output_type": "stream",
     "text": [
      "[1 4 5]\n"
     ]
    }
   ],
   "source": [
    "print(a[[0, 1, 2], [0, 1, 0]]) #a[0, 0], a[1, 1], a[2, 0]을 인덱스로 하는 1차원 배열을 출력한다."
   ]
  },
  {
   "cell_type": "markdown",
   "id": "ae162a82-6e1b-486e-84cf-a83a2e900a57",
   "metadata": {},
   "source": [
    "슬라이싱 범위도 결국 인덱스 배열이다. :를 사용할 경우 순서대로 인덱싱한 것과 같은 효과를 본다."
   ]
  },
  {
   "cell_type": "code",
   "execution_count": 94,
   "id": "a004c8c3-b7f0-426a-aef1-c507133b7075",
   "metadata": {},
   "outputs": [
    {
     "data": {
      "text/plain": [
       "array([[1, 2, 1],\n",
       "       [3, 4, 3],\n",
       "       [5, 6, 5]])"
      ]
     },
     "execution_count": 94,
     "metadata": {},
     "output_type": "execute_result"
    }
   ],
   "source": [
    "a[:, [0, 1, 0]]"
   ]
  },
  {
   "cell_type": "markdown",
   "id": "7b81095b-d50b-45d1-8426-ca4acd85f605",
   "metadata": {},
   "source": [
    "연습문제"
   ]
  },
  {
   "cell_type": "code",
   "execution_count": 107,
   "id": "886fb589-f02a-441b-a5c4-27fca51144df",
   "metadata": {},
   "outputs": [
    {
     "data": {
      "text/plain": [
       "array([[  1,   4,   2,   3],\n",
       "       [ 46,  71,  99, 100],\n",
       "       [ 81, 100,  59,  90]])"
      ]
     },
     "execution_count": 107,
     "metadata": {},
     "output_type": "execute_result"
    }
   ],
   "source": [
    "s = np.array([[1, 2, 3, 4], [46, 99, 100, 71], [81, 59, 90, 100]])\n",
    "s = s[:, s[1, :].argsort()]\n",
    "s"
   ]
  },
  {
   "cell_type": "markdown",
   "id": "7ba1e3fe-5f6d-471f-af11-113f7e57661e",
   "metadata": {},
   "source": [
    "이제 numpy random을 활용해보자. seed()로 시드를 설정할 수 있다."
   ]
  },
  {
   "cell_type": "code",
   "execution_count": 108,
   "id": "5af19953-d7b7-4cc7-be27-d9c7217d3041",
   "metadata": {},
   "outputs": [],
   "source": [
    "np.random.seed(0)"
   ]
  },
  {
   "cell_type": "code",
   "execution_count": 109,
   "id": "98beabda-1fb8-412e-af57-04387ebec124",
   "metadata": {},
   "outputs": [
    {
     "data": {
      "text/plain": [
       "array([0.5488135 , 0.71518937, 0.60276338, 0.54488318, 0.4236548 ])"
      ]
     },
     "execution_count": 109,
     "metadata": {},
     "output_type": "execute_result"
    }
   ],
   "source": [
    "np.random.rand(5)"
   ]
  },
  {
   "cell_type": "code",
   "execution_count": 110,
   "id": "103d4b70-82d7-4cac-bb69-36b874105898",
   "metadata": {},
   "outputs": [
    {
     "data": {
      "text/plain": [
       "array([0.64589411, 0.43758721, 0.891773  , 0.96366276, 0.38344152])"
      ]
     },
     "execution_count": 110,
     "metadata": {},
     "output_type": "execute_result"
    }
   ],
   "source": [
    "np.random.rand(5)"
   ]
  },
  {
   "cell_type": "code",
   "execution_count": 111,
   "id": "85277072-cc55-41a2-b7f0-882f0065ba35",
   "metadata": {},
   "outputs": [],
   "source": [
    "np.random.seed(0)"
   ]
  },
  {
   "cell_type": "code",
   "execution_count": 112,
   "id": "71e9c658-7d76-4588-8539-f7f24a2f4104",
   "metadata": {},
   "outputs": [
    {
     "data": {
      "text/plain": [
       "array([0.5488135 , 0.71518937, 0.60276338, 0.54488318, 0.4236548 ])"
      ]
     },
     "execution_count": 112,
     "metadata": {},
     "output_type": "execute_result"
    }
   ],
   "source": [
    "np.random.rand(5)"
   ]
  },
  {
   "cell_type": "markdown",
   "id": "bb0f3755-ec94-4e52-af4e-422a888f167c",
   "metadata": {},
   "source": [
    "시드에 따라 정확히 같은 값이 나오는 것을 알 수 있다. choice()를 사용하면 임의의 array element를 추출할 수 있다. \n",
    "\n",
    "rand, randn, randint가 가장 많이 쓰이는데 각각 0부터 1까지, 표준 정규분포, 임의의 구간의 정수를 반환한다."
   ]
  },
  {
   "cell_type": "code",
   "execution_count": 122,
   "id": "5887632e-1cf3-4905-aedf-b8f944a0252e",
   "metadata": {},
   "outputs": [
    {
     "data": {
      "text/plain": [
       "0.56"
      ]
     },
     "execution_count": 122,
     "metadata": {},
     "output_type": "execute_result"
    }
   ],
   "source": [
    "np.random.seed(0)\n",
    "k = np.random.randint(0, 2, 100)\n",
    "np.mean(k)"
   ]
  },
  {
   "cell_type": "markdown",
   "id": "4fc6c3d8-63b7-4224-909c-042465599d72",
   "metadata": {},
   "source": [
    "unique()함수는 데이터에서 중복된 값을 제거하고 중복되지 않는 값의 리스트를 출력한다. return_counts 인수를 True로 설정하면 각 값의 데이터 개수도 출력한다. 그러나 이는 데이터에 존재하는 값에대해서만 개수를 세므로 데이터 값이 나올 수 있음에도 불구하고 데이터가 하나도 없는 경우에는 정보를 주지 않는다. 따라서 특정 범위 안의 수인 겨웅에는 bincount 함수에 minlength 인수를 설정하여 쓰는 것이 더 편리하다. bincount 함수는 0부터 minlength-1까지의 숫자에 대해 각각 카운트를 한다."
   ]
  },
  {
   "cell_type": "code",
   "execution_count": null,
   "id": "c8e6a8a5-8925-43ab-a2c0-28d371655248",
   "metadata": {},
   "outputs": [],
   "source": []
  }
 ],
 "metadata": {
  "kernelspec": {
   "display_name": "Python 3 (ipykernel)",
   "language": "python",
   "name": "python3"
  },
  "language_info": {
   "codemirror_mode": {
    "name": "ipython",
    "version": 3
   },
   "file_extension": ".py",
   "mimetype": "text/x-python",
   "name": "python",
   "nbconvert_exporter": "python",
   "pygments_lexer": "ipython3",
   "version": "3.9.16"
  }
 },
 "nbformat": 4,
 "nbformat_minor": 5
}
