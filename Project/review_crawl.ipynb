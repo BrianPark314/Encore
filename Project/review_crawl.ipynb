{
 "cells": [
  {
   "cell_type": "code",
   "execution_count": 14,
   "id": "c01de344-a548-47f5-96e3-78f5ea6e2d00",
   "metadata": {},
   "outputs": [],
   "source": [
    "from bs4 import BeautifulSoup\n",
    "import requests\n",
    "\n",
    "def search(s) : \n",
    "    movie = s\n",
    "    url = f'https://movie.naver.com/movie/search/result.naver?query={movie}&section=all&ie=utf8'\n",
    "    res = requests.get(url)\n",
    "    index = 1\n",
    "    user_dic = {}\n",
    "    if res.status_code == 200:\n",
    "        soup=BeautifulSoup(res.text,'lxml')\n",
    "        if soup.find(\"ul\", class_=\"search_list_1\") is None:\n",
    "            print('결과가 없습니다.')\n",
    "            return ''\n",
    "        for href in soup.find(\"ul\", class_=\"search_list_1\").find_all(\"li\"): \n",
    "            print(f\"=============={index}번 영화===============\")\n",
    "            print(href.dl.text[:-2])\n",
    "            user_dic[index] = int(href.dl.dt.a['href'][30:])\n",
    "            index = index+1\n",
    "    movie_num = int(input(\"몇 번 영화를 선택하시겠습니까? (숫자만 입력)  : \"))\n",
    "    code = user_dic[movie_num]\n",
    "    base_url = f'https://movie.naver.com/movie/bi/mi/pointWriteFormList.nhn?code={code}&type=after&onlyActualPointYn=N&onlySpoilerPointYn=N&order=sympathyScore&page='\n",
    "    return base_url+'{}'\n",
    "    #페이지 포매팅하기 위함"
   ]
  },
  {
   "cell_type": "code",
   "execution_count": 17,
   "id": "dac8c427-d63b-45df-a54e-1fea21905589",
   "metadata": {},
   "outputs": [],
   "source": [
    "movie_list_19 = ['극한직업', '기생충', '엑시트', '봉오동전투', '나쁜녀석들:더무비', '82년생 김지영', '돈', '악인전', '가장보통의연애', '말모이',\n",
    "           '증인', '블랙머니', '사바하', '타짜: 원 아이드 잭', '신의한수:귀수편', '내안의 그놈', '뺑반', '변신', '걸캅스', '사자',\n",
    "           '나의 특별한 형제', '퍼펙트맨', '생일', '힘을 내요, 미스터 리', '항거:유관순이야기', '장사리:잊혀진 영웅들', '롱 리브 더 킹: 목포 영웅', '나랏말싸미', '레드슈즈'\n",
    "           , '광대들:풍문조작단', '나를 찾아줘', '양자물리학', '러브 유어셀프 인 서울', '감쪽같은 그녀', '브링 더 소울: 더 무비',\n",
    "           '미성년', '배심원들', '기방도령', '기묘한 가족', '악질경찰', '어린의뢰인', '비스트', '언니', '언더독']"
   ]
  },
  {
   "cell_type": "code",
   "execution_count": 10,
   "id": "d35b82c6-7ac8-427d-aba0-66901d355079",
   "metadata": {},
   "outputs": [],
   "source": [
    "url_list_19 = []"
   ]
  },
  {
   "cell_type": "code",
   "execution_count": null,
   "id": "72192a81-3666-4cfe-990e-c321c9a7c577",
   "metadata": {},
   "outputs": [],
   "source": [
    "for s in movie_list_19:\n",
    "    url_list_19.append(search(s))"
   ]
  },
  {
   "cell_type": "code",
   "execution_count": null,
   "id": "e73e5392-f48b-400d-bddb-3527e64938de",
   "metadata": {},
   "outputs": [],
   "source": [
    "for s in movie_list_19[len(url_list_19):]:\n",
    "    url_list_19.append(search(s))"
   ]
  },
  {
   "cell_type": "code",
   "execution_count": 16,
   "id": "7c5a1b86-d9b8-41c0-95d8-3b60e5930ff7",
   "metadata": {},
   "outputs": [
    {
     "data": {
      "text/plain": [
       "45"
      ]
     },
     "execution_count": 16,
     "metadata": {},
     "output_type": "execute_result"
    }
   ],
   "source": [
    "len(url_list_19)"
   ]
  },
  {
   "cell_type": "code",
   "execution_count": 25,
   "id": "e8bdc55e-73de-45d8-b225-1d2d17176a34",
   "metadata": {},
   "outputs": [],
   "source": [
    "import re\n",
    "import pandas as pd\n",
    "import requests\n",
    "from tqdm import tqdm\n",
    "from bs4 import BeautifulSoup\n",
    "import time"
   ]
  },
  {
   "cell_type": "code",
   "execution_count": 76,
   "id": "42110b75-e955-4bf0-90e0-f646b1fb5be8",
   "metadata": {},
   "outputs": [],
   "source": [
    "import gc"
   ]
  },
  {
   "cell_type": "code",
   "execution_count": 79,
   "id": "52f7b058-2eff-4d8b-80f6-4dc9f7a7b758",
   "metadata": {},
   "outputs": [],
   "source": [
    "def crawl_review(base_url):\n",
    "    gc.collect()\n",
    "    try:\n",
    "        def no_space(text):\n",
    "            text1 = re.sub('&nbsp;|&nbsp;|\\n|\\t|\\r', '', text)\n",
    "            text2 = re.sub('\\n\\n','', text1)\n",
    "            return text2\n",
    "        res = requests.get(base_url)\n",
    "        if res.status_code == 200:\n",
    "            soup=BeautifulSoup(res.text,'lxml')\n",
    "            total = soup.select('div.score_total > strong > em')[0].text\n",
    "            pages = int(total.replace(',','')[:-1]) #17,921 > 17921로 변환 후 캐스팅\n",
    "            print(f\"{pages}개의 페이지에서 리뷰를 모으고 있습니다.\")\n",
    "            time.sleep(1)\n",
    "        comments = []\n",
    "        stars = []\n",
    "        for page in tqdm(range(1,101)):\n",
    "            url = base_url.format(page)\n",
    "            res = requests.get(url)\n",
    "            if res.status_code == 200:\n",
    "                soup=BeautifulSoup(res.text,'lxml')\n",
    "                star =  soup.select('div.score_result > ul > li > div.star_score > em')\n",
    "                tds = soup.select('div.score_result > ul > li > div.score_reple > p > span')\n",
    "                for st in star:\n",
    "                    stars.append(int(st.text))\n",
    "                for cmt in tds:\n",
    "                    if cmt.text != '관람객' and cmt.text !='스포일러가 포함된 감상평입니다. 감상평 보기':\n",
    "                        comments.append(no_space(cmt.text))\n",
    "                if(len(comments) != len(stars)):\n",
    "                    print(url)\n",
    "                    break\n",
    "            gc.collect()\n",
    "        assert len(comments) == len(stars)\n",
    "        df = pd.DataFrame({\"Review\":comments, \"Rank\":stars})\n",
    "        return df\n",
    "    except:\n",
    "        return pd.DataFrame({})\n",
    "def save_and_load(dataframe):\n",
    "    basepath = 'data/'\n",
    "    dataframe.to_csv(basepath+'주토피아review.csv' , index= False)\n",
    "    df = pdr.read_csv(basepath+'주토피아.csv')\n",
    "    return df"
   ]
  },
  {
   "cell_type": "code",
   "execution_count": 54,
   "id": "a34c04c9-5e28-4391-b5e4-8b3b2801786e",
   "metadata": {
    "collapsed": true,
    "jupyter": {
     "outputs_hidden": true
    },
    "tags": []
   },
   "outputs": [
    {
     "name": "stdout",
     "output_type": "stream",
     "text": [
      "==============1번 영화===============\n",
      "\n",
      "알라딘 (Aladdin)\n",
      "\n",
      "9.38 (참여 27621명)\n",
      "\n",
      "모험, 가족, 판타지, 뮤지컬, 멜로/로맨스| 미국|128분 |2019\n",
      "감독 : 가이 리치|출연 : 메나 마수드, 윌 스미스, 나오미 스콧\n",
      "\n",
      "\n",
      "==============2번 영화===============\n",
      "\n",
      "알라딘 2 (Alad'2)\n",
      "코미디, 드라마| 프랑스|97분 |2018\n",
      "감독 : 리오넬 스테케티|출연 : 케브 아담스, 자멜 드부즈, 바네사 가이드, 에릭 쥬도르, 람지 베디아\n",
      "\n",
      "\n",
      "==============3번 영화===============\n",
      "\n",
      "알라딘: 바그다드 스캔들 (Les Nouvelles aventures d'Aladin)\n",
      "모험, 코미디| 프랑스|107분 |2014\n",
      "감독 : 아서 벤자쿠엔|출연 : 케브 아담스, 장 폴 루브, 바네사 가이드, 오드리 라미, 에릭 쥬도르, 미셀 블랑, 윌리엄 레브길\n",
      "\n",
      "\n",
      "==============4번 영화===============\n",
      "\n",
      "알라딘 (Aladin)\n",
      "모험| 인도|132분 |2009\n",
      "감독 : 수조이 고쉬|출연 : 아미타브 밧찬, 리테쉬 데쉬무크\n",
      "\n",
      "==============5번 영화===============\n",
      "\n",
      "알라딘 (A Kid In Aladdin's Palace)\n",
      "미국|89분 |1997\n",
      "감독 : 로버트 L. 레비|출연 : 토마스 이안 니콜라스, 로나 미트라\n",
      "\n"
     ]
    },
    {
     "name": "stdin",
     "output_type": "stream",
     "text": [
      "몇 번 영화를 선택하시겠습니까? (숫자만 입력)  :  1\n"
     ]
    },
    {
     "data": {
      "text/plain": [
       "'https://movie.naver.com/movie/bi/mi/pointWriteFormList.nhn?code=163788&type=after&onlyActualPointYn=N&onlySpoilerPointYn=N&order=sympathyScore&page={}'"
      ]
     },
     "execution_count": 54,
     "metadata": {},
     "output_type": "execute_result"
    }
   ],
   "source": [
    "search('알라딘')"
   ]
  },
  {
   "cell_type": "code",
   "execution_count": 38,
   "id": "b80d2afb-2cde-49e3-9ee0-0fecff7c912e",
   "metadata": {},
   "outputs": [],
   "source": [
    "boxoffice_22_df = pd.read_csv('Data/boxoffice_22.csv', index_col='순위')\n",
    "boxoffice_19_df = pd.read_csv('Data/boxoffice_19.csv', index_col='순위')"
   ]
  },
  {
   "cell_type": "code",
   "execution_count": 39,
   "id": "67822f85-aa68-4d36-a321-1b8619fc7fa5",
   "metadata": {},
   "outputs": [],
   "source": [
    "movie_list_22 = list(boxoffice_22_df['영화명'])\n",
    "movie_list_19 = list(boxoffice_19_df['영화명'])"
   ]
  },
  {
   "cell_type": "code",
   "execution_count": 43,
   "id": "e2e362ac-2d8a-4760-8946-ce1411a324cc",
   "metadata": {},
   "outputs": [],
   "source": [
    "url_list_22 = []\n",
    "url_list_19 = []"
   ]
  },
  {
   "cell_type": "code",
   "execution_count": 55,
   "id": "2cd4a15c-767d-4864-afcd-f3a2c44393c4",
   "metadata": {},
   "outputs": [],
   "source": [
    "url_list_19[3]='https://movie.naver.com/movie/bi/mi/pointWriteFormList.nhn?code=163788&type=after&onlyActualPointYn=N&onlySpoilerPointYn=N&order=sympathyScore&page={}'"
   ]
  },
  {
   "cell_type": "code",
   "execution_count": 56,
   "id": "9a3abb02-edb5-431e-9c69-28ae8fdc31a8",
   "metadata": {},
   "outputs": [
    {
     "data": {
      "text/plain": [
       "'https://movie.naver.com/movie/bi/mi/pointWriteFormList.nhn?code=163788&type=after&onlyActualPointYn=N&onlySpoilerPointYn=N&order=sympathyScore&page={}'"
      ]
     },
     "execution_count": 56,
     "metadata": {},
     "output_type": "execute_result"
    }
   ],
   "source": [
    "url_list_19[3]"
   ]
  },
  {
   "cell_type": "code",
   "execution_count": null,
   "id": "a96bb794-ec5a-408d-b6f5-2d4ce118aa03",
   "metadata": {
    "tags": []
   },
   "outputs": [],
   "source": [
    "for s in movie_list_19:\n",
    "    url_list_19.append(search(s))"
   ]
  },
  {
   "cell_type": "code",
   "execution_count": 46,
   "id": "c006b661-9e1a-4c21-86cc-a3cb33f840df",
   "metadata": {},
   "outputs": [
    {
     "data": {
      "text/plain": [
       "49"
      ]
     },
     "execution_count": 46,
     "metadata": {},
     "output_type": "execute_result"
    }
   ],
   "source": [
    "len(url_list_19)"
   ]
  },
  {
   "cell_type": "code",
   "execution_count": 80,
   "id": "c0b83184-f03f-4af2-9d8e-0d36d65f558c",
   "metadata": {
    "collapsed": true,
    "jupyter": {
     "outputs_hidden": true
    },
    "tags": []
   },
   "outputs": [
    {
     "name": "stdout",
     "output_type": "stream",
     "text": [
      "4719개의 페이지에서 리뷰를 모으고 있습니다.\n"
     ]
    },
    {
     "name": "stderr",
     "output_type": "stream",
     "text": [
      "100%|█████████████████████████████████████████| 100/100 [00:37<00:00,  2.67it/s]\n"
     ]
    },
    {
     "name": "stdout",
     "output_type": "stream",
     "text": [
      "6889개의 페이지에서 리뷰를 모으고 있습니다.\n"
     ]
    },
    {
     "name": "stderr",
     "output_type": "stream",
     "text": [
      "100%|█████████████████████████████████████████| 100/100 [00:22<00:00,  4.50it/s]\n"
     ]
    },
    {
     "name": "stdout",
     "output_type": "stream",
     "text": [
      "2363개의 페이지에서 리뷰를 모으고 있습니다.\n"
     ]
    },
    {
     "name": "stderr",
     "output_type": "stream",
     "text": [
      "100%|█████████████████████████████████████████| 100/100 [00:22<00:00,  4.47it/s]\n"
     ]
    },
    {
     "name": "stdout",
     "output_type": "stream",
     "text": [
      "2735개의 페이지에서 리뷰를 모으고 있습니다.\n"
     ]
    },
    {
     "name": "stderr",
     "output_type": "stream",
     "text": [
      "100%|█████████████████████████████████████████| 100/100 [00:19<00:00,  5.08it/s]\n"
     ]
    },
    {
     "name": "stdout",
     "output_type": "stream",
     "text": [
      "3681개의 페이지에서 리뷰를 모으고 있습니다.\n"
     ]
    },
    {
     "name": "stderr",
     "output_type": "stream",
     "text": [
      "100%|█████████████████████████████████████████| 100/100 [00:23<00:00,  4.33it/s]\n"
     ]
    },
    {
     "name": "stdout",
     "output_type": "stream",
     "text": [
      "2863개의 페이지에서 리뷰를 모으고 있습니다.\n"
     ]
    },
    {
     "name": "stderr",
     "output_type": "stream",
     "text": [
      "100%|█████████████████████████████████████████| 100/100 [00:19<00:00,  5.01it/s]\n"
     ]
    },
    {
     "name": "stdout",
     "output_type": "stream",
     "text": [
      "1384개의 페이지에서 리뷰를 모으고 있습니다.\n"
     ]
    },
    {
     "name": "stderr",
     "output_type": "stream",
     "text": [
      "100%|█████████████████████████████████████████| 100/100 [00:21<00:00,  4.65it/s]\n"
     ]
    },
    {
     "name": "stdout",
     "output_type": "stream",
     "text": [
      "3062개의 페이지에서 리뷰를 모으고 있습니다.\n"
     ]
    },
    {
     "name": "stderr",
     "output_type": "stream",
     "text": [
      "100%|█████████████████████████████████████████| 100/100 [00:21<00:00,  4.55it/s]\n"
     ]
    },
    {
     "name": "stdout",
     "output_type": "stream",
     "text": [
      "3536개의 페이지에서 리뷰를 모으고 있습니다.\n"
     ]
    },
    {
     "name": "stderr",
     "output_type": "stream",
     "text": [
      "100%|█████████████████████████████████████████| 100/100 [00:23<00:00,  4.23it/s]\n"
     ]
    },
    {
     "name": "stdout",
     "output_type": "stream",
     "text": [
      "3019개의 페이지에서 리뷰를 모으고 있습니다.\n"
     ]
    },
    {
     "name": "stderr",
     "output_type": "stream",
     "text": [
      "100%|█████████████████████████████████████████| 100/100 [00:22<00:00,  4.45it/s]\n"
     ]
    },
    {
     "name": "stdout",
     "output_type": "stream",
     "text": [
      "2468개의 페이지에서 리뷰를 모으고 있습니다.\n"
     ]
    },
    {
     "name": "stderr",
     "output_type": "stream",
     "text": [
      "100%|█████████████████████████████████████████| 100/100 [00:19<00:00,  5.07it/s]\n"
     ]
    },
    {
     "name": "stdout",
     "output_type": "stream",
     "text": [
      "911개의 페이지에서 리뷰를 모으고 있습니다.\n"
     ]
    },
    {
     "name": "stderr",
     "output_type": "stream",
     "text": [
      "100%|█████████████████████████████████████████| 100/100 [00:21<00:00,  4.60it/s]\n"
     ]
    },
    {
     "name": "stdout",
     "output_type": "stream",
     "text": [
      "1025개의 페이지에서 리뷰를 모으고 있습니다.\n"
     ]
    },
    {
     "name": "stderr",
     "output_type": "stream",
     "text": [
      "100%|█████████████████████████████████████████| 100/100 [00:19<00:00,  5.22it/s]\n"
     ]
    },
    {
     "name": "stdout",
     "output_type": "stream",
     "text": [
      "5023개의 페이지에서 리뷰를 모으고 있습니다.\n"
     ]
    },
    {
     "name": "stderr",
     "output_type": "stream",
     "text": [
      "100%|█████████████████████████████████████████| 100/100 [00:23<00:00,  4.28it/s]\n"
     ]
    },
    {
     "name": "stdout",
     "output_type": "stream",
     "text": [
      "848개의 페이지에서 리뷰를 모으고 있습니다.\n"
     ]
    },
    {
     "name": "stderr",
     "output_type": "stream",
     "text": [
      "100%|█████████████████████████████████████████| 100/100 [00:20<00:00,  4.86it/s]\n"
     ]
    },
    {
     "name": "stdout",
     "output_type": "stream",
     "text": [
      "711개의 페이지에서 리뷰를 모으고 있습니다.\n"
     ]
    },
    {
     "name": "stderr",
     "output_type": "stream",
     "text": [
      "100%|█████████████████████████████████████████| 100/100 [00:19<00:00,  5.22it/s]\n"
     ]
    },
    {
     "name": "stdout",
     "output_type": "stream",
     "text": [
      "1050개의 페이지에서 리뷰를 모으고 있습니다.\n"
     ]
    },
    {
     "name": "stderr",
     "output_type": "stream",
     "text": [
      "100%|█████████████████████████████████████████| 100/100 [00:19<00:00,  5.21it/s]\n"
     ]
    },
    {
     "name": "stdout",
     "output_type": "stream",
     "text": [
      "1201개의 페이지에서 리뷰를 모으고 있습니다.\n"
     ]
    },
    {
     "name": "stderr",
     "output_type": "stream",
     "text": [
      "100%|█████████████████████████████████████████| 100/100 [00:21<00:00,  4.75it/s]\n"
     ]
    },
    {
     "name": "stdout",
     "output_type": "stream",
     "text": [
      "784개의 페이지에서 리뷰를 모으고 있습니다.\n"
     ]
    },
    {
     "name": "stderr",
     "output_type": "stream",
     "text": [
      "100%|█████████████████████████████████████████| 100/100 [00:18<00:00,  5.33it/s]\n"
     ]
    },
    {
     "name": "stdout",
     "output_type": "stream",
     "text": [
      "1542개의 페이지에서 리뷰를 모으고 있습니다.\n"
     ]
    },
    {
     "name": "stderr",
     "output_type": "stream",
     "text": [
      "100%|█████████████████████████████████████████| 100/100 [00:21<00:00,  4.60it/s]\n"
     ]
    },
    {
     "name": "stdout",
     "output_type": "stream",
     "text": [
      "1299개의 페이지에서 리뷰를 모으고 있습니다.\n"
     ]
    },
    {
     "name": "stderr",
     "output_type": "stream",
     "text": [
      "100%|█████████████████████████████████████████| 100/100 [00:19<00:00,  5.21it/s]\n"
     ]
    },
    {
     "name": "stdout",
     "output_type": "stream",
     "text": [
      "1066개의 페이지에서 리뷰를 모으고 있습니다.\n"
     ]
    },
    {
     "name": "stderr",
     "output_type": "stream",
     "text": [
      "100%|█████████████████████████████████████████| 100/100 [00:20<00:00,  4.78it/s]\n"
     ]
    },
    {
     "name": "stdout",
     "output_type": "stream",
     "text": [
      "657개의 페이지에서 리뷰를 모으고 있습니다.\n"
     ]
    },
    {
     "name": "stderr",
     "output_type": "stream",
     "text": [
      "100%|█████████████████████████████████████████| 100/100 [00:18<00:00,  5.34it/s]\n"
     ]
    },
    {
     "name": "stdout",
     "output_type": "stream",
     "text": [
      "1075개의 페이지에서 리뷰를 모으고 있습니다.\n"
     ]
    },
    {
     "name": "stderr",
     "output_type": "stream",
     "text": [
      "100%|█████████████████████████████████████████| 100/100 [00:20<00:00,  4.77it/s]\n"
     ]
    },
    {
     "name": "stdout",
     "output_type": "stream",
     "text": [
      "1471개의 페이지에서 리뷰를 모으고 있습니다.\n"
     ]
    },
    {
     "name": "stderr",
     "output_type": "stream",
     "text": [
      "100%|█████████████████████████████████████████| 100/100 [00:19<00:00,  5.26it/s]\n"
     ]
    },
    {
     "name": "stdout",
     "output_type": "stream",
     "text": [
      "1263개의 페이지에서 리뷰를 모으고 있습니다.\n"
     ]
    },
    {
     "name": "stderr",
     "output_type": "stream",
     "text": [
      "100%|█████████████████████████████████████████| 100/100 [00:21<00:00,  4.68it/s]\n"
     ]
    },
    {
     "name": "stdout",
     "output_type": "stream",
     "text": [
      "873개의 페이지에서 리뷰를 모으고 있습니다.\n"
     ]
    },
    {
     "name": "stderr",
     "output_type": "stream",
     "text": [
      "100%|█████████████████████████████████████████| 100/100 [00:18<00:00,  5.37it/s]\n"
     ]
    },
    {
     "name": "stdout",
     "output_type": "stream",
     "text": [
      "1444개의 페이지에서 리뷰를 모으고 있습니다.\n"
     ]
    },
    {
     "name": "stderr",
     "output_type": "stream",
     "text": [
      "100%|█████████████████████████████████████████| 100/100 [00:19<00:00,  5.26it/s]\n"
     ]
    },
    {
     "name": "stdout",
     "output_type": "stream",
     "text": [
      "1183개의 페이지에서 리뷰를 모으고 있습니다.\n"
     ]
    },
    {
     "name": "stderr",
     "output_type": "stream",
     "text": [
      "100%|█████████████████████████████████████████| 100/100 [00:20<00:00,  4.82it/s]\n"
     ]
    },
    {
     "name": "stdout",
     "output_type": "stream",
     "text": [
      "1278개의 페이지에서 리뷰를 모으고 있습니다.\n"
     ]
    },
    {
     "name": "stderr",
     "output_type": "stream",
     "text": [
      "100%|█████████████████████████████████████████| 100/100 [00:20<00:00,  4.93it/s]\n"
     ]
    },
    {
     "name": "stdout",
     "output_type": "stream",
     "text": [
      "1159개의 페이지에서 리뷰를 모으고 있습니다.\n"
     ]
    },
    {
     "name": "stderr",
     "output_type": "stream",
     "text": [
      "100%|█████████████████████████████████████████| 100/100 [00:21<00:00,  4.65it/s]\n"
     ]
    },
    {
     "name": "stdout",
     "output_type": "stream",
     "text": [
      "454개의 페이지에서 리뷰를 모으고 있습니다.\n"
     ]
    },
    {
     "name": "stderr",
     "output_type": "stream",
     "text": [
      "100%|█████████████████████████████████████████| 100/100 [00:19<00:00,  5.16it/s]\n"
     ]
    },
    {
     "name": "stdout",
     "output_type": "stream",
     "text": [
      "4415개의 페이지에서 리뷰를 모으고 있습니다.\n"
     ]
    },
    {
     "name": "stderr",
     "output_type": "stream",
     "text": [
      "100%|█████████████████████████████████████████| 100/100 [00:22<00:00,  4.43it/s]\n"
     ]
    },
    {
     "name": "stdout",
     "output_type": "stream",
     "text": [
      "1359개의 페이지에서 리뷰를 모으고 있습니다.\n"
     ]
    },
    {
     "name": "stderr",
     "output_type": "stream",
     "text": [
      "100%|█████████████████████████████████████████| 100/100 [00:22<00:00,  4.41it/s]\n"
     ]
    },
    {
     "name": "stdout",
     "output_type": "stream",
     "text": [
      "1941개의 페이지에서 리뷰를 모으고 있습니다.\n"
     ]
    },
    {
     "name": "stderr",
     "output_type": "stream",
     "text": [
      "100%|█████████████████████████████████████████| 100/100 [00:19<00:00,  5.05it/s]\n"
     ]
    },
    {
     "name": "stdout",
     "output_type": "stream",
     "text": [
      "399개의 페이지에서 리뷰를 모으고 있습니다.\n"
     ]
    },
    {
     "name": "stderr",
     "output_type": "stream",
     "text": [
      "100%|█████████████████████████████████████████| 100/100 [00:21<00:00,  4.65it/s]\n"
     ]
    },
    {
     "name": "stdout",
     "output_type": "stream",
     "text": [
      "496개의 페이지에서 리뷰를 모으고 있습니다.\n"
     ]
    },
    {
     "name": "stderr",
     "output_type": "stream",
     "text": [
      "100%|█████████████████████████████████████████| 100/100 [00:19<00:00,  5.12it/s]\n"
     ]
    },
    {
     "name": "stdout",
     "output_type": "stream",
     "text": [
      "1097개의 페이지에서 리뷰를 모으고 있습니다.\n"
     ]
    },
    {
     "name": "stderr",
     "output_type": "stream",
     "text": [
      "100%|█████████████████████████████████████████| 100/100 [00:21<00:00,  4.64it/s]\n"
     ]
    },
    {
     "name": "stdout",
     "output_type": "stream",
     "text": [
      "430개의 페이지에서 리뷰를 모으고 있습니다.\n"
     ]
    },
    {
     "name": "stderr",
     "output_type": "stream",
     "text": [
      "100%|█████████████████████████████████████████| 100/100 [00:19<00:00,  5.24it/s]\n"
     ]
    },
    {
     "name": "stdout",
     "output_type": "stream",
     "text": [
      "925개의 페이지에서 리뷰를 모으고 있습니다.\n"
     ]
    },
    {
     "name": "stderr",
     "output_type": "stream",
     "text": [
      "100%|█████████████████████████████████████████| 100/100 [00:21<00:00,  4.55it/s]\n"
     ]
    },
    {
     "name": "stdout",
     "output_type": "stream",
     "text": [
      "544개의 페이지에서 리뷰를 모으고 있습니다.\n"
     ]
    },
    {
     "name": "stderr",
     "output_type": "stream",
     "text": [
      "100%|█████████████████████████████████████████| 100/100 [00:19<00:00,  5.23it/s]\n"
     ]
    },
    {
     "name": "stdout",
     "output_type": "stream",
     "text": [
      "824개의 페이지에서 리뷰를 모으고 있습니다.\n"
     ]
    },
    {
     "name": "stderr",
     "output_type": "stream",
     "text": [
      "100%|█████████████████████████████████████████| 100/100 [00:21<00:00,  4.60it/s]\n"
     ]
    },
    {
     "name": "stdout",
     "output_type": "stream",
     "text": [
      "636개의 페이지에서 리뷰를 모으고 있습니다.\n"
     ]
    },
    {
     "name": "stderr",
     "output_type": "stream",
     "text": [
      "100%|█████████████████████████████████████████| 100/100 [00:19<00:00,  5.19it/s]\n"
     ]
    },
    {
     "name": "stdout",
     "output_type": "stream",
     "text": [
      "610개의 페이지에서 리뷰를 모으고 있습니다.\n"
     ]
    },
    {
     "name": "stderr",
     "output_type": "stream",
     "text": [
      "100%|█████████████████████████████████████████| 100/100 [00:21<00:00,  4.65it/s]\n"
     ]
    },
    {
     "name": "stdout",
     "output_type": "stream",
     "text": [
      "740개의 페이지에서 리뷰를 모으고 있습니다.\n"
     ]
    },
    {
     "name": "stderr",
     "output_type": "stream",
     "text": [
      "100%|█████████████████████████████████████████| 100/100 [00:19<00:00,  5.18it/s]\n"
     ]
    },
    {
     "name": "stdout",
     "output_type": "stream",
     "text": [
      "662개의 페이지에서 리뷰를 모으고 있습니다.\n"
     ]
    },
    {
     "name": "stderr",
     "output_type": "stream",
     "text": [
      "100%|█████████████████████████████████████████| 100/100 [00:21<00:00,  4.62it/s]\n"
     ]
    },
    {
     "name": "stdout",
     "output_type": "stream",
     "text": [
      "192개의 페이지에서 리뷰를 모으고 있습니다.\n"
     ]
    },
    {
     "name": "stderr",
     "output_type": "stream",
     "text": [
      "100%|█████████████████████████████████████████| 100/100 [00:18<00:00,  5.27it/s]\n"
     ]
    },
    {
     "name": "stdout",
     "output_type": "stream",
     "text": [
      "881개의 페이지에서 리뷰를 모으고 있습니다.\n"
     ]
    },
    {
     "name": "stderr",
     "output_type": "stream",
     "text": [
      "100%|█████████████████████████████████████████| 100/100 [00:21<00:00,  4.56it/s]\n"
     ]
    },
    {
     "name": "stdout",
     "output_type": "stream",
     "text": [
      "182개의 페이지에서 리뷰를 모으고 있습니다.\n"
     ]
    },
    {
     "name": "stderr",
     "output_type": "stream",
     "text": [
      "100%|█████████████████████████████████████████| 100/100 [00:18<00:00,  5.44it/s]\n"
     ]
    }
   ],
   "source": [
    "for i, s in enumerate(url_list_19):\n",
    "    if s=='': continue\n",
    "    df = crawl_review(s)\n",
    "    df.to_csv(f'Data/review_2019/{i}_review.csv', encoding='utf-8')"
   ]
  },
  {
   "cell_type": "code",
   "execution_count": 59,
   "id": "75bb8f66-a75d-4c6e-b1b9-0326307d3eb2",
   "metadata": {
    "collapsed": true,
    "jupyter": {
     "outputs_hidden": true
    },
    "tags": []
   },
   "outputs": [
    {
     "name": "stdout",
     "output_type": "stream",
     "text": [
      "==============1번 영화===============\n",
      "\n",
      "범죄도시2 (the roundup)\n",
      "\n",
      "9.30 (참여 27674명)\n",
      "\n",
      "범죄, 액션| 대한민국|106분 |2022\n",
      "감독 : 이상용|출연 : 마동석, 손석구, 최귀화\n",
      "\n",
      "\n"
     ]
    },
    {
     "name": "stdin",
     "output_type": "stream",
     "text": [
      "몇 번 영화를 선택하시겠습니까? (숫자만 입력)  :  1\n"
     ]
    },
    {
     "name": "stdout",
     "output_type": "stream",
     "text": [
      "==============1번 영화===============\n",
      "\n",
      "탑건: 매버릭 (Top Gun: Maverick)\n",
      "\n",
      "9.76 (참여 42786명)\n",
      "\n",
      "액션| 미국|130분 |2021\n",
      "감독 : 조셉 코신스키|출연 : 톰 크루즈, 제니퍼 코넬리, 마일즈 텔러\n",
      "\n",
      "\n",
      "\n"
     ]
    },
    {
     "name": "stdin",
     "output_type": "stream",
     "text": [
      "몇 번 영화를 선택하시겠습니까? (숫자만 입력)  :  1\n"
     ]
    },
    {
     "name": "stdout",
     "output_type": "stream",
     "text": [
      "==============1번 영화===============\n",
      "\n",
      "아바타: 물의 길 (Avatar: The Way of Water)\n",
      "\n",
      "8.65 (참여 25041명)\n",
      "\n",
      "액션, 모험, SF, 스릴러| 미국|192분 |2022\n",
      "감독 : 제임스 카메론|출연 : 시고니 위버, 스티븐 랭, 조 샐다나, 샘 워싱턴, 우나 채플린, 케이트 윈슬렛, 지오바니 리비시\n",
      "\n",
      "\n"
     ]
    },
    {
     "name": "stdin",
     "output_type": "stream",
     "text": [
      "몇 번 영화를 선택하시겠습니까? (숫자만 입력)  :  1\n"
     ]
    },
    {
     "name": "stdout",
     "output_type": "stream",
     "text": [
      "==============1번 영화===============\n",
      "\n",
      "한산: 용의 출현 (Hansan: Rising Dragon)\n",
      "\n",
      "8.74 (참여 27454명)\n",
      "\n",
      "액션, 드라마| 대한민국|129분 |2021\n",
      "감독 : 김한민|출연 : 박해일, 변요한, 안성기, 손현주, 김성규, 김성균, 김향기, 택연, 공명, 박지환, 조재윤\n",
      "\n",
      "==============2번 영화===============\n",
      "\n",
      "한산 리덕스\n",
      "\n",
      "8.57 (참여 346명)\n",
      "\n",
      "액션, 드라마| 대한민국|150분 |2021\n",
      "감독 : 김한민|출연 : 박해일, 변요한, 안성기, 손현주, 김성규, 김성균, 김향기, 택연, 공명, 박지환, 조재윤\n",
      "\n",
      "\n"
     ]
    },
    {
     "name": "stdin",
     "output_type": "stream",
     "text": [
      "몇 번 영화를 선택하시겠습니까? (숫자만 입력)  :  1\n"
     ]
    },
    {
     "name": "stdout",
     "output_type": "stream",
     "text": [
      "==============1번 영화===============\n",
      "\n",
      "공조2: 인터내셔날 (Confidential Assignment2: International)\n",
      "\n",
      "8.32 (참여 13223명)\n",
      "\n",
      "액션, 코미디| 대한민국|129분 |2021\n",
      "감독 : 이석훈|출연 : 현빈, 유해진, 윤아, 다니엘 헤니, 진선규\n",
      "\n",
      "\n"
     ]
    },
    {
     "name": "stdin",
     "output_type": "stream",
     "text": [
      "몇 번 영화를 선택하시겠습니까? (숫자만 입력)  :  1\n"
     ]
    },
    {
     "name": "stdout",
     "output_type": "stream",
     "text": [
      "==============1번 영화===============\n",
      "\n",
      "닥터 스트레인지: 대혼돈의 멀티버스 (Doctor Strange in the Multiverse of Madness)\n",
      "\n",
      "7.21 (참여 16866명)\n",
      "\n",
      "액션, 판타지, 모험| 미국|126분 |2022\n",
      "감독 : 샘 레이미|출연 : 베네딕트 컴버배치, 엘리자베스 올슨\n",
      "\n",
      "\n"
     ]
    },
    {
     "name": "stdin",
     "output_type": "stream",
     "text": [
      "몇 번 영화를 선택하시겠습니까? (숫자만 입력)  :  1\n"
     ]
    },
    {
     "name": "stdout",
     "output_type": "stream",
     "text": [
      "==============1번 영화===============\n",
      "\n",
      "헌트 (HUNT)\n",
      "\n",
      "8.34 (참여 18629명)\n",
      "\n",
      "액션, 드라마| 대한민국|125분 |2022\n",
      "감독 : 이정재|출연 : 이정재, 정우성, 전혜진, 허성태, 고윤정, 김종수, 정만식\n",
      "\n",
      "\n",
      "==============2번 영화===============\n",
      "\n",
      "헌트 (The Hunt)\n",
      "\n",
      "7.99 (참여 977명)\n",
      "\n",
      "액션, 공포, 스릴러| 미국|90분 |2020\n",
      "감독 : 크레이그 조벨|출연 : 베티 길핀\n",
      "\n",
      "\n",
      "==============3번 영화===============\n",
      "\n",
      "헌트 (Haunt)\n",
      "공포, 스릴러| 미국|92분 |2019\n",
      "감독 : 스콧 벡, 브라이언 우즈|출연 : 케이티 스티븐스, 윌 브리테인, 로린 앨리사 맥클레인\n",
      "\n",
      "==============4번 영화===============\n",
      "\n",
      "헌트 (Haunt)\n",
      "공포| 미국|86분 |2013\n",
      "감독 : 맥 카터|출연 : 재키 위버, 라이아나 리버라토\n",
      "\n",
      "\n",
      "==============5번 영화===============\n",
      "\n",
      "더 헌트 (Jagten)\n",
      "\n",
      "8.99 (참여 2069명)\n",
      "\n",
      "드라마| 덴마크|115분 |2012\n",
      "감독 : 토마스 빈터베르그|출연 : 매즈 미켈슨, 토머스 보 라센, 수시 울드, 아니카 베데르코프\n",
      "\n",
      "\n"
     ]
    },
    {
     "name": "stdin",
     "output_type": "stream",
     "text": [
      "몇 번 영화를 선택하시겠습니까? (숫자만 입력)  :  1\n"
     ]
    },
    {
     "name": "stdout",
     "output_type": "stream",
     "text": [
      "==============1번 영화===============\n",
      "\n",
      "올빼미 (The Night Owl)\n",
      "\n",
      "9.29 (참여 14749명)\n",
      "\n",
      "스릴러| 대한민국|118분 |2022\n",
      "감독 : 안태진|출연 : 류준열, 유해진\n",
      "\n",
      "\n",
      "\n",
      "==============2번 영화===============\n",
      "\n",
      "올빼미의 성 (梟の城)\n",
      "\n",
      "6.72 (참여 36명)\n",
      "\n",
      "일본|138분 |1999\n",
      "감독 : 시노다 마사히로|출연 : 나카이 키이치, 츠루타 마유, 하즈키 리오나, 카미카와 타카야, 나가사와 토시야, 네즈 진파치\n",
      "\n",
      "==============3번 영화===============\n",
      "\n",
      "엄마와 올빼미 (Demain et tous les autres jours)\n",
      "프랑스|96분 |2017\n",
      "감독 : 노에미 르보브스키|출연 : 엘사 아미엘\n",
      "\n",
      "==============4번 영화===============\n",
      "\n",
      "올빼미의 울음 (Le Cri Du Hibou)\n",
      "프랑스, 이탈리아|102분 |1987\n",
      "감독 : 끌로드 샤브롤|출연 : 크리스토프 말라보이, 마틸다 메이\n",
      "\n",
      "==============5번 영화===============\n",
      "\n",
      "밤 올빼미 (Deti noci)\n",
      "드라마| 체코|80분 |2008\n",
      "감독 : 미카엘라 파브라토바|출연 : 마사 이소바, 이리 마들, 얀 돌란스키, 크리스티나 노바코바, 렌카 터메로바\n",
      "\n"
     ]
    },
    {
     "name": "stdin",
     "output_type": "stream",
     "text": [
      "몇 번 영화를 선택하시겠습니까? (숫자만 입력)  :  1\n"
     ]
    },
    {
     "name": "stdout",
     "output_type": "stream",
     "text": [
      "==============1번 영화===============\n",
      "\n",
      "쥬라기 월드: 도미니언 (Jurassic World: Dominion)\n",
      "\n",
      "6.12 (참여 7652명)\n",
      "\n",
      "액션, 모험| 미국|147분 |2022\n",
      "감독 : 콜린 트레보로우|출연 : 크리스 프랫, 브라이스 달라스 하워드\n",
      "\n"
     ]
    },
    {
     "name": "stdin",
     "output_type": "stream",
     "text": [
      "몇 번 영화를 선택하시겠습니까? (숫자만 입력)  :  1\n"
     ]
    },
    {
     "name": "stdout",
     "output_type": "stream",
     "text": [
      "==============1번 영화===============\n",
      "\n",
      "마녀(魔女) Part2. The Other One (The Witch : Part2. The Other One)\n",
      "\n",
      "6.58 (참여 18294명)\n",
      "\n",
      "액션| 대한민국|137분 |2021\n",
      "감독 : 박훈정|출연 : 신시아, 박은빈, 서은수, 진구, 성유빈, 조민수\n",
      "\n",
      "\n"
     ]
    },
    {
     "name": "stdin",
     "output_type": "stream",
     "text": [
      "몇 번 영화를 선택하시겠습니까? (숫자만 입력)  :  1\n"
     ]
    },
    {
     "name": "stdout",
     "output_type": "stream",
     "text": [
      "==============1번 영화===============\n",
      "\n",
      "토르: 러브 앤 썬더 (Thor: Love and Thunder)\n",
      "\n",
      "6.36 (참여 11721명)\n",
      "\n",
      "액션, 모험, 판타지| 미국|119분 |2022\n",
      "감독 : 타이카 와이티티|출연 : 크리스 헴스워스, 테사 톰슨, 나탈리 포트만, 크리스찬 베일, 크리스 프랫, 타이카 와이티티\n",
      "\n",
      "\n"
     ]
    },
    {
     "name": "stdin",
     "output_type": "stream",
     "text": [
      "몇 번 영화를 선택하시겠습니까? (숫자만 입력)  :  1\n"
     ]
    },
    {
     "name": "stdout",
     "output_type": "stream",
     "text": [
      "==============1번 영화===============\n",
      "\n",
      "미니언즈2 (Minions: The Rise of Gru)\n",
      "\n",
      "7.65 (참여 2654명)\n",
      "\n",
      "애니메이션, 모험, 코미디| 미국|87분 |2022\n",
      "감독 : 카일 발다|출연 : 스티브 카렐, 타라지 P. 헨슨, 루시 로리스, 장 끌로드 반담, 양자경\n",
      "\n"
     ]
    },
    {
     "name": "stdin",
     "output_type": "stream",
     "text": [
      "몇 번 영화를 선택하시겠습니까? (숫자만 입력)  :  1\n"
     ]
    },
    {
     "name": "stdout",
     "output_type": "stream",
     "text": [
      "==============1번 영화===============\n",
      "\n",
      "블랙 팬서: 와칸다 포에버 (Black Panther: Wakanda Forever)\n",
      "\n",
      "6.03 (참여 9753명)\n",
      "\n",
      "액션, 모험, 드라마| 미국|161분 |2022\n",
      "감독 : 라이언 쿠글러|출연 : 레티티아 라이트, 다나이 구리라, 루피타 뇽, 테노치 우에르타 메히아\n",
      "\n",
      "\n"
     ]
    },
    {
     "name": "stdin",
     "output_type": "stream",
     "text": [
      "몇 번 영화를 선택하시겠습니까? (숫자만 입력)  :  1\n"
     ]
    },
    {
     "name": "stdout",
     "output_type": "stream",
     "text": [
      "==============1번 영화===============\n",
      "\n",
      "비상선언 (EMERGENCY DECLARATION)\n",
      "\n",
      "6.44 (참여 21285명)\n",
      "\n",
      "드라마| 대한민국|140분 |2022\n",
      "감독 : 한재림|출연 : 송강호, 이병헌, 전도연, 김남길, 임시완, 김소진, 박해준\n",
      "\n"
     ]
    },
    {
     "name": "stdin",
     "output_type": "stream",
     "text": [
      "몇 번 영화를 선택하시겠습니까? (숫자만 입력)  :  1\n"
     ]
    },
    {
     "name": "stdout",
     "output_type": "stream",
     "text": [
      "==============1번 영화===============\n",
      "\n",
      "스파이더맨: 노 웨이 홈 (Spider-Man: No Way Home)\n",
      "\n",
      "8.77 (참여 20561명)\n",
      "\n",
      "액션, 모험, SF| 미국|148분 |2021\n",
      "감독 : 존 왓츠|출연 : 톰 홀랜드, 젠데이아 콜먼, 베네딕트 컴버배치, 존 파브로, 제이콥 배덜런, 마리사 토메이, 알프리드 몰리나\n",
      "\n",
      "\n",
      "==============2번 영화===============\n",
      "\n",
      "스파이더맨: 노 웨이 홈 '펀버전' (Spider-Man: No Way Home - The More Fun Stuff Version)\n",
      "\n",
      "8.92 (참여 206명)\n",
      "\n",
      "액션, 모험, SF| 미국|156분 |2022\n",
      "감독 : 존 왓츠|출연 : 톰 홀랜드, 젠데이아 콜먼, 베네딕트 컴버배치, 존 파브로, 제이콥 배덜런, 마리사 토메이, 알프리드 몰리나\n",
      "\n",
      "\n",
      "==============3번 영화===============\n",
      "\n",
      "스파이더맨: 노 웨이홈 돌아갈 길은 없다 (SPIDER-MAN: NO WAY HOME)\n",
      "\n",
      "0.00 (참여 0명)\n",
      "\n",
      "액션, 모험, 다큐멘터리| 미국|29분 |2021\n",
      "감독 : 존 왓츠|출연 : 톰 홀랜드\n",
      "\n"
     ]
    },
    {
     "name": "stdin",
     "output_type": "stream",
     "text": [
      "몇 번 영화를 선택하시겠습니까? (숫자만 입력)  :  1\n"
     ]
    },
    {
     "name": "stdout",
     "output_type": "stream",
     "text": [
      "==============1번 영화===============\n",
      "\n",
      "육사오(6/45)\n",
      "\n",
      "8.56 (참여 7968명)\n",
      "\n",
      "코미디| 대한민국|113분 |2022\n",
      "감독 : 박규태|출연 : 고경표, 이이경, 음문석, 박세완, 이순원, 곽동연, 김민호\n",
      "\n",
      "\n"
     ]
    },
    {
     "name": "stdin",
     "output_type": "stream",
     "text": [
      "몇 번 영화를 선택하시겠습니까? (숫자만 입력)  :  1\n"
     ]
    },
    {
     "name": "stdout",
     "output_type": "stream",
     "text": [
      "==============1번 영화===============\n",
      "\n",
      "헤어질 결심 (Decision To Leave)\n",
      "\n",
      "8.64 (참여 15579명)\n",
      "\n",
      "멜로/로맨스, 드라마, 서스펜스| 대한민국|138분 |2021\n",
      "감독 : 박찬욱|출연 : 박해일, 탕웨이, 이정현\n",
      "\n",
      "\n",
      "\n"
     ]
    },
    {
     "name": "stdin",
     "output_type": "stream",
     "text": [
      "몇 번 영화를 선택하시겠습니까? (숫자만 입력)  :  1\n"
     ]
    },
    {
     "name": "stdout",
     "output_type": "stream",
     "text": [
      "==============1번 영화===============\n",
      "\n",
      "외계+인 1부 (Alienoid)\n",
      "\n",
      "7.58 (참여 23783명)\n",
      "\n",
      "액션, 판타지, SF| 대한민국|142분 |2022\n",
      "감독 : 최동훈|출연 : 류준열, 김우빈, 김태리, 소지섭, 염정아, 조우진, 김의성\n",
      "\n",
      "\n"
     ]
    },
    {
     "name": "stdin",
     "output_type": "stream",
     "text": [
      "몇 번 영화를 선택하시겠습니까? (숫자만 입력)  :  1\n"
     ]
    },
    {
     "name": "stdout",
     "output_type": "stream",
     "text": [
      "==============1번 영화===============\n",
      "\n",
      "영웅 (Hero)\n",
      "\n",
      "8.99 (참여 19670명)\n",
      "\n",
      "드라마, 뮤지컬| 대한민국|120분 |2022\n",
      "감독 : 윤제균|출연 : 정성화, 김고은, 나문희, 조재윤, 배정남, 이현우, 박진주\n",
      "\n",
      "\n",
      "\n",
      "==============2번 영화===============\n",
      "\n",
      "영웅\n",
      "드라마| 대한민국|17분 |2015\n",
      "감독 : 양현진|출연 : 양현진, 한기장, 박차라, 신희철\n",
      "\n",
      "==============3번 영화===============\n",
      "\n",
      "영웅 (HERO)\n",
      "5분 |2014\n",
      "감독 : 은샹 청\n",
      "\n",
      "==============4번 영화===============\n",
      "\n",
      "영웅: 샐러멘더의 비밀 (Pyataya Kazn)\n",
      "\n",
      "9.29 (참여 15220명)\n",
      "\n",
      "액션| 러시아 연방, 미국, 대한민국|102분 |2010\n",
      "감독 : 알렉산드르 야킴추크, 엘레나 코발레바|출연 : 김보성, 표도르 예멜리야넨코\n",
      "\n",
      "\n",
      "==============5번 영화===============\n",
      "\n",
      "영웅 (O Heroi)\n",
      "드라마, 전쟁| 아루바, 프랑스, 포르투갈|97분 |2004\n",
      "감독 : 제제 감보아|출연 : 네우자 보르게스, 패트리시아 불, 마케나 디옵, 밀튼 살토 코엘로, 마리아 케이사\n",
      "\n"
     ]
    },
    {
     "name": "stdin",
     "output_type": "stream",
     "text": [
      "몇 번 영화를 선택하시겠습니까? (숫자만 입력)  :  1\n"
     ]
    },
    {
     "name": "stdout",
     "output_type": "stream",
     "text": [
      "==============1번 영화===============\n",
      "\n",
      "해적: 도깨비 깃발 (The Pirates : The Last Royal Treasure)\n",
      "\n",
      "5.50 (참여 7992명)\n",
      "\n",
      "모험, 액션, 코미디| 대한민국|125분 |2020\n",
      "감독 : 김정훈|출연 : 강하늘, 한효주, 이광수, 권상우\n",
      "\n"
     ]
    },
    {
     "name": "stdin",
     "output_type": "stream",
     "text": [
      "몇 번 영화를 선택하시겠습니까? (숫자만 입력)  :  1\n"
     ]
    },
    {
     "name": "stdout",
     "output_type": "stream",
     "text": [
      "==============1번 영화===============\n",
      "\n",
      "브로커 (Broker)\n",
      "\n",
      "5.60 (참여 9499명)\n",
      "\n",
      "드라마| 대한민국|129분 |2022\n",
      "감독 : 고레에다 히로카즈|출연 : 송강호, 강동원, 배두나, 아이유, 이주영\n",
      "\n",
      "\n",
      "==============2번 영화===============\n",
      "\n",
      "브로커\n",
      "스릴러| 대한민국 |2016\n",
      "감독 : 김홍선|출연 : 김영광, 이성경, 임주환\n",
      "\n",
      "==============3번 영화===============\n",
      "\n",
      "브로커 (Broker)\n",
      "드라마| 인도 |2010\n",
      "감독 : 파트나크 R. P.|출연 : 아난스, 스리니바사 라오 코타, 파트나크 R. P., 스리하리\n",
      "\n",
      "==============4번 영화===============\n",
      "\n",
      "바디 브로커 (Body Brokers)\n",
      "\n",
      "7.29 (참여 14명)\n",
      "\n",
      "범죄, 스릴러| 미국|112분 |2020\n",
      "감독 : 존 스와브|출연 : 프랭크 그릴로, 잭 킬머, 마이클 K. 윌리엄즈, 제시카 로테\n",
      "\n",
      "\n",
      "==============5번 영화===============\n",
      "\n",
      "더 브로커 (The Broker)\n",
      "다큐멘터리| 캐나다|61분 |2018\n",
      "감독 : 아자디 R 모가담\n",
      "\n"
     ]
    },
    {
     "name": "stdin",
     "output_type": "stream",
     "text": [
      "몇 번 영화를 선택하시겠습니까? (숫자만 입력)  :  1\n"
     ]
    },
    {
     "name": "stdout",
     "output_type": "stream",
     "text": [
      "==============1번 영화===============\n",
      "\n",
      "신비한 동물들과 덤블도어의 비밀 (Fantastic Beasts: The Secrets of Dumbledore)\n",
      "\n",
      "6.48 (참여 3431명)\n",
      "\n",
      "판타지, 모험, 가족| 미국|142분 |2022\n",
      "감독 : 데이빗 예이츠|출연 : 주드 로, 에디 레드메인, 에즈라 밀러, 매즈 미켈슨, 댄 포글러, 앨리슨 수돌, 칼럼 터너, 제시카 윌리엄스, 빅토리아 예이츠, 윌리엄 나딜람, 리처드 코일\n",
      "\n",
      "\n"
     ]
    },
    {
     "name": "stdin",
     "output_type": "stream",
     "text": [
      "몇 번 영화를 선택하시겠습니까? (숫자만 입력)  :  1\n"
     ]
    },
    {
     "name": "stdout",
     "output_type": "stream",
     "text": [
      "==============1번 영화===============\n",
      "\n",
      "인생은 아름다워 (Life is Beautiful)\n",
      "\n",
      "9.17 (참여 9017명)\n",
      "\n",
      "뮤지컬| 대한민국|122분 |2020\n",
      "감독 : 최국희|출연 : 류승룡, 염정아, 박세완, 옹성우\n",
      "\n",
      "\n",
      "==============2번 영화===============\n",
      "\n",
      "인생은 아름다워 (La Vita E Bella)\n",
      "\n",
      "9.41 (참여 12559명)\n",
      "\n",
      "드라마, 코미디| 이탈리아|116분 |1997\n",
      "감독 : 로베르토 베니니|출연 : 로베르토 베니니, 니콜레타 브라스키\n",
      "\n",
      "==============3번 영화===============\n",
      "\n",
      "대한이, 민국씨 (Mr. Daehan, Mr. Mingook)\n",
      "\n",
      "6.55 (참여 671명)\n",
      "\n",
      "코미디| 대한민국|102분 |2007\n",
      "감독 : 최진원|출연 : 최성국, 공형진, 최정원\n",
      "\n",
      "\n",
      "==============4번 영화===============\n",
      "\n",
      "인생은 아름다워\n",
      "\n",
      "9.17 (참여 179명)\n",
      "\n",
      "대한민국 |2010\n",
      "감독 : 정을영|출연 : 송창의, 이상윤, 남상미, 우희진, 이민우, 남규리, 김영철, 김해숙, 김용림, 김상중, 장미희, 윤다훈, 이상훈, 조미령, 강이석, 정다빈, 이상우, 유민, 최정훈\n",
      "\n",
      "==============5번 영화===============\n",
      "\n",
      "수상한 고객들 (Suspicious Customers)\n",
      "\n",
      "8.64 (참여 3650명)\n",
      "\n",
      "코미디, 드라마| 대한민국|124분 |2011\n",
      "감독 : 조진모|출연 : 류승범\n",
      "\n",
      "\n"
     ]
    },
    {
     "name": "stdin",
     "output_type": "stream",
     "text": [
      "몇 번 영화를 선택하시겠습니까? (숫자만 입력)  :  1\n"
     ]
    },
    {
     "name": "stdout",
     "output_type": "stream",
     "text": [
      "==============1번 영화===============\n",
      "\n",
      "더 배트맨 (The Batman)\n",
      "\n",
      "7.21 (참여 6707명)\n",
      "\n",
      "액션, 범죄, 드라마| 미국|176분 |2022\n",
      "감독 : 맷 리브스|출연 : 로버트 패틴슨, 앤디 서키스, 조 크라비츠, 폴 다노\n",
      "\n",
      "\n",
      "==============2번 영화===============\n",
      "\n",
      "배트맨 - 언더 더 레드 후드 (Batman: Under The Red Hood)\n",
      "애니메이션, 액션, 범죄, 스릴러| 미국|75분 |2010\n",
      "감독 : 브랜던 비에티|출연 : 브루스 그린우드, 젠슨 애클스\n",
      "\n",
      "==============3번 영화===============\n",
      "\n",
      "레고 배트맨 : 더 무비 - DC 수퍼히어로즈 유나이트 (LEGO Batman: The Movie - DC Superheroes Unite)\n",
      "애니메이션, 액션, 모험| 미국, 영국|71분 |2013\n",
      "감독 : 존 버튼|출연 : 클랜시 브라운, 트로이 베이커, 스티브 브럼\n",
      "\n",
      "\n",
      "==============4번 영화===============\n",
      "\n",
      "배트맨 비욘드: 더 무비 (Batman Beyond: The Movie)\n",
      "애니메이션| TV영화| 미국|132분 |1999\n",
      "감독 : 커트 게다, 부치 루킥, 댄 리바, 스즈키 유키오|출연 : 윌 프리들, 케빈 콘로이\n",
      "\n",
      "==============5번 영화===============\n",
      "\n",
      "배트맨: 더 킬링 조크 (Batman: The Killing Joke)\n",
      "애니메이션, 범죄| 미국|77분 |2016\n",
      "감독 : 샘 리우|출연 : 케빈 콘로이, 레이 와이즈, 마크 해밀, 타라 스트롱\n",
      "\n",
      "\n"
     ]
    },
    {
     "name": "stdin",
     "output_type": "stream",
     "text": [
      "몇 번 영화를 선택하시겠습니까? (숫자만 입력)  :  1\n"
     ]
    },
    {
     "name": "stdout",
     "output_type": "stream",
     "text": [
      "==============1번 영화===============\n",
      "\n",
      "데시벨 (Decibel)\n",
      "\n",
      "7.41 (참여 4496명)\n",
      "\n",
      "액션| 대한민국|110분 |2021\n",
      "감독 : 황인호|출연 : 김래원, 이종석, 정상훈\n",
      "\n",
      "\n",
      "==============2번 영화===============\n",
      "\n",
      "30 데시벨 (30 Decibel)\n",
      "대한민국|7분 |2021\n",
      "감독 : 임효륜\n",
      "\n",
      "==============3번 영화===============\n",
      "\n",
      "도쿄 데시벨 (TOKYOデシベル)\n",
      "드라마| 일본|97분 |2017\n",
      "감독 : 츠지 히토나리|출연 : 마츠오카 미츠루, 아베 나츠미\n",
      "\n"
     ]
    },
    {
     "name": "stdin",
     "output_type": "stream",
     "text": [
      "몇 번 영화를 선택하시겠습니까? (숫자만 입력)  :  1\n"
     ]
    },
    {
     "name": "stdout",
     "output_type": "stream",
     "text": [
      "==============1번 영화===============\n",
      "\n",
      "정직한 후보2 (Honest Candidate 2)\n",
      "\n",
      "6.00 (참여 4020명)\n",
      "\n",
      "코미디| 대한민국|107분 |2022\n",
      "감독 : 장유정|출연 : 라미란, 김무열, 윤경호\n",
      "\n",
      "\n"
     ]
    },
    {
     "name": "stdin",
     "output_type": "stream",
     "text": [
      "몇 번 영화를 선택하시겠습니까? (숫자만 입력)  :  1\n"
     ]
    },
    {
     "name": "stdout",
     "output_type": "stream",
     "text": [
      "==============1번 영화===============\n",
      "\n",
      "씽2게더 (Sing 2)\n",
      "\n",
      "9.37 (참여 2885명)\n",
      "\n",
      "애니메이션| 미국|110분 |2021\n",
      "감독 : 가스 제닝스|출연 : 스칼릿 조핸슨, 태런 에저튼, 리즈 위더스푼, 매튜 맥커너히, 토리 켈리, 보노, 퍼렐 윌리엄스\n",
      "\n",
      "\n"
     ]
    },
    {
     "name": "stdin",
     "output_type": "stream",
     "text": [
      "몇 번 영화를 선택하시겠습니까? (숫자만 입력)  :  1\n"
     ]
    },
    {
     "name": "stdout",
     "output_type": "stream",
     "text": [
      "==============1번 영화===============\n",
      "\n",
      "극장판 짱구는 못말려: 수수께끼! 꽃피는 천하떡잎학교 (謎メキ！花の天カス学園がくえん)\n",
      "\n",
      "9.24 (참여 1575명)\n",
      "\n",
      "애니메이션| 일본|105분 |2021\n",
      "감독 : 타카하시 와타루\n",
      "\n",
      "\n"
     ]
    },
    {
     "name": "stdin",
     "output_type": "stream",
     "text": [
      "몇 번 영화를 선택하시겠습니까? (숫자만 입력)  :  1\n"
     ]
    },
    {
     "name": "stdout",
     "output_type": "stream",
     "text": [
      "==============1번 영화===============\n",
      "\n",
      "블랙 아담 (Black Adam)\n",
      "\n",
      "7.48 (참여 3470명)\n",
      "\n",
      "액션, 모험, SF| 미국|125분 |2022\n",
      "감독 : 자움 콜렛 세라|출연 : 드웨인 존슨, 노아 센티네오, 피어스 브로스넌, 퀸테사 스윈들, 알디스 호지, 사라 샤이\n",
      "\n",
      "\n",
      "==============2번 영화===============\n",
      "\n",
      "슈퍼맨/샤잠!: 더 리턴 오브 블랙 아담 (DC Showcase: Superman/Shazam!: The Return of Black Adam)\n",
      "애니메이션, 액션, 모험| 미국|25분 |2010\n",
      "감독 : 조아킴 도스 샌토스|출연 : 제임스 가너, 조지 뉴번\n",
      "\n"
     ]
    },
    {
     "name": "stdin",
     "output_type": "stream",
     "text": [
      "몇 번 영화를 선택하시겠습니까? (숫자만 입력)  :  1\n"
     ]
    },
    {
     "name": "stdout",
     "output_type": "stream",
     "text": [
      "==============1번 영화===============\n",
      "\n",
      "킹메이커 (Kingmaker)\n",
      "\n",
      "7.28 (참여 4554명)\n",
      "\n",
      "드라마| 대한민국|123분 |2021\n",
      "감독 : 변성현|출연 : 설경구, 이선균\n",
      "\n",
      "\n",
      "==============2번 영화===============\n",
      "\n",
      "킹메이커 (The Ides Of March)\n",
      "\n",
      "8.11 (참여 525명)\n",
      "\n",
      "드라마, 서스펜스| 미국|101분 |2011\n",
      "감독 : 조지 클루니|출연 : 라이언 고슬링, 조지 클루니\n",
      "\n",
      "\n",
      "==============3번 영화===============\n",
      "\n",
      "킹 메이커 (The Big Brass Ring)\n",
      "드라마| 미국|104분 |1999\n",
      "감독 : 조지 하이켄루퍼|출연 : 윌리엄 허트, 나이젤 호손, 미란다 리차드슨, 이렌느 야곱\n",
      "\n",
      "==============4번 영화===============\n",
      "\n",
      "킹메이커 (Kingmakers)\n",
      "드라마| TV영화| 미국 |2015\n",
      "감독 : 제임스 스트롱|출연 : 마이클 트레비노, 파민더 나그라, 크리스틴 바우어\n",
      "\n",
      "==============5번 영화===============\n",
      "\n",
      "이멜다 마르코스: 사랑의 영부인 (The Kingmaker)\n",
      "다큐멘터리| 미국|101분 |2019\n",
      "감독 : 로린 그린필드\n",
      "\n"
     ]
    },
    {
     "name": "stdin",
     "output_type": "stream",
     "text": [
      "몇 번 영화를 선택하시겠습니까? (숫자만 입력)  :  1\n"
     ]
    },
    {
     "name": "stdout",
     "output_type": "stream",
     "text": [
      "==============1번 영화===============\n",
      "\n",
      "자백 (Confession)\n",
      "\n",
      "8.13 (참여 3079명)\n",
      "\n",
      "범죄, 스릴러| 대한민국|105분 |2020\n",
      "감독 : 윤종석|출연 : 소지섭, 김윤진, 나나\n",
      "\n",
      "\n",
      "==============2번 영화===============\n",
      "\n",
      "자백\n",
      "대한민국|31분 |2019\n",
      "감독 : 김기범\n",
      "\n",
      "==============3번 영화===============\n",
      "\n",
      "자백 (Spy Nation)\n",
      "\n",
      "9.29 (참여 3125명)\n",
      "\n",
      "다큐멘터리| 대한민국|106분 |2016\n",
      "감독 : 최승호|출연 : 최승호, 김기춘, 원세훈\n",
      "\n",
      "\n",
      "==============4번 영화===============\n",
      "\n",
      "잠자리 심문 : 불륜 자백\n",
      "에로| 일본|65분 |2022\n",
      "감독 : 오오무라 다이\n",
      "\n",
      "\n",
      "==============5번 영화===============\n",
      "\n",
      "경찰청 취조관 : 자백전문 킨시 사건 기록 (警視庁取調官落としの金七事件簿)\n",
      "일본 |2010\n",
      "출연 : 야나기바 토시로, 이시구로 켄, 오스기 렌\n",
      "\n"
     ]
    },
    {
     "name": "stdin",
     "output_type": "stream",
     "text": [
      "몇 번 영화를 선택하시겠습니까? (숫자만 입력)  :  1\n"
     ]
    },
    {
     "name": "stdout",
     "output_type": "stream",
     "text": [
      "==============1번 영화===============\n",
      "\n",
      "언차티드 (Uncharted)\n",
      "\n",
      "7.34 (참여 2338명)\n",
      "\n",
      "액션, 모험| 미국|116분 |2022\n",
      "감독 : 루벤 플레셔|출연 : 톰 홀랜드, 마크 월버그, 소피아 테일러 알리, 타티 가브리엘, 안토니오 반데라스\n",
      "\n",
      "\n"
     ]
    },
    {
     "name": "stdin",
     "output_type": "stream",
     "text": [
      "몇 번 영화를 선택하시겠습니까? (숫자만 입력)  :  1\n"
     ]
    },
    {
     "name": "stdout",
     "output_type": "stream",
     "text": [
      "==============1번 영화===============\n",
      "\n",
      "경관의 피 (The Policeman's Lineage)\n",
      "\n",
      "7.21 (참여 3419명)\n",
      "\n",
      "범죄, 드라마| 대한민국|119분 |2021\n",
      "감독 : 이규만|출연 : 조진웅, 최우식, 박희순, 권율, 박명훈\n",
      "\n",
      "\n"
     ]
    },
    {
     "name": "stdin",
     "output_type": "stream",
     "text": [
      "몇 번 영화를 선택하시겠습니까? (숫자만 입력)  :  1\n"
     ]
    },
    {
     "name": "stdout",
     "output_type": "stream",
     "text": [
      "==============1번 영화===============\n",
      "\n",
      "오늘 밤, 세계에서 이 사랑이 사라진다 해도 (今夜、世界からこの恋が消えても)\n",
      "\n",
      "8.62 (참여 4813명)\n",
      "\n",
      "멜로/로맨스| 일본|121분 |2022\n",
      "감독 : 미키 타카히로|출연 : 미치에다 슌스케, 후쿠모토 리코, 후루카와 코토네, 마츠모토 호노카\n",
      "\n",
      "\n",
      "\n"
     ]
    },
    {
     "name": "stdin",
     "output_type": "stream",
     "text": [
      "몇 번 영화를 선택하시겠습니까? (숫자만 입력)  :  1\n"
     ]
    },
    {
     "name": "stdout",
     "output_type": "stream",
     "text": [
      "==============1번 영화===============\n",
      "\n",
      "극장판 주술회전 0 (劇場版 呪術廻戦 0)\n",
      "\n",
      "9.21 (참여 1772명)\n",
      "\n",
      "애니메이션| 일본|105분 |2021\n",
      "감독 : 박성후|출연 : 오가타 메구미, 하나자와 카나, 코마츠 미카코, 우치야마 코우키, 세키 토모카즈, 나카무라 유이치, 사쿠라이 타카히로\n",
      "\n",
      "\n",
      "\n"
     ]
    },
    {
     "name": "stdin",
     "output_type": "stream",
     "text": [
      "몇 번 영화를 선택하시겠습니까? (숫자만 입력)  :  1\n"
     ]
    },
    {
     "name": "stdout",
     "output_type": "stream",
     "text": [
      "==============1번 영화===============\n",
      "\n",
      "압꾸정 (Men of plastic)\n",
      "\n",
      "5.11 (참여 2665명)\n",
      "\n",
      "코미디, 드라마| 대한민국|112분 |2022\n",
      "감독 : 임진순|출연 : 마동석, 정경호, 오나라, 최병모\n",
      "\n",
      "\n"
     ]
    },
    {
     "name": "stdin",
     "output_type": "stream",
     "text": [
      "몇 번 영화를 선택하시겠습니까? (숫자만 입력)  :  1\n"
     ]
    },
    {
     "name": "stdout",
     "output_type": "stream",
     "text": [
      "==============1번 영화===============\n",
      "\n",
      "극장판 포켓몬스터DP: 기라티나와 하늘의 꽃다발 쉐이미 (ダイヤモンド&パ-ル ギラティナと氷空の花束シェイミ)\n",
      "\n",
      "7.47 (참여 225명)\n",
      "\n",
      "애니메이션| 일본|96분 |2008\n",
      "감독 : 유야마 쿠니히코|출연 : 마츠모토 리카, 오오타니 이쿠에, 우에다 유지, 이선호, 김영선\n",
      "\n",
      "\n"
     ]
    },
    {
     "name": "stdin",
     "output_type": "stream",
     "text": [
      "몇 번 영화를 선택하시겠습니까? (숫자만 입력)  :  1\n"
     ]
    },
    {
     "name": "stdout",
     "output_type": "stream",
     "text": [
      "==============1번 영화===============\n",
      "\n",
      "이상한 나라의 수학자 (In Our Prime)\n",
      "\n",
      "8.20 (참여 3889명)\n",
      "\n",
      "드라마| 대한민국|117분 |2020\n",
      "감독 : 박동훈|출연 : 최민식, 김동휘\n",
      "\n",
      "\n"
     ]
    },
    {
     "name": "stdin",
     "output_type": "stream",
     "text": [
      "몇 번 영화를 선택하시겠습니까? (숫자만 입력)  :  1\n"
     ]
    },
    {
     "name": "stdout",
     "output_type": "stream",
     "text": [
      "==============1번 영화===============\n",
      "\n",
      "명탐정 코난: 할로윈의 신부 (名探偵コナン: ハロウィンの花嫁)\n",
      "\n",
      "9.40 (참여 1807명)\n",
      "\n",
      "애니메이션| 일본|110분 |2022\n",
      "감독 : 미츠나카 스스무\n",
      "\n",
      "\n"
     ]
    },
    {
     "name": "stdin",
     "output_type": "stream",
     "text": [
      "몇 번 영화를 선택하시겠습니까? (숫자만 입력)  :  1\n"
     ]
    },
    {
     "name": "stdout",
     "output_type": "stream",
     "text": [
      "==============1번 영화===============\n",
      "\n",
      "동감 (Ditto)\n",
      "\n",
      "5.96 (참여 3380명)\n",
      "\n",
      "멜로/로맨스| 대한민국|114분 |2022\n",
      "감독 : 서은영|출연 : 여진구, 조이현, 김혜윤, 나인우, 배인혁\n",
      "\n",
      "\n",
      "==============2번 영화===============\n",
      "\n",
      "동감 (Ditto)\n",
      "\n",
      "9.03 (참여 1327명)\n",
      "\n",
      "멜로/로맨스, 판타지| 대한민국|111분 |2000\n",
      "감독 : 김정권|출연 : 김하늘, 유지태\n",
      "\n",
      "\n",
      "==============3번 영화===============\n",
      "\n",
      "동감이오! (Common Ground)\n",
      "다큐멘터리| 스페인|13분 |2016\n",
      "감독 : 죠르디 까니귀에랄\n",
      "\n"
     ]
    },
    {
     "name": "stdin",
     "output_type": "stream",
     "text": [
      "몇 번 영화를 선택하시겠습니까? (숫자만 입력)  :  1\n"
     ]
    },
    {
     "name": "stdout",
     "output_type": "stream",
     "text": [
      "==============1번 영화===============\n",
      "\n",
      "모비우스 (Morbius)\n",
      "\n",
      "7.05 (참여 2385명)\n",
      "\n",
      "액션, 모험, 드라마| 미국|104분 |2020\n",
      "감독 : 다니엘 에스피노사|출연 : 자레드 레토, 아드리아 아르호나\n",
      "\n",
      "\n",
      "==============2번 영화===============\n",
      "\n",
      "뫼비우스: 위험한 미션 (Mobius)\n",
      "드라마, 스릴러| 프랑스, 벨기에, 룩셈부르크|103분 |2012\n",
      "감독 : 에릭 로샹|출연 : 장 뒤자르댕, 세실 드 프랑스, 팀 로스\n",
      "\n",
      "\n"
     ]
    },
    {
     "name": "stdin",
     "output_type": "stream",
     "text": [
      "몇 번 영화를 선택하시겠습니까? (숫자만 입력)  :  1\n"
     ]
    },
    {
     "name": "stdout",
     "output_type": "stream",
     "text": [
      "==============1번 영화===============\n",
      "\n",
      "늑대사냥 (Project Wolf Hunting)\n",
      "\n",
      "4.23 (참여 8506명)\n",
      "\n",
      "액션, 범죄| 대한민국|121분 |2022\n",
      "감독 : 김홍선|출연 : 서인국, 장동윤, 최귀화, 성동일, 박호산, 정소민, 고창석, 장영남, 손종학, 이성욱\n",
      "\n",
      "\n",
      "==============2번 영화===============\n",
      "\n",
      "늑대사냥꾼 (The Hunter)\n",
      "애니메이션| 오스트레일리아|7분 |2012\n",
      "감독 : 마리에카 월시\n",
      "\n",
      "==============3번 영화===============\n",
      "\n",
      "늑대 사냥\n",
      "TV영화| 대한민국 |2001\n",
      "출연 : 김정은, 현석, 조혜영, 이주희, 고정민\n",
      "\n",
      "==============4번 영화===============\n",
      "\n",
      "한밤중의 늑대사냥 (Les loups chassent la nuit)\n",
      "드라마| 프랑스, 이탈리아|98분 |1952\n",
      "감독 : 버나드 보르드리|출연 : 장 피에르 오몽, 칼라 델 포지오, 페르낭 르두\n",
      "\n",
      "==============5번 영화===============\n",
      "\n",
      "늑대와 빨간 재킷 (Cosmogony)\n",
      "\n",
      "5.43 (참여 28명)\n",
      "\n",
      "스릴러| 프랑스|86분 |2020\n",
      "감독 : 뱅상 파로노드|출연 : 루시 드베이, 아리 보르탈테르\n",
      "\n",
      "\n"
     ]
    },
    {
     "name": "stdin",
     "output_type": "stream",
     "text": [
      "몇 번 영화를 선택하시겠습니까? (숫자만 입력)  :  1\n"
     ]
    },
    {
     "name": "stdout",
     "output_type": "stream",
     "text": [
      "==============1번 영화===============\n",
      "\n",
      "뽀로로 극장판 드래곤캐슬 대모험 (Pororo Movie_Dragon castle Adventure)\n",
      "\n",
      "9.07 (참여 291명)\n",
      "\n",
      "애니메이션| 대한민국|70분 |2022\n",
      "감독 : 강승훈, 윤제완|출연 : 이선, 이미자, 김현지, 홍소영, 정미숙, 김서영, 김환진, 소연, 김혜성, 이장원, 사문영, 엄상현\n",
      "\n",
      "\n"
     ]
    },
    {
     "name": "stdin",
     "output_type": "stream",
     "text": [
      "몇 번 영화를 선택하시겠습니까? (숫자만 입력)  :  1\n"
     ]
    },
    {
     "name": "stdout",
     "output_type": "stream",
     "text": [
      "==============1번 영화===============\n",
      "\n",
      "특송 (Special Delivery)\n",
      "\n",
      "7.52 (참여 3637명)\n",
      "\n",
      "범죄, 액션| 대한민국|108분 |2020\n",
      "감독 : 박대민|출연 : 박소담, 송새벽, 김의성, 정현준\n",
      "\n",
      "\n"
     ]
    },
    {
     "name": "stdin",
     "output_type": "stream",
     "text": [
      "몇 번 영화를 선택하시겠습니까? (숫자만 입력)  :  1\n"
     ]
    },
    {
     "name": "stdout",
     "output_type": "stream",
     "text": [
      "==============1번 영화===============\n",
      "\n",
      "니 부모 얼굴이 보고 싶다 (I want to know your parents)\n",
      "\n",
      "7.58 (참여 1644명)\n",
      "\n",
      "드라마| 대한민국|111분 |2022\n",
      "감독 : 김지훈|출연 : 설경구, 오달수, 천우희\n",
      "\n"
     ]
    },
    {
     "name": "stdin",
     "output_type": "stream",
     "text": [
      "몇 번 영화를 선택하시겠습니까? (숫자만 입력)  :  1\n"
     ]
    },
    {
     "name": "stdout",
     "output_type": "stream",
     "text": [
      "==============1번 영화===============\n",
      "\n",
      "놉 (NOPE)\n",
      "\n",
      "6.71 (참여 4342명)\n",
      "\n",
      "미스터리, 공포| 미국|130분 |2022\n",
      "감독 : 조던 필|출연 : 다니엘 칼루야, 케케 파머, 스티븐 연, 마이클 윈콧, 브랜든 페레아, 바비 페레이라\n",
      "\n",
      "==============2번 영화===============\n",
      "\n",
      "놉 (Knob)\n",
      "애니메이션| 미국|4분 |2015\n",
      "감독 : 충 옌\n",
      "\n",
      "==============3번 영화===============\n",
      "\n",
      "조선명탐정 : 사라진 놉의 딸 (Detective K: Secret of the lost island)\n",
      "\n",
      "7.68 (참여 8346명)\n",
      "\n",
      "코미디, 모험| 대한민국|125분 |2014\n",
      "감독 : 김석윤|출연 : 김명민, 오달수, 이연희\n",
      "\n",
      "\n",
      "==============4번 영화===============\n",
      "\n",
      "놉 힐 (Nob Hill)\n",
      "미국|95분 |1945\n",
      "감독 : 헨리 헤서웨이|출연 : 조지 래프트, 조안 베넷\n",
      "\n"
     ]
    },
    {
     "name": "stdin",
     "output_type": "stream",
     "text": [
      "몇 번 영화를 선택하시겠습니까? (숫자만 입력)  :  1\n"
     ]
    },
    {
     "name": "stdout",
     "output_type": "stream",
     "text": [
      "==============1번 영화===============\n",
      "\n",
      "리멤버 (REMEMBER)\n",
      "\n",
      "8.21 (참여 3248명)\n",
      "\n",
      "드라마| 대한민국|128분 |2020\n",
      "감독 : 이일형|출연 : 이성민, 남주혁\n",
      "\n",
      "\n",
      "==============2번 영화===============\n",
      "\n",
      "리멤버 (Lembra)\n",
      "코미디, 드라마| 브라질|10분 |2018\n",
      "감독 : 레오나르도 마르티넬리\n",
      "\n",
      "==============3번 영화===============\n",
      "\n",
      "리멤버 (Remember)\n",
      "드라마| 대한민국|17분 |2017\n",
      "감독 : 이가령|출연 : 정재훈\n",
      "\n",
      "==============4번 영화===============\n",
      "\n",
      "리멤버! (追憶ダンス)\n",
      "일본|25분 |2016\n",
      "감독 : 츠치야 테츠히코|출연 : 키노모토 미네히로\n",
      "\n",
      "==============5번 영화===============\n",
      "\n",
      "리멤버: 기억의 살인자 (Remember)\n",
      "\n",
      "7.44 (참여 16명)\n",
      "\n",
      "드라마, 스릴러, 미스터리| 캐나다, 독일|94분 |2015\n",
      "감독 : 아톰 에고이안|출연 : 크리스토퍼 플러머, 딘 노리스, 마틴 랜도\n",
      "\n"
     ]
    },
    {
     "name": "stdin",
     "output_type": "stream",
     "text": [
      "몇 번 영화를 선택하시겠습니까? (숫자만 입력)  :  1\n"
     ]
    },
    {
     "name": "stdout",
     "output_type": "stream",
     "text": [
      "==============1번 영화===============\n",
      "\n",
      "킹스맨: 퍼스트 에이전트 (The King's Man)\n",
      "\n",
      "7.74 (참여 4433명)\n",
      "\n",
      "액션| 영국, 미국|130분 |2020\n",
      "감독 : 매튜 본|출연 : 랄프 파인즈, 해리스 딕킨슨\n",
      "\n",
      "\n"
     ]
    },
    {
     "name": "stdin",
     "output_type": "stream",
     "text": [
      "몇 번 영화를 선택하시겠습니까? (숫자만 입력)  :  1\n"
     ]
    },
    {
     "name": "stdout",
     "output_type": "stream",
     "text": [
      "==============1번 영화===============\n",
      "\n",
      "배드 가이즈 (The Bad Guys)\n",
      "\n",
      "8.66 (참여 698명)\n",
      "\n",
      "애니메이션, 범죄, 액션| 미국|100분 |2022\n",
      "감독 : 피에르 페리펠|출연 : 샘 록웰, 아콰피나, 안소니 라모스, 마크 마론, 크레이그 로빈슨, 재지 비츠, 알렉스 볼스타인, 리차드 아요아데, 릴리 싱\n",
      "\n",
      "\n",
      "==============2번 영화===============\n",
      "\n",
      "배드 가이스 (Bad Guys)\n",
      "코미디| 미국 |1986\n",
      "감독 : 조엘 실버그|출연 : 아담 볼드윈, 마이크 졸리\n",
      "\n",
      "==============3번 영화===============\n",
      "\n",
      "어썸 아시안 배드 가이즈 (Awesome Asian Bad Guys)\n",
      "코미디, 액션| 미국|52분 |2014\n",
      "감독 : 패트릭 에피노, 스티븐 디피앙코|출연 : 스티븐 디피앙코, 패트릭 에피노, 탐린 토미타, 알 레옹, 조지 청\n",
      "\n",
      "==============4번 영화===============\n",
      "\n",
      "더 배드 가이즈 (The Bad Guys)\n",
      "코미디, 드라마| 미국|90분 |2014\n",
      "감독 : 카를로스 린컨즈|출연 : 글렌 포웰, 메이크너 멜빈\n",
      "\n"
     ]
    },
    {
     "name": "stdin",
     "output_type": "stream",
     "text": [
      "몇 번 영화를 선택하시겠습니까? (숫자만 입력)  :  1\n"
     ]
    },
    {
     "name": "stdout",
     "output_type": "stream",
     "text": [
      "==============1번 영화===============\n",
      "\n",
      "뜨거운 피 (Hot Blooded)\n",
      "\n",
      "7.29 (참여 2712명)\n",
      "\n",
      "범죄, 드라마| 대한민국|120분 |2020\n",
      "감독 : 천명관|출연 : 정우, 김갑수\n",
      "\n",
      "\n"
     ]
    },
    {
     "name": "stdin",
     "output_type": "stream",
     "text": [
      "몇 번 영화를 선택하시겠습니까? (숫자만 입력)  :  1\n"
     ]
    }
   ],
   "source": [
    "for s in movie_list_22:\n",
    "    url_list_22.append(search(s))"
   ]
  },
  {
   "cell_type": "code",
   "execution_count": 65,
   "id": "0cca0678-715a-4271-ae25-f10b00398c17",
   "metadata": {},
   "outputs": [],
   "source": [
    "url_list_22=(url_list_22[28:])"
   ]
  },
  {
   "cell_type": "code",
   "execution_count": 68,
   "id": "0f64e574-c2b3-4c32-a22d-6e65fdffb1ff",
   "metadata": {
    "collapsed": true,
    "jupyter": {
     "outputs_hidden": true
    },
    "tags": []
   },
   "outputs": [
    {
     "data": {
      "text/plain": [
       "['https://movie.naver.com/movie/bi/mi/pointWriteFormList.nhn?code=192608&type=after&onlyActualPointYn=N&onlySpoilerPointYn=N&order=sympathyScore&page={}',\n",
       " 'https://movie.naver.com/movie/bi/mi/pointWriteFormList.nhn?code=81888&type=after&onlyActualPointYn=N&onlySpoilerPointYn=N&order=sympathyScore&page={}',\n",
       " 'https://movie.naver.com/movie/bi/mi/pointWriteFormList.nhn?code=74977&type=after&onlyActualPointYn=N&onlySpoilerPointYn=N&order=sympathyScore&page={}',\n",
       " 'https://movie.naver.com/movie/bi/mi/pointWriteFormList.nhn?code=194196&type=after&onlyActualPointYn=N&onlySpoilerPointYn=N&order=sympathyScore&page={}',\n",
       " 'https://movie.naver.com/movie/bi/mi/pointWriteFormList.nhn?code=201641&type=after&onlyActualPointYn=N&onlySpoilerPointYn=N&order=sympathyScore&page={}',\n",
       " 'https://movie.naver.com/movie/bi/mi/pointWriteFormList.nhn?code=182016&type=after&onlyActualPointYn=N&onlySpoilerPointYn=N&order=sympathyScore&page={}',\n",
       " 'https://movie.naver.com/movie/bi/mi/pointWriteFormList.nhn?code=195758&type=after&onlyActualPointYn=N&onlySpoilerPointYn=N&order=sympathyScore&page={}',\n",
       " 'https://movie.naver.com/movie/bi/mi/pointWriteFormList.nhn?code=222301&type=after&onlyActualPointYn=N&onlySpoilerPointYn=N&order=sympathyScore&page={}',\n",
       " 'https://movie.naver.com/movie/bi/mi/pointWriteFormList.nhn?code=191646&type=after&onlyActualPointYn=N&onlySpoilerPointYn=N&order=sympathyScore&page={}',\n",
       " 'https://movie.naver.com/movie/bi/mi/pointWriteFormList.nhn?code=196367&type=after&onlyActualPointYn=N&onlySpoilerPointYn=N&order=sympathyScore&page={}',\n",
       " 'https://movie.naver.com/movie/bi/mi/pointWriteFormList.nhn?code=187347&type=after&onlyActualPointYn=N&onlySpoilerPointYn=N&order=sympathyScore&page={}',\n",
       " 'https://movie.naver.com/movie/bi/mi/pointWriteFormList.nhn?code=191634&type=after&onlyActualPointYn=N&onlySpoilerPointYn=N&order=sympathyScore&page={}',\n",
       " 'https://movie.naver.com/movie/bi/mi/pointWriteFormList.nhn?code=184516&type=after&onlyActualPointYn=N&onlySpoilerPointYn=N&order=sympathyScore&page={}',\n",
       " 'https://movie.naver.com/movie/bi/mi/pointWriteFormList.nhn?code=184519&type=after&onlyActualPointYn=N&onlySpoilerPointYn=N&order=sympathyScore&page={}',\n",
       " 'https://movie.naver.com/movie/bi/mi/pointWriteFormList.nhn?code=208077&type=after&onlyActualPointYn=N&onlySpoilerPointYn=N&order=sympathyScore&page={}',\n",
       " 'https://movie.naver.com/movie/bi/mi/pointWriteFormList.nhn?code=204640&type=after&onlyActualPointYn=N&onlySpoilerPointYn=N&order=sympathyScore&page={}',\n",
       " 'https://movie.naver.com/movie/bi/mi/pointWriteFormList.nhn?code=198413&type=after&onlyActualPointYn=N&onlySpoilerPointYn=N&order=sympathyScore&page={}',\n",
       " 'https://movie.naver.com/movie/bi/mi/pointWriteFormList.nhn?code=192151&type=after&onlyActualPointYn=N&onlySpoilerPointYn=N&order=sympathyScore&page={}',\n",
       " 'https://movie.naver.com/movie/bi/mi/pointWriteFormList.nhn?code=184509&type=after&onlyActualPointYn=N&onlySpoilerPointYn=N&order=sympathyScore&page={}',\n",
       " 'https://movie.naver.com/movie/bi/mi/pointWriteFormList.nhn?code=194204&type=after&onlyActualPointYn=N&onlySpoilerPointYn=N&order=sympathyScore&page={}',\n",
       " 'https://movie.naver.com/movie/bi/mi/pointWriteFormList.nhn?code=196854&type=after&onlyActualPointYn=N&onlySpoilerPointYn=N&order=sympathyScore&page={}',\n",
       " 'https://movie.naver.com/movie/bi/mi/pointWriteFormList.nhn?code=164122&type=after&onlyActualPointYn=N&onlySpoilerPointYn=N&order=sympathyScore&page={}',\n",
       " 'https://movie.naver.com/movie/bi/mi/pointWriteFormList.nhn?code=187821&type=after&onlyActualPointYn=N&onlySpoilerPointYn=N&order=sympathyScore&page={}',\n",
       " 'https://movie.naver.com/movie/bi/mi/pointWriteFormList.nhn?code=154282&type=after&onlyActualPointYn=N&onlySpoilerPointYn=N&order=sympathyScore&page={}',\n",
       " 'https://movie.naver.com/movie/bi/mi/pointWriteFormList.nhn?code=205027&type=after&onlyActualPointYn=N&onlySpoilerPointYn=N&order=sympathyScore&page={}',\n",
       " 'https://movie.naver.com/movie/bi/mi/pointWriteFormList.nhn?code=210852&type=after&onlyActualPointYn=N&onlySpoilerPointYn=N&order=sympathyScore&page={}',\n",
       " 'https://movie.naver.com/movie/bi/mi/pointWriteFormList.nhn?code=187320&type=after&onlyActualPointYn=N&onlySpoilerPointYn=N&order=sympathyScore&page={}',\n",
       " 'https://movie.naver.com/movie/bi/mi/pointWriteFormList.nhn?code=219812&type=after&onlyActualPointYn=N&onlySpoilerPointYn=N&order=sympathyScore&page={}',\n",
       " 'https://movie.naver.com/movie/bi/mi/pointWriteFormList.nhn?code=190694&type=after&onlyActualPointYn=N&onlySpoilerPointYn=N&order=sympathyScore&page={}',\n",
       " 'https://movie.naver.com/movie/bi/mi/pointWriteFormList.nhn?code=177366&type=after&onlyActualPointYn=N&onlySpoilerPointYn=N&order=sympathyScore&page={}',\n",
       " 'https://movie.naver.com/movie/bi/mi/pointWriteFormList.nhn?code=191430&type=after&onlyActualPointYn=N&onlySpoilerPointYn=N&order=sympathyScore&page={}',\n",
       " 'https://movie.naver.com/movie/bi/mi/pointWriteFormList.nhn?code=80737&type=after&onlyActualPointYn=N&onlySpoilerPointYn=N&order=sympathyScore&page={}',\n",
       " 'https://movie.naver.com/movie/bi/mi/pointWriteFormList.nhn?code=190400&type=after&onlyActualPointYn=N&onlySpoilerPointYn=N&order=sympathyScore&page={}',\n",
       " 'https://movie.naver.com/movie/bi/mi/pointWriteFormList.nhn?code=220733&type=after&onlyActualPointYn=N&onlySpoilerPointYn=N&order=sympathyScore&page={}',\n",
       " 'https://movie.naver.com/movie/bi/mi/pointWriteFormList.nhn?code=213733&type=after&onlyActualPointYn=N&onlySpoilerPointYn=N&order=sympathyScore&page={}',\n",
       " 'https://movie.naver.com/movie/bi/mi/pointWriteFormList.nhn?code=195973&type=after&onlyActualPointYn=N&onlySpoilerPointYn=N&order=sympathyScore&page={}',\n",
       " 'https://movie.naver.com/movie/bi/mi/pointWriteFormList.nhn?code=50368&type=after&onlyActualPointYn=N&onlySpoilerPointYn=N&order=sympathyScore&page={}',\n",
       " 'https://movie.naver.com/movie/bi/mi/pointWriteFormList.nhn?code=190991&type=after&onlyActualPointYn=N&onlySpoilerPointYn=N&order=sympathyScore&page={}',\n",
       " 'https://movie.naver.com/movie/bi/mi/pointWriteFormList.nhn?code=217719&type=after&onlyActualPointYn=N&onlySpoilerPointYn=N&order=sympathyScore&page={}',\n",
       " 'https://movie.naver.com/movie/bi/mi/pointWriteFormList.nhn?code=215970&type=after&onlyActualPointYn=N&onlySpoilerPointYn=N&order=sympathyScore&page={}',\n",
       " 'https://movie.naver.com/movie/bi/mi/pointWriteFormList.nhn?code=190695&type=after&onlyActualPointYn=N&onlySpoilerPointYn=N&order=sympathyScore&page={}',\n",
       " 'https://movie.naver.com/movie/bi/mi/pointWriteFormList.nhn?code=211161&type=after&onlyActualPointYn=N&onlySpoilerPointYn=N&order=sympathyScore&page={}',\n",
       " 'https://movie.naver.com/movie/bi/mi/pointWriteFormList.nhn?code=213481&type=after&onlyActualPointYn=N&onlySpoilerPointYn=N&order=sympathyScore&page={}',\n",
       " 'https://movie.naver.com/movie/bi/mi/pointWriteFormList.nhn?code=186233&type=after&onlyActualPointYn=N&onlySpoilerPointYn=N&order=sympathyScore&page={}',\n",
       " 'https://movie.naver.com/movie/bi/mi/pointWriteFormList.nhn?code=159812&type=after&onlyActualPointYn=N&onlySpoilerPointYn=N&order=sympathyScore&page={}',\n",
       " 'https://movie.naver.com/movie/bi/mi/pointWriteFormList.nhn?code=214552&type=after&onlyActualPointYn=N&onlySpoilerPointYn=N&order=sympathyScore&page={}',\n",
       " 'https://movie.naver.com/movie/bi/mi/pointWriteFormList.nhn?code=191657&type=after&onlyActualPointYn=N&onlySpoilerPointYn=N&order=sympathyScore&page={}',\n",
       " 'https://movie.naver.com/movie/bi/mi/pointWriteFormList.nhn?code=159893&type=after&onlyActualPointYn=N&onlySpoilerPointYn=N&order=sympathyScore&page={}',\n",
       " 'https://movie.naver.com/movie/bi/mi/pointWriteFormList.nhn?code=196047&type=after&onlyActualPointYn=N&onlySpoilerPointYn=N&order=sympathyScore&page={}',\n",
       " 'https://movie.naver.com/movie/bi/mi/pointWriteFormList.nhn?code=183862&type=after&onlyActualPointYn=N&onlySpoilerPointYn=N&order=sympathyScore&page={}']"
      ]
     },
     "execution_count": 68,
     "metadata": {},
     "output_type": "execute_result"
    }
   ],
   "source": [
    "url_list_22"
   ]
  },
  {
   "cell_type": "code",
   "execution_count": 81,
   "id": "99a77856-d76f-449e-a5f4-c570af4ea19d",
   "metadata": {
    "tags": []
   },
   "outputs": [
    {
     "name": "stdout",
     "output_type": "stream",
     "text": [
      "2761개의 페이지에서 리뷰를 모으고 있습니다.\n"
     ]
    },
    {
     "name": "stderr",
     "output_type": "stream",
     "text": [
      "100%|█████████████████████████████████████████| 100/100 [00:22<00:00,  4.48it/s]\n"
     ]
    },
    {
     "name": "stdout",
     "output_type": "stream",
     "text": [
      "4274개의 페이지에서 리뷰를 모으고 있습니다.\n"
     ]
    },
    {
     "name": "stderr",
     "output_type": "stream",
     "text": [
      "100%|█████████████████████████████████████████| 100/100 [00:21<00:00,  4.73it/s]\n"
     ]
    },
    {
     "name": "stdout",
     "output_type": "stream",
     "text": [
      "2504개의 페이지에서 리뷰를 모으고 있습니다.\n"
     ]
    },
    {
     "name": "stderr",
     "output_type": "stream",
     "text": [
      "100%|█████████████████████████████████████████| 100/100 [00:21<00:00,  4.56it/s]\n"
     ]
    },
    {
     "name": "stdout",
     "output_type": "stream",
     "text": [
      "2743개의 페이지에서 리뷰를 모으고 있습니다.\n"
     ]
    },
    {
     "name": "stderr",
     "output_type": "stream",
     "text": [
      "100%|█████████████████████████████████████████| 100/100 [00:20<00:00,  4.92it/s]\n"
     ]
    },
    {
     "name": "stdout",
     "output_type": "stream",
     "text": [
      "1321개의 페이지에서 리뷰를 모으고 있습니다.\n"
     ]
    },
    {
     "name": "stderr",
     "output_type": "stream",
     "text": [
      "100%|█████████████████████████████████████████| 100/100 [00:22<00:00,  4.46it/s]\n"
     ]
    },
    {
     "name": "stdout",
     "output_type": "stream",
     "text": [
      "1681개의 페이지에서 리뷰를 모으고 있습니다.\n"
     ]
    },
    {
     "name": "stderr",
     "output_type": "stream",
     "text": [
      "100%|█████████████████████████████████████████| 100/100 [00:19<00:00,  5.08it/s]\n"
     ]
    },
    {
     "name": "stdout",
     "output_type": "stream",
     "text": [
      "1861개의 페이지에서 리뷰를 모으고 있습니다.\n"
     ]
    },
    {
     "name": "stderr",
     "output_type": "stream",
     "text": [
      "100%|█████████████████████████████████████████| 100/100 [00:21<00:00,  4.65it/s]\n"
     ]
    },
    {
     "name": "stdout",
     "output_type": "stream",
     "text": [
      "1474개의 페이지에서 리뷰를 모으고 있습니다.\n"
     ]
    },
    {
     "name": "stderr",
     "output_type": "stream",
     "text": [
      "100%|█████████████████████████████████████████| 100/100 [00:19<00:00,  5.12it/s]\n"
     ]
    },
    {
     "name": "stdout",
     "output_type": "stream",
     "text": [
      "763개의 페이지에서 리뷰를 모으고 있습니다.\n"
     ]
    },
    {
     "name": "stderr",
     "output_type": "stream",
     "text": [
      "100%|█████████████████████████████████████████| 100/100 [00:20<00:00,  4.79it/s]\n"
     ]
    },
    {
     "name": "stdout",
     "output_type": "stream",
     "text": [
      "1827개의 페이지에서 리뷰를 모으고 있습니다.\n"
     ]
    },
    {
     "name": "stderr",
     "output_type": "stream",
     "text": [
      "100%|█████████████████████████████████████████| 100/100 [00:19<00:00,  5.11it/s]\n"
     ]
    },
    {
     "name": "stdout",
     "output_type": "stream",
     "text": [
      "1170개의 페이지에서 리뷰를 모으고 있습니다.\n"
     ]
    },
    {
     "name": "stderr",
     "output_type": "stream",
     "text": [
      "100%|█████████████████████████████████████████| 100/100 [00:20<00:00,  4.77it/s]\n"
     ]
    },
    {
     "name": "stdout",
     "output_type": "stream",
     "text": [
      "264개의 페이지에서 리뷰를 모으고 있습니다.\n"
     ]
    },
    {
     "name": "stderr",
     "output_type": "stream",
     "text": [
      "100%|█████████████████████████████████████████| 100/100 [00:18<00:00,  5.30it/s]\n"
     ]
    },
    {
     "name": "stdout",
     "output_type": "stream",
     "text": [
      "975개의 페이지에서 리뷰를 모으고 있습니다.\n"
     ]
    },
    {
     "name": "stderr",
     "output_type": "stream",
     "text": [
      "100%|█████████████████████████████████████████| 100/100 [00:21<00:00,  4.64it/s]\n"
     ]
    },
    {
     "name": "stdout",
     "output_type": "stream",
     "text": [
      "2127개의 페이지에서 리뷰를 모으고 있습니다.\n"
     ]
    },
    {
     "name": "stderr",
     "output_type": "stream",
     "text": [
      "100%|█████████████████████████████████████████| 100/100 [00:19<00:00,  5.17it/s]\n"
     ]
    },
    {
     "name": "stdout",
     "output_type": "stream",
     "text": [
      "2049개의 페이지에서 리뷰를 모으고 있습니다.\n"
     ]
    },
    {
     "name": "stderr",
     "output_type": "stream",
     "text": [
      "100%|█████████████████████████████████████████| 100/100 [00:21<00:00,  4.62it/s]\n"
     ]
    },
    {
     "name": "stdout",
     "output_type": "stream",
     "text": [
      "795개의 페이지에서 리뷰를 모으고 있습니다.\n"
     ]
    },
    {
     "name": "stderr",
     "output_type": "stream",
     "text": [
      "100%|█████████████████████████████████████████| 100/100 [00:18<00:00,  5.33it/s]\n"
     ]
    },
    {
     "name": "stdout",
     "output_type": "stream",
     "text": [
      "1555개의 페이지에서 리뷰를 모으고 있습니다.\n"
     ]
    },
    {
     "name": "stderr",
     "output_type": "stream",
     "text": [
      "100%|█████████████████████████████████████████| 100/100 [00:21<00:00,  4.63it/s]\n"
     ]
    },
    {
     "name": "stdout",
     "output_type": "stream",
     "text": [
      "2376개의 페이지에서 리뷰를 모으고 있습니다.\n"
     ]
    },
    {
     "name": "stderr",
     "output_type": "stream",
     "text": [
      "100%|█████████████████████████████████████████| 100/100 [00:19<00:00,  5.10it/s]\n"
     ]
    },
    {
     "name": "stdout",
     "output_type": "stream",
     "text": [
      "1969개의 페이지에서 리뷰를 모으고 있습니다.\n"
     ]
    },
    {
     "name": "stderr",
     "output_type": "stream",
     "text": [
      "100%|█████████████████████████████████████████| 100/100 [00:21<00:00,  4.58it/s]\n"
     ]
    },
    {
     "name": "stdout",
     "output_type": "stream",
     "text": [
      "797개의 페이지에서 리뷰를 모으고 있습니다.\n"
     ]
    },
    {
     "name": "stderr",
     "output_type": "stream",
     "text": [
      "100%|█████████████████████████████████████████| 100/100 [00:19<00:00,  5.24it/s]\n"
     ]
    },
    {
     "name": "stdout",
     "output_type": "stream",
     "text": [
      "948개의 페이지에서 리뷰를 모으고 있습니다.\n"
     ]
    },
    {
     "name": "stderr",
     "output_type": "stream",
     "text": [
      "100%|█████████████████████████████████████████| 100/100 [00:21<00:00,  4.60it/s]\n"
     ]
    },
    {
     "name": "stdout",
     "output_type": "stream",
     "text": [
      "341개의 페이지에서 리뷰를 모으고 있습니다.\n"
     ]
    },
    {
     "name": "stderr",
     "output_type": "stream",
     "text": [
      "100%|█████████████████████████████████████████| 100/100 [00:18<00:00,  5.26it/s]\n"
     ]
    },
    {
     "name": "stdout",
     "output_type": "stream",
     "text": [
      "901개의 페이지에서 리뷰를 모으고 있습니다.\n"
     ]
    },
    {
     "name": "stderr",
     "output_type": "stream",
     "text": [
      "100%|█████████████████████████████████████████| 100/100 [00:21<00:00,  4.68it/s]\n"
     ]
    },
    {
     "name": "stdout",
     "output_type": "stream",
     "text": [
      "667개의 페이지에서 리뷰를 모으고 있습니다.\n"
     ]
    },
    {
     "name": "stderr",
     "output_type": "stream",
     "text": [
      "100%|█████████████████████████████████████████| 100/100 [00:19<00:00,  5.25it/s]\n"
     ]
    },
    {
     "name": "stdout",
     "output_type": "stream",
     "text": [
      "453개의 페이지에서 리뷰를 모으고 있습니다.\n"
     ]
    },
    {
     "name": "stderr",
     "output_type": "stream",
     "text": [
      "100%|█████████████████████████████████████████| 100/100 [00:22<00:00,  4.46it/s]\n"
     ]
    },
    {
     "name": "stdout",
     "output_type": "stream",
     "text": [
      "401개의 페이지에서 리뷰를 모으고 있습니다.\n"
     ]
    },
    {
     "name": "stderr",
     "output_type": "stream",
     "text": [
      "100%|█████████████████████████████████████████| 100/100 [00:19<00:00,  5.21it/s]\n"
     ]
    },
    {
     "name": "stdout",
     "output_type": "stream",
     "text": [
      "285개의 페이지에서 리뷰를 모으고 있습니다.\n"
     ]
    },
    {
     "name": "stderr",
     "output_type": "stream",
     "text": [
      "100%|█████████████████████████████████████████| 100/100 [00:20<00:00,  4.79it/s]\n"
     ]
    },
    {
     "name": "stdout",
     "output_type": "stream",
     "text": [
      "157개의 페이지에서 리뷰를 모으고 있습니다.\n"
     ]
    },
    {
     "name": "stderr",
     "output_type": "stream",
     "text": [
      "100%|█████████████████████████████████████████| 100/100 [00:18<00:00,  5.38it/s]\n"
     ]
    },
    {
     "name": "stdout",
     "output_type": "stream",
     "text": [
      "345개의 페이지에서 리뷰를 모으고 있습니다.\n"
     ]
    },
    {
     "name": "stderr",
     "output_type": "stream",
     "text": [
      "100%|█████████████████████████████████████████| 100/100 [00:21<00:00,  4.71it/s]\n"
     ]
    },
    {
     "name": "stdout",
     "output_type": "stream",
     "text": [
      "454개의 페이지에서 리뷰를 모으고 있습니다.\n"
     ]
    },
    {
     "name": "stderr",
     "output_type": "stream",
     "text": [
      "100%|█████████████████████████████████████████| 100/100 [00:18<00:00,  5.27it/s]\n"
     ]
    },
    {
     "name": "stdout",
     "output_type": "stream",
     "text": [
      "307개의 페이지에서 리뷰를 모으고 있습니다.\n"
     ]
    },
    {
     "name": "stderr",
     "output_type": "stream",
     "text": [
      "100%|█████████████████████████████████████████| 100/100 [00:20<00:00,  4.86it/s]\n"
     ]
    },
    {
     "name": "stdout",
     "output_type": "stream",
     "text": [
      "231개의 페이지에서 리뷰를 모으고 있습니다.\n"
     ]
    },
    {
     "name": "stderr",
     "output_type": "stream",
     "text": [
      "100%|█████████████████████████████████████████| 100/100 [00:19<00:00,  5.17it/s]\n"
     ]
    },
    {
     "name": "stdout",
     "output_type": "stream",
     "text": [
      "340개의 페이지에서 리뷰를 모으고 있습니다.\n"
     ]
    },
    {
     "name": "stderr",
     "output_type": "stream",
     "text": [
      "100%|█████████████████████████████████████████| 100/100 [00:21<00:00,  4.74it/s]\n"
     ]
    },
    {
     "name": "stdout",
     "output_type": "stream",
     "text": [
      "482개의 페이지에서 리뷰를 모으고 있습니다.\n"
     ]
    },
    {
     "name": "stderr",
     "output_type": "stream",
     "text": [
      "100%|█████████████████████████████████████████| 100/100 [00:19<00:00,  5.21it/s]\n"
     ]
    },
    {
     "name": "stdout",
     "output_type": "stream",
     "text": [
      "177개의 페이지에서 리뷰를 모으고 있습니다.\n"
     ]
    },
    {
     "name": "stderr",
     "output_type": "stream",
     "text": [
      "100%|█████████████████████████████████████████| 100/100 [00:19<00:00,  5.00it/s]\n"
     ]
    },
    {
     "name": "stdout",
     "output_type": "stream",
     "text": [
      "270개의 페이지에서 리뷰를 모으고 있습니다.\n"
     ]
    },
    {
     "name": "stderr",
     "output_type": "stream",
     "text": [
      "100%|█████████████████████████████████████████| 100/100 [00:19<00:00,  5.16it/s]\n"
     ]
    },
    {
     "name": "stdout",
     "output_type": "stream",
     "text": [
      "22개의 페이지에서 리뷰를 모으고 있습니다.\n"
     ]
    },
    {
     "name": "stderr",
     "output_type": "stream",
     "text": [
      "100%|█████████████████████████████████████████| 100/100 [00:18<00:00,  5.46it/s]\n"
     ]
    },
    {
     "name": "stdout",
     "output_type": "stream",
     "text": [
      "387개의 페이지에서 리뷰를 모으고 있습니다.\n"
     ]
    },
    {
     "name": "stderr",
     "output_type": "stream",
     "text": [
      "100%|█████████████████████████████████████████| 100/100 [00:21<00:00,  4.57it/s]\n"
     ]
    },
    {
     "name": "stdout",
     "output_type": "stream",
     "text": [
      "180개의 페이지에서 리뷰를 모으고 있습니다.\n"
     ]
    },
    {
     "name": "stderr",
     "output_type": "stream",
     "text": [
      "100%|█████████████████████████████████████████| 100/100 [00:19<00:00,  5.23it/s]\n"
     ]
    },
    {
     "name": "stdout",
     "output_type": "stream",
     "text": [
      "337개의 페이지에서 리뷰를 모으고 있습니다.\n"
     ]
    },
    {
     "name": "stderr",
     "output_type": "stream",
     "text": [
      "100%|█████████████████████████████████████████| 100/100 [00:21<00:00,  4.72it/s]\n"
     ]
    },
    {
     "name": "stdout",
     "output_type": "stream",
     "text": [
      "236개의 페이지에서 리뷰를 모으고 있습니다.\n"
     ]
    },
    {
     "name": "stderr",
     "output_type": "stream",
     "text": [
      "100%|█████████████████████████████████████████| 100/100 [00:19<00:00,  5.22it/s]\n"
     ]
    },
    {
     "name": "stdout",
     "output_type": "stream",
     "text": [
      "850개의 페이지에서 리뷰를 모으고 있습니다.\n"
     ]
    },
    {
     "name": "stderr",
     "output_type": "stream",
     "text": [
      "100%|█████████████████████████████████████████| 100/100 [00:21<00:00,  4.66it/s]\n"
     ]
    },
    {
     "name": "stdout",
     "output_type": "stream",
     "text": [
      "29개의 페이지에서 리뷰를 모으고 있습니다.\n"
     ]
    },
    {
     "name": "stderr",
     "output_type": "stream",
     "text": [
      "100%|█████████████████████████████████████████| 100/100 [00:18<00:00,  5.37it/s]\n"
     ]
    },
    {
     "name": "stdout",
     "output_type": "stream",
     "text": [
      "362개의 페이지에서 리뷰를 모으고 있습니다.\n"
     ]
    },
    {
     "name": "stderr",
     "output_type": "stream",
     "text": [
      "100%|█████████████████████████████████████████| 100/100 [00:21<00:00,  4.65it/s]\n"
     ]
    },
    {
     "name": "stdout",
     "output_type": "stream",
     "text": [
      "163개의 페이지에서 리뷰를 모으고 있습니다.\n"
     ]
    },
    {
     "name": "stderr",
     "output_type": "stream",
     "text": [
      "100%|█████████████████████████████████████████| 100/100 [00:19<00:00,  5.17it/s]\n"
     ]
    },
    {
     "name": "stdout",
     "output_type": "stream",
     "text": [
      "433개의 페이지에서 리뷰를 모으고 있습니다.\n"
     ]
    },
    {
     "name": "stderr",
     "output_type": "stream",
     "text": [
      "100%|█████████████████████████████████████████| 100/100 [00:21<00:00,  4.72it/s]\n"
     ]
    },
    {
     "name": "stdout",
     "output_type": "stream",
     "text": [
      "324개의 페이지에서 리뷰를 모으고 있습니다.\n"
     ]
    },
    {
     "name": "stderr",
     "output_type": "stream",
     "text": [
      "100%|█████████████████████████████████████████| 100/100 [00:19<00:00,  5.19it/s]\n"
     ]
    },
    {
     "name": "stdout",
     "output_type": "stream",
     "text": [
      "441개의 페이지에서 리뷰를 모으고 있습니다.\n"
     ]
    },
    {
     "name": "stderr",
     "output_type": "stream",
     "text": [
      "100%|█████████████████████████████████████████| 100/100 [00:22<00:00,  4.52it/s]\n"
     ]
    },
    {
     "name": "stdout",
     "output_type": "stream",
     "text": [
      "69개의 페이지에서 리뷰를 모으고 있습니다.\n"
     ]
    },
    {
     "name": "stderr",
     "output_type": "stream",
     "text": [
      "100%|█████████████████████████████████████████| 100/100 [00:19<00:00,  5.25it/s]\n"
     ]
    },
    {
     "name": "stdout",
     "output_type": "stream",
     "text": [
      "270개의 페이지에서 리뷰를 모으고 있습니다.\n"
     ]
    },
    {
     "name": "stderr",
     "output_type": "stream",
     "text": [
      "100%|█████████████████████████████████████████| 100/100 [00:22<00:00,  4.47it/s]\n"
     ]
    }
   ],
   "source": [
    "for i, s in enumerate(url_list_22):\n",
    "    if s=='': continue\n",
    "    df = crawl_review(s)\n",
    "    df.to_csv(f'Data/review_2022/{i}_review.csv', encoding='utf-8')"
   ]
  },
  {
   "cell_type": "code",
   "execution_count": null,
   "id": "1835b67a-0b37-4a29-9751-8ec0c99062ea",
   "metadata": {},
   "outputs": [],
   "source": []
  }
 ],
 "metadata": {
  "kernelspec": {
   "display_name": "Python 3 (ipykernel)",
   "language": "python",
   "name": "python3"
  },
  "language_info": {
   "codemirror_mode": {
    "name": "ipython",
    "version": 3
   },
   "file_extension": ".py",
   "mimetype": "text/x-python",
   "name": "python",
   "nbconvert_exporter": "python",
   "pygments_lexer": "ipython3",
   "version": "3.9.16"
  }
 },
 "nbformat": 4,
 "nbformat_minor": 5
}
